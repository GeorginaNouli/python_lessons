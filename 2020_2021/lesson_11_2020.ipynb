{
 "cells": [
  {
   "cell_type": "code",
   "execution_count": 68,
   "metadata": {},
   "outputs": [],
   "source": [
    "import requests"
   ]
  },
  {
   "cell_type": "code",
   "execution_count": 2,
   "metadata": {},
   "outputs": [
    {
     "name": "stdout",
     "output_type": "stream",
     "text": [
      "Requirement already satisfied: requests in /Users/alexandroskanterakis/anaconda3/lib/python3.7/site-packages (2.19.1)\n",
      "Requirement already satisfied: chardet<3.1.0,>=3.0.2 in /Users/alexandroskanterakis/anaconda3/lib/python3.7/site-packages (from requests) (3.0.4)\n",
      "Requirement already satisfied: idna<2.8,>=2.5 in /Users/alexandroskanterakis/anaconda3/lib/python3.7/site-packages (from requests) (2.7)\n",
      "Requirement already satisfied: urllib3<1.24,>=1.21.1 in /Users/alexandroskanterakis/anaconda3/lib/python3.7/site-packages (from requests) (1.23)\n",
      "Requirement already satisfied: certifi>=2017.4.17 in /Users/alexandroskanterakis/anaconda3/lib/python3.7/site-packages (from requests) (2019.11.28)\n",
      "\u001b[33mWARNING: You are using pip version 20.1; however, version 20.3.3 is available.\n",
      "You should consider upgrading via the '/Users/alexandroskanterakis/anaconda3/bin/python -m pip install --upgrade pip' command.\u001b[0m\n"
     ]
    }
   ],
   "source": [
    "!pip install requests"
   ]
  },
  {
   "cell_type": "code",
   "execution_count": 4,
   "metadata": {},
   "outputs": [],
   "source": [
    "import requests\n",
    "\n",
    "url = \"https://rest.ensembl.org/vep/human/hgvs/AGT:c.803T>C?\"\n",
    " \n",
    "r = requests.get(url, headers={ \"Content-Type\" : \"application/json\"})\n",
    "\n",
    "#decoded = r.json()\n",
    "#print(repr(decoded))\n"
   ]
  },
  {
   "cell_type": "code",
   "execution_count": 7,
   "metadata": {},
   "outputs": [],
   "source": [
    "j = r.json()"
   ]
  },
  {
   "cell_type": "code",
   "execution_count": 8,
   "metadata": {},
   "outputs": [
    {
     "data": {
      "text/plain": [
       "[{'start': 230710048,\n",
       "  'assembly_name': 'GRCh38',\n",
       "  'strand': -1,\n",
       "  'seq_region_name': '1',\n",
       "  'allele_string': 'T/C',\n",
       "  'most_severe_consequence': 'missense_variant',\n",
       "  'transcript_consequences': [{'cds_start': 803,\n",
       "    'impact': 'MODERATE',\n",
       "    'hgnc_id': 'HGNC:333',\n",
       "    'amino_acids': 'M/T',\n",
       "    'codons': 'aTg/aCg',\n",
       "    'cdna_end': 843,\n",
       "    'gene_symbol_source': 'HGNC',\n",
       "    'consequence_terms': ['missense_variant'],\n",
       "    'cdna_start': 843,\n",
       "    'strand': -1,\n",
       "    'transcript_id': 'ENST00000366667',\n",
       "    'variant_allele': 'C',\n",
       "    'gene_id': 'ENSG00000135744',\n",
       "    'biotype': 'protein_coding',\n",
       "    'sift_prediction': 'tolerated',\n",
       "    'polyphen_score': 0,\n",
       "    'protein_start': 268,\n",
       "    'polyphen_prediction': 'benign',\n",
       "    'gene_symbol': 'AGT',\n",
       "    'protein_end': 268,\n",
       "    'cds_end': 803,\n",
       "    'sift_score': 1},\n",
       "   {'distance': 650,\n",
       "    'strand': -1,\n",
       "    'impact': 'MODIFIER',\n",
       "    'gene_id': 'ENSG00000244137',\n",
       "    'variant_allele': 'C',\n",
       "    'transcript_id': 'ENST00000412344',\n",
       "    'gene_symbol_source': 'Clone_based_ensembl_gene',\n",
       "    'biotype': 'lncRNA',\n",
       "    'gene_symbol': 'AL512328.1',\n",
       "    'consequence_terms': ['downstream_gene_variant']}],\n",
       "  'colocated_variants': [{'start': 230710048,\n",
       "    'strand': 1,\n",
       "    'phenotype_or_disease': 1,\n",
       "    'seq_region_name': '1',\n",
       "    'end': 230710048,\n",
       "    'id': 'CM920010',\n",
       "    'allele_string': 'HGMD_MUTATION'},\n",
       "   {'seq_region_name': '1',\n",
       "    'frequencies': {'C': {'gnomad_amr': 0.7196,\n",
       "      'eas': 0.8532,\n",
       "      'eur': 0.4115,\n",
       "      'gnomad': 0.5481,\n",
       "      'aa': 0.8268,\n",
       "      'gnomad_eas': 0.8388,\n",
       "      'ea': 0.4258,\n",
       "      'afr': 0.9032,\n",
       "      'gnomad_nfe': 0.4197,\n",
       "      'sas': 0.636,\n",
       "      'gnomad_afr': 0.8451,\n",
       "      'gnomad_fin': 0.441,\n",
       "      'gnomad_sas': 0.6202,\n",
       "      'gnomad_oth': 0.5002,\n",
       "      'gnomad_asj': 0.44,\n",
       "      'amr': 0.6354}},\n",
       "    'start': 230710048,\n",
       "    'strand': 1,\n",
       "    'var_synonyms': 'ClinVar::RCV000835695,RCV000405686,VCV000018068,RCV000019691,RCV000019692,RCV000019693,RCV000242838--OMIM::106150.0001--PharmGKB::PA166153539--Uniprot::VAR_007096',\n",
       "    'allele_string': 'A/G',\n",
       "    'clin_sig': ['benign', 'risk_factor'],\n",
       "    'end': 230710048,\n",
       "    'clin_sig_allele': 'G:benign;G:risk_factor',\n",
       "    'phenotype_or_disease': 1,\n",
       "    'pubmed': [19131662,\n",
       "     19263529,\n",
       "     19330901,\n",
       "     19559392,\n",
       "     21919968,\n",
       "     27616475,\n",
       "     25741868,\n",
       "     21467728,\n",
       "     1394429,\n",
       "     7649545,\n",
       "     7883995,\n",
       "     8348146,\n",
       "     8513325,\n",
       "     8518804,\n",
       "     9259580,\n",
       "     9421481,\n",
       "     9831339,\n",
       "     16059745,\n",
       "     18069999,\n",
       "     18248681,\n",
       "     18279468,\n",
       "     18513389,\n",
       "     18603647,\n",
       "     18637188,\n",
       "     18653189,\n",
       "     18698212,\n",
       "     18953568,\n",
       "     19108684,\n",
       "     19770777,\n",
       "     19932491,\n",
       "     20029521,\n",
       "     20047954,\n",
       "     20061926,\n",
       "     20185782,\n",
       "     20486282,\n",
       "     20570668,\n",
       "     20577119,\n",
       "     20592051,\n",
       "     20811292,\n",
       "     20981351,\n",
       "     21056700,\n",
       "     21058046,\n",
       "     21127830,\n",
       "     21146954,\n",
       "     21261619,\n",
       "     21304999,\n",
       "     21306748,\n",
       "     21438754,\n",
       "     21444836,\n",
       "     21515823,\n",
       "     21533139,\n",
       "     21540342,\n",
       "     21573014,\n",
       "     21681796,\n",
       "     21894447,\n",
       "     21988197,\n",
       "     22099458,\n",
       "     22100073,\n",
       "     22531885,\n",
       "     22569109,\n",
       "     22817530,\n",
       "     22858200,\n",
       "     23021345,\n",
       "     23036011,\n",
       "     23132613,\n",
       "     23133444,\n",
       "     23205182,\n",
       "     23251296,\n",
       "     23287839,\n",
       "     23333443,\n",
       "     23354977,\n",
       "     23497168,\n",
       "     23681449,\n",
       "     23716723,\n",
       "     24452035,\n",
       "     24622918,\n",
       "     24722536,\n",
       "     24737640,\n",
       "     25474356,\n",
       "     25512783,\n",
       "     25683681,\n",
       "     25723521,\n",
       "     26102248,\n",
       "     26283679,\n",
       "     26318936,\n",
       "     26335431,\n",
       "     26509357,\n",
       "     26588355,\n",
       "     26621708,\n",
       "     26627480,\n",
       "     26818744,\n",
       "     26819062,\n",
       "     26824906,\n",
       "     26933222,\n",
       "     27068935,\n",
       "     27274104,\n",
       "     27342049,\n",
       "     27348238,\n",
       "     27380726,\n",
       "     27454254,\n",
       "     27480094,\n",
       "     27584680,\n",
       "     27940662,\n",
       "     28361007,\n",
       "     28488548,\n",
       "     28605058,\n",
       "     28666769,\n",
       "     28690685,\n",
       "     28770234,\n",
       "     28828324,\n",
       "     28881807,\n",
       "     28903744,\n",
       "     29057680,\n",
       "     29520984,\n",
       "     2957843],\n",
       "    'minor_allele': 'A',\n",
       "    'minor_allele_freq': 0.2949,\n",
       "    'id': 'rs699'}],\n",
       "  'end': 230710048,\n",
       "  'id': 'AGT:c.803T>C',\n",
       "  'input': 'AGT:c.803T>C'}]"
      ]
     },
     "execution_count": 8,
     "metadata": {},
     "output_type": "execute_result"
    }
   ],
   "source": [
    "j"
   ]
  },
  {
   "cell_type": "code",
   "execution_count": 9,
   "metadata": {},
   "outputs": [],
   "source": [
    "a = [1,2,3, {'aa': 'asdasD', '1': {'BBB': [1,2,3,2,1,1]}},]"
   ]
  },
  {
   "cell_type": "code",
   "execution_count": 10,
   "metadata": {},
   "outputs": [
    {
     "data": {
      "text/plain": [
       "[1, 2, 3, {'aa': 'asdasD', '1': {'BBB': [1, 2, 3, 2, 1, 1]}}]"
      ]
     },
     "execution_count": 10,
     "metadata": {},
     "output_type": "execute_result"
    }
   ],
   "source": [
    "a"
   ]
  },
  {
   "cell_type": "markdown",
   "metadata": {},
   "source": [
    "### Serialization"
   ]
  },
  {
   "cell_type": "code",
   "execution_count": 11,
   "metadata": {},
   "outputs": [],
   "source": [
    "import json\n"
   ]
  },
  {
   "cell_type": "code",
   "execution_count": 12,
   "metadata": {},
   "outputs": [
    {
     "data": {
      "text/plain": [
       "'[1, 2, 3, {\"aa\": \"asdasD\", \"1\": {\"BBB\": [1, 2, 3, 2, 1, 1]}}]'"
      ]
     },
     "execution_count": 12,
     "metadata": {},
     "output_type": "execute_result"
    }
   ],
   "source": [
    "json.dumps(a)"
   ]
  },
  {
   "cell_type": "code",
   "execution_count": 13,
   "metadata": {},
   "outputs": [
    {
     "data": {
      "text/plain": [
       "str"
      ]
     },
     "execution_count": 13,
     "metadata": {},
     "output_type": "execute_result"
    }
   ],
   "source": [
    "type(json.dumps(a))"
   ]
  },
  {
   "cell_type": "code",
   "execution_count": 14,
   "metadata": {},
   "outputs": [],
   "source": [
    "with open('data.json', 'w') as f:\n",
    "    json.dump(a, f)"
   ]
  },
  {
   "cell_type": "code",
   "execution_count": 15,
   "metadata": {},
   "outputs": [
    {
     "name": "stdout",
     "output_type": "stream",
     "text": [
      "[1, 2, 3, {\"aa\": \"asdasD\", \"1\": {\"BBB\": [1, 2, 3, 2, 1, 1]}}]"
     ]
    }
   ],
   "source": [
    "!cat data.json"
   ]
  },
  {
   "cell_type": "code",
   "execution_count": 16,
   "metadata": {},
   "outputs": [],
   "source": [
    "with open('data.json') as f:\n",
    "    b = json.load(f)"
   ]
  },
  {
   "cell_type": "code",
   "execution_count": 18,
   "metadata": {},
   "outputs": [
    {
     "data": {
      "text/plain": [
       "[1, 2, 3, {'aa': 'asdasD', '1': {'BBB': [1, 2, 3, 2, 1, 1]}}]"
      ]
     },
     "execution_count": 18,
     "metadata": {},
     "output_type": "execute_result"
    }
   ],
   "source": [
    "b"
   ]
  },
  {
   "cell_type": "code",
   "execution_count": 19,
   "metadata": {},
   "outputs": [
    {
     "data": {
      "text/plain": [
       "list"
      ]
     },
     "execution_count": 19,
     "metadata": {},
     "output_type": "execute_result"
    }
   ],
   "source": [
    "type(b)"
   ]
  },
  {
   "cell_type": "code",
   "execution_count": 20,
   "metadata": {},
   "outputs": [],
   "source": [
    "a_str = json.dumps(a)"
   ]
  },
  {
   "cell_type": "code",
   "execution_count": 21,
   "metadata": {},
   "outputs": [
    {
     "data": {
      "text/plain": [
       "'[1, 2, 3, {\"aa\": \"asdasD\", \"1\": {\"BBB\": [1, 2, 3, 2, 1, 1]}}]'"
      ]
     },
     "execution_count": 21,
     "metadata": {},
     "output_type": "execute_result"
    }
   ],
   "source": [
    "a_str"
   ]
  },
  {
   "cell_type": "code",
   "execution_count": 22,
   "metadata": {},
   "outputs": [],
   "source": [
    "b = json.loads(a_str)"
   ]
  },
  {
   "cell_type": "code",
   "execution_count": 25,
   "metadata": {},
   "outputs": [
    {
     "data": {
      "text/plain": [
       "[1, 2, 3, {'aa': 'asdasD', '1': {'BBB': [1, 2, 3, 2, 1, 1]}}]"
      ]
     },
     "execution_count": 25,
     "metadata": {},
     "output_type": "execute_result"
    }
   ],
   "source": [
    "b"
   ]
  },
  {
   "cell_type": "code",
   "execution_count": 29,
   "metadata": {},
   "outputs": [],
   "source": [
    "s = {4,5,6,7}"
   ]
  },
  {
   "cell_type": "code",
   "execution_count": 30,
   "metadata": {},
   "outputs": [
    {
     "ename": "TypeError",
     "evalue": "Object of type set is not JSON serializable",
     "output_type": "error",
     "traceback": [
      "\u001b[0;31m---------------------------------------------------------------------------\u001b[0m",
      "\u001b[0;31mTypeError\u001b[0m                                 Traceback (most recent call last)",
      "\u001b[0;32m<ipython-input-30-eb8174a6fbaa>\u001b[0m in \u001b[0;36m<module>\u001b[0;34m()\u001b[0m\n\u001b[0;32m----> 1\u001b[0;31m \u001b[0mjson\u001b[0m\u001b[0;34m.\u001b[0m\u001b[0mdumps\u001b[0m\u001b[0;34m(\u001b[0m\u001b[0ms\u001b[0m\u001b[0;34m)\u001b[0m\u001b[0;34m\u001b[0m\u001b[0m\n\u001b[0m",
      "\u001b[0;32m~/anaconda3/lib/python3.7/json/__init__.py\u001b[0m in \u001b[0;36mdumps\u001b[0;34m(obj, skipkeys, ensure_ascii, check_circular, allow_nan, cls, indent, separators, default, sort_keys, **kw)\u001b[0m\n\u001b[1;32m    229\u001b[0m         \u001b[0mcls\u001b[0m \u001b[0;32mis\u001b[0m \u001b[0;32mNone\u001b[0m \u001b[0;32mand\u001b[0m \u001b[0mindent\u001b[0m \u001b[0;32mis\u001b[0m \u001b[0;32mNone\u001b[0m \u001b[0;32mand\u001b[0m \u001b[0mseparators\u001b[0m \u001b[0;32mis\u001b[0m \u001b[0;32mNone\u001b[0m \u001b[0;32mand\u001b[0m\u001b[0;34m\u001b[0m\u001b[0m\n\u001b[1;32m    230\u001b[0m         default is None and not sort_keys and not kw):\n\u001b[0;32m--> 231\u001b[0;31m         \u001b[0;32mreturn\u001b[0m \u001b[0m_default_encoder\u001b[0m\u001b[0;34m.\u001b[0m\u001b[0mencode\u001b[0m\u001b[0;34m(\u001b[0m\u001b[0mobj\u001b[0m\u001b[0;34m)\u001b[0m\u001b[0;34m\u001b[0m\u001b[0m\n\u001b[0m\u001b[1;32m    232\u001b[0m     \u001b[0;32mif\u001b[0m \u001b[0mcls\u001b[0m \u001b[0;32mis\u001b[0m \u001b[0;32mNone\u001b[0m\u001b[0;34m:\u001b[0m\u001b[0;34m\u001b[0m\u001b[0m\n\u001b[1;32m    233\u001b[0m         \u001b[0mcls\u001b[0m \u001b[0;34m=\u001b[0m \u001b[0mJSONEncoder\u001b[0m\u001b[0;34m\u001b[0m\u001b[0m\n",
      "\u001b[0;32m~/anaconda3/lib/python3.7/json/encoder.py\u001b[0m in \u001b[0;36mencode\u001b[0;34m(self, o)\u001b[0m\n\u001b[1;32m    197\u001b[0m         \u001b[0;31m# exceptions aren't as detailed.  The list call should be roughly\u001b[0m\u001b[0;34m\u001b[0m\u001b[0;34m\u001b[0m\u001b[0m\n\u001b[1;32m    198\u001b[0m         \u001b[0;31m# equivalent to the PySequence_Fast that ''.join() would do.\u001b[0m\u001b[0;34m\u001b[0m\u001b[0;34m\u001b[0m\u001b[0m\n\u001b[0;32m--> 199\u001b[0;31m         \u001b[0mchunks\u001b[0m \u001b[0;34m=\u001b[0m \u001b[0mself\u001b[0m\u001b[0;34m.\u001b[0m\u001b[0miterencode\u001b[0m\u001b[0;34m(\u001b[0m\u001b[0mo\u001b[0m\u001b[0;34m,\u001b[0m \u001b[0m_one_shot\u001b[0m\u001b[0;34m=\u001b[0m\u001b[0;32mTrue\u001b[0m\u001b[0;34m)\u001b[0m\u001b[0;34m\u001b[0m\u001b[0m\n\u001b[0m\u001b[1;32m    200\u001b[0m         \u001b[0;32mif\u001b[0m \u001b[0;32mnot\u001b[0m \u001b[0misinstance\u001b[0m\u001b[0;34m(\u001b[0m\u001b[0mchunks\u001b[0m\u001b[0;34m,\u001b[0m \u001b[0;34m(\u001b[0m\u001b[0mlist\u001b[0m\u001b[0;34m,\u001b[0m \u001b[0mtuple\u001b[0m\u001b[0;34m)\u001b[0m\u001b[0;34m)\u001b[0m\u001b[0;34m:\u001b[0m\u001b[0;34m\u001b[0m\u001b[0m\n\u001b[1;32m    201\u001b[0m             \u001b[0mchunks\u001b[0m \u001b[0;34m=\u001b[0m \u001b[0mlist\u001b[0m\u001b[0;34m(\u001b[0m\u001b[0mchunks\u001b[0m\u001b[0;34m)\u001b[0m\u001b[0;34m\u001b[0m\u001b[0m\n",
      "\u001b[0;32m~/anaconda3/lib/python3.7/json/encoder.py\u001b[0m in \u001b[0;36miterencode\u001b[0;34m(self, o, _one_shot)\u001b[0m\n\u001b[1;32m    255\u001b[0m                 \u001b[0mself\u001b[0m\u001b[0;34m.\u001b[0m\u001b[0mkey_separator\u001b[0m\u001b[0;34m,\u001b[0m \u001b[0mself\u001b[0m\u001b[0;34m.\u001b[0m\u001b[0mitem_separator\u001b[0m\u001b[0;34m,\u001b[0m \u001b[0mself\u001b[0m\u001b[0;34m.\u001b[0m\u001b[0msort_keys\u001b[0m\u001b[0;34m,\u001b[0m\u001b[0;34m\u001b[0m\u001b[0m\n\u001b[1;32m    256\u001b[0m                 self.skipkeys, _one_shot)\n\u001b[0;32m--> 257\u001b[0;31m         \u001b[0;32mreturn\u001b[0m \u001b[0m_iterencode\u001b[0m\u001b[0;34m(\u001b[0m\u001b[0mo\u001b[0m\u001b[0;34m,\u001b[0m \u001b[0;36m0\u001b[0m\u001b[0;34m)\u001b[0m\u001b[0;34m\u001b[0m\u001b[0m\n\u001b[0m\u001b[1;32m    258\u001b[0m \u001b[0;34m\u001b[0m\u001b[0m\n\u001b[1;32m    259\u001b[0m def _make_iterencode(markers, _default, _encoder, _indent, _floatstr,\n",
      "\u001b[0;32m~/anaconda3/lib/python3.7/json/encoder.py\u001b[0m in \u001b[0;36mdefault\u001b[0;34m(self, o)\u001b[0m\n\u001b[1;32m    177\u001b[0m \u001b[0;34m\u001b[0m\u001b[0m\n\u001b[1;32m    178\u001b[0m         \"\"\"\n\u001b[0;32m--> 179\u001b[0;31m         raise TypeError(f'Object of type {o.__class__.__name__} '\n\u001b[0m\u001b[1;32m    180\u001b[0m                         f'is not JSON serializable')\n\u001b[1;32m    181\u001b[0m \u001b[0;34m\u001b[0m\u001b[0m\n",
      "\u001b[0;31mTypeError\u001b[0m: Object of type set is not JSON serializable"
     ]
    }
   ],
   "source": [
    "json.dumps(s)"
   ]
  },
  {
   "cell_type": "code",
   "execution_count": 28,
   "metadata": {},
   "outputs": [],
   "source": [
    "import pickle"
   ]
  },
  {
   "cell_type": "code",
   "execution_count": 31,
   "metadata": {},
   "outputs": [
    {
     "data": {
      "text/plain": [
       "b'\\x80\\x03cbuiltins\\nset\\nq\\x00]q\\x01(K\\x04K\\x05K\\x06K\\x07e\\x85q\\x02Rq\\x03.'"
      ]
     },
     "execution_count": 31,
     "metadata": {},
     "output_type": "execute_result"
    }
   ],
   "source": [
    "pickle.dumps(s)"
   ]
  },
  {
   "cell_type": "code",
   "execution_count": 32,
   "metadata": {},
   "outputs": [],
   "source": [
    "def f():\n",
    "    print (\"hello\")\n",
    "    return 42"
   ]
  },
  {
   "cell_type": "code",
   "execution_count": 34,
   "metadata": {},
   "outputs": [
    {
     "data": {
      "text/plain": [
       "b'\\x80\\x03c__main__\\nf\\nq\\x00.'"
      ]
     },
     "execution_count": 34,
     "metadata": {},
     "output_type": "execute_result"
    }
   ],
   "source": [
    "pickle.dumps(f)"
   ]
  },
  {
   "cell_type": "code",
   "execution_count": 36,
   "metadata": {},
   "outputs": [],
   "source": [
    "a.append(f)"
   ]
  },
  {
   "cell_type": "code",
   "execution_count": 37,
   "metadata": {},
   "outputs": [
    {
     "data": {
      "text/plain": [
       "[1,\n",
       " 2,\n",
       " 3,\n",
       " {'aa': 'asdasD', '1': {'BBB': [1, 2, 3, 2, 1, 1]}},\n",
       " <function __main__.f()>]"
      ]
     },
     "execution_count": 37,
     "metadata": {},
     "output_type": "execute_result"
    }
   ],
   "source": [
    "a"
   ]
  },
  {
   "cell_type": "code",
   "execution_count": 38,
   "metadata": {},
   "outputs": [
    {
     "data": {
      "text/plain": [
       "b'\\x80\\x03]q\\x00(K\\x01K\\x02K\\x03}q\\x01(X\\x02\\x00\\x00\\x00aaq\\x02X\\x06\\x00\\x00\\x00asdasDq\\x03X\\x01\\x00\\x00\\x001q\\x04}q\\x05X\\x03\\x00\\x00\\x00BBBq\\x06]q\\x07(K\\x01K\\x02K\\x03K\\x02K\\x01K\\x01esuc__main__\\nf\\nq\\x08e.'"
      ]
     },
     "execution_count": 38,
     "metadata": {},
     "output_type": "execute_result"
    }
   ],
   "source": [
    "pickle.dumps(a)"
   ]
  },
  {
   "cell_type": "code",
   "execution_count": 42,
   "metadata": {},
   "outputs": [],
   "source": [
    "with open('data.pickle', 'wb') as f2:\n",
    "    pickle.dump(a[:-1], f2)"
   ]
  },
  {
   "cell_type": "code",
   "execution_count": null,
   "metadata": {},
   "outputs": [],
   "source": []
  },
  {
   "cell_type": "code",
   "execution_count": 43,
   "metadata": {},
   "outputs": [],
   "source": [
    "url = \"https://rest.ensembl.org/vep/human/hgvs/AGT:c.803T>C?\"\n",
    " \n",
    "r = requests.get(url, headers={ \"Content-Type\" : \"application/json\"})\n"
   ]
  },
  {
   "cell_type": "code",
   "execution_count": 44,
   "metadata": {},
   "outputs": [
    {
     "data": {
      "text/plain": [
       "True"
      ]
     },
     "execution_count": 44,
     "metadata": {},
     "output_type": "execute_result"
    }
   ],
   "source": [
    "r.ok"
   ]
  },
  {
   "cell_type": "code",
   "execution_count": 45,
   "metadata": {},
   "outputs": [],
   "source": [
    "data = r.json()"
   ]
  },
  {
   "cell_type": "code",
   "execution_count": 46,
   "metadata": {},
   "outputs": [
    {
     "data": {
      "text/plain": [
       "[{'end': 230710048,\n",
       "  'strand': -1,\n",
       "  'assembly_name': 'GRCh38',\n",
       "  'colocated_variants': [{'end': 230710048,\n",
       "    'seq_region_name': '1',\n",
       "    'allele_string': 'HGMD_MUTATION',\n",
       "    'start': 230710048,\n",
       "    'strand': 1,\n",
       "    'id': 'CM920010',\n",
       "    'phenotype_or_disease': 1},\n",
       "   {'strand': 1,\n",
       "    'frequencies': {'C': {'gnomad_oth': 0.5002,\n",
       "      'gnomad_asj': 0.44,\n",
       "      'gnomad': 0.5481,\n",
       "      'gnomad_afr': 0.8451,\n",
       "      'gnomad_amr': 0.7196,\n",
       "      'aa': 0.8268,\n",
       "      'gnomad_eas': 0.8388,\n",
       "      'amr': 0.6354,\n",
       "      'afr': 0.9032,\n",
       "      'eur': 0.4115,\n",
       "      'sas': 0.636,\n",
       "      'gnomad_sas': 0.6202,\n",
       "      'gnomad_fin': 0.441,\n",
       "      'gnomad_nfe': 0.4197,\n",
       "      'eas': 0.8532,\n",
       "      'ea': 0.4258}},\n",
       "    'allele_string': 'A/G',\n",
       "    'minor_allele': 'A',\n",
       "    'end': 230710048,\n",
       "    'minor_allele_freq': 0.2949,\n",
       "    'pubmed': [19131662,\n",
       "     19263529,\n",
       "     19330901,\n",
       "     19559392,\n",
       "     21919968,\n",
       "     27616475,\n",
       "     25741868,\n",
       "     21467728,\n",
       "     1394429,\n",
       "     7649545,\n",
       "     7883995,\n",
       "     8348146,\n",
       "     8513325,\n",
       "     8518804,\n",
       "     9259580,\n",
       "     9421481,\n",
       "     9831339,\n",
       "     16059745,\n",
       "     18069999,\n",
       "     18248681,\n",
       "     18279468,\n",
       "     18513389,\n",
       "     18603647,\n",
       "     18637188,\n",
       "     18653189,\n",
       "     18698212,\n",
       "     18953568,\n",
       "     19108684,\n",
       "     19770777,\n",
       "     19932491,\n",
       "     20029521,\n",
       "     20047954,\n",
       "     20061926,\n",
       "     20185782,\n",
       "     20486282,\n",
       "     20570668,\n",
       "     20577119,\n",
       "     20592051,\n",
       "     20811292,\n",
       "     20981351,\n",
       "     21056700,\n",
       "     21058046,\n",
       "     21127830,\n",
       "     21146954,\n",
       "     21261619,\n",
       "     21304999,\n",
       "     21306748,\n",
       "     21438754,\n",
       "     21444836,\n",
       "     21515823,\n",
       "     21533139,\n",
       "     21540342,\n",
       "     21573014,\n",
       "     21681796,\n",
       "     21894447,\n",
       "     21988197,\n",
       "     22099458,\n",
       "     22100073,\n",
       "     22531885,\n",
       "     22569109,\n",
       "     22817530,\n",
       "     22858200,\n",
       "     23021345,\n",
       "     23036011,\n",
       "     23132613,\n",
       "     23133444,\n",
       "     23205182,\n",
       "     23251296,\n",
       "     23287839,\n",
       "     23333443,\n",
       "     23354977,\n",
       "     23497168,\n",
       "     23681449,\n",
       "     23716723,\n",
       "     24452035,\n",
       "     24622918,\n",
       "     24722536,\n",
       "     24737640,\n",
       "     25474356,\n",
       "     25512783,\n",
       "     25683681,\n",
       "     25723521,\n",
       "     26102248,\n",
       "     26283679,\n",
       "     26318936,\n",
       "     26335431,\n",
       "     26509357,\n",
       "     26588355,\n",
       "     26621708,\n",
       "     26627480,\n",
       "     26818744,\n",
       "     26819062,\n",
       "     26824906,\n",
       "     26933222,\n",
       "     27068935,\n",
       "     27274104,\n",
       "     27342049,\n",
       "     27348238,\n",
       "     27380726,\n",
       "     27454254,\n",
       "     27480094,\n",
       "     27584680,\n",
       "     27940662,\n",
       "     28361007,\n",
       "     28488548,\n",
       "     28605058,\n",
       "     28666769,\n",
       "     28690685,\n",
       "     28770234,\n",
       "     28828324,\n",
       "     28881807,\n",
       "     28903744,\n",
       "     29057680,\n",
       "     29520984,\n",
       "     2957843],\n",
       "    'id': 'rs699',\n",
       "    'clin_sig_allele': 'G:benign;G:risk_factor',\n",
       "    'phenotype_or_disease': 1,\n",
       "    'seq_region_name': '1',\n",
       "    'start': 230710048,\n",
       "    'clin_sig': ['benign', 'risk_factor'],\n",
       "    'var_synonyms': 'ClinVar::RCV000835695,RCV000405686,VCV000018068,RCV000019691,RCV000019692,RCV000019693,RCV000242838--OMIM::106150.0001--PharmGKB::PA166153539--Uniprot::VAR_007096'}],\n",
       "  'seq_region_name': '1',\n",
       "  'id': 'AGT:c.803T>C',\n",
       "  'transcript_consequences': [{'polyphen_prediction': 'benign',\n",
       "    'sift_score': 1,\n",
       "    'variant_allele': 'C',\n",
       "    'sift_prediction': 'tolerated',\n",
       "    'amino_acids': 'M/T',\n",
       "    'biotype': 'protein_coding',\n",
       "    'impact': 'MODERATE',\n",
       "    'gene_id': 'ENSG00000135744',\n",
       "    'transcript_id': 'ENST00000366667',\n",
       "    'hgnc_id': 'HGNC:333',\n",
       "    'protein_end': 268,\n",
       "    'gene_symbol_source': 'HGNC',\n",
       "    'strand': -1,\n",
       "    'cdna_start': 843,\n",
       "    'cds_start': 803,\n",
       "    'cdna_end': 843,\n",
       "    'gene_symbol': 'AGT',\n",
       "    'codons': 'aTg/aCg',\n",
       "    'polyphen_score': 0,\n",
       "    'consequence_terms': ['missense_variant'],\n",
       "    'protein_start': 268,\n",
       "    'cds_end': 803},\n",
       "   {'distance': 650,\n",
       "    'consequence_terms': ['downstream_gene_variant'],\n",
       "    'transcript_id': 'ENST00000412344',\n",
       "    'gene_id': 'ENSG00000244137',\n",
       "    'gene_symbol': 'AL512328.1',\n",
       "    'impact': 'MODIFIER',\n",
       "    'biotype': 'lncRNA',\n",
       "    'variant_allele': 'C',\n",
       "    'gene_symbol_source': 'Clone_based_ensembl_gene',\n",
       "    'strand': -1}],\n",
       "  'input': 'AGT:c.803T>C',\n",
       "  'allele_string': 'T/C',\n",
       "  'start': 230710048,\n",
       "  'most_severe_consequence': 'missense_variant'}]"
      ]
     },
     "execution_count": 46,
     "metadata": {},
     "output_type": "execute_result"
    }
   ],
   "source": [
    "data"
   ]
  },
  {
   "cell_type": "code",
   "execution_count": 55,
   "metadata": {},
   "outputs": [],
   "source": [
    "url = \"https://rest.ensembl.org/vep/human/hgvs/AGT:c.803T>C?\"\n",
    " \n",
    "r = requests.get(url, headers={ \"Content-Type\" : \"application/json\"})"
   ]
  },
  {
   "cell_type": "code",
   "execution_count": 51,
   "metadata": {},
   "outputs": [
    {
     "data": {
      "text/plain": [
       "False"
      ]
     },
     "execution_count": 51,
     "metadata": {},
     "output_type": "execute_result"
    }
   ],
   "source": [
    "r.ok"
   ]
  },
  {
   "cell_type": "code",
   "execution_count": 52,
   "metadata": {},
   "outputs": [
    {
     "data": {
      "text/plain": [
       "{'error': \"Unable to parse HGVS notation 'AGTAAA:c.803T>C': Could not get a Transcript object for 'AGTAAA'\"}"
      ]
     },
     "execution_count": 52,
     "metadata": {},
     "output_type": "execute_result"
    }
   ],
   "source": [
    "r.json()"
   ]
  },
  {
   "cell_type": "code",
   "execution_count": 53,
   "metadata": {},
   "outputs": [
    {
     "data": {
      "text/plain": [
       "'{\"error\":\"Unable to parse HGVS notation \\'AGTAAA:c.803T>C\\': Could not get a Transcript object for \\'AGTAAA\\'\"}'"
      ]
     },
     "execution_count": 53,
     "metadata": {},
     "output_type": "execute_result"
    }
   ],
   "source": [
    "r.text"
   ]
  },
  {
   "cell_type": "code",
   "execution_count": 54,
   "metadata": {},
   "outputs": [
    {
     "data": {
      "text/plain": [
       "{'error': \"Unable to parse HGVS notation 'AGTAAA:c.803T>C': Could not get a Transcript object for 'AGTAAA'\"}"
      ]
     },
     "execution_count": 54,
     "metadata": {},
     "output_type": "execute_result"
    }
   ],
   "source": [
    "json.loads(r.text) # r.json()"
   ]
  },
  {
   "cell_type": "code",
   "execution_count": null,
   "metadata": {},
   "outputs": [],
   "source": []
  },
  {
   "cell_type": "code",
   "execution_count": 56,
   "metadata": {},
   "outputs": [],
   "source": [
    "import requests, sys\n",
    " \n",
    "url = \"https://rest.ensembl.org/vep/human/hgvs\"\n",
    "headers={ \"Content-Type\" : \"application/json\", \"Accept\" : \"application/json\"}\n",
    "\n",
    "data={ \"hgvs_notations\" : [\"AGT:c.803T>C\", \"9:g.22125504G>C\" ] }\n",
    "\n",
    "r = requests.post(url, headers=headers, data=json.dumps(data))\n",
    " \n"
   ]
  },
  {
   "cell_type": "code",
   "execution_count": 57,
   "metadata": {},
   "outputs": [
    {
     "data": {
      "text/plain": [
       "True"
      ]
     },
     "execution_count": 57,
     "metadata": {},
     "output_type": "execute_result"
    }
   ],
   "source": [
    "r.ok"
   ]
  },
  {
   "cell_type": "code",
   "execution_count": 58,
   "metadata": {},
   "outputs": [],
   "source": [
    "d = r.json()"
   ]
  },
  {
   "cell_type": "code",
   "execution_count": 60,
   "metadata": {},
   "outputs": [
    {
     "data": {
      "text/plain": [
       "2"
      ]
     },
     "execution_count": 60,
     "metadata": {},
     "output_type": "execute_result"
    }
   ],
   "source": [
    "len(d)"
   ]
  },
  {
   "cell_type": "code",
   "execution_count": 66,
   "metadata": {},
   "outputs": [
    {
     "data": {
      "text/plain": [
       "'AGT'"
      ]
     },
     "execution_count": 66,
     "metadata": {},
     "output_type": "execute_result"
    }
   ],
   "source": [
    "d[0]['transcript_consequences'][0]['gene_symbol']"
   ]
  },
  {
   "cell_type": "code",
   "execution_count": 67,
   "metadata": {},
   "outputs": [
    {
     "name": "stdout",
     "output_type": "stream",
     "text": [
      "AGT\n",
      "AL512328.1\n",
      "CDKN2B-AS1\n",
      "CDKN2B-AS1\n",
      "CDKN2B-AS1\n",
      "CDKN2B-AS1\n",
      "CDKN2B-AS1\n",
      "CDKN2B-AS1\n",
      "CDKN2B-AS1\n",
      "CDKN2B-AS1\n",
      "CDKN2B-AS1\n",
      "CDKN2B-AS1\n",
      "CDKN2B-AS1\n",
      "CDKN2B-AS1\n",
      "CDKN2B-AS1\n",
      "CDKN2B-AS1\n",
      "CDKN2B-AS1\n",
      "CDKN2B-AS1\n"
     ]
    }
   ],
   "source": [
    "for x in d:\n",
    "    for y in x['transcript_consequences']:\n",
    "        print (y['gene_symbol'])"
   ]
  },
  {
   "cell_type": "code",
   "execution_count": null,
   "metadata": {},
   "outputs": [],
   "source": []
  },
  {
   "cell_type": "code",
   "execution_count": 62,
   "metadata": {},
   "outputs": [
    {
     "data": {
      "text/plain": [
       "{'id': '9:g.22125504G>C',\n",
       " 'end': 22125504,\n",
       " 'allele_string': 'G/C',\n",
       " 'most_severe_consequence': 'intron_variant',\n",
       " 'transcript_consequences': [{'consequence_terms': ['downstream_gene_variant'],\n",
       "   'biotype': 'lncRNA',\n",
       "   'strand': 1,\n",
       "   'impact': 'MODIFIER',\n",
       "   'gene_symbol_source': 'HGNC',\n",
       "   'transcript_id': 'ENST00000421632',\n",
       "   'hgnc_id': 'HGNC:34341',\n",
       "   'gene_id': 'ENSG00000240498',\n",
       "   'variant_allele': 'C',\n",
       "   'gene_symbol': 'CDKN2B-AS1',\n",
       "   'distance': 4815},\n",
       "  {'hgnc_id': 'HGNC:34341',\n",
       "   'transcript_id': 'ENST00000422420',\n",
       "   'distance': 4407,\n",
       "   'gene_symbol': 'CDKN2B-AS1',\n",
       "   'variant_allele': 'C',\n",
       "   'gene_id': 'ENSG00000240498',\n",
       "   'impact': 'MODIFIER',\n",
       "   'strand': 1,\n",
       "   'biotype': 'lncRNA',\n",
       "   'consequence_terms': ['downstream_gene_variant'],\n",
       "   'gene_symbol_source': 'HGNC'},\n",
       "  {'transcript_id': 'ENST00000428597',\n",
       "   'hgnc_id': 'HGNC:34341',\n",
       "   'gene_symbol': 'CDKN2B-AS1',\n",
       "   'distance': 4407,\n",
       "   'gene_id': 'ENSG00000240498',\n",
       "   'variant_allele': 'C',\n",
       "   'impact': 'MODIFIER',\n",
       "   'biotype': 'lncRNA',\n",
       "   'consequence_terms': ['downstream_gene_variant'],\n",
       "   'strand': 1,\n",
       "   'gene_symbol_source': 'HGNC'},\n",
       "  {'impact': 'MODIFIER',\n",
       "   'biotype': 'lncRNA',\n",
       "   'consequence_terms': ['downstream_gene_variant'],\n",
       "   'strand': 1,\n",
       "   'gene_symbol_source': 'HGNC',\n",
       "   'transcript_id': 'ENST00000577551',\n",
       "   'hgnc_id': 'HGNC:34341',\n",
       "   'gene_symbol': 'CDKN2B-AS1',\n",
       "   'distance': 4932,\n",
       "   'gene_id': 'ENSG00000240498',\n",
       "   'variant_allele': 'C'},\n",
       "  {'consequence_terms': ['downstream_gene_variant'],\n",
       "   'biotype': 'lncRNA',\n",
       "   'strand': 1,\n",
       "   'impact': 'MODIFIER',\n",
       "   'gene_symbol_source': 'HGNC',\n",
       "   'transcript_id': 'ENST00000580576',\n",
       "   'hgnc_id': 'HGNC:34341',\n",
       "   'gene_id': 'ENSG00000240498',\n",
       "   'variant_allele': 'C',\n",
       "   'gene_symbol': 'CDKN2B-AS1',\n",
       "   'distance': 4867},\n",
       "  {'distance': 4932,\n",
       "   'gene_symbol': 'CDKN2B-AS1',\n",
       "   'variant_allele': 'C',\n",
       "   'gene_id': 'ENSG00000240498',\n",
       "   'hgnc_id': 'HGNC:34341',\n",
       "   'transcript_id': 'ENST00000581051',\n",
       "   'gene_symbol_source': 'HGNC',\n",
       "   'impact': 'MODIFIER',\n",
       "   'strand': 1,\n",
       "   'consequence_terms': ['downstream_gene_variant'],\n",
       "   'biotype': 'lncRNA'},\n",
       "  {'impact': 'MODIFIER',\n",
       "   'strand': 1,\n",
       "   'biotype': 'lncRNA',\n",
       "   'consequence_terms': ['downstream_gene_variant'],\n",
       "   'gene_symbol_source': 'HGNC',\n",
       "   'hgnc_id': 'HGNC:34341',\n",
       "   'transcript_id': 'ENST00000582072',\n",
       "   'distance': 4932,\n",
       "   'gene_symbol': 'CDKN2B-AS1',\n",
       "   'variant_allele': 'C',\n",
       "   'gene_id': 'ENSG00000240498'},\n",
       "  {'distance': 4932,\n",
       "   'gene_symbol': 'CDKN2B-AS1',\n",
       "   'variant_allele': 'C',\n",
       "   'gene_id': 'ENSG00000240498',\n",
       "   'hgnc_id': 'HGNC:34341',\n",
       "   'transcript_id': 'ENST00000584020',\n",
       "   'gene_symbol_source': 'HGNC',\n",
       "   'impact': 'MODIFIER',\n",
       "   'strand': 1,\n",
       "   'biotype': 'lncRNA',\n",
       "   'consequence_terms': ['downstream_gene_variant']},\n",
       "  {'transcript_id': 'ENST00000584637',\n",
       "   'hgnc_id': 'HGNC:34341',\n",
       "   'gene_id': 'ENSG00000240498',\n",
       "   'variant_allele': 'C',\n",
       "   'gene_symbol': 'CDKN2B-AS1',\n",
       "   'distance': 4932,\n",
       "   'biotype': 'lncRNA',\n",
       "   'consequence_terms': ['downstream_gene_variant'],\n",
       "   'strand': 1,\n",
       "   'impact': 'MODIFIER',\n",
       "   'gene_symbol_source': 'HGNC'},\n",
       "  {'hgnc_id': 'HGNC:34341',\n",
       "   'transcript_id': 'ENST00000584816',\n",
       "   'distance': 4932,\n",
       "   'gene_symbol': 'CDKN2B-AS1',\n",
       "   'variant_allele': 'C',\n",
       "   'gene_id': 'ENSG00000240498',\n",
       "   'impact': 'MODIFIER',\n",
       "   'strand': 1,\n",
       "   'consequence_terms': ['downstream_gene_variant'],\n",
       "   'biotype': 'lncRNA',\n",
       "   'gene_symbol_source': 'HGNC'},\n",
       "  {'gene_symbol_source': 'HGNC',\n",
       "   'impact': 'MODIFIER',\n",
       "   'consequence_terms': ['downstream_gene_variant'],\n",
       "   'biotype': 'lncRNA',\n",
       "   'strand': 1,\n",
       "   'gene_symbol': 'CDKN2B-AS1',\n",
       "   'distance': 4960,\n",
       "   'gene_id': 'ENSG00000240498',\n",
       "   'variant_allele': 'C',\n",
       "   'transcript_id': 'ENST00000585267',\n",
       "   'hgnc_id': 'HGNC:34341'},\n",
       "  {'gene_symbol_source': 'HGNC',\n",
       "   'biotype': 'lncRNA',\n",
       "   'consequence_terms': ['downstream_gene_variant'],\n",
       "   'strand': 1,\n",
       "   'impact': 'MODIFIER',\n",
       "   'gene_id': 'ENSG00000240498',\n",
       "   'variant_allele': 'C',\n",
       "   'gene_symbol': 'CDKN2B-AS1',\n",
       "   'distance': 4791,\n",
       "   'transcript_id': 'ENST00000643286',\n",
       "   'hgnc_id': 'HGNC:34341'},\n",
       "  {'transcript_id': 'ENST00000644233',\n",
       "   'hgnc_id': 'HGNC:34341',\n",
       "   'gene_id': 'ENSG00000240498',\n",
       "   'variant_allele': 'C',\n",
       "   'gene_symbol': 'CDKN2B-AS1',\n",
       "   'distance': 4793,\n",
       "   'biotype': 'lncRNA',\n",
       "   'consequence_terms': ['downstream_gene_variant'],\n",
       "   'strand': 1,\n",
       "   'impact': 'MODIFIER',\n",
       "   'gene_symbol_source': 'HGNC'},\n",
       "  {'consequence_terms': ['downstream_gene_variant'],\n",
       "   'biotype': 'lncRNA',\n",
       "   'strand': 1,\n",
       "   'impact': 'MODIFIER',\n",
       "   'gene_symbol_source': 'HGNC',\n",
       "   'transcript_id': 'ENST00000645223',\n",
       "   'hgnc_id': 'HGNC:34341',\n",
       "   'gene_id': 'ENSG00000240498',\n",
       "   'variant_allele': 'C',\n",
       "   'gene_symbol': 'CDKN2B-AS1',\n",
       "   'distance': 4795},\n",
       "  {'gene_symbol': 'CDKN2B-AS1',\n",
       "   'variant_allele': 'C',\n",
       "   'gene_id': 'ENSG00000240498',\n",
       "   'hgnc_id': 'HGNC:34341',\n",
       "   'transcript_id': 'ENST00000650946',\n",
       "   'gene_symbol_source': 'HGNC',\n",
       "   'impact': 'MODIFIER',\n",
       "   'strand': 1,\n",
       "   'consequence_terms': ['intron_variant', 'non_coding_transcript_variant'],\n",
       "   'biotype': 'lncRNA'},\n",
       "  {'consequence_terms': ['downstream_gene_variant'],\n",
       "   'biotype': 'lncRNA',\n",
       "   'strand': 1,\n",
       "   'impact': 'MODIFIER',\n",
       "   'gene_symbol_source': 'HGNC',\n",
       "   'transcript_id': 'ENST00000658981',\n",
       "   'hgnc_id': 'HGNC:34341',\n",
       "   'gene_id': 'ENSG00000240498',\n",
       "   'variant_allele': 'C',\n",
       "   'gene_symbol': 'CDKN2B-AS1',\n",
       "   'distance': 4794}],\n",
       " 'input': '9:g.22125504G>C',\n",
       " 'colocated_variants': [{'var_synonyms': 'ClinVar::RCV001003460,VCV000812642--PharmGKB::PA166157726',\n",
       "   'minor_allele_freq': 0.4181,\n",
       "   'strand': 1,\n",
       "   'minor_allele': 'C',\n",
       "   'seq_region_name': '9',\n",
       "   'clin_sig_allele': 'C:risk_factor',\n",
       "   'phenotype_or_disease': 1,\n",
       "   'id': 'rs1333049',\n",
       "   'pubmed': [21894447,\n",
       "    18224312,\n",
       "    22400124,\n",
       "    22403240,\n",
       "    22856518,\n",
       "    24728607,\n",
       "    22029572,\n",
       "    21860704,\n",
       "    18780302,\n",
       "    29340220,\n",
       "    27424552,\n",
       "    26252781,\n",
       "    17634449,\n",
       "    18852197,\n",
       "    18979498,\n",
       "    19164808,\n",
       "    19207022,\n",
       "    19750184,\n",
       "    19924713,\n",
       "    19955471,\n",
       "    20017983,\n",
       "    20098575,\n",
       "    20159871,\n",
       "    20549515,\n",
       "    20981302,\n",
       "    21242481,\n",
       "    21369780,\n",
       "    21606135,\n",
       "    21698238,\n",
       "    21804106,\n",
       "    22042884,\n",
       "    22144573,\n",
       "    22623978,\n",
       "    26958643,\n",
       "    26950853,\n",
       "    28209224,\n",
       "    20502693,\n",
       "    19956433,\n",
       "    21297524,\n",
       "    22429504,\n",
       "    22848412,\n",
       "    26483964,\n",
       "    22199011,\n",
       "    19474294,\n",
       "    19885677,\n",
       "    24098343,\n",
       "    18533027,\n",
       "    22621687,\n",
       "    21149552,\n",
       "    29331485,\n",
       "    23963167,\n",
       "    27153677,\n",
       "    24676469,\n",
       "    18469204,\n",
       "    27892471,\n",
       "    23142796,\n",
       "    27386823,\n",
       "    26677855,\n",
       "    20435227,\n",
       "    25617895,\n",
       "    29143599,\n",
       "    18654002,\n",
       "    22295058,\n",
       "    28400043,\n",
       "    26999117,\n",
       "    21424681,\n",
       "    27015805,\n",
       "    19501493,\n",
       "    24573017,\n",
       "    28813480,\n",
       "    25717410,\n",
       "    26729200,\n",
       "    27249003,\n",
       "    26789557,\n",
       "    26982883,\n",
       "    28260796,\n",
       "    26775120,\n",
       "    30072947,\n",
       "    22322877,\n",
       "    30764545,\n",
       "    29309886,\n",
       "    29141072,\n",
       "    24906238,\n",
       "    26866580,\n",
       "    20175863,\n",
       "    30457165,\n",
       "    28138111,\n",
       "    19463184,\n",
       "    24926413,\n",
       "    27736948,\n",
       "    27004807,\n",
       "    22505696,\n",
       "    26559855,\n",
       "    19578366,\n",
       "    18362232,\n",
       "    19173706,\n",
       "    19214202,\n",
       "    20335276,\n",
       "    23870195,\n",
       "    23587283,\n",
       "    31115525,\n",
       "    18675980,\n",
       "    19135198,\n",
       "    24942486,\n",
       "    27721851,\n",
       "    18704761,\n",
       "    21971053,\n",
       "    21400687,\n",
       "    26071660,\n",
       "    27340317,\n",
       "    30482443,\n",
       "    21270277,\n",
       "    21470412,\n",
       "    2496741],\n",
       "   'clin_sig': ['risk_factor'],\n",
       "   'frequencies': {'C': {'eas': 0.5367,\n",
       "     'eur': 0.4722,\n",
       "     'sas': 0.4908,\n",
       "     'afr': 0.2133,\n",
       "     'amr': 0.4553}},\n",
       "   'allele_string': 'G/C',\n",
       "   'end': 22125504,\n",
       "   'start': 22125504}],\n",
       " 'seq_region_name': '9',\n",
       " 'start': 22125504,\n",
       " 'strand': 1,\n",
       " 'assembly_name': 'GRCh38'}"
      ]
     },
     "execution_count": 62,
     "metadata": {},
     "output_type": "execute_result"
    }
   ],
   "source": [
    "d[1]"
   ]
  },
  {
   "cell_type": "code",
   "execution_count": null,
   "metadata": {},
   "outputs": [],
   "source": []
  },
  {
   "cell_type": "markdown",
   "metadata": {},
   "source": [
    "### Classes"
   ]
  },
  {
   "cell_type": "code",
   "execution_count": 70,
   "metadata": {},
   "outputs": [],
   "source": [
    "a = [1,2,3]"
   ]
  },
  {
   "cell_type": "code",
   "execution_count": 71,
   "metadata": {},
   "outputs": [],
   "source": [
    "a.append(4)"
   ]
  },
  {
   "cell_type": "code",
   "execution_count": 198,
   "metadata": {},
   "outputs": [],
   "source": [
    "class Gene:\n",
    "    \n",
    "    reference = 'GRCh38' # Attribute (variable in a class)\n",
    "    \n",
    "    def __init__(self, name): # Initialization \n",
    "        self.name = name\n",
    "\n",
    "    def f(self,): # Method (function in a class)\n",
    "        print (self.reference + ' ' + self.name)\n",
    "        return 42\n",
    "    \n",
    "    def g(self,):\n",
    "        self.f()\n",
    "        \n",
    "    def __len__(self,):\n",
    "        return len(self.name)\n",
    "    \n",
    "    def __str__(self,):\n",
    "        return 'Mitsos'\n",
    "    \n",
    "    def __iter__(self,):\n",
    "        \n",
    "        def mitsos():\n",
    "            for x in range(10):\n",
    "                yield x\n",
    "        \n",
    "        return mitsos()\n",
    "    \n",
    "    def __call__(self, ):\n",
    "        return 42\n",
    "    \n",
    "    def __add__(self, b):\n",
    "        return self.name + ' MITSOS ' + b.name\n",
    "    \n",
    "    @staticmethod  # <-- Decorator\n",
    "    def check_if_ensembl_is_online():\n",
    "        return 42\n",
    "    \n"
   ]
  },
  {
   "cell_type": "code",
   "execution_count": 195,
   "metadata": {},
   "outputs": [],
   "source": [
    "a = Gene('hba1')"
   ]
  },
  {
   "cell_type": "code",
   "execution_count": 196,
   "metadata": {},
   "outputs": [
    {
     "name": "stdout",
     "output_type": "stream",
     "text": [
      "GRCh38 hba1\n"
     ]
    },
    {
     "data": {
      "text/plain": [
       "42"
      ]
     },
     "execution_count": 196,
     "metadata": {},
     "output_type": "execute_result"
    }
   ],
   "source": [
    "a.f()"
   ]
  },
  {
   "cell_type": "code",
   "execution_count": 197,
   "metadata": {},
   "outputs": [
    {
     "ename": "TypeError",
     "evalue": "f() missing 1 required positional argument: 'self'",
     "output_type": "error",
     "traceback": [
      "\u001b[0;31m---------------------------------------------------------------------------\u001b[0m",
      "\u001b[0;31mTypeError\u001b[0m                                 Traceback (most recent call last)",
      "\u001b[0;32m<ipython-input-197-f202ef4aff22>\u001b[0m in \u001b[0;36m<module>\u001b[0;34m()\u001b[0m\n\u001b[0;32m----> 1\u001b[0;31m \u001b[0mGene\u001b[0m\u001b[0;34m.\u001b[0m\u001b[0mf\u001b[0m\u001b[0;34m(\u001b[0m\u001b[0;34m)\u001b[0m\u001b[0;34m\u001b[0m\u001b[0m\n\u001b[0m",
      "\u001b[0;31mTypeError\u001b[0m: f() missing 1 required positional argument: 'self'"
     ]
    }
   ],
   "source": [
    "#Gene.f()"
   ]
  },
  {
   "cell_type": "code",
   "execution_count": 190,
   "metadata": {},
   "outputs": [
    {
     "data": {
      "text/plain": [
       "42"
      ]
     },
     "execution_count": 190,
     "metadata": {},
     "output_type": "execute_result"
    }
   ],
   "source": [
    "a.check_if_ensembl_is_online()"
   ]
  },
  {
   "cell_type": "code",
   "execution_count": 191,
   "metadata": {},
   "outputs": [
    {
     "data": {
      "text/plain": [
       "42"
      ]
     },
     "execution_count": 191,
     "metadata": {},
     "output_type": "execute_result"
    }
   ],
   "source": [
    "Gene.check_if_ensembl_is_online()"
   ]
  },
  {
   "cell_type": "code",
   "execution_count": null,
   "metadata": {},
   "outputs": [],
   "source": []
  },
  {
   "cell_type": "code",
   "execution_count": 176,
   "metadata": {},
   "outputs": [],
   "source": [
    "class Cell(Gene):\n",
    "    \n",
    "    def t(self,):\n",
    "        print ('hello')\n",
    "        \n",
    "class Tissue(Cell):\n",
    "    pass"
   ]
  },
  {
   "cell_type": "code",
   "execution_count": 159,
   "metadata": {},
   "outputs": [],
   "source": [
    "c = Cell('hba1')"
   ]
  },
  {
   "cell_type": "code",
   "execution_count": 160,
   "metadata": {},
   "outputs": [
    {
     "name": "stdout",
     "output_type": "stream",
     "text": [
      "GRCh38\n"
     ]
    },
    {
     "data": {
      "text/plain": [
       "42"
      ]
     },
     "execution_count": 160,
     "metadata": {},
     "output_type": "execute_result"
    }
   ],
   "source": [
    "c.f()"
   ]
  },
  {
   "cell_type": "code",
   "execution_count": 161,
   "metadata": {},
   "outputs": [
    {
     "name": "stdout",
     "output_type": "stream",
     "text": [
      "hello\n"
     ]
    }
   ],
   "source": [
    "c.t()"
   ]
  },
  {
   "cell_type": "code",
   "execution_count": null,
   "metadata": {},
   "outputs": [],
   "source": []
  },
  {
   "cell_type": "code",
   "execution_count": null,
   "metadata": {},
   "outputs": [],
   "source": []
  },
  {
   "cell_type": "code",
   "execution_count": 152,
   "metadata": {},
   "outputs": [
    {
     "ename": "TypeError",
     "evalue": "__init__() missing 1 required positional argument: 'name'",
     "output_type": "error",
     "traceback": [
      "\u001b[0;31m---------------------------------------------------------------------------\u001b[0m",
      "\u001b[0;31mTypeError\u001b[0m                                 Traceback (most recent call last)",
      "\u001b[0;32m<ipython-input-152-15d23d67f116>\u001b[0m in \u001b[0;36m<module>\u001b[0;34m()\u001b[0m\n\u001b[0;32m----> 1\u001b[0;31m \u001b[0ma\u001b[0m \u001b[0;34m=\u001b[0m \u001b[0mGene\u001b[0m\u001b[0;34m(\u001b[0m\u001b[0;34m)\u001b[0m\u001b[0;34m\u001b[0m\u001b[0m\n\u001b[0m",
      "\u001b[0;31mTypeError\u001b[0m: __init__() missing 1 required positional argument: 'name'"
     ]
    }
   ],
   "source": [
    "a = Gene()"
   ]
  },
  {
   "cell_type": "code",
   "execution_count": null,
   "metadata": {},
   "outputs": [],
   "source": []
  },
  {
   "cell_type": "code",
   "execution_count": 154,
   "metadata": {},
   "outputs": [],
   "source": [
    "a = Gene('hba1')"
   ]
  },
  {
   "cell_type": "code",
   "execution_count": 155,
   "metadata": {},
   "outputs": [
    {
     "data": {
      "text/plain": [
       "42"
      ]
     },
     "execution_count": 155,
     "metadata": {},
     "output_type": "execute_result"
    }
   ],
   "source": [
    "a()"
   ]
  },
  {
   "cell_type": "code",
   "execution_count": null,
   "metadata": {},
   "outputs": [],
   "source": []
  },
  {
   "cell_type": "code",
   "execution_count": 122,
   "metadata": {},
   "outputs": [
    {
     "data": {
      "text/plain": [
       "4"
      ]
     },
     "execution_count": 122,
     "metadata": {},
     "output_type": "execute_result"
    }
   ],
   "source": [
    "len(a)"
   ]
  },
  {
   "cell_type": "code",
   "execution_count": 134,
   "metadata": {},
   "outputs": [
    {
     "data": {
      "text/plain": [
       "'aaa MITSOS ccc'"
      ]
     },
     "execution_count": 134,
     "metadata": {},
     "output_type": "execute_result"
    }
   ],
   "source": [
    "a = Gene('aaa')\n",
    "b = Gene('ccc')\n",
    "\n",
    "a+b"
   ]
  },
  {
   "cell_type": "code",
   "execution_count": 130,
   "metadata": {},
   "outputs": [
    {
     "name": "stdout",
     "output_type": "stream",
     "text": [
      "Mitsos\n"
     ]
    }
   ],
   "source": [
    "print(a)"
   ]
  },
  {
   "cell_type": "code",
   "execution_count": null,
   "metadata": {},
   "outputs": [],
   "source": []
  },
  {
   "cell_type": "code",
   "execution_count": 100,
   "metadata": {},
   "outputs": [
    {
     "name": "stdout",
     "output_type": "stream",
     "text": [
      "Mitsos\n"
     ]
    }
   ],
   "source": [
    "print (a)"
   ]
  },
  {
   "cell_type": "code",
   "execution_count": 114,
   "metadata": {},
   "outputs": [
    {
     "name": "stdout",
     "output_type": "stream",
     "text": [
      "0\n",
      "1\n",
      "2\n",
      "3\n",
      "4\n",
      "5\n",
      "6\n",
      "7\n",
      "8\n",
      "9\n"
     ]
    }
   ],
   "source": [
    "for x in a:\n",
    "    print (x)"
   ]
  },
  {
   "cell_type": "code",
   "execution_count": null,
   "metadata": {},
   "outputs": [],
   "source": []
  },
  {
   "cell_type": "code",
   "execution_count": 97,
   "metadata": {},
   "outputs": [
    {
     "data": {
      "text/plain": [
       "100"
      ]
     },
     "execution_count": 97,
     "metadata": {},
     "output_type": "execute_result"
    }
   ],
   "source": [
    "len(a)"
   ]
  },
  {
   "cell_type": "code",
   "execution_count": null,
   "metadata": {},
   "outputs": [],
   "source": [
    "len()"
   ]
  },
  {
   "cell_type": "code",
   "execution_count": 87,
   "metadata": {},
   "outputs": [
    {
     "name": "stdout",
     "output_type": "stream",
     "text": [
      "GRCh38\n"
     ]
    },
    {
     "data": {
      "text/plain": [
       "42"
      ]
     },
     "execution_count": 87,
     "metadata": {},
     "output_type": "execute_result"
    }
   ],
   "source": [
    "a.f()"
   ]
  },
  {
   "cell_type": "code",
   "execution_count": 91,
   "metadata": {},
   "outputs": [
    {
     "name": "stdout",
     "output_type": "stream",
     "text": [
      "GRCh38\n"
     ]
    }
   ],
   "source": [
    "a.g()"
   ]
  },
  {
   "cell_type": "code",
   "execution_count": 131,
   "metadata": {},
   "outputs": [],
   "source": [
    "a = [4,5,6]"
   ]
  },
  {
   "cell_type": "code",
   "execution_count": 132,
   "metadata": {},
   "outputs": [
    {
     "data": {
      "text/plain": [
       "3"
      ]
     },
     "execution_count": 132,
     "metadata": {},
     "output_type": "execute_result"
    }
   ],
   "source": [
    "len(a)"
   ]
  },
  {
   "cell_type": "code",
   "execution_count": 133,
   "metadata": {},
   "outputs": [
    {
     "data": {
      "text/plain": [
       "3"
      ]
     },
     "execution_count": 133,
     "metadata": {},
     "output_type": "execute_result"
    }
   ],
   "source": [
    "a.__len__()"
   ]
  },
  {
   "cell_type": "code",
   "execution_count": 136,
   "metadata": {},
   "outputs": [
    {
     "data": {
      "text/plain": [
       "['__add__',\n",
       " '__class__',\n",
       " '__delattr__',\n",
       " '__dict__',\n",
       " '__dir__',\n",
       " '__doc__',\n",
       " '__eq__',\n",
       " '__format__',\n",
       " '__ge__',\n",
       " '__getattribute__',\n",
       " '__gt__',\n",
       " '__hash__',\n",
       " '__init__',\n",
       " '__init_subclass__',\n",
       " '__iter__',\n",
       " '__le__',\n",
       " '__len__',\n",
       " '__lt__',\n",
       " '__module__',\n",
       " '__ne__',\n",
       " '__new__',\n",
       " '__reduce__',\n",
       " '__reduce_ex__',\n",
       " '__repr__',\n",
       " '__setattr__',\n",
       " '__sizeof__',\n",
       " '__str__',\n",
       " '__subclasshook__',\n",
       " '__weakref__',\n",
       " 'f',\n",
       " 'g',\n",
       " 'name',\n",
       " 'reference']"
      ]
     },
     "execution_count": 136,
     "metadata": {},
     "output_type": "execute_result"
    }
   ],
   "source": [
    "dir(a)"
   ]
  },
  {
   "cell_type": "code",
   "execution_count": 137,
   "metadata": {},
   "outputs": [
    {
     "data": {
      "text/plain": [
       "['__abs__',\n",
       " '__add__',\n",
       " '__and__',\n",
       " '__bool__',\n",
       " '__ceil__',\n",
       " '__class__',\n",
       " '__delattr__',\n",
       " '__dir__',\n",
       " '__divmod__',\n",
       " '__doc__',\n",
       " '__eq__',\n",
       " '__float__',\n",
       " '__floor__',\n",
       " '__floordiv__',\n",
       " '__format__',\n",
       " '__ge__',\n",
       " '__getattribute__',\n",
       " '__getnewargs__',\n",
       " '__gt__',\n",
       " '__hash__',\n",
       " '__index__',\n",
       " '__init__',\n",
       " '__init_subclass__',\n",
       " '__int__',\n",
       " '__invert__',\n",
       " '__le__',\n",
       " '__lshift__',\n",
       " '__lt__',\n",
       " '__mod__',\n",
       " '__mul__',\n",
       " '__ne__',\n",
       " '__neg__',\n",
       " '__new__',\n",
       " '__or__',\n",
       " '__pos__',\n",
       " '__pow__',\n",
       " '__radd__',\n",
       " '__rand__',\n",
       " '__rdivmod__',\n",
       " '__reduce__',\n",
       " '__reduce_ex__',\n",
       " '__repr__',\n",
       " '__rfloordiv__',\n",
       " '__rlshift__',\n",
       " '__rmod__',\n",
       " '__rmul__',\n",
       " '__ror__',\n",
       " '__round__',\n",
       " '__rpow__',\n",
       " '__rrshift__',\n",
       " '__rshift__',\n",
       " '__rsub__',\n",
       " '__rtruediv__',\n",
       " '__rxor__',\n",
       " '__setattr__',\n",
       " '__sizeof__',\n",
       " '__str__',\n",
       " '__sub__',\n",
       " '__subclasshook__',\n",
       " '__truediv__',\n",
       " '__trunc__',\n",
       " '__xor__',\n",
       " 'bit_length',\n",
       " 'conjugate',\n",
       " 'denominator',\n",
       " 'from_bytes',\n",
       " 'imag',\n",
       " 'numerator',\n",
       " 'real',\n",
       " 'to_bytes']"
      ]
     },
     "execution_count": 137,
     "metadata": {},
     "output_type": "execute_result"
    }
   ],
   "source": [
    "dir(53)"
   ]
  },
  {
   "cell_type": "code",
   "execution_count": 138,
   "metadata": {},
   "outputs": [
    {
     "ename": "SyntaxError",
     "evalue": "invalid syntax (<ipython-input-138-4d35a4f9b6d0>, line 1)",
     "output_type": "error",
     "traceback": [
      "\u001b[0;36m  File \u001b[0;32m\"<ipython-input-138-4d35a4f9b6d0>\"\u001b[0;36m, line \u001b[0;32m1\u001b[0m\n\u001b[0;31m    53.__add__(20)\u001b[0m\n\u001b[0m             ^\u001b[0m\n\u001b[0;31mSyntaxError\u001b[0m\u001b[0;31m:\u001b[0m invalid syntax\n"
     ]
    }
   ],
   "source": [
    "53.__add__(20)"
   ]
  },
  {
   "cell_type": "code",
   "execution_count": 143,
   "metadata": {},
   "outputs": [
    {
     "data": {
      "text/plain": [
       "73"
      ]
     },
     "execution_count": 143,
     "metadata": {},
     "output_type": "execute_result"
    }
   ],
   "source": [
    "getattr(53, '__add__')(20)"
   ]
  },
  {
   "cell_type": "code",
   "execution_count": 144,
   "metadata": {},
   "outputs": [
    {
     "data": {
      "text/plain": [
       "63.0"
      ]
     },
     "execution_count": 144,
     "metadata": {},
     "output_type": "execute_result"
    }
   ],
   "source": [
    "53..__add__(10)"
   ]
  },
  {
   "cell_type": "code",
   "execution_count": 145,
   "metadata": {},
   "outputs": [
    {
     "data": {
      "text/plain": [
       "63"
      ]
     },
     "execution_count": 145,
     "metadata": {},
     "output_type": "execute_result"
    }
   ],
   "source": [
    "(53).__add__(10)"
   ]
  },
  {
   "cell_type": "code",
   "execution_count": 147,
   "metadata": {},
   "outputs": [],
   "source": [
    "def f(x):\n",
    "    return x+42"
   ]
  },
  {
   "cell_type": "code",
   "execution_count": 149,
   "metadata": {},
   "outputs": [
    {
     "data": {
      "text/plain": [
       "43"
      ]
     },
     "execution_count": 149,
     "metadata": {},
     "output_type": "execute_result"
    }
   ],
   "source": [
    "f.__call__(1)"
   ]
  },
  {
   "cell_type": "code",
   "execution_count": 164,
   "metadata": {},
   "outputs": [
    {
     "data": {
      "text/plain": [
       "43"
      ]
     },
     "execution_count": 164,
     "metadata": {},
     "output_type": "execute_result"
    }
   ],
   "source": [
    "f(1)"
   ]
  },
  {
   "cell_type": "markdown",
   "metadata": {},
   "source": [
    "### pass"
   ]
  },
  {
   "cell_type": "code",
   "execution_count": 169,
   "metadata": {},
   "outputs": [],
   "source": [
    "x = 10\n",
    "\n",
    "if x == 10:\n",
    "    #print ('is 10')\n",
    "    pass\n",
    "else:\n",
    "    print ('It is not 10')\n"
   ]
  },
  {
   "cell_type": "code",
   "execution_count": 172,
   "metadata": {},
   "outputs": [
    {
     "name": "stdout",
     "output_type": "stream",
     "text": [
      "hello\n"
     ]
    }
   ],
   "source": [
    "x=10\n",
    "y=51\n",
    "\n",
    "\n",
    "if x==10 and y==50:\n",
    "    pass\n",
    "else:\n",
    "    print ('hello')\n"
   ]
  },
  {
   "cell_type": "code",
   "execution_count": 174,
   "metadata": {},
   "outputs": [
    {
     "name": "stdout",
     "output_type": "stream",
     "text": [
      "hello\n"
     ]
    }
   ],
   "source": [
    "for x in range(1000):\n",
    "    pass\n",
    "    #print(x)\n",
    "\n",
    "print ('hello')"
   ]
  },
  {
   "cell_type": "code",
   "execution_count": 175,
   "metadata": {},
   "outputs": [],
   "source": [
    "pass"
   ]
  },
  {
   "cell_type": "code",
   "execution_count": null,
   "metadata": {},
   "outputs": [],
   "source": [
    "! pip install biopython "
   ]
  },
  {
   "cell_type": "code",
   "execution_count": 274,
   "metadata": {},
   "outputs": [],
   "source": [
    "from Bio import Entrez\n",
    "\n",
    "Entrez.email = 'your_email@provider.com'\n",
    "\n",
    "def get_pmid(pmid):\n",
    "\n",
    "    pmids = [pmid]\n",
    "    handle = Entrez.efetch(db=\"pubmed\", id=','.join(map(str, pmids)),\n",
    "                           rettype=\"xml\", retmode=\"text\")\n",
    "    records = Entrez.read(handle)\n",
    "    abstracts = [pubmed_article['MedlineCitation']['Article']['Abstract']['AbstractText'][0]\n",
    "                 for pubmed_article in records['PubmedArticle']]\n",
    "\n",
    "\n",
    "    abstract_dict = dict(zip(pmids, abstracts))\n",
    "    return abstract_dict"
   ]
  },
  {
   "cell_type": "code",
   "execution_count": 272,
   "metadata": {},
   "outputs": [
    {
     "data": {
      "text/plain": [
       "{17284678: 'Eimeria tenella is an intracellular protozoan parasite that infects the intestinal tracts of domestic fowl and causes coccidiosis, a serious and sometimes lethal enteritis. Eimeria falls in the same phylum (Apicomplexa) as several human and animal parasites such as Cryptosporidium, Toxoplasma, and the malaria parasite, Plasmodium. Here we report the sequencing and analysis of the first chromosome of E. tenella, a chromosome believed to carry loci associated with drug resistance and known to differ between virulent and attenuated strains of the parasite. The chromosome--which appears to be representative of the genome--is gene-dense and rich in simple-sequence repeats, many of which appear to give rise to repetitive amino acid tracts in the predicted proteins. Most striking is the segmentation of the chromosome into repeat-rich regions peppered with transposon-like elements and telomere-like repeats, alternating with repeat-free regions. Predicted genes differ in character between the two types of segment, and the repeat-rich regions appear to be associated with strain-to-strain variation.',\n",
       " 9997: 'Electron paramagnetic resonance and magnetic susceptibility studies of Chromatium flavocytochrome C552 and its diheme flavin-free subunit at temperatures below 45 degrees K are reported. The results show that in the intact protein and the subunit the two low-spin (S = 1/2) heme irons are distinguishable, giving rise to separate EPR signals. In the intact protein only, one of the heme irons exists in two different low spin environments in the pH range 5.5 to 10.5, while the other remains in a constant environment. Factors influencing the variable heme iron environment also influence flavin reactivity, indicating the existence of a mechanism for heme-flavin interaction.'}"
      ]
     },
     "execution_count": 272,
     "metadata": {},
     "output_type": "execute_result"
    }
   ],
   "source": [
    "abstract_dict"
   ]
  },
  {
   "cell_type": "code",
   "execution_count": 324,
   "metadata": {},
   "outputs": [],
   "source": [
    "import requests \n",
    "\n",
    "class Mutation():\n",
    "    def __init__(self, name):\n",
    "        self.name = name\n",
    "        self.get_info_from_ensmble()\n",
    "        \n",
    "    def get_info_from_ensmble(self, ):\n",
    "        server = \"https://rest.ensembl.org/vep/human/hgvs/{}?\".format(self.name)\n",
    "        r = requests.get(server, headers={ \"Content-Type\" : \"application/json\"})\n",
    "        if not r.ok:\n",
    "            raise Exception('oops')\n",
    "        self.data = r.json()\n",
    "        \n",
    "    def get_consequenmce(self):\n",
    "        return [x['most_severe_consequence'] for x in self.data]\n",
    "            \n",
    "    def __len__(self,):\n",
    "        #return m.data[0]['end'] - m.data[0]['start'] + 1\n",
    "        return len(self.data[0]['transcript_consequences'][0]['variant_allele'])\n",
    "    \n",
    "    \n",
    "    def __iter__(self,):\n",
    "        \n",
    "        def g():\n",
    "            for x in self.data[0]['transcript_consequences']:\n",
    "                yield x\n",
    "                \n",
    "        return g()\n",
    "    \n",
    "    def __str__(self,):\n",
    "        return self.name\n",
    "    \n",
    "    def get_pubmed_ids(self,):\n",
    "        self.pubmed_ids = []\n",
    "        for x in self.data:\n",
    "            for y in x['colocated_variants']:\n",
    "                if 'pubmed' in y:\n",
    "                    self.pubmed_ids.extend(y['pubmed'])\n",
    "                    \n",
    "    def get_abstracts(self,):\n",
    "        self.get_pubmed_ids()\n",
    "        return Mutation.get_pmid(self.pubmed_ids)\n",
    "\n",
    "    \n",
    "    @staticmethod\n",
    "    def get_pmid(pmids):\n",
    "        '''\n",
    "        pmids : list of pmids\n",
    "        '''\n",
    "\n",
    "        handle = Entrez.efetch(db=\"pubmed\", id=','.join(map(str, pmids)),\n",
    "                           rettype=\"xml\", retmode=\"text\")\n",
    "        records = Entrez.read(handle)\n",
    "        ret = {}\n",
    "        for pubmed_article in records['PubmedArticle']:\n",
    "            \n",
    "            if not 'MedlineCitation' in pubmed_article:\n",
    "                continue\n",
    "            MedlineCitation = pubmed_article['MedlineCitation']\n",
    "            \n",
    "            pmid = str(MedlineCitation['PMID'])\n",
    "            \n",
    "            if not 'Article' in MedlineCitation:\n",
    "                continue\n",
    "            Article = MedlineCitation['Article']\n",
    "                \n",
    "            if not 'Abstract' in Article:\n",
    "                continue\n",
    "            Abstract = Article['Abstract']\n",
    "                \n",
    "            if not 'AbstractText' in Abstract:\n",
    "                continue\n",
    "            \n",
    "            AbstractText = Abstract['AbstractText']\n",
    "            if not AbstractText:\n",
    "                continue\n",
    "            \n",
    "            ret[pmid] = AbstractText[0]\n",
    "            \n",
    "        return ret"
   ]
  },
  {
   "cell_type": "code",
   "execution_count": 325,
   "metadata": {},
   "outputs": [],
   "source": [
    "m = Mutation('AGT:c.803T>C')\n",
    "abstracts = m.get_abstracts()"
   ]
  },
  {
   "cell_type": "code",
   "execution_count": 327,
   "metadata": {},
   "outputs": [
    {
     "data": {
      "text/plain": [
       "dict_keys(['19131662', '19263529', '19330901', '19559392', '21919968', '27616475', '25741868', '21467728', '1394429', '7649545', '7883995', '8513325', '9259580', '9421481', '9831339', '16059745', '18069999', '18248681', '18279468', '18513389', '18603647', '18637188', '18653189', '18698212', '18953568', '19108684', '19770777', '19932491', '20029521', '20047954', '20061926', '20185782', '20486282', '20570668', '20577119', '20592051', '20811292', '20981351', '21056700', '21058046', '21127830', '21146954', '21261619', '21304999', '21306748', '21438754', '21444836', '21515823', '21533139', '21540342', '21573014', '21681796', '21894447', '21988197', '22099458', '22100073', '22531885', '22569109', '22817530', '22858200', '23021345', '23036011', '23132613', '23133444', '23205182', '23251296', '23287839', '23333443', '23354977', '23497168', '23681449', '23716723', '24452035', '24622918', '24722536', '24737640', '25474356', '25512783', '25683681', '25723521', '26102248', '26283679', '26318936', '26335431', '26509357', '26588355', '26621708', '26627480', '26818744', '26819062', '26824906', '27068935', '27274104', '27342049', '27348238', '27380726', '27480094', '27584680', '27940662', '28361007', '28488548', '28605058', '28666769', '28690685', '28770234', '28828324', '28881807', '28903744', '29057680', '29520984', '2957843'])"
      ]
     },
     "execution_count": 327,
     "metadata": {},
     "output_type": "execute_result"
    }
   ],
   "source": [
    "abstracts.keys()"
   ]
  },
  {
   "cell_type": "code",
   "execution_count": 328,
   "metadata": {},
   "outputs": [
    {
     "data": {
      "text/plain": [
       "StringElement('The risk of an individual to develop an acute kidney injury (AKI), or its severity, cannot be reliably predicted by common clinical risk factors. Whether genetic risk factors have an explanatory role poses an interesting question, however. Thus, we conducted a systematic literature review regarding genetic predisposition to AKI or outcome of AKI patients.', attributes={'Label': 'BACKGROUND', 'NlmCategory': 'BACKGROUND'})"
      ]
     },
     "execution_count": 328,
     "metadata": {},
     "output_type": "execute_result"
    }
   ],
   "source": [
    "abstracts['26627480']"
   ]
  },
  {
   "cell_type": "code",
   "execution_count": 329,
   "metadata": {},
   "outputs": [
    {
     "data": {
      "text/plain": [
       "[19131662,\n",
       " 19263529,\n",
       " 19330901,\n",
       " 19559392,\n",
       " 21919968,\n",
       " 27616475,\n",
       " 25741868,\n",
       " 21467728,\n",
       " 1394429,\n",
       " 7649545,\n",
       " 7883995,\n",
       " 8348146,\n",
       " 8513325,\n",
       " 8518804,\n",
       " 9259580,\n",
       " 9421481,\n",
       " 9831339,\n",
       " 16059745,\n",
       " 18069999,\n",
       " 18248681,\n",
       " 18279468,\n",
       " 18513389,\n",
       " 18603647,\n",
       " 18637188,\n",
       " 18653189,\n",
       " 18698212,\n",
       " 18953568,\n",
       " 19108684,\n",
       " 19770777,\n",
       " 19932491,\n",
       " 20029521,\n",
       " 20047954,\n",
       " 20061926,\n",
       " 20185782,\n",
       " 20486282,\n",
       " 20570668,\n",
       " 20577119,\n",
       " 20592051,\n",
       " 20811292,\n",
       " 20981351,\n",
       " 21056700,\n",
       " 21058046,\n",
       " 21127830,\n",
       " 21146954,\n",
       " 21261619,\n",
       " 21304999,\n",
       " 21306748,\n",
       " 21438754,\n",
       " 21444836,\n",
       " 21515823,\n",
       " 21533139,\n",
       " 21540342,\n",
       " 21573014,\n",
       " 21681796,\n",
       " 21894447,\n",
       " 21988197,\n",
       " 22099458,\n",
       " 22100073,\n",
       " 22531885,\n",
       " 22569109,\n",
       " 22817530,\n",
       " 22858200,\n",
       " 23021345,\n",
       " 23036011,\n",
       " 23132613,\n",
       " 23133444,\n",
       " 23205182,\n",
       " 23251296,\n",
       " 23287839,\n",
       " 23333443,\n",
       " 23354977,\n",
       " 23497168,\n",
       " 23681449,\n",
       " 23716723,\n",
       " 24452035,\n",
       " 24622918,\n",
       " 24722536,\n",
       " 24737640,\n",
       " 25474356,\n",
       " 25512783,\n",
       " 25683681,\n",
       " 25723521,\n",
       " 26102248,\n",
       " 26283679,\n",
       " 26318936,\n",
       " 26335431,\n",
       " 26509357,\n",
       " 26588355,\n",
       " 26621708,\n",
       " 26627480,\n",
       " 26818744,\n",
       " 26819062,\n",
       " 26824906,\n",
       " 26933222,\n",
       " 27068935,\n",
       " 27274104,\n",
       " 27342049,\n",
       " 27348238,\n",
       " 27380726,\n",
       " 27454254,\n",
       " 27480094,\n",
       " 27584680,\n",
       " 27940662,\n",
       " 28361007,\n",
       " 28488548,\n",
       " 28605058,\n",
       " 28666769,\n",
       " 28690685,\n",
       " 28770234,\n",
       " 28828324,\n",
       " 28881807,\n",
       " 28903744,\n",
       " 29057680,\n",
       " 29520984,\n",
       " 2957843]"
      ]
     },
     "execution_count": 329,
     "metadata": {},
     "output_type": "execute_result"
    }
   ],
   "source": [
    "m.pubmed_ids"
   ]
  },
  {
   "cell_type": "code",
   "execution_count": 330,
   "metadata": {},
   "outputs": [
    {
     "data": {
      "text/plain": [
       "['missense_variant']"
      ]
     },
     "execution_count": 330,
     "metadata": {},
     "output_type": "execute_result"
    }
   ],
   "source": [
    "m.get_consequenmce()"
   ]
  },
  {
   "cell_type": "code",
   "execution_count": 331,
   "metadata": {},
   "outputs": [
    {
     "data": {
      "text/plain": [
       "1"
      ]
     },
     "execution_count": 331,
     "metadata": {},
     "output_type": "execute_result"
    }
   ],
   "source": [
    "len(m)"
   ]
  },
  {
   "cell_type": "code",
   "execution_count": 332,
   "metadata": {},
   "outputs": [
    {
     "name": "stdout",
     "output_type": "stream",
     "text": [
      "{\n",
      "    \"end\": 230710048,\n",
      "    \"assembly_name\": \"GRCh38\",\n",
      "    \"strand\": -1,\n",
      "    \"colocated_variants\": [\n",
      "        {\n",
      "            \"end\": 230710048,\n",
      "            \"allele_string\": \"HGMD_MUTATION\",\n",
      "            \"start\": 230710048,\n",
      "            \"seq_region_name\": \"1\",\n",
      "            \"strand\": 1,\n",
      "            \"phenotype_or_disease\": 1,\n",
      "            \"id\": \"CM920010\"\n",
      "        },\n",
      "        {\n",
      "            \"phenotype_or_disease\": 1,\n",
      "            \"clin_sig_allele\": \"G:benign;G:risk_factor\",\n",
      "            \"id\": \"rs699\",\n",
      "            \"pubmed\": [\n",
      "                19131662,\n",
      "                19263529,\n",
      "                19330901,\n",
      "                19559392,\n",
      "                21919968,\n",
      "                27616475,\n",
      "                25741868,\n",
      "                21467728,\n",
      "                1394429,\n",
      "                7649545,\n",
      "                7883995,\n",
      "                8348146,\n",
      "                8513325,\n",
      "                8518804,\n",
      "                9259580,\n",
      "                9421481,\n",
      "                9831339,\n",
      "                16059745,\n",
      "                18069999,\n",
      "                18248681,\n",
      "                18279468,\n",
      "                18513389,\n",
      "                18603647,\n",
      "                18637188,\n",
      "                18653189,\n",
      "                18698212,\n",
      "                18953568,\n",
      "                19108684,\n",
      "                19770777,\n",
      "                19932491,\n",
      "                20029521,\n",
      "                20047954,\n",
      "                20061926,\n",
      "                20185782,\n",
      "                20486282,\n",
      "                20570668,\n",
      "                20577119,\n",
      "                20592051,\n",
      "                20811292,\n",
      "                20981351,\n",
      "                21056700,\n",
      "                21058046,\n",
      "                21127830,\n",
      "                21146954,\n",
      "                21261619,\n",
      "                21304999,\n",
      "                21306748,\n",
      "                21438754,\n",
      "                21444836,\n",
      "                21515823,\n",
      "                21533139,\n",
      "                21540342,\n",
      "                21573014,\n",
      "                21681796,\n",
      "                21894447,\n",
      "                21988197,\n",
      "                22099458,\n",
      "                22100073,\n",
      "                22531885,\n",
      "                22569109,\n",
      "                22817530,\n",
      "                22858200,\n",
      "                23021345,\n",
      "                23036011,\n",
      "                23132613,\n",
      "                23133444,\n",
      "                23205182,\n",
      "                23251296,\n",
      "                23287839,\n",
      "                23333443,\n",
      "                23354977,\n",
      "                23497168,\n",
      "                23681449,\n",
      "                23716723,\n",
      "                24452035,\n",
      "                24622918,\n",
      "                24722536,\n",
      "                24737640,\n",
      "                25474356,\n",
      "                25512783,\n",
      "                25683681,\n",
      "                25723521,\n",
      "                26102248,\n",
      "                26283679,\n",
      "                26318936,\n",
      "                26335431,\n",
      "                26509357,\n",
      "                26588355,\n",
      "                26621708,\n",
      "                26627480,\n",
      "                26818744,\n",
      "                26819062,\n",
      "                26824906,\n",
      "                26933222,\n",
      "                27068935,\n",
      "                27274104,\n",
      "                27342049,\n",
      "                27348238,\n",
      "                27380726,\n",
      "                27454254,\n",
      "                27480094,\n",
      "                27584680,\n",
      "                27940662,\n",
      "                28361007,\n",
      "                28488548,\n",
      "                28605058,\n",
      "                28666769,\n",
      "                28690685,\n",
      "                28770234,\n",
      "                28828324,\n",
      "                28881807,\n",
      "                28903744,\n",
      "                29057680,\n",
      "                29520984,\n",
      "                2957843\n",
      "            ],\n",
      "            \"var_synonyms\": \"ClinVar::RCV000835695,RCV000405686,VCV000018068,RCV000019691,RCV000019692,RCV000019693,RCV000242838--OMIM::106150.0001--PharmGKB::PA166153539--Uniprot::VAR_007096\",\n",
      "            \"clin_sig\": [\n",
      "                \"benign\",\n",
      "                \"risk_factor\"\n",
      "            ],\n",
      "            \"start\": 230710048,\n",
      "            \"seq_region_name\": \"1\",\n",
      "            \"frequencies\": {\n",
      "                \"C\": {\n",
      "                    \"gnomad_amr\": 0.7196,\n",
      "                    \"gnomad_afr\": 0.8451,\n",
      "                    \"gnomad\": 0.5481,\n",
      "                    \"gnomad_asj\": 0.44,\n",
      "                    \"gnomad_oth\": 0.5002,\n",
      "                    \"ea\": 0.4258,\n",
      "                    \"eas\": 0.8532,\n",
      "                    \"gnomad_nfe\": 0.4197,\n",
      "                    \"gnomad_fin\": 0.441,\n",
      "                    \"gnomad_sas\": 0.6202,\n",
      "                    \"sas\": 0.636,\n",
      "                    \"eur\": 0.4115,\n",
      "                    \"afr\": 0.9032,\n",
      "                    \"amr\": 0.6354,\n",
      "                    \"gnomad_eas\": 0.8388,\n",
      "                    \"aa\": 0.8268\n",
      "                }\n",
      "            },\n",
      "            \"strand\": 1,\n",
      "            \"minor_allele_freq\": 0.2949,\n",
      "            \"end\": 230710048,\n",
      "            \"minor_allele\": \"A\",\n",
      "            \"allele_string\": \"A/G\"\n",
      "        }\n",
      "    ],\n",
      "    \"seq_region_name\": \"1\",\n",
      "    \"id\": \"AGT:c.803T>C\",\n",
      "    \"transcript_consequences\": [\n",
      "        {\n",
      "            \"sift_prediction\": \"tolerated\",\n",
      "            \"amino_acids\": \"M/T\",\n",
      "            \"polyphen_prediction\": \"benign\",\n",
      "            \"variant_allele\": \"C\",\n",
      "            \"sift_score\": 1,\n",
      "            \"biotype\": \"protein_coding\",\n",
      "            \"impact\": \"MODERATE\",\n",
      "            \"gene_id\": \"ENSG00000135744\",\n",
      "            \"hgnc_id\": \"HGNC:333\",\n",
      "            \"transcript_id\": \"ENST00000366667\",\n",
      "            \"cdna_start\": 843,\n",
      "            \"protein_end\": 268,\n",
      "            \"strand\": -1,\n",
      "            \"gene_symbol_source\": \"HGNC\",\n",
      "            \"cds_start\": 803,\n",
      "            \"polyphen_score\": 0,\n",
      "            \"cdna_end\": 843,\n",
      "            \"gene_symbol\": \"AGT\",\n",
      "            \"codons\": \"aTg/aCg\",\n",
      "            \"protein_start\": 268,\n",
      "            \"cds_end\": 803,\n",
      "            \"consequence_terms\": [\n",
      "                \"missense_variant\"\n",
      "            ]\n",
      "        },\n",
      "        {\n",
      "            \"gene_id\": \"ENSG00000244137\",\n",
      "            \"gene_symbol\": \"AL512328.1\",\n",
      "            \"distance\": 650,\n",
      "            \"consequence_terms\": [\n",
      "                \"downstream_gene_variant\"\n",
      "            ],\n",
      "            \"transcript_id\": \"ENST00000412344\",\n",
      "            \"variant_allele\": \"C\",\n",
      "            \"strand\": -1,\n",
      "            \"gene_symbol_source\": \"Clone_based_ensembl_gene\",\n",
      "            \"impact\": \"MODIFIER\",\n",
      "            \"biotype\": \"lncRNA\"\n",
      "        }\n",
      "    ],\n",
      "    \"allele_string\": \"T/C\",\n",
      "    \"input\": \"AGT:c.803T>C\",\n",
      "    \"start\": 230710048,\n",
      "    \"most_severe_consequence\": \"missense_variant\"\n",
      "}\n"
     ]
    }
   ],
   "source": [
    "print (json.dumps(m.data[0], indent=4))"
   ]
  },
  {
   "cell_type": "code",
   "execution_count": 333,
   "metadata": {},
   "outputs": [
    {
     "data": {
      "text/plain": [
       "[19131662,\n",
       " 19263529,\n",
       " 19330901,\n",
       " 19559392,\n",
       " 21919968,\n",
       " 27616475,\n",
       " 25741868,\n",
       " 21467728,\n",
       " 1394429,\n",
       " 7649545,\n",
       " 7883995,\n",
       " 8348146,\n",
       " 8513325,\n",
       " 8518804,\n",
       " 9259580,\n",
       " 9421481,\n",
       " 9831339,\n",
       " 16059745,\n",
       " 18069999,\n",
       " 18248681,\n",
       " 18279468,\n",
       " 18513389,\n",
       " 18603647,\n",
       " 18637188,\n",
       " 18653189,\n",
       " 18698212,\n",
       " 18953568,\n",
       " 19108684,\n",
       " 19770777,\n",
       " 19932491,\n",
       " 20029521,\n",
       " 20047954,\n",
       " 20061926,\n",
       " 20185782,\n",
       " 20486282,\n",
       " 20570668,\n",
       " 20577119,\n",
       " 20592051,\n",
       " 20811292,\n",
       " 20981351,\n",
       " 21056700,\n",
       " 21058046,\n",
       " 21127830,\n",
       " 21146954,\n",
       " 21261619,\n",
       " 21304999,\n",
       " 21306748,\n",
       " 21438754,\n",
       " 21444836,\n",
       " 21515823,\n",
       " 21533139,\n",
       " 21540342,\n",
       " 21573014,\n",
       " 21681796,\n",
       " 21894447,\n",
       " 21988197,\n",
       " 22099458,\n",
       " 22100073,\n",
       " 22531885,\n",
       " 22569109,\n",
       " 22817530,\n",
       " 22858200,\n",
       " 23021345,\n",
       " 23036011,\n",
       " 23132613,\n",
       " 23133444,\n",
       " 23205182,\n",
       " 23251296,\n",
       " 23287839,\n",
       " 23333443,\n",
       " 23354977,\n",
       " 23497168,\n",
       " 23681449,\n",
       " 23716723,\n",
       " 24452035,\n",
       " 24622918,\n",
       " 24722536,\n",
       " 24737640,\n",
       " 25474356,\n",
       " 25512783,\n",
       " 25683681,\n",
       " 25723521,\n",
       " 26102248,\n",
       " 26283679,\n",
       " 26318936,\n",
       " 26335431,\n",
       " 26509357,\n",
       " 26588355,\n",
       " 26621708,\n",
       " 26627480,\n",
       " 26818744,\n",
       " 26819062,\n",
       " 26824906,\n",
       " 26933222,\n",
       " 27068935,\n",
       " 27274104,\n",
       " 27342049,\n",
       " 27348238,\n",
       " 27380726,\n",
       " 27454254,\n",
       " 27480094,\n",
       " 27584680,\n",
       " 27940662,\n",
       " 28361007,\n",
       " 28488548,\n",
       " 28605058,\n",
       " 28666769,\n",
       " 28690685,\n",
       " 28770234,\n",
       " 28828324,\n",
       " 28881807,\n",
       " 28903744,\n",
       " 29057680,\n",
       " 29520984,\n",
       " 2957843]"
      ]
     },
     "execution_count": 333,
     "metadata": {},
     "output_type": "execute_result"
    }
   ],
   "source": [
    "m.data[0]['colocated_variants'][1]['pubmed']"
   ]
  },
  {
   "cell_type": "code",
   "execution_count": null,
   "metadata": {},
   "outputs": [],
   "source": []
  },
  {
   "cell_type": "code",
   "execution_count": 335,
   "metadata": {},
   "outputs": [],
   "source": [
    "m2 = Mutation('ENST00000003084:c.1431_1432insTTC')"
   ]
  },
  {
   "cell_type": "code",
   "execution_count": 336,
   "metadata": {},
   "outputs": [
    {
     "name": "stdout",
     "output_type": "stream",
     "text": [
      "ENST00000003084:c.1431_1432insTTC\n"
     ]
    }
   ],
   "source": [
    "print (m2)"
   ]
  },
  {
   "cell_type": "code",
   "execution_count": 337,
   "metadata": {},
   "outputs": [
    {
     "data": {
      "text/plain": [
       "3"
      ]
     },
     "execution_count": 337,
     "metadata": {},
     "output_type": "execute_result"
    }
   ],
   "source": [
    "len(m2)"
   ]
  },
  {
   "cell_type": "code",
   "execution_count": 338,
   "metadata": {},
   "outputs": [
    {
     "data": {
      "text/plain": [
       "{'consequence_terms': ['upstream_gene_variant'],\n",
       " 'gene_symbol': 'CFTR',\n",
       " 'gene_symbol_source': 'HGNC',\n",
       " 'biotype': 'processed_transcript',\n",
       " 'gene_id': 'ENSG00000001626',\n",
       " 'variant_allele': 'TTC',\n",
       " 'transcript_id': 'ENST00000472848',\n",
       " 'hgnc_id': 'HGNC:1884',\n",
       " 'distance': 135,\n",
       " 'strand': 1,\n",
       " 'impact': 'MODIFIER'}"
      ]
     },
     "execution_count": 338,
     "metadata": {},
     "output_type": "execute_result"
    }
   ],
   "source": [
    "m2.data[0]['transcript_consequences'][3]"
   ]
  },
  {
   "cell_type": "code",
   "execution_count": 268,
   "metadata": {},
   "outputs": [
    {
     "name": "stdout",
     "output_type": "stream",
     "text": [
      "ENST00000003084\n",
      "ENST00000426809\n",
      "ENST00000441019\n",
      "ENST00000472848\n",
      "ENST00000647978\n",
      "ENST00000648260\n",
      "ENST00000649406\n",
      "ENST00000649781\n"
     ]
    }
   ],
   "source": [
    "for x in m2:\n",
    "    print (x['transcript_id'])\n",
    "    #print (x)"
   ]
  },
  {
   "cell_type": "code",
   "execution_count": null,
   "metadata": {},
   "outputs": [],
   "source": []
  }
 ],
 "metadata": {
  "kernelspec": {
   "display_name": "Python 3",
   "language": "python",
   "name": "python3"
  },
  "language_info": {
   "codemirror_mode": {
    "name": "ipython",
    "version": 3
   },
   "file_extension": ".py",
   "mimetype": "text/x-python",
   "name": "python",
   "nbconvert_exporter": "python",
   "pygments_lexer": "ipython3",
   "version": "3.7.0"
  }
 },
 "nbformat": 4,
 "nbformat_minor": 2
}
