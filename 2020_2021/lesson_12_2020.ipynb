{
 "cells": [
  {
   "cell_type": "markdown",
   "metadata": {},
   "source": [
    "* hypothesis testing\n",
    "   * https://twitter.com/meganinlisbon/status/1101870079858409478 \n",
    "   * https://www.youtube.com/watch?v=5Dnw46eC-0o&feature=emb_logo \n",
    "* biopython\n",
    "* timeit \n",
    "* bokeh\n",
    "* decorators\n",
    "* virtual enviornments \n",
    "* working with gzip files \n",
    "* networkx \n",
    "* time.sleep\n",
    "* os : execute \n",
    "* static typing \n",
    "* args, kwargs\n",
    "* django \n",
    "\n"
   ]
  },
  {
   "cell_type": "code",
   "execution_count": 1,
   "metadata": {},
   "outputs": [
    {
     "data": {
      "text/plain": [
       "'Andromaxh'"
      ]
     },
     "execution_count": 1,
     "metadata": {},
     "output_type": "execute_result"
    }
   ],
   "source": [
    "names = [\n",
    "    'Sofia',\n",
    "    'Antonia',\n",
    "    'Aris',\n",
    "    'Christos',\n",
    "    'Danah',\n",
    "    'Andromaxh',\n",
    "    'Iwanna',\n",
    "    'Tzortzina',\n",
    "]\n",
    "\n",
    "import random\n",
    "\n",
    "def rs():\n",
    "    return random.choice(names)\n",
    "rs()\n"
   ]
  },
  {
   "cell_type": "code",
   "execution_count": 2,
   "metadata": {},
   "outputs": [],
   "source": [
    "a = [\n",
    "    29, 19, 20, \n",
    "    20, 23, 17, \n",
    "    21, 24, 31,\n",
    "    26, 28, 20,\n",
    "    27, 19, 25,\n",
    "    31, 24, 28,\n",
    "    24, 29, 21,\n",
    "    21, 18, 27,\n",
    "    20\n",
    "]\n",
    "\n",
    "b = [\n",
    "    21, 19, 13,\n",
    "    22, 15, 22,\n",
    "    15, 22, 20,\n",
    "    12, 24, 24,\n",
    "    21, 19, 18,\n",
    "    16, 23, 20,\n",
    "]"
   ]
  },
  {
   "cell_type": "code",
   "execution_count": 36,
   "metadata": {},
   "outputs": [
    {
     "data": {
      "text/plain": [
       "0.06226780358981243"
      ]
     },
     "execution_count": 36,
     "metadata": {},
     "output_type": "execute_result"
    }
   ],
   "source": [
    "female_yes = 83\n",
    "female_total = 264\n",
    "\n",
    "male_yes = 255\n",
    "male_total = 677 \n",
    "\n",
    "female_success_rate = female_yes/female_total\n",
    "male_success_rate = male_yes/male_total\n",
    "\n",
    "diff = male_success_rate - female_success_rate\n",
    "diff"
   ]
  },
  {
   "cell_type": "code",
   "execution_count": 8,
   "metadata": {},
   "outputs": [],
   "source": [
    "total_papers = female_total + male_total\n",
    "succeed = female_yes + male_yes\n",
    "fail = total_papers - succeed\n"
   ]
  },
  {
   "cell_type": "code",
   "execution_count": 117,
   "metadata": {},
   "outputs": [],
   "source": [
    "import random\n",
    "\n",
    "l = [True] * succeed + [False] * fail\n",
    "def rand_papers():\n",
    "    \n",
    "    random.shuffle(l)\n",
    "    \n",
    "    female_send = l[:female_total]\n",
    "    male_send = l[female_total:]\n",
    "    \n",
    "    f_suc = sum(female_send)\n",
    "    m_suc = sum(male_send)\n",
    "    \n",
    "    f_rate = f_suc/female_total\n",
    "    m_rate = m_suc/male_total\n",
    "    \n",
    "    rate_diff = m_rate - f_rate\n",
    "    #print (rate_diff)\n",
    "    \n",
    "    return rate_diff >= 0.06226780358981243\n",
    "\n"
   ]
  },
  {
   "cell_type": "code",
   "execution_count": 169,
   "metadata": {},
   "outputs": [
    {
     "name": "stdout",
     "output_type": "stream",
     "text": [
      "1.01 ms ± 57.2 µs per loop (mean ± std. dev. of 7 runs, 1000 loops each)\n"
     ]
    }
   ],
   "source": [
    "%%timeit \n",
    "rand_papers()"
   ]
  },
  {
   "cell_type": "code",
   "execution_count": null,
   "metadata": {},
   "outputs": [],
   "source": []
  },
  {
   "cell_type": "code",
   "execution_count": 118,
   "metadata": {},
   "outputs": [
    {
     "name": "stdout",
     "output_type": "stream",
     "text": [
      "0.0439\n"
     ]
    }
   ],
   "source": [
    "\n",
    "conferences = 10_000\n",
    "s = 0\n",
    "for x in range(conferences):\n",
    "    if rand_papers():\n",
    "        s += 1\n",
    "        \n",
    "print (s/conferences)"
   ]
  },
  {
   "cell_type": "code",
   "execution_count": null,
   "metadata": {},
   "outputs": [],
   "source": [
    "# statistical significance level 0.05 \n",
    "# Random permutations\n",
    "# False Positive Ratio\n",
    "\n",
    "\n"
   ]
  },
  {
   "cell_type": "code",
   "execution_count": 42,
   "metadata": {},
   "outputs": [
    {
     "data": {
      "text/plain": [
       "[True, True, True, False, False, False, False, False]"
      ]
     },
     "execution_count": 42,
     "metadata": {},
     "output_type": "execute_result"
    }
   ],
   "source": [
    "[True] * 3 + [False] * 5"
   ]
  },
  {
   "cell_type": "code",
   "execution_count": 5,
   "metadata": {},
   "outputs": [
    {
     "data": {
      "text/plain": [
       "'Andromaxh'"
      ]
     },
     "execution_count": 5,
     "metadata": {},
     "output_type": "execute_result"
    }
   ],
   "source": [
    "rs()"
   ]
  },
  {
   "cell_type": "code",
   "execution_count": 32,
   "metadata": {},
   "outputs": [
    {
     "name": "stdout",
     "output_type": "stream",
     "text": [
      "[4, 3, 2, 1]\n"
     ]
    }
   ],
   "source": [
    "a=[1,2,3,4]\n",
    "random.shuffle(a)\n",
    "print (a)"
   ]
  },
  {
   "cell_type": "code",
   "execution_count": 204,
   "metadata": {},
   "outputs": [
    {
     "name": "stdout",
     "output_type": "stream",
     "text": [
      "23.68 19.22222222222222\n",
      "4.457777777777778\n"
     ]
    }
   ],
   "source": [
    "beer = [\n",
    "    29, 19, 20, \n",
    "    20, 23, 17, \n",
    "    21, 24, 31,\n",
    "    26, 28, 20,\n",
    "    27, 19, 25,\n",
    "    31, 24, 28,\n",
    "    24, 29, 21,\n",
    "    21, 18, 27,\n",
    "    20\n",
    "]\n",
    "\n",
    "water = [\n",
    "    21, 19, 13,\n",
    "    22, 15, 22,\n",
    "    15, 22, 20,\n",
    "    12, 24, 24,\n",
    "    21, 19, 18,\n",
    "    16, 23, 20,\n",
    "]\n",
    "\n",
    "beer_l = len(beer)\n",
    "water_l = len(water)\n",
    "\n",
    "beer_avg = sum(beer)/beer_l\n",
    "water_avg = sum(water)/water_l\n",
    "\n",
    "print (beer_avg, water_avg)\n",
    "diff = beer_avg - water_avg\n",
    "print (diff)"
   ]
  },
  {
   "cell_type": "code",
   "execution_count": 205,
   "metadata": {},
   "outputs": [],
   "source": [
    "from scipy.stats import ttest_ind"
   ]
  },
  {
   "cell_type": "code",
   "execution_count": 212,
   "metadata": {},
   "outputs": [
    {
     "data": {
      "text/plain": [
       "0.0004205775278799323"
      ]
     },
     "execution_count": 212,
     "metadata": {},
     "output_type": "execute_result"
    }
   ],
   "source": [
    "ttest_ind(beer, water).pvalue/2"
   ]
  },
  {
   "cell_type": "code",
   "execution_count": 170,
   "metadata": {},
   "outputs": [],
   "source": [
    "def random_m():\n",
    "    water_beer = beer + water\n",
    "    random.shuffle(water_beer)\n",
    "    \n",
    "    random_beer = water_beer[:beer_l]\n",
    "    random_water = water_beer[beer_l:]\n",
    "    \n",
    "    random_beer_average = sum(random_beer) / beer_l\n",
    "    random_water_average = sum(random_water) / water_l\n",
    "    \n",
    "    random_diff = random_beer_average - random_water_average\n",
    "    return random_diff >= 4.457777777777778"
   ]
  },
  {
   "cell_type": "code",
   "execution_count": 171,
   "metadata": {},
   "outputs": [
    {
     "name": "stdout",
     "output_type": "stream",
     "text": [
      "43.2 µs ± 2.4 µs per loop (mean ± std. dev. of 7 runs, 10000 loops each)\n"
     ]
    }
   ],
   "source": [
    "%%timeit \n",
    "random_m()"
   ]
  },
  {
   "cell_type": "code",
   "execution_count": null,
   "metadata": {},
   "outputs": [],
   "source": []
  },
  {
   "cell_type": "code",
   "execution_count": 130,
   "metadata": {},
   "outputs": [
    {
     "data": {
      "text/plain": [
       "0.00035"
      ]
     },
     "execution_count": 130,
     "metadata": {},
     "output_type": "execute_result"
    }
   ],
   "source": [
    "s = 0\n",
    "tries = 100_000\n",
    "for x in range(tries):\n",
    "    if random_m():\n",
    "        s += 1\n",
    "\n",
    "s / tries"
   ]
  },
  {
   "cell_type": "code",
   "execution_count": 134,
   "metadata": {},
   "outputs": [],
   "source": [
    "import numpy as np\n",
    "\n",
    "def random_m_np():\n",
    "    water_beer = np.array(beer + water)\n",
    "    #random.shuffle(water_beer)\n",
    "    np.random.shuffle(water_beer)\n",
    "    \n",
    "    random_beer = water_beer[:beer_l]\n",
    "    random_water = water_beer[beer_l:]\n",
    "    \n",
    "    random_beer_average = np.average(random_beer)\n",
    "    random_water_average = np.average(random_water)\n",
    "    \n",
    "    random_diff = random_beer_average - random_water_average\n",
    "    return random_diff >= 4.457777777777778\n"
   ]
  },
  {
   "cell_type": "code",
   "execution_count": 172,
   "metadata": {},
   "outputs": [
    {
     "name": "stdout",
     "output_type": "stream",
     "text": [
      "51.8 µs ± 3.25 µs per loop (mean ± std. dev. of 7 runs, 10000 loops each)\n"
     ]
    }
   ],
   "source": [
    "%%timeit \n",
    "random_m_np()"
   ]
  },
  {
   "cell_type": "code",
   "execution_count": null,
   "metadata": {},
   "outputs": [],
   "source": []
  },
  {
   "cell_type": "code",
   "execution_count": 137,
   "metadata": {},
   "outputs": [
    {
     "data": {
      "text/plain": [
       "0.0005"
      ]
     },
     "execution_count": 137,
     "metadata": {},
     "output_type": "execute_result"
    }
   ],
   "source": [
    "np.average([random_m_np() for x in range(100_000)])"
   ]
  },
  {
   "cell_type": "code",
   "execution_count": null,
   "metadata": {},
   "outputs": [],
   "source": []
  },
  {
   "cell_type": "code",
   "execution_count": 133,
   "metadata": {},
   "outputs": [
    {
     "data": {
      "text/plain": [
       "[2, 1, 4, 3, 2]"
      ]
     },
     "execution_count": 133,
     "metadata": {},
     "output_type": "execute_result"
    }
   ],
   "source": [
    "a = [1,2,2,3,4]\n",
    "np.random.shuffle(a)\n",
    "a"
   ]
  },
  {
   "cell_type": "markdown",
   "metadata": {},
   "source": [
    "### biopython"
   ]
  },
  {
   "cell_type": "code",
   "execution_count": 138,
   "metadata": {},
   "outputs": [],
   "source": [
    "from Bio import Entrez\n",
    "\n",
    "# For some reason Entrez needs to know who are you\n",
    "# but you don't have to be that honest..\n",
    "Entrez.email = 'anonymous@gmail.com'  "
   ]
  },
  {
   "cell_type": "code",
   "execution_count": 139,
   "metadata": {},
   "outputs": [],
   "source": [
    "handle = Entrez.einfo()\n",
    "record = Entrez.read(handle)"
   ]
  },
  {
   "cell_type": "code",
   "execution_count": 142,
   "metadata": {},
   "outputs": [
    {
     "data": {
      "text/html": [
       "<div>\n",
       "<style scoped>\n",
       "    .dataframe tbody tr th:only-of-type {\n",
       "        vertical-align: middle;\n",
       "    }\n",
       "\n",
       "    .dataframe tbody tr th {\n",
       "        vertical-align: top;\n",
       "    }\n",
       "\n",
       "    .dataframe thead th {\n",
       "        text-align: right;\n",
       "    }\n",
       "</style>\n",
       "<table border=\"1\" class=\"dataframe\">\n",
       "  <thead>\n",
       "    <tr style=\"text-align: right;\">\n",
       "      <th></th>\n",
       "      <th>DbList</th>\n",
       "    </tr>\n",
       "  </thead>\n",
       "  <tbody>\n",
       "    <tr>\n",
       "      <th>0</th>\n",
       "      <td>pubmed</td>\n",
       "    </tr>\n",
       "    <tr>\n",
       "      <th>1</th>\n",
       "      <td>protein</td>\n",
       "    </tr>\n",
       "    <tr>\n",
       "      <th>2</th>\n",
       "      <td>nuccore</td>\n",
       "    </tr>\n",
       "    <tr>\n",
       "      <th>3</th>\n",
       "      <td>ipg</td>\n",
       "    </tr>\n",
       "    <tr>\n",
       "      <th>4</th>\n",
       "      <td>nucleotide</td>\n",
       "    </tr>\n",
       "    <tr>\n",
       "      <th>5</th>\n",
       "      <td>structure</td>\n",
       "    </tr>\n",
       "    <tr>\n",
       "      <th>6</th>\n",
       "      <td>genome</td>\n",
       "    </tr>\n",
       "    <tr>\n",
       "      <th>7</th>\n",
       "      <td>annotinfo</td>\n",
       "    </tr>\n",
       "    <tr>\n",
       "      <th>8</th>\n",
       "      <td>assembly</td>\n",
       "    </tr>\n",
       "    <tr>\n",
       "      <th>9</th>\n",
       "      <td>bioproject</td>\n",
       "    </tr>\n",
       "    <tr>\n",
       "      <th>10</th>\n",
       "      <td>biosample</td>\n",
       "    </tr>\n",
       "    <tr>\n",
       "      <th>11</th>\n",
       "      <td>blastdbinfo</td>\n",
       "    </tr>\n",
       "    <tr>\n",
       "      <th>12</th>\n",
       "      <td>books</td>\n",
       "    </tr>\n",
       "    <tr>\n",
       "      <th>13</th>\n",
       "      <td>cdd</td>\n",
       "    </tr>\n",
       "    <tr>\n",
       "      <th>14</th>\n",
       "      <td>clinvar</td>\n",
       "    </tr>\n",
       "    <tr>\n",
       "      <th>15</th>\n",
       "      <td>gap</td>\n",
       "    </tr>\n",
       "    <tr>\n",
       "      <th>16</th>\n",
       "      <td>gapplus</td>\n",
       "    </tr>\n",
       "    <tr>\n",
       "      <th>17</th>\n",
       "      <td>grasp</td>\n",
       "    </tr>\n",
       "    <tr>\n",
       "      <th>18</th>\n",
       "      <td>dbvar</td>\n",
       "    </tr>\n",
       "    <tr>\n",
       "      <th>19</th>\n",
       "      <td>gene</td>\n",
       "    </tr>\n",
       "    <tr>\n",
       "      <th>20</th>\n",
       "      <td>gds</td>\n",
       "    </tr>\n",
       "    <tr>\n",
       "      <th>21</th>\n",
       "      <td>geoprofiles</td>\n",
       "    </tr>\n",
       "    <tr>\n",
       "      <th>22</th>\n",
       "      <td>homologene</td>\n",
       "    </tr>\n",
       "    <tr>\n",
       "      <th>23</th>\n",
       "      <td>medgen</td>\n",
       "    </tr>\n",
       "    <tr>\n",
       "      <th>24</th>\n",
       "      <td>mesh</td>\n",
       "    </tr>\n",
       "    <tr>\n",
       "      <th>25</th>\n",
       "      <td>ncbisearch</td>\n",
       "    </tr>\n",
       "    <tr>\n",
       "      <th>26</th>\n",
       "      <td>nlmcatalog</td>\n",
       "    </tr>\n",
       "    <tr>\n",
       "      <th>27</th>\n",
       "      <td>omim</td>\n",
       "    </tr>\n",
       "    <tr>\n",
       "      <th>28</th>\n",
       "      <td>orgtrack</td>\n",
       "    </tr>\n",
       "    <tr>\n",
       "      <th>29</th>\n",
       "      <td>pmc</td>\n",
       "    </tr>\n",
       "    <tr>\n",
       "      <th>30</th>\n",
       "      <td>popset</td>\n",
       "    </tr>\n",
       "    <tr>\n",
       "      <th>31</th>\n",
       "      <td>proteinclusters</td>\n",
       "    </tr>\n",
       "    <tr>\n",
       "      <th>32</th>\n",
       "      <td>pcassay</td>\n",
       "    </tr>\n",
       "    <tr>\n",
       "      <th>33</th>\n",
       "      <td>protfam</td>\n",
       "    </tr>\n",
       "    <tr>\n",
       "      <th>34</th>\n",
       "      <td>biosystems</td>\n",
       "    </tr>\n",
       "    <tr>\n",
       "      <th>35</th>\n",
       "      <td>pccompound</td>\n",
       "    </tr>\n",
       "    <tr>\n",
       "      <th>36</th>\n",
       "      <td>pcsubstance</td>\n",
       "    </tr>\n",
       "    <tr>\n",
       "      <th>37</th>\n",
       "      <td>seqannot</td>\n",
       "    </tr>\n",
       "    <tr>\n",
       "      <th>38</th>\n",
       "      <td>snp</td>\n",
       "    </tr>\n",
       "    <tr>\n",
       "      <th>39</th>\n",
       "      <td>sra</td>\n",
       "    </tr>\n",
       "    <tr>\n",
       "      <th>40</th>\n",
       "      <td>taxonomy</td>\n",
       "    </tr>\n",
       "    <tr>\n",
       "      <th>41</th>\n",
       "      <td>biocollections</td>\n",
       "    </tr>\n",
       "    <tr>\n",
       "      <th>42</th>\n",
       "      <td>gtr</td>\n",
       "    </tr>\n",
       "  </tbody>\n",
       "</table>\n",
       "</div>"
      ],
      "text/plain": [
       "             DbList\n",
       "0            pubmed\n",
       "1           protein\n",
       "2           nuccore\n",
       "3               ipg\n",
       "4        nucleotide\n",
       "5         structure\n",
       "6            genome\n",
       "7         annotinfo\n",
       "8          assembly\n",
       "9        bioproject\n",
       "10        biosample\n",
       "11      blastdbinfo\n",
       "12            books\n",
       "13              cdd\n",
       "14          clinvar\n",
       "15              gap\n",
       "16          gapplus\n",
       "17            grasp\n",
       "18            dbvar\n",
       "19             gene\n",
       "20              gds\n",
       "21      geoprofiles\n",
       "22       homologene\n",
       "23           medgen\n",
       "24             mesh\n",
       "25       ncbisearch\n",
       "26       nlmcatalog\n",
       "27             omim\n",
       "28         orgtrack\n",
       "29              pmc\n",
       "30           popset\n",
       "31  proteinclusters\n",
       "32          pcassay\n",
       "33          protfam\n",
       "34       biosystems\n",
       "35       pccompound\n",
       "36      pcsubstance\n",
       "37         seqannot\n",
       "38              snp\n",
       "39              sra\n",
       "40         taxonomy\n",
       "41   biocollections\n",
       "42              gtr"
      ]
     },
     "execution_count": 142,
     "metadata": {},
     "output_type": "execute_result"
    }
   ],
   "source": [
    "pd.DataFrame(record)"
   ]
  },
  {
   "cell_type": "code",
   "execution_count": null,
   "metadata": {},
   "outputs": [],
   "source": []
  },
  {
   "cell_type": "code",
   "execution_count": 141,
   "metadata": {},
   "outputs": [],
   "source": [
    "import pandas as pd"
   ]
  },
  {
   "cell_type": "code",
   "execution_count": 148,
   "metadata": {},
   "outputs": [
    {
     "name": "stdout",
     "output_type": "stream",
     "text": [
      ">NM_000762.5 Homo sapiens cytochrome P450 family 2 subfamily A member 6 (CYP2A6), mRNA\n",
      "ATCTATCATCCCACTACCACCATGCTGGCCTCAGGGATGCTTCTGGTGGCCTTGCTGGTCTGCCTGACTG\n",
      "TAATGGTCTTGATGTCTGTTTGGCAGCAGAGGAAGAGCAAGGGGAAGCTGCCTCCGGGACCCACCCCATT\n",
      "GCCCTTCATTGGAAACTACCTGCAGCTGAACACAGAGCAGATGTACAACTCCCTCATGAAGATCAGTGAG\n",
      "CGCTATGGCCCCGTGTTCACCATTCACTTGGGGCCCCGGCGGGTCGTGGTGCTGTGTGGACATGATGCCG\n",
      "TCAGGGAGGCTCTGGTGGACCAGGCTGAGGAGTTCAGCGGGCGAGGCGAGCAAGCCACCTTCGACTGGGT\n",
      "CTTCAAAGGCTATGGCGTGGTATTCAGCAACGGGGAGCGCGCCAAGCAGCTCCGGCGCTTCTCCATCGCC\n",
      "ACCCTGCGGGACTTCGGGGTGGGCAAGCGAGGCATCGAGGAGCGCATCCAGGAGGAGGCGGGCTTCCTCA\n",
      "TCGACGCCCTCCGGGGCACTGGCGGCGCCAATATCGATCCCACCTTCTTCCTGAGCCGCACAGTCTCCAA\n",
      "TGTCATCAGCTCCATTGTCTTTGGGGACCGCTTTGACTATAAGGACAAAGAGTTCCTGTCACTGTTGCGC\n",
      "ATGATGCTAGGAATCTTCCAGTTCACGTCAACCTCCACGGGGCAGCTCTATGAGATGTTCTCTTCGGTGA\n",
      "TGAAACACCTGCCAGGACCACAGCAACAGGCCTTTCAGTTGCTGCAAGGGCTGGAGGACTTCATAGCCAA\n",
      "GAAGGTGGAGCACAACCAGCGCACGCTGGATCCCAATTCCCCACGGGACTTCATTGACTCCTTTCTCATC\n",
      "CGCATGCAGGAGGAGGAGAAGAACCCCAACACGGAGTTCTACTTGAAAAACCTGGTGATGACCACGTTGA\n",
      "ACCTCTTCATTGGGGGCACCGAGACCGTCAGCACCACCCTGCGCTATGGCTTCTTGCTGCTCATGAAGCA\n",
      "CCCAGAGGTGGAGGCCAAGGTCCATGAGGAGATTGACAGAGTGATCGGCAAGAACCGGCAGCCCAAGTTT\n",
      "GAGGACCGGGCCAAGATGCCCTACATGGAGGCAGTGATCCACGAGATCCAAAGATTTGGAGACGTGATCC\n",
      "CCATGAGTTTGGCCCGCAGAGTCAAAAAGGACACCAAGTTTCGGGATTTCTTCCTCCCTAAGGGCACCGA\n",
      "AGTGTACCCTATGCTGGGCTCTGTGCTGAGAGACCCCAGTTTCTTCTCCAACCCCCAGGACTTCAATCCC\n",
      "CAGCACTTCCTGAATGAGAAGGGGCAGTTTAAGAAGAGTGATGCTTTTGTGCCCTTTTCCATCGGAAAGC\n",
      "GGAACTGTTTCGGAGAAGGCCTGGCCAGAATGGAGCTCTTTCTCTTCTTCACCACCGTCATGCAGAACTT\n",
      "CCGCCTCAAGTCCTCCCAGTCACCTAAGGACATTGACGTGTCCCCCAAACACGTGGGCTTTGCCACGATC\n",
      "CCACGAAACTACACCATGAGCTTCCTGCCCCGCTGAGCGAGGGCTGTGCCGGTGCAGGTCTGGTGGGCGG\n",
      "GGCCAGGGAAAGGGCAGGGCCAAGACCGGGCTTGGGAGAGGGGCGCAGCTAAGACTGGGGGCAGGATGGC\n",
      "GGAAAGGAAGGGGCGTGGTGGCTAGAGGGAAGAGAAGAAACAGAAGCGGCTCAGTTCACCTTGATAAGGT\n",
      "GCTTCCGAGCTGGGATGAGAGGAAGGAAACCCTTACATTATGCTATGAAGAGTAGTAATAATAGCAGCTC\n",
      "TTATTTCCTGAGCAAAAAAAAAAAA\n",
      "\n",
      "\n"
     ]
    }
   ],
   "source": [
    "handle = Entrez.efetch(\n",
    "  db='nuccore', \n",
    "  id='NM_000762.5', \n",
    "  retmode='text', \n",
    "  rettype='fasta',\n",
    "  #rettype='genbank',\n",
    ")\n",
    "\n",
    "data = handle.read()\n",
    "print (data)"
   ]
  },
  {
   "cell_type": "code",
   "execution_count": 157,
   "metadata": {},
   "outputs": [],
   "source": [
    "from Bio.Blast import NCBIWWW\n",
    "from Bio.Blast import NCBIXML\n",
    "\n",
    "data_2 = 'GGAACTGTTTCGGAGAAGGCCTGGCCAGAATGGAGCTCTTTCTCTTCTTCACCACCGTCATGCAGAACTT'\n",
    "\n",
    "#result_handle = NCBIWWW.qblast(\"blastn\", \"refseq_genomic_human\", data.format(\"fasta\"))\n",
    "result_handle = NCBIWWW.qblast(\"blastn\", \"nt\", data.format(\"fasta\"))\n",
    "#result_handle = NCBIWWW.qblast(\"blastn\", \"refseq_genomic_human\", data_2)\n",
    "blast_record = NCBIXML.read(result_handle)"
   ]
  },
  {
   "cell_type": "code",
   "execution_count": null,
   "metadata": {},
   "outputs": [],
   "source": []
  },
  {
   "cell_type": "code",
   "execution_count": 158,
   "metadata": {},
   "outputs": [
    {
     "data": {
      "text/plain": [
       "50"
      ]
     },
     "execution_count": 158,
     "metadata": {},
     "output_type": "execute_result"
    }
   ],
   "source": [
    "len(blast_record.alignments)"
   ]
  },
  {
   "cell_type": "code",
   "execution_count": 159,
   "metadata": {
    "scrolled": false
   },
   "outputs": [
    {
     "name": "stdout",
     "output_type": "stream",
     "text": [
      "gi|1519246407|ref|NM_000762.6| Homo sapiens cytochrome P450 family 2 subfamily A member 6 (CYP2A6), mRNA\n",
      "           Length = 1761\n",
      "\n",
      "gi|180986|gb|M33318.1|HUMCPIIA3A Human cytochrome P450IIA3 (CYP2A3) mRNA, complete cds\n",
      "           Length = 1748\n",
      "\n",
      "gi|29546|emb|X13897.1| Human mRNA for cytochrome P-450IIA\n",
      "           Length = 1756\n",
      "\n",
      "gi|30331|emb|X13930.1| Human CYP2A4 mRNA for P-450 IIA4 protein\n",
      "           Length = 1748\n",
      "\n",
      "gi|1753053698|ref|XM_019015583.2| PREDICTED: Gorilla gorilla gorilla cytochrome P450 2A6 (LOC101146638), transcript variant X1, mRNA\n",
      "           Length = 2284\n",
      "\n",
      "gi|64654819|gb|BC096256.1| Homo sapiens cytochrome P450, family 2, subfamily A, polypeptide 6, mRNA (cDNA clone MGC:116921 IMAGE:40006068), complete cds\n",
      "           Length = 1643\n",
      "\n",
      "gi|64654814|gb|BC096255.1| Homo sapiens cytochrome P450, family 2, subfamily A, polypeptide 6, mRNA (cDNA clone MGC:116920 IMAGE:40006064), complete cds\n",
      "           Length = 1643\n",
      "\n",
      "gi|64653226|gb|BC096254.1| Homo sapiens cytochrome P450, family 2, subfamily A, polypeptide 6, mRNA (cDNA clone MGC:116919 IMAGE:40006062), complete cds\n",
      "           Length = 1643\n",
      "\n",
      "gi|109730085|gb|BC096253.3| Homo sapiens cytochrome P450, family 2, subfamily A, polypeptide 6, mRNA (cDNA clone MGC:116918 IMAGE:40006061), complete cds\n",
      "           Length = 1643\n",
      "\n",
      "gi|1351473687|ref|XM_024237332.1| PREDICTED: Pongo abelii cytochrome P450 2A6 (LOC100457048), transcript variant X1, mRNA\n",
      "           Length = 2286\n",
      "\n",
      "gi|35197|emb|X13929.1| Human CYP2A3 mRNA for P-450 IIA3 protein\n",
      "           Length = 1600\n",
      "\n",
      "gi|6470138|gb|AF182275.1|AF182275 Homo sapiens cytochrome P450-2A6 (CYP2A6) mRNA, complete cds\n",
      "           Length = 1627\n",
      "\n",
      "gi|1887789759|ref|NM_000764.3| Homo sapiens cytochrome P450 family 2 subfamily A member 7 (CYP2A7), transcript variant 1, mRNA\n",
      "           Length = 1760\n",
      "\n",
      "gi|1849054764|ref|XM_034944594.1| PREDICTED: Pan paniscus cytochrome P450 family 2 subfamily A member 7 (CYP2A7), mRNA\n",
      "           Length = 2730\n",
      "\n",
      "gi|181269|gb|M33317.1|HUMCYIIA4A Human cytochrome P450IIA4 (CYP2A4) mRNA, complete cds\n",
      "           Length = 1747\n",
      "\n",
      "gi|1367220708|ref|XM_024351394.1| PREDICTED: Pan troglodytes cytochrome P450 2A7 (LOC107966456), mRNA\n",
      "           Length = 1777\n",
      "\n",
      "gi|1008465|gb|U22029.1|HSU22029 Human cytochrome P450 (CYP2A7) mRNA, complete cds\n",
      "           Length = 2282\n",
      "\n",
      "gi|1743170194|ref|XM_003282448.4| PREDICTED: Nomascus leucogenys cytochrome P450 2A13 (LOC100579248), transcript variant X1, mRNA\n",
      "           Length = 2286\n",
      "\n",
      "gi|1800015647|ref|XM_032172847.1| PREDICTED: Hylobates moloch cytochrome P450 2A13 (LOC116480658), transcript variant X1, mRNA\n",
      "           Length = 2285\n",
      "\n",
      "gi|1751200936|ref|XM_010380822.2| PREDICTED: Rhinopithecus roxellana cytochrome P450 2A13-like (LOC104676097), transcript variant X1, mRNA\n",
      "           Length = 2284\n",
      "\n",
      "gi|795398387|ref|XM_012086802.1| PREDICTED: Cercocebus atys cytochrome P450 2A13-like (LOC105598002), transcript variant X1, mRNA\n",
      "           Length = 6774\n",
      "\n",
      "gi|1825863830|ref|XM_033224912.1| PREDICTED: Trachypithecus francoisi cytochrome P450 2A13 (LOC117091930), mRNA\n",
      "           Length = 2285\n",
      "\n",
      "gi|548960720|ref|NM_001285348.1| Macaca fascicularis cytochrome P450 family 2 subfamily A member 24 (CYP2A24), mRNA >gi|71152698|gb|DQ074792.1| Macaca fascicularis cytochrome P450 2A24 (CYP2A24) mRNA, complete cds\n",
      "           Length = 1759\n",
      "\n",
      "gi|164691768|dbj|AK312964.1| Homo sapiens cDNA, FLJ93424, highly similar to Homo sapiens cytochrome P450, family 2, subfamily A, polypeptide 6 (CYP2A6), mRNA\n",
      "           Length = 1506\n",
      "\n",
      "gi|1825821225|ref|XM_033218604.1| PREDICTED: Trachypithecus francoisi cytochrome P450 2A13-like (LOC117087862), mRNA\n",
      "           Length = 2539\n",
      "\n",
      "gi|1653961540|ref|NM_000766.5| Homo sapiens cytochrome P450 family 2 subfamily A member 13 (CYP2A13), mRNA\n",
      "           Length = 1760\n",
      "\n",
      "gi|1411126738|ref|XM_025366233.1| PREDICTED: Theropithecus gelada cytochrome P450 2A13-like (LOC112612112), transcript variant X2, mRNA\n",
      "           Length = 1739\n",
      "\n",
      "gi|795398405|ref|XM_012086807.1| PREDICTED: Cercocebus atys cytochrome P450 2A13-like (LOC105598006), mRNA\n",
      "           Length = 6901\n",
      "\n",
      "gi|1351473349|ref|XM_024237225.1| PREDICTED: Pongo abelii cytochrome P450 2A13 (LOC100458875), transcript variant X1, mRNA\n",
      "           Length = 1752\n",
      "\n",
      "gi|795234893|ref|XM_011952499.1| PREDICTED: Colobus angolensis palliatus cytochrome P450 2A13-like (LOC105519195), transcript variant X1, mRNA\n",
      "           Length = 2284\n",
      "\n",
      "gi|1622890953|ref|XM_028838334.1| PREDICTED: Macaca mulatta cytochrome P450, family 2, subfamily A, polypeptide 24 (CYP2A24), transcript variant X1, mRNA\n",
      "           Length = 1781\n",
      "\n",
      "gi|1849062391|ref|XM_003812465.2| PREDICTED: Pan paniscus cytochrome P450 family 2 subfamily A member 13 (CYP2A13), mRNA\n",
      "           Length = 1757\n",
      "\n",
      "gi|1788688032|ref|XM_023229274.3| PREDICTED: Piliocolobus tephrosceles cytochrome P450 2A13 (LOC111554025), transcript variant X1, mRNA\n",
      "           Length = 2288\n",
      "\n",
      "gi|1411126736|ref|XM_025366232.1| PREDICTED: Theropithecus gelada cytochrome P450 2A13-like (LOC112612112), transcript variant X1, mRNA\n",
      "           Length = 1759\n",
      "\n",
      "gi|649118244|gb|KJ896677.1| Synthetic construct Homo sapiens clone ccsbBroadEn_06071 CYP2A6 gene, encodes complete protein\n",
      "           Length = 1617\n",
      "\n",
      "gi|1147694741|emb|LT740833.1| Human ORFeome Gateway entry vector pENTR223-CYP2A6, complete sequence\n",
      "           Length = 4272\n",
      "\n",
      "gi|823673899|gb|KR711779.1| Synthetic construct Homo sapiens clone CCSBHm_00030839 CYP2A6 (CYP2A6) mRNA, encodes complete protein\n",
      "           Length = 1617\n",
      "\n",
      "gi|823673897|gb|KR711778.1| Synthetic construct Homo sapiens clone CCSBHm_00030834 CYP2A6 (CYP2A6) mRNA, encodes complete protein\n",
      "           Length = 1617\n",
      "\n",
      "gi|823673895|gb|KR711777.1| Synthetic construct Homo sapiens clone CCSBHm_00030831 CYP2A6 (CYP2A6) mRNA, encodes complete protein\n",
      "           Length = 1617\n",
      "\n",
      "gi|823673893|gb|KR711776.1| Synthetic construct Homo sapiens clone CCSBHm_00030829 CYP2A6 (CYP2A6) mRNA, encodes complete protein\n",
      "           Length = 1617\n",
      "\n",
      "gi|795398351|ref|XM_012086792.1| PREDICTED: Cercocebus atys cytochrome P450 2A13 (LOC105597997), transcript variant X3, mRNA\n",
      "           Length = 2213\n",
      "\n",
      "gi|795398348|ref|XM_012086791.1| PREDICTED: Cercocebus atys cytochrome P450 2A13 (LOC105597997), transcript variant X2, mRNA\n",
      "           Length = 2990\n",
      "\n",
      "gi|795398345|ref|XM_012086790.1| PREDICTED: Cercocebus atys cytochrome P450 2A13 (LOC105597997), transcript variant X1, mRNA\n",
      "           Length = 2711\n",
      "\n",
      "gi|544525941|ref|XM_005595716.1| PREDICTED: Macaca fascicularis cytochrome P450 2A13-like (LOC102143277), mRNA\n",
      "           Length = 1766\n",
      "\n",
      "gi|1751208157|ref|XM_030913665.1| PREDICTED: Rhinopithecus roxellana cytochrome P450 2A13 (LOC104676180), mRNA\n",
      "           Length = 1749\n",
      "\n",
      "gi|1753052882|ref|XM_031004339.1| PREDICTED: Gorilla gorilla gorilla cytochrome P450 2A13 (LOC101127384), mRNA\n",
      "           Length = 1739\n",
      "\n",
      "gi|795137501|ref|XM_011936512.1| PREDICTED: Colobus angolensis palliatus cytochrome P450 2A13 (LOC105507828), transcript variant X1, mRNA\n",
      "           Length = 1750\n",
      "\n",
      "gi|1825820915|ref|XM_033216130.1| PREDICTED: Trachypithecus francoisi cytochrome P450 2A13-like (LOC117086673), mRNA\n",
      "           Length = 1804\n",
      "\n",
      "gi|1751201107|ref|XM_010380820.2| PREDICTED: Rhinopithecus roxellana cytochrome P450 2A13 (LOC104676095), mRNA\n",
      "           Length = 1764\n",
      "\n",
      "gi|1381460778|ref|XM_011764694.2| PREDICTED: Macaca nemestrina cytochrome P450 2A13 (LOC105495313), mRNA\n",
      "           Length = 2313\n",
      "\n"
     ]
    }
   ],
   "source": [
    "for x in blast_record.alignments:\n",
    "    print (x)"
   ]
  },
  {
   "cell_type": "code",
   "execution_count": 164,
   "metadata": {},
   "outputs": [
    {
     "name": "stdout",
     "output_type": "stream",
     "text": [
      "Score 3191 (2878 bits), expectation 0.0e+00, alignment length 1602\n",
      "Query:     159 CCTGCAGCTGAACACAGAGCAGATGTACAACTCCCTCATGAAGAT...CTG 1760\n",
      "               |||||||||||||||||||||||||||||||||||||||||||||...|||\n",
      "Sbjct:       1 CCTGCAGCTGAACACAGAGCAGATGTACAACTCCCTCATGAAGAT...CTG 1600\n"
     ]
    }
   ],
   "source": [
    "first_alignment = blast_record.alignments[10]\n",
    "first_hsp = first_alignment.hsps[0]\n",
    "print(first_hsp)"
   ]
  },
  {
   "cell_type": "code",
   "execution_count": 165,
   "metadata": {},
   "outputs": [
    {
     "name": "stdout",
     "output_type": "stream",
     "text": [
      "Subject start: 1\n",
      "Subject end: 1600\n",
      "Query start: 159\n",
      "Query end: 1760\n"
     ]
    }
   ],
   "source": [
    "print ('Subject start:', first_hsp.sbjct_start)\n",
    "print ('Subject end:', first_hsp.sbjct_end)\n",
    "print ('Query start:', first_hsp.query_start)\n",
    "print ('Query end:', first_hsp.query_end)"
   ]
  },
  {
   "cell_type": "code",
   "execution_count": 166,
   "metadata": {},
   "outputs": [
    {
     "name": "stdout",
     "output_type": "stream",
     "text": [
      "Score 2873 (2591 bits), expectation 0.0e+00, alignment length 1765\n",
      "Query:       1 ATCTATCATCCCACTACCACCATGCTGGCCTCAGGGATGCTTCTG...CAA 1765\n",
      "               ||| ||||||||||| || ||||||||||||||||| |||| |||...|||\n",
      "Sbjct:     564 ATCGATCATCCCACTGCCCCCATGCTGGCCTCAGGGCTGCTCCTG...CAA 2310\n"
     ]
    }
   ],
   "source": [
    "last_alignment = blast_record.alignments[-1]\n",
    "last_hsp = last_alignment.hsps[-1]\n",
    "print (last_hsp)"
   ]
  },
  {
   "cell_type": "code",
   "execution_count": null,
   "metadata": {},
   "outputs": [],
   "source": []
  },
  {
   "cell_type": "code",
   "execution_count": 153,
   "metadata": {},
   "outputs": [
    {
     "data": {
      "text/plain": [
       "'>NM_000762.5 Homo sapiens cytochrome P450 family 2 subfamily A member 6 (CYP2A6), mRNA\\nATCTATCATCCCACTACCACCATGCTGGCCTCAGGGATGCTTCTGGTGGCCTTGCTGGTCTGCCTGACTG\\nTAATGGTCTTGATGTCTGTTTGGCAGCAGAGGAAGAGCAAGGGGAAGCTGCCTCCGGGACCCACCCCATT\\nGCCCTTCATTGGAAACTACCTGCAGCTGAACACAGAGCAGATGTACAACTCCCTCATGAAGATCAGTGAG\\nCGCTATGGCCCCGTGTTCACCATTCACTTGGGGCCCCGGCGGGTCGTGGTGCTGTGTGGACATGATGCCG\\nTCAGGGAGGCTCTGGTGGACCAGGCTGAGGAGTTCAGCGGGCGAGGCGAGCAAGCCACCTTCGACTGGGT\\nCTTCAAAGGCTATGGCGTGGTATTCAGCAACGGGGAGCGCGCCAAGCAGCTCCGGCGCTTCTCCATCGCC\\nACCCTGCGGGACTTCGGGGTGGGCAAGCGAGGCATCGAGGAGCGCATCCAGGAGGAGGCGGGCTTCCTCA\\nTCGACGCCCTCCGGGGCACTGGCGGCGCCAATATCGATCCCACCTTCTTCCTGAGCCGCACAGTCTCCAA\\nTGTCATCAGCTCCATTGTCTTTGGGGACCGCTTTGACTATAAGGACAAAGAGTTCCTGTCACTGTTGCGC\\nATGATGCTAGGAATCTTCCAGTTCACGTCAACCTCCACGGGGCAGCTCTATGAGATGTTCTCTTCGGTGA\\nTGAAACACCTGCCAGGACCACAGCAACAGGCCTTTCAGTTGCTGCAAGGGCTGGAGGACTTCATAGCCAA\\nGAAGGTGGAGCACAACCAGCGCACGCTGGATCCCAATTCCCCACGGGACTTCATTGACTCCTTTCTCATC\\nCGCATGCAGGAGGAGGAGAAGAACCCCAACACGGAGTTCTACTTGAAAAACCTGGTGATGACCACGTTGA\\nACCTCTTCATTGGGGGCACCGAGACCGTCAGCACCACCCTGCGCTATGGCTTCTTGCTGCTCATGAAGCA\\nCCCAGAGGTGGAGGCCAAGGTCCATGAGGAGATTGACAGAGTGATCGGCAAGAACCGGCAGCCCAAGTTT\\nGAGGACCGGGCCAAGATGCCCTACATGGAGGCAGTGATCCACGAGATCCAAAGATTTGGAGACGTGATCC\\nCCATGAGTTTGGCCCGCAGAGTCAAAAAGGACACCAAGTTTCGGGATTTCTTCCTCCCTAAGGGCACCGA\\nAGTGTACCCTATGCTGGGCTCTGTGCTGAGAGACCCCAGTTTCTTCTCCAACCCCCAGGACTTCAATCCC\\nCAGCACTTCCTGAATGAGAAGGGGCAGTTTAAGAAGAGTGATGCTTTTGTGCCCTTTTCCATCGGAAAGC\\nGGAACTGTTTCGGAGAAGGCCTGGCCAGAATGGAGCTCTTTCTCTTCTTCACCACCGTCATGCAGAACTT\\nCCGCCTCAAGTCCTCCCAGTCACCTAAGGACATTGACGTGTCCCCCAAACACGTGGGCTTTGCCACGATC\\nCCACGAAACTACACCATGAGCTTCCTGCCCCGCTGAGCGAGGGCTGTGCCGGTGCAGGTCTGGTGGGCGG\\nGGCCAGGGAAAGGGCAGGGCCAAGACCGGGCTTGGGAGAGGGGCGCAGCTAAGACTGGGGGCAGGATGGC\\nGGAAAGGAAGGGGCGTGGTGGCTAGAGGGAAGAGAAGAAACAGAAGCGGCTCAGTTCACCTTGATAAGGT\\nGCTTCCGAGCTGGGATGAGAGGAAGGAAACCCTTACATTATGCTATGAAGAGTAGTAATAATAGCAGCTC\\nTTATTTCCTGAGCAAAAAAAAAAAA\\n\\n'"
      ]
     },
     "execution_count": 153,
     "metadata": {},
     "output_type": "execute_result"
    }
   ],
   "source": [
    "data.format(\"fasta\")"
   ]
  },
  {
   "cell_type": "code",
   "execution_count": 167,
   "metadata": {},
   "outputs": [],
   "source": [
    "from Bio import pairwise2\n",
    "\n",
    "alignments = pairwise2.align.globalxx(\"ACCGT\", \"ACG\")"
   ]
  },
  {
   "cell_type": "code",
   "execution_count": 168,
   "metadata": {},
   "outputs": [
    {
     "name": "stdout",
     "output_type": "stream",
     "text": [
      "ACCGT\n",
      "| || \n",
      "A-CG-\n",
      "  Score=3\n",
      "\n"
     ]
    }
   ],
   "source": [
    "from Bio.pairwise2 import format_alignment\n",
    "print(format_alignment(*alignments[0]))"
   ]
  },
  {
   "cell_type": "code",
   "execution_count": null,
   "metadata": {},
   "outputs": [],
   "source": [
    "!pip install tqdm"
   ]
  },
  {
   "cell_type": "code",
   "execution_count": 173,
   "metadata": {},
   "outputs": [],
   "source": [
    "from tqdm import tqdm"
   ]
  },
  {
   "cell_type": "code",
   "execution_count": 178,
   "metadata": {},
   "outputs": [
    {
     "name": "stderr",
     "output_type": "stream",
     "text": [
      "100%|██████████| 1000/1000 [00:07<00:00, 128.53it/s]\n"
     ]
    }
   ],
   "source": [
    "for i in tqdm(range(1000)):\n",
    "    sorted([random.random() for x in range(10000)])"
   ]
  },
  {
   "cell_type": "markdown",
   "metadata": {},
   "source": [
    "### decorators"
   ]
  },
  {
   "cell_type": "code",
   "execution_count": 223,
   "metadata": {},
   "outputs": [],
   "source": [
    "import time\n",
    "\n",
    "def mitsos(f):\n",
    "    \n",
    "    def wrapper():\n",
    "        start_time = time.time()\n",
    "        f()\n",
    "        end_time = time.time()\n",
    "        print (' Runtime: {} seconds'.format(end_time-start_time))\n",
    "        \n",
    "    return wrapper\n",
    "    "
   ]
  },
  {
   "cell_type": "code",
   "execution_count": 202,
   "metadata": {},
   "outputs": [],
   "source": [
    "@mitsos\n",
    "def g():\n",
    "    sorted([random.random() for x in range(1000000)])"
   ]
  },
  {
   "cell_type": "code",
   "execution_count": 203,
   "metadata": {},
   "outputs": [
    {
     "name": "stdout",
     "output_type": "stream",
     "text": [
      " Runtime: 0.8197329044342041 seconds\n"
     ]
    }
   ],
   "source": [
    "g()"
   ]
  },
  {
   "cell_type": "code",
   "execution_count": 185,
   "metadata": {},
   "outputs": [
    {
     "name": "stdout",
     "output_type": "stream",
     "text": [
      "hello\n"
     ]
    }
   ],
   "source": [
    "g()"
   ]
  },
  {
   "cell_type": "code",
   "execution_count": null,
   "metadata": {},
   "outputs": [],
   "source": []
  }
 ],
 "metadata": {
  "kernelspec": {
   "display_name": "Python 3",
   "language": "python",
   "name": "python3"
  },
  "language_info": {
   "codemirror_mode": {
    "name": "ipython",
    "version": 3
   },
   "file_extension": ".py",
   "mimetype": "text/x-python",
   "name": "python",
   "nbconvert_exporter": "python",
   "pygments_lexer": "ipython3",
   "version": "3.7.0"
  }
 },
 "nbformat": 4,
 "nbformat_minor": 2
}
