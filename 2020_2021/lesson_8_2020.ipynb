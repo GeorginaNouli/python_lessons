{
 "cells": [
  {
   "cell_type": "code",
   "execution_count": 1,
   "metadata": {},
   "outputs": [],
   "source": [
    "import random\n",
    "\n"
   ]
  },
  {
   "cell_type": "code",
   "execution_count": 20,
   "metadata": {},
   "outputs": [],
   "source": [
    "random.seed(100)"
   ]
  },
  {
   "cell_type": "code",
   "execution_count": 18,
   "metadata": {},
   "outputs": [
    {
     "data": {
      "text/plain": [
       "[0.1456692551041303,\n",
       " 0.45492700451402135,\n",
       " 0.7707838056590222,\n",
       " 0.705513226934028,\n",
       " 0.7319589730332557,\n",
       " 0.43351443489540376,\n",
       " 0.8000204571334277,\n",
       " 0.5329014146425713,\n",
       " 0.08015370917850195,\n",
       " 0.45594588118356716]"
      ]
     },
     "execution_count": 18,
     "metadata": {},
     "output_type": "execute_result"
    }
   ],
   "source": [
    "[random.random() for x in range(10)]"
   ]
  },
  {
   "cell_type": "code",
   "execution_count": 21,
   "metadata": {},
   "outputs": [
    {
     "data": {
      "text/plain": [
       "[0.1456692551041303,\n",
       " 0.45492700451402135,\n",
       " 0.7707838056590222,\n",
       " 0.705513226934028,\n",
       " 0.7319589730332557,\n",
       " 0.43351443489540376,\n",
       " 0.8000204571334277,\n",
       " 0.5329014146425713,\n",
       " 0.08015370917850195,\n",
       " 0.45594588118356716]"
      ]
     },
     "execution_count": 21,
     "metadata": {},
     "output_type": "execute_result"
    }
   ],
   "source": [
    "[random.random() for x in range(10)]"
   ]
  },
  {
   "cell_type": "code",
   "execution_count": 22,
   "metadata": {},
   "outputs": [
    {
     "name": "stdout",
     "output_type": "stream",
     "text": [
      "10\n"
     ]
    }
   ],
   "source": [
    "a=3\n",
    "\n",
    "while a<10:\n",
    "    a+=1\n",
    "\n",
    "print (a)\n",
    "\n"
   ]
  },
  {
   "cell_type": "code",
   "execution_count": 24,
   "metadata": {},
   "outputs": [
    {
     "name": "stdout",
     "output_type": "stream",
     "text": [
      "3\n"
     ]
    }
   ],
   "source": [
    "a=3\n",
    "b=a\n",
    "a=5\n",
    "\n",
    "print (b)"
   ]
  },
  {
   "cell_type": "code",
   "execution_count": 25,
   "metadata": {},
   "outputs": [],
   "source": [
    "def f():\n",
    "    return 5"
   ]
  },
  {
   "cell_type": "code",
   "execution_count": 26,
   "metadata": {},
   "outputs": [
    {
     "data": {
      "text/plain": [
       "5"
      ]
     },
     "execution_count": 26,
     "metadata": {},
     "output_type": "execute_result"
    }
   ],
   "source": [
    "f()"
   ]
  },
  {
   "cell_type": "code",
   "execution_count": 27,
   "metadata": {},
   "outputs": [
    {
     "name": "stdout",
     "output_type": "stream",
     "text": [
      "[1, 2, 3, 4]\n"
     ]
    }
   ],
   "source": [
    "\n",
    "a=[1,2,3]\n",
    "b=a\n",
    "a.append(4)\n",
    "\n",
    "print (b)\n",
    "\n"
   ]
  },
  {
   "cell_type": "markdown",
   "metadata": {},
   "source": [
    "## Αρχεία!"
   ]
  },
  {
   "cell_type": "code",
   "execution_count": 29,
   "metadata": {},
   "outputs": [
    {
     "data": {
      "text/plain": [
       "'aaaa\\n'"
      ]
     },
     "execution_count": 29,
     "metadata": {},
     "output_type": "execute_result"
    }
   ],
   "source": [
    "\n",
    "f = open('test.txt', 'r')\n",
    "\n",
    "\n",
    "f.readline()"
   ]
  },
  {
   "cell_type": "code",
   "execution_count": 30,
   "metadata": {},
   "outputs": [
    {
     "data": {
      "text/plain": [
       "'bbbb\\n'"
      ]
     },
     "execution_count": 30,
     "metadata": {},
     "output_type": "execute_result"
    }
   ],
   "source": [
    "f.readline()"
   ]
  },
  {
   "cell_type": "code",
   "execution_count": 31,
   "metadata": {},
   "outputs": [
    {
     "data": {
      "text/plain": [
       "'cccc\\n'"
      ]
     },
     "execution_count": 31,
     "metadata": {},
     "output_type": "execute_result"
    }
   ],
   "source": [
    "f.readline()"
   ]
  },
  {
   "cell_type": "code",
   "execution_count": 32,
   "metadata": {},
   "outputs": [
    {
     "data": {
      "text/plain": [
       "'dddd'"
      ]
     },
     "execution_count": 32,
     "metadata": {},
     "output_type": "execute_result"
    }
   ],
   "source": [
    "f.readline()"
   ]
  },
  {
   "cell_type": "code",
   "execution_count": 33,
   "metadata": {},
   "outputs": [
    {
     "data": {
      "text/plain": [
       "''"
      ]
     },
     "execution_count": 33,
     "metadata": {},
     "output_type": "execute_result"
    }
   ],
   "source": [
    "f.readline()"
   ]
  },
  {
   "cell_type": "code",
   "execution_count": 34,
   "metadata": {},
   "outputs": [
    {
     "data": {
      "text/plain": [
       "''"
      ]
     },
     "execution_count": 34,
     "metadata": {},
     "output_type": "execute_result"
    }
   ],
   "source": [
    "f.readline()"
   ]
  },
  {
   "cell_type": "code",
   "execution_count": 37,
   "metadata": {},
   "outputs": [
    {
     "name": "stdout",
     "output_type": "stream",
     "text": [
      "aaaa\n",
      "bbbb\n",
      "cccc\n",
      "dddd\n"
     ]
    }
   ],
   "source": [
    "f = open('test.txt', 'r')\n",
    "\n",
    "\n",
    "while True:\n",
    "    #line = f.readline()\n",
    "    line = f.readline().strip()\n",
    "    if not line:\n",
    "        break\n",
    "    print(line)\n"
   ]
  },
  {
   "cell_type": "code",
   "execution_count": 38,
   "metadata": {},
   "outputs": [
    {
     "data": {
      "text/plain": [
       "'asdf   a'"
      ]
     },
     "execution_count": 38,
     "metadata": {},
     "output_type": "execute_result"
    }
   ],
   "source": [
    "'    asdf   a       '.strip()"
   ]
  },
  {
   "cell_type": "code",
   "execution_count": 41,
   "metadata": {},
   "outputs": [
    {
     "name": "stdout",
     "output_type": "stream",
     "text": [
      "aaaa\n",
      "bbbb\n",
      "cccc\n",
      "dddd\n"
     ]
    }
   ],
   "source": [
    "f = open('test.txt', 'r')\n",
    "\n",
    "for line in f:\n",
    "    print (line.strip())"
   ]
  },
  {
   "cell_type": "code",
   "execution_count": 42,
   "metadata": {},
   "outputs": [],
   "source": [
    "f = open('test.txt', 'r')\n",
    "\n",
    "k = f.readlines()\n"
   ]
  },
  {
   "cell_type": "code",
   "execution_count": 44,
   "metadata": {},
   "outputs": [
    {
     "data": {
      "text/plain": [
       "['aaaa\\n', 'bbbb\\n', 'cccc\\n', 'dddd']"
      ]
     },
     "execution_count": 44,
     "metadata": {},
     "output_type": "execute_result"
    }
   ],
   "source": [
    "k"
   ]
  },
  {
   "cell_type": "code",
   "execution_count": 45,
   "metadata": {},
   "outputs": [
    {
     "data": {
      "text/plain": [
       "'aaaa\\nbbbb\\ncccc\\ndddd'"
      ]
     },
     "execution_count": 45,
     "metadata": {},
     "output_type": "execute_result"
    }
   ],
   "source": [
    "f = open('test.txt', 'r')\n",
    "\n",
    "s = f.read()\n",
    "s"
   ]
  },
  {
   "cell_type": "code",
   "execution_count": 46,
   "metadata": {},
   "outputs": [
    {
     "name": "stdout",
     "output_type": "stream",
     "text": [
      "aaaa\n",
      "bbbb\n",
      "cccc\n",
      "dddd\n"
     ]
    }
   ],
   "source": [
    "print (s)"
   ]
  },
  {
   "cell_type": "code",
   "execution_count": 47,
   "metadata": {},
   "outputs": [],
   "source": [
    "f.close()"
   ]
  },
  {
   "cell_type": "code",
   "execution_count": 48,
   "metadata": {},
   "outputs": [
    {
     "data": {
      "text/plain": [
       "'/Users/alexandroskanterakis/Downloads'"
      ]
     },
     "execution_count": 48,
     "metadata": {},
     "output_type": "execute_result"
    }
   ],
   "source": [
    "import os\n",
    "\n",
    "os.getcwd()"
   ]
  },
  {
   "cell_type": "code",
   "execution_count": 49,
   "metadata": {},
   "outputs": [],
   "source": [
    "f = open('/Users/alexandroskanterakis/HELLO/test2.txt', 'r')"
   ]
  },
  {
   "cell_type": "code",
   "execution_count": 50,
   "metadata": {},
   "outputs": [],
   "source": [
    "f.close()"
   ]
  },
  {
   "cell_type": "code",
   "execution_count": 51,
   "metadata": {},
   "outputs": [
    {
     "ename": "FileNotFoundError",
     "evalue": "[Errno 2] No such file or directory: '/Users/alexandroskanterakis/HELLO/tessertsertsertyt2.txt'",
     "output_type": "error",
     "traceback": [
      "\u001b[0;31m---------------------------------------------------------------------------\u001b[0m",
      "\u001b[0;31mFileNotFoundError\u001b[0m                         Traceback (most recent call last)",
      "\u001b[0;32m<ipython-input-51-1f03bdd6cf73>\u001b[0m in \u001b[0;36m<module>\u001b[0;34m()\u001b[0m\n\u001b[0;32m----> 1\u001b[0;31m \u001b[0mf\u001b[0m \u001b[0;34m=\u001b[0m \u001b[0mopen\u001b[0m\u001b[0;34m(\u001b[0m\u001b[0;34m'/Users/alexandroskanterakis/HELLO/tessertsertsertyt2.txt'\u001b[0m\u001b[0;34m,\u001b[0m \u001b[0;34m'r'\u001b[0m\u001b[0;34m)\u001b[0m\u001b[0;34m\u001b[0m\u001b[0m\n\u001b[0m",
      "\u001b[0;31mFileNotFoundError\u001b[0m: [Errno 2] No such file or directory: '/Users/alexandroskanterakis/HELLO/tessertsertsertyt2.txt'"
     ]
    }
   ],
   "source": [
    "f = open('/Users/alexandroskanterakis/HELLO/tessertsertsertyt2.txt', 'r')"
   ]
  },
  {
   "cell_type": "code",
   "execution_count": 52,
   "metadata": {},
   "outputs": [],
   "source": [
    "f = open('/Users/alexandroskanterakis/HELLO/test2.txt', 'r')"
   ]
  },
  {
   "cell_type": "code",
   "execution_count": 53,
   "metadata": {},
   "outputs": [],
   "source": [
    "l = f.readline()"
   ]
  },
  {
   "cell_type": "code",
   "execution_count": 54,
   "metadata": {},
   "outputs": [],
   "source": [
    "f.close()"
   ]
  },
  {
   "cell_type": "code",
   "execution_count": 63,
   "metadata": {},
   "outputs": [],
   "source": [
    "f = open('/Users/alexandroskanterakis/HELLO/test2.txt', 'r')"
   ]
  },
  {
   "cell_type": "code",
   "execution_count": 64,
   "metadata": {},
   "outputs": [
    {
     "name": "stdout",
     "output_type": "stream",
     "text": [
      "1111\n",
      "\n"
     ]
    }
   ],
   "source": [
    "l = f.readline()\n",
    "print (l)"
   ]
  },
  {
   "cell_type": "code",
   "execution_count": 61,
   "metadata": {},
   "outputs": [
    {
     "name": "stdout",
     "output_type": "stream",
     "text": [
      "2222\n",
      "\n"
     ]
    }
   ],
   "source": [
    "l = f.readline()\n",
    "print (l)"
   ]
  },
  {
   "cell_type": "code",
   "execution_count": 62,
   "metadata": {},
   "outputs": [],
   "source": [
    "f.close()"
   ]
  },
  {
   "cell_type": "code",
   "execution_count": 73,
   "metadata": {},
   "outputs": [],
   "source": [
    "\n",
    "f = open('/Users/alexandroskanterakis/HELLO/test2.txt', 'w')\n",
    "\n",
    "\n"
   ]
  },
  {
   "cell_type": "code",
   "execution_count": 70,
   "metadata": {},
   "outputs": [
    {
     "data": {
      "text/plain": [
       "5"
      ]
     },
     "execution_count": 70,
     "metadata": {},
     "output_type": "execute_result"
    }
   ],
   "source": [
    "f.write('aaaa\\n')"
   ]
  },
  {
   "cell_type": "code",
   "execution_count": 71,
   "metadata": {},
   "outputs": [
    {
     "data": {
      "text/plain": [
       "5"
      ]
     },
     "execution_count": 71,
     "metadata": {},
     "output_type": "execute_result"
    }
   ],
   "source": [
    "f.write('bbbb\\n')"
   ]
  },
  {
   "cell_type": "code",
   "execution_count": 72,
   "metadata": {},
   "outputs": [],
   "source": [
    "f.close()"
   ]
  },
  {
   "cell_type": "code",
   "execution_count": 74,
   "metadata": {},
   "outputs": [
    {
     "data": {
      "text/plain": [
       "11"
      ]
     },
     "execution_count": 74,
     "metadata": {},
     "output_type": "execute_result"
    }
   ],
   "source": [
    "f.write('aa {}  aa\\n'.format(100))"
   ]
  },
  {
   "cell_type": "code",
   "execution_count": 76,
   "metadata": {},
   "outputs": [],
   "source": [
    "f.close()"
   ]
  },
  {
   "cell_type": "code",
   "execution_count": 77,
   "metadata": {},
   "outputs": [],
   "source": [
    "f = open('/Users/alexandroskanterakis/HELLO/test_100.txt', 'w')"
   ]
  },
  {
   "cell_type": "code",
   "execution_count": 78,
   "metadata": {},
   "outputs": [
    {
     "data": {
      "text/plain": [
       "17"
      ]
     },
     "execution_count": 78,
     "metadata": {},
     "output_type": "execute_result"
    }
   ],
   "source": [
    "f.write('asdfasdfasdfasdf\\n')"
   ]
  },
  {
   "cell_type": "code",
   "execution_count": 79,
   "metadata": {},
   "outputs": [
    {
     "data": {
      "text/plain": [
       "13"
      ]
     },
     "execution_count": 79,
     "metadata": {},
     "output_type": "execute_result"
    }
   ],
   "source": [
    "f.write('{}\\n'.format(123412341234))"
   ]
  },
  {
   "cell_type": "code",
   "execution_count": 80,
   "metadata": {},
   "outputs": [],
   "source": [
    "f.close()"
   ]
  },
  {
   "cell_type": "code",
   "execution_count": 81,
   "metadata": {},
   "outputs": [],
   "source": [
    "f = open('/Users/alexandroskanterakis/HELLO/test_100.txt', 'a')"
   ]
  },
  {
   "cell_type": "code",
   "execution_count": 82,
   "metadata": {},
   "outputs": [
    {
     "data": {
      "text/plain": [
       "9"
      ]
     },
     "execution_count": 82,
     "metadata": {},
     "output_type": "execute_result"
    }
   ],
   "source": [
    "f.write('NEW LINE\\n')"
   ]
  },
  {
   "cell_type": "code",
   "execution_count": 83,
   "metadata": {},
   "outputs": [],
   "source": [
    "f.close()"
   ]
  },
  {
   "cell_type": "code",
   "execution_count": null,
   "metadata": {},
   "outputs": [],
   "source": [
    "f = open('/Users/alexandroskanterakis/HELLO/test_100.txt', 'w+')"
   ]
  },
  {
   "cell_type": "code",
   "execution_count": 84,
   "metadata": {},
   "outputs": [],
   "source": [
    "f = open('/Users/alexandroskanterakis/HELLO/test_100.txt', 'r+')"
   ]
  },
  {
   "cell_type": "code",
   "execution_count": 85,
   "metadata": {},
   "outputs": [
    {
     "data": {
      "text/plain": [
       "16"
      ]
     },
     "execution_count": 85,
     "metadata": {},
     "output_type": "execute_result"
    }
   ],
   "source": [
    "f.write('KATI KAINOURGIO\\n')"
   ]
  },
  {
   "cell_type": "code",
   "execution_count": 86,
   "metadata": {},
   "outputs": [
    {
     "data": {
      "text/plain": [
       "'asdfasdfasdfasdf\\n'"
      ]
     },
     "execution_count": 86,
     "metadata": {},
     "output_type": "execute_result"
    }
   ],
   "source": [
    "f.readline()"
   ]
  },
  {
   "cell_type": "code",
   "execution_count": 87,
   "metadata": {},
   "outputs": [
    {
     "data": {
      "text/plain": [
       "'123412341234\\n'"
      ]
     },
     "execution_count": 87,
     "metadata": {},
     "output_type": "execute_result"
    }
   ],
   "source": [
    "f.readline()"
   ]
  },
  {
   "cell_type": "code",
   "execution_count": 88,
   "metadata": {},
   "outputs": [
    {
     "data": {
      "text/plain": [
       "'NEW LINE\\n'"
      ]
     },
     "execution_count": 88,
     "metadata": {},
     "output_type": "execute_result"
    }
   ],
   "source": [
    "f.readline()"
   ]
  },
  {
   "cell_type": "code",
   "execution_count": 89,
   "metadata": {},
   "outputs": [
    {
     "data": {
      "text/plain": [
       "''"
      ]
     },
     "execution_count": 89,
     "metadata": {},
     "output_type": "execute_result"
    }
   ],
   "source": [
    "f.readline()"
   ]
  },
  {
   "cell_type": "code",
   "execution_count": 90,
   "metadata": {},
   "outputs": [],
   "source": [
    "f.close()"
   ]
  },
  {
   "cell_type": "code",
   "execution_count": 91,
   "metadata": {},
   "outputs": [],
   "source": [
    "# Python open file modes"
   ]
  },
  {
   "cell_type": "code",
   "execution_count": 93,
   "metadata": {},
   "outputs": [
    {
     "name": "stdout",
     "output_type": "stream",
     "text": [
      "asdfasdfasdfasdf\n",
      "123412341234\n",
      "NEW LINE\n",
      "KATI KAINOURGIO\n"
     ]
    }
   ],
   "source": [
    "\n",
    "f = open('/Users/alexandroskanterakis/HELLO/test_100.txt', 'r')\n",
    "\n",
    "for l in f:\n",
    "    print (l.strip())\n",
    "f.close()\n"
   ]
  },
  {
   "cell_type": "code",
   "execution_count": 94,
   "metadata": {},
   "outputs": [
    {
     "name": "stdout",
     "output_type": "stream",
     "text": [
      "asdfasdfasdfasdf\n",
      "123412341234\n",
      "NEW LINE\n",
      "KATI KAINOURGIO\n"
     ]
    }
   ],
   "source": [
    "\n",
    "with open('/Users/alexandroskanterakis/HELLO/test_100.txt', 'r') as f:\n",
    "    for l in f:\n",
    "        print (l.strip())\n",
    "\n",
    "        \n",
    "\n",
    "    "
   ]
  },
  {
   "cell_type": "code",
   "execution_count": 95,
   "metadata": {},
   "outputs": [],
   "source": [
    "\n",
    "with open('/Users/alexandroskanterakis/HELLO/test_100.txt', 'w') as f:\n",
    "    for l in range(1,101):\n",
    "        f.write('{}\\n'.format(l))"
   ]
  },
  {
   "cell_type": "code",
   "execution_count": 96,
   "metadata": {},
   "outputs": [],
   "source": [
    "with open('aaa.txt', 'w') as f1, open ('bbb.txt', 'w') as f2:\n",
    "    f1.write('sdasdfasdfas\\n')\n",
    "    f2.write('adfasdfasdgadfgn')"
   ]
  },
  {
   "cell_type": "markdown",
   "metadata": {},
   "source": [
    "## IMPORT\n",
    "### Method 1"
   ]
  },
  {
   "cell_type": "code",
   "execution_count": 1,
   "metadata": {},
   "outputs": [],
   "source": [
    "import p_lesson"
   ]
  },
  {
   "cell_type": "code",
   "execution_count": 2,
   "metadata": {},
   "outputs": [
    {
     "data": {
      "text/plain": [
       "5"
      ]
     },
     "execution_count": 2,
     "metadata": {},
     "output_type": "execute_result"
    }
   ],
   "source": [
    "p_lesson.q"
   ]
  },
  {
   "cell_type": "code",
   "execution_count": 3,
   "metadata": {},
   "outputs": [
    {
     "data": {
      "text/plain": [
       "5.0"
      ]
     },
     "execution_count": 3,
     "metadata": {},
     "output_type": "execute_result"
    }
   ],
   "source": [
    "p_lesson.f(10)"
   ]
  },
  {
   "cell_type": "markdown",
   "metadata": {},
   "source": [
    "### Method 2"
   ]
  },
  {
   "cell_type": "code",
   "execution_count": 1,
   "metadata": {},
   "outputs": [],
   "source": [
    "from p_lesson import f"
   ]
  },
  {
   "cell_type": "code",
   "execution_count": 2,
   "metadata": {},
   "outputs": [
    {
     "data": {
      "text/plain": [
       "5.0"
      ]
     },
     "execution_count": 2,
     "metadata": {},
     "output_type": "execute_result"
    }
   ],
   "source": [
    "f(10)"
   ]
  },
  {
   "cell_type": "code",
   "execution_count": 3,
   "metadata": {},
   "outputs": [
    {
     "ename": "NameError",
     "evalue": "name 'q' is not defined",
     "output_type": "error",
     "traceback": [
      "\u001b[0;31m---------------------------------------------------------------------------\u001b[0m",
      "\u001b[0;31mNameError\u001b[0m                                 Traceback (most recent call last)",
      "\u001b[0;32m<ipython-input-3-e222fcdf3350>\u001b[0m in \u001b[0;36m<module>\u001b[0;34m()\u001b[0m\n\u001b[0;32m----> 1\u001b[0;31m \u001b[0mq\u001b[0m\u001b[0;34m\u001b[0m\u001b[0m\n\u001b[0m",
      "\u001b[0;31mNameError\u001b[0m: name 'q' is not defined"
     ]
    }
   ],
   "source": [
    "q"
   ]
  },
  {
   "cell_type": "markdown",
   "metadata": {},
   "source": [
    "### Method 3\n"
   ]
  },
  {
   "cell_type": "code",
   "execution_count": 1,
   "metadata": {},
   "outputs": [],
   "source": [
    "def f():\n",
    "    return 7"
   ]
  },
  {
   "cell_type": "code",
   "execution_count": 2,
   "metadata": {},
   "outputs": [],
   "source": [
    "from p_lesson import f as f2"
   ]
  },
  {
   "cell_type": "code",
   "execution_count": 3,
   "metadata": {},
   "outputs": [
    {
     "data": {
      "text/plain": [
       "5.0"
      ]
     },
     "execution_count": 3,
     "metadata": {},
     "output_type": "execute_result"
    }
   ],
   "source": [
    "f2(10)"
   ]
  },
  {
   "cell_type": "markdown",
   "metadata": {},
   "source": [
    "### Method 4"
   ]
  },
  {
   "cell_type": "code",
   "execution_count": 1,
   "metadata": {},
   "outputs": [],
   "source": [
    "from p_lesson import *"
   ]
  },
  {
   "cell_type": "code",
   "execution_count": 2,
   "metadata": {},
   "outputs": [
    {
     "data": {
      "text/plain": [
       "5.0"
      ]
     },
     "execution_count": 2,
     "metadata": {},
     "output_type": "execute_result"
    }
   ],
   "source": [
    "f(10)"
   ]
  },
  {
   "cell_type": "code",
   "execution_count": 3,
   "metadata": {},
   "outputs": [
    {
     "data": {
      "text/plain": [
       "5"
      ]
     },
     "execution_count": 3,
     "metadata": {},
     "output_type": "execute_result"
    }
   ],
   "source": [
    "q"
   ]
  },
  {
   "cell_type": "markdown",
   "metadata": {},
   "source": [
    "### Method 5"
   ]
  },
  {
   "cell_type": "code",
   "execution_count": 1,
   "metadata": {},
   "outputs": [],
   "source": [
    "from p_lessson_dir import test"
   ]
  },
  {
   "cell_type": "code",
   "execution_count": 2,
   "metadata": {},
   "outputs": [
    {
     "data": {
      "text/plain": [
       "'alex'"
      ]
     },
     "execution_count": 2,
     "metadata": {},
     "output_type": "execute_result"
    }
   ],
   "source": [
    "test.name"
   ]
  },
  {
   "cell_type": "markdown",
   "metadata": {},
   "source": [
    "### Method 6"
   ]
  },
  {
   "cell_type": "code",
   "execution_count": 1,
   "metadata": {},
   "outputs": [],
   "source": [
    "import p_lessson_dir"
   ]
  },
  {
   "cell_type": "code",
   "execution_count": 3,
   "metadata": {},
   "outputs": [
    {
     "data": {
      "text/plain": [
       "'python'"
      ]
     },
     "execution_count": 3,
     "metadata": {},
     "output_type": "execute_result"
    }
   ],
   "source": [
    "p_lessson_dir.l"
   ]
  },
  {
   "cell_type": "markdown",
   "metadata": {},
   "source": [
    "### Method 7"
   ]
  },
  {
   "cell_type": "code",
   "execution_count": 1,
   "metadata": {},
   "outputs": [],
   "source": [
    "from p_lessson_dir import *"
   ]
  },
  {
   "cell_type": "code",
   "execution_count": 2,
   "metadata": {},
   "outputs": [
    {
     "data": {
      "text/plain": [
       "'python'"
      ]
     },
     "execution_count": 2,
     "metadata": {},
     "output_type": "execute_result"
    }
   ],
   "source": [
    "l"
   ]
  },
  {
   "cell_type": "code",
   "execution_count": 3,
   "metadata": {},
   "outputs": [],
   "source": [
    "import antigravity "
   ]
  },
  {
   "cell_type": "code",
   "execution_count": 4,
   "metadata": {},
   "outputs": [],
   "source": [
    "import itertools"
   ]
  },
  {
   "cell_type": "code",
   "execution_count": 5,
   "metadata": {},
   "outputs": [],
   "source": [
    "a = [1,2]\n",
    "b = ['a','b','c']"
   ]
  },
  {
   "cell_type": "code",
   "execution_count": 6,
   "metadata": {},
   "outputs": [
    {
     "name": "stdout",
     "output_type": "stream",
     "text": [
      "1 a\n",
      "1 b\n",
      "1 c\n",
      "2 a\n",
      "2 b\n",
      "2 c\n"
     ]
    }
   ],
   "source": [
    "for x, y in itertools.product(a,b):\n",
    "    print (x,y)"
   ]
  },
  {
   "cell_type": "code",
   "execution_count": 7,
   "metadata": {},
   "outputs": [
    {
     "name": "stdout",
     "output_type": "stream",
     "text": [
      "1\n",
      "2\n",
      "3\n",
      "4\n",
      "1\n",
      "2\n",
      "3\n",
      "4\n",
      "1\n",
      "2\n",
      "3\n",
      "4\n",
      "1\n",
      "2\n",
      "3\n",
      "4\n",
      "1\n",
      "2\n",
      "3\n",
      "4\n",
      "1\n"
     ]
    }
   ],
   "source": [
    "a = [1,2,3,4]\n",
    "\n",
    "c = 0\n",
    "for x in itertools.cycle(a):\n",
    "    print (x)\n",
    "    c += 1\n",
    "    if c > 20:\n",
    "        break"
   ]
  },
  {
   "cell_type": "code",
   "execution_count": 8,
   "metadata": {},
   "outputs": [],
   "source": [
    "from collections import Counter, defaultdict"
   ]
  },
  {
   "cell_type": "code",
   "execution_count": 9,
   "metadata": {},
   "outputs": [
    {
     "data": {
      "text/plain": [
       "Counter({'s': 5, 'd': 5, 'f': 5, 'a': 5})"
      ]
     },
     "execution_count": 9,
     "metadata": {},
     "output_type": "execute_result"
    }
   ],
   "source": [
    "Counter('sdfasdfasdfasdfasdfa')"
   ]
  },
  {
   "cell_type": "code",
   "execution_count": 10,
   "metadata": {},
   "outputs": [
    {
     "data": {
      "text/plain": [
       "Counter({3: 5, 4: 2, 2: 3, 1: 1})"
      ]
     },
     "execution_count": 10,
     "metadata": {},
     "output_type": "execute_result"
    }
   ],
   "source": [
    "Counter([3,4,3,2,3,4,3,2,1,2,3,])"
   ]
  },
  {
   "cell_type": "code",
   "execution_count": 11,
   "metadata": {},
   "outputs": [],
   "source": [
    "a = Counter('asdfalskdjfhalskdjfhalskdjfh')\n"
   ]
  },
  {
   "cell_type": "code",
   "execution_count": 12,
   "metadata": {},
   "outputs": [
    {
     "data": {
      "text/plain": [
       "Counter({'a': 4, 's': 4, 'd': 4, 'f': 4, 'l': 3, 'k': 3, 'j': 3, 'h': 3})"
      ]
     },
     "execution_count": 12,
     "metadata": {},
     "output_type": "execute_result"
    }
   ],
   "source": [
    "a"
   ]
  },
  {
   "cell_type": "code",
   "execution_count": 13,
   "metadata": {},
   "outputs": [],
   "source": [
    "b = Counter('asdlkfjaoeijfs.dlkvnalskefhas;kldfhj')"
   ]
  },
  {
   "cell_type": "code",
   "execution_count": 14,
   "metadata": {},
   "outputs": [
    {
     "data": {
      "text/plain": [
       "Counter({'a': 4,\n",
       "         's': 4,\n",
       "         'd': 3,\n",
       "         'l': 4,\n",
       "         'k': 4,\n",
       "         'f': 4,\n",
       "         'j': 3,\n",
       "         'o': 1,\n",
       "         'e': 2,\n",
       "         'i': 1,\n",
       "         '.': 1,\n",
       "         'v': 1,\n",
       "         'n': 1,\n",
       "         'h': 2,\n",
       "         ';': 1})"
      ]
     },
     "execution_count": 14,
     "metadata": {},
     "output_type": "execute_result"
    }
   ],
   "source": [
    "b"
   ]
  },
  {
   "cell_type": "code",
   "execution_count": 15,
   "metadata": {},
   "outputs": [
    {
     "data": {
      "text/plain": [
       "Counter({'a': 8,\n",
       "         's': 8,\n",
       "         'd': 7,\n",
       "         'f': 8,\n",
       "         'l': 7,\n",
       "         'k': 7,\n",
       "         'j': 6,\n",
       "         'h': 5,\n",
       "         'o': 1,\n",
       "         'e': 2,\n",
       "         'i': 1,\n",
       "         '.': 1,\n",
       "         'v': 1,\n",
       "         'n': 1,\n",
       "         ';': 1})"
      ]
     },
     "execution_count": 15,
     "metadata": {},
     "output_type": "execute_result"
    }
   ],
   "source": [
    "a+b"
   ]
  },
  {
   "cell_type": "code",
   "execution_count": 28,
   "metadata": {},
   "outputs": [],
   "source": [
    "import random\n",
    "students = [\n",
    "    'Tzwrtzina',\n",
    "    'Andreas',\n",
    "    'Xristos',\n",
    "    'Andromaxh',\n",
    "    'Danah',\n",
    "    'Antwnia',\n",
    "    'Aris',\n",
    "    'Maria',\n",
    "    'Sofia',\n",
    "    'Iwanna',\n",
    "    'Aggelos',\n",
    "]\n",
    "\n",
    "def random_student():\n",
    "    return random.choice(students)\n",
    "\n",
    "rs = random_student"
   ]
  },
  {
   "cell_type": "code",
   "execution_count": null,
   "metadata": {},
   "outputs": [],
   "source": []
  },
  {
   "cell_type": "code",
   "execution_count": 16,
   "metadata": {},
   "outputs": [
    {
     "data": {
      "text/plain": [
       "Counter({'a': 4, 's': 4, 'd': 4, 'f': 4, 'l': 3, 'k': 3, 'j': 3, 'h': 3})"
      ]
     },
     "execution_count": 16,
     "metadata": {},
     "output_type": "execute_result"
    }
   ],
   "source": [
    "a"
   ]
  },
  {
   "cell_type": "code",
   "execution_count": 17,
   "metadata": {},
   "outputs": [
    {
     "data": {
      "text/plain": [
       "Counter({'a': 5, 's': 4, 'd': 4, 'f': 4, 'l': 3, 'k': 3, 'j': 3, 'h': 3})"
      ]
     },
     "execution_count": 17,
     "metadata": {},
     "output_type": "execute_result"
    }
   ],
   "source": [
    "a + Counter('a')"
   ]
  },
  {
   "cell_type": "markdown",
   "metadata": {},
   "source": [
    "Έστω η λίστα:\n",
    "```\n",
    "a = [3,4,5,5,6,7,8,7,6,5,4,3,2,1,2,3,4,5,6]\n",
    "```\n",
    "\n",
    "Ποιο στοιχείο υπάρχει περισσότερες φορές;"
   ]
  },
  {
   "cell_type": "code",
   "execution_count": 18,
   "metadata": {},
   "outputs": [],
   "source": [
    "a = [3,4,5,5,6,7,8,7,6,5,4,3,2,1,2,3,4,5,6]"
   ]
  },
  {
   "cell_type": "code",
   "execution_count": 22,
   "metadata": {},
   "outputs": [
    {
     "data": {
      "text/plain": [
       "(5, 4)"
      ]
     },
     "execution_count": 22,
     "metadata": {},
     "output_type": "execute_result"
    }
   ],
   "source": [
    "max(Counter(a).items(), key=lambda x:x[1])"
   ]
  },
  {
   "cell_type": "code",
   "execution_count": 25,
   "metadata": {},
   "outputs": [
    {
     "name": "stdout",
     "output_type": "stream",
     "text": [
      "{3: 3, 4: 3, 5: 4, 6: 3, 7: 2, 8: 1, 2: 2, 1: 1}\n"
     ]
    }
   ],
   "source": [
    "d = {}\n",
    "\n",
    "for x in a:\n",
    "    \n",
    "    if not x in d:\n",
    "        d[x] = 0\n",
    "        \n",
    "    d[x] = d[x] + 1\n",
    "    \n",
    "print (d)"
   ]
  },
  {
   "cell_type": "code",
   "execution_count": 26,
   "metadata": {},
   "outputs": [],
   "source": [
    "d_2 = defaultdict(int)"
   ]
  },
  {
   "cell_type": "code",
   "execution_count": 27,
   "metadata": {},
   "outputs": [
    {
     "data": {
      "text/plain": [
       "{3: 3, 4: 3, 5: 4, 6: 3, 7: 2, 8: 1, 2: 2, 1: 1}"
      ]
     },
     "execution_count": 27,
     "metadata": {},
     "output_type": "execute_result"
    }
   ],
   "source": [
    "d"
   ]
  },
  {
   "cell_type": "code",
   "execution_count": 30,
   "metadata": {},
   "outputs": [
    {
     "ename": "KeyError",
     "evalue": "10",
     "output_type": "error",
     "traceback": [
      "\u001b[0;31m---------------------------------------------------------------------------\u001b[0m",
      "\u001b[0;31mKeyError\u001b[0m                                  Traceback (most recent call last)",
      "\u001b[0;32m<ipython-input-30-76a0c2738598>\u001b[0m in \u001b[0;36m<module>\u001b[0;34m()\u001b[0m\n\u001b[0;32m----> 1\u001b[0;31m \u001b[0md\u001b[0m\u001b[0;34m[\u001b[0m\u001b[0;36m10\u001b[0m\u001b[0;34m]\u001b[0m\u001b[0;34m\u001b[0m\u001b[0m\n\u001b[0m",
      "\u001b[0;31mKeyError\u001b[0m: 10"
     ]
    }
   ],
   "source": [
    "d[10]"
   ]
  },
  {
   "cell_type": "code",
   "execution_count": 37,
   "metadata": {},
   "outputs": [
    {
     "name": "stdout",
     "output_type": "stream",
     "text": [
      "defaultdict(<class 'int'>, {3: 3, 4: 3, 5: 4, 6: 3, 7: 2, 8: 1, 2: 2, 1: 1})\n"
     ]
    }
   ],
   "source": [
    "d = defaultdict(int)\n",
    "\n",
    "for x in a:\n",
    "    \n",
    "#    if not x in d:\n",
    "#        d[x] = 0\n",
    "        \n",
    "    d[x] = d[x] + 1\n",
    "    \n",
    "print (d)"
   ]
  },
  {
   "cell_type": "code",
   "execution_count": null,
   "metadata": {},
   "outputs": [],
   "source": []
  },
  {
   "cell_type": "code",
   "execution_count": 32,
   "metadata": {},
   "outputs": [
    {
     "data": {
      "text/plain": [
       "0"
      ]
     },
     "execution_count": 32,
     "metadata": {},
     "output_type": "execute_result"
    }
   ],
   "source": [
    "d_2['Andromaxh']"
   ]
  },
  {
   "cell_type": "code",
   "execution_count": 33,
   "metadata": {},
   "outputs": [],
   "source": [
    "d_2['Andromaxh'] += 1"
   ]
  },
  {
   "cell_type": "code",
   "execution_count": 34,
   "metadata": {},
   "outputs": [
    {
     "data": {
      "text/plain": [
       "1"
      ]
     },
     "execution_count": 34,
     "metadata": {},
     "output_type": "execute_result"
    }
   ],
   "source": [
    "d_2['Andromaxh']"
   ]
  },
  {
   "cell_type": "code",
   "execution_count": 35,
   "metadata": {},
   "outputs": [
    {
     "data": {
      "text/plain": [
       "0"
      ]
     },
     "execution_count": 35,
     "metadata": {},
     "output_type": "execute_result"
    }
   ],
   "source": [
    "d_2['Maria']"
   ]
  },
  {
   "cell_type": "code",
   "execution_count": 36,
   "metadata": {},
   "outputs": [
    {
     "data": {
      "text/plain": [
       "defaultdict(int, {10: 0, 'Andromaxh': 1, 'Maria': 0})"
      ]
     },
     "execution_count": 36,
     "metadata": {},
     "output_type": "execute_result"
    }
   ],
   "source": [
    "d_2"
   ]
  },
  {
   "cell_type": "code",
   "execution_count": 29,
   "metadata": {},
   "outputs": [
    {
     "data": {
      "text/plain": [
       "'Andromaxh'"
      ]
     },
     "execution_count": 29,
     "metadata": {},
     "output_type": "execute_result"
    }
   ],
   "source": [
    "rs()"
   ]
  },
  {
   "cell_type": "code",
   "execution_count": 38,
   "metadata": {},
   "outputs": [],
   "source": [
    "cities = [\n",
    " [1, 'Athens', 772072, 745514, 664046, 'Attica'],\n",
    " [2, 'Thessaloniki', 383967, 363987, 315196, 'Central Macedonia'],\n",
    " [3, 'Patras', 152570, 160400, 167446, 'Western Greece'],\n",
    " [4, 'Piraeus', 182671, 175697, 163688, 'Attica'],\n",
    " [5, 'Larissa', 112777, 124394, 144651, 'Thessaly'],\n",
    " [6, 'Heraklion', 115270, 130914, 140730, 'Crete'],\n",
    " [7, 'Peristeri', 137288, 137918, 139981, 'Attica'],\n",
    " [8, 'Kallithea', 194233, 109609, 100641, 'Attica'],\n",
    " [9, 'Acharnes', 61052, 75329, 99346, 'Attica'],\n",
    " [10, 'Kalamaria', 80698, 87255, 91279, 'Central Macedonia'],\n",
    " [11, 'Nikaia', 87597, 93086, 89380, 'Attica'],\n",
    " [12, 'Glyfada', 63306, 80409, 87305, 'Attica'],\n",
    " [13, 'Volos', 77192, 82439, 86046, 'Thessaly'],\n",
    " [14, 'Ilio', 78326, 80859, 84793, 'Attica'],\n",
    " [15, 'Ilioupoli', 75037, 75904, 78153, 'Attica'],\n",
    " [16, 'Keratsini', 71982, 76102, 77077, 'Attica'],\n",
    " [17, 'Evosmos', 28821, 52624, 74686, 'Central Macedonia'],\n",
    " [18, 'Chalandri', 66285, 71684, 74192, 'Attica'],\n",
    " [19, 'Nea Smyrni', 69749, 73986, 73076, 'Attica'],\n",
    " [20, 'Marousi', 64092, 69470, 72333, 'Attica'],\n",
    " [21, 'Agios Dimitrios', 57574, 65173, 71294, 'Attica'],\n",
    " [22, 'Zografou', 80492, 76115, 71026, 'Attica'],\n",
    " [23, 'Egaleo', 78563, 74046, 69946, 'Attica'],\n",
    " [24, 'Nea Ionia', 60635, 66017, 67134, 'Attica'],\n",
    " [25, 'Ioannina', 56699, 61629, 65574, 'Epirus'],\n",
    " [26, 'Palaio Faliro', 61371, 64759, 64021, 'Attica'],\n",
    " [27, 'Korydallos', 63184, 67456, 63445, 'Attica'],\n",
    " [28, 'Trikala', 45835, 48686, 61653, 'Thessaly'],\n",
    " [29, 'Vyronas', 58523, 61102, 61308, 'Attica'],\n",
    " [30, 'Agia Paraskevi', 47463, 56836, 59704, 'Attica'],\n",
    " [31, 'Galatsi', 57230, 58042, 59345, 'Attica'],\n",
    " [32, 'Agrinio', 52081, 54523, 59329, 'Western Greece'],\n",
    " [33, 'Chalcis', 51646, 53584, 59125, 'Central Greece'],\n",
    " [34, 'Petroupoli', 38278, 48327, 58979, 'Attica'],\n",
    " [35, 'Serres', 50017, 54266, 58287, 'Central Macedonia'],\n",
    " [36, 'Alexandroupoli', 37904, 48885, 57812, 'Eastern Macedonia and Thrace'],\n",
    " [37, 'Xanthi', 37430, 45111, 56122, 'Eastern Macedonia and Thrace'],\n",
    " [38, 'Katerini', 43613, 50510, 55997, 'Central Macedonia'],\n",
    " [39, 'Kalamata', 43625, 49154, 54100, 'Peloponnese'],\n",
    " [40, 'Kavala', 56571, 58663, 54027, 'Eastern Macedonia and Thrace'],\n",
    " [41, 'Chania', 50077, 53373, 53910, 'Crete'],\n",
    " [42, 'Lamia', 44084, 46406, 52006, 'Central Greece'],\n",
    " [43, 'Komotini', 37036, 43326, 50990, 'Eastern Macedonia and Thrace'],\n",
    " [44, 'Irakleio', 42905, 45926, 49642, 'Attica'],\n",
    " [45, 'Rhodes', 42400, 52318, 49541, 'South Aegean'],\n",
    " [46, 'Kifissia', 39166, 43929, 47332, 'Attica'],\n",
    " [47, 'Stavroupoli', 37596, 41653, 46008, 'Central Macedonia'],\n",
    " [48, 'Chaidari', 44831, 45227, 45642, 'Attica'],\n",
    " [49, 'Drama', 37604, 42501, 44823, 'Eastern Macedonia and Thrace'],\n",
    " [50, 'Veria', 37858, 42794, 43158, 'Central Macedonia'],\n",
    " [51, 'Alimos', 32024, 38047, 41720, 'Attica'],\n",
    " [52, 'Kozani', 31553, 35242, 41066, 'Western Macedonia'],\n",
    " [53, 'Polichni', 27894, 36146, 39332, 'Central Macedonia'],\n",
    " [54, 'Karditsa', 30067, 32031, 38554, 'Thessaly'],\n",
    " [55, 'Sykies', 34059, 41726, 37753, 'Central Macedonia'],\n",
    " [56, 'Ampelokipoi', 40093, 40959, 37381, 'Central Macedonia'],\n",
    " [57, 'Pylaia', 20785, 22744, 34625, 'Central Macedonia'],\n",
    " [58, 'Agioi Anargyroi', 30739, 32957, 34168, 'Attica'],\n",
    " [59, 'Argyroupoli', 31530, 33158, 34097, 'Attica'],\n",
    " [60, 'Ano Liosia', 21397, 26423, 33565, 'Attica'],\n",
    " [61, 'Nea Ionia', 27904, 30804, 32661, 'Thessaly'],\n",
    " [62, 'Rethymno', 23420, 27868, 32468, 'Crete'],\n",
    " [63, 'Ptolemaida', 25125, 28679, 32127, 'Western Macedonia'],\n",
    " [64, 'Tripoli', 22429, 25520, 30866, 'Peloponnese'],\n",
    " [65, 'Cholargos', 33691, 32166, 30840, 'Attica'],\n",
    " [66, 'Vrilissia', 16571, 25582, 30741, 'Attica'],\n",
    " [67, 'Aspropyrgos', 15715, 27741, 30251, 'Attica'],\n",
    " [68, 'Corinth', 27412, 29787, 30176, 'Peloponnese'],\n",
    " [69, 'Gerakas', 8512, 13921, 29939, 'Attica'],\n",
    " [70, 'Metamorfosi', 21052, 26448, 29891, 'Attica'],\n",
    " [71, 'Giannitsa', 22504, 26296, 29789, 'Central Macedonia'],\n",
    " [72, 'Voula', 17998, 25532, 28364, 'Attica'],\n",
    " [73, 'Kamatero', 17410, 22234, 28361, 'Attica'],\n",
    " [74, 'Mytilene', 23971, 27247, 27871, 'North Aegean'],\n",
    " [75, 'Neapoli', 30568, 29995, 27084, 'Central Macedonia'],\n",
    " [76, 'Eleftherio-Kordelio', 16549, 21630, 27067, 'Central Macedonia'],\n",
    " [77, 'Chios', 22894, 23779, 26850, 'North Aegean'],\n",
    " [78, 'Agia Varvara', 28706, 30562, 26550, 'Attica'],\n",
    " [79, 'Kaisariani', 26701, 26323, 26370, 'Attica'],\n",
    " [80, 'Nea Filadelfeia', 25261, 24112, 25734, 'Attica'],\n",
    " [81, 'Moschato', 22039, 23153, 25441, 'Attica'],\n",
    " [82, 'Perama', 24119, 25720, 25389, 'Attica'],\n",
    " [83, 'Salamina', 22567, 25730, 25370, 'Attica'],\n",
    " [84, 'Eleusis', 22793, 25863, 24910, 'Attica'],\n",
    " [85, 'Corfu', 31359, 28185, 24838, 'Ionian Islands'],\n",
    " [86, 'Pyrgos', 28465, 23274, 24359, 'Western Greece'],\n",
    " [87, \"Megara\", 20403, 23032, 23456, 'Attica'],\n",
    " [88, 'Kilkis', 12139, 17430, 22914, 'Central Macedonia'],\n",
    " [89, 'Dafni', 24152, 23674, 22913, 'Attica'],\n",
    " [90, 'Thebes', 19505, 21211, 22883, 'Central Greece'],\n",
    " [91, 'Melissia', 13469, 19526, 22741, 'Attica'],\n",
    " [92, 'Argos', 21901, 24239, 22209, 'Peloponnese'],\n",
    " [93, 'Arta', 19087, 19435, 21895, 'Epirus'],\n",
    " [94, 'Artemida', 9485, 17391, 21488, 'Attica'],\n",
    " [95, 'Livadeia', 18437, 20061, 21379, 'Central Greece'],\n",
    " [96, 'Pefki', 17987, 19887, 21352, 'Attica'],\n",
    " [97, 'Oraiokastro', 5458, 11896, 20852, 'Central Macedonia'],\n",
    " [98, 'Aigio', 22178, 21061, 20422, 'Western Greece'],\n",
    " [99, 'Kos', 14714, 17890, 19432, 'South Aegean'],\n",
    " [100, 'Koropi', 12790, 15860, 19164, 'Attica'],\n",
    " [101, 'Preveza', 13695, 16321, 19042, 'Epirus'],\n",
    " [102, 'Naousa', 19794, 19870, 18882, 'Central Macedonia'],\n",
    " [103, 'Orestiada', 12691, 15246, 18426, 'Eastern Macedonia and Thrace'],\n",
    " [104, 'Peraia', 2949, 13306, 18326, 'Central Macedonia'],\n",
    " [105, 'Edessa', 17128, 18253, 18229, 'Central Macedonia'],\n",
    " [106, 'Florina', 12355, 14279, 17686, 'Western Macedonia'],\n",
    " [107, 'Panorama', 10275, 14552, 17444, 'Central Macedonia'],\n",
    " [108, 'Nea Erythraia', 12993, 15439, 17379, 'Attica'],\n",
    " [109, 'Elliniko', 13517, 16740, 17259, 'Attica'],\n",
    " [110, 'Amaliada', 15232, 18261, 16763, 'Western Greece'],\n",
    " [111, 'Pallini', 8021, 12552, 16415, 'Attica'],\n",
    " [112, 'Sparta', 13011, 14817, 16239, 'Peloponnese'],\n",
    " [113, 'Agios Ioannis Rentis', 14218, 15060, 16050, 'Attica'],\n",
    " [114, 'Thermi', 5156, 11360, 16004, 'Central Macedonia'],\n",
    " [115, 'Vari', 8488, 10998, 15855, 'Attica'],\n",
    " [116, 'Nea Makri', 12120, 13986, 15554, 'Attica'],\n",
    " [117, 'Tavros', 15456, 14963, 14972, 'Attica'],\n",
    " [118, 'Alexandreia', 12109, 13229, 14821, 'Central Macedonia'],\n",
    " [119, 'Menemeni', 12932, 14910, 14746, 'Central Macedonia'],\n",
    " [120, 'Paiania', 9710, 12855, 14595, 'Attica'],\n",
    " [121, 'Kalyvia Thorikou', 8488, 12202, 14424, 'Attica'],\n",
    " [122, 'Nafplio', 11897, 13822, 14203, 'Peloponnese'],\n",
    " [123, 'Drapetsona', 13094, 12944, 13968, 'Attica'],\n",
    " [124, 'Efkarpia', 3480, 6598, 13905, 'Central Macedonia'],\n",
    " [125, 'Papagou', 13974, 13207, 13699, 'Attica'],\n",
    " [126, 'Nafpaktos', 10854, 12924, 13415, 'Western Greece'],\n",
    " [127, 'Kastoria', 14775, 14813, 13387, 'Western Macedonia'],\n",
    " [128, 'Grevena', 9345, 10177, 13137, 'Western Macedonia'],\n",
    " [129, 'Pefka', 3561, 6434, 13052, 'Central Macedonia'],\n",
    " [130, 'Nea Alikarnassos', 10683, 11551, 12925, 'Crete'],\n",
    " [131, 'Missolonghi', 10916, 12225, 12785, 'Western Greece'],\n",
    " [132, 'Gazi', 1395, 8018, 12606, 'Crete'],\n",
    " [133, 'Ierapetra', 9541, 11678, 12355, 'Crete'],\n",
    " [134, 'Kalymnos', 10543, 10149, 12324, 'South Aegean'],\n",
    " [135, 'Rafina', 7752, 11352, 12168, 'Attica'],\n",
    " [136, 'Loutraki', 9388, 11383, 11564, 'Peloponnese'],\n",
    " [137, 'Agios Nikolaos', 8093, 10080, 11421, 'Crete'],\n",
    " [138, 'Ermoupoli', 13030, 11799, 11407, 'South Aegean'],\n",
    " [139, 'Ialysos', 7193, 10107, 11331, 'South Aegean'],\n",
    " [140, 'Mandra', 10012, 10947, 11327, 'Attica'],\n",
    " [141, 'Tyrnavos', 12028, 11116, 11069, 'Thessaly'],\n",
    " [142, 'Glyka Nera', 5813, 6623, 11049, 'Attica'],\n",
    " [143, 'Ymittos', 11671, 11139, 10715, 'Attica'],\n",
    " [144, 'Neo Psychiko', 12023, 10848, 10137, 'Attica'],\n",
    "]"
   ]
  },
  {
   "cell_type": "markdown",
   "metadata": {},
   "source": [
    "### Φτιάξτε ένα dictionary όπου keys είναι περιφέρεια και values είναι μία λίστα με όλες τις πόλεις που έχει."
   ]
  },
  {
   "cell_type": "code",
   "execution_count": 41,
   "metadata": {},
   "outputs": [
    {
     "data": {
      "text/plain": [
       "defaultdict(list,\n",
       "            {'Attica': ['Athens',\n",
       "              'Piraeus',\n",
       "              'Peristeri',\n",
       "              'Kallithea',\n",
       "              'Acharnes',\n",
       "              'Nikaia',\n",
       "              'Glyfada',\n",
       "              'Ilio',\n",
       "              'Ilioupoli',\n",
       "              'Keratsini',\n",
       "              'Chalandri',\n",
       "              'Nea Smyrni',\n",
       "              'Marousi',\n",
       "              'Agios Dimitrios',\n",
       "              'Zografou',\n",
       "              'Egaleo',\n",
       "              'Nea Ionia',\n",
       "              'Palaio Faliro',\n",
       "              'Korydallos',\n",
       "              'Vyronas',\n",
       "              'Agia Paraskevi',\n",
       "              'Galatsi',\n",
       "              'Petroupoli',\n",
       "              'Irakleio',\n",
       "              'Kifissia',\n",
       "              'Chaidari',\n",
       "              'Alimos',\n",
       "              'Agioi Anargyroi',\n",
       "              'Argyroupoli',\n",
       "              'Ano Liosia',\n",
       "              'Cholargos',\n",
       "              'Vrilissia',\n",
       "              'Aspropyrgos',\n",
       "              'Gerakas',\n",
       "              'Metamorfosi',\n",
       "              'Voula',\n",
       "              'Kamatero',\n",
       "              'Agia Varvara',\n",
       "              'Kaisariani',\n",
       "              'Nea Filadelfeia',\n",
       "              'Moschato',\n",
       "              'Perama',\n",
       "              'Salamina',\n",
       "              'Eleusis',\n",
       "              'Megara',\n",
       "              'Dafni',\n",
       "              'Melissia',\n",
       "              'Artemida',\n",
       "              'Pefki',\n",
       "              'Koropi',\n",
       "              'Nea Erythraia',\n",
       "              'Elliniko',\n",
       "              'Pallini',\n",
       "              'Agios Ioannis Rentis',\n",
       "              'Vari',\n",
       "              'Nea Makri',\n",
       "              'Tavros',\n",
       "              'Paiania',\n",
       "              'Kalyvia Thorikou',\n",
       "              'Drapetsona',\n",
       "              'Papagou',\n",
       "              'Rafina',\n",
       "              'Mandra',\n",
       "              'Glyka Nera',\n",
       "              'Ymittos',\n",
       "              'Neo Psychiko'],\n",
       "             'Central Macedonia': ['Thessaloniki',\n",
       "              'Kalamaria',\n",
       "              'Evosmos',\n",
       "              'Serres',\n",
       "              'Katerini',\n",
       "              'Stavroupoli',\n",
       "              'Veria',\n",
       "              'Polichni',\n",
       "              'Sykies',\n",
       "              'Ampelokipoi',\n",
       "              'Pylaia',\n",
       "              'Giannitsa',\n",
       "              'Neapoli',\n",
       "              'Eleftherio-Kordelio',\n",
       "              'Kilkis',\n",
       "              'Oraiokastro',\n",
       "              'Naousa',\n",
       "              'Peraia',\n",
       "              'Edessa',\n",
       "              'Panorama',\n",
       "              'Thermi',\n",
       "              'Alexandreia',\n",
       "              'Menemeni',\n",
       "              'Efkarpia',\n",
       "              'Pefka'],\n",
       "             'Western Greece': ['Patras',\n",
       "              'Agrinio',\n",
       "              'Pyrgos',\n",
       "              'Aigio',\n",
       "              'Amaliada',\n",
       "              'Nafpaktos',\n",
       "              'Missolonghi'],\n",
       "             'Thessaly': ['Larissa',\n",
       "              'Volos',\n",
       "              'Trikala',\n",
       "              'Karditsa',\n",
       "              'Nea Ionia',\n",
       "              'Tyrnavos'],\n",
       "             'Crete': ['Heraklion',\n",
       "              'Chania',\n",
       "              'Rethymno',\n",
       "              'Nea Alikarnassos',\n",
       "              'Gazi',\n",
       "              'Ierapetra',\n",
       "              'Agios Nikolaos'],\n",
       "             'Epirus': ['Ioannina', 'Arta', 'Preveza'],\n",
       "             'Central Greece': ['Chalcis', 'Lamia', 'Thebes', 'Livadeia'],\n",
       "             'Eastern Macedonia and Thrace': ['Alexandroupoli',\n",
       "              'Xanthi',\n",
       "              'Kavala',\n",
       "              'Komotini',\n",
       "              'Drama',\n",
       "              'Orestiada'],\n",
       "             'Peloponnese': ['Kalamata',\n",
       "              'Tripoli',\n",
       "              'Corinth',\n",
       "              'Argos',\n",
       "              'Sparta',\n",
       "              'Nafplio',\n",
       "              'Loutraki'],\n",
       "             'South Aegean': ['Rhodes',\n",
       "              'Kos',\n",
       "              'Kalymnos',\n",
       "              'Ermoupoli',\n",
       "              'Ialysos'],\n",
       "             'Western Macedonia': ['Kozani',\n",
       "              'Ptolemaida',\n",
       "              'Florina',\n",
       "              'Kastoria',\n",
       "              'Grevena'],\n",
       "             'North Aegean': ['Mytilene', 'Chios'],\n",
       "             'Ionian Islands': ['Corfu']})"
      ]
     },
     "execution_count": 41,
     "metadata": {},
     "output_type": "execute_result"
    }
   ],
   "source": [
    "#d = {}\n",
    "d = defaultdict(list)\n",
    "\n",
    "for x in cities:\n",
    "    region = x[5]\n",
    "    city = x[1]\n",
    "    \n",
    "#    if not region in d:\n",
    "#        d[region] = []\n",
    "        \n",
    "    d[region].append(city)\n",
    "\n",
    "d"
   ]
  },
  {
   "cell_type": "code",
   "execution_count": 42,
   "metadata": {},
   "outputs": [],
   "source": [
    "d2 = defaultdict(list)"
   ]
  },
  {
   "cell_type": "code",
   "execution_count": 43,
   "metadata": {},
   "outputs": [
    {
     "data": {
      "text/plain": [
       "[]"
      ]
     },
     "execution_count": 43,
     "metadata": {},
     "output_type": "execute_result"
    }
   ],
   "source": [
    "d2['andromaxh']"
   ]
  },
  {
   "cell_type": "code",
   "execution_count": 44,
   "metadata": {},
   "outputs": [],
   "source": [
    "import re"
   ]
  },
  {
   "cell_type": "code",
   "execution_count": 45,
   "metadata": {},
   "outputs": [],
   "source": [
    "\n",
    "a = 'aaaaaa12345bbbbbb'\n"
   ]
  },
  {
   "cell_type": "code",
   "execution_count": 48,
   "metadata": {},
   "outputs": [
    {
     "data": {
      "text/plain": [
       "True"
      ]
     },
     "execution_count": 48,
     "metadata": {},
     "output_type": "execute_result"
    }
   ],
   "source": [
    "bool(re.search('a', a))"
   ]
  },
  {
   "cell_type": "code",
   "execution_count": 49,
   "metadata": {},
   "outputs": [
    {
     "data": {
      "text/plain": [
       "False"
      ]
     },
     "execution_count": 49,
     "metadata": {},
     "output_type": "execute_result"
    }
   ],
   "source": [
    "bool(re.search('c', a))"
   ]
  },
  {
   "cell_type": "code",
   "execution_count": 54,
   "metadata": {},
   "outputs": [
    {
     "data": {
      "text/plain": [
       "<re.Match object; span=(6, 7), match='1'>"
      ]
     },
     "execution_count": 54,
     "metadata": {},
     "output_type": "execute_result"
    }
   ],
   "source": [
    "re.search('[0123456789]', a)"
   ]
  },
  {
   "cell_type": "code",
   "execution_count": 55,
   "metadata": {},
   "outputs": [
    {
     "data": {
      "text/plain": [
       "<re.Match object; span=(6, 7), match='1'>"
      ]
     },
     "execution_count": 55,
     "metadata": {},
     "output_type": "execute_result"
    }
   ],
   "source": [
    "re.search('[0-9]', a)"
   ]
  },
  {
   "cell_type": "code",
   "execution_count": 56,
   "metadata": {},
   "outputs": [
    {
     "data": {
      "text/plain": [
       "<re.Match object; span=(6, 7), match='1'>"
      ]
     },
     "execution_count": 56,
     "metadata": {},
     "output_type": "execute_result"
    }
   ],
   "source": [
    "re.search('[\\d]', a)"
   ]
  },
  {
   "cell_type": "code",
   "execution_count": 57,
   "metadata": {},
   "outputs": [],
   "source": [
    "a = 'aaaaaa12345bbbbbb'"
   ]
  },
  {
   "cell_type": "code",
   "execution_count": 58,
   "metadata": {},
   "outputs": [
    {
     "data": {
      "text/plain": [
       "'1'"
      ]
     },
     "execution_count": 58,
     "metadata": {},
     "output_type": "execute_result"
    }
   ],
   "source": [
    "a[6:7]"
   ]
  },
  {
   "cell_type": "code",
   "execution_count": 59,
   "metadata": {},
   "outputs": [
    {
     "data": {
      "text/plain": [
       "<re.Match object; span=(6, 11), match='12345'>"
      ]
     },
     "execution_count": 59,
     "metadata": {},
     "output_type": "execute_result"
    }
   ],
   "source": [
    "re.search('[\\d]+', a) # Μια ή παραπάνω φορές"
   ]
  },
  {
   "cell_type": "code",
   "execution_count": 60,
   "metadata": {},
   "outputs": [
    {
     "data": {
      "text/plain": [
       "'12345'"
      ]
     },
     "execution_count": 60,
     "metadata": {},
     "output_type": "execute_result"
    }
   ],
   "source": [
    "a[6:11]"
   ]
  },
  {
   "cell_type": "code",
   "execution_count": 61,
   "metadata": {},
   "outputs": [
    {
     "data": {
      "text/plain": [
       "<re.Match object; span=(6, 9), match='123'>"
      ]
     },
     "execution_count": 61,
     "metadata": {},
     "output_type": "execute_result"
    }
   ],
   "source": [
    "re.search('[\\d]{3}', a) # Τρια και μόνο τρία"
   ]
  },
  {
   "cell_type": "code",
   "execution_count": 63,
   "metadata": {},
   "outputs": [
    {
     "data": {
      "text/plain": [
       "<re.Match object; span=(6, 11), match='12345'>"
      ]
     },
     "execution_count": 63,
     "metadata": {},
     "output_type": "execute_result"
    }
   ],
   "source": [
    "re.search('[\\d]{2,10}', a) # από 2 έως 10"
   ]
  },
  {
   "cell_type": "code",
   "execution_count": 65,
   "metadata": {},
   "outputs": [
    {
     "data": {
      "text/plain": [
       "'aaaaaa12345bbbbbb'"
      ]
     },
     "execution_count": 65,
     "metadata": {},
     "output_type": "execute_result"
    }
   ],
   "source": [
    "a"
   ]
  },
  {
   "cell_type": "code",
   "execution_count": 66,
   "metadata": {},
   "outputs": [
    {
     "data": {
      "text/plain": [
       "<re.Match object; span=(6, 13), match='12345bb'>"
      ]
     },
     "execution_count": 66,
     "metadata": {},
     "output_type": "execute_result"
    }
   ],
   "source": [
    "re.search('[\\d]+bb', a)"
   ]
  },
  {
   "cell_type": "code",
   "execution_count": 67,
   "metadata": {},
   "outputs": [
    {
     "data": {
      "text/plain": [
       "'12345bb'"
      ]
     },
     "execution_count": 67,
     "metadata": {},
     "output_type": "execute_result"
    }
   ],
   "source": [
    "a[6:13]"
   ]
  },
  {
   "cell_type": "code",
   "execution_count": 81,
   "metadata": {},
   "outputs": [],
   "source": [
    "a = 'aaaaaa12345Tbbbbbb'\n",
    "#a = 'aaaaaa12345bbbbbb'\n",
    "#a = 'aaaaaa12345TTbbbbbb'"
   ]
  },
  {
   "cell_type": "code",
   "execution_count": 80,
   "metadata": {},
   "outputs": [
    {
     "data": {
      "text/plain": [
       "<re.Match object; span=(6, 14), match='12345Tbb'>"
      ]
     },
     "execution_count": 80,
     "metadata": {},
     "output_type": "execute_result"
    }
   ],
   "source": [
    "re.search('[\\d]+T?bb', a) # ? mporei na yparxei, mporei kai na mhn yparxei"
   ]
  },
  {
   "cell_type": "code",
   "execution_count": 76,
   "metadata": {},
   "outputs": [
    {
     "data": {
      "text/plain": [
       "'12345bb'"
      ]
     },
     "execution_count": 76,
     "metadata": {},
     "output_type": "execute_result"
    }
   ],
   "source": [
    "a[6:13]"
   ]
  },
  {
   "cell_type": "code",
   "execution_count": 84,
   "metadata": {},
   "outputs": [
    {
     "data": {
      "text/plain": [
       "<re.Match object; span=(6, 20), match='12345TTTTTTTbb'>"
      ]
     },
     "execution_count": 84,
     "metadata": {},
     "output_type": "execute_result"
    }
   ],
   "source": [
    "a = 'aaaaaa12345TTTTTTTbbbbbb'\n",
    "re.search('[\\d]+T*bb', a) # *= den yparxei, yparxei, yparxei polles fores"
   ]
  },
  {
   "cell_type": "markdown",
   "metadata": {},
   "source": [
    "```\n",
    "+ : Υπάρχει 1 ή παραπάνω\n",
    "? : ΥΠάρχει καμία ή μία\n",
    "* : Υπάρχει καμία, μία, ή παραπάνω\n",
    "```"
   ]
  },
  {
   "cell_type": "code",
   "execution_count": 85,
   "metadata": {},
   "outputs": [
    {
     "data": {
      "text/plain": [
       "<re.Match object; span=(18, 19), match='b'>"
      ]
     },
     "execution_count": 85,
     "metadata": {},
     "output_type": "execute_result"
    }
   ],
   "source": [
    "a = 'aaaaaa12345TTTTTTTbbbbbb'\n",
    "\n",
    "re.search('b', a)"
   ]
  },
  {
   "cell_type": "code",
   "execution_count": 87,
   "metadata": {},
   "outputs": [
    {
     "data": {
      "text/plain": [
       "<re.Match object; span=(0, 1), match='a'>"
      ]
     },
     "execution_count": 87,
     "metadata": {},
     "output_type": "execute_result"
    }
   ],
   "source": [
    "re.search('^a', a)"
   ]
  },
  {
   "cell_type": "code",
   "execution_count": 88,
   "metadata": {},
   "outputs": [],
   "source": [
    "re.search('a$', a)"
   ]
  },
  {
   "cell_type": "code",
   "execution_count": 89,
   "metadata": {},
   "outputs": [
    {
     "data": {
      "text/plain": [
       "<re.Match object; span=(23, 24), match='b'>"
      ]
     },
     "execution_count": 89,
     "metadata": {},
     "output_type": "execute_result"
    }
   ],
   "source": [
    "re.search('b$', a)"
   ]
  },
  {
   "cell_type": "code",
   "execution_count": 90,
   "metadata": {},
   "outputs": [],
   "source": [
    "a = '123'\n",
    "b = 'abc'\n",
    "c = 'klm',"
   ]
  },
  {
   "cell_type": "code",
   "execution_count": 100,
   "metadata": {},
   "outputs": [],
   "source": [
    "re.search('[\\d]+|[a-c]+', c)"
   ]
  },
  {
   "cell_type": "code",
   "execution_count": 94,
   "metadata": {},
   "outputs": [],
   "source": [
    "a='Alexandros Kanterakis'"
   ]
  },
  {
   "cell_type": "code",
   "execution_count": 97,
   "metadata": {},
   "outputs": [
    {
     "data": {
      "text/plain": [
       "<re.Match object; span=(0, 21), match='Alexandros Kanterakis'>"
      ]
     },
     "execution_count": 97,
     "metadata": {},
     "output_type": "execute_result"
    }
   ],
   "source": [
    "re.search('[A-Za-z]+ [A-Za-z]+', a)"
   ]
  },
  {
   "cell_type": "code",
   "execution_count": 98,
   "metadata": {},
   "outputs": [
    {
     "data": {
      "text/plain": [
       "<re.Match object; span=(0, 21), match='Alexandros Kanterakis'>"
      ]
     },
     "execution_count": 98,
     "metadata": {},
     "output_type": "execute_result"
    }
   ],
   "source": [
    "re.search('[\\w]+ [\\w]+', a)"
   ]
  },
  {
   "cell_type": "code",
   "execution_count": 109,
   "metadata": {},
   "outputs": [
    {
     "data": {
      "text/plain": [
       "<re.Match object; span=(0, 30), match='Alexandros          Kanterakis'>"
      ]
     },
     "execution_count": 109,
     "metadata": {},
     "output_type": "execute_result"
    }
   ],
   "source": [
    "a='Alexandros          Kanterakis'\n",
    "re.search('[\\w]+ +[\\w]+', a)"
   ]
  },
  {
   "cell_type": "code",
   "execution_count": 114,
   "metadata": {},
   "outputs": [
    {
     "data": {
      "text/plain": [
       "<re.Match object; span=(0, 42), match='Alexandros        \\n\\n\\n\\n    \\t\\t\\t   Kanterakis>"
      ]
     },
     "execution_count": 114,
     "metadata": {},
     "output_type": "execute_result"
    }
   ],
   "source": [
    "a='Alexandros        \\n\\n\\n\\n    \\t\\t\\t   Kanterakis'\n",
    "re.search('[\\w]+[\\s]+[\\w]+', a)"
   ]
  },
  {
   "cell_type": "markdown",
   "metadata": {},
   "source": [
    "```\n",
    "\\w : word ή λέξεις\n",
    "\\d : digit\n",
    "\\s : whitespace : enter, space, tab\n",
    ".  : Οποιοσδήποτε χαρακτήρας\n",
    "```"
   ]
  },
  {
   "cell_type": "code",
   "execution_count": 120,
   "metadata": {},
   "outputs": [
    {
     "data": {
      "text/plain": [
       "<re.Match object; span=(0, 7), match='_%$1234'>"
      ]
     },
     "execution_count": 120,
     "metadata": {},
     "output_type": "execute_result"
    }
   ],
   "source": [
    "a = '   1234'\n",
    "b = '9991234'\n",
    "c = 'aaa9999'\n",
    "d = '_%$1234'\n",
    "re.search('...[\\d]{4}', d)"
   ]
  },
  {
   "cell_type": "code",
   "execution_count": 121,
   "metadata": {},
   "outputs": [],
   "source": [
    "a = 'adfklgtwp34o85utlfghjwl4i58thrfghwi45truhejwoepiurptayoi4r3p9[puytouihgefjwoe[9ru3py8t4oiugrefjup9r8yt4uhrgefjoruqty48hugrefijur908yt4ogruhjdefijur90p48ty03988typuhandvkfsrup8y5q74tr'"
   ]
  },
  {
   "cell_type": "code",
   "execution_count": 122,
   "metadata": {},
   "outputs": [
    {
     "data": {
      "text/plain": [
       "'adfklgtwp34o85utlfghjwl4i58thrfghwi45truhejwoepiurptayoi4r3p9[puytouihgefjwoe[9ru3py8t4oiugrefjup9r8yt4uhrgefjoruqty48hugrefijur908yt4ogruhjdefijur90p48ty03988typuhandvkfsrup8y5q74tr'"
      ]
     },
     "execution_count": 122,
     "metadata": {},
     "output_type": "execute_result"
    }
   ],
   "source": [
    "a"
   ]
  },
  {
   "cell_type": "code",
   "execution_count": 124,
   "metadata": {},
   "outputs": [
    {
     "data": {
      "text/plain": [
       "<re.Match object; span=(9, 11), match='34'>"
      ]
     },
     "execution_count": 124,
     "metadata": {},
     "output_type": "execute_result"
    }
   ],
   "source": [
    "re.search('[\\d]+',a)"
   ]
  },
  {
   "cell_type": "code",
   "execution_count": 125,
   "metadata": {},
   "outputs": [
    {
     "data": {
      "text/plain": [
       "['34',\n",
       " '85',\n",
       " '4',\n",
       " '58',\n",
       " '45',\n",
       " '4',\n",
       " '3',\n",
       " '9',\n",
       " '9',\n",
       " '3',\n",
       " '8',\n",
       " '4',\n",
       " '9',\n",
       " '8',\n",
       " '4',\n",
       " '48',\n",
       " '908',\n",
       " '4',\n",
       " '90',\n",
       " '48',\n",
       " '03988',\n",
       " '8',\n",
       " '5',\n",
       " '74']"
      ]
     },
     "execution_count": 125,
     "metadata": {},
     "output_type": "execute_result"
    }
   ],
   "source": [
    "re.findall('[\\d]+',a)"
   ]
  },
  {
   "cell_type": "code",
   "execution_count": 132,
   "metadata": {},
   "outputs": [],
   "source": [
    "a = 'aaaaaa12345TTTTTTTbbbbbb'\n",
    "s = re.search('([\\d]+)(T*)bbb', a)"
   ]
  },
  {
   "cell_type": "code",
   "execution_count": 133,
   "metadata": {},
   "outputs": [
    {
     "data": {
      "text/plain": [
       "'12345TTTTTTTbbb'"
      ]
     },
     "execution_count": 133,
     "metadata": {},
     "output_type": "execute_result"
    }
   ],
   "source": [
    "s.group(0)"
   ]
  },
  {
   "cell_type": "code",
   "execution_count": 134,
   "metadata": {},
   "outputs": [
    {
     "data": {
      "text/plain": [
       "'12345'"
      ]
     },
     "execution_count": 134,
     "metadata": {},
     "output_type": "execute_result"
    }
   ],
   "source": [
    "s.group(1)"
   ]
  },
  {
   "cell_type": "code",
   "execution_count": 135,
   "metadata": {},
   "outputs": [
    {
     "data": {
      "text/plain": [
       "'TTTTTTT'"
      ]
     },
     "execution_count": 135,
     "metadata": {},
     "output_type": "execute_result"
    }
   ],
   "source": [
    "s.group(2)"
   ]
  },
  {
   "cell_type": "code",
   "execution_count": 140,
   "metadata": {},
   "outputs": [
    {
     "name": "stdout",
     "output_type": "stream",
     "text": [
      "<re.Match object; span=(0, 23), match='3aaaaaaaaaa4bbbbbbbbbb5'>\n"
     ]
    }
   ],
   "source": [
    "a = '3aaaaaaaaaa4bbbbbbbbbb5'\n",
    "s = re.search(r'[\\d]([\\w]+)[\\d]', a)\n",
    "print (s)"
   ]
  },
  {
   "cell_type": "code",
   "execution_count": 141,
   "metadata": {},
   "outputs": [
    {
     "name": "stdout",
     "output_type": "stream",
     "text": [
      "aaaaaaaaaa4bbbbbbbbbb\n"
     ]
    }
   ],
   "source": [
    "print (s.group(1))"
   ]
  },
  {
   "cell_type": "code",
   "execution_count": null,
   "metadata": {},
   "outputs": [],
   "source": []
  },
  {
   "cell_type": "markdown",
   "metadata": {},
   "source": [
    "```\n",
    "\\w : 0-9a-zA-Z\n",
    "```"
   ]
  },
  {
   "cell_type": "code",
   "execution_count": 138,
   "metadata": {},
   "outputs": [
    {
     "name": "stdout",
     "output_type": "stream",
     "text": [
      "<re.Match object; span=(0, 12), match='3aaaaaaaaaa4'>\n"
     ]
    }
   ],
   "source": [
    "a = '3aaaaaaaaaa4bbbbbbbbbb5'\n",
    "s = re.search(r'[\\d]([\\w]+?)[\\d]', a)\n",
    "print (s)"
   ]
  },
  {
   "cell_type": "code",
   "execution_count": 139,
   "metadata": {},
   "outputs": [
    {
     "data": {
      "text/plain": [
       "'aaaaaaaaaa'"
      ]
     },
     "execution_count": 139,
     "metadata": {},
     "output_type": "execute_result"
    }
   ],
   "source": [
    "s.group(1)"
   ]
  },
  {
   "cell_type": "code",
   "execution_count": 142,
   "metadata": {},
   "outputs": [
    {
     "name": "stdout",
     "output_type": "stream",
     "text": [
      "<re.Match object; span=(0, 12), match='3aaaaaaaaaa4'>\n"
     ]
    }
   ],
   "source": [
    "a = '3aaaaaaaaaa4bbbbbbbbbb5'\n",
    "s = re.search(r'[\\d]([\\w]*?)[\\d]', a)\n",
    "print (s)"
   ]
  },
  {
   "cell_type": "code",
   "execution_count": 143,
   "metadata": {},
   "outputs": [
    {
     "name": "stdout",
     "output_type": "stream",
     "text": [
      "<re.Match object; span=(0, 2), match='ba'>\n"
     ]
    }
   ],
   "source": [
    "a = 'baaa'\n",
    "s = re.search(r'ba??a', a)\n",
    "print (s)"
   ]
  },
  {
   "cell_type": "code",
   "execution_count": 144,
   "metadata": {},
   "outputs": [
    {
     "name": "stdout",
     "output_type": "stream",
     "text": [
      "<re.Match object; span=(0, 3), match='baa'>\n"
     ]
    }
   ],
   "source": [
    "a = 'baaa'\n",
    "s = re.search(r'ba?a', a)\n",
    "print (s)"
   ]
  },
  {
   "cell_type": "code",
   "execution_count": 145,
   "metadata": {},
   "outputs": [],
   "source": [
    "a = [\n",
    "    'aaa',\n",
    "    'bbb',\n",
    "    '123',\n",
    "    '456',\n",
    "]"
   ]
  },
  {
   "cell_type": "code",
   "execution_count": 147,
   "metadata": {},
   "outputs": [],
   "source": [
    "b = []\n",
    "for x in a:\n",
    "    if re.search('\\d+', x):\n",
    "        b.append(x)"
   ]
  },
  {
   "cell_type": "code",
   "execution_count": 149,
   "metadata": {},
   "outputs": [],
   "source": [
    "b = [x for x in a if re.search('\\d+', x)]"
   ]
  },
  {
   "cell_type": "code",
   "execution_count": 150,
   "metadata": {},
   "outputs": [
    {
     "data": {
      "text/plain": [
       "['123', '456']"
      ]
     },
     "execution_count": 150,
     "metadata": {},
     "output_type": "execute_result"
    }
   ],
   "source": [
    "b"
   ]
  },
  {
   "cell_type": "markdown",
   "metadata": {},
   "source": [
    "https://docs.python.org/3/library/re.html"
   ]
  },
  {
   "cell_type": "markdown",
   "metadata": {},
   "source": [
    "a=1"
   ]
  },
  {
   "cell_type": "code",
   "execution_count": null,
   "metadata": {},
   "outputs": [],
   "source": []
  },
  {
   "cell_type": "code",
   "execution_count": 151,
   "metadata": {},
   "outputs": [],
   "source": [
    "b=2"
   ]
  },
  {
   "cell_type": "code",
   "execution_count": null,
   "metadata": {},
   "outputs": [],
   "source": []
  }
 ],
 "metadata": {
  "kernelspec": {
   "display_name": "Python 3",
   "language": "python",
   "name": "python3"
  },
  "language_info": {
   "codemirror_mode": {
    "name": "ipython",
    "version": 3
   },
   "file_extension": ".py",
   "mimetype": "text/x-python",
   "name": "python",
   "nbconvert_exporter": "python",
   "pygments_lexer": "ipython3",
   "version": "3.7.0"
  }
 },
 "nbformat": 4,
 "nbformat_minor": 2
}
