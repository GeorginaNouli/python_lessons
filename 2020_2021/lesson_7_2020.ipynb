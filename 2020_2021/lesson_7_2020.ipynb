{
 "cells": [
  {
   "cell_type": "markdown",
   "metadata": {},
   "source": [
    "Ποιο είναι το άθροισμα της τετραγωνικής ρίζας όλων των αριθμών από το 1 μέχρι το 3000 που διαιρούνται με το 3 αλλά όχι με το 6;"
   ]
  },
  {
   "cell_type": "code",
   "execution_count": 5,
   "metadata": {},
   "outputs": [
    {
     "data": {
      "text/plain": [
       "18257.565447000314"
      ]
     },
     "execution_count": 5,
     "metadata": {},
     "output_type": "execute_result"
    }
   ],
   "source": [
    "import math\n",
    "\n",
    "def f():\n",
    "    s = 0\n",
    "    for i in range(1, 3001):\n",
    "        if not (i%3==0 and i%6!=0):\n",
    "            continue\n",
    "            \n",
    "        s += math.sqrt(i)\n",
    "        \n",
    "    return s\n",
    "\n",
    "f()\n",
    "            "
   ]
  },
  {
   "cell_type": "code",
   "execution_count": 7,
   "metadata": {},
   "outputs": [
    {
     "data": {
      "text/plain": [
       "18257.565447000314"
      ]
     },
     "execution_count": 7,
     "metadata": {},
     "output_type": "execute_result"
    }
   ],
   "source": [
    "import math\n",
    "\n",
    "def f():\n",
    "    s = 0\n",
    "    for i in range(1, 3001):\n",
    "        if i%3==0 and i%6!=0:\n",
    "            s += math.sqrt(i)\n",
    "        \n",
    "    return s\n",
    "\n",
    "f()"
   ]
  },
  {
   "cell_type": "code",
   "execution_count": 4,
   "metadata": {},
   "outputs": [
    {
     "data": {
      "text/plain": [
       "18257.565447000314"
      ]
     },
     "execution_count": 4,
     "metadata": {},
     "output_type": "execute_result"
    }
   ],
   "source": [
    "\n",
    "sum(math.sqrt(i) for i in range(1,3001) if i%3==0 and i%6!=0 )\n"
   ]
  },
  {
   "cell_type": "markdown",
   "metadata": {},
   "source": [
    "Όλα τα ζευγάρια κ,λ θετικών ακεραίων που είναι μικρότεροι ή ίσοι με το 10 όπου το λ διαιρεί ακριβώς το κ είναι:\n",
    "\n",
    "(4, 2), (6, 2), (6, 3), (8, 2), (8, 4), (9, 3), (10, 2), (10, 5)\n",
    "\n",
    "\n",
    "Το άθροισμα των διαφορών αυτώ των ζευγαριών είναι:\n",
    "\n",
    "(4 - 2) + (6 - 2) + (6 - 3) + (8 - 2) + (8 - 4) + (9 - 3) + (10 - 2) + (10 - 5) = 38\n",
    "\n",
    "Ποιο είναι το αντίστοιχο άθροισμα διαφορών αν πάρουμε όλα τα ζευγάρια κ,λ που είναι μικρότεροι η ίσοι με το 1000;"
   ]
  },
  {
   "cell_type": "code",
   "execution_count": 12,
   "metadata": {},
   "outputs": [
    {
     "name": "stdout",
     "output_type": "stream",
     "text": [
      "2465073\n"
     ]
    }
   ],
   "source": [
    "\n",
    "s = 0\n",
    "for x in range(1,1001):\n",
    "    #print (x)\n",
    "    for y in range(2,x):\n",
    "        if x%y == 0:\n",
    "            #print (x,y)\n",
    "            s += x-y\n",
    "print (s)"
   ]
  },
  {
   "cell_type": "code",
   "execution_count": 13,
   "metadata": {},
   "outputs": [
    {
     "data": {
      "text/plain": [
       "2465073"
      ]
     },
     "execution_count": 13,
     "metadata": {},
     "output_type": "execute_result"
    }
   ],
   "source": [
    "sum(x-y for x in range(1,1001) for y in range(2,x) if x%y == 0 )"
   ]
  },
  {
   "cell_type": "code",
   "execution_count": 17,
   "metadata": {},
   "outputs": [
    {
     "name": "stdout",
     "output_type": "stream",
     "text": [
      "kwstas kwstas\n",
      "kwstas mitsos\n",
      "kwstas elenh\n",
      "kwstas maria\n",
      "mitsos mitsos\n",
      "mitsos elenh\n",
      "mitsos maria\n",
      "elenh elenh\n",
      "elenh maria\n",
      "maria maria\n"
     ]
    }
   ],
   "source": [
    "a = ['kwstas', 'mitsos', 'elenh', 'maria']\n",
    "\n",
    "for x in range(len(a)):\n",
    "    #for y in range(x+1, len(a)):\n",
    "    for y in range(x, len(a)):\n",
    "                   print (a[x], a[y])\n"
   ]
  },
  {
   "cell_type": "code",
   "execution_count": 19,
   "metadata": {},
   "outputs": [
    {
     "data": {
      "text/plain": [
       "[5, 6, 7, 8, 9]"
      ]
     },
     "execution_count": 19,
     "metadata": {},
     "output_type": "execute_result"
    }
   ],
   "source": [
    "list(range(5,10))"
   ]
  },
  {
   "cell_type": "markdown",
   "metadata": {},
   "source": [
    "Φτιάξτε μία συνάρτηση με το όνομα f η οποία να επιστρέφει μία συνάρτηση η οποία να επιτρέφει μία συνάρτηση η οποία να επιστρέφει μία λίστα της οποίας το 2ο στοιχείο να είναι μία συνάρτηση η οποία να επιστρέφει το string 'mitsos'. Θα πρέπει δηλαδή να μπορώ να κάνω:\n",
    "```\n",
    "f()()()[1]()\n",
    "```\n",
    "\n",
    "#Αυτό πρέπει να Τυπώνει: 'Μήτσος'"
   ]
  },
  {
   "cell_type": "code",
   "execution_count": 26,
   "metadata": {},
   "outputs": [],
   "source": [
    "\n",
    "def t():\n",
    "    return \"mhtsos\"\n",
    "\n",
    "def f():\n",
    "    def g():\n",
    "        def h():\n",
    "            #return [1, t]\n",
    "            return [1, t]\n",
    "            \n",
    "        return h\n",
    "        \n",
    "    return g"
   ]
  },
  {
   "cell_type": "code",
   "execution_count": 27,
   "metadata": {},
   "outputs": [
    {
     "data": {
      "text/plain": [
       "'mhtsos'"
      ]
     },
     "execution_count": 27,
     "metadata": {},
     "output_type": "execute_result"
    }
   ],
   "source": [
    "f()()()[1]()\n"
   ]
  },
  {
   "cell_type": "code",
   "execution_count": 28,
   "metadata": {},
   "outputs": [],
   "source": [
    "f = lambda : lambda : lambda : [1, lambda : 'mhtsos']"
   ]
  },
  {
   "cell_type": "code",
   "execution_count": 29,
   "metadata": {},
   "outputs": [
    {
     "data": {
      "text/plain": [
       "'mhtsos'"
      ]
     },
     "execution_count": 29,
     "metadata": {},
     "output_type": "execute_result"
    }
   ],
   "source": [
    "f()()()[1]()"
   ]
  },
  {
   "cell_type": "code",
   "execution_count": 30,
   "metadata": {},
   "outputs": [],
   "source": [
    "def f(x):\n",
    "    return x/2"
   ]
  },
  {
   "cell_type": "code",
   "execution_count": 31,
   "metadata": {},
   "outputs": [
    {
     "data": {
      "text/plain": [
       "5.0"
      ]
     },
     "execution_count": 31,
     "metadata": {},
     "output_type": "execute_result"
    }
   ],
   "source": [
    "f(10)"
   ]
  },
  {
   "cell_type": "code",
   "execution_count": null,
   "metadata": {},
   "outputs": [],
   "source": [
    "f = lambda x : x/2"
   ]
  },
  {
   "cell_type": "code",
   "execution_count": 32,
   "metadata": {},
   "outputs": [
    {
     "data": {
      "text/plain": [
       "50.0"
      ]
     },
     "execution_count": 32,
     "metadata": {},
     "output_type": "execute_result"
    }
   ],
   "source": [
    "(lambda x : x/2)(100) # lambda , Nameless functions"
   ]
  },
  {
   "cell_type": "code",
   "execution_count": 33,
   "metadata": {},
   "outputs": [],
   "source": [
    "def f():\n",
    "    return 5"
   ]
  },
  {
   "cell_type": "code",
   "execution_count": 34,
   "metadata": {},
   "outputs": [],
   "source": [
    "f = lambda : 5"
   ]
  },
  {
   "cell_type": "code",
   "execution_count": 35,
   "metadata": {},
   "outputs": [
    {
     "data": {
      "text/plain": [
       "5"
      ]
     },
     "execution_count": 35,
     "metadata": {},
     "output_type": "execute_result"
    }
   ],
   "source": [
    "f()"
   ]
  },
  {
   "cell_type": "code",
   "execution_count": 37,
   "metadata": {},
   "outputs": [
    {
     "data": {
      "text/plain": [
       "5"
      ]
     },
     "execution_count": 37,
     "metadata": {},
     "output_type": "execute_result"
    }
   ],
   "source": [
    "(lambda : 5)()"
   ]
  },
  {
   "cell_type": "markdown",
   "metadata": {},
   "source": [
    "Φτιάξτε μία συνάρτηση με τον όνομα f η οποία να επιστρέφει μία λίστα με 10 στοιχεία.\n",
    "\n",
    "Το πρώτο στοιχείο της λίστας θα είναι μία συνάρτηση η οποία θα παίρνει σαν όρισμα έναν αριθμό και θα επιστρέφει το άθροισμά του με το 1.\n",
    "\n",
    "Το δεύτερο στοιχείο της λίστας θα είναι μία συνάρτηση η οποία θα παίρνει σαν όρισμα έναν αριθμό και θα επιστρέφει το άθροισμά του με το 2\n",
    "\n",
    "κ.ο.κ.\n",
    "\n",
    "Το 10ο στοιχείο της λίστας θα είναι μία συνάρτηση η οποία θα παίρνει σαν όρισμα έναν αριθμό και θα επιστρέφει το άθροισμά του με το 10.\n",
    "\n",
    "Θα πρέπει δηλαδή να μπορώ να γράψω:\n",
    "\n",
    "```\n",
    "f()[5](4) --> Τυπώνει 4+6 = 10\n",
    "f()[0](2) --> Τυπώνει 1+2 = 3\n",
    "```\n"
   ]
  },
  {
   "cell_type": "code",
   "execution_count": 49,
   "metadata": {},
   "outputs": [
    {
     "data": {
      "text/plain": [
       "2"
      ]
     },
     "execution_count": 49,
     "metadata": {},
     "output_type": "execute_result"
    }
   ],
   "source": [
    "def f():\n",
    "    \n",
    "    def g(y):\n",
    "        return lambda x : x+y\n",
    "    \n",
    "    l = []\n",
    "    for x in range(1, 11):\n",
    "\n",
    "        l.append(g(x))\n",
    "        \n",
    "        \n",
    "    return l\n",
    "\n",
    "f()[0](1)\n"
   ]
  },
  {
   "cell_type": "markdown",
   "metadata": {},
   "source": [
    "Έστω το παρακάτω string:\n",
    "\n",
    "'++-+--+-+++++++++++++-+-+++++-++--++-++++-+---++-++-+--++---++-+-++-------+-+++---+---++-+-+++-+-+++'\n",
    "\n",
    "Φτιάξτε μια συνάρτηση που θα παίρνει μία παράμετρο ένα string. Στη συνέχεια θα επιστρέφει τη θέση στο string που βρίσκεται η μεγαλύτερη ακολουθία από συνεχόμενα '+'. Αν η μεγαλύτερη ακολουθία υπάρχει παραπάνω από μία φορά, επιστρέφει τη πιο μικρή θέση. Για παράδειγμα:\n",
    "\n",
    "'+--+-+-----+-+--+----+--+---+++-+-+---+-----++----+-++--++++++-+-----++---+--+-+-+-+++++--++-------+' --> 56\n",
    "'+-+-++--+----+-+---+-+-+---+----+-++-+-+--++++-++++-+++--++++--+----+----+-+++--+-++-+---++-+-------' --> 42\n"
   ]
  },
  {
   "cell_type": "code",
   "execution_count": 75,
   "metadata": {},
   "outputs": [
    {
     "data": {
      "text/plain": [
       "56"
      ]
     },
     "execution_count": 75,
     "metadata": {},
     "output_type": "execute_result"
    }
   ],
   "source": [
    "def f(x):\n",
    "    \n",
    "\n",
    "    y = x.split('-')\n",
    "    m = max(y, key=len)\n",
    "    return x.index(m)\n",
    "    \n",
    "a = '+--+-+-----+-+--+----+--+---+++-+-+---+-----++----+-++--++++++-+-----++---+--+-+-+-+++++--++-------+'\n",
    "\n",
    "f(a)"
   ]
  },
  {
   "cell_type": "code",
   "execution_count": 76,
   "metadata": {},
   "outputs": [],
   "source": [
    "f = lambda x: x.index(max(x.split('-'), key=len))"
   ]
  },
  {
   "cell_type": "code",
   "execution_count": 77,
   "metadata": {},
   "outputs": [
    {
     "data": {
      "text/plain": [
       "56"
      ]
     },
     "execution_count": 77,
     "metadata": {},
     "output_type": "execute_result"
    }
   ],
   "source": [
    "\n",
    "f(a)\n"
   ]
  },
  {
   "cell_type": "code",
   "execution_count": 78,
   "metadata": {},
   "outputs": [
    {
     "data": {
      "text/plain": [
       "'cc'"
      ]
     },
     "execution_count": 78,
     "metadata": {},
     "output_type": "execute_result"
    }
   ],
   "source": [
    "\n",
    "l = ['a', 'bbbb', 'cc']\n",
    "max(l)\n"
   ]
  },
  {
   "cell_type": "code",
   "execution_count": 79,
   "metadata": {},
   "outputs": [
    {
     "data": {
      "text/plain": [
       "'bbbb'"
      ]
     },
     "execution_count": 79,
     "metadata": {},
     "output_type": "execute_result"
    }
   ],
   "source": [
    "l = ['a', 'bbbb', 'cc']\n",
    "max(l, key=len)"
   ]
  },
  {
   "cell_type": "code",
   "execution_count": 80,
   "metadata": {},
   "outputs": [
    {
     "data": {
      "text/plain": [
       "'bbbb'"
      ]
     },
     "execution_count": 80,
     "metadata": {},
     "output_type": "execute_result"
    }
   ],
   "source": [
    "l = ['a', 'bbbb', 'cc']\n",
    "max(l, key = lambda x: len(x))"
   ]
  },
  {
   "cell_type": "code",
   "execution_count": null,
   "metadata": {},
   "outputs": [],
   "source": []
  },
  {
   "cell_type": "code",
   "execution_count": 65,
   "metadata": {},
   "outputs": [
    {
     "data": {
      "text/plain": [
       "True"
      ]
     },
     "execution_count": 65,
     "metadata": {},
     "output_type": "execute_result"
    }
   ],
   "source": [
    "'+' < '++'"
   ]
  },
  {
   "cell_type": "code",
   "execution_count": 67,
   "metadata": {},
   "outputs": [
    {
     "data": {
      "text/plain": [
       "4"
      ]
     },
     "execution_count": 67,
     "metadata": {},
     "output_type": "execute_result"
    }
   ],
   "source": [
    "'abcdefg'.index('ef')"
   ]
  },
  {
   "cell_type": "code",
   "execution_count": null,
   "metadata": {},
   "outputs": [],
   "source": []
  },
  {
   "cell_type": "code",
   "execution_count": 59,
   "metadata": {},
   "outputs": [
    {
     "data": {
      "text/plain": [
       "['1111', '11111111', '111111']"
      ]
     },
     "execution_count": 59,
     "metadata": {},
     "output_type": "execute_result"
    }
   ],
   "source": [
    "'11112111111112111111'.split('2')"
   ]
  },
  {
   "cell_type": "code",
   "execution_count": 60,
   "metadata": {},
   "outputs": [
    {
     "data": {
      "text/plain": [
       "['asdf', 'asdf', 'asdf', 'asdf', 'as']"
      ]
     },
     "execution_count": 60,
     "metadata": {},
     "output_type": "execute_result"
    }
   ],
   "source": [
    "'asdf asdf asdf asdf as'.split(' ')"
   ]
  },
  {
   "cell_type": "markdown",
   "metadata": {},
   "source": [
    "Έστω το παρακάτω string:\n",
    "\n",
    "'++-+--+-+++++++++++++-+-+++++-++--++-++++-+---++-++-+--++---++-+-++-------+-+++---+---++-+-+++-+-+++'\n",
    "\n",
    "Και έστω η παρακάτω λέξη:\n",
    "\n",
    "ZABARAKTRANEMIA\n",
    "\n",
    "Φτιάξτε μία συνάρτηση η οποία θα παίρνει δύο παραμέτρους. Ένα string μόνο με '+' και '-' και ένα άλλο string με οποιουσδίποτε χαρακτήρες. Η συνάρτησή σας θα πρέπει να αντιστοιχείσει το 2ο string στο 1ο. Με τον εξής τρόπο: Όπου υπάρχει το πρώτο '-' αντιστοιχεί το 1ο γράμμα του 2ου string. Όπου υπάρχει το δεύτερο '-' αντιστοιχεί το 2ο γράμμα του 2ου string κτλ. Αν υπάρχει '+' τότε θα πρέπει να βάζει κενό. Δεν χρειάζεται να βάζετε κενά μόλις τελειώσει το 2o string. Για παράδειγμα:\n",
    "\n",
    "ΕΙΣΟΔΟΣ:\n",
    "'++-+--+-+++++++++++++-+-+++++-++--++-++++-+---++-++-+--++---++-+-++-------+-+++---+---++-+-+++-+-+++'\n",
    "'ZABARAKATRANEMIA'\n",
    "\n",
    "ΕΞΟΔΟΣ\n",
    "   Z AB A             R A     K  AT  R    A NEM  I  A\n",
    "\n",
    "ΕΞΗΓΗΣΗ\n",
    "'++-+--+-+++++++++++++-+-+++++-++--++-++++-+---++-++-+--++---++-+-++-------+-+++---+---++-+-+++-+-+++'\n",
    "   Z AB A             R A     K  AT  R    A NEM  I  A\n"
   ]
  },
  {
   "cell_type": "code",
   "execution_count": 82,
   "metadata": {},
   "outputs": [
    {
     "data": {
      "text/plain": [
       "'  Z AB A             R A     K  AT  R    A NEM  I  A'"
      ]
     },
     "execution_count": 82,
     "metadata": {},
     "output_type": "execute_result"
    }
   ],
   "source": [
    "def f(l,m):\n",
    "    \n",
    "    r = ''\n",
    "    m_letter = 0\n",
    "    for x in l:\n",
    "        if x == '+':\n",
    "            r += ' '\n",
    "        elif x == '-':\n",
    "            r += m[m_letter]\n",
    "            m_letter += 1\n",
    "            \n",
    "        if m_letter == len(m):\n",
    "            break\n",
    "    return r\n",
    "    \n",
    "a = '++-+--+-+++++++++++++-+-+++++-++--++-++++-+---++-++-+--++---++-+-++-------+-+++---+---++-+-+++-+-+++'\n",
    "b = 'ZABARAKATRANEMIA'\n",
    "\n",
    "f(a,b)"
   ]
  },
  {
   "cell_type": "code",
   "execution_count": 90,
   "metadata": {},
   "outputs": [
    {
     "data": {
      "text/plain": [
       "'Alek'"
      ]
     },
     "execution_count": 90,
     "metadata": {},
     "output_type": "execute_result"
    }
   ],
   "source": [
    "def f(l):\n",
    "    \n",
    "    r = ''\n",
    "    for x in range(0, len(l[0])):\n",
    "        letter = l[0][x]\n",
    "        #print (letter)\n",
    "        \n",
    "        if True:\n",
    "            if all(y[x] == letter for y in l[1:]):\n",
    "                r += letter\n",
    "            else:\n",
    "                break\n",
    "        \n",
    "        if False:\n",
    "            ok = True\n",
    "            for y in l[1:]:\n",
    "                if y[x]!=letter:\n",
    "                    ok = False\n",
    "            if ok:\n",
    "                r += letter\n",
    "            else:\n",
    "                break\n",
    "            \n",
    "    return r\n",
    "            \n",
    "\n",
    "l = [\n",
    "   'Alekos',\n",
    "   'Aleksandra',\n",
    "   'Aleksandros'\n",
    "]\n",
    "\n",
    "f(l)"
   ]
  },
  {
   "cell_type": "markdown",
   "metadata": {},
   "source": [
    "Φτιάξτε μία συνάρτηση η οποία θα παίρνει 1 παραμέτρo, ν ακέραιoς. Η συνάρτηση θα πρέπει να επιστρέφει ένα string το οποίο θα είναι το ανάπτυγμα της έκφρασης (α+β)^ν. Παραδείγματα:\n",
    "\n",
    "n=10  Δηλαδή (α+β)^10\n",
    "\n",
    "```\n",
    "--> a^10 + 10a^9b + 45a^8b^2 + 120a^7b^3 + 210a^6b^4 + 252a^5b^5 + 210a^4b^6 + 120a^3b^7 + 45a^2b^8 + 10ab^9 + b^10\n",
    "```\n",
    "\n",
    "Χρησιμοποιείστε τη φόρμουλα που περιγράφεται εδώ: https://en.wikipedia.org/wiki/Binomial_theorem για να βρείτε τους παράγοντες του κάθε γινομένου."
   ]
  },
  {
   "cell_type": "code",
   "execution_count": 276,
   "metadata": {},
   "outputs": [
    {
     "data": {
      "text/plain": [
       "'b^10+10ab^9+45a^2b^8+120a^3b^7+210a^4b^6+252a^5b^5+210a^6b^4+120a^7b^3+45a^8b^2+10a^9b+a^10'"
      ]
     },
     "execution_count": 276,
     "metadata": {},
     "output_type": "execute_result"
    }
   ],
   "source": [
    "def fact(x):\n",
    "    \n",
    "    if x==0:\n",
    "        return 1\n",
    "    if x==1:\n",
    "        return 1\n",
    "    return x*fact(x-1)\n",
    "\n",
    "def combinations(n,k):\n",
    "    return int(fact(n)/ (fact(k)*fact(n-k)))\n",
    "    \n",
    "def f(n):\n",
    "    \n",
    "    ret = []\n",
    "    for x in range(n+1):\n",
    "        s1 = str(combinations(n,x))\n",
    "        if s1 == '1':\n",
    "            s1 = ''\n",
    "        \n",
    "        if x==0:\n",
    "            s2 = ''\n",
    "        elif x == 1:\n",
    "            s2 = 'a'\n",
    "        else:\n",
    "            s2 = 'a^{}'.format(x)\n",
    "\n",
    "        if n-x==0:\n",
    "            s3 = ''\n",
    "        elif n-x == 1:\n",
    "            s3 = 'b'\n",
    "        else:\n",
    "            s3 = 'b^{}'.format(n-x)\n",
    "        \n",
    "        ret.append(s1+s2+s3)\n",
    "        \n",
    "    return '+'.join(ret)\n",
    "    \n",
    "    \n",
    "    \n",
    "#f(2) # (a+b)^2 --> a^2 + 2ab + b^2\n",
    "#f(3) # (a+b)^3 --> a^2 + 3a^2b + 3ab^2 + b^3\n",
    "f(10)"
   ]
  },
  {
   "cell_type": "markdown",
   "metadata": {},
   "source": [
    "Έστω το παρακάτω string:\n",
    "\n",
    "'aahtoootoootttuuuu-----------o'\n",
    "\n",
    "Υπάρχει ενας τρόπος να \"συμπιέσουμε\" αυτό το string, γράφοντας κάθε γράμμα που επαναλαμβάνετε σκολουθούμενο με το πόσες φορές επαναλμβάνεται. Αν το υλοποιήσουμε τότε το string αυτό μπορει να γραφεί ως εξής:\n",
    "\n",
    "'a2h1t1o3t1o3t2u4-11o1'\n",
    "\n",
    "Φτιάξτε μία συνάρτηση με τον όνομα compress η οποία θα παίρνει ως παράμετρο ένα string s. Η συνάρτηση θα επιστρέφει ένα άλλο string το οποίο θα είναι η συμπίεση του s σύμφωνα με τον τρόπο που παρουσιάστηκε. Υποθέστε ότι το s δεν θα έχει αριθμούς μέσα.\n",
    "\n",
    "Φτιάξτε μία συνάρτηση με τον όνομα decompress η οποία θα παίρνει ένα συμπιεσμένο string και θα επιστρέφει το αρχικό, αποσυμπιεσμένο string."
   ]
  },
  {
   "cell_type": "code",
   "execution_count": 278,
   "metadata": {},
   "outputs": [
    {
     "data": {
      "text/plain": [
       "'a2h1t1o3t1o3t3u4-11o1'"
      ]
     },
     "execution_count": 278,
     "metadata": {},
     "output_type": "execute_result"
    }
   ],
   "source": [
    "def compress(x):\n",
    "    ret = ''\n",
    "    \n",
    "    rest = x\n",
    "    \n",
    "    while rest:\n",
    "    \n",
    "        first_letter = rest[0]\n",
    "\n",
    "        counter = 0\n",
    "        while rest[counter]==first_letter:\n",
    "            counter += 1\n",
    "            if counter == len(rest):\n",
    "                break\n",
    "\n",
    "        #print (counter)\n",
    "        ret += '{}{}'.format(first_letter, str(counter))\n",
    "\n",
    "        rest = rest[counter:]\n",
    "        #print ('rest:', rest)\n",
    "    \n",
    "    return ret\n",
    "    #print (ret)\n",
    "        \n",
    "    \n",
    "compress('aahtoootoootttuuuu-----------o') # Must return a2h1t1o3t1o3t2u4-11o1 "
   ]
  },
  {
   "cell_type": "code",
   "execution_count": 280,
   "metadata": {},
   "outputs": [
    {
     "data": {
      "text/plain": [
       "'aahtoootooottuuuu-----------o'"
      ]
     },
     "execution_count": 280,
     "metadata": {},
     "output_type": "execute_result"
    }
   ],
   "source": [
    "def decompress(x):\n",
    "    \n",
    "    ret = ''\n",
    "\n",
    "    while x:\n",
    "        first_letter = x[0]\n",
    "        next_letter = 1\n",
    "        \n",
    "        num_str = ''\n",
    "        while x[next_letter] in '0123456789':\n",
    "            num_str += x[next_letter]\n",
    "            next_letter += 1\n",
    "            if next_letter == len(x):\n",
    "                break\n",
    "            \n",
    "        num = int(num_str)\n",
    "\n",
    "        ret += first_letter * num\n",
    "        #print (ret)\n",
    "        rest = x[next_letter:]\n",
    "        #print (rest)\n",
    "        x = rest\n",
    "        \n",
    "    return ret\n",
    "    \n",
    "    \n",
    "decompress('a2h1t1o3t1o3t2u4-11o1') # aahtoootoootttuuuu-----------o "
   ]
  },
  {
   "cell_type": "markdown",
   "metadata": {},
   "source": [
    "Ένας παίκτης παίζει 100 παρτίδες πόκερ. Σε κάθε παρτίδα σημειώνει πόσα λεφτά κέρδισε ή έχασε. Τα ποσά αυτά τα σημειώνει σε μία λίστα. π.χ.:\n",
    "```\n",
    "[31, -28, 14, -12, -4, 44, 47, 2, -48, -5, -43, 32, 0, -4, 24, -46, -12, 38, -38, -27, -23, -26, 10, 42, 26, -20, -43, -50, \n",
    "2, 42, 32, 17, -33, 5, 42, 28, 2, 12, 9, -33, 22, 10, 3, 34, 12, 17, 21, 17, 24, 22, 21, -35, 33, 12, -43, 49, -17, 3, -2, \n",
    "-25, -29, -35, -26, -25, -22, -33, 10, 26, -41, 29, 6, -10, 15, -28, -23, -35, -1, -16, 24, -45, -50, -17, 20, 12, -32, 48, \n",
    "-48, 2, -41, 4, 5, 29, -36, -46, -6, -17, -18, 16, 42, 42]\n",
    "```\n",
    "Σε ποια παρτίδα ο παίκτης είχε τα περισσότερα χρήματα; Δηλαδή στη πρώτη παρτίδα ο παίκτης είχε 31. Στη δεύτερη είχε 31-28=3. Στη τρίτη είχε 31-28+14=17. κτλ. Όπως βλέπετε υπάρχουν παρτίδες που ο παίκτης έχασε χρήματα.\n",
    "\n",
    "Φτιάξτε μία συνάρτηση η οποία θα παίρνει ως παράμετρο μία λίστα από ακέραιους. Θα επιστρέφει τη θέση στην οποία το άθροισμα όλων των αριθμών από την αρχή μέχρι εκείνη τη θέση είναι ο μεγαλύτερος. Για παράδειγμα η απάντηση στη λίστα που δόθηκε είναι 55 (ξεκινώντας από το 0)."
   ]
  },
  {
   "cell_type": "code",
   "execution_count": 281,
   "metadata": {},
   "outputs": [
    {
     "name": "stdout",
     "output_type": "stream",
     "text": [
      "(225, 55)\n"
     ]
    }
   ],
   "source": [
    "def f(l):\n",
    "    \n",
    "    s = 0\n",
    "    new_list = []\n",
    "    for index, x in enumerate(l):\n",
    "        s += x\n",
    "        new_list.append((s, index))\n",
    "        #print (s)\n",
    "    print (max(new_list))\n",
    "    \n",
    "l = [31, -28, 14, -12, -4, 44, 47, 2, -48, -5, -43, 32, 0, -4, 24, -46, -12, 38, -38, -27, -23, -26, 10, 42, 26, -20, -43, -50, \n",
    "2, 42, 32, 17, -33, 5, 42, 28, 2, 12, 9, -33, 22, 10, 3, 34, 12, 17, 21, 17, 24, 22, 21, -35, 33, 12, -43, 49, -17, 3, -2, \n",
    "-25, -29, -35, -26, -25, -22, -33, 10, 26, -41, 29, 6, -10, 15, -28, -23, -35, -1, -16, 24, -45, -50, -17, 20, 12, -32, 48, \n",
    "-48, 2, -41, 4, 5, 29, -36, -46, -6, -17, -18, 16, 42, 42]\n",
    "f(l)"
   ]
  },
  {
   "cell_type": "markdown",
   "metadata": {},
   "source": [
    "Θεωρήστε τον ίδιο παίκτη πόκερ. Ποιες είναι οι συνεχόμενες παρτίδες που είχε το μεγαλύτερο κέρδος; Φτιάξτε μία συνάρτηση η οποία θα παίρνει σαν παράμετρο μία λίστα με ακέραιους. Η συνάρτηση θα επιστρέφει το υποσύνολο της λίστας από συνεχόμενες τιμές που έχει το μεγαλύτερο άθροισμα. Η απάντηση στη λίστα του παραδείγματος είναι: (28,56). Δηλαδή το άθροισμα όλων των στοιχείων της λίστα απο το 28 μέχρι το 56 είναι και το μεγαλύτερο δυνατό."
   ]
  },
  {
   "cell_type": "code",
   "execution_count": 148,
   "metadata": {},
   "outputs": [
    {
     "data": {
      "text/plain": [
       "(344, (28, 55))"
      ]
     },
     "execution_count": 148,
     "metadata": {},
     "output_type": "execute_result"
    }
   ],
   "source": [
    "\n",
    "def f(l):\n",
    "    k = []\n",
    "    for x in range(len(l)):\n",
    "        for y in range(x+1, len(l)):\n",
    "            k.append(   (sum(l[x:y+1]), (x,y))     )\n",
    "            \n",
    "    return max(k)\n",
    "\n",
    "f(l)"
   ]
  },
  {
   "cell_type": "code",
   "execution_count": 149,
   "metadata": {},
   "outputs": [
    {
     "data": {
      "text/plain": [
       "[2,\n",
       " 42,\n",
       " 32,\n",
       " 17,\n",
       " -33,\n",
       " 5,\n",
       " 42,\n",
       " 28,\n",
       " 2,\n",
       " 12,\n",
       " 9,\n",
       " -33,\n",
       " 22,\n",
       " 10,\n",
       " 3,\n",
       " 34,\n",
       " 12,\n",
       " 17,\n",
       " 21,\n",
       " 17,\n",
       " 24,\n",
       " 22,\n",
       " 21,\n",
       " -35,\n",
       " 33,\n",
       " 12,\n",
       " -43,\n",
       " 49]"
      ]
     },
     "execution_count": 149,
     "metadata": {},
     "output_type": "execute_result"
    }
   ],
   "source": [
    "l[28:56]"
   ]
  },
  {
   "cell_type": "code",
   "execution_count": 282,
   "metadata": {},
   "outputs": [
    {
     "data": {
      "text/plain": [
       "'11'"
      ]
     },
     "execution_count": 282,
     "metadata": {},
     "output_type": "execute_result"
    }
   ],
   "source": [
    "'1' + '1'"
   ]
  },
  {
   "cell_type": "markdown",
   "metadata": {},
   "source": [
    "Ας υποθέσουμε ότι έχουμε ένα γονίδιο το οποίο έχει μέγεθος 100 νουκλεοτίδια. Από το γονίδιο αυτό παίρνουμε 20 ακολουθίες. Η κάθε μία ξεκινάει και τελειώνει στις θέσεις που φαίνονται παρακάτω:\n",
    "\n",
    "```\n",
    "[(22, 34), (66, 75), (35, 46), (45, 59), (77, 87), (38, 58), (51, 58), (81, 90), (52, 70), (53, 65), \n",
    "(53, 72), (50, 63), (80, 100), (0, 12), (68, 81), (35, 51), (27, 34), (69, 87), (39, 47), (0, 8)]\n",
    "```\n",
    "Ποιες θέση του γονιδίου έχουν τη μεγαλύτερη \"κάλυψη\". Δηλαδή η ακολουθία τους έχει διαβαστεί τις περισσότερες φορές; Φτιάξτε μία συνάρτηση η οποία θα παίρνει μία λίστα από ζευγάρια από αριθμούς. Η συνάρτηση θα επιστρέφει μία λίστα με τις θέσεις που έχουν τη μεγαλύτερη κάλυψη. Για το παράδειγμα που έχει δοθεί η απάντηση είναι:\n",
    "```\n",
    "[53, 54, 55, 56, 57]\n",
    "```"
   ]
  },
  {
   "cell_type": "code",
   "execution_count": 164,
   "metadata": {},
   "outputs": [
    {
     "data": {
      "text/plain": [
       "[53, 54, 55, 56, 57, 58]"
      ]
     },
     "execution_count": 164,
     "metadata": {},
     "output_type": "execute_result"
    }
   ],
   "source": [
    "def f(l):\n",
    "    \n",
    "    d = {}\n",
    "    \n",
    "    for x,y in l:\n",
    "        for z in range(x,y+1):\n",
    "            \n",
    "            if not z in d:\n",
    "                d[z] = 0\n",
    "                \n",
    "            d[z] += 1\n",
    "            \n",
    "    max_location = max(d, key=d.get)\n",
    "    max_coverage =  d[max_location]\n",
    "    #print (max_coverage)\n",
    "    \n",
    "    if True:\n",
    "        return [k for k,v in d.items() if v==max_coverage]\n",
    "    \n",
    "    if False:\n",
    "        new_list = []\n",
    "        for k,v in d.items():\n",
    "            #print (k,v)\n",
    "            if v == max_coverage:\n",
    "                new_list.append(k)\n",
    "        return new_list\n",
    "    \n",
    "    #sorted(d.items(), key=lambda x : x[1])\n",
    "            \n",
    "    #print (d)\n",
    "\n",
    "\n",
    "l = [(22, 34), (66, 75), (35, 46), (45, 59), (77, 87), (38, 58), (51, 58), (81, 90), (52, 70), (53, 65), \n",
    "(53, 72), (50, 63), (80, 100), (0, 12), (68, 81), (35, 51), (27, 34), (69, 87), (39, 47), (0, 8)]\n",
    "\n",
    "f(l)\n"
   ]
  },
  {
   "cell_type": "markdown",
   "metadata": {},
   "source": [
    "Έστω η λίστα με τα παρακάτω strings:\n",
    "\n",
    "```\n",
    "b = [\n",
    "    'zabarakatranemia',\n",
    "    'askardamikth',\n",
    "    'mpampesika',\n",
    "]\n",
    "```\n",
    "\n",
    "Ποια είναι τα γράμματα που υπάρχουν σε όλα τα strings της λίστας; Φτιάξτε μία συνάρτηση που θα παίρνει σαν παράμετρο μία λίστα με strings. Θα επιστρέφει μία λίστα με όλα τα γράμματα που υπάρχουν σε όλα τα strings της παραμέτρου. Για παράδειγμα για τη λίστα που δόθηκε, τα γράμματα που υπάρχουν σε όλα strings είναι: ['m', 'k', 'i', 'a']. Προσοχή η λίστα μπορεί να περιέχει και γράμματα πέρα του λατινικού αλφάβητου (ελληνικα, κινέζικα, αραβικά, ...)"
   ]
  },
  {
   "cell_type": "code",
   "execution_count": 175,
   "metadata": {},
   "outputs": [
    {
     "data": {
      "text/plain": [
       "{'a', 'i', 'k', 'm'}"
      ]
     },
     "execution_count": 175,
     "metadata": {},
     "output_type": "execute_result"
    }
   ],
   "source": [
    "def f(l):\n",
    "\n",
    "    s = set(l[0])\n",
    "    \n",
    "    \n",
    "    for x in l[1:]:\n",
    "        #s = s & set(x)\n",
    "        s &= set(x)\n",
    "        \n",
    "    return s\n",
    "\n",
    "b = [\n",
    "    'zabarakatranemia',\n",
    "    'askardamikth',\n",
    "    'mpampesika',\n",
    "]\n",
    "\n",
    "f(b)"
   ]
  },
  {
   "cell_type": "code",
   "execution_count": 169,
   "metadata": {},
   "outputs": [
    {
     "data": {
      "text/plain": [
       "{1, 2, 3}"
      ]
     },
     "execution_count": 169,
     "metadata": {},
     "output_type": "execute_result"
    }
   ],
   "source": [
    "set([1,2,3,2,1,2,3,2])"
   ]
  },
  {
   "cell_type": "code",
   "execution_count": 283,
   "metadata": {},
   "outputs": [
    {
     "data": {
      "text/plain": [
       "{'a', 'i', 'k', 'm'}"
      ]
     },
     "execution_count": 283,
     "metadata": {},
     "output_type": "execute_result"
    }
   ],
   "source": [
    "\n",
    "(set('zabarakatranemia') & set('askardamikth')) & set('mpampesika')"
   ]
  },
  {
   "cell_type": "markdown",
   "metadata": {},
   "source": [
    "Έστω ο παρακάτω αριθμός:\n",
    "\n",
    "```\n",
    "a = 25629456287456291\n",
    "```\n",
    "\n",
    "Ποις είναι ο μεγαλύτερος αριθμός ο οποίος υπάρχει μέσα στον a και αποτελείται από ψηφία τα οποία είναι συνεχόμενα; Για παράδειγμα ο 456 είναι ο μεγαλύτερος αριθμός ο οποίος αποτελείται από συνεχόμενα ψηφία (4,5,6) ο οποίος υπάρχει μέσα στον a. Φτιάξτε μία συνάρτηση που θα παίρνει σαν παράμετρο τον a και θα επιστρέφει τον ζητούμενο αριθμό."
   ]
  },
  {
   "cell_type": "code",
   "execution_count": 284,
   "metadata": {},
   "outputs": [
    {
     "data": {
      "text/plain": [
       "456"
      ]
     },
     "execution_count": 284,
     "metadata": {},
     "output_type": "execute_result"
    }
   ],
   "source": [
    "def is_continuous(x):\n",
    "    \n",
    "    s = str(x)\n",
    "    for k in range(0, len(s)-1):\n",
    "        #print (s[k], s[k+1])\n",
    "        #print (s[k], s[k+1], int(s[k+1])-int(s[k]))\n",
    "        if int(s[k+1])-int(s[k]) != 1 :\n",
    "            return False\n",
    "    \n",
    "    return True\n",
    "\n",
    "def f(x):\n",
    "    s = str(x)\n",
    "    \n",
    "    all_continuous = []\n",
    "    \n",
    "    for x in range(len(s)):\n",
    "        for y in range(x+1, len(s)):\n",
    "            current_number = int(s[x:y])\n",
    "            if is_continuous(current_number):\n",
    "                all_continuous.append(current_number)\n",
    "\n",
    "    #print (all_continuous)\n",
    "    return max(all_continuous)\n",
    "            \n",
    "\n",
    "\n",
    "a = 25629456287456291\n",
    "f(a)\n",
    "\n",
    "#print (456, ':')\n",
    "#is_continuous(456) # True\n",
    "##print (457, ':')\n",
    "#is_continuous(457) # False\n",
    "#print (4568, ':')\n",
    "#is_continuous(4568) # False\n"
   ]
  },
  {
   "cell_type": "markdown",
   "metadata": {},
   "source": [
    "Ένα ρομποτάκι κινείται σε έναν διδιάστατο χώρο ξεκινώντας από το σημείο 0,0. Το ρομποτάκι δέχεται σαν είσοδο ένα string το οποιο περιγράφει τα βήματά του. Το string αυτό έχει τα παρακάτω γράμματα:\n",
    "\n",
    "    \">\": πήγαινε δεξιά (π.χ. από το 1,3 --> 2,3)\n",
    "    \"<\": πήγαινε αριστερά (π.χ. από το 1,3 --> 0,3)\n",
    "    \"v\": πήγαινε κάτω (π.χ. από το 1,3 --> 1,2)\n",
    "    \"^\": πήγαινε πάνω (π.χ. από το 1,3 --> 1,4)\n",
    "\n",
    "Για παράδειγμα μία ακολουθία μπορεί να είναι:\n",
    "\n",
    "^>v<\n",
    "\n",
    "Δηλαδή πήγαινε πάνω, μετά δεξιά, μετά κάτω μετά αριστερά.\n",
    "\n",
    "Φτιάξτε μία συνάρτηση η οποία θα δέχεται ένα string το οποίο θα έχει μόνο τους χαρακτήρες: \"<\", \">\", \"^\", \"v\". Θα επιστρέφει το πλήθος από τις θέσεις τις οποίες το ρομποτάκι έχει επισκεφθεί μία και μόνο φορά. Θεωρείστε ότι το 0,0 είναι η θέση που ξεκινάει οπότε πριν ακόμα αρχίσει να κινείται, έχει επισκεφθεί αυτή τη θέση 1 φορά (μπορεί όμως στο μέλλον να τη ξαναεπισκεφθεί).\n",
    "\n",
    "Παραδείγματα:\n",
    "```\n",
    "'v>v<vvv<<vv^v<v>vv>v<<<^^^^^<<^<vv>^>v^>^>^>^>^><vvvv<^>^<<^><<<^vvvv>^>^><^v^><^<>^^>^vvv^<vv>>^>^^<>><>^>vvv>>^vv>^<><>^<v^>^>^><vv^vv^>><<^><<v>><>^<^>>vvv>v>>>v<<^<>'\n",
    "--> 53\n",
    "\n",
    "'<^<v<>v>^^v^^^<^v^^>>><^>^>v<>^<>>^>^^v^><v<v>>><>v<v^v>^v<>>^><v>^<>v^>^<>^v^^^v^^>>vv<<^^><^<vvv>^>^^<^>>^^^^^v^<v>vv<>>v^v<^v^^<><^<^vv^><>><><>v>vvv^vv^^<<><<vvv><<^v^>'\n",
    "--> 33\n",
    "```"
   ]
  },
  {
   "cell_type": "code",
   "execution_count": 285,
   "metadata": {},
   "outputs": [
    {
     "data": {
      "text/plain": [
       "53"
      ]
     },
     "execution_count": 285,
     "metadata": {},
     "output_type": "execute_result"
    }
   ],
   "source": [
    "def f(x):\n",
    "    \n",
    "    \n",
    "    pos = {\n",
    "        (0,0) : 1\n",
    "    }\n",
    "    \n",
    "    cur_x = 0\n",
    "    cur_y = 0\n",
    "    for p in x:\n",
    "        if p == 'v':\n",
    "            cur_y += 1\n",
    "        if p == '^':\n",
    "            cur_y -= 1\n",
    "        if p == '<':\n",
    "            cur_x -= 1\n",
    "        if p == '>':\n",
    "            cur_x += 1\n",
    "            \n",
    "        pos_tuple = (cur_x, cur_y)\n",
    "        if not pos_tuple in pos:\n",
    "            pos[pos_tuple] = 0\n",
    "        \n",
    "        pos[pos_tuple] += 1\n",
    "    \n",
    "    return sum(v==1 for v in pos.values())\n",
    "    \n",
    "\n",
    "x = 'v>v<vvv<<vv^v<v>vv>v<<<^^^^^<<^<vv>^>v^>^>^>^>^><vvvv<^>^<<^><<<^vvvv>^>^><^v^><^<>^^>^vvv^<vv>>^>^^<>><>^>vvv>>^vv>^<><>^<v^>^>^><vv^vv^>><<^><<v>><>^<^>>vvv>v>>>v<<^<>'\n",
    "\n",
    "\n",
    "f(x)"
   ]
  },
  {
   "cell_type": "code",
   "execution_count": null,
   "metadata": {},
   "outputs": [],
   "source": []
  }
 ],
 "metadata": {
  "kernelspec": {
   "display_name": "Python 3",
   "language": "python",
   "name": "python3"
  },
  "language_info": {
   "codemirror_mode": {
    "name": "ipython",
    "version": 3
   },
   "file_extension": ".py",
   "mimetype": "text/x-python",
   "name": "python",
   "nbconvert_exporter": "python",
   "pygments_lexer": "ipython3",
   "version": "3.7.0"
  }
 },
 "nbformat": 4,
 "nbformat_minor": 2
}
