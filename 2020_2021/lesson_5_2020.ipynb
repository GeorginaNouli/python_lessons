{
 "cells": [
  {
   "cell_type": "code",
   "execution_count": 7,
   "metadata": {},
   "outputs": [],
   "source": [
    "import random\n",
    "students = [\n",
    "    'Tzwrtzina',\n",
    "    'Andreas',\n",
    "    'Xristos',\n",
    "    'Andromaxh',\n",
    "    'Danah',\n",
    "    'Antwnia',\n",
    "    'Aris',\n",
    "    'Maria',\n",
    "    'Sofia',\n",
    "    'Iwanna',\n",
    "    'Aggelos',\n",
    "]\n",
    "\n",
    "def random_student():\n",
    "    return random.choice(students)\n",
    "\n",
    "rs = random_student"
   ]
  },
  {
   "cell_type": "code",
   "execution_count": 8,
   "metadata": {},
   "outputs": [
    {
     "data": {
      "text/plain": [
       "'Aris'"
      ]
     },
     "execution_count": 8,
     "metadata": {},
     "output_type": "execute_result"
    }
   ],
   "source": [
    "rs()"
   ]
  },
  {
   "cell_type": "code",
   "execution_count": 9,
   "metadata": {},
   "outputs": [
    {
     "name": "stdout",
     "output_type": "stream",
     "text": [
      "1 1 = 1\n",
      "1 2 = 2\n",
      "1 3 = 3\n",
      "1 4 = 4\n",
      "1 5 = 5\n",
      "2 1 = 2\n",
      "2 2 = 4\n",
      "2 3 = 6\n",
      "2 4 = 8\n",
      "2 5 = 10\n",
      "3 1 = 3\n",
      "3 2 = 6\n",
      "3 3 = 9\n",
      "3 4 = 12\n",
      "3 5 = 15\n",
      "4 1 = 4\n",
      "4 2 = 8\n",
      "4 3 = 12\n",
      "4 4 = 16\n",
      "4 5 = 20\n",
      "5 1 = 5\n",
      "5 2 = 10\n",
      "5 3 = 15\n",
      "5 4 = 20\n",
      "5 5 = 25\n"
     ]
    }
   ],
   "source": [
    "for i in range(1,11):\n",
    "    \n",
    "    mitsos_break = False\n",
    "    for j in range(1,11):\n",
    "        print (i,j, '=', i*j)\n",
    "        if j>=5:\n",
    "            mitsos_break = True\n",
    "            break\n",
    "            \n",
    "    print (mitsos_break)\n",
    "        \n",
    "    if i>=5:\n",
    "        break\n"
   ]
  },
  {
   "cell_type": "code",
   "execution_count": 19,
   "metadata": {},
   "outputs": [
    {
     "name": "stdout",
     "output_type": "stream",
     "text": [
      "True\n"
     ]
    }
   ],
   "source": [
    "### Γράψε κώδικα να σου τυπώνει True/False ανάλογα \n",
    "### με το αν υπάρχει νούμερο σε ένα string ή όχι\n",
    "\n",
    "a = 'zldkfjghldskj6hgrldk5jfgasdlkfjas;or99uhgasfjk'\n",
    "#a = 'ggg'\n",
    "\n",
    "it_has_digits = False\n",
    "\n",
    "for x in a:\n",
    "    if x in '0123456789':\n",
    "        it_has_no_digits = True\n",
    "        break\n",
    "        \n",
    "print (it_has_no_digits)\n"
   ]
  },
  {
   "cell_type": "code",
   "execution_count": 15,
   "metadata": {},
   "outputs": [
    {
     "data": {
      "text/plain": [
       "'Danah'"
      ]
     },
     "execution_count": 15,
     "metadata": {},
     "output_type": "execute_result"
    }
   ],
   "source": [
    "rs()"
   ]
  },
  {
   "cell_type": "code",
   "execution_count": 20,
   "metadata": {},
   "outputs": [
    {
     "name": "stdout",
     "output_type": "stream",
     "text": [
      "False\n"
     ]
    }
   ],
   "source": [
    "a = 'zldkfjghldskj6hgrldk5jfgasdlkfjas;or99uhgasfjk'\n",
    "#a = 'ggg'\n",
    "\n",
    "#it_has_digits = False\n",
    "\n",
    "for x in a:\n",
    "    if x in '0123456789':\n",
    "        print (True)\n",
    "        break\n",
    "    else:\n",
    "        print (False)\n",
    "        break\n",
    "        \n"
   ]
  },
  {
   "cell_type": "code",
   "execution_count": 21,
   "metadata": {},
   "outputs": [
    {
     "name": "stdout",
     "output_type": "stream",
     "text": [
      "even\n"
     ]
    }
   ],
   "source": [
    "i=10\n",
    "\n",
    "if i%2 == 0:\n",
    "    print ('even')\n",
    "else:\n",
    "    print ('odd')"
   ]
  },
  {
   "cell_type": "code",
   "execution_count": 23,
   "metadata": {},
   "outputs": [
    {
     "name": "stdout",
     "output_type": "stream",
     "text": [
      "1\n",
      "2\n",
      "3\n",
      "4\n",
      "5\n",
      "6\n"
     ]
    }
   ],
   "source": [
    "\n",
    "\n",
    "for i in range(1,10):\n",
    "    print (i)\n",
    "    if i>5:\n",
    "        break\n",
    "else:\n",
    "    print ('No break!')\n"
   ]
  },
  {
   "cell_type": "markdown",
   "metadata": {},
   "source": [
    "### List comprehensions"
   ]
  },
  {
   "cell_type": "code",
   "execution_count": 26,
   "metadata": {},
   "outputs": [
    {
     "name": "stdout",
     "output_type": "stream",
     "text": [
      "[4, 6, 8, 8, 6, 4, 4, 8]\n"
     ]
    }
   ],
   "source": [
    "a = [3,5,4,6,8,9,8,7,6,5,4,3,4,5,7,8,9,1]\n",
    "\n",
    "b = []\n",
    "\n",
    "for i in a:\n",
    "    if i%2 == 0:\n",
    "        b.append(i)\n",
    "        \n",
    "print (b)\n",
    "\n"
   ]
  },
  {
   "cell_type": "code",
   "execution_count": 27,
   "metadata": {},
   "outputs": [
    {
     "name": "stdout",
     "output_type": "stream",
     "text": [
      "[4, 6, 8, 8, 6, 4, 4, 8]\n"
     ]
    }
   ],
   "source": [
    "b = [i for i in a if i%2 == 0] # List comprehension\n",
    "\n",
    "print (b)\n"
   ]
  },
  {
   "cell_type": "code",
   "execution_count": 24,
   "metadata": {},
   "outputs": [
    {
     "data": {
      "text/plain": [
       "'Tzwrtzina'"
      ]
     },
     "execution_count": 24,
     "metadata": {},
     "output_type": "execute_result"
    }
   ],
   "source": [
    "rs()"
   ]
  },
  {
   "cell_type": "code",
   "execution_count": 28,
   "metadata": {},
   "outputs": [
    {
     "name": "stdout",
     "output_type": "stream",
     "text": [
      "[12, 18, 24, 24, 18, 12, 12, 24]\n"
     ]
    }
   ],
   "source": [
    "a = [3,5,4,6,8,9,8,7,6,5,4,3,4,5,7,8,9,1]\n",
    "\n",
    "b = []\n",
    "\n",
    "for i in a:\n",
    "    if i%2 == 0:\n",
    "        b.append(i*3)\n",
    "        \n",
    "print (b)"
   ]
  },
  {
   "cell_type": "code",
   "execution_count": 30,
   "metadata": {},
   "outputs": [
    {
     "name": "stdout",
     "output_type": "stream",
     "text": [
      "[12, 18, 24, 24, 18, 12, 12, 24]\n"
     ]
    }
   ],
   "source": [
    "b = [i*3 for i in a if i%2 == 0] # List comprehension\n",
    "\n",
    "print (b)"
   ]
  },
  {
   "cell_type": "code",
   "execution_count": 31,
   "metadata": {},
   "outputs": [
    {
     "name": "stdout",
     "output_type": "stream",
     "text": [
      "54\n"
     ]
    }
   ],
   "source": [
    "# Ποιο είναι το άθροισμο των μονών στοιχείων της;\n",
    "a = [3,5,4,6,8,9,8,7,6,5,4,3,4,5,7,8,9,1]\n",
    "\n",
    "s = 0\n",
    "for x in a:\n",
    "    if x % 2 == 1:\n",
    "        s+=x\n",
    "print (s)"
   ]
  },
  {
   "cell_type": "code",
   "execution_count": 33,
   "metadata": {},
   "outputs": [
    {
     "data": {
      "text/plain": [
       "54"
      ]
     },
     "execution_count": 33,
     "metadata": {},
     "output_type": "execute_result"
    }
   ],
   "source": [
    "sum([x for x in a if x%2==1])"
   ]
  },
  {
   "cell_type": "code",
   "execution_count": 122,
   "metadata": {},
   "outputs": [
    {
     "name": "stdout",
     "output_type": "stream",
     "text": [
      "['1a', '1b', '1c', '2a', '2b', '2c', '3a', '3b', '3c']\n"
     ]
    }
   ],
   "source": [
    "# Πάρε όλους του δυνατούς συνδοιασμούς των λιστών:\n",
    "a = [1, 2, 3]\n",
    "b = ['a', 'b', 'c']\n",
    "\n",
    "# 1a 1b 1c 2a 2b 2c 3a 3b 3c\n",
    "\n",
    "c = []\n",
    "for i in a:\n",
    "    for j in b:\n",
    "        c.append(str(i)+j)\n",
    "        \n",
    "print (c)\n"
   ]
  },
  {
   "cell_type": "code",
   "execution_count": 123,
   "metadata": {},
   "outputs": [
    {
     "name": "stdout",
     "output_type": "stream",
     "text": [
      "1a\n",
      "1b\n",
      "1c\n",
      "2a\n",
      "2b\n",
      "2c\n",
      "3a\n",
      "3b\n",
      "3c\n"
     ]
    }
   ],
   "source": [
    "from itertools import product\n",
    "\n",
    "for x,y in product(a,b):\n",
    "    print (str(x) + y )\n"
   ]
  },
  {
   "cell_type": "code",
   "execution_count": 39,
   "metadata": {},
   "outputs": [
    {
     "name": "stdout",
     "output_type": "stream",
     "text": [
      "['1a', '1b', '1c', '2a', '2b', '2c', '3a', '3b', '3c']\n"
     ]
    }
   ],
   "source": [
    "\n",
    "c = [str(i)+j for i in a for j in b]\n",
    "print (c)\n",
    "\n"
   ]
  },
  {
   "cell_type": "code",
   "execution_count": null,
   "metadata": {},
   "outputs": [],
   "source": []
  },
  {
   "cell_type": "code",
   "execution_count": 34,
   "metadata": {},
   "outputs": [
    {
     "data": {
      "text/plain": [
       "'Andromaxh'"
      ]
     },
     "execution_count": 34,
     "metadata": {},
     "output_type": "execute_result"
    }
   ],
   "source": [
    "rs()"
   ]
  },
  {
   "cell_type": "markdown",
   "metadata": {},
   "source": [
    "Για να γίνει ένα κέικ κάποιος μπορεί να επιλέξει μία από 6 διαφορετικές μάρκες βούτηρο. Οι τιμές τους είναι:\n",
    "```python\n",
    "[82, 88, 88, 71, 79, 74]\n",
    "```\n",
    "\n",
    "Πρέπει επίσης να επιλέξει μία από 8 μάρκες αυγά. Οι τιμές τους είναι:\n",
    "```python\n",
    "[73, 91, 82, 98, 95, 90, 70, 73]\n",
    "```\n",
    "\n",
    "Πρέπει επίσης να επιλέξει μία από 5 μάρκες γάλα. Οι τιμές τους είναι:\n",
    "```python\n",
    "[97, 90, 89, 81, 99]\n",
    "```\n",
    "\n",
    "Ποιος είναι ο μέσος όρος όλων των δυνατών τιμών που μπορεί να κοστίσει ένα κέικ;"
   ]
  },
  {
   "cell_type": "code",
   "execution_count": 125,
   "metadata": {},
   "outputs": [
    {
     "data": {
      "text/plain": [
       "255.53333333333333"
      ]
     },
     "execution_count": 125,
     "metadata": {},
     "output_type": "execute_result"
    }
   ],
   "source": [
    "bout =  [82, 88, 88, 71, 79, 74]\n",
    "eggs = [73, 91, 82, 98, 95, 90, 70, 73]\n",
    "milk = [97, 90, 89, 81, 99]\n",
    "\n",
    "a = []\n",
    "for i in bout:\n",
    "    for j in eggs:\n",
    "        for k in milk:\n",
    "            a.append(i + j + k)\n",
    "\n",
    "#print (a)\n",
    "\n",
    "sum(a)/len(a)\n"
   ]
  },
  {
   "cell_type": "code",
   "execution_count": 126,
   "metadata": {},
   "outputs": [
    {
     "name": "stdout",
     "output_type": "stream",
     "text": [
      "255.53333333333333\n"
     ]
    }
   ],
   "source": [
    "a = [b+e+m for b,e,m in product(bout, eggs, milk)]\n",
    "print (sum(a)/len(a))"
   ]
  },
  {
   "cell_type": "code",
   "execution_count": null,
   "metadata": {},
   "outputs": [],
   "source": []
  },
  {
   "cell_type": "code",
   "execution_count": 51,
   "metadata": {},
   "outputs": [
    {
     "name": "stdout",
     "output_type": "stream",
     "text": [
      "255.53333333333333\n"
     ]
    }
   ],
   "source": [
    "a = [i + j + k for i in bout for j in eggs for k in milk]\n",
    "print (sum(a)/len(a))"
   ]
  },
  {
   "cell_type": "code",
   "execution_count": 93,
   "metadata": {},
   "outputs": [
    {
     "name": "stdout",
     "output_type": "stream",
     "text": [
      "(0, 3, 3)\n"
     ]
    }
   ],
   "source": [
    "\n",
    "a = [3,5,4,6,8,9,8,7,6,5,4,3,4,5,7,8,9,1]\n",
    "\n",
    "# Φτιάξε μία λίστα που να έχει όλα τα δυνατά ζευγάρια της λίστας a\n",
    "len(a)\n",
    "\n",
    "c = 0\n",
    "b = []\n",
    "for i in range(18):\n",
    "    for j in range (i+1, 18):\n",
    "        #print (i,j)\n",
    "        #print (a[i], a[j])\n",
    "        b.append(  (abs(a[i]-a[j]), a[i], a[j]) )\n",
    "        c += 1\n",
    "        \n",
    "#print (c)\n",
    "#print (b)\n",
    "print (min(b))\n"
   ]
  },
  {
   "cell_type": "code",
   "execution_count": 94,
   "metadata": {},
   "outputs": [
    {
     "data": {
      "text/plain": [
       "[(0, 'Mitsos'), (1, 'Kwstas'), (2, 'Elenh')]"
      ]
     },
     "execution_count": 94,
     "metadata": {},
     "output_type": "execute_result"
    }
   ],
   "source": [
    "a = ['Mitsos', 'Kwstas', 'Elenh']\n",
    "list(enumerate(a))"
   ]
  },
  {
   "cell_type": "code",
   "execution_count": null,
   "metadata": {},
   "outputs": [],
   "source": []
  },
  {
   "cell_type": "code",
   "execution_count": 106,
   "metadata": {},
   "outputs": [
    {
     "name": "stdout",
     "output_type": "stream",
     "text": [
      "Mitsos Kwstas\n",
      "Mitsos Elenh\n",
      "Kwstas Elenh\n"
     ]
    }
   ],
   "source": [
    "a = ['Mitsos', 'Kwstas', 'Elenh']\n",
    "\n",
    "\n",
    "for x in enumerate(a):\n",
    "    #print (x)\n",
    "    \n",
    "    #print (x[0])\n",
    "    \n",
    "    #print ( a[x[0]:] )\n",
    "    \n",
    "    #print ( a[x[0]+1:] )\n",
    "    \n",
    "    for y in a[x[0]+1:]:\n",
    "        print (x[1], y)\n"
   ]
  },
  {
   "cell_type": "code",
   "execution_count": 107,
   "metadata": {},
   "outputs": [],
   "source": [
    "a = [('Heraklion', 200000), ('Thess', 500000), ('Athens', 4000000)]"
   ]
  },
  {
   "cell_type": "code",
   "execution_count": 108,
   "metadata": {},
   "outputs": [
    {
     "name": "stdout",
     "output_type": "stream",
     "text": [
      "('Heraklion', 200000)\n",
      "('Thess', 500000)\n",
      "('Athens', 4000000)\n"
     ]
    }
   ],
   "source": [
    "for x in a:\n",
    "    print (x)"
   ]
  },
  {
   "cell_type": "code",
   "execution_count": 111,
   "metadata": {},
   "outputs": [
    {
     "name": "stdout",
     "output_type": "stream",
     "text": [
      "Heraklion 200000\n",
      "Thess 500000\n",
      "Athens 4000000\n"
     ]
    }
   ],
   "source": [
    "for city, population in a:\n",
    "    #print (city)\n",
    "    #print (population)\n",
    "    print (city, population)"
   ]
  },
  {
   "cell_type": "code",
   "execution_count": 112,
   "metadata": {},
   "outputs": [
    {
     "name": "stdout",
     "output_type": "stream",
     "text": [
      "Heraklion 200000 A\n",
      "Thess 500000 B\n",
      "Athens 4000000 C\n"
     ]
    }
   ],
   "source": [
    "a = [\n",
    "     ('Heraklion', 200000, 'A'), \n",
    "     ('Thess', 500000, 'B'), \n",
    "    ('Athens', 4000000, 'C')]\n",
    "\n",
    "for city, population, letter in a:\n",
    "    print (city, population, letter)"
   ]
  },
  {
   "cell_type": "code",
   "execution_count": 113,
   "metadata": {},
   "outputs": [
    {
     "name": "stdout",
     "output_type": "stream",
     "text": [
      "Mitsos Kwstas\n",
      "Mitsos Elenh\n",
      "Kwstas Elenh\n"
     ]
    }
   ],
   "source": [
    "a = ['Mitsos', 'Kwstas', 'Elenh']\n",
    "\n",
    "for index, element_1 in enumerate(a):\n",
    "    for element_2 in a[index+1:]:\n",
    "        print (element_1, element_2)\n"
   ]
  },
  {
   "cell_type": "code",
   "execution_count": 114,
   "metadata": {},
   "outputs": [],
   "source": [
    "import random"
   ]
  },
  {
   "cell_type": "code",
   "execution_count": 116,
   "metadata": {},
   "outputs": [
    {
     "name": "stdout",
     "output_type": "stream",
     "text": [
      "Mitsos Kwstas\n",
      "Mitsos Elenh\n",
      "Kwstas Elenh\n"
     ]
    }
   ],
   "source": [
    "from itertools import combinations\n",
    "\n",
    "for x,y in combinations(a, 2):\n",
    "    print (x,y)\n"
   ]
  },
  {
   "cell_type": "code",
   "execution_count": 119,
   "metadata": {},
   "outputs": [
    {
     "name": "stdout",
     "output_type": "stream",
     "text": [
      "13983816\n"
     ]
    }
   ],
   "source": [
    "c = 0\n",
    "for x in combinations(range(49),6):\n",
    "    c+= 1\n",
    "print (c)"
   ]
  },
  {
   "cell_type": "code",
   "execution_count": 121,
   "metadata": {},
   "outputs": [
    {
     "data": {
      "text/plain": [
       "13983816"
      ]
     },
     "execution_count": 121,
     "metadata": {},
     "output_type": "execute_result"
    }
   ],
   "source": [
    "sum(1 for x in combinations(range(49),6))"
   ]
  },
  {
   "cell_type": "code",
   "execution_count": null,
   "metadata": {},
   "outputs": [],
   "source": []
  },
  {
   "cell_type": "code",
   "execution_count": 87,
   "metadata": {},
   "outputs": [
    {
     "data": {
      "text/plain": [
       "[(0, 'Mitsos'), (1, 'Kwstas'), (2, 'Elenh')]"
      ]
     },
     "execution_count": 87,
     "metadata": {},
     "output_type": "execute_result"
    }
   ],
   "source": [
    "a = ['Mitsos', 'Kwstas', 'Elenh']\n",
    "list(enumerate(a))"
   ]
  },
  {
   "cell_type": "code",
   "execution_count": 91,
   "metadata": {},
   "outputs": [
    {
     "name": "stdout",
     "output_type": "stream",
     "text": [
      "Mitsos\n",
      "Kwstas\n",
      "Elenh\n"
     ]
    }
   ],
   "source": [
    "for x in enumerate(a):\n",
    "    print (x[1])\n",
    "    "
   ]
  },
  {
   "cell_type": "code",
   "execution_count": null,
   "metadata": {},
   "outputs": [],
   "source": []
  },
  {
   "cell_type": "code",
   "execution_count": null,
   "metadata": {},
   "outputs": [],
   "source": []
  },
  {
   "cell_type": "code",
   "execution_count": 83,
   "metadata": {},
   "outputs": [
    {
     "data": {
      "text/plain": [
       "(0, 3, 3)"
      ]
     },
     "execution_count": 83,
     "metadata": {},
     "output_type": "execute_result"
    }
   ],
   "source": [
    "min((abs(a[i]-a[j]), a[i], a[j]) \n",
    "    for i in range(18) for j in range (i+1, 18)) "
   ]
  },
  {
   "cell_type": "code",
   "execution_count": null,
   "metadata": {},
   "outputs": [],
   "source": []
  },
  {
   "cell_type": "code",
   "execution_count": 74,
   "metadata": {},
   "outputs": [],
   "source": [
    "#b = [(a[i], a[j]) for i in range(18) for j in range (i+1, 18)]\n",
    "\n",
    "b = min([abs(a[i] - a[j]) for i in range(18) for j in range (i+1, 18)])"
   ]
  },
  {
   "cell_type": "code",
   "execution_count": 80,
   "metadata": {},
   "outputs": [
    {
     "data": {
      "text/plain": [
       "1"
      ]
     },
     "execution_count": 80,
     "metadata": {},
     "output_type": "execute_result"
    }
   ],
   "source": [
    "min([5,2,1,3,6,4,1])"
   ]
  },
  {
   "cell_type": "code",
   "execution_count": 81,
   "metadata": {},
   "outputs": [
    {
     "data": {
      "text/plain": [
       "True"
      ]
     },
     "execution_count": 81,
     "metadata": {},
     "output_type": "execute_result"
    }
   ],
   "source": [
    "(0,3,3) < (0,4,4)"
   ]
  },
  {
   "cell_type": "code",
   "execution_count": null,
   "metadata": {},
   "outputs": [],
   "source": []
  },
  {
   "cell_type": "code",
   "execution_count": 75,
   "metadata": {},
   "outputs": [
    {
     "data": {
      "text/plain": [
       "0"
      ]
     },
     "execution_count": 75,
     "metadata": {},
     "output_type": "execute_result"
    }
   ],
   "source": [
    "b"
   ]
  },
  {
   "cell_type": "code",
   "execution_count": 71,
   "metadata": {},
   "outputs": [
    {
     "data": {
      "text/plain": [
       "[(3, 5),\n",
       " (3, 4),\n",
       " (3, 6),\n",
       " (3, 8),\n",
       " (3, 9),\n",
       " (3, 8),\n",
       " (3, 7),\n",
       " (3, 6),\n",
       " (3, 5),\n",
       " (3, 4),\n",
       " (3, 3),\n",
       " (3, 4),\n",
       " (3, 5),\n",
       " (3, 7),\n",
       " (3, 8),\n",
       " (3, 9),\n",
       " (3, 1),\n",
       " (5, 4),\n",
       " (5, 6),\n",
       " (5, 8),\n",
       " (5, 9),\n",
       " (5, 8),\n",
       " (5, 7),\n",
       " (5, 6),\n",
       " (5, 5),\n",
       " (5, 4),\n",
       " (5, 3),\n",
       " (5, 4),\n",
       " (5, 5),\n",
       " (5, 7),\n",
       " (5, 8),\n",
       " (5, 9),\n",
       " (5, 1),\n",
       " (4, 6),\n",
       " (4, 8),\n",
       " (4, 9),\n",
       " (4, 8),\n",
       " (4, 7),\n",
       " (4, 6),\n",
       " (4, 5),\n",
       " (4, 4),\n",
       " (4, 3),\n",
       " (4, 4),\n",
       " (4, 5),\n",
       " (4, 7),\n",
       " (4, 8),\n",
       " (4, 9),\n",
       " (4, 1),\n",
       " (6, 8),\n",
       " (6, 9),\n",
       " (6, 8),\n",
       " (6, 7),\n",
       " (6, 6),\n",
       " (6, 5),\n",
       " (6, 4),\n",
       " (6, 3),\n",
       " (6, 4),\n",
       " (6, 5),\n",
       " (6, 7),\n",
       " (6, 8),\n",
       " (6, 9),\n",
       " (6, 1),\n",
       " (8, 9),\n",
       " (8, 8),\n",
       " (8, 7),\n",
       " (8, 6),\n",
       " (8, 5),\n",
       " (8, 4),\n",
       " (8, 3),\n",
       " (8, 4),\n",
       " (8, 5),\n",
       " (8, 7),\n",
       " (8, 8),\n",
       " (8, 9),\n",
       " (8, 1),\n",
       " (9, 8),\n",
       " (9, 7),\n",
       " (9, 6),\n",
       " (9, 5),\n",
       " (9, 4),\n",
       " (9, 3),\n",
       " (9, 4),\n",
       " (9, 5),\n",
       " (9, 7),\n",
       " (9, 8),\n",
       " (9, 9),\n",
       " (9, 1),\n",
       " (8, 7),\n",
       " (8, 6),\n",
       " (8, 5),\n",
       " (8, 4),\n",
       " (8, 3),\n",
       " (8, 4),\n",
       " (8, 5),\n",
       " (8, 7),\n",
       " (8, 8),\n",
       " (8, 9),\n",
       " (8, 1),\n",
       " (7, 6),\n",
       " (7, 5),\n",
       " (7, 4),\n",
       " (7, 3),\n",
       " (7, 4),\n",
       " (7, 5),\n",
       " (7, 7),\n",
       " (7, 8),\n",
       " (7, 9),\n",
       " (7, 1),\n",
       " (6, 5),\n",
       " (6, 4),\n",
       " (6, 3),\n",
       " (6, 4),\n",
       " (6, 5),\n",
       " (6, 7),\n",
       " (6, 8),\n",
       " (6, 9),\n",
       " (6, 1),\n",
       " (5, 4),\n",
       " (5, 3),\n",
       " (5, 4),\n",
       " (5, 5),\n",
       " (5, 7),\n",
       " (5, 8),\n",
       " (5, 9),\n",
       " (5, 1),\n",
       " (4, 3),\n",
       " (4, 4),\n",
       " (4, 5),\n",
       " (4, 7),\n",
       " (4, 8),\n",
       " (4, 9),\n",
       " (4, 1),\n",
       " (3, 4),\n",
       " (3, 5),\n",
       " (3, 7),\n",
       " (3, 8),\n",
       " (3, 9),\n",
       " (3, 1),\n",
       " (4, 5),\n",
       " (4, 7),\n",
       " (4, 8),\n",
       " (4, 9),\n",
       " (4, 1),\n",
       " (5, 7),\n",
       " (5, 8),\n",
       " (5, 9),\n",
       " (5, 1),\n",
       " (7, 8),\n",
       " (7, 9),\n",
       " (7, 1),\n",
       " (8, 9),\n",
       " (8, 1),\n",
       " (9, 1)]"
      ]
     },
     "execution_count": 71,
     "metadata": {},
     "output_type": "execute_result"
    }
   ],
   "source": [
    "b"
   ]
  },
  {
   "cell_type": "code",
   "execution_count": null,
   "metadata": {},
   "outputs": [],
   "source": []
  },
  {
   "cell_type": "code",
   "execution_count": 59,
   "metadata": {},
   "outputs": [
    {
     "data": {
      "text/plain": [
       "153.0"
      ]
     },
     "execution_count": 59,
     "metadata": {},
     "output_type": "execute_result"
    }
   ],
   "source": [
    "N = len(a)\n",
    "N*(N-1)/2"
   ]
  },
  {
   "cell_type": "code",
   "execution_count": 84,
   "metadata": {},
   "outputs": [
    {
     "data": {
      "text/plain": [
       "153"
      ]
     },
     "execution_count": 84,
     "metadata": {},
     "output_type": "execute_result"
    }
   ],
   "source": [
    "sum(range(1,18))"
   ]
  },
  {
   "cell_type": "code",
   "execution_count": 127,
   "metadata": {},
   "outputs": [],
   "source": [
    "from collections import Counter"
   ]
  },
  {
   "cell_type": "code",
   "execution_count": 128,
   "metadata": {},
   "outputs": [
    {
     "data": {
      "text/plain": [
       "Counter({'s': 7, 'l': 7, 'k': 7, 'd': 7, 'f': 6, 'j': 7, 'g': 7, 'h': 7})"
      ]
     },
     "execution_count": 128,
     "metadata": {},
     "output_type": "execute_result"
    }
   ],
   "source": [
    "Counter('slkdfjghsldkfjghsldkfjghsldkjfghlsdkjfghlsdkjfghsldkjgh')"
   ]
  },
  {
   "cell_type": "code",
   "execution_count": 129,
   "metadata": {},
   "outputs": [
    {
     "data": {
      "text/plain": [
       "Counter({'m': 1, 'i': 1, 't': 2, 's': 4, 'o': 1, 'k': 1, 'w': 1, 'a': 1})"
      ]
     },
     "execution_count": 129,
     "metadata": {},
     "output_type": "execute_result"
    }
   ],
   "source": [
    "Counter('mitsos') + Counter('kwstas')"
   ]
  },
  {
   "cell_type": "code",
   "execution_count": 145,
   "metadata": {},
   "outputs": [
    {
     "name": "stdout",
     "output_type": "stream",
     "text": [
      "(0, 1) <class 'tuple'>\n",
      "(1, 2) <class 'tuple'>\n",
      "(2, 3) <class 'tuple'>\n"
     ]
    }
   ],
   "source": [
    "for x in enumerate([1,2,3]):\n",
    "    print (x, type(x))"
   ]
  },
  {
   "cell_type": "code",
   "execution_count": 131,
   "metadata": {},
   "outputs": [
    {
     "data": {
      "text/plain": [
       "tuple"
      ]
     },
     "execution_count": 131,
     "metadata": {},
     "output_type": "execute_result"
    }
   ],
   "source": [
    "type((4,5,6))"
   ]
  },
  {
   "cell_type": "code",
   "execution_count": 132,
   "metadata": {},
   "outputs": [],
   "source": [
    "class MITSOS:\n",
    "    \n",
    "    def f():\n",
    "        return 3\n",
    "\n",
    "    "
   ]
  },
  {
   "cell_type": "code",
   "execution_count": 133,
   "metadata": {},
   "outputs": [],
   "source": [
    "a = MITSOS()"
   ]
  },
  {
   "cell_type": "code",
   "execution_count": 136,
   "metadata": {},
   "outputs": [
    {
     "data": {
      "text/plain": [
       "__main__.MITSOS"
      ]
     },
     "execution_count": 136,
     "metadata": {},
     "output_type": "execute_result"
    }
   ],
   "source": [
    "type(a)"
   ]
  },
  {
   "cell_type": "code",
   "execution_count": 141,
   "metadata": {},
   "outputs": [
    {
     "data": {
      "text/plain": [
       "int"
      ]
     },
     "execution_count": 141,
     "metadata": {},
     "output_type": "execute_result"
    }
   ],
   "source": [
    "a = (3)\n",
    "type(a)"
   ]
  },
  {
   "cell_type": "code",
   "execution_count": null,
   "metadata": {},
   "outputs": [],
   "source": []
  },
  {
   "cell_type": "code",
   "execution_count": 139,
   "metadata": {},
   "outputs": [],
   "source": [
    "a = (3,)"
   ]
  },
  {
   "cell_type": "code",
   "execution_count": 140,
   "metadata": {},
   "outputs": [
    {
     "data": {
      "text/plain": [
       "tuple"
      ]
     },
     "execution_count": 140,
     "metadata": {},
     "output_type": "execute_result"
    }
   ],
   "source": [
    "type(a)"
   ]
  },
  {
   "cell_type": "code",
   "execution_count": 147,
   "metadata": {},
   "outputs": [
    {
     "data": {
      "text/plain": [
       "[('Heraklion', 200000, 'A'), ('Athens', 4000000, 'B'), ('Thess', 500000, 'C')]"
      ]
     },
     "execution_count": 147,
     "metadata": {},
     "output_type": "execute_result"
    }
   ],
   "source": [
    "a = ['Heraklion', 'Athens', 'Thess']\n",
    "b = [200000, 4000000, 500000]\n",
    "c = ['A', 'B', 'C']\n",
    "\n",
    "\n",
    "list(zip(a,b,c))"
   ]
  },
  {
   "cell_type": "code",
   "execution_count": 148,
   "metadata": {},
   "outputs": [
    {
     "name": "stdout",
     "output_type": "stream",
     "text": [
      "Heraklion 200000 A\n",
      "Athens 4000000 B\n",
      "Thess 500000 C\n"
     ]
    }
   ],
   "source": [
    "for k,l,m in zip(a,b,c):\n",
    "    print (k,l,m)"
   ]
  },
  {
   "cell_type": "code",
   "execution_count": 149,
   "metadata": {},
   "outputs": [
    {
     "data": {
      "text/plain": [
       "['Heraklion', 'Athens', 'Thess']"
      ]
     },
     "execution_count": 149,
     "metadata": {},
     "output_type": "execute_result"
    }
   ],
   "source": [
    "a"
   ]
  },
  {
   "cell_type": "code",
   "execution_count": 150,
   "metadata": {},
   "outputs": [
    {
     "data": {
      "text/plain": [
       "[(0, 'Heraklion'), (1, 'Athens'), (2, 'Thess')]"
      ]
     },
     "execution_count": 150,
     "metadata": {},
     "output_type": "execute_result"
    }
   ],
   "source": [
    "list(zip(range(len(a)), a))"
   ]
  },
  {
   "cell_type": "code",
   "execution_count": 151,
   "metadata": {},
   "outputs": [
    {
     "data": {
      "text/plain": [
       "['Heraklion', 'Athens', 'Thess']"
      ]
     },
     "execution_count": 151,
     "metadata": {},
     "output_type": "execute_result"
    }
   ],
   "source": [
    "a"
   ]
  },
  {
   "cell_type": "code",
   "execution_count": 152,
   "metadata": {},
   "outputs": [
    {
     "data": {
      "text/plain": [
       "[200000, 4000000, 500000]"
      ]
     },
     "execution_count": 152,
     "metadata": {},
     "output_type": "execute_result"
    }
   ],
   "source": [
    "b"
   ]
  },
  {
   "cell_type": "code",
   "execution_count": 154,
   "metadata": {},
   "outputs": [
    {
     "data": {
      "text/plain": [
       "[('Heraklion', 200000), ('Athens', 4000000), ('Thess', 500000)]"
      ]
     },
     "execution_count": 154,
     "metadata": {},
     "output_type": "execute_result"
    }
   ],
   "source": [
    "[(element, b[index]) for index, element in enumerate(a)]"
   ]
  },
  {
   "cell_type": "markdown",
   "metadata": {},
   "source": [
    "# Dictionaries "
   ]
  },
  {
   "cell_type": "code",
   "execution_count": 155,
   "metadata": {},
   "outputs": [],
   "source": [
    "a = ['mitsos', 'kostas', 'elenh']"
   ]
  },
  {
   "cell_type": "code",
   "execution_count": 157,
   "metadata": {},
   "outputs": [
    {
     "data": {
      "text/plain": [
       "'elenh'"
      ]
     },
     "execution_count": 157,
     "metadata": {},
     "output_type": "execute_result"
    }
   ],
   "source": [
    "a[2]"
   ]
  },
  {
   "cell_type": "code",
   "execution_count": 158,
   "metadata": {},
   "outputs": [
    {
     "ename": "TypeError",
     "evalue": "list indices must be integers or slices, not str",
     "output_type": "error",
     "traceback": [
      "\u001b[0;31m---------------------------------------------------------------------------\u001b[0m",
      "\u001b[0;31mTypeError\u001b[0m                                 Traceback (most recent call last)",
      "\u001b[0;32m<ipython-input-158-e49fd23c94fb>\u001b[0m in \u001b[0;36m<module>\u001b[0;34m()\u001b[0m\n\u001b[0;32m----> 1\u001b[0;31m \u001b[0ma\u001b[0m\u001b[0;34m[\u001b[0m\u001b[0;34m'name'\u001b[0m\u001b[0;34m]\u001b[0m\u001b[0;34m\u001b[0m\u001b[0m\n\u001b[0m",
      "\u001b[0;31mTypeError\u001b[0m: list indices must be integers or slices, not str"
     ]
    }
   ],
   "source": [
    "a['name'] "
   ]
  },
  {
   "cell_type": "code",
   "execution_count": 159,
   "metadata": {},
   "outputs": [],
   "source": [
    "person = {\n",
    "    'name': 'Elenh',\n",
    "    'age': 20,\n",
    "    'department': 'biology'\n",
    "}"
   ]
  },
  {
   "cell_type": "code",
   "execution_count": 160,
   "metadata": {},
   "outputs": [
    {
     "data": {
      "text/plain": [
       "'Elenh'"
      ]
     },
     "execution_count": 160,
     "metadata": {},
     "output_type": "execute_result"
    }
   ],
   "source": [
    "person['name']"
   ]
  },
  {
   "cell_type": "code",
   "execution_count": 161,
   "metadata": {},
   "outputs": [
    {
     "data": {
      "text/plain": [
       "20"
      ]
     },
     "execution_count": 161,
     "metadata": {},
     "output_type": "execute_result"
    }
   ],
   "source": [
    "person['age']"
   ]
  },
  {
   "cell_type": "code",
   "execution_count": 162,
   "metadata": {},
   "outputs": [],
   "source": [
    "persons = [\n",
    "    {\n",
    "        'name': 'Elenh',\n",
    "        'age': 20,\n",
    "        'department': 'biology'\n",
    "    },\n",
    "    {\n",
    "        'name': 'Kwsta',\n",
    "        'age': 40,\n",
    "        'department': 'CS'\n",
    "    },\n",
    "\n",
    "]"
   ]
  },
  {
   "cell_type": "code",
   "execution_count": 164,
   "metadata": {},
   "outputs": [
    {
     "data": {
      "text/plain": [
       "{'name': 'Elenh', 'age': 20, 'department': 'biology'}"
      ]
     },
     "execution_count": 164,
     "metadata": {},
     "output_type": "execute_result"
    }
   ],
   "source": [
    "persons[0]"
   ]
  },
  {
   "cell_type": "code",
   "execution_count": 165,
   "metadata": {},
   "outputs": [
    {
     "data": {
      "text/plain": [
       "{'name': 'Kwsta', 'age': 40, 'department': 'CS'}"
      ]
     },
     "execution_count": 165,
     "metadata": {},
     "output_type": "execute_result"
    }
   ],
   "source": [
    "persons[1]"
   ]
  },
  {
   "cell_type": "code",
   "execution_count": 167,
   "metadata": {},
   "outputs": [
    {
     "data": {
      "text/plain": [
       "40"
      ]
     },
     "execution_count": 167,
     "metadata": {},
     "output_type": "execute_result"
    }
   ],
   "source": [
    "persons[1]['age']"
   ]
  },
  {
   "cell_type": "code",
   "execution_count": 171,
   "metadata": {},
   "outputs": [],
   "source": [
    "persons[1]['age'] = 50"
   ]
  },
  {
   "cell_type": "code",
   "execution_count": null,
   "metadata": {},
   "outputs": [],
   "source": []
  },
  {
   "cell_type": "code",
   "execution_count": 172,
   "metadata": {},
   "outputs": [
    {
     "data": {
      "text/plain": [
       "{'name': 'Kwsta', 'age': 50, 'department': 'CS'}"
      ]
     },
     "execution_count": 172,
     "metadata": {},
     "output_type": "execute_result"
    }
   ],
   "source": [
    "persons[1]"
   ]
  },
  {
   "cell_type": "code",
   "execution_count": 173,
   "metadata": {},
   "outputs": [
    {
     "data": {
      "text/plain": [
       "{'name': 'Elenh', 'age': 20, 'department': 'biology'}"
      ]
     },
     "execution_count": 173,
     "metadata": {},
     "output_type": "execute_result"
    }
   ],
   "source": [
    "person"
   ]
  },
  {
   "cell_type": "code",
   "execution_count": 174,
   "metadata": {},
   "outputs": [
    {
     "name": "stdout",
     "output_type": "stream",
     "text": [
      "name\n",
      "age\n",
      "department\n"
     ]
    }
   ],
   "source": [
    "for x in person:\n",
    "    print (x)"
   ]
  },
  {
   "cell_type": "code",
   "execution_count": 175,
   "metadata": {},
   "outputs": [
    {
     "name": "stdout",
     "output_type": "stream",
     "text": [
      "Elenh\n",
      "20\n",
      "biology\n"
     ]
    }
   ],
   "source": [
    "for x in person:\n",
    "    #print (x)\n",
    "    print (person[x])"
   ]
  },
  {
   "cell_type": "code",
   "execution_count": 176,
   "metadata": {},
   "outputs": [
    {
     "name": "stdout",
     "output_type": "stream",
     "text": [
      "name --> Elenh\n",
      "age --> 20\n",
      "department --> biology\n"
     ]
    }
   ],
   "source": [
    "for x in person:\n",
    "    #print (x)\n",
    "    #print (person[x])\n",
    "    print (x, '-->', person[x])"
   ]
  },
  {
   "cell_type": "code",
   "execution_count": 177,
   "metadata": {},
   "outputs": [
    {
     "data": {
      "text/plain": [
       "['Elenh', 20, 'biology']"
      ]
     },
     "execution_count": 177,
     "metadata": {},
     "output_type": "execute_result"
    }
   ],
   "source": [
    "list(person.values())"
   ]
  },
  {
   "cell_type": "code",
   "execution_count": 178,
   "metadata": {},
   "outputs": [
    {
     "data": {
      "text/plain": [
       "['name', 'age', 'department']"
      ]
     },
     "execution_count": 178,
     "metadata": {},
     "output_type": "execute_result"
    }
   ],
   "source": [
    "list(person.keys())"
   ]
  },
  {
   "cell_type": "code",
   "execution_count": 182,
   "metadata": {},
   "outputs": [],
   "source": [
    "a = [\n",
    "    ('name','Elenh'),\n",
    "    ('age', 20), \n",
    "    ('department', 'biology'),\n",
    "]\n",
    "\n",
    "#dict(a,b)\n"
   ]
  },
  {
   "cell_type": "code",
   "execution_count": 184,
   "metadata": {},
   "outputs": [
    {
     "data": {
      "text/plain": [
       "[('name', 'Elenh'), ('age', 20), ('department', 'biology')]"
      ]
     },
     "execution_count": 184,
     "metadata": {},
     "output_type": "execute_result"
    }
   ],
   "source": [
    "a"
   ]
  },
  {
   "cell_type": "code",
   "execution_count": 185,
   "metadata": {},
   "outputs": [
    {
     "data": {
      "text/plain": [
       "{'name': 'Elenh', 'age': 20, 'department': 'biology'}"
      ]
     },
     "execution_count": 185,
     "metadata": {},
     "output_type": "execute_result"
    }
   ],
   "source": [
    "dict(a)"
   ]
  },
  {
   "cell_type": "code",
   "execution_count": 186,
   "metadata": {},
   "outputs": [
    {
     "data": {
      "text/plain": [
       "{'name': 'Elenh', 'age': 20, 'department': 'biology'}"
      ]
     },
     "execution_count": 186,
     "metadata": {},
     "output_type": "execute_result"
    }
   ],
   "source": [
    "person"
   ]
  },
  {
   "cell_type": "code",
   "execution_count": 187,
   "metadata": {},
   "outputs": [
    {
     "data": {
      "text/plain": [
       "{'name': 'Elenh', 'age': 20, 'department': 'biology'}"
      ]
     },
     "execution_count": 187,
     "metadata": {},
     "output_type": "execute_result"
    }
   ],
   "source": [
    "dict(zip(person.keys(), person.values())) # ==> person"
   ]
  },
  {
   "cell_type": "code",
   "execution_count": 188,
   "metadata": {},
   "outputs": [],
   "source": [
    "person = {\n",
    "    'name': 'mitsos',\n",
    "    'grades': [1,2,3,4,5]\n",
    "}"
   ]
  },
  {
   "cell_type": "code",
   "execution_count": 190,
   "metadata": {},
   "outputs": [
    {
     "data": {
      "text/plain": [
       "5"
      ]
     },
     "execution_count": 190,
     "metadata": {},
     "output_type": "execute_result"
    }
   ],
   "source": [
    "person['grades'][-1]"
   ]
  },
  {
   "cell_type": "code",
   "execution_count": 191,
   "metadata": {},
   "outputs": [
    {
     "data": {
      "text/plain": [
       "2"
      ]
     },
     "execution_count": 191,
     "metadata": {},
     "output_type": "execute_result"
    }
   ],
   "source": [
    "len(person)"
   ]
  },
  {
   "cell_type": "code",
   "execution_count": 192,
   "metadata": {},
   "outputs": [
    {
     "data": {
      "text/plain": [
       "0"
      ]
     },
     "execution_count": 192,
     "metadata": {},
     "output_type": "execute_result"
    }
   ],
   "source": [
    "len({})"
   ]
  },
  {
   "cell_type": "code",
   "execution_count": 193,
   "metadata": {},
   "outputs": [
    {
     "data": {
      "text/plain": [
       "{'name': 'mitsos', 'grades': [1, 2, 3, 4, 5]}"
      ]
     },
     "execution_count": 193,
     "metadata": {},
     "output_type": "execute_result"
    }
   ],
   "source": [
    "person"
   ]
  },
  {
   "cell_type": "code",
   "execution_count": 194,
   "metadata": {},
   "outputs": [],
   "source": [
    "person = {'name': 'Elenh', 'age': 20, 'department': 'biology'}"
   ]
  },
  {
   "cell_type": "code",
   "execution_count": 195,
   "metadata": {},
   "outputs": [
    {
     "data": {
      "text/plain": [
       "['name', 'age', 'department']"
      ]
     },
     "execution_count": 195,
     "metadata": {},
     "output_type": "execute_result"
    }
   ],
   "source": [
    "list(person.keys())"
   ]
  },
  {
   "cell_type": "code",
   "execution_count": 196,
   "metadata": {},
   "outputs": [
    {
     "data": {
      "text/plain": [
       "['Elenh', 20, 'biology']"
      ]
     },
     "execution_count": 196,
     "metadata": {},
     "output_type": "execute_result"
    }
   ],
   "source": [
    "list(person.values())"
   ]
  },
  {
   "cell_type": "code",
   "execution_count": 197,
   "metadata": {},
   "outputs": [
    {
     "data": {
      "text/plain": [
       "[('name', 'Elenh'), ('age', 20), ('department', 'biology')]"
      ]
     },
     "execution_count": 197,
     "metadata": {},
     "output_type": "execute_result"
    }
   ],
   "source": [
    "list(person.items())"
   ]
  },
  {
   "cell_type": "code",
   "execution_count": 198,
   "metadata": {},
   "outputs": [
    {
     "data": {
      "text/plain": [
       "{'name': 'Elenh', 'age': 20, 'department': 'biology'}"
      ]
     },
     "execution_count": 198,
     "metadata": {},
     "output_type": "execute_result"
    }
   ],
   "source": [
    "dict(person.items()) # --> person"
   ]
  },
  {
   "cell_type": "code",
   "execution_count": 199,
   "metadata": {},
   "outputs": [
    {
     "name": "stdout",
     "output_type": "stream",
     "text": [
      "name --> Elenh\n",
      "age --> 20\n",
      "department --> biology\n"
     ]
    }
   ],
   "source": [
    "for a,b in person.items():\n",
    "    print (a, '-->', b)"
   ]
  },
  {
   "cell_type": "markdown",
   "metadata": {},
   "source": [
    "# Dictionary comprehensions"
   ]
  },
  {
   "cell_type": "code",
   "execution_count": 200,
   "metadata": {},
   "outputs": [
    {
     "data": {
      "text/plain": [
       "[0.0, 0.5, 1.0, 1.5, 2.0, 2.5, 3.0, 3.5, 4.0, 4.5]"
      ]
     },
     "execution_count": 200,
     "metadata": {},
     "output_type": "execute_result"
    }
   ],
   "source": [
    "[x/2 for x in range(10)]"
   ]
  },
  {
   "cell_type": "code",
   "execution_count": 212,
   "metadata": {},
   "outputs": [
    {
     "name": "stdout",
     "output_type": "stream",
     "text": [
      "{0: 0.0, 1: 0.5, 2: 1.0, 3: 1.5, 4: 2.0, 5: 2.5, 6: 3.0, 7: 3.5, 8: 4.0, 9: 4.5}\n"
     ]
    }
   ],
   "source": [
    "a = { x:x/2 for x in range(10) }\n",
    "print (a)"
   ]
  },
  {
   "cell_type": "code",
   "execution_count": 203,
   "metadata": {},
   "outputs": [
    {
     "data": {
      "text/plain": [
       "2.0"
      ]
     },
     "execution_count": 203,
     "metadata": {},
     "output_type": "execute_result"
    }
   ],
   "source": [
    "a[4]"
   ]
  },
  {
   "cell_type": "code",
   "execution_count": 213,
   "metadata": {},
   "outputs": [],
   "source": [
    "a['Misos'] = 23445235"
   ]
  },
  {
   "cell_type": "code",
   "execution_count": 206,
   "metadata": {},
   "outputs": [
    {
     "data": {
      "text/plain": [
       "{0: 0.0,\n",
       " 1: 0.5,\n",
       " 2: 1.0,\n",
       " 3: 1.5,\n",
       " 4: 2.0,\n",
       " 5: 2.5,\n",
       " 6: 3.0,\n",
       " 7: 3.5,\n",
       " 8: 4.0,\n",
       " 9: 4.5,\n",
       " 'Misos': 23445235}"
      ]
     },
     "execution_count": 206,
     "metadata": {},
     "output_type": "execute_result"
    }
   ],
   "source": [
    "a"
   ]
  },
  {
   "cell_type": "code",
   "execution_count": 214,
   "metadata": {},
   "outputs": [],
   "source": [
    "a[(5,'t')] = 'what?'"
   ]
  },
  {
   "cell_type": "code",
   "execution_count": 208,
   "metadata": {},
   "outputs": [
    {
     "data": {
      "text/plain": [
       "{0: 0.0,\n",
       " 1: 0.5,\n",
       " 2: 1.0,\n",
       " 3: 1.5,\n",
       " 4: 2.0,\n",
       " 5: 2.5,\n",
       " 6: 3.0,\n",
       " 7: 3.5,\n",
       " 8: 4.0,\n",
       " 9: 4.5,\n",
       " 'Misos': 23445235,\n",
       " (5, 't'): 'what?'}"
      ]
     },
     "execution_count": 208,
     "metadata": {},
     "output_type": "execute_result"
    }
   ],
   "source": [
    "a"
   ]
  },
  {
   "cell_type": "code",
   "execution_count": 209,
   "metadata": {},
   "outputs": [
    {
     "ename": "TypeError",
     "evalue": "unhashable type: 'list'",
     "output_type": "error",
     "traceback": [
      "\u001b[0;31m---------------------------------------------------------------------------\u001b[0m",
      "\u001b[0;31mTypeError\u001b[0m                                 Traceback (most recent call last)",
      "\u001b[0;32m<ipython-input-209-49bd4e98bb23>\u001b[0m in \u001b[0;36m<module>\u001b[0;34m()\u001b[0m\n\u001b[0;32m----> 1\u001b[0;31m \u001b[0ma\u001b[0m\u001b[0;34m[\u001b[0m\u001b[0;34m[\u001b[0m\u001b[0;36m5\u001b[0m\u001b[0;34m,\u001b[0m\u001b[0;36m4\u001b[0m\u001b[0;34m]\u001b[0m\u001b[0;34m]\u001b[0m \u001b[0;34m=\u001b[0m \u001b[0;36m5\u001b[0m\u001b[0;34m\u001b[0m\u001b[0m\n\u001b[0m",
      "\u001b[0;31mTypeError\u001b[0m: unhashable type: 'list'"
     ]
    }
   ],
   "source": [
    "a[[5,4]] = 5"
   ]
  },
  {
   "cell_type": "code",
   "execution_count": 210,
   "metadata": {},
   "outputs": [
    {
     "ename": "TypeError",
     "evalue": "'str' object does not support item assignment",
     "output_type": "error",
     "traceback": [
      "\u001b[0;31m---------------------------------------------------------------------------\u001b[0m",
      "\u001b[0;31mTypeError\u001b[0m                                 Traceback (most recent call last)",
      "\u001b[0;32m<ipython-input-210-7b736cec99f3>\u001b[0m in \u001b[0;36m<module>\u001b[0;34m()\u001b[0m\n\u001b[1;32m      1\u001b[0m \u001b[0ma\u001b[0m \u001b[0;34m=\u001b[0m \u001b[0;34m'asdfasdfasdf'\u001b[0m\u001b[0;34m\u001b[0m\u001b[0m\n\u001b[0;32m----> 2\u001b[0;31m \u001b[0ma\u001b[0m\u001b[0;34m[\u001b[0m\u001b[0;36m4\u001b[0m\u001b[0;34m]\u001b[0m \u001b[0;34m=\u001b[0m \u001b[0;34m'd'\u001b[0m\u001b[0;34m\u001b[0m\u001b[0m\n\u001b[0m",
      "\u001b[0;31mTypeError\u001b[0m: 'str' object does not support item assignment"
     ]
    }
   ],
   "source": [
    "#a = 'asdfasdfasdf'\n",
    "#a[4] = 'd'"
   ]
  },
  {
   "cell_type": "code",
   "execution_count": 215,
   "metadata": {},
   "outputs": [
    {
     "data": {
      "text/plain": [
       "{0: 0.0,\n",
       " 1: 0.5,\n",
       " 2: 1.0,\n",
       " 3: 1.5,\n",
       " 4: 2.0,\n",
       " 5: 2.5,\n",
       " 6: 3.0,\n",
       " 7: 3.5,\n",
       " 8: 4.0,\n",
       " 9: 4.5,\n",
       " 'Misos': 23445235,\n",
       " (5, 't'): 'what?',\n",
       " 6.5: 8.9}"
      ]
     },
     "execution_count": 215,
     "metadata": {},
     "output_type": "execute_result"
    }
   ],
   "source": [
    "a[6.5] = 8.9\n",
    "a"
   ]
  },
  {
   "cell_type": "code",
   "execution_count": 216,
   "metadata": {},
   "outputs": [],
   "source": [
    "a[True] = 'hello'\n"
   ]
  },
  {
   "cell_type": "code",
   "execution_count": 217,
   "metadata": {},
   "outputs": [
    {
     "data": {
      "text/plain": [
       "{0: 0.0,\n",
       " 1: 'hello',\n",
       " 2: 1.0,\n",
       " 3: 1.5,\n",
       " 4: 2.0,\n",
       " 5: 2.5,\n",
       " 6: 3.0,\n",
       " 7: 3.5,\n",
       " 8: 4.0,\n",
       " 9: 4.5,\n",
       " 'Misos': 23445235,\n",
       " (5, 't'): 'what?',\n",
       " 6.5: 8.9}"
      ]
     },
     "execution_count": 217,
     "metadata": {},
     "output_type": "execute_result"
    }
   ],
   "source": [
    "a"
   ]
  },
  {
   "cell_type": "code",
   "execution_count": 218,
   "metadata": {},
   "outputs": [
    {
     "data": {
      "text/plain": [
       "True"
      ]
     },
     "execution_count": 218,
     "metadata": {},
     "output_type": "execute_result"
    }
   ],
   "source": [
    "True"
   ]
  },
  {
   "cell_type": "code",
   "execution_count": 219,
   "metadata": {},
   "outputs": [
    {
     "data": {
      "text/plain": [
       "1"
      ]
     },
     "execution_count": 219,
     "metadata": {},
     "output_type": "execute_result"
    }
   ],
   "source": [
    "1"
   ]
  },
  {
   "cell_type": "code",
   "execution_count": 220,
   "metadata": {},
   "outputs": [
    {
     "data": {
      "text/plain": [
       "False"
      ]
     },
     "execution_count": 220,
     "metadata": {},
     "output_type": "execute_result"
    }
   ],
   "source": [
    "False"
   ]
  },
  {
   "cell_type": "code",
   "execution_count": 221,
   "metadata": {},
   "outputs": [
    {
     "data": {
      "text/plain": [
       "0"
      ]
     },
     "execution_count": 221,
     "metadata": {},
     "output_type": "execute_result"
    }
   ],
   "source": [
    "0"
   ]
  },
  {
   "cell_type": "code",
   "execution_count": 222,
   "metadata": {},
   "outputs": [
    {
     "data": {
      "text/plain": [
       "2"
      ]
     },
     "execution_count": 222,
     "metadata": {},
     "output_type": "execute_result"
    }
   ],
   "source": [
    "True + True"
   ]
  },
  {
   "cell_type": "code",
   "execution_count": 224,
   "metadata": {},
   "outputs": [
    {
     "name": "stdout",
     "output_type": "stream",
     "text": [
      "0\n"
     ]
    }
   ],
   "source": [
    "#age = 20\n",
    "age = 3\n",
    "b = 5 * (age>10)\n",
    "print (b)"
   ]
  },
  {
   "cell_type": "code",
   "execution_count": 225,
   "metadata": {},
   "outputs": [],
   "source": [
    "def f(x):\n",
    "    return x/2"
   ]
  },
  {
   "cell_type": "code",
   "execution_count": 226,
   "metadata": {},
   "outputs": [
    {
     "data": {
      "text/plain": [
       "{0: 0.0,\n",
       " 1: 'hello',\n",
       " 2: 1.0,\n",
       " 3: 1.5,\n",
       " 4: 2.0,\n",
       " 5: 2.5,\n",
       " 6: 3.0,\n",
       " 7: 3.5,\n",
       " 8: 4.0,\n",
       " 9: 4.5,\n",
       " 'Misos': 23445235,\n",
       " (5, 't'): 'what?',\n",
       " 6.5: 8.9}"
      ]
     },
     "execution_count": 226,
     "metadata": {},
     "output_type": "execute_result"
    }
   ],
   "source": [
    "a"
   ]
  },
  {
   "cell_type": "code",
   "execution_count": 227,
   "metadata": {},
   "outputs": [],
   "source": [
    "a['p'] = f"
   ]
  },
  {
   "cell_type": "code",
   "execution_count": 228,
   "metadata": {},
   "outputs": [
    {
     "data": {
      "text/plain": [
       "{0: 0.0,\n",
       " 1: 'hello',\n",
       " 2: 1.0,\n",
       " 3: 1.5,\n",
       " 4: 2.0,\n",
       " 5: 2.5,\n",
       " 6: 3.0,\n",
       " 7: 3.5,\n",
       " 8: 4.0,\n",
       " 9: 4.5,\n",
       " 'Misos': 23445235,\n",
       " (5, 't'): 'what?',\n",
       " 6.5: 8.9,\n",
       " 'p': <function __main__.f(x)>}"
      ]
     },
     "execution_count": 228,
     "metadata": {},
     "output_type": "execute_result"
    }
   ],
   "source": [
    "a"
   ]
  },
  {
   "cell_type": "code",
   "execution_count": 229,
   "metadata": {},
   "outputs": [
    {
     "data": {
      "text/plain": [
       "5.0"
      ]
     },
     "execution_count": 229,
     "metadata": {},
     "output_type": "execute_result"
    }
   ],
   "source": [
    "a['p'](10)"
   ]
  },
  {
   "cell_type": "markdown",
   "metadata": {},
   "source": [
    "### Άσκηση 2\n",
    "**Η χρήση list comprehension είναι προτεινόμενη**\n",
    "\n",
    "Όλα τα ζευγάρια κ,λ θετικών ακεραίων που είναι μικρότεροι ή ίσοι με το 10 όπου το λ διαιρεί ακριβώς το κ είναι:\n",
    "```\n",
    "(4, 2), (6, 2), (6, 3), (8, 2), (8, 4), (9, 3), (10, 2), (10, 5)\n",
    "```\n",
    "\n",
    "Το άθροισμα των διαφορών αυτώ των ζευγαριών είναι:\n",
    "```\n",
    "(4 - 2) + (6 - 2) + (6 - 3) + (8 - 2) + (8 - 4) + (9 - 3) + (10 - 2) + (10 - 5) = 38\n",
    "```\n",
    "\n",
    "Ποιο είναι το αντίστοιχο άθροισμα διαφορών αν πάρουμε όλα τα ζευγάρια κ,λ που είναι μικρότεροι η ίσοι με το 1000;"
   ]
  },
  {
   "cell_type": "code",
   "execution_count": 236,
   "metadata": {},
   "outputs": [
    {
     "name": "stdout",
     "output_type": "stream",
     "text": [
      "38\n"
     ]
    }
   ],
   "source": [
    "s = 0\n",
    "for x in range(2,11):\n",
    "    for y in range(x+1, 11):\n",
    "        if y%x == 0:\n",
    "            \n",
    "            s += y-x\n",
    "            \n",
    "print (s)"
   ]
  },
  {
   "cell_type": "code",
   "execution_count": 237,
   "metadata": {},
   "outputs": [
    {
     "data": {
      "text/plain": [
       "38"
      ]
     },
     "execution_count": 237,
     "metadata": {},
     "output_type": "execute_result"
    }
   ],
   "source": [
    "sum(y-x for x in range(2,11) for y in range(x+1, 11) if y%x == 0)"
   ]
  },
  {
   "cell_type": "code",
   "execution_count": 238,
   "metadata": {},
   "outputs": [
    {
     "data": {
      "text/plain": [
       "2465073"
      ]
     },
     "execution_count": 238,
     "metadata": {},
     "output_type": "execute_result"
    }
   ],
   "source": [
    "sum(y-x for x in range(2,1001) for y in range(x+1, 1001) if y%x == 0)"
   ]
  },
  {
   "cell_type": "code",
   "execution_count": 239,
   "metadata": {},
   "outputs": [],
   "source": [
    "def f(x):\n",
    "    return (x/2)"
   ]
  },
  {
   "cell_type": "code",
   "execution_count": 240,
   "metadata": {},
   "outputs": [
    {
     "data": {
      "text/plain": [
       "1232536.5"
      ]
     },
     "execution_count": 240,
     "metadata": {},
     "output_type": "execute_result"
    }
   ],
   "source": [
    "f( \n",
    "    sum(y-x for x in range(2,1001) for y in range(x+1, 1001) if y%x == 0)\n",
    ")"
   ]
  },
  {
   "cell_type": "code",
   "execution_count": 241,
   "metadata": {},
   "outputs": [
    {
     "name": "stdout",
     "output_type": "stream",
     "text": [
      "2465073\n"
     ]
    }
   ],
   "source": [
    "a= sum(y-x for x in range(2,1001) for y in range(x+1, 1001) if y%x == 0)\n",
    "print (a)"
   ]
  },
  {
   "cell_type": "code",
   "execution_count": null,
   "metadata": {},
   "outputs": [],
   "source": []
  },
  {
   "cell_type": "code",
   "execution_count": 242,
   "metadata": {},
   "outputs": [],
   "source": [
    "L= [1.3, 1.6, 7.5]\n",
    "\n",
    "\n",
    "\n",
    "f( [int(x) for x in L] )"
   ]
  },
  {
   "cell_type": "code",
   "execution_count": 247,
   "metadata": {},
   "outputs": [],
   "source": [
    "a = [('name', 'kvstas'), ('gender', 'boy'), ('age', 20)]"
   ]
  },
  {
   "cell_type": "code",
   "execution_count": 248,
   "metadata": {},
   "outputs": [
    {
     "data": {
      "text/plain": [
       "{'name': 'kvstas', 'gender': 'boy', 'age': 20}"
      ]
     },
     "execution_count": 248,
     "metadata": {},
     "output_type": "execute_result"
    }
   ],
   "source": [
    "{key:value for key, value in a}"
   ]
  },
  {
   "cell_type": "code",
   "execution_count": null,
   "metadata": {},
   "outputs": [],
   "source": []
  },
  {
   "cell_type": "code",
   "execution_count": null,
   "metadata": {},
   "outputs": [],
   "source": []
  },
  {
   "cell_type": "code",
   "execution_count": null,
   "metadata": {},
   "outputs": [],
   "source": []
  },
  {
   "cell_type": "code",
   "execution_count": 230,
   "metadata": {},
   "outputs": [
    {
     "data": {
      "text/plain": [
       "'Antwnia'"
      ]
     },
     "execution_count": 230,
     "metadata": {},
     "output_type": "execute_result"
    }
   ],
   "source": [
    "rs()"
   ]
  },
  {
   "cell_type": "code",
   "execution_count": null,
   "metadata": {},
   "outputs": [],
   "source": []
  },
  {
   "cell_type": "code",
   "execution_count": null,
   "metadata": {},
   "outputs": [],
   "source": []
  },
  {
   "cell_type": "code",
   "execution_count": 156,
   "metadata": {},
   "outputs": [
    {
     "data": {
      "text/plain": [
       "'Aggelos'"
      ]
     },
     "execution_count": 156,
     "metadata": {},
     "output_type": "execute_result"
    }
   ],
   "source": [
    "rs()"
   ]
  },
  {
   "cell_type": "code",
   "execution_count": null,
   "metadata": {},
   "outputs": [],
   "source": []
  }
 ],
 "metadata": {
  "kernelspec": {
   "display_name": "Python 3",
   "language": "python",
   "name": "python3"
  },
  "language_info": {
   "codemirror_mode": {
    "name": "ipython",
    "version": 3
   },
   "file_extension": ".py",
   "mimetype": "text/x-python",
   "name": "python",
   "nbconvert_exporter": "python",
   "pygments_lexer": "ipython3",
   "version": "3.7.0"
  }
 },
 "nbformat": 4,
 "nbformat_minor": 2
}
