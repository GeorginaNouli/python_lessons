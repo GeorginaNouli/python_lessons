{
 "cells": [
  {
   "cell_type": "markdown",
   "metadata": {},
   "source": [
    "## Άσκηση 1\n",
    "Μπορείτε να χρησιμοποιήσετε τη matplotlib για να ζωγραφίσετε!"
   ]
  },
  {
   "cell_type": "code",
   "execution_count": 1,
   "metadata": {},
   "outputs": [],
   "source": [
    "import matplotlib.pyplot as plt\n",
    "from matplotlib.patches import Circle, Rectangle \n"
   ]
  },
  {
   "cell_type": "code",
   "execution_count": 20,
   "metadata": {},
   "outputs": [
    {
     "data": {
      "image/png": "[encoded data removed]",
      "text/plain": [
       "<Figure size 432x288 with 1 Axes>"
      ]
     },
     "metadata": {
      "needs_background": "light"
     },
     "output_type": "display_data"
    }
   ],
   "source": [
    "fig, ax = plt.subplots()\n",
    "#ax.plot([1], [3], '.', color='black')\n",
    "r = Rectangle((10, 20), 30, 40, color = 'black') # Παραλληλόγραμμο. Κάτω αριστερή θέση: 10,20, μήκος: 30, ύψος: 40\n",
    "ax.add_patch(r)\n",
    "\n",
    "# Κύκλος. Κέντρο: 80,60   Ακτίνα: 20. \n",
    "# ΠΡΟΣΟΧΗ: ΤΟ χρώμα εδώ είναι RGB = 217,47,39\n",
    "r = Circle((80, 60), 20, color = (217/255, 47/255, 39/255))         \n",
    "ax.add_patch(r)\n",
    "\n",
    "ax.set_xlim(0,100)\n",
    "ax.set_ylim(0,100)\n",
    "\n",
    "plt.show()"
   ]
  },
  {
   "cell_type": "markdown",
   "metadata": {},
   "source": [
    "Τα χρωμοσώματα σε έναν οργανισμό, διαιρούντε σε μικρότερες περιοχές που ονομάζονται [bands](https://www.ncbi.nlm.nih.gov/Class/MLACourse/Original8Hour/Genetics/chrombanding.html).\n",
    "\n",
    "Ένα παράδειγμα αυτής της διάιρεσης φαίνεται στη παρακάτω εικόνα (source: https://en.wikipedia.org/wiki/Locus_(genetics) ):\n",
    "![img](https://upload.wikimedia.org/wikipedia/commons/1/11/Neurofibromatosis2-locus.svg)\n",
    "\n",
    "\n",
    "Σε αυτό το link: https://pastebin.com/raw/6nBX6sdE υπάρχουν οι μπάντες για όλα τα χρωμοσώματα. Για παράδειγμα:\n",
    "```\n",
    "#chrom\tchromStart\tchromEnd\tname\tgieStain\n",
    "chr1\t0\t2300000\tp36.33\tgneg\n",
    "chr1\t2300000\t5400000\tp36.32\tgpos25\n",
    "chr1\t5400000\t7200000\tp36.31\tgneg\n",
    "chr1\t7200000\t9200000\tp36.23\tgpos25\n",
    "chr1\t9200000\t12700000\tp36.22\tgneg\n",
    "```\n",
    "\n",
    "Δηλαδή στο χρωμόσωμα 1, η πρώτη μπάντα είναι από τη θέση 0 μέχρι τη θέση 2300000 , έχει όνομα p36.33 (το αγνοούμε αυτό) και [Giemsa Stain](https://en.wikipedia.org/wiki/Giemsa_stain) gneg. Το Giemsa stain είναι στην ουσία ένα χρώμα που παίρνει αυτή η περιοχή αν ακολουθήσυμε μία βιοχημική διαδικασία χρωματισμού. \n",
    "\n",
    "Παρακάτω δίνεται ο RGB κωδικός των χρωμάτων που χρησιμοποιούνται συνήθως για τα διαφορετικά gieStains ([source](http://circos.ca/tutorials/lessons/2d_tracks/connectors/configuration)):\n",
    "\n",
    "```\n",
    "gpos100 = 0,0,0\n",
    "gpos    = 0,0,0\n",
    "gpos75  = 130,130,130\n",
    "gpos66  = 160,160,160\n",
    "gpos50  = 200,200,200\n",
    "gpos33  = 210,210,210\n",
    "gpos25  = 200,200,200\n",
    "gvar    = 220,220,220\n",
    "gneg    = 255,255,255\n",
    "acen    = 217,47,39\n",
    "stalk   = 100,127,164\n",
    "```\n",
    "\n",
    "Σκοπός της άσκησης είναι να φτιάξετε ένα plot το οποίο να δείχνει τα διαφορετικά bands ενός χρωμοσώματος. Για να βρείτε για πιο χρωμόσωμα θα πρέπει να το υλοποιήσετε απλά βάλτε τον Αριθμός Μητρώου σας στη παρακάτω συνάρτηση:"
   ]
  },
  {
   "cell_type": "code",
   "execution_count": 21,
   "metadata": {},
   "outputs": [],
   "source": [
    "def which_chromosome(AM):\n",
    "    return (AM%22) + 1"
   ]
  },
  {
   "cell_type": "markdown",
   "metadata": {},
   "source": [
    "Για παράδειγμα αν ο αριθμός μητρώου σας είναι το 12345. Τότε θα πρέπει να κάνετε πλοτ τα bands του χρωμοσώματος 4:"
   ]
  },
  {
   "cell_type": "code",
   "execution_count": 22,
   "metadata": {},
   "outputs": [
    {
     "data": {
      "text/plain": [
       "4"
      ]
     },
     "execution_count": 22,
     "metadata": {},
     "output_type": "execute_result"
    }
   ],
   "source": [
    "which_chromosome(12345)"
   ]
  },
  {
   "cell_type": "markdown",
   "metadata": {},
   "source": [
    "Δίνεται το αποτέλεσμα της δικής μου υλοποίησης για τα χρωμοσώματα από 1 μέχρι 12:"
   ]
  },
  {
   "cell_type": "markdown",
   "metadata": {},
   "source": [
    "![img](https://i.imgur.com/RUTRVKX.png)\n",
    "\n",
    "Κάνετε google και \"cytobands\" (image search) για περισσότερα αποτελέσματα"
   ]
  },
  {
   "cell_type": "markdown",
   "metadata": {},
   "source": [
    "Προσοχή!\n",
    "* Στη δική σας υλοποίηση θα κάνετε ένα plot για μόνο ένα χρωμόσωμα.\n",
    "* Δεν χρειάζεται να κάνετε τις \"στρογγυλοποιήσεις\" στις άκρες όπως έχω κάνει εγώ\n",
    "* Λογικά θα χρειαστείτε μόνο το \"Rectangle\" από τη matplotlib"
   ]
  },
  {
   "cell_type": "markdown",
   "metadata": {},
   "source": [
    "### Άσκηση 2\n",
    "Χρησιμοποιώντας το [Rest API της ENSEMBL](https://rest.ensembl.org/), φτιάξτε μια συνάρτηση η οποία θα παίρνει ένα χρωμόσωμα μία αρχή και ένα τέλος και θα επιστρέφει την ακολουθία του ανθρώπινου γνοδιώματος για αυτή τη περιοχή. \n",
    "\n",
    "Hint: https://rest.ensembl.org/documentation/info/sequence_region"
   ]
  },
  {
   "cell_type": "markdown",
   "metadata": {},
   "source": [
    "### Άσκηση 3\n",
    "Χρησιμοποιώντας το REST API του [myvariant.info](http://docs.myvariant.info/en/latest/), φτιάξτε μία συνάρτηση η οποία θα παιρνει ένα χρωμόσωμα μία αρχή και ένα τέλος και θα επιστρέφει μία λίστα με γνωστές μεταλλάξεις που ανήκουν σε αυτή τη περιοχή. Κάθε μετάλλαξη θα πρέπει να έχει τον κωδικό ```rs<Number>```.\n",
    "\n",
    "Προσοχή το myvariant.info δεν επιστρέφει όλες τις μεταλλάξεις γιατί ειδικά σε μεγάλες περιοχές αυτή η λίστα μπορεί να έχει τεράστιο μέγεθος. Αντίθετα έχει δύο διαφορετικούς μηχανισμούς ώστε να μπορεί να πάρει κάποιος όλα τα αποτελέσματα.\n",
    "\n",
    "Ο πρώτος μηχανισμός περιγράφεται εδώ:\n",
    "http://docs.myvariant.info/en/latest/doc/variant_query_service.html#faceted-queries\n",
    "\n",
    "Και ο δεύτερος περιγράφεται εδώ:\n",
    "http://docs.myvariant.info/en/latest/doc/variant_query_service.html#scrolling-queries \n",
    "\n",
    "Εσείς θα πρέπει να υλοποιήσετε και τους 2."
   ]
  },
  {
   "cell_type": "markdown",
   "metadata": {},
   "source": [
    "### Άσκηση 4\n",
    "Χρησιμοπιώντας το REST API του myvariant.info, φτιάξτε μία συνάρτηση η οποία θα παίρνει μία μετάλλαξη με τη μορφή ```rs<number>``` και θα επιστρέφει την ασθένεια με την οποία σχετίζεται. \n",
    "\n",
    "Για παράδειγμα για το rs374032054 [θα πρέπει να βγάλει](http://myvariant.info/v1/query?q=rs374032054): ```[\"Congenital disorder of glycosylation type Ir (CDG1R)\"]```. Το αποτέλεσμα θα είναι μία λίστα με όλες τις πιθανές ασθένειες (μπορεί να είναι πάνω από μία). Η λίστα μπορεί να είναι και άδεια.\n"
   ]
  },
  {
   "cell_type": "markdown",
   "metadata": {},
   "source": [
    "### Άσκηση 5\n",
    "Έστω ότι έχουμε μία ακολουθία DNA. Δίνεται ο παρακάτω κώδικας για τη μετατροπή της ακολουθίας σε φορμάτ fasta"
   ]
  },
  {
   "cell_type": "code",
   "execution_count": 59,
   "metadata": {},
   "outputs": [],
   "source": [
    "from Bio import SeqIO\n",
    "from Bio.Seq import Seq\n",
    "from Bio.SeqRecord import SeqRecord\n",
    "\n",
    "def convert_sequence_to_fast(sequence, fasta_filename, id, description):\n",
    "    sequence = Seq(sequence)\n",
    "    # http://biopython.org/DIST/docs/tutorial/Tutorial.html#htoc16\n",
    "    sequence_record = SeqRecord(sequence, id=id, description=description)\n",
    "\n",
    "    with open(fasta_filename, \"w\") as output_handle:\n",
    "        SeqIO.write(sequence_record, output_handle, \"fasta\")\n",
    "\n"
   ]
  },
  {
   "cell_type": "code",
   "execution_count": 28,
   "metadata": {},
   "outputs": [],
   "source": [
    "convert_sequence_to_fast('AGAAGACGATGCTGTAGATGAAGAGCCCCA', 'example.fasta', 'mitsos', 'my precious sequence')"
   ]
  },
  {
   "cell_type": "code",
   "execution_count": 57,
   "metadata": {},
   "outputs": [
    {
     "name": "stdout",
     "output_type": "stream",
     "text": [
      ">mitsos my precious sequence\r\n",
      "AGAAGACGATGCTGTAGATGAAGAGCCCCA\r\n"
     ]
    }
   ],
   "source": [
    "!cat example.fasta"
   ]
  },
  {
   "cell_type": "markdown",
   "metadata": {},
   "source": [
    "Δίνεται επίσης ο παρακάτω κώδικας ο οποίος διαβάζει μία ακολουθία από ένα αρχείο fasta και τη κάνει [BLAT](https://en.wikipedia.org/wiki/BLAT_(bioinformatics) ) στο ανθρώπινο γονιδιώμα χρησιμοποιώντας την [αντίστοιχη υπηρεσία του NCBI](https://blast.ncbi.nlm.nih.gov/Blast.cgi)"
   ]
  },
  {
   "cell_type": "code",
   "execution_count": 60,
   "metadata": {},
   "outputs": [],
   "source": [
    "# Running BLAST over the Internet\n",
    "# http://biopython.org/DIST/docs/tutorial/Tutorial.html#htoc16\n",
    "\n",
    "from Bio.Blast import NCBIWWW\n",
    "\n",
    "def blat_fasta(fasta_filename, output_filename):\n",
    "    fasta_string = open(fasta_filename).read()\n",
    "    #result_handle = NCBIWWW.qblast(\"blastn\", \"nt\", fasta_string)\n",
    "    #result_handle = NCBIWWW.qblast(\"blastn\", \"Human G+T\", fasta_string)\n",
    "    print ('fasta string:')\n",
    "    print (fasta_string)\n",
    "    result_handle = NCBIWWW.qblast(\n",
    "        \"blastn\", \n",
    "        #\"Human G+T\",\n",
    "        #\"GPIPE/9606/current/ref_top_level\", # GRCH38\n",
    "        \"GPIPE/9606/105/ref_top_level\", #GRCH37\n",
    "        fasta_string, \n",
    "        short_query=True,\n",
    "        expect=1000,\n",
    "        nucl_reward=1,\n",
    "        nucl_penalty=-3,\n",
    "        filter='F',\n",
    "    )\n",
    "    \n",
    "    # Gia th diafora meta3u 'nt' kai 'Human G+T' deite edw:\n",
    "    # https://ftp.ncbi.nlm.nih.gov/pub/factsheets/HowTo_BLASTGuide.pdf \n",
    "    # Source code of qblast: https://biopython.org/DIST/docs/api/Bio.Blast.Applications-pysrc.html\n",
    "    with open(output_filename, \"w\") as out_handle:\n",
    "        out_handle.write(result_handle.read())\n",
    "\n",
    "    "
   ]
  },
  {
   "cell_type": "code",
   "execution_count": 64,
   "metadata": {},
   "outputs": [
    {
     "name": "stdout",
     "output_type": "stream",
     "text": [
      "fasta string:\n",
      ">mitsos my precious sequence\n",
      "AGAAGACGATGCTGTAGATGAAGAGCCCCA\n",
      "\n"
     ]
    }
   ],
   "source": [
    "blat_fasta('example.fasta', 'example_blat_results.xml')"
   ]
  },
  {
   "cell_type": "markdown",
   "metadata": {},
   "source": [
    "Επίσης δίνεται και ο παρακάτω **ενδεικτικός** κώδικας ο οποίος διαβάζει και \"παρσάρει\" τα αποτελέσματα του BLAT alignment:"
   ]
  },
  {
   "cell_type": "code",
   "execution_count": 96,
   "metadata": {},
   "outputs": [],
   "source": [
    "# http://biopython.org/DIST/docs/tutorial/Tutorial.html#htoc16\n",
    "# 7.3  Parsing BLAST output\n",
    "from Bio.Blast import NCBIWWW\n",
    "from Bio.Blast import NCBIXML\n",
    "\n",
    "def parse_BLAT_output(blat_filename):\n",
    "    result_handle = open(blat_filename)\n",
    "    blast_records = NCBIXML.parse(result_handle)\n",
    "    \n",
    "    E_VALUE_THRESH = 0.04\n",
    "    for blast_record in blast_records:\n",
    "        for alignment in blast_record.alignments:\n",
    "            for hsp in alignment.hsps:\n",
    "                if hsp.expect < E_VALUE_THRESH:\n",
    "                    print(\"****Alignment****\")\n",
    "                    print ('Query start:', hsp.query_start)\n",
    "                    print ('Query end:', hsp.query_end)\n",
    "                    print ('Subject start:', hsp.sbjct_start)\n",
    "                    print ('Subject end:', hsp.sbjct_end)\n",
    "                    print(\"sequence:\", alignment.title)\n",
    "                    print(\"length:\", alignment.length)\n",
    "                    print(\"e value:\", hsp.expect)\n",
    "                    print(hsp.query)\n",
    "                    print(hsp.match)\n",
    "                    print(hsp.sbjct)\n",
    "                    #print (dir(hsp))\n",
    "                    return alignment, hsp\n",
    "        "
   ]
  },
  {
   "cell_type": "code",
   "execution_count": 65,
   "metadata": {},
   "outputs": [
    {
     "name": "stdout",
     "output_type": "stream",
     "text": [
      "****Alignment****\n",
      "Query start: 1\n",
      "Query end: 30\n",
      "Subject start: 20978904\n",
      "Subject end: 20978933\n",
      "sequence: gi|224589800|ref|NC_000001.10| Homo sapiens chromosome 1, GRCh37.p13 Primary Assembly\n",
      "length: 249250621\n",
      "e value: 8.41803e-06\n",
      "AGAAGACGATGCTGTAGATGAAGAGCCCCA\n",
      "|||||||||||||| |||||||||||||||\n",
      "AGAAGACGATGCTGAAGATGAAGAGCCCCA\n"
     ]
    },
    {
     "data": {
      "text/plain": [
       "(<Bio.Blast.Record.Alignment at 0x106817810>,\n",
       " <Bio.Blast.Record.HSP at 0x103fe5090>)"
      ]
     },
     "execution_count": 65,
     "metadata": {},
     "output_type": "execute_result"
    }
   ],
   "source": [
    "parse_BLAT_output('example_blat_results.xml')"
   ]
  },
  {
   "cell_type": "markdown",
   "metadata": {},
   "source": [
    "Προσέχτε ότι:\n",
    "* Tο hsp.sbjct_start περιέχει τη θέση τη θέση της ακολουθίας όπου έγινε το allignment\n",
    "* Από τα hsp.query, hsp.match, hsp.sbjct μπορούμε να δούμε που έγινε misalignment\n",
    "* Το blast_records είναι τόσα όσα οι ακολουθίες του fasta αρχείου (στη περίπτωσή μας 1)\n",
    "* Το blast_record.alignments περιέχει όλα τα alignments που βρέθηκαν για τη κάθε ακολουθία. Μία ακολουθία μπορεί να έχει γίνει align σε παραπάνω από μία περιοχή του γονιδιώματος\n",
    "* Το alignment.hsps περιέχει όλες τις διαφορετικές ακολουθίες του κάθε algignment.\n",
    "* Το hsp.expect είναι ένα metric του πόσο καλά πήγε το alignment, όσο μικρότερο τόσο το καλύτερο..\n",
    "\n",
    "Χρησιμοποιώντας τα παραπάνω φτιάξτε μία συνάρτηση η οποία θα πάρει ένα DNA sequence και θα επιστρέφει τη θέση στο ανθρώπινο γονιδίωμα με τις οποίες διαφέρει. \n",
    "\n",
    "Για να γίνει αυτό θα πρέπει να βρείτε ένα κατάλληλο alignment. Το aligment αυτό θα πρέπει να έχει μικρό hsp.expect και επίσης να έχει στη περιγραφή του το \"Primary Assembly\".\n",
    "\n",
    "Πάρτε μόνο το πρώτο blast_record.alignments και από αυτό, πάρτε μόνο το πρώτο alignment.hsps. \n",
    "\n",
    "Για να τα υλοποιήσετε θα πρέπει ίσως να χρειαστεί να αλλάξετε τη συνάρτηση parse_BLAT_output. Επίσης η δυνάρτησή σας θα πρέπει να επιτρέφει μία μόνο μετάλλαξη (αν βρει πολλές απλά πάρτε τη πρώτη)."
   ]
  },
  {
   "cell_type": "markdown",
   "metadata": {},
   "source": [
    "Για παράδειγμα για το sequence 'AGAAGACGATGCTGTAGATGAAGAGCCCCA'. Είδαμε ότι η αρχή το (Α) έγινε allign στη θέση 20652411. Επίσης βλέπουμε ότι στη θέση 15 της ακολουθίας υπάρχει ένα misalignment:\n"
   ]
  },
  {
   "cell_type": "code",
   "execution_count": 66,
   "metadata": {},
   "outputs": [
    {
     "name": "stdout",
     "output_type": "stream",
     "text": [
      "****Alignment****\n",
      "Query start: 1\n",
      "Query end: 30\n",
      "Subject start: 20978904\n",
      "Subject end: 20978933\n",
      "sequence: gi|224589800|ref|NC_000001.10| Homo sapiens chromosome 1, GRCh37.p13 Primary Assembly\n",
      "length: 249250621\n",
      "e value: 8.41803e-06\n",
      "AGAAGACGATGCTGTAGATGAAGAGCCCCA\n",
      "|||||||||||||| |||||||||||||||\n",
      "AGAAGACGATGCTGAAGATGAAGAGCCCCA\n"
     ]
    }
   ],
   "source": [
    "alignment, hsp = parse_BLAT_output('example_blat_results.xml')"
   ]
  },
  {
   "cell_type": "code",
   "execution_count": 67,
   "metadata": {},
   "outputs": [
    {
     "name": "stdout",
     "output_type": "stream",
     "text": [
      "AGAAGACGATGCTGTAGATGAAGAGCCCCA\n",
      "|||||||||||||| |||||||||||||||\n",
      "AGAAGACGATGCTGAAGATGAAGAGCCCCA\n"
     ]
    }
   ],
   "source": [
    "print (hsp.query)\n",
    "print (hsp.match)\n",
    "print (hsp.sbjct)"
   ]
  },
  {
   "cell_type": "code",
   "execution_count": 68,
   "metadata": {},
   "outputs": [
    {
     "name": "stdout",
     "output_type": "stream",
     "text": [
      "T\n",
      " \n",
      "A\n"
     ]
    }
   ],
   "source": [
    "print (hsp.query[14])\n",
    "print (hsp.match[14])\n",
    "print (hsp.sbjct[14])"
   ]
  },
  {
   "cell_type": "markdown",
   "metadata": {},
   "source": [
    "H θέση αυτή του misalignment είναι η:"
   ]
  },
  {
   "cell_type": "code",
   "execution_count": 69,
   "metadata": {},
   "outputs": [
    {
     "data": {
      "text/plain": [
       "20978918"
      ]
     },
     "execution_count": 69,
     "metadata": {},
     "output_type": "execute_result"
    }
   ],
   "source": [
    "position = hsp.sbjct_start + 14\n",
    "position"
   ]
  },
  {
   "cell_type": "markdown",
   "metadata": {},
   "source": [
    "Και σύμφωνα με το ID της ακολουθίας:"
   ]
  },
  {
   "cell_type": "code",
   "execution_count": 70,
   "metadata": {},
   "outputs": [
    {
     "data": {
      "text/plain": [
       "'gi|224589800|ref|NC_000001.10| Homo sapiens chromosome 1, GRCh37.p13 Primary Assembly'"
      ]
     },
     "execution_count": 70,
     "metadata": {},
     "output_type": "execute_result"
    }
   ],
   "source": [
    "alignment.title"
   ]
  },
  {
   "cell_type": "markdown",
   "metadata": {},
   "source": [
    "Το χρωμόσωμα είναι το 1 και η έκδοση του γονιδιώματος είναι η 37. Επίσης είδαμε ότι το reference είναι το A και το alternative το T (που έχει η ακολουθία μας)"
   ]
  },
  {
   "cell_type": "markdown",
   "metadata": {},
   "source": [
    "Άρα θα πρέπει να φτιάξετε μία συνάρτηση η οποία παίρνει ένα sequence και θα πρέπει να επιστρέφει τη μετάλλαξη που περιέχει αυτό το sequence αν το συγκρίνουμε με το γονδίωμα αναφοράς. Για παράδειγμα αν f είναι αυτή η συνάρτηση τότε θα πρέπει:\n",
    "\n",
    "```python\n",
    "f('AGAAGACGATGCTGTAGATGAAGAGCCCCA')\n",
    "```\n",
    "\n",
    "Αυτό θα πρέπει να επιστρέφει:\n",
    "```\n",
    "{\n",
    "    'position': 20978918,\n",
    "    'reference: 'A',\n",
    "    'alternative': 'T',\n",
    "    'assembly': 'GRCh37',\n",
    "}\n",
    "```\n",
    "\n",
    "Αν δεν βρει μετάλλαξη τότε θα επιστρέφει None."
   ]
  },
  {
   "cell_type": "markdown",
   "metadata": {},
   "source": [
    "## Άσκηση 6\n",
    "(συνέχεια από την άσκηση 5)\n",
    "\n",
    "Άραγε αυτή η μετάλλαξη που βρήκαμε στην άσκηση 5, είναι γνωστή, και αν είναι σχετίζεται με κάποια ασθένεια; Ας ψάξουμε αν το myvariant.info έχει πληροφορία από τη clinvar:"
   ]
  },
  {
   "cell_type": "code",
   "execution_count": 80,
   "metadata": {},
   "outputs": [],
   "source": [
    "import requests\n",
    "\n",
    "r = requests.get(\"http://myvariant.info/v1/variant/chr1:g.20978918A>T\", headers={ \"Content-Type\" : \"application/json\"})"
   ]
  },
  {
   "cell_type": "code",
   "execution_count": 88,
   "metadata": {},
   "outputs": [
    {
     "data": {
      "text/plain": [
       "True"
      ]
     },
     "execution_count": 88,
     "metadata": {},
     "output_type": "execute_result"
    }
   ],
   "source": [
    "data = r.json()\n",
    "'clinvar' in data"
   ]
  },
  {
   "cell_type": "markdown",
   "metadata": {},
   "source": [
    "Παρατηρούμε ότι όντως έχει πληροφορία!"
   ]
  },
  {
   "cell_type": "code",
   "execution_count": 90,
   "metadata": {},
   "outputs": [
    {
     "data": {
      "text/plain": [
       "{'_license': 'http://bit.ly/2SQdcI0',\n",
       " 'allele_id': 576081,\n",
       " 'alt': 'T',\n",
       " 'chrom': '1',\n",
       " 'cytogenic': '1p36.12',\n",
       " 'gene': {'id': '1650', 'symbol': 'DDOST'},\n",
       " 'hg19': {'end': 20978918, 'start': 20978918},\n",
       " 'hg38': {'end': 20652425, 'start': 20652425},\n",
       " 'hgvs': {'coding': 'NM_005216.4:c.1325T>A',\n",
       "  'genomic': ['NC_000001.10:g.20978918A>T',\n",
       "   'NC_000001.11:g.20652425A>T',\n",
       "   'NG_008164.1:g.23971A>T',\n",
       "   'NG_032064.1:g.14120T>A']},\n",
       " 'rcv': {'accession': 'RCV000709770',\n",
       "  'clinical_significance': 'not provided',\n",
       "  'conditions': {'identifiers': {'medgen': 'C3281084',\n",
       "    'omim': '614507',\n",
       "    'orphanet': '300536'},\n",
       "   'name': 'Congenital disorder of glycosylation type Ir (CDG1R)'},\n",
       "  'number_submitters': 1,\n",
       "  'origin': 'unknown',\n",
       "  'preferred_name': 'NM_005216.4(DDOST):c.1325T>A (p.Phe442Tyr)',\n",
       "  'review_status': 'no assertion provided'},\n",
       " 'ref': 'A',\n",
       " 'type': 'single nucleotide variant',\n",
       " 'variant_id': 585026}"
      ]
     },
     "execution_count": 90,
     "metadata": {},
     "output_type": "execute_result"
    }
   ],
   "source": [
    "data['clinvar']"
   ]
  },
  {
   "cell_type": "markdown",
   "metadata": {},
   "source": [
    "Με ποιες παθήσεις έχει συνδεθεί αυτή η μετάλλαξη;"
   ]
  },
  {
   "cell_type": "code",
   "execution_count": 95,
   "metadata": {},
   "outputs": [
    {
     "data": {
      "text/plain": [
       "'Congenital disorder of glycosylation type Ir (CDG1R)'"
      ]
     },
     "execution_count": 95,
     "metadata": {},
     "output_type": "execute_result"
    }
   ],
   "source": [
    "data['clinvar']['rcv']['conditions']['name']"
   ]
  },
  {
   "cell_type": "markdown",
   "metadata": {},
   "source": [
    "Άρα βρήκαμε ότι αν ένας άνθρωπος έχει το sequence: ```AGAAGACGATGCTGTAGATGAAGAGCCCCA```, τότε μπορεί να έχει το condition: ```'Congenital disorder of glycosylation type Ir (CDG1R)'```\n",
    "\n",
    "Εσείς θα πρέπει να φτιάξετε μία συνάρτηση η οποία θα παίρνει ως είσοδο ένα DNA sequence. Στη συνέχεια θα χρησιμοποιεί τη συνάρτηση της άσκησης 5 για να βρει (αν υπάρχει) τη μετάλλαξη που περιέχει το sequence. Στη συνέχεια θα ψάχνει τη myvariant.info για να βρει (αν υπάρχει) τις ασθένειες με τις οποίες έχει συνδεθεί, σύμφωνα με τη clinvar. Αν f είναι αυτή η συνάρτηση, τότε Θα πρέπει να μπορώ να γράφω:\n",
    "\n",
    "```python\n",
    "f('AGAAGACGATGCTGTAGATGAAGAGCCCCA')\n",
    "```\n",
    "\n",
    "Αυτό θα πρέπει να επιστρέφει\n",
    "```\n",
    "['Congenital disorder of glycosylation type Ir (CDG1R)']\n",
    "```\n",
    "\n",
    "Παρατηρήστε ότι επιτρέφει λίστα. Δηλαδή μπορεί να υπάρχουν περισσότερες από μία ασθένειες. Εννοείται ότι μπορείτε να χρησιμοποιήσετε τη συνάρτηση της άσκησης 4."
   ]
  },
  {
   "cell_type": "code",
   "execution_count": null,
   "metadata": {},
   "outputs": [],
   "source": []
  }
 ],
 "metadata": {
  "kernelspec": {
   "display_name": "Python 3",
   "language": "python",
   "name": "python3"
  },
  "language_info": {
   "codemirror_mode": {
    "name": "ipython",
    "version": 3
   },
   "file_extension": ".py",
   "mimetype": "text/x-python",
   "name": "python",
   "nbconvert_exporter": "python",
   "pygments_lexer": "ipython3",
   "version": "3.7.4"
  }
 },
 "nbformat": 4,
 "nbformat_minor": 2
}
