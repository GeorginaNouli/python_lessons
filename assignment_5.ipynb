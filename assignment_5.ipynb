{
 "cells": [
  {
   "cell_type": "markdown",
   "metadata": {},
   "source": [
    "## Άσκηση 1\n",
    "Μπορείτε να χρησιμοποιήσετε τη matplotlib για να ζωγραφίσετε!"
   ]
  },
  {
   "cell_type": "code",
   "execution_count": 1,
   "metadata": {},
   "outputs": [],
   "source": [
    "import matplotlib.pyplot as plt\n",
    "from matplotlib.patches import Circle, Rectangle \n"
   ]
  },
  {
   "cell_type": "code",
   "execution_count": 20,
   "metadata": {},
   "outputs": [
    {
     "data": {
      "image/png": "[encoded data removed]",
      "text/plain": [
       "<Figure size 432x288 with 1 Axes>"
      ]
     },
     "metadata": {
      "needs_background": "light"
     },
     "output_type": "display_data"
    }
   ],
   "source": [
    "fig, ax = plt.subplots()\n",
    "#ax.plot([1], [3], '.', color='black')\n",
    "r = Rectangle((10, 20), 30, 40, color = 'black') # Παραλληλόγραμμο. Κάτω αριστερή θέση: 10,20, μήκος: 30, ύψος: 40\n",
    "ax.add_patch(r)\n",
    "\n",
    "# Κύκλος. Κέντρο: 80,60   Ακτίνα: 20. \n",
    "# ΠΡΟΣΟΧΗ: ΤΟ χρώμα εδώ είναι RGB = 217,47,39\n",
    "r = Circle((80, 60), 20, color = (217/255, 47/255, 39/255))         \n",
    "ax.add_patch(r)\n",
    "\n",
    "ax.set_xlim(0,100)\n",
    "ax.set_ylim(0,100)\n",
    "\n",
    "plt.show()"
   ]
  },
  {
   "cell_type": "markdown",
   "metadata": {},
   "source": [
    "Τα χρωμοσώματα σε έναν οργανισμό, διαιρούντε σε μικρότερες περιοχές που ονομάζονται [bands](https://www.ncbi.nlm.nih.gov/Class/MLACourse/Original8Hour/Genetics/chrombanding.html).\n",
    "\n",
    "Ένα παράδειγμα αυτής της διάιρεσης φαίνεται στη παρακάτω εικόνα (source: https://en.wikipedia.org/wiki/Locus_(genetics) ):\n",
    "![img](https://upload.wikimedia.org/wikipedia/commons/1/11/Neurofibromatosis2-locus.svg)\n",
    "\n",
    "\n",
    "Σε αυτό το link: https://pastebin.com/raw/6nBX6sdE υπάρχουν οι μπάντες για όλα τα χρωμοσώματα. Για παράδειγμα:\n",
    "```\n",
    "#chrom\tchromStart\tchromEnd\tname\tgieStain\n",
    "chr1\t0\t2300000\tp36.33\tgneg\n",
    "chr1\t2300000\t5400000\tp36.32\tgpos25\n",
    "chr1\t5400000\t7200000\tp36.31\tgneg\n",
    "chr1\t7200000\t9200000\tp36.23\tgpos25\n",
    "chr1\t9200000\t12700000\tp36.22\tgneg\n",
    "```\n",
    "\n",
    "Δηλαδή στο χρωμόσωμα 1, η πρώτη μπάντα είναι από τη θέση 0 μέχρι τη θέση 2300000 , έχει όνομα p36.33 (το αγνοούμε αυτό) και [Giemsa Stain](https://en.wikipedia.org/wiki/Giemsa_stain) gneg. Το Giemsa stain είναι στην ουσία ένα χρώμα που παίρνει αυτή η περιοχή αν ακολουθήσυμε μία βιοχημική διαδικασία χρωματισμού. \n",
    "\n",
    "Παρακάτω δίνεται ο RGB κωδικός των χρωμάτων που χρησιμοποιούνται συνήθως για τα διαφορετικά gieStains ([source](http://circos.ca/tutorials/lessons/2d_tracks/connectors/configuration)):\n",
    "\n",
    "```\n",
    "gpos100 = 0,0,0\n",
    "gpos    = 0,0,0\n",
    "gpos75  = 130,130,130\n",
    "gpos66  = 160,160,160\n",
    "gpos50  = 200,200,200\n",
    "gpos33  = 210,210,210\n",
    "gpos25  = 200,200,200\n",
    "gvar    = 220,220,220\n",
    "gneg    = 255,255,255\n",
    "acen    = 217,47,39\n",
    "stalk   = 100,127,164\n",
    "```\n",
    "\n",
    "Σκοπός της άσκησης είναι να φτιάξετε ένα plot το οποίο να δείχνει τα διαφορετικά bands ενός χρωμοσώματος. Για να βρείτε για πιο χρωμόσωμα θα πρέπει να το υλοποιήσετε απλά βάλτε τον Αριθμός Μητρώου σας στη παρακάτω συνάρτηση:"
   ]
  },
  {
   "cell_type": "code",
   "execution_count": 21,
   "metadata": {},
   "outputs": [],
   "source": [
    "def which_chromosome(AM):\n",
    "    return (AM%22) + 1"
   ]
  },
  {
   "cell_type": "markdown",
   "metadata": {},
   "source": [
    "Για παράδειγμα αν ο αριθμός μητρώου σας είναι το 12345. Τότε θα πρέπει να κάνετε πλοτ τα bands του χρωμοσώματος 4:"
   ]
  },
  {
   "cell_type": "code",
   "execution_count": 22,
   "metadata": {},
   "outputs": [
    {
     "data": {
      "text/plain": [
       "4"
      ]
     },
     "execution_count": 22,
     "metadata": {},
     "output_type": "execute_result"
    }
   ],
   "source": [
    "which_chromosome(12345)"
   ]
  },
  {
   "cell_type": "markdown",
   "metadata": {},
   "source": [
    "Δίνεται το αποτέλεσμα της δικής μου υλοποίησης για τα χρωμοσώματα από 1 μέχρι 12:"
   ]
  },
  {
   "cell_type": "markdown",
   "metadata": {},
   "source": [
    "![img](https://i.imgur.com/RUTRVKX.png)\n",
    "\n",
    "Κάνετε google και \"cytobands\" (image search) για περισσότερα αποτελέσματα"
   ]
  },
  {
   "cell_type": "markdown",
   "metadata": {},
   "source": [
    "Προσοχή!\n",
    "* Στη δική σας υλοποίηση θα κάνετε ένα plot για μόνο ένα χρωμόσωμα.\n",
    "* Δεν χρειάζεται να κάνετε τις \"στρογγυλοποιήσεις\" στις άκρες όπως έχω κάνει εγώ\n",
    "* Λογικά θα χρειαστείτε μόνο το \"Rectangle\" από τη matplotlib"
   ]
  },
  {
   "cell_type": "markdown",
   "metadata": {},
   "source": [
    "### Άσκηση 2\n",
    "Χρησιμοποιώντας το [Rest API της ENSEMBL](https://rest.ensembl.org/), φτιάξτε μια συνάρτηση η οποία θα παίρνει ένα χρωμόσωμα μία αρχή και ένα τέλος και θα επιστρέφει την ακολουθία του ανθρώπινου γνοδιώματος για αυτή τη περιοχή. \n",
    "\n",
    "Hint: https://rest.ensembl.org/documentation/info/sequence_region"
   ]
  },
  {
   "cell_type": "markdown",
   "metadata": {},
   "source": [
    "### Άσκηση 3\n",
    "Χρησιμοποιώντας το REST API του [myvariant.info](http://docs.myvariant.info/en/latest/), φτιάξτε μία συνάρτηση η οποία θα παιρνει ένα χρωμόσωμα μία αρχή και ένα τέλος και θα επιστρέφει μία λίστα με γνωστές μεταλλάξεις που ανήκουν σε αυτή τη περιοχή. Κάθε μετάλλαξη θα πρέπει να έχει τον κωδικό ```rs<Number>```.\n",
    "\n",
    "Προσοχή το myvariant.info δεν επιστρέφει όλες τις μεταλλάξεις γιατί ειδικά σε μεγάλες περιοχές αυτή η λίστα μπορεί να έχει τεράστιο μέγεθος. Αντίθετα έχει δύο διαφορετικούς μηχανισμούς ώστε να μπορεί να πάρει κάποιος όλα τα αποτελέσματα.\n",
    "\n",
    "Ο πρώτος μηχανισμός περιγράφεται εδώ:\n",
    "http://docs.myvariant.info/en/latest/doc/variant_query_service.html#faceted-queries\n",
    "\n",
    "Και ο δεύτερος περιγράφεται εδώ:\n",
    "http://docs.myvariant.info/en/latest/doc/variant_query_service.html#scrolling-queries \n",
    "\n",
    "Εσείς μπορείτε να υλοποιήσετε όποιον θέλετε (ή και τους δύο..)"
   ]
  },
  {
   "cell_type": "markdown",
   "metadata": {},
   "source": [
    "### Άσκηση 4\n",
    "Χρησιμοπιώντας το REST API του myvariant.info, φτιάξτε μία συνάρτηση η οποία θα παίρνει μία μετάλλαξη με τη μορφή ```rs<number>``` και θα επιστρέφει την ασθένεια με την οποία σχετίζεται. \n",
    "\n",
    "Για παράδειγμα για το rs374032054 [θα πρέπει να βγάλει](http://myvariant.info/v1/query?q=rs374032054): ```[\"Congenital disorder of glycosylation type Ir (CDG1R)\"]```. Το αποτέλεσμα θα είναι μία λίστα με όλες τις πιθανές ασθένειες (μπορεί να είναι πάνω από μία). Η λίστα μπορεί να είναι και άδεια.\n"
   ]
  },
  {
   "cell_type": "markdown",
   "metadata": {},
   "source": [
    "### Άσκηση 5\n",
    "Έστω ότι έχουμε μία ακολουθία DNA. Δίνεται ο παρακάτω κώδικας για τη μετατροπή της ακολουθίας σε φορμάτ fasta"
   ]
  },
  {
   "cell_type": "code",
   "execution_count": 59,
   "metadata": {},
   "outputs": [],
   "source": [
    "from Bio import SeqIO\n",
    "from Bio.Seq import Seq\n",
    "from Bio.SeqRecord import SeqRecord\n",
    "\n",
    "def convert_sequence_to_fast(sequence, fasta_filename, id, description):\n",
    "    sequence = Seq(sequence)\n",
    "    # http://biopython.org/DIST/docs/tutorial/Tutorial.html#htoc16\n",
    "    sequence_record = SeqRecord(sequence, id=id, description=description)\n",
    "\n",
    "    with open(fasta_filename, \"w\") as output_handle:\n",
    "        SeqIO.write(sequence_record, output_handle, \"fasta\")\n",
    "\n"
   ]
  },
  {
   "cell_type": "code",
   "execution_count": 28,
   "metadata": {},
   "outputs": [],
   "source": [
    "convert_sequence_to_fast('AGAAGACGATGCTGTAGATGAAGAGCCCCA', 'example.fasta', 'mitsos', 'my precious sequence')"
   ]
  },
  {
   "cell_type": "code",
   "execution_count": 57,
   "metadata": {},
   "outputs": [
    {
     "name": "stdout",
     "output_type": "stream",
     "text": [
      ">mitsos my precious sequence\r\n",
      "AGAAGACGATGCTGTAGATGAAGAGCCCCA\r\n"
     ]
    }
   ],
   "source": [
    "!cat example.fasta"
   ]
  },
  {
   "cell_type": "markdown",
   "metadata": {},
   "source": [
    "Δίνεται επίσης ο παρακάτω κώδικας ο οποίος διαβάζει μία ακολουθία από ένα αρχείο fasta και τη κάνει [BLAT](https://en.wikipedia.org/wiki/BLAT_(bioinformatics) ) στο ανθρώπινο γονιδιώμα χρησιμοποιώντας την [αντίστοιχη υπηρεσία του NCBI](https://blast.ncbi.nlm.nih.gov/Blast.cgi)"
   ]
  },
  {
   "cell_type": "code",
   "execution_count": 60,
   "metadata": {},
   "outputs": [],
   "source": [
    "# Running BLAST over the Internet\n",
    "# http://biopython.org/DIST/docs/tutorial/Tutorial.html#htoc16\n",
    "\n",
    "from Bio.Blast import NCBIWWW\n",
    "\n",
    "def blat_fasta(fasta_filename, output_filename):\n",
    "    fasta_string = open(fasta_filename).read()\n",
    "    #result_handle = NCBIWWW.qblast(\"blastn\", \"nt\", fasta_string)\n",
    "    #result_handle = NCBIWWW.qblast(\"blastn\", \"Human G+T\", fasta_string)\n",
    "    print ('fasta string:')\n",
    "    print (fasta_string)\n",
    "    result_handle = NCBIWWW.qblast(\n",
    "        \"blastn\", \n",
    "        #\"Human G+T\",\n",
    "        #\"GPIPE/9606/current/ref_top_level\", # GRCH38\n",
    "        \"GPIPE/9606/105/ref_top_level\", #GRCH37\n",
    "        fasta_string, \n",
    "        short_query=True,\n",
    "        expect=1000,\n",
    "        nucl_reward=1,\n",
    "        nucl_penalty=-3,\n",
    "        filter='F',\n",
    "    )\n",
    "    \n",
    "    # Gia th diafora meta3u 'nt' kai 'Human G+T' deite edw:\n",
    "    # https://ftp.ncbi.nlm.nih.gov/pub/factsheets/HowTo_BLASTGuide.pdf \n",
    "    # Source code of qblast: https://biopython.org/DIST/docs/api/Bio.Blast.Applications-pysrc.html\n",
    "    with open(output_filename, \"w\") as out_handle:\n",
    "        out_handle.write(result_handle.read())\n",
    "\n",
    "    "
   ]
  },
  {
   "cell_type": "code",
   "execution_count": 64,
   "metadata": {},
   "outputs": [
    {
     "name": "stdout",
     "output_type": "stream",
     "text": [
      "fasta string:\n",
      ">mitsos my precious sequence\n",
      "AGAAGACGATGCTGTAGATGAAGAGCCCCA\n",
      "\n"
     ]
    }
   ],
   "source": [
    "blat_fasta('example.fasta', 'example_blat_results.xml')"
   ]
  },
  {
   "cell_type": "markdown",
   "metadata": {},
   "source": [
    "Επίσης δίνεται και ο παρακάτω **ενδεικτικός** κώδικας ο οποίος διαβάζει και \"παρσάρει\" τα αποτελέσματα του BLAT alignment:"
   ]
  },
  {
   "cell_type": "code",
   "execution_count": 96,
   "metadata": {},
   "outputs": [],
   "source": [
    "# http://biopython.org/DIST/docs/tutorial/Tutorial.html#htoc16\n",
    "# 7.3  Parsing BLAST output\n",
    "from Bio.Blast import NCBIWWW\n",
    "from Bio.Blast import NCBIXML\n",
    "\n",
    "def parse_BLAT_output(blat_filename):\n",
    "    result_handle = open(blat_filename)\n",
    "    blast_records = NCBIXML.parse(result_handle)\n",
    "    \n",
    "    E_VALUE_THRESH = 0.04\n",
    "    for blast_record in blast_records:\n",
    "        for alignment in blast_record.alignments:\n",
    "            for hsp in alignment.hsps:\n",
    "                if hsp.expect < E_VALUE_THRESH:\n",
    "                    print(\"****Alignment****\")\n",
    "                    print ('Query start:', hsp.query_start)\n",
    "                    print ('Query end:', hsp.query_end)\n",
    "                    print ('Subject start:', hsp.sbjct_start)\n",
    "                    print ('Subject end:', hsp.sbjct_end)\n",
    "                    print(\"sequence:\", alignment.title)\n",
    "                    print(\"length:\", alignment.length)\n",
    "                    print(\"e value:\", hsp.expect)\n",
    "                    print(hsp.query)\n",
    "                    print(hsp.match)\n",
    "                    print(hsp.sbjct)\n",
    "                    #print (dir(hsp))\n",
    "                    return alignment, hsp\n",
    "        "
   ]
  },
  {
   "cell_type": "code",
   "execution_count": 65,
   "metadata": {},
   "outputs": [
    {
     "name": "stdout",
     "output_type": "stream",
     "text": [
      "****Alignment****\n",
      "Query start: 1\n",
      "Query end: 30\n",
      "Subject start: 20978904\n",
      "Subject end: 20978933\n",
      "sequence: gi|224589800|ref|NC_000001.10| Homo sapiens chromosome 1, GRCh37.p13 Primary Assembly\n",
      "length: 249250621\n",
      "e value: 8.41803e-06\n",
      "AGAAGACGATGCTGTAGATGAAGAGCCCCA\n",
      "|||||||||||||| |||||||||||||||\n",
      "AGAAGACGATGCTGAAGATGAAGAGCCCCA\n"
     ]
    },
    {
     "data": {
      "text/plain": [
       "(<Bio.Blast.Record.Alignment at 0x106817810>,\n",
       " <Bio.Blast.Record.HSP at 0x103fe5090>)"
      ]
     },
     "execution_count": 65,
     "metadata": {},
     "output_type": "execute_result"
    }
   ],
   "source": [
    "parse_BLAT_output('example_blat_results.xml')"
   ]
  },
  {
   "cell_type": "markdown",
   "metadata": {},
   "source": [
    "Προσέχτε ότι:\n",
    "* Tο hsp.sbjct_start περιέχει τη θέση τη θέση της ακολουθίας όπου έγινε το allignment\n",
    "* Από τα hsp.query, hsp.match, hsp.sbjct μπορούμε να δούμε που έγινε misalignment\n",
    "* Το blast_records είναι τόσα όσα οι ακολουθίες του fasta αρχείου (στη περίπτωσή μας 1)\n",
    "* Το blast_record.alignments περιέχει όλα τα alignments που βρέθηκαν για τη κάθε ακολουθία. Μία ακολουθία μπορεί να έχει γίνει align σε παραπάνω από μία περιοχή του γονιδιώματος\n",
    "* Το alignment.hsps περιέχει όλες τις διαφορετικές ακολουθίες του κάθε algignment.\n",
    "* Το hsp.expect είναι ένα metric του πόσο καλά πήγε το alignment, όσο μικρότερο τόσο το καλύτερο..\n",
    "\n",
    "Χρησιμοποιώντας τα παραπάνω φτιάξτε μία συνάρτηση η οποία θα πάρει ένα DNA sequence και θα επιστρέφει τη θέση στο ανθρώπινο γονιδίωμα με τις οποίες διαφέρει. \n",
    "\n",
    "Για να γίνει αυτό θα πρέπει να βρείτε ένα κατάλληλο alignment. Το aligment αυτό θα πρέπει να έχει μικρό hsp.expect και επίσης να έχει στη περιγραφή του το \"Primary Assembly\".\n",
    "\n",
    "Πάρτε μόνο το πρώτο blast_record.alignments και από αυτό, πάρτε μόνο το πρώτο alignment.hsps. \n",
    "\n",
    "Για να τα υλοποιήσετε θα πρέπει ίσως να χρειαστεί να αλλάξετε τη συνάρτηση parse_BLAT_output. Επίσης η δυνάρτησή σας θα πρέπει να επιτρέφει μία μόνο μετάλλαξη (αν βρει πολλές απλά πάρτε τη πρώτη)."
   ]
  },
  {
   "cell_type": "markdown",
   "metadata": {},
   "source": [
    "Για παράδειγμα για το sequence 'AGAAGACGATGCTGTAGATGAAGAGCCCCA'. Είδαμε ότι η αρχή το (Α) έγινε allign στη θέση 20652411. Επίσης βλέπουμε ότι στη θέση 15 της ακολουθίας υπάρχει ένα misalignment:\n"
   ]
  },
  {
   "cell_type": "code",
   "execution_count": 66,
   "metadata": {},
   "outputs": [
    {
     "name": "stdout",
     "output_type": "stream",
     "text": [
      "****Alignment****\n",
      "Query start: 1\n",
      "Query end: 30\n",
      "Subject start: 20978904\n",
      "Subject end: 20978933\n",
      "sequence: gi|224589800|ref|NC_000001.10| Homo sapiens chromosome 1, GRCh37.p13 Primary Assembly\n",
      "length: 249250621\n",
      "e value: 8.41803e-06\n",
      "AGAAGACGATGCTGTAGATGAAGAGCCCCA\n",
      "|||||||||||||| |||||||||||||||\n",
      "AGAAGACGATGCTGAAGATGAAGAGCCCCA\n"
     ]
    }
   ],
   "source": [
    "alignment, hsp = parse_BLAT_output('example_blat_results.xml')"
   ]
  },
  {
   "cell_type": "code",
   "execution_count": 67,
   "metadata": {},
   "outputs": [
    {
     "name": "stdout",
     "output_type": "stream",
     "text": [
      "AGAAGACGATGCTGTAGATGAAGAGCCCCA\n",
      "|||||||||||||| |||||||||||||||\n",
      "AGAAGACGATGCTGAAGATGAAGAGCCCCA\n"
     ]
    }
   ],
   "source": [
    "print (hsp.query)\n",
    "print (hsp.match)\n",
    "print (hsp.sbjct)"
   ]
  },
  {
   "cell_type": "code",
   "execution_count": 68,
   "metadata": {},
   "outputs": [
    {
     "name": "stdout",
     "output_type": "stream",
     "text": [
      "T\n",
      " \n",
      "A\n"
     ]
    }
   ],
   "source": [
    "print (hsp.query[14])\n",
    "print (hsp.match[14])\n",
    "print (hsp.sbjct[14])"
   ]
  },
  {
   "cell_type": "markdown",
   "metadata": {},
   "source": [
    "H θέση αυτή του misalignment είναι η:"
   ]
  },
  {
   "cell_type": "code",
   "execution_count": 69,
   "metadata": {},
   "outputs": [
    {
     "data": {
      "text/plain": [
       "20978918"
      ]
     },
     "execution_count": 69,
     "metadata": {},
     "output_type": "execute_result"
    }
   ],
   "source": [
    "position = hsp.sbjct_start + 14\n",
    "position"
   ]
  },
  {
   "cell_type": "markdown",
   "metadata": {},
   "source": [
    "Και σύμφωνα με το ID της ακολουθίας:"
   ]
  },
  {
   "cell_type": "code",
   "execution_count": 70,
   "metadata": {},
   "outputs": [
    {
     "data": {
      "text/plain": [
       "'gi|224589800|ref|NC_000001.10| Homo sapiens chromosome 1, GRCh37.p13 Primary Assembly'"
      ]
     },
     "execution_count": 70,
     "metadata": {},
     "output_type": "execute_result"
    }
   ],
   "source": [
    "alignment.title"
   ]
  },
  {
   "cell_type": "markdown",
   "metadata": {},
   "source": [
    "Το χρωμόσωμα είναι το 1 και η έκδοση του γονιδιώματος είναι η 37. Επίσης είδαμε ότι το reference είναι το A και το alternative το T (που έχει η ακολουθία μας)"
   ]
  },
  {
   "cell_type": "markdown",
   "metadata": {},
   "source": [
    "Άρα θα πρέπει να φτιάξετε μία συνάρτηση η οποία παίρνει ένα sequence και θα πρέπει να επιστρέφει τη μετάλλαξη που περιέχει αυτό το sequence αν το συγκρίνουμε με το γονδίωμα αναφοράς. Για παράδειγμα αν f είναι αυτή η συνάρτηση τότε θα πρέπει:\n",
    "\n",
    "```python\n",
    "f('AGAAGACGATGCTGTAGATGAAGAGCCCCA')\n",
    "```\n",
    "\n",
    "Αυτό θα πρέπει να επιστρέφει:\n",
    "```\n",
    "{\n",
    "    'chromosome': 1,\n",
    "    'position': 20978918,\n",
    "    'reference: 'A',\n",
    "    'alternative': 'T',\n",
    "    'assembly': 'GRCh37',\n",
    "}\n",
    "```\n",
    "\n",
    "Αν δεν βρει μετάλλαξη τότε θα επιστρέφει None."
   ]
  },
  {
   "cell_type": "markdown",
   "metadata": {},
   "source": [
    "## Άσκηση 6\n",
    "(συνέχεια από την άσκηση 5)\n",
    "\n",
    "Άραγε αυτή η μετάλλαξη που βρήκαμε στην άσκηση 5, είναι γνωστή, και αν είναι σχετίζεται με κάποια ασθένεια; Ας ψάξουμε αν το myvariant.info έχει πληροφορία από τη clinvar:"
   ]
  },
  {
   "cell_type": "code",
   "execution_count": 80,
   "metadata": {},
   "outputs": [],
   "source": [
    "import requests\n",
    "\n",
    "r = requests.get(\"http://myvariant.info/v1/variant/chr1:g.20978918A>T\", headers={ \"Content-Type\" : \"application/json\"})"
   ]
  },
  {
   "cell_type": "code",
   "execution_count": 88,
   "metadata": {},
   "outputs": [
    {
     "data": {
      "text/plain": [
       "True"
      ]
     },
     "execution_count": 88,
     "metadata": {},
     "output_type": "execute_result"
    }
   ],
   "source": [
    "data = r.json()\n",
    "'clinvar' in data"
   ]
  },
  {
   "cell_type": "markdown",
   "metadata": {},
   "source": [
    "Παρατηρούμε ότι όντως έχει πληροφορία!"
   ]
  },
  {
   "cell_type": "code",
   "execution_count": 90,
   "metadata": {},
   "outputs": [
    {
     "data": {
      "text/plain": [
       "{'_license': 'http://bit.ly/2SQdcI0',\n",
       " 'allele_id': 576081,\n",
       " 'alt': 'T',\n",
       " 'chrom': '1',\n",
       " 'cytogenic': '1p36.12',\n",
       " 'gene': {'id': '1650', 'symbol': 'DDOST'},\n",
       " 'hg19': {'end': 20978918, 'start': 20978918},\n",
       " 'hg38': {'end': 20652425, 'start': 20652425},\n",
       " 'hgvs': {'coding': 'NM_005216.4:c.1325T>A',\n",
       "  'genomic': ['NC_000001.10:g.20978918A>T',\n",
       "   'NC_000001.11:g.20652425A>T',\n",
       "   'NG_008164.1:g.23971A>T',\n",
       "   'NG_032064.1:g.14120T>A']},\n",
       " 'rcv': {'accession': 'RCV000709770',\n",
       "  'clinical_significance': 'not provided',\n",
       "  'conditions': {'identifiers': {'medgen': 'C3281084',\n",
       "    'omim': '614507',\n",
       "    'orphanet': '300536'},\n",
       "   'name': 'Congenital disorder of glycosylation type Ir (CDG1R)'},\n",
       "  'number_submitters': 1,\n",
       "  'origin': 'unknown',\n",
       "  'preferred_name': 'NM_005216.4(DDOST):c.1325T>A (p.Phe442Tyr)',\n",
       "  'review_status': 'no assertion provided'},\n",
       " 'ref': 'A',\n",
       " 'type': 'single nucleotide variant',\n",
       " 'variant_id': 585026}"
      ]
     },
     "execution_count": 90,
     "metadata": {},
     "output_type": "execute_result"
    }
   ],
   "source": [
    "data['clinvar']"
   ]
  },
  {
   "cell_type": "markdown",
   "metadata": {},
   "source": [
    "Με ποιες παθήσεις έχει συνδεθεί αυτή η μετάλλαξη;"
   ]
  },
  {
   "cell_type": "code",
   "execution_count": 95,
   "metadata": {},
   "outputs": [
    {
     "data": {
      "text/plain": [
       "'Congenital disorder of glycosylation type Ir (CDG1R)'"
      ]
     },
     "execution_count": 95,
     "metadata": {},
     "output_type": "execute_result"
    }
   ],
   "source": [
    "data['clinvar']['rcv']['conditions']['name']"
   ]
  },
  {
   "cell_type": "markdown",
   "metadata": {},
   "source": [
    "Άρα βρήκαμε ότι αν ένας άνθρωπος έχει το sequence: ```AGAAGACGATGCTGTAGATGAAGAGCCCCA```, τότε μπορεί να έχει το condition: ```'Congenital disorder of glycosylation type Ir (CDG1R)'```\n",
    "\n",
    "Εσείς θα πρέπει να φτιάξετε μία συνάρτηση η οποία θα παίρνει ως είσοδο ένα DNA sequence. Στη συνέχεια θα χρησιμοποιεί τη συνάρτηση της άσκησης 5 για να βρει (αν υπάρχει) τη μετάλλαξη που περιέχει το sequence. Στη συνέχεια θα ψάχνει τη myvariant.info για να βρει (αν υπάρχει) τις ασθένειες με τις οποίες έχει συνδεθεί, σύμφωνα με τη clinvar. Αν f είναι αυτή η συνάρτηση, τότε Θα πρέπει να μπορώ να γράφω:\n",
    "\n",
    "```python\n",
    "f('AGAAGACGATGCTGTAGATGAAGAGCCCCA')\n",
    "```\n",
    "\n",
    "Αυτό θα πρέπει να επιστρέφει\n",
    "```\n",
    "['Congenital disorder of glycosylation type Ir (CDG1R)']\n",
    "```\n",
    "\n",
    "Παρατηρήστε ότι επιτρέφει λίστα. Δηλαδή μπορεί να υπάρχουν περισσότερες από μία ασθένειες. Εννοείται ότι μπορείτε να χρησιμοποιήσετε τη συνάρτηση της άσκησης 4."
   ]
  },
  {
   "cell_type": "markdown",
   "metadata": {},
   "source": [
    "### Άσκηση 7\n",
    "\n",
    "Σε αυτό το link: http://www.allelefrequencies.net/hla6006a_scr.asp?hla_locus=&hla_locus_type=Classical&hla_allele1=&hla_allele2=&hla_selection=&hla_pop_selection=&hla_population=1614&hla_country=&hla_dataset=&hla_region=&hla_ethnic=&hla_study=&hla_sample_size=&hla_sample_size_pattern=equal&hla_sample_year=&hla_sample_year_pattern=equal&hla_level=&hla_level_pattern=equal&hla_show=&hla_order=order_1&standard=a\n",
    "\n",
    "Υπάρχουν οι συχνότητες για 85 αλληλόμορφα της περιοχής HLA όπως έχουν μετρηθεί σε ένα δείγμα με 135 κρητικούς. Κάντε ένα plot με τη κατανομή των 85 συχνοτήτων.\n",
    "\n",
    "* Hint 1. Για να \"φέρετε\" τις συχνότητες αυτές στη python χρησιμοποιήστε το pandas.read_html()..\n",
    "* Hint 2. Για να κάνετε το distribution plot μπορείτε να χρησιμοποιήσετε τη seaborn: https://seaborn.pydata.org/generated/seaborn.distplot.html\n"
   ]
  },
  {
   "cell_type": "code",
   "execution_count": 185,
   "metadata": {},
   "outputs": [
    {
     "name": "stderr",
     "output_type": "stream",
     "text": [
      "/Users/alexandroskanterakis/anaconda3/lib/python3.7/site-packages/scipy/stats/stats.py:1713: FutureWarning: Using a non-tuple sequence for multidimensional indexing is deprecated; use `arr[tuple(seq)]` instead of `arr[seq]`. In the future this will be interpreted as an array index, `arr[np.array(seq)]`, which will result either in an error or a different result.\n",
      "  return np.add.reduce(sorted[indexer] * weights, axis=axis) / sumval\n"
     ]
    },
    {
     "data": {
      "image/png": "[encoded data removed]",
      "text/plain": [
       "<Figure size 432x288 with 1 Axes>"
      ]
     },
     "metadata": {
      "needs_background": "light"
     },
     "output_type": "display_data"
    }
   ],
   "source": [
    "# Sorry for the warnings.."
   ]
  },
  {
   "cell_type": "markdown",
   "metadata": {},
   "source": [
    "### Άσκηση 8\n",
    "\n",
    "[Σε αυτό το link μπορείτε να κατεβάσετε τις βάσεις για τις πανελλήνιες εξετάσεις 2019](https://www.oefe.gr/el/static/baseis_2019_el.aspx) σε μορφή excel. \n",
    "\n",
    "Δίνεται και ο παρακάτω κώδικας για να το ανοίξετε από pandas (υποθέτουμε ότι το έχετε σώσει με το όνομα baseis.xlsx)"
   ]
  },
  {
   "cell_type": "code",
   "execution_count": 49,
   "metadata": {},
   "outputs": [
    {
     "data": {
      "text/html": [
       "<div>\n",
       "<style scoped>\n",
       "    .dataframe tbody tr th:only-of-type {\n",
       "        vertical-align: middle;\n",
       "    }\n",
       "\n",
       "    .dataframe tbody tr th {\n",
       "        vertical-align: top;\n",
       "    }\n",
       "\n",
       "    .dataframe thead th {\n",
       "        text-align: right;\n",
       "    }\n",
       "</style>\n",
       "<table border=\"1\" class=\"dataframe\">\n",
       "  <thead>\n",
       "    <tr style=\"text-align: right;\">\n",
       "      <th></th>\n",
       "      <th>ΚΩΔΙΚΟΣ ΣΧΟΛΗΣ</th>\n",
       "      <th>ΙΔΡΥΜΑ</th>\n",
       "      <th>ΟΝΟΜΑ ΣΧΟΛΗΣ</th>\n",
       "      <th>ΕΙΔΟΣ ΘΕΣΗΣ</th>\n",
       "      <th>ΑΡΧΙΚΕΣ ΘΕΣΕΙΣ</th>\n",
       "      <th>ΘΕΣΕΙΣ (Κατόπιν Μεταφοράς)</th>\n",
       "      <th>ΕΠΙΤ/ΤΕΣ</th>\n",
       "      <th>ΒΑΘΜΟΣ ΠΡΩΤΟΥ</th>\n",
       "      <th>ΚΡΙΤΗΡΙΑ ΙΣΟΒΑΘΜΙΑΣ</th>\n",
       "      <th>ΒΑΘΜΟΣ ΤΕΛΕΥΤΑΙΟΥ</th>\n",
       "      <th>ΚΡΙΤΗΡΙΑ ΙΣΟΒΑΘΜΙΑΣ</th>\n",
       "    </tr>\n",
       "  </thead>\n",
       "  <tbody>\n",
       "    <tr>\n",
       "      <th>2</th>\n",
       "      <td>818</td>\n",
       "      <td>Α.Ε.Ν.</td>\n",
       "      <td>ΣΧΟΛΗ ΜΗΧΑΝΙΚΩΝ</td>\n",
       "      <td>ΓΕΛ ΓΕΝIKH ΣΕΙΡΑ ΗΜ.</td>\n",
       "      <td>241</td>\n",
       "      <td>249</td>\n",
       "      <td>249</td>\n",
       "      <td>16809</td>\n",
       "      <td>32,90 136,00</td>\n",
       "      <td>8468</td>\n",
       "      <td>20,20 065,80</td>\n",
       "    </tr>\n",
       "    <tr>\n",
       "      <th>3</th>\n",
       "      <td>818</td>\n",
       "      <td>Α.Ε.Ν.</td>\n",
       "      <td>ΣΧΟΛΗ ΜΗΧΑΝΙΚΩΝ</td>\n",
       "      <td>ΓΕΛ ΑΕΝ ΕΙΔ.ΚΑΤ.ΠΟΛΥΤΕΚΝΟΙ 10%</td>\n",
       "      <td>24</td>\n",
       "      <td>24</td>\n",
       "      <td>24</td>\n",
       "      <td>7927</td>\n",
       "      <td>17,70 061,60</td>\n",
       "      <td>4846</td>\n",
       "      <td>10,00 041,40</td>\n",
       "    </tr>\n",
       "    <tr>\n",
       "      <th>4</th>\n",
       "      <td>818</td>\n",
       "      <td>Α.Ε.Ν.</td>\n",
       "      <td>ΣΧΟΛΗ ΜΗΧΑΝΙΚΩΝ</td>\n",
       "      <td>ΓΕΛ ΑΕΝ ΕΙΔ.ΚΑΤ. ΤΡΙΤΕΚΝΟΙ 3%</td>\n",
       "      <td>7</td>\n",
       "      <td>7</td>\n",
       "      <td>7</td>\n",
       "      <td>8286</td>\n",
       "      <td>16,40 068,80</td>\n",
       "      <td>8089</td>\n",
       "      <td>15,50 066,20</td>\n",
       "    </tr>\n",
       "    <tr>\n",
       "      <th>5</th>\n",
       "      <td>818</td>\n",
       "      <td>Α.Ε.Ν.</td>\n",
       "      <td>ΣΧΟΛΗ ΜΗΧΑΝΙΚΩΝ</td>\n",
       "      <td>ΓΕΛ ΑΕΝ ΕΙΔ.ΚΑΤ. ΚΟΙΝ. ΚΡΙΤΗΡΙΑ</td>\n",
       "      <td>5</td>\n",
       "      <td>5</td>\n",
       "      <td>5</td>\n",
       "      <td>8398</td>\n",
       "      <td>12,00 071,20</td>\n",
       "      <td>6826</td>\n",
       "      <td>12,40 057,00</td>\n",
       "    </tr>\n",
       "    <tr>\n",
       "      <th>6</th>\n",
       "      <td>817</td>\n",
       "      <td>Α.Ε.Ν.</td>\n",
       "      <td>ΣΧΟΛΗ ΠΛΟΙΑΡΧΩΝ</td>\n",
       "      <td>ΓΕΛ ΓΕΝIKH ΣΕΙΡΑ ΗΜ.</td>\n",
       "      <td>332</td>\n",
       "      <td>334</td>\n",
       "      <td>334</td>\n",
       "      <td>17316</td>\n",
       "      <td>34,40 138,40</td>\n",
       "      <td>9827</td>\n",
       "      <td>16,10 085,20</td>\n",
       "    </tr>\n",
       "    <tr>\n",
       "      <th>7</th>\n",
       "      <td>817</td>\n",
       "      <td>Α.Ε.Ν.</td>\n",
       "      <td>ΣΧΟΛΗ ΠΛΟΙΑΡΧΩΝ</td>\n",
       "      <td>ΓΕΛ ΑΕΝ ΕΙΔ.ΚΑΤ.ΠΟΛΥΤΕΚΝΟΙ 10%</td>\n",
       "      <td>33</td>\n",
       "      <td>33</td>\n",
       "      <td>33</td>\n",
       "      <td>9551</td>\n",
       "      <td>17,90 081,00</td>\n",
       "      <td>5909</td>\n",
       "      <td>07,70 052,80</td>\n",
       "    </tr>\n",
       "    <tr>\n",
       "      <th>8</th>\n",
       "      <td>817</td>\n",
       "      <td>Α.Ε.Ν.</td>\n",
       "      <td>ΣΧΟΛΗ ΠΛΟΙΑΡΧΩΝ</td>\n",
       "      <td>ΓΕΛ ΑΕΝ ΕΙΔ.ΚΑΤ. ΤΡΙΤΕΚΝΟΙ 3%</td>\n",
       "      <td>10</td>\n",
       "      <td>10</td>\n",
       "      <td>10</td>\n",
       "      <td>9820</td>\n",
       "      <td>17,40 082,00</td>\n",
       "      <td>9363</td>\n",
       "      <td>19,50 072,60</td>\n",
       "    </tr>\n",
       "    <tr>\n",
       "      <th>9</th>\n",
       "      <td>817</td>\n",
       "      <td>Α.Ε.Ν.</td>\n",
       "      <td>ΣΧΟΛΗ ΠΛΟΙΑΡΧΩΝ</td>\n",
       "      <td>ΓΕΛ ΑΕΝ ΕΙΔ.ΚΑΤ. ΚΟΙΝ. ΚΡΙΤΗΡΙΑ</td>\n",
       "      <td>6</td>\n",
       "      <td>6</td>\n",
       "      <td>6</td>\n",
       "      <td>9591</td>\n",
       "      <td>17,50 080,00</td>\n",
       "      <td>7373</td>\n",
       "      <td>12,50 061,20</td>\n",
       "    </tr>\n",
       "    <tr>\n",
       "      <th>10</th>\n",
       "      <td>419</td>\n",
       "      <td>ΑΕΑ ΑΘΗΝΑΣ</td>\n",
       "      <td>ΠΡΟΓΡΑΜΜΑ ΔΙΑΧΕΙΡΙΣΗΣ ΕΚΚΛΗΣΙΑΣΤΙΚΩΝ ΚΕΙΜΗΛΙΩΝ...</td>\n",
       "      <td>ΓΕΛ ΓΕΝIKH ΣΕΙΡΑ ΗΜ.</td>\n",
       "      <td>9</td>\n",
       "      <td>9</td>\n",
       "      <td>9</td>\n",
       "      <td>10275</td>\n",
       "      <td>18,50 082,00</td>\n",
       "      <td>6551</td>\n",
       "      <td>07,10 057,60</td>\n",
       "    </tr>\n",
       "    <tr>\n",
       "      <th>11</th>\n",
       "      <td>419</td>\n",
       "      <td>ΑΕΑ ΑΘΗΝΑΣ</td>\n",
       "      <td>ΠΡΟΓΡΑΜΜΑ ΔΙΑΧΕΙΡΙΣΗΣ ΕΚΚΛΗΣΙΑΣΤΙΚΩΝ ΚΕΙΜΗΛΙΩΝ...</td>\n",
       "      <td>ΓΕΛ ΕΚΚΛΗΣΙΑΣΤΙΚΩΝ</td>\n",
       "      <td>1</td>\n",
       "      <td>1</td>\n",
       "      <td>0</td>\n",
       "      <td>NaN</td>\n",
       "      <td>NaN</td>\n",
       "      <td>NaN</td>\n",
       "      <td>NaN</td>\n",
       "    </tr>\n",
       "    <tr>\n",
       "      <th>12</th>\n",
       "      <td>413</td>\n",
       "      <td>ΑΕΑ ΑΘΗΝΑΣ</td>\n",
       "      <td>ΠΡΟΓΡΑΜΜΑ ΙΕΡΑΤΙΚΩΝ ΣΠΟΥΔΩΝ ΑΘΗΝΑΣ</td>\n",
       "      <td>ΓΕΛ ΓΕΝIKH ΣΕΙΡΑ ΗΜ.</td>\n",
       "      <td>36</td>\n",
       "      <td>36</td>\n",
       "      <td>36</td>\n",
       "      <td>12396</td>\n",
       "      <td>24,00 099,00</td>\n",
       "      <td>8197</td>\n",
       "      <td>13,30 066,60</td>\n",
       "    </tr>\n",
       "    <tr>\n",
       "      <th>13</th>\n",
       "      <td>413</td>\n",
       "      <td>ΑΕΑ ΑΘΗΝΑΣ</td>\n",
       "      <td>ΠΡΟΓΡΑΜΜΑ ΙΕΡΑΤΙΚΩΝ ΣΠΟΥΔΩΝ ΑΘΗΝΑΣ</td>\n",
       "      <td>ΓΕΛ ΕΚΚΛΗΣΙΑΣΤΙΚΩΝ</td>\n",
       "      <td>3</td>\n",
       "      <td>3</td>\n",
       "      <td>3</td>\n",
       "      <td>8097</td>\n",
       "      <td>13,50 065,40</td>\n",
       "      <td>5847</td>\n",
       "      <td>12,10 045,80</td>\n",
       "    </tr>\n",
       "    <tr>\n",
       "      <th>14</th>\n",
       "      <td>420</td>\n",
       "      <td>ΑΕΑ ΘΕΣ/ΝΙΚΗΣ</td>\n",
       "      <td>ΠΡΟΓΡΑΜΜΑ ΔΙΑΧΕΙΡΙΣΗΣ ΕΚΚΛΗΣΙΑΣΤΙΚΩΝ ΚΕΙΜΗΛΙΩΝ...</td>\n",
       "      <td>ΓΕΛ ΓΕΝIKH ΣΕΙΡΑ ΗΜ.</td>\n",
       "      <td>9</td>\n",
       "      <td>9</td>\n",
       "      <td>9</td>\n",
       "      <td>10478</td>\n",
       "      <td>22,60 081,40</td>\n",
       "      <td>7376</td>\n",
       "      <td>08,80 067,60</td>\n",
       "    </tr>\n",
       "    <tr>\n",
       "      <th>15</th>\n",
       "      <td>420</td>\n",
       "      <td>ΑΕΑ ΘΕΣ/ΝΙΚΗΣ</td>\n",
       "      <td>ΠΡΟΓΡΑΜΜΑ ΔΙΑΧΕΙΡΙΣΗΣ ΕΚΚΛΗΣΙΑΣΤΙΚΩΝ ΚΕΙΜΗΛΙΩΝ...</td>\n",
       "      <td>ΓΕΛ ΕΚΚΛΗΣΙΑΣΤΙΚΩΝ</td>\n",
       "      <td>1</td>\n",
       "      <td>1</td>\n",
       "      <td>1</td>\n",
       "      <td>2933</td>\n",
       "      <td>01,30 028,00</td>\n",
       "      <td>2933</td>\n",
       "      <td>01,30 028,00</td>\n",
       "    </tr>\n",
       "    <tr>\n",
       "      <th>16</th>\n",
       "      <td>414</td>\n",
       "      <td>ΑΕΑ ΘΕΣ/ΝΙΚΗΣ</td>\n",
       "      <td>ΠΡΟΓΡΑΜΜΑ ΙΕΡΑΤΙΚΩΝ ΣΠΟΥΔΩΝ ΘΕΣ/ΝΙΚΗΣ</td>\n",
       "      <td>ΓΕΛ ΓΕΝIKH ΣΕΙΡΑ ΗΜ.</td>\n",
       "      <td>18</td>\n",
       "      <td>18</td>\n",
       "      <td>18</td>\n",
       "      <td>11437</td>\n",
       "      <td>18,70 093,60</td>\n",
       "      <td>8244</td>\n",
       "      <td>14,40 068,40</td>\n",
       "    </tr>\n",
       "    <tr>\n",
       "      <th>17</th>\n",
       "      <td>414</td>\n",
       "      <td>ΑΕΑ ΘΕΣ/ΝΙΚΗΣ</td>\n",
       "      <td>ΠΡΟΓΡΑΜΜΑ ΙΕΡΑΤΙΚΩΝ ΣΠΟΥΔΩΝ ΘΕΣ/ΝΙΚΗΣ</td>\n",
       "      <td>ΓΕΛ ΕΚΚΛΗΣΙΑΣΤΙΚΩΝ</td>\n",
       "      <td>1</td>\n",
       "      <td>1</td>\n",
       "      <td>1</td>\n",
       "      <td>5829</td>\n",
       "      <td>09,30 046,20</td>\n",
       "      <td>5829</td>\n",
       "      <td>09,30 046,20</td>\n",
       "    </tr>\n",
       "    <tr>\n",
       "      <th>18</th>\n",
       "      <td>417</td>\n",
       "      <td>ΑΕΑ ΙΩΑΝΝΙΝΩΝ</td>\n",
       "      <td>ΠΡΟΓΡΑΜΜΑ ΕΚΚΛΗΣΙΑΣΤΙΚΗΣ ΜΟΥΣΙΚΗΣ ΚΑΙ ΨΑΛΤΙΚΗΣ...</td>\n",
       "      <td>ΓΕΛ ΓΕΝIKH ΣΕΙΡΑ ΗΜ.</td>\n",
       "      <td>9</td>\n",
       "      <td>9</td>\n",
       "      <td>9</td>\n",
       "      <td>10747</td>\n",
       "      <td>20,10 088,60</td>\n",
       "      <td>8575</td>\n",
       "      <td>13,70 070,40</td>\n",
       "    </tr>\n",
       "    <tr>\n",
       "      <th>19</th>\n",
       "      <td>417</td>\n",
       "      <td>ΑΕΑ ΙΩΑΝΝΙΝΩΝ</td>\n",
       "      <td>ΠΡΟΓΡΑΜΜΑ ΕΚΚΛΗΣΙΑΣΤΙΚΗΣ ΜΟΥΣΙΚΗΣ ΚΑΙ ΨΑΛΤΙΚΗΣ...</td>\n",
       "      <td>ΓΕΛ ΕΚΚΛΗΣΙΑΣΤΙΚΩΝ</td>\n",
       "      <td>1</td>\n",
       "      <td>1</td>\n",
       "      <td>1</td>\n",
       "      <td>6583</td>\n",
       "      <td>11,30 053,60</td>\n",
       "      <td>6583</td>\n",
       "      <td>11,30 053,60</td>\n",
       "    </tr>\n",
       "    <tr>\n",
       "      <th>20</th>\n",
       "      <td>415</td>\n",
       "      <td>ΑΕΑ ΙΩΑΝΝΙΝΩΝ</td>\n",
       "      <td>ΠΡΟΓΡΑΜΜΑ ΙΕΡΑΤΙΚΩΝ ΣΠΟΥΔΩΝ ΒΕΛΛΑΣ ΙΩΑΝΝΙΝΩΝ</td>\n",
       "      <td>ΓΕΛ ΓΕΝIKH ΣΕΙΡΑ ΗΜ.</td>\n",
       "      <td>36</td>\n",
       "      <td>36</td>\n",
       "      <td>36</td>\n",
       "      <td>10018</td>\n",
       "      <td>21,80 078,20</td>\n",
       "      <td>7887</td>\n",
       "      <td>09,70 068,00</td>\n",
       "    </tr>\n",
       "    <tr>\n",
       "      <th>21</th>\n",
       "      <td>415</td>\n",
       "      <td>ΑΕΑ ΙΩΑΝΝΙΝΩΝ</td>\n",
       "      <td>ΠΡΟΓΡΑΜΜΑ ΙΕΡΑΤΙΚΩΝ ΣΠΟΥΔΩΝ ΒΕΛΛΑΣ ΙΩΑΝΝΙΝΩΝ</td>\n",
       "      <td>ΓΕΛ ΕΚΚΛΗΣΙΑΣΤΙΚΩΝ</td>\n",
       "      <td>3</td>\n",
       "      <td>3</td>\n",
       "      <td>3</td>\n",
       "      <td>7373</td>\n",
       "      <td>16,10 057,00</td>\n",
       "      <td>4931</td>\n",
       "      <td>08,30 040,20</td>\n",
       "    </tr>\n",
       "    <tr>\n",
       "      <th>22</th>\n",
       "      <td>418</td>\n",
       "      <td>ΑΕΑ ΚΡΗΤΗΣ</td>\n",
       "      <td>ΠΡΟΓΡΑΜΜΑ ΕΚΚΛΗΣΙΑΣΤΙΚΗΣ ΜΟΥΣΙΚΗΣ ΚΑΙ ΨΑΛΤΙΚΗΣ...</td>\n",
       "      <td>ΓΕΛ ΓΕΝIKH ΣΕΙΡΑ ΗΜ.</td>\n",
       "      <td>9</td>\n",
       "      <td>9</td>\n",
       "      <td>9</td>\n",
       "      <td>9675</td>\n",
       "      <td>16,70 078,40</td>\n",
       "      <td>8567</td>\n",
       "      <td>13,50 071,60</td>\n",
       "    </tr>\n",
       "    <tr>\n",
       "      <th>23</th>\n",
       "      <td>418</td>\n",
       "      <td>ΑΕΑ ΚΡΗΤΗΣ</td>\n",
       "      <td>ΠΡΟΓΡΑΜΜΑ ΕΚΚΛΗΣΙΑΣΤΙΚΗΣ ΜΟΥΣΙΚΗΣ ΚΑΙ ΨΑΛΤΙΚΗΣ...</td>\n",
       "      <td>ΓΕΛ ΕΚΚΛΗΣΙΑΣΤΙΚΩΝ</td>\n",
       "      <td>1</td>\n",
       "      <td>1</td>\n",
       "      <td>1</td>\n",
       "      <td>4906</td>\n",
       "      <td>09,20 038,60</td>\n",
       "      <td>4906</td>\n",
       "      <td>09,20 038,60</td>\n",
       "    </tr>\n",
       "    <tr>\n",
       "      <th>24</th>\n",
       "      <td>416</td>\n",
       "      <td>ΑΕΑ ΚΡΗΤΗΣ</td>\n",
       "      <td>ΠΡΟΓΡΑΜΜΑ ΙΕΡΑΤΙΚΩΝ ΣΠΟΥΔΩΝ ΗΡΑΚΛΕΙΟΥ ΚΡΗΤΗΣ</td>\n",
       "      <td>ΓΕΛ ΓΕΝIKH ΣΕΙΡΑ ΗΜ.</td>\n",
       "      <td>54</td>\n",
       "      <td>54</td>\n",
       "      <td>54</td>\n",
       "      <td>12256</td>\n",
       "      <td>25,00 099,00</td>\n",
       "      <td>7657</td>\n",
       "      <td>16,50 058,60</td>\n",
       "    </tr>\n",
       "    <tr>\n",
       "      <th>25</th>\n",
       "      <td>416</td>\n",
       "      <td>ΑΕΑ ΚΡΗΤΗΣ</td>\n",
       "      <td>ΠΡΟΓΡΑΜΜΑ ΙΕΡΑΤΙΚΩΝ ΣΠΟΥΔΩΝ ΗΡΑΚΛΕΙΟΥ ΚΡΗΤΗΣ</td>\n",
       "      <td>ΓΕΛ ΕΚΚΛΗΣΙΑΣΤΙΚΩΝ</td>\n",
       "      <td>5</td>\n",
       "      <td>5</td>\n",
       "      <td>5</td>\n",
       "      <td>6568</td>\n",
       "      <td>13,00 050,40</td>\n",
       "      <td>5461</td>\n",
       "      <td>09,70 044,40</td>\n",
       "    </tr>\n",
       "    <tr>\n",
       "      <th>26</th>\n",
       "      <td>129</td>\n",
       "      <td>ΑΠΘ</td>\n",
       "      <td>ΑΓΓΛΙΚΗΣ ΓΛΩΣΣΑΣ ΚΑΙ ΦΙΛΟΛΟΓΙΑΣ (ΘΕΣΣΑΛΟΝΙΚΗ)</td>\n",
       "      <td>ΓΕΛ ΓΕΝIKH ΣΕΙΡΑ ΗΜ.</td>\n",
       "      <td>153</td>\n",
       "      <td>153</td>\n",
       "      <td>153</td>\n",
       "      <td>22126</td>\n",
       "      <td>37,20 147,40</td>\n",
       "      <td>19312</td>\n",
       "      <td>32,60 137,40</td>\n",
       "    </tr>\n",
       "    <tr>\n",
       "      <th>27</th>\n",
       "      <td>227</td>\n",
       "      <td>ΑΠΘ</td>\n",
       "      <td>ΑΓΡΟΝΟΜΩΝ ΚΑΙ ΤΟΠΟΓΡΑΦΩΝ ΜΗΧΑΝΙΚΩΝ (ΘΕΣΣΑΛΟΝΙΚΗ)</td>\n",
       "      <td>ΓΕΛ ΓΕΝIKH ΣΕΙΡΑ ΗΜ.</td>\n",
       "      <td>106</td>\n",
       "      <td>106</td>\n",
       "      <td>106</td>\n",
       "      <td>14271</td>\n",
       "      <td>28,50 114,00</td>\n",
       "      <td>11591</td>\n",
       "      <td>22,90 093,40</td>\n",
       "    </tr>\n",
       "    <tr>\n",
       "      <th>28</th>\n",
       "      <td>233</td>\n",
       "      <td>ΑΠΘ</td>\n",
       "      <td>ΑΡΧΙΤΕΚΤΟΝΩΝ ΜΗΧΑΝΙΚΩΝ (ΘΕΣΣΑΛΟΝΙΚΗ)</td>\n",
       "      <td>ΓΕΛ ΓΕΝIKH ΣΕΙΡΑ ΗΜ.</td>\n",
       "      <td>94</td>\n",
       "      <td>94</td>\n",
       "      <td>94</td>\n",
       "      <td>22506</td>\n",
       "      <td>39,40 149,60</td>\n",
       "      <td>16952</td>\n",
       "      <td>28,60 105,20</td>\n",
       "    </tr>\n",
       "    <tr>\n",
       "      <th>29</th>\n",
       "      <td>279</td>\n",
       "      <td>ΑΠΘ</td>\n",
       "      <td>ΒΙΟΛΟΓΙΑΣ (ΘΕΣΣΑΛΟΝΙΚΗ)</td>\n",
       "      <td>ΓΕΛ ΓΕΝIKH ΣΕΙΡΑ ΗΜ.</td>\n",
       "      <td>100</td>\n",
       "      <td>100</td>\n",
       "      <td>100</td>\n",
       "      <td>18288</td>\n",
       "      <td>37,20 145,20</td>\n",
       "      <td>17446</td>\n",
       "      <td>35,00 138,20</td>\n",
       "    </tr>\n",
       "    <tr>\n",
       "      <th>30</th>\n",
       "      <td>133</td>\n",
       "      <td>ΑΠΘ</td>\n",
       "      <td>ΓΑΛΛΙΚΗΣ ΓΛΩΣΣΑΣ ΚΑΙ ΦΙΛΟΛΟΓΙΑΣ (ΘΕΣΣΑΛΟΝΙΚΗ)</td>\n",
       "      <td>ΓΕΛ ΓΕΝIKH ΣΕΙΡΑ ΗΜ.</td>\n",
       "      <td>105</td>\n",
       "      <td>115</td>\n",
       "      <td>67</td>\n",
       "      <td>19636</td>\n",
       "      <td>32,40 130,60</td>\n",
       "      <td>5580</td>\n",
       "      <td>00,00 019,80</td>\n",
       "    </tr>\n",
       "    <tr>\n",
       "      <th>31</th>\n",
       "      <td>137</td>\n",
       "      <td>ΑΠΘ</td>\n",
       "      <td>ΓΕΡΜΑΝΙΚΗΣ ΓΛΩΣΣΑΣ ΚΑΙ ΦΙΛΟΛΟΓΙΑΣ (ΘΕΣΣΑΛΟΝΙΚΗ)</td>\n",
       "      <td>ΓΕΛ ΓΕΝIKH ΣΕΙΡΑ ΗΜ.</td>\n",
       "      <td>124</td>\n",
       "      <td>128</td>\n",
       "      <td>128</td>\n",
       "      <td>22379</td>\n",
       "      <td>36,50 147,80</td>\n",
       "      <td>11602</td>\n",
       "      <td>14,00 071,80</td>\n",
       "    </tr>\n",
       "    <tr>\n",
       "      <th>...</th>\n",
       "      <td>...</td>\n",
       "      <td>...</td>\n",
       "      <td>...</td>\n",
       "      <td>...</td>\n",
       "      <td>...</td>\n",
       "      <td>...</td>\n",
       "      <td>...</td>\n",
       "      <td>...</td>\n",
       "      <td>...</td>\n",
       "      <td>...</td>\n",
       "      <td>...</td>\n",
       "    </tr>\n",
       "    <tr>\n",
       "      <th>478</th>\n",
       "      <td>878</td>\n",
       "      <td>ΣΜΥΑ</td>\n",
       "      <td>ΜΟΝΙΜΩΝ ΥΠΑΞΙΩΜΑΤΙΚΩΝ ΑΕΡΟΠΟΡΙΑΣ (ΣΜΥΑ) - ΚΑΤΕ...</td>\n",
       "      <td>ΓΕΛ ΣΤΡΑΤΙΩΤΙΚΕΣ ΕΙΔ.ΚΑΤ.3648/α</td>\n",
       "      <td>30</td>\n",
       "      <td>30</td>\n",
       "      <td>30</td>\n",
       "      <td>15500</td>\n",
       "      <td>34,00 122,20 8 15,0</td>\n",
       "      <td>14534</td>\n",
       "      <td>30,00 115,40 6 14,9</td>\n",
       "    </tr>\n",
       "    <tr>\n",
       "      <th>479</th>\n",
       "      <td>864</td>\n",
       "      <td>ΣΜΥΝ</td>\n",
       "      <td>ΜΟΝΙΜΩΝ ΥΠΑΞΙΩΜΑΤΙΚΩΝ ΝΑΥΤΙΚΟΥ (Σ.Μ.Υ.Ν.)</td>\n",
       "      <td>ΓΕΛ ΓΕΝIKH ΣΕΙΡΑ ΗΜ.</td>\n",
       "      <td>39</td>\n",
       "      <td>44</td>\n",
       "      <td>44</td>\n",
       "      <td>16209</td>\n",
       "      <td>35,50 126,20 2 18,4</td>\n",
       "      <td>14557</td>\n",
       "      <td>31,10 115,40 15 14,0</td>\n",
       "    </tr>\n",
       "    <tr>\n",
       "      <th>480</th>\n",
       "      <td>864</td>\n",
       "      <td>ΣΜΥΝ</td>\n",
       "      <td>ΜΟΝΙΜΩΝ ΥΠΑΞΙΩΜΑΤΙΚΩΝ ΝΑΥΤΙΚΟΥ (Σ.Μ.Υ.Ν.)</td>\n",
       "      <td>ΓΕΛ ΣΤΡΑΤΙΩΤΙΚΕΣ ΕΙΔ.ΚΑΤ.3648/α</td>\n",
       "      <td>19</td>\n",
       "      <td>19</td>\n",
       "      <td>19</td>\n",
       "      <td>14522</td>\n",
       "      <td>31,80 114,20 6 14,6</td>\n",
       "      <td>13388</td>\n",
       "      <td>27,40 106,60 7 13,5</td>\n",
       "    </tr>\n",
       "    <tr>\n",
       "      <th>481</th>\n",
       "      <td>811</td>\n",
       "      <td>ΣΝΔ</td>\n",
       "      <td>ΝΑΥΤΙΚΩΝ ΔΟΚΙΜΩΝ (ΣΝΔ) ΜΑΧΙΜΟΙ</td>\n",
       "      <td>ΓΕΛ ΓΕΝIKH ΣΕΙΡΑ ΗΜ.</td>\n",
       "      <td>13</td>\n",
       "      <td>14</td>\n",
       "      <td>14</td>\n",
       "      <td>18562</td>\n",
       "      <td>39,40 146,40 1 19,4</td>\n",
       "      <td>16895</td>\n",
       "      <td>36,30 133,40 1 16,9</td>\n",
       "    </tr>\n",
       "    <tr>\n",
       "      <th>482</th>\n",
       "      <td>811</td>\n",
       "      <td>ΣΝΔ</td>\n",
       "      <td>ΝΑΥΤΙΚΩΝ ΔΟΚΙΜΩΝ (ΣΝΔ) ΜΑΧΙΜΟΙ</td>\n",
       "      <td>ΓΕΛ ΣΤΡΑΤΙΩΤΙΚΕΣ ΕΙΔ.ΚΑΤ.3648/α</td>\n",
       "      <td>6</td>\n",
       "      <td>6</td>\n",
       "      <td>6</td>\n",
       "      <td>16550</td>\n",
       "      <td>37,00 128,80 1 18,0</td>\n",
       "      <td>15515</td>\n",
       "      <td>32,50 122,20 3 17,0</td>\n",
       "    </tr>\n",
       "    <tr>\n",
       "      <th>483</th>\n",
       "      <td>816</td>\n",
       "      <td>ΣΝΔ</td>\n",
       "      <td>ΝΑΥΤΙΚΩΝ ΔΟΚΙΜΩΝ (ΣΝΔ) ΜΗΧΑΝΙΚΟΙ</td>\n",
       "      <td>ΓΕΛ ΓΕΝIKH ΣΕΙΡΑ ΗΜ.</td>\n",
       "      <td>6</td>\n",
       "      <td>7</td>\n",
       "      <td>7</td>\n",
       "      <td>18078</td>\n",
       "      <td>37,40 143,80 2 18,0</td>\n",
       "      <td>17463</td>\n",
       "      <td>36,90 137,40 17 19,0</td>\n",
       "    </tr>\n",
       "    <tr>\n",
       "      <th>484</th>\n",
       "      <td>816</td>\n",
       "      <td>ΣΝΔ</td>\n",
       "      <td>ΝΑΥΤΙΚΩΝ ΔΟΚΙΜΩΝ (ΣΝΔ) ΜΗΧΑΝΙΚΟΙ</td>\n",
       "      <td>ΓΕΛ ΣΤΡΑΤΙΩΤΙΚΕΣ ΕΙΔ.ΚΑΤ.3648/α</td>\n",
       "      <td>3</td>\n",
       "      <td>3</td>\n",
       "      <td>3</td>\n",
       "      <td>17402</td>\n",
       "      <td>35,80 137,80 3 18,6</td>\n",
       "      <td>17330</td>\n",
       "      <td>36,60 137,00 3 17,8</td>\n",
       "    </tr>\n",
       "    <tr>\n",
       "      <th>485</th>\n",
       "      <td>831</td>\n",
       "      <td>ΣΣΑΣ</td>\n",
       "      <td>ΙΑΤΡΙΚΟ (ΣΣΑΣ) ΘΕΣ/ΝΙΚΗΣ</td>\n",
       "      <td>ΓΕΛ ΓΕΝIKH ΣΕΙΡΑ ΗΜ.</td>\n",
       "      <td>17</td>\n",
       "      <td>17</td>\n",
       "      <td>17</td>\n",
       "      <td>19319</td>\n",
       "      <td>39,10 154,00 1 19,7</td>\n",
       "      <td>18674</td>\n",
       "      <td>37,80 148,40 1 19,8</td>\n",
       "    </tr>\n",
       "    <tr>\n",
       "      <th>486</th>\n",
       "      <td>831</td>\n",
       "      <td>ΣΣΑΣ</td>\n",
       "      <td>ΙΑΤΡΙΚΟ (ΣΣΑΣ) ΘΕΣ/ΝΙΚΗΣ</td>\n",
       "      <td>ΓΕΛ ΣΤΡΑΤΙΩΤΙΚΕΣ ΕΙΔ.ΚΑΤ.3648/α</td>\n",
       "      <td>7</td>\n",
       "      <td>7</td>\n",
       "      <td>7</td>\n",
       "      <td>18648</td>\n",
       "      <td>38,00 148,00 1 19,8</td>\n",
       "      <td>18254</td>\n",
       "      <td>37,40 144,60 1 19,6</td>\n",
       "    </tr>\n",
       "    <tr>\n",
       "      <th>487</th>\n",
       "      <td>831</td>\n",
       "      <td>ΣΣΑΣ</td>\n",
       "      <td>ΙΑΤΡΙΚΟ (ΣΣΑΣ) ΘΕΣ/ΝΙΚΗΣ</td>\n",
       "      <td>ΓΕΛ ΣΤΡΑΤΙΩΤΙΚΕΣ ΕΙΔ.ΚΑΤ.3648/β</td>\n",
       "      <td>1</td>\n",
       "      <td>1</td>\n",
       "      <td>1</td>\n",
       "      <td>15815</td>\n",
       "      <td>32,50 123,40 1 20,0</td>\n",
       "      <td>15815</td>\n",
       "      <td>32,50 123,40 1 20,0</td>\n",
       "    </tr>\n",
       "    <tr>\n",
       "      <th>488</th>\n",
       "      <td>841</td>\n",
       "      <td>ΣΣΑΣ</td>\n",
       "      <td>ΚΤΗΝΙΑΤΡΙΚΟ (ΣΣΑΣ) ΘΕΣ/ΝΙΚΗΣ</td>\n",
       "      <td>ΓΕΛ ΓΕΝIKH ΣΕΙΡΑ ΗΜ.</td>\n",
       "      <td>1</td>\n",
       "      <td>2</td>\n",
       "      <td>2</td>\n",
       "      <td>18163</td>\n",
       "      <td>36,70 144,00 3 19,9</td>\n",
       "      <td>18032</td>\n",
       "      <td>37,60 142,60 5 19,0</td>\n",
       "    </tr>\n",
       "    <tr>\n",
       "      <th>489</th>\n",
       "      <td>836</td>\n",
       "      <td>ΣΣΑΣ</td>\n",
       "      <td>ΟΔΟΝΤΙΑΤΡΙΚΟ (ΣΣΑΣ) ΘΕΣ/ΝΙΚΗΣ</td>\n",
       "      <td>ΓΕΛ ΓΕΝIKH ΣΕΙΡΑ ΗΜ.</td>\n",
       "      <td>2</td>\n",
       "      <td>2</td>\n",
       "      <td>2</td>\n",
       "      <td>18790</td>\n",
       "      <td>39,00 148,60 1 20,0</td>\n",
       "      <td>18490</td>\n",
       "      <td>36,60 147,40 2 19,8</td>\n",
       "    </tr>\n",
       "    <tr>\n",
       "      <th>490</th>\n",
       "      <td>836</td>\n",
       "      <td>ΣΣΑΣ</td>\n",
       "      <td>ΟΔΟΝΤΙΑΤΡΙΚΟ (ΣΣΑΣ) ΘΕΣ/ΝΙΚΗΣ</td>\n",
       "      <td>ΓΕΛ ΣΤΡΑΤΙΩΤΙΚΕΣ ΕΙΔ.ΚΑΤ.3648/β</td>\n",
       "      <td>1</td>\n",
       "      <td>1</td>\n",
       "      <td>1</td>\n",
       "      <td>5718</td>\n",
       "      <td>09,00 049,20 2 02,8</td>\n",
       "      <td>5718</td>\n",
       "      <td>09,00 049,20 2 02,8</td>\n",
       "    </tr>\n",
       "    <tr>\n",
       "      <th>491</th>\n",
       "      <td>867</td>\n",
       "      <td>ΣΣΑΣ</td>\n",
       "      <td>ΟΙΚΟΝΟΜΙΚΟ (ΣΣΑΣ) ΘΕΣ/ΝΙΚΗ</td>\n",
       "      <td>ΓΕΛ ΓΕΝIKH ΣΕΙΡΑ ΗΜ.</td>\n",
       "      <td>11</td>\n",
       "      <td>11</td>\n",
       "      <td>11</td>\n",
       "      <td>19514</td>\n",
       "      <td>39,80 155,40 1 19,8</td>\n",
       "      <td>18586</td>\n",
       "      <td>36,80 149,00 1 18,5</td>\n",
       "    </tr>\n",
       "    <tr>\n",
       "      <th>492</th>\n",
       "      <td>867</td>\n",
       "      <td>ΣΣΑΣ</td>\n",
       "      <td>ΟΙΚΟΝΟΜΙΚΟ (ΣΣΑΣ) ΘΕΣ/ΝΙΚΗ</td>\n",
       "      <td>ΓΕΛ ΣΤΡΑΤΙΩΤΙΚΕΣ ΕΙΔ.ΚΑΤ.3648/α</td>\n",
       "      <td>5</td>\n",
       "      <td>5</td>\n",
       "      <td>5</td>\n",
       "      <td>18585</td>\n",
       "      <td>38,50 147,20 1 19,5</td>\n",
       "      <td>18182</td>\n",
       "      <td>38,80 143,20 1 19,1</td>\n",
       "    </tr>\n",
       "    <tr>\n",
       "      <th>493</th>\n",
       "      <td>867</td>\n",
       "      <td>ΣΣΑΣ</td>\n",
       "      <td>ΟΙΚΟΝΟΜΙΚΟ (ΣΣΑΣ) ΘΕΣ/ΝΙΚΗ</td>\n",
       "      <td>ΓΕΛ ΣΤΡΑΤΙΩΤΙΚΕΣ ΕΙΔ.ΚΑΤ.3648/β</td>\n",
       "      <td>1</td>\n",
       "      <td>1</td>\n",
       "      <td>1</td>\n",
       "      <td>2840</td>\n",
       "      <td>04,00 025,60 1 00,0</td>\n",
       "      <td>2840</td>\n",
       "      <td>04,00 025,60 1 00,0</td>\n",
       "    </tr>\n",
       "    <tr>\n",
       "      <th>494</th>\n",
       "      <td>866</td>\n",
       "      <td>ΣΣΑΣ</td>\n",
       "      <td>ΣΤΡΑΤΟΛΟΓΙΚΟ - ΣΤΡΑΤΙΩΤ. ΝΟΜ. ΣΥΜΒ. (ΣΣΑΣ) ΘΕΣ...</td>\n",
       "      <td>ΓΕΛ ΓΕΝIKH ΣΕΙΡΑ ΗΜ.</td>\n",
       "      <td>8</td>\n",
       "      <td>8</td>\n",
       "      <td>8</td>\n",
       "      <td>19317</td>\n",
       "      <td>38,90 154,60 1 18,9</td>\n",
       "      <td>18735</td>\n",
       "      <td>37,70 149,80 1 18,6</td>\n",
       "    </tr>\n",
       "    <tr>\n",
       "      <th>495</th>\n",
       "      <td>866</td>\n",
       "      <td>ΣΣΑΣ</td>\n",
       "      <td>ΣΤΡΑΤΟΛΟΓΙΚΟ - ΣΤΡΑΤΙΩΤ. ΝΟΜ. ΣΥΜΒ. (ΣΣΑΣ) ΘΕΣ...</td>\n",
       "      <td>ΓΕΛ ΣΤΡΑΤΙΩΤΙΚΕΣ ΕΙΔ.ΚΑΤ.3648/α</td>\n",
       "      <td>4</td>\n",
       "      <td>4</td>\n",
       "      <td>4</td>\n",
       "      <td>18551</td>\n",
       "      <td>36,70 149,20 1 17,7</td>\n",
       "      <td>18205</td>\n",
       "      <td>35,70 147,40 1 16,1</td>\n",
       "    </tr>\n",
       "    <tr>\n",
       "      <th>496</th>\n",
       "      <td>866</td>\n",
       "      <td>ΣΣΑΣ</td>\n",
       "      <td>ΣΤΡΑΤΟΛΟΓΙΚΟ - ΣΤΡΑΤΙΩΤ. ΝΟΜ. ΣΥΜΒ. (ΣΣΑΣ) ΘΕΣ...</td>\n",
       "      <td>ΓΕΛ ΣΤΡΑΤΙΩΤΙΚΕΣ ΕΙΔ.ΚΑΤ.3648/β</td>\n",
       "      <td>1</td>\n",
       "      <td>1</td>\n",
       "      <td>1</td>\n",
       "      <td>17799</td>\n",
       "      <td>35,10 142,80 1 17,7</td>\n",
       "      <td>17799</td>\n",
       "      <td>35,10 142,80 1 17,7</td>\n",
       "    </tr>\n",
       "    <tr>\n",
       "      <th>497</th>\n",
       "      <td>846</td>\n",
       "      <td>ΣΣΑΣ</td>\n",
       "      <td>ΦΑΡΜΑΚΕΥΤΙΚΟ (ΣΣΑΣ) ΘΕΣ/ΝΙΚΗΣ</td>\n",
       "      <td>ΓΕΛ ΓΕΝIKH ΣΕΙΡΑ ΗΜ.</td>\n",
       "      <td>1</td>\n",
       "      <td>2</td>\n",
       "      <td>2</td>\n",
       "      <td>18684</td>\n",
       "      <td>38,80 147,80 1 19,8</td>\n",
       "      <td>18542</td>\n",
       "      <td>38,60 146,40 2 20,0</td>\n",
       "    </tr>\n",
       "    <tr>\n",
       "      <th>498</th>\n",
       "      <td>875</td>\n",
       "      <td>ΣΣΑΣ</td>\n",
       "      <td>ΨΥΧΟΛΟΓΩΝ (ΣΣΑΣ) ΘΕΣ/ΝΙΚΗ</td>\n",
       "      <td>ΓΕΛ ΓΕΝIKH ΣΕΙΡΑ ΗΜ.</td>\n",
       "      <td>1</td>\n",
       "      <td>1</td>\n",
       "      <td>1</td>\n",
       "      <td>19097</td>\n",
       "      <td>38,10 153,20 1 18,5</td>\n",
       "      <td>19097</td>\n",
       "      <td>38,10 153,20 1 18,5</td>\n",
       "    </tr>\n",
       "    <tr>\n",
       "      <th>499</th>\n",
       "      <td>875</td>\n",
       "      <td>ΣΣΑΣ</td>\n",
       "      <td>ΨΥΧΟΛΟΓΩΝ (ΣΣΑΣ) ΘΕΣ/ΝΙΚΗ</td>\n",
       "      <td>ΓΕΛ ΣΤΡΑΤΙΩΤΙΚΕΣ ΕΙΔ.ΚΑΤ.3648/β</td>\n",
       "      <td>1</td>\n",
       "      <td>1</td>\n",
       "      <td>1</td>\n",
       "      <td>16358</td>\n",
       "      <td>31,20 131,60 1 16,9</td>\n",
       "      <td>16358</td>\n",
       "      <td>31,20 131,60 1 16,9</td>\n",
       "    </tr>\n",
       "    <tr>\n",
       "      <th>500</th>\n",
       "      <td>801</td>\n",
       "      <td>ΣΣΕ</td>\n",
       "      <td>ΕΥΕΛΠΙΔΩΝ (ΣΣΕ) – ΟΠΛΑ</td>\n",
       "      <td>ΓΕΛ ΓΕΝIKH ΣΕΙΡΑ ΗΜ.</td>\n",
       "      <td>77</td>\n",
       "      <td>81</td>\n",
       "      <td>81</td>\n",
       "      <td>17764</td>\n",
       "      <td>38,80 138,60 1 19,8</td>\n",
       "      <td>15737</td>\n",
       "      <td>31,30 125,80 1 16,1</td>\n",
       "    </tr>\n",
       "    <tr>\n",
       "      <th>501</th>\n",
       "      <td>801</td>\n",
       "      <td>ΣΣΕ</td>\n",
       "      <td>ΕΥΕΛΠΙΔΩΝ (ΣΣΕ) – ΟΠΛΑ</td>\n",
       "      <td>ΓΕΛ ΣΤΡΑΤΙΩΤΙΚΕΣ ΕΙΔ.ΚΑΤ.3648/α</td>\n",
       "      <td>37</td>\n",
       "      <td>37</td>\n",
       "      <td>37</td>\n",
       "      <td>15724</td>\n",
       "      <td>34,40 123,20 2 16,6</td>\n",
       "      <td>14543</td>\n",
       "      <td>30,70 114,40 1 15,9</td>\n",
       "    </tr>\n",
       "    <tr>\n",
       "      <th>502</th>\n",
       "      <td>806</td>\n",
       "      <td>ΣΣΕ</td>\n",
       "      <td>ΕΥΕΛΠΙΔΩΝ (ΣΣΕ) – ΣΩΜΑΤΑ</td>\n",
       "      <td>ΓΕΛ ΓΕΝIKH ΣΕΙΡΑ ΗΜ.</td>\n",
       "      <td>19</td>\n",
       "      <td>20</td>\n",
       "      <td>20</td>\n",
       "      <td>18212</td>\n",
       "      <td>37,20 144,80 2 18,8</td>\n",
       "      <td>17039</td>\n",
       "      <td>38,50 131,80 1 19,4</td>\n",
       "    </tr>\n",
       "    <tr>\n",
       "      <th>503</th>\n",
       "      <td>806</td>\n",
       "      <td>ΣΣΕ</td>\n",
       "      <td>ΕΥΕΛΠΙΔΩΝ (ΣΣΕ) – ΣΩΜΑΤΑ</td>\n",
       "      <td>ΓΕΛ ΣΤΡΑΤΙΩΤΙΚΕΣ ΕΙΔ.ΚΑΤ.3648/α</td>\n",
       "      <td>10</td>\n",
       "      <td>10</td>\n",
       "      <td>10</td>\n",
       "      <td>17038</td>\n",
       "      <td>34,40 135,20 6 18,5</td>\n",
       "      <td>15964</td>\n",
       "      <td>31,20 127,00 3 18,0</td>\n",
       "    </tr>\n",
       "    <tr>\n",
       "      <th>504</th>\n",
       "      <td>356</td>\n",
       "      <td>ΧΑΡΟΚΟΠΕΙΟ</td>\n",
       "      <td>ΓΕΩΓΡΑΦΙΑΣ (ΑΘΗΝΑ)</td>\n",
       "      <td>ΓΕΛ ΓΕΝIKH ΣΕΙΡΑ ΗΜ.</td>\n",
       "      <td>61</td>\n",
       "      <td>61</td>\n",
       "      <td>61</td>\n",
       "      <td>11525</td>\n",
       "      <td>20,90 093,60</td>\n",
       "      <td>8647</td>\n",
       "      <td>13,90 071,40</td>\n",
       "    </tr>\n",
       "    <tr>\n",
       "      <th>505</th>\n",
       "      <td>294</td>\n",
       "      <td>ΧΑΡΟΚΟΠΕΙΟ</td>\n",
       "      <td>ΕΠΙΣΤΗΜΗΣ ΔΙΑΙΤΟΛΟΓΙΑΣ ΚΑΙ ΔΙΑΤΡΟΦΗΣ (ΑΘΗΝΑ)</td>\n",
       "      <td>ΓΕΛ ΓΕΝIKH ΣΕΙΡΑ ΗΜ.</td>\n",
       "      <td>64</td>\n",
       "      <td>64</td>\n",
       "      <td>64</td>\n",
       "      <td>18794</td>\n",
       "      <td>38,20 149,20</td>\n",
       "      <td>16980</td>\n",
       "      <td>31,40 137,80</td>\n",
       "    </tr>\n",
       "    <tr>\n",
       "      <th>506</th>\n",
       "      <td>144</td>\n",
       "      <td>ΧΑΡΟΚΟΠΕΙΟ</td>\n",
       "      <td>ΟΙΚΙΑΚΗΣ ΟΙΚΟΝΟΜΙΑΣ ΚΑΙ ΟΙΚΟΛΟΓΙΑΣ (ΑΘΗΝΑ)</td>\n",
       "      <td>ΓΕΛ ΓΕΝIKH ΣΕΙΡΑ ΗΜ.</td>\n",
       "      <td>74</td>\n",
       "      <td>74</td>\n",
       "      <td>74</td>\n",
       "      <td>14418</td>\n",
       "      <td>28,60 115,40</td>\n",
       "      <td>10379</td>\n",
       "      <td>18,70 086,80</td>\n",
       "    </tr>\n",
       "    <tr>\n",
       "      <th>507</th>\n",
       "      <td>412</td>\n",
       "      <td>ΧΑΡΟΚΟΠΕΙΟ</td>\n",
       "      <td>ΠΛΗΡΟΦΟΡΙΚΗΣ ΚΑΙ ΤΗΛΕΜΑΤΙΚΗΣ (ΑΘΗΝΑ)</td>\n",
       "      <td>ΓΕΛ ΓΕΝIKH ΣΕΙΡΑ ΗΜ.</td>\n",
       "      <td>99</td>\n",
       "      <td>99</td>\n",
       "      <td>99</td>\n",
       "      <td>16997</td>\n",
       "      <td>34,50 135,80</td>\n",
       "      <td>15139</td>\n",
       "      <td>27,90 123,40</td>\n",
       "    </tr>\n",
       "  </tbody>\n",
       "</table>\n",
       "<p>506 rows × 11 columns</p>\n",
       "</div>"
      ],
      "text/plain": [
       "    ΚΩΔΙΚΟΣ ΣΧΟΛΗΣ         ΙΔΡΥΜΑ  \\\n",
       "2              818         Α.Ε.Ν.   \n",
       "3              818         Α.Ε.Ν.   \n",
       "4              818         Α.Ε.Ν.   \n",
       "5              818         Α.Ε.Ν.   \n",
       "6              817         Α.Ε.Ν.   \n",
       "7              817         Α.Ε.Ν.   \n",
       "8              817         Α.Ε.Ν.   \n",
       "9              817         Α.Ε.Ν.   \n",
       "10             419     ΑΕΑ ΑΘΗΝΑΣ   \n",
       "11             419     ΑΕΑ ΑΘΗΝΑΣ   \n",
       "12             413     ΑΕΑ ΑΘΗΝΑΣ   \n",
       "13             413     ΑΕΑ ΑΘΗΝΑΣ   \n",
       "14             420  ΑΕΑ ΘΕΣ/ΝΙΚΗΣ   \n",
       "15             420  ΑΕΑ ΘΕΣ/ΝΙΚΗΣ   \n",
       "16             414  ΑΕΑ ΘΕΣ/ΝΙΚΗΣ   \n",
       "17             414  ΑΕΑ ΘΕΣ/ΝΙΚΗΣ   \n",
       "18             417  ΑΕΑ ΙΩΑΝΝΙΝΩΝ   \n",
       "19             417  ΑΕΑ ΙΩΑΝΝΙΝΩΝ   \n",
       "20             415  ΑΕΑ ΙΩΑΝΝΙΝΩΝ   \n",
       "21             415  ΑΕΑ ΙΩΑΝΝΙΝΩΝ   \n",
       "22             418     ΑΕΑ ΚΡΗΤΗΣ   \n",
       "23             418     ΑΕΑ ΚΡΗΤΗΣ   \n",
       "24             416     ΑΕΑ ΚΡΗΤΗΣ   \n",
       "25             416     ΑΕΑ ΚΡΗΤΗΣ   \n",
       "26             129            ΑΠΘ   \n",
       "27             227            ΑΠΘ   \n",
       "28             233            ΑΠΘ   \n",
       "29             279            ΑΠΘ   \n",
       "30             133            ΑΠΘ   \n",
       "31             137            ΑΠΘ   \n",
       "..             ...            ...   \n",
       "478            878           ΣΜΥΑ   \n",
       "479            864           ΣΜΥΝ   \n",
       "480            864           ΣΜΥΝ   \n",
       "481            811            ΣΝΔ   \n",
       "482            811            ΣΝΔ   \n",
       "483            816            ΣΝΔ   \n",
       "484            816            ΣΝΔ   \n",
       "485            831           ΣΣΑΣ   \n",
       "486            831           ΣΣΑΣ   \n",
       "487            831           ΣΣΑΣ   \n",
       "488            841           ΣΣΑΣ   \n",
       "489            836           ΣΣΑΣ   \n",
       "490            836           ΣΣΑΣ   \n",
       "491            867           ΣΣΑΣ   \n",
       "492            867           ΣΣΑΣ   \n",
       "493            867           ΣΣΑΣ   \n",
       "494            866           ΣΣΑΣ   \n",
       "495            866           ΣΣΑΣ   \n",
       "496            866           ΣΣΑΣ   \n",
       "497            846           ΣΣΑΣ   \n",
       "498            875           ΣΣΑΣ   \n",
       "499            875           ΣΣΑΣ   \n",
       "500            801            ΣΣΕ   \n",
       "501            801            ΣΣΕ   \n",
       "502            806            ΣΣΕ   \n",
       "503            806            ΣΣΕ   \n",
       "504            356     ΧΑΡΟΚΟΠΕΙΟ   \n",
       "505            294     ΧΑΡΟΚΟΠΕΙΟ   \n",
       "506            144     ΧΑΡΟΚΟΠΕΙΟ   \n",
       "507            412     ΧΑΡΟΚΟΠΕΙΟ   \n",
       "\n",
       "                                          ΟΝΟΜΑ ΣΧΟΛΗΣ  \\\n",
       "2                                      ΣΧΟΛΗ ΜΗΧΑΝΙΚΩΝ   \n",
       "3                                      ΣΧΟΛΗ ΜΗΧΑΝΙΚΩΝ   \n",
       "4                                      ΣΧΟΛΗ ΜΗΧΑΝΙΚΩΝ   \n",
       "5                                      ΣΧΟΛΗ ΜΗΧΑΝΙΚΩΝ   \n",
       "6                                      ΣΧΟΛΗ ΠΛΟΙΑΡΧΩΝ   \n",
       "7                                      ΣΧΟΛΗ ΠΛΟΙΑΡΧΩΝ   \n",
       "8                                      ΣΧΟΛΗ ΠΛΟΙΑΡΧΩΝ   \n",
       "9                                      ΣΧΟΛΗ ΠΛΟΙΑΡΧΩΝ   \n",
       "10   ΠΡΟΓΡΑΜΜΑ ΔΙΑΧΕΙΡΙΣΗΣ ΕΚΚΛΗΣΙΑΣΤΙΚΩΝ ΚΕΙΜΗΛΙΩΝ...   \n",
       "11   ΠΡΟΓΡΑΜΜΑ ΔΙΑΧΕΙΡΙΣΗΣ ΕΚΚΛΗΣΙΑΣΤΙΚΩΝ ΚΕΙΜΗΛΙΩΝ...   \n",
       "12                  ΠΡΟΓΡΑΜΜΑ ΙΕΡΑΤΙΚΩΝ ΣΠΟΥΔΩΝ ΑΘΗΝΑΣ   \n",
       "13                  ΠΡΟΓΡΑΜΜΑ ΙΕΡΑΤΙΚΩΝ ΣΠΟΥΔΩΝ ΑΘΗΝΑΣ   \n",
       "14   ΠΡΟΓΡΑΜΜΑ ΔΙΑΧΕΙΡΙΣΗΣ ΕΚΚΛΗΣΙΑΣΤΙΚΩΝ ΚΕΙΜΗΛΙΩΝ...   \n",
       "15   ΠΡΟΓΡΑΜΜΑ ΔΙΑΧΕΙΡΙΣΗΣ ΕΚΚΛΗΣΙΑΣΤΙΚΩΝ ΚΕΙΜΗΛΙΩΝ...   \n",
       "16               ΠΡΟΓΡΑΜΜΑ ΙΕΡΑΤΙΚΩΝ ΣΠΟΥΔΩΝ ΘΕΣ/ΝΙΚΗΣ   \n",
       "17               ΠΡΟΓΡΑΜΜΑ ΙΕΡΑΤΙΚΩΝ ΣΠΟΥΔΩΝ ΘΕΣ/ΝΙΚΗΣ   \n",
       "18   ΠΡΟΓΡΑΜΜΑ ΕΚΚΛΗΣΙΑΣΤΙΚΗΣ ΜΟΥΣΙΚΗΣ ΚΑΙ ΨΑΛΤΙΚΗΣ...   \n",
       "19   ΠΡΟΓΡΑΜΜΑ ΕΚΚΛΗΣΙΑΣΤΙΚΗΣ ΜΟΥΣΙΚΗΣ ΚΑΙ ΨΑΛΤΙΚΗΣ...   \n",
       "20        ΠΡΟΓΡΑΜΜΑ ΙΕΡΑΤΙΚΩΝ ΣΠΟΥΔΩΝ ΒΕΛΛΑΣ ΙΩΑΝΝΙΝΩΝ   \n",
       "21        ΠΡΟΓΡΑΜΜΑ ΙΕΡΑΤΙΚΩΝ ΣΠΟΥΔΩΝ ΒΕΛΛΑΣ ΙΩΑΝΝΙΝΩΝ   \n",
       "22   ΠΡΟΓΡΑΜΜΑ ΕΚΚΛΗΣΙΑΣΤΙΚΗΣ ΜΟΥΣΙΚΗΣ ΚΑΙ ΨΑΛΤΙΚΗΣ...   \n",
       "23   ΠΡΟΓΡΑΜΜΑ ΕΚΚΛΗΣΙΑΣΤΙΚΗΣ ΜΟΥΣΙΚΗΣ ΚΑΙ ΨΑΛΤΙΚΗΣ...   \n",
       "24        ΠΡΟΓΡΑΜΜΑ ΙΕΡΑΤΙΚΩΝ ΣΠΟΥΔΩΝ ΗΡΑΚΛΕΙΟΥ ΚΡΗΤΗΣ   \n",
       "25        ΠΡΟΓΡΑΜΜΑ ΙΕΡΑΤΙΚΩΝ ΣΠΟΥΔΩΝ ΗΡΑΚΛΕΙΟΥ ΚΡΗΤΗΣ   \n",
       "26       ΑΓΓΛΙΚΗΣ ΓΛΩΣΣΑΣ ΚΑΙ ΦΙΛΟΛΟΓΙΑΣ (ΘΕΣΣΑΛΟΝΙΚΗ)   \n",
       "27    ΑΓΡΟΝΟΜΩΝ ΚΑΙ ΤΟΠΟΓΡΑΦΩΝ ΜΗΧΑΝΙΚΩΝ (ΘΕΣΣΑΛΟΝΙΚΗ)   \n",
       "28                ΑΡΧΙΤΕΚΤΟΝΩΝ ΜΗΧΑΝΙΚΩΝ (ΘΕΣΣΑΛΟΝΙΚΗ)   \n",
       "29                             ΒΙΟΛΟΓΙΑΣ (ΘΕΣΣΑΛΟΝΙΚΗ)   \n",
       "30       ΓΑΛΛΙΚΗΣ ΓΛΩΣΣΑΣ ΚΑΙ ΦΙΛΟΛΟΓΙΑΣ (ΘΕΣΣΑΛΟΝΙΚΗ)   \n",
       "31     ΓΕΡΜΑΝΙΚΗΣ ΓΛΩΣΣΑΣ ΚΑΙ ΦΙΛΟΛΟΓΙΑΣ (ΘΕΣΣΑΛΟΝΙΚΗ)   \n",
       "..                                                 ...   \n",
       "478  ΜΟΝΙΜΩΝ ΥΠΑΞΙΩΜΑΤΙΚΩΝ ΑΕΡΟΠΟΡΙΑΣ (ΣΜΥΑ) - ΚΑΤΕ...   \n",
       "479          ΜΟΝΙΜΩΝ ΥΠΑΞΙΩΜΑΤΙΚΩΝ ΝΑΥΤΙΚΟΥ (Σ.Μ.Υ.Ν.)   \n",
       "480          ΜΟΝΙΜΩΝ ΥΠΑΞΙΩΜΑΤΙΚΩΝ ΝΑΥΤΙΚΟΥ (Σ.Μ.Υ.Ν.)   \n",
       "481                     ΝΑΥΤΙΚΩΝ ΔΟΚΙΜΩΝ (ΣΝΔ) ΜΑΧΙΜΟΙ   \n",
       "482                     ΝΑΥΤΙΚΩΝ ΔΟΚΙΜΩΝ (ΣΝΔ) ΜΑΧΙΜΟΙ   \n",
       "483                   ΝΑΥΤΙΚΩΝ ΔΟΚΙΜΩΝ (ΣΝΔ) ΜΗΧΑΝΙΚΟΙ   \n",
       "484                   ΝΑΥΤΙΚΩΝ ΔΟΚΙΜΩΝ (ΣΝΔ) ΜΗΧΑΝΙΚΟΙ   \n",
       "485                           ΙΑΤΡΙΚΟ (ΣΣΑΣ) ΘΕΣ/ΝΙΚΗΣ   \n",
       "486                           ΙΑΤΡΙΚΟ (ΣΣΑΣ) ΘΕΣ/ΝΙΚΗΣ   \n",
       "487                           ΙΑΤΡΙΚΟ (ΣΣΑΣ) ΘΕΣ/ΝΙΚΗΣ   \n",
       "488                       ΚΤΗΝΙΑΤΡΙΚΟ (ΣΣΑΣ) ΘΕΣ/ΝΙΚΗΣ   \n",
       "489                      ΟΔΟΝΤΙΑΤΡΙΚΟ (ΣΣΑΣ) ΘΕΣ/ΝΙΚΗΣ   \n",
       "490                      ΟΔΟΝΤΙΑΤΡΙΚΟ (ΣΣΑΣ) ΘΕΣ/ΝΙΚΗΣ   \n",
       "491                         ΟΙΚΟΝΟΜΙΚΟ (ΣΣΑΣ) ΘΕΣ/ΝΙΚΗ   \n",
       "492                         ΟΙΚΟΝΟΜΙΚΟ (ΣΣΑΣ) ΘΕΣ/ΝΙΚΗ   \n",
       "493                         ΟΙΚΟΝΟΜΙΚΟ (ΣΣΑΣ) ΘΕΣ/ΝΙΚΗ   \n",
       "494  ΣΤΡΑΤΟΛΟΓΙΚΟ - ΣΤΡΑΤΙΩΤ. ΝΟΜ. ΣΥΜΒ. (ΣΣΑΣ) ΘΕΣ...   \n",
       "495  ΣΤΡΑΤΟΛΟΓΙΚΟ - ΣΤΡΑΤΙΩΤ. ΝΟΜ. ΣΥΜΒ. (ΣΣΑΣ) ΘΕΣ...   \n",
       "496  ΣΤΡΑΤΟΛΟΓΙΚΟ - ΣΤΡΑΤΙΩΤ. ΝΟΜ. ΣΥΜΒ. (ΣΣΑΣ) ΘΕΣ...   \n",
       "497                      ΦΑΡΜΑΚΕΥΤΙΚΟ (ΣΣΑΣ) ΘΕΣ/ΝΙΚΗΣ   \n",
       "498                          ΨΥΧΟΛΟΓΩΝ (ΣΣΑΣ) ΘΕΣ/ΝΙΚΗ   \n",
       "499                          ΨΥΧΟΛΟΓΩΝ (ΣΣΑΣ) ΘΕΣ/ΝΙΚΗ   \n",
       "500                             ΕΥΕΛΠΙΔΩΝ (ΣΣΕ) – ΟΠΛΑ   \n",
       "501                             ΕΥΕΛΠΙΔΩΝ (ΣΣΕ) – ΟΠΛΑ   \n",
       "502                           ΕΥΕΛΠΙΔΩΝ (ΣΣΕ) – ΣΩΜΑΤΑ   \n",
       "503                           ΕΥΕΛΠΙΔΩΝ (ΣΣΕ) – ΣΩΜΑΤΑ   \n",
       "504                                 ΓΕΩΓΡΑΦΙΑΣ (ΑΘΗΝΑ)   \n",
       "505       ΕΠΙΣΤΗΜΗΣ ΔΙΑΙΤΟΛΟΓΙΑΣ ΚΑΙ ΔΙΑΤΡΟΦΗΣ (ΑΘΗΝΑ)   \n",
       "506         ΟΙΚΙΑΚΗΣ ΟΙΚΟΝΟΜΙΑΣ ΚΑΙ ΟΙΚΟΛΟΓΙΑΣ (ΑΘΗΝΑ)   \n",
       "507               ΠΛΗΡΟΦΟΡΙΚΗΣ ΚΑΙ ΤΗΛΕΜΑΤΙΚΗΣ (ΑΘΗΝΑ)   \n",
       "\n",
       "                         ΕΙΔΟΣ ΘΕΣΗΣ ΑΡΧΙΚΕΣ ΘΕΣΕΙΣ  \\\n",
       "2               ΓΕΛ ΓΕΝIKH ΣΕΙΡΑ ΗΜ.            241   \n",
       "3     ΓΕΛ ΑΕΝ ΕΙΔ.ΚΑΤ.ΠΟΛΥΤΕΚΝΟΙ 10%             24   \n",
       "4      ΓΕΛ ΑΕΝ ΕΙΔ.ΚΑΤ. ΤΡΙΤΕΚΝΟΙ 3%              7   \n",
       "5    ΓΕΛ ΑΕΝ ΕΙΔ.ΚΑΤ. ΚΟΙΝ. ΚΡΙΤΗΡΙΑ              5   \n",
       "6               ΓΕΛ ΓΕΝIKH ΣΕΙΡΑ ΗΜ.            332   \n",
       "7     ΓΕΛ ΑΕΝ ΕΙΔ.ΚΑΤ.ΠΟΛΥΤΕΚΝΟΙ 10%             33   \n",
       "8      ΓΕΛ ΑΕΝ ΕΙΔ.ΚΑΤ. ΤΡΙΤΕΚΝΟΙ 3%             10   \n",
       "9    ΓΕΛ ΑΕΝ ΕΙΔ.ΚΑΤ. ΚΟΙΝ. ΚΡΙΤΗΡΙΑ              6   \n",
       "10              ΓΕΛ ΓΕΝIKH ΣΕΙΡΑ ΗΜ.              9   \n",
       "11                ΓΕΛ ΕΚΚΛΗΣΙΑΣΤΙΚΩΝ              1   \n",
       "12              ΓΕΛ ΓΕΝIKH ΣΕΙΡΑ ΗΜ.             36   \n",
       "13                ΓΕΛ ΕΚΚΛΗΣΙΑΣΤΙΚΩΝ              3   \n",
       "14              ΓΕΛ ΓΕΝIKH ΣΕΙΡΑ ΗΜ.              9   \n",
       "15                ΓΕΛ ΕΚΚΛΗΣΙΑΣΤΙΚΩΝ              1   \n",
       "16              ΓΕΛ ΓΕΝIKH ΣΕΙΡΑ ΗΜ.             18   \n",
       "17                ΓΕΛ ΕΚΚΛΗΣΙΑΣΤΙΚΩΝ              1   \n",
       "18              ΓΕΛ ΓΕΝIKH ΣΕΙΡΑ ΗΜ.              9   \n",
       "19                ΓΕΛ ΕΚΚΛΗΣΙΑΣΤΙΚΩΝ              1   \n",
       "20              ΓΕΛ ΓΕΝIKH ΣΕΙΡΑ ΗΜ.             36   \n",
       "21                ΓΕΛ ΕΚΚΛΗΣΙΑΣΤΙΚΩΝ              3   \n",
       "22              ΓΕΛ ΓΕΝIKH ΣΕΙΡΑ ΗΜ.              9   \n",
       "23                ΓΕΛ ΕΚΚΛΗΣΙΑΣΤΙΚΩΝ              1   \n",
       "24              ΓΕΛ ΓΕΝIKH ΣΕΙΡΑ ΗΜ.             54   \n",
       "25                ΓΕΛ ΕΚΚΛΗΣΙΑΣΤΙΚΩΝ              5   \n",
       "26              ΓΕΛ ΓΕΝIKH ΣΕΙΡΑ ΗΜ.            153   \n",
       "27              ΓΕΛ ΓΕΝIKH ΣΕΙΡΑ ΗΜ.            106   \n",
       "28              ΓΕΛ ΓΕΝIKH ΣΕΙΡΑ ΗΜ.             94   \n",
       "29              ΓΕΛ ΓΕΝIKH ΣΕΙΡΑ ΗΜ.            100   \n",
       "30              ΓΕΛ ΓΕΝIKH ΣΕΙΡΑ ΗΜ.            105   \n",
       "31              ΓΕΛ ΓΕΝIKH ΣΕΙΡΑ ΗΜ.            124   \n",
       "..                               ...            ...   \n",
       "478  ΓΕΛ ΣΤΡΑΤΙΩΤΙΚΕΣ ΕΙΔ.ΚΑΤ.3648/α             30   \n",
       "479             ΓΕΛ ΓΕΝIKH ΣΕΙΡΑ ΗΜ.             39   \n",
       "480  ΓΕΛ ΣΤΡΑΤΙΩΤΙΚΕΣ ΕΙΔ.ΚΑΤ.3648/α             19   \n",
       "481             ΓΕΛ ΓΕΝIKH ΣΕΙΡΑ ΗΜ.             13   \n",
       "482  ΓΕΛ ΣΤΡΑΤΙΩΤΙΚΕΣ ΕΙΔ.ΚΑΤ.3648/α              6   \n",
       "483             ΓΕΛ ΓΕΝIKH ΣΕΙΡΑ ΗΜ.              6   \n",
       "484  ΓΕΛ ΣΤΡΑΤΙΩΤΙΚΕΣ ΕΙΔ.ΚΑΤ.3648/α              3   \n",
       "485             ΓΕΛ ΓΕΝIKH ΣΕΙΡΑ ΗΜ.             17   \n",
       "486  ΓΕΛ ΣΤΡΑΤΙΩΤΙΚΕΣ ΕΙΔ.ΚΑΤ.3648/α              7   \n",
       "487  ΓΕΛ ΣΤΡΑΤΙΩΤΙΚΕΣ ΕΙΔ.ΚΑΤ.3648/β              1   \n",
       "488             ΓΕΛ ΓΕΝIKH ΣΕΙΡΑ ΗΜ.              1   \n",
       "489             ΓΕΛ ΓΕΝIKH ΣΕΙΡΑ ΗΜ.              2   \n",
       "490  ΓΕΛ ΣΤΡΑΤΙΩΤΙΚΕΣ ΕΙΔ.ΚΑΤ.3648/β              1   \n",
       "491             ΓΕΛ ΓΕΝIKH ΣΕΙΡΑ ΗΜ.             11   \n",
       "492  ΓΕΛ ΣΤΡΑΤΙΩΤΙΚΕΣ ΕΙΔ.ΚΑΤ.3648/α              5   \n",
       "493  ΓΕΛ ΣΤΡΑΤΙΩΤΙΚΕΣ ΕΙΔ.ΚΑΤ.3648/β              1   \n",
       "494             ΓΕΛ ΓΕΝIKH ΣΕΙΡΑ ΗΜ.              8   \n",
       "495  ΓΕΛ ΣΤΡΑΤΙΩΤΙΚΕΣ ΕΙΔ.ΚΑΤ.3648/α              4   \n",
       "496  ΓΕΛ ΣΤΡΑΤΙΩΤΙΚΕΣ ΕΙΔ.ΚΑΤ.3648/β              1   \n",
       "497             ΓΕΛ ΓΕΝIKH ΣΕΙΡΑ ΗΜ.              1   \n",
       "498             ΓΕΛ ΓΕΝIKH ΣΕΙΡΑ ΗΜ.              1   \n",
       "499  ΓΕΛ ΣΤΡΑΤΙΩΤΙΚΕΣ ΕΙΔ.ΚΑΤ.3648/β              1   \n",
       "500             ΓΕΛ ΓΕΝIKH ΣΕΙΡΑ ΗΜ.             77   \n",
       "501  ΓΕΛ ΣΤΡΑΤΙΩΤΙΚΕΣ ΕΙΔ.ΚΑΤ.3648/α             37   \n",
       "502             ΓΕΛ ΓΕΝIKH ΣΕΙΡΑ ΗΜ.             19   \n",
       "503  ΓΕΛ ΣΤΡΑΤΙΩΤΙΚΕΣ ΕΙΔ.ΚΑΤ.3648/α             10   \n",
       "504             ΓΕΛ ΓΕΝIKH ΣΕΙΡΑ ΗΜ.             61   \n",
       "505             ΓΕΛ ΓΕΝIKH ΣΕΙΡΑ ΗΜ.             64   \n",
       "506             ΓΕΛ ΓΕΝIKH ΣΕΙΡΑ ΗΜ.             74   \n",
       "507             ΓΕΛ ΓΕΝIKH ΣΕΙΡΑ ΗΜ.             99   \n",
       "\n",
       "    ΘΕΣΕΙΣ (Κατόπιν Μεταφοράς) ΕΠΙΤ/ΤΕΣ ΒΑΘΜΟΣ ΠΡΩΤΟΥ  ΚΡΙΤΗΡΙΑ ΙΣΟΒΑΘΜΙΑΣ  \\\n",
       "2                          249      249         16809         32,90 136,00   \n",
       "3                           24       24          7927         17,70 061,60   \n",
       "4                            7        7          8286         16,40 068,80   \n",
       "5                            5        5          8398         12,00 071,20   \n",
       "6                          334      334         17316         34,40 138,40   \n",
       "7                           33       33          9551         17,90 081,00   \n",
       "8                           10       10          9820         17,40 082,00   \n",
       "9                            6        6          9591         17,50 080,00   \n",
       "10                           9        9         10275         18,50 082,00   \n",
       "11                           1        0           NaN                  NaN   \n",
       "12                          36       36         12396         24,00 099,00   \n",
       "13                           3        3          8097         13,50 065,40   \n",
       "14                           9        9         10478         22,60 081,40   \n",
       "15                           1        1          2933         01,30 028,00   \n",
       "16                          18       18         11437         18,70 093,60   \n",
       "17                           1        1          5829         09,30 046,20   \n",
       "18                           9        9         10747         20,10 088,60   \n",
       "19                           1        1          6583         11,30 053,60   \n",
       "20                          36       36         10018         21,80 078,20   \n",
       "21                           3        3          7373         16,10 057,00   \n",
       "22                           9        9          9675         16,70 078,40   \n",
       "23                           1        1          4906         09,20 038,60   \n",
       "24                          54       54         12256         25,00 099,00   \n",
       "25                           5        5          6568         13,00 050,40   \n",
       "26                         153      153         22126         37,20 147,40   \n",
       "27                         106      106         14271         28,50 114,00   \n",
       "28                          94       94         22506         39,40 149,60   \n",
       "29                         100      100         18288         37,20 145,20   \n",
       "30                         115       67         19636         32,40 130,60   \n",
       "31                         128      128         22379         36,50 147,80   \n",
       "..                         ...      ...           ...                  ...   \n",
       "478                         30       30         15500  34,00 122,20 8 15,0   \n",
       "479                         44       44         16209  35,50 126,20 2 18,4   \n",
       "480                         19       19         14522  31,80 114,20 6 14,6   \n",
       "481                         14       14         18562  39,40 146,40 1 19,4   \n",
       "482                          6        6         16550  37,00 128,80 1 18,0   \n",
       "483                          7        7         18078  37,40 143,80 2 18,0   \n",
       "484                          3        3         17402  35,80 137,80 3 18,6   \n",
       "485                         17       17         19319  39,10 154,00 1 19,7   \n",
       "486                          7        7         18648  38,00 148,00 1 19,8   \n",
       "487                          1        1         15815  32,50 123,40 1 20,0   \n",
       "488                          2        2         18163  36,70 144,00 3 19,9   \n",
       "489                          2        2         18790  39,00 148,60 1 20,0   \n",
       "490                          1        1          5718  09,00 049,20 2 02,8   \n",
       "491                         11       11         19514  39,80 155,40 1 19,8   \n",
       "492                          5        5         18585  38,50 147,20 1 19,5   \n",
       "493                          1        1          2840  04,00 025,60 1 00,0   \n",
       "494                          8        8         19317  38,90 154,60 1 18,9   \n",
       "495                          4        4         18551  36,70 149,20 1 17,7   \n",
       "496                          1        1         17799  35,10 142,80 1 17,7   \n",
       "497                          2        2         18684  38,80 147,80 1 19,8   \n",
       "498                          1        1         19097  38,10 153,20 1 18,5   \n",
       "499                          1        1         16358  31,20 131,60 1 16,9   \n",
       "500                         81       81         17764  38,80 138,60 1 19,8   \n",
       "501                         37       37         15724  34,40 123,20 2 16,6   \n",
       "502                         20       20         18212  37,20 144,80 2 18,8   \n",
       "503                         10       10         17038  34,40 135,20 6 18,5   \n",
       "504                         61       61         11525         20,90 093,60   \n",
       "505                         64       64         18794         38,20 149,20   \n",
       "506                         74       74         14418         28,60 115,40   \n",
       "507                         99       99         16997         34,50 135,80   \n",
       "\n",
       "    ΒΑΘΜΟΣ ΤΕΛΕΥΤΑΙΟΥ   ΚΡΙΤΗΡΙΑ ΙΣΟΒΑΘΜΙΑΣ  \n",
       "2                8468          20,20 065,80  \n",
       "3                4846          10,00 041,40  \n",
       "4                8089          15,50 066,20  \n",
       "5                6826          12,40 057,00  \n",
       "6                9827          16,10 085,20  \n",
       "7                5909          07,70 052,80  \n",
       "8                9363          19,50 072,60  \n",
       "9                7373          12,50 061,20  \n",
       "10               6551          07,10 057,60  \n",
       "11                NaN                   NaN  \n",
       "12               8197          13,30 066,60  \n",
       "13               5847          12,10 045,80  \n",
       "14               7376          08,80 067,60  \n",
       "15               2933          01,30 028,00  \n",
       "16               8244          14,40 068,40  \n",
       "17               5829          09,30 046,20  \n",
       "18               8575          13,70 070,40  \n",
       "19               6583          11,30 053,60  \n",
       "20               7887          09,70 068,00  \n",
       "21               4931          08,30 040,20  \n",
       "22               8567          13,50 071,60  \n",
       "23               4906          09,20 038,60  \n",
       "24               7657          16,50 058,60  \n",
       "25               5461          09,70 044,40  \n",
       "26              19312          32,60 137,40  \n",
       "27              11591          22,90 093,40  \n",
       "28              16952          28,60 105,20  \n",
       "29              17446          35,00 138,20  \n",
       "30               5580          00,00 019,80  \n",
       "31              11602          14,00 071,80  \n",
       "..                ...                   ...  \n",
       "478             14534   30,00 115,40 6 14,9  \n",
       "479             14557  31,10 115,40 15 14,0  \n",
       "480             13388   27,40 106,60 7 13,5  \n",
       "481             16895   36,30 133,40 1 16,9  \n",
       "482             15515   32,50 122,20 3 17,0  \n",
       "483             17463  36,90 137,40 17 19,0  \n",
       "484             17330   36,60 137,00 3 17,8  \n",
       "485             18674   37,80 148,40 1 19,8  \n",
       "486             18254   37,40 144,60 1 19,6  \n",
       "487             15815   32,50 123,40 1 20,0  \n",
       "488             18032   37,60 142,60 5 19,0  \n",
       "489             18490   36,60 147,40 2 19,8  \n",
       "490              5718   09,00 049,20 2 02,8  \n",
       "491             18586   36,80 149,00 1 18,5  \n",
       "492             18182   38,80 143,20 1 19,1  \n",
       "493              2840   04,00 025,60 1 00,0  \n",
       "494             18735   37,70 149,80 1 18,6  \n",
       "495             18205   35,70 147,40 1 16,1  \n",
       "496             17799   35,10 142,80 1 17,7  \n",
       "497             18542   38,60 146,40 2 20,0  \n",
       "498             19097   38,10 153,20 1 18,5  \n",
       "499             16358   31,20 131,60 1 16,9  \n",
       "500             15737   31,30 125,80 1 16,1  \n",
       "501             14543   30,70 114,40 1 15,9  \n",
       "502             17039   38,50 131,80 1 19,4  \n",
       "503             15964   31,20 127,00 3 18,0  \n",
       "504              8647          13,90 071,40  \n",
       "505             16980          31,40 137,80  \n",
       "506             10379          18,70 086,80  \n",
       "507             15139          27,90 123,40  \n",
       "\n",
       "[506 rows x 11 columns]"
      ]
     },
     "execution_count": 49,
     "metadata": {},
     "output_type": "execute_result"
    }
   ],
   "source": [
    "import pandas as pd\n",
    "df = pd.read_excel('baseis.xls')\n",
    "\n",
    "line_1 = df.iloc[0].values\n",
    "line_2 = df.iloc[1].values\n",
    "\n",
    "columns = [y if pd.isna(x) else x for x,y in zip(line_1, line_2)]\n",
    "\n",
    "df.columns = columns\n",
    "df = df[2:-1]\n",
    "df['ΚΩΔΙΚΟΣ ΣΧΟΛΗΣ'] = df['ΚΩΔΙΚΟΣ ΣΧΟΛΗΣ'].astype(str)\n",
    "#df = df.set_index(['ΚΩΔΙΚΟΣ ΣΧΟΛΗΣ', 'ΕΙΔΟΣ ΘΕΣΗΣ'])\n",
    "\n",
    "df"
   ]
  },
  {
   "cell_type": "markdown",
   "metadata": {},
   "source": [
    "Η \"βάση\" μιας σχολής αναφέρεται στη στήλη: \"ΒΑΘΜΟΣ ΤΕΛΕΥΤΑΙΟΥ\". Επίσης θα ασχοληθούμε μόνο με τις εγγραφές με \"ΕΙΔΟΣ ΘΕΣΗΣ\"=\"ΓΕΛ ΓΕΝIKH ΣΕΙΡΑ ΗΜ.\"\n",
    "\n",
    "Απαντήστε στις παρακάτω ερωτήσεις:\n",
    "* Ποιο είναι το \"ΙΔΡΥΜΑ\" με το μεγαλύτερο μέσο όρο βάσεων των σχολών του;\n",
    "* Ποιο είναι το \"ΙΔΡΥΜΑ\" με το μικρότερο μέσο όρο βάσεων των σχολών του;\n",
    "* Σε ποια σχολή υπάρχει η μεγαλύτερη διαφορά μεταξύ \"ΒΑΘΜΟΣ ΠΡΩΤΟΥ\" και \"ΒΑΘΜΟΣ ΤΕΛΕΥΤΑΙΟΥ\";\n",
    "* Πόσο είναι το άθροισμα των \"ΕΠΙΤ/ΤΕΣ\" για τις σχολές που έχουν βάση <10000 ;"
   ]
  },
  {
   "cell_type": "markdown",
   "metadata": {},
   "source": [
    "### Άσκηση 9\n",
    "(Συνεχίζουμε από την άσκηση 8)\n",
    "Κάντε ένα bar plot με το πλήθος των επιτυχόντων ανα σχολή. Δίνεται (ενδεικτικά) το πλοτ όπως το έκανα εγώ: "
   ]
  },
  {
   "cell_type": "code",
   "execution_count": 72,
   "metadata": {},
   "outputs": [
    {
     "data": {
      "text/plain": [
       "<matplotlib.axes._subplots.AxesSubplot at 0x11e2c67b8>"
      ]
     },
     "execution_count": 72,
     "metadata": {},
     "output_type": "execute_result"
    },
    {
     "data": {
      "image/png": "[encoded data removed]",
      "text/plain": [
       "<Figure size 432x288 with 1 Axes>"
      ]
     },
     "metadata": {
      "needs_background": "light"
     },
     "output_type": "display_data"
    }
   ],
   "source": []
  },
  {
   "cell_type": "markdown",
   "metadata": {},
   "source": [
    "### Άσκηση 10\n",
    "\n",
    "Φτιάξτε ένα scatter plot όπου κάθε τελεία είναι και μία σχολή:\n",
    "* Χ = βαθμός του πρώτου\n",
    "* Υ = βαθμός του τελευταίου\n",
    "* Μέγεθος της τελείας είναι αναλογικό με το 'ΕΠΙΤ/ΤΕΣ'\n",
    "* Οι σχολές που ανήκουν σε ίδρυμα που έχει μέσα τη λέξη ΚΡΗΤΗ, έχουν χρώμα κόκκινο, οι υπόλοιπες έχουν χρώμα μαύρο\n",
    "* Κάντε το πλοτ για 'ΕΙΔΟΣ ΘΕΣΗΣ' = 'ΓΕΛ ΓΕΝIKH ΣΕΙΡΑ ΗΜ.' και 'ΒΑΘΜΟΣ ΠΡΩΤΟΥ'] < 20000 (για να βγάλουμε τις σχολές με ειδικά μαθήματα)\n",
    "\n",
    "Το πλοτ πρέπει να είναι κάπως έτσι:"
   ]
  },
  {
   "cell_type": "code",
   "execution_count": 146,
   "metadata": {},
   "outputs": [
    {
     "name": "stderr",
     "output_type": "stream",
     "text": [
      "/Users/alexandroskanterakis/anaconda3/lib/python3.7/site-packages/ipykernel_launcher.py:6: UserWarning: DataFrame columns are not unique, some columns will be omitted.\n",
      "  \n"
     ]
    },
    {
     "data": {
      "image/png": "[encoded data removed]",
      "text/plain": [
       "<Figure size 432x288 with 1 Axes>"
      ]
     },
     "metadata": {
      "needs_background": "light"
     },
     "output_type": "display_data"
    }
   ],
   "source": []
  },
  {
   "cell_type": "markdown",
   "metadata": {},
   "source": [
    "### Άσκηση 11\n",
    "Ένα νοσοκομείο δοκίμασε την επίδραση ενός φαρμάκου σε 1000 ασθενείς. Από τους 1000 ασθενείς στους 600 δόθηκε το πραγματικό φάρμακο, ενώ στου 400 δόθηκε placebo. Από τους 600 που δόθηκε το φάρμακο, 250 είπαν ότι η κατάστασή τους βελτιώθηκε και 350 είπαν ότι δεν παρατήρησαν βελτίωση. Από τους 400 που δόθηκε το placebo, 150 είπαν ότι η κατάστασή τους βελτιώθηκε και 250 είπαν ότι δεν παρατήρησαν βελτίωση. \n",
    "\n",
    "Ο μέσος όρος των ασθενών που δήλωσαν βελτίωση με placebo είνα: 150/400 = 37.5%\n",
    "\n",
    "Ο μέσος όρος των ασθενών που δήλωσαν βελτίωση με το πραγματικό φάρμακο είναι: 250/600 = 41.6%\n",
    "\n",
    "Κάποιος παρατηρεί ότι αφού ο μέσος όρος όσων δήλωσαν βελτίωση με το πραγματικό φάρμακο είναι μεγαλύτερος από αυτόν του placebo, τότε το φάρμακο έχει κάποια θετική επίδραση στους ασθενείς.\n",
    "\n",
    "Αν θέσουμε σαν βαθμό σημαντικότητας το α=0.01, υπάρχει στατιτιστικά σημαντική επίδραση του φαρμάκου στην κατάσταση των ασθενών;\n",
    "\n",
    "Hint: Αν υποθέσουμε ότι ένα τυχαίος ασθενής που παίρνει το placebo έχει πιθανότητα να δηλώσει βελτίωση 37.5%, ποια είναι η πιθανότητα αν δώσουμε το placebo σε 600 ασθενείς τουλάχιστον οι 250 να δηλώσουν βελτίωση; \n"
   ]
  },
  {
   "cell_type": "markdown",
   "metadata": {},
   "source": [
    "### Άσκηση 12\n",
    "\n",
    "Δίνεται ο παρακάτω κώδικας ο οποίος επιστρέφει τις 100 πρώτες σελίδες της wikipedia οι οποίες είναι link από μία σελίδα της wikipedia: "
   ]
  },
  {
   "cell_type": "code",
   "execution_count": 76,
   "metadata": {},
   "outputs": [],
   "source": [
    "import requests\n",
    "\n",
    "\n",
    "def links(page):\n",
    "    PARAMS = {\n",
    "        \"action\": \"query\",\n",
    "        \"format\": \"json\",\n",
    "        \"titles\": page,\n",
    "        \"prop\": \"links\",\n",
    "        'pllimit': 100,\n",
    "    }\n",
    "\n",
    "    URL = \"https://en.wikipedia.org/w/api.php\"\n",
    "    S = requests.Session()\n",
    "    R = S.get(url=URL, params=PARAMS)\n",
    "    \n",
    "    DATA = R.json()\n",
    "\n",
    "    PAGES = DATA[\"query\"][\"pages\"]\n",
    "\n",
    "    ret = []\n",
    "    for k, v in PAGES.items():\n",
    "        for l in v.get(\"links\", []):\n",
    "            to_append = l[\"title\"]\n",
    "            \n",
    "            if 'Category' in to_append:\n",
    "                continue\n",
    "                \n",
    "            if 'Wikipedia' in to_append:\n",
    "                continue\n",
    "            \n",
    "            if 'Digital object identifier' in to_append:\n",
    "                continue\n",
    "                \n",
    "            if 'International Standard Book Number' in to_append:\n",
    "                continue\n",
    "                \n",
    "            if 'Template' in to_append:\n",
    "                continue\n",
    "                \n",
    "            ret.append(to_append)\n",
    "    \n",
    "    return ret"
   ]
  },
  {
   "cell_type": "markdown",
   "metadata": {},
   "source": [
    "Για παράδειγμα:"
   ]
  },
  {
   "cell_type": "code",
   "execution_count": 63,
   "metadata": {},
   "outputs": [
    {
     "data": {
      "text/plain": [
       "['.NET Bio',\n",
       " '2-D electrophoresis',\n",
       " 'ACM Computing Classification System',\n",
       " 'Abiogenesis',\n",
       " 'Accuracy',\n",
       " 'Adaptation',\n",
       " 'Adaptive radiation',\n",
       " 'Aerobiology',\n",
       " 'African Society for Bioinformatics and Computational Biology',\n",
       " 'Algorithm',\n",
       " 'Algorithm design',\n",
       " 'Algorithmic efficiency',\n",
       " 'Alignment-free sequence analysis',\n",
       " \"Alzheimer's disease\",\n",
       " 'American Medical Informatics Association',\n",
       " 'Amino acid',\n",
       " 'Amino acid sequence',\n",
       " 'Analysis of algorithms',\n",
       " 'Anatomy',\n",
       " 'Anduril (workflow engine)',\n",
       " 'Apache Taverna',\n",
       " 'Application security',\n",
       " 'Applications of evolution',\n",
       " 'Approximation algorithms',\n",
       " 'Archival informatics',\n",
       " 'Artificial intelligence',\n",
       " 'Artificial life',\n",
       " 'Astrobiology',\n",
       " 'Astroinformatics',\n",
       " 'Australasian College of Health Informatics',\n",
       " 'Australia Bioinformatics Resource',\n",
       " 'Automata theory',\n",
       " 'Automated planning and scheduling',\n",
       " 'BLAST',\n",
       " 'Barcode of Life Data System',\n",
       " 'Base calling',\n",
       " 'Basel Computational Biology Conference',\n",
       " 'Bayesian analysis',\n",
       " 'Ben Hesper',\n",
       " 'Bernd Sturmfels',\n",
       " 'Bibcode',\n",
       " 'BioCompute Object',\n",
       " 'BioCyc database collection',\n",
       " 'BioJS',\n",
       " 'BioJava',\n",
       " 'BioPerl',\n",
       " 'BioRuby',\n",
       " 'BioRxiv',\n",
       " 'Biochemistry',\n",
       " 'Biochip',\n",
       " 'Bioclipse',\n",
       " 'Bioconductor',\n",
       " 'Biodiversity',\n",
       " 'Biodiversity informatics',\n",
       " 'Bioengineering',\n",
       " 'Biogeography',\n",
       " 'Biogeology',\n",
       " 'Biohistory',\n",
       " 'Bioimage informatics',\n",
       " 'Bioinformatics',\n",
       " 'Bioinformatics (journal)',\n",
       " 'Bioinformatics Open Source Conference',\n",
       " 'Bioinformatics companies',\n",
       " 'Bioinformatics workflow management systems',\n",
       " 'Biological Data Visualization',\n",
       " 'Biological classification',\n",
       " 'Biological computation',\n",
       " 'Biological database',\n",
       " 'Biological network',\n",
       " 'Biology',\n",
       " 'Biomarkers in Medicine',\n",
       " 'Biomechanics',\n",
       " 'Biomedical text mining',\n",
       " 'Biomolecule',\n",
       " 'Biophysics',\n",
       " 'Biopython',\n",
       " 'Biosocial criminology',\n",
       " 'Biostatistics',\n",
       " 'Botany',\n",
       " 'Bovine spongiform encephalopathy',\n",
       " 'Bowtie (sequence analysis)',\n",
       " 'Branches of biology',\n",
       " 'Brazilian Society of Health Informatics',\n",
       " 'Breast cancer',\n",
       " 'Briefings in Functional Genomics',\n",
       " 'Broad Institute',\n",
       " 'Business informatics',\n",
       " 'COSBI',\n",
       " 'CRAM (file format)',\n",
       " 'Call-map proteomics',\n",
       " 'Canadian Bioinformatics Workshops',\n",
       " 'Cancer',\n",
       " 'Cell (biology)',\n",
       " 'Cell biology',\n",
       " 'Cell cycle',\n",
       " 'Cell nucleus',\n",
       " 'Cellular microbiology',\n",
       " 'Cellular model',\n",
       " 'Cellular respiration',\n",
       " 'ChIA-PET']"
      ]
     },
     "execution_count": 63,
     "metadata": {},
     "output_type": "execute_result"
    }
   ],
   "source": [
    "links('Bioinformatics')"
   ]
  },
  {
   "cell_type": "markdown",
   "metadata": {},
   "source": [
    "Στη συνέχεια δίνεται πως να εγκαταστήσετε τη βιβλιοθήκη [networkx](https://networkx.github.io/documentation/latest/index.html):"
   ]
  },
  {
   "cell_type": "code",
   "execution_count": 232,
   "metadata": {},
   "outputs": [
    {
     "name": "stdout",
     "output_type": "stream",
     "text": [
      "Requirement already satisfied: networkx in /Users/alexandroskanterakis/anaconda3/lib/python3.7/site-packages (2.1)\n",
      "Requirement already satisfied: decorator>=4.1.0 in /Users/alexandroskanterakis/anaconda3/lib/python3.7/site-packages (from networkx) (4.3.0)\n",
      "\u001b[33mYou are using pip version 18.1, however version 19.3.1 is available.\n",
      "You should consider upgrading via the 'pip install --upgrade pip' command.\u001b[0m\n"
     ]
    }
   ],
   "source": [
    "! pip install networkx"
   ]
  },
  {
   "cell_type": "markdown",
   "metadata": {},
   "source": [
    "Με τη networkx μπορούμε να φτιάξουμε γράφους. Ας φτιάξουμε έναν γράφο που έχει δύο κόμβους: τον \"Μήτσος\" και το \"Κώστας\" και μία ακμή που τις συνδέει:"
   ]
  },
  {
   "cell_type": "code",
   "execution_count": 90,
   "metadata": {},
   "outputs": [],
   "source": [
    "import networkx as nx\n",
    "G = nx.Graph()\n",
    "\n",
    "G.add_node('Μήτσος')\n",
    "G.add_node('Κώστας')\n",
    "G.add_edge('Μήτσος', 'Κώστας')"
   ]
  },
  {
   "cell_type": "markdown",
   "metadata": {},
   "source": [
    "Ας κάνουμε plot τον γράφο αυτό:"
   ]
  },
  {
   "cell_type": "code",
   "execution_count": 91,
   "metadata": {},
   "outputs": [
    {
     "data": {
      "image/png": "[encoded data removed]",
      "text/plain": [
       "<Figure size 432x288 with 1 Axes>"
      ]
     },
     "metadata": {},
     "output_type": "display_data"
    }
   ],
   "source": [
    "import matplotlib.pyplot as plt\n",
    "nx.draw(G, with_labels=True, font_weight='bold')\n"
   ]
  },
  {
   "cell_type": "markdown",
   "metadata": {},
   "source": [
    "Σκοπός της άσκησης αυτής "
   ]
  },
  {
   "cell_type": "markdown",
   "metadata": {},
   "source": [
    "Μπορούμε ακόμα να κάνουμε πλοτ τον γράφο βάζοντας labels σε συγκεκριμένους κόμβους:"
   ]
  },
  {
   "cell_type": "code",
   "execution_count": 93,
   "metadata": {},
   "outputs": [
    {
     "data": {
      "text/plain": [
       "{'Μήτσος': Text(1,0.466671,'Μήτσος')}"
      ]
     },
     "execution_count": 93,
     "metadata": {},
     "output_type": "execute_result"
    },
    {
     "data": {
      "image/png": "[encoded data removed]",
      "text/plain": [
       "<Figure size 432x288 with 1 Axes>"
      ]
     },
     "metadata": {},
     "output_type": "display_data"
    }
   ],
   "source": [
    "pos=nx.spring_layout(G)\n",
    "\n",
    "nx.draw(G, pos=pos, with_labels=False, node_size= 10)\n",
    "nx.draw_networkx_labels(G, pos=pos, labels={'Μήτσος': 'Μήτσος'}, font_size=16, font_color='b')"
   ]
  },
  {
   "cell_type": "markdown",
   "metadata": {},
   "source": [
    "Σκοπός της άσκησης είναι να φτιάξετε έναν γράφο όπου κόμβοι είναι άρθρα στη wikipedia και ακμές είναι links μεταξυ τους.\n",
    "\n",
    "Συκεκριμένα:\n",
    "1. Ξεκινήστε από το άρθρο bioinformatics\n",
    "2. Βάλτε στον γράφο έναν κόμβο με το όνομα \"bioinformatics\"\n",
    "3. Πάρτε τυχαία 5 links αυτού του άρθρου.\n",
    "4. Βάλτε στον γράφο αυούς τους 5 κόμβους και τις 5 ακμές που συνδέουν αυτό το τα άρθρα αυτά με τον κόμβο του Bioinformatics.\n",
    "5. Διαλέξτε τυχαία έναν από τους 5 κόμβους. \n",
    "6. Αντικαταστήστε το 'bioinformatics' με τον κόμβο αυτό \n",
    "7. Επαναλάβετε τα βήματα 2 μέχρι 6, 100 φορές.\n",
    "8. Κάντε πλοτ τον γράφο που έχετε φτιάξει.\n",
    "\n"
   ]
  },
  {
   "cell_type": "markdown",
   "metadata": {},
   "source": [
    "Δίνεται ο γράφος όπως \"μου βγήκε εμένα\". Εννοείται ότι μπορείτε να κάνετε τις δικές σας στυλιστικές επιλογές!"
   ]
  },
  {
   "cell_type": "code",
   "execution_count": 96,
   "metadata": {},
   "outputs": [
    {
     "data": {
      "text/plain": [
       "{'bioinformatics': Text(0.570189,-0.121971,'Bioinformatics')}"
      ]
     },
     "execution_count": 96,
     "metadata": {},
     "output_type": "execute_result"
    },
    {
     "data": {
      "image/png": "[encoded data removed]",
      "text/plain": [
       "<Figure size 432x288 with 1 Axes>"
      ]
     },
     "metadata": {},
     "output_type": "display_data"
    }
   ],
   "source": []
  },
  {
   "cell_type": "markdown",
   "metadata": {},
   "source": [
    "### Άσκηση 13\n",
    "Ο μέσος όρος ύψους των ανδρών στην Ελλάδα είναι 1.77cm για του άνδρες και 1.65cm για τις γυναίκες ([πηγή](https://en.wikipedia.org/wiki/Average_human_height_by_country)). Αν υποθέσουμε το ότι η τυπική απόκλιση (standard deviation) για τους άνδρες είναι 7cm και για τις γυναίκες 6cm τότε ποια είναι η πιθανότητα αν πάρουμε τυχαία έναν άνδρα και μία γυναίκα από την Ελλάδα, η γυναίκα να είναι πιο ψηλή;\n",
    "\n",
    "Θεωρήστε ότι το ύψος ακολουθεί κανονική κατανομή ([διαβάστε περισσότερα σχετικά με αυτό αν θέλετε](https://www.johndcook.com/blog/2008/07/20/why-heights-are-not-normally-distributed/)).\n",
    "\n",
    "Hint: Μπορείτε να το κάνετε αναλυτικά ή απλά να πάρετε 1.000.000 τυχαία δείγματα με τις κατανομές που δίνονται. "
   ]
  },
  {
   "cell_type": "markdown",
   "metadata": {},
   "source": [
    "### Άσκηση 14\n",
    "\n",
    "Η [Human Phenotype Ontology](https://hpo.jax.org/app/) είναι μία συλλογή από ~13.000 συμπτώματα. Αυτά τα συμπτώματα είναι χωρισμένα σε κατηγορίες, οι οποίες με τη σειρά τους ανήκουν σε κατηγορίες κτλ. Όλη η συλλογή είναι στην ουσία μία δενδρική δομή από συμπτώματα που περιλαμβάνουν άλλα συμπτώματα. \n",
    "\n",
    "Όλο το αρχείο είναι διαθέσιμο σε αυτό το link: https://raw.githubusercontent.com/obophenotype/human-phenotype-ontology/master/hp.obo και μπορείτε να το κατεβάσετε:\n"
   ]
  },
  {
   "cell_type": "code",
   "execution_count": 1,
   "metadata": {},
   "outputs": [],
   "source": [
    "import requests\n",
    "\n",
    "url = 'https://raw.githubusercontent.com/obophenotype/human-phenotype-ontology/master/hp.obo'\n",
    "r = requests.get(url)\n",
    "obo = r.text"
   ]
  },
  {
   "cell_type": "markdown",
   "metadata": {},
   "source": [
    "Ας δούμε ένα παράδειγμα:\n",
    "\n",
    "```\n",
    "[Term]\n",
    "id: HP:0011870\n",
    "name: Impaired arachidonic acid-induced platelet aggregation\n",
    "def: \"Abnormal response to arachidonic acid as manifested by reduced or lacking aggregation of platelets upon addition of arachidonic acid.\" [DDD:wouwehand]\n",
    "xref: UMLS:C4023155\n",
    "is_a: HP:0003540 ! Impaired platelet aggregation\n",
    "created_by: peter\n",
    "creation_date: 2012-05-30T05:37:07Z\n",
    "```\n",
    "\n",
    "Το ```Impaired arachidonic acid-induced platelet aggregation``` έχει κωδικό ```HP:0011870``` και ανήκει στη κατηγορία ```HP:0003540```. Αν ψάξουμε το αρχείο θα δούμε ότι το  ```HP:0003540``` έχει entry:\n",
    "\n",
    "```\n",
    "[Term]\n",
    "id: HP:0003540\n",
    "name: Impaired platelet aggregation\n",
    "alt_id: HP:0008177\n",
    "def: \"An impairment in the rate and degree to which platelets aggregate after the addition of an agonist that stimulates platelet clumping. Platelet aggregation is measured using aggregometer to measure the optical density of platelet-rich plasma, whereby platelet aggregation causes the plasma to become more transparent.\" [DDD:wouwehand]\n",
    "synonym: \"Defective platelet aggregation\" EXACT []\n",
    "synonym: \"Deficient platelet aggregation\" EXACT []\n",
    "synonym: \"Platelet aggregation defect\" EXACT []\n",
    "xref: UMLS:C1855853\n",
    "is_a: HP:0030402 ! Abnormal platelet aggregation\n",
    "```\n",
    "\n",
    "Το οποίο με τη σειρά του ανήκει στο ```HP:0030402```:\n",
    "\n",
    "```\n",
    "[Term]\n",
    "id: HP:0030402\n",
    "name: Abnormal platelet aggregation\n",
    "def: \"An abnormality in the rate and degree to which platelets aggregate after the addition of an agonist that stimulates platelet clumping. Platelet aggregation is measured using aggregometer to measure the optical density of platelet-rich plasma, whereby platelet aggregation causes the plasma to become more transparent.\" [HPO:probinson]\n",
    "xref: UMLS:C0541767\n",
    "is_a: HP:0011869 ! Abnormal platelet function\n",
    "```\n",
    "\n",
    "Το οποίο ανήκει στο ```HP:0011869```:\n",
    "```\n",
    "[Term]\n",
    "id: HP:0011869\n",
    "name: Abnormal platelet function\n",
    "def: \"Any anomaly in the function of thrombocytes.\" [HPO:probinson]\n",
    "xref: UMLS:C0855740\n",
    "is_a: HP:0001872 ! Abnormal thrombocyte morphology\n",
    "created_by: peter\n",
    "creation_date: 2012-05-30T05:32:11Z\n",
    "```\n",
    "\n",
    "Το οποίο ανήκει στο ```HP:0001872```:\n",
    "```\n",
    "[Term]\n",
    "id: HP:0001872\n",
    "name: Abnormal thrombocyte morphology\n",
    "alt_id: HP:0004807\n",
    "alt_id: HP:0005554\n",
    "def: \"An abnormality of platelets.\" [HPO:probinson]\n",
    "comment: Platelets, also known as thrombocytes, are non-nucleated disk-shaped cells mainly involved in blood coagulation.\n",
    "synonym: \"Blood platelet disease\" RELATED []\n",
    "synonym: \"Platelet abnormalities\" EXACT layperson []\n",
    "synonym: \"Thrombasthenia\" RELATED []\n",
    "xref: MSH:D013915\n",
    "xref: SNOMEDCT_US:127566005\n",
    "xref: SNOMEDCT_US:32942005\n",
    "xref: UMLS:C0040015\n",
    "xref: UMLS:C0151854\n",
    "xref: UMLS:C4020863\n",
    "is_a: HP:0001871 ! Abnormality of blood and blood-forming tissues\n",
    "```\n",
    "\n",
    "Το οποίο ανήκει στο ```HP:0001871```:\n",
    "```\n",
    "[Term]\n",
    "id: HP:0001871\n",
    "name: Abnormality of blood and blood-forming tissues\n",
    "alt_id: HP:0003135\n",
    "def: \"An abnormality of the hematopoietic system.\" [HPO:probinson]\n",
    "comment: The hematopoietic system comprises the organs that are involved in the production of blood, primarily the bone marrow, spleen, tonsils, and lymph nodes.\n",
    "synonym: \"Abnormality of blood and blood-forming tissues\" EXACT layperson []\n",
    "synonym: \"Abnormality of the haematopoietic system\" RELATED []\n",
    "synonym: \"Abnormality of the hematopoietic system\" EXACT []\n",
    "synonym: \"Hematologic disease\" RELATED []\n",
    "synonym: \"Hematological abnormality\" EXACT []\n",
    "xref: MSH:D006402\n",
    "xref: SNOMEDCT_US:191124002\n",
    "xref: SNOMEDCT_US:34093004\n",
    "xref: UMLS:C0018939\n",
    "xref: UMLS:C0850715\n",
    "xref: UMLS:C4020864\n",
    "is_a: HP:0000118 ! Phenotypic abnormality\n",
    "```\n",
    "\n",
    "Το οποίο ανήκει στο ```HP:0000118```\n",
    "```\n",
    "[Term]\n",
    "id: HP:0000118\n",
    "name: Phenotypic abnormality\n",
    "def: \"A phenotypic abnormality.\" [HPO:probinson]\n",
    "comment: This is the root of the phenotypic abnormality subontology of the HPO.\n",
    "synonym: \"Organ abnormality\" EXACT []\n",
    "xref: UMLS:C4021819\n",
    "is_a: HP:0000001 ! All\n",
    "```\n",
    "\n",
    "Το οποίο ανήκει στο ```HP:0000001```, που είναι και η \"ρίζα\" του δένδρου:\n",
    "\n",
    "```\n",
    "[Term]\n",
    "id: HP:0000001\n",
    "name: All\n",
    "comment: Root of all terms in the Human Phenotype Ontology.\n",
    "xref: UMLS:C0444868\n",
    "```\n",
    "\n",
    "Δηλαδή έχουμε την ιεραρχία: \n",
    "```\n",
    "All\n",
    "Phenotypic abnormality\n",
    "Abnormality of blood and blood-forming tissues\n",
    "Abnormal thrombocyte morphology\n",
    "Abnormal platelet function\n",
    "Abnormal platelet aggregation\n",
    "Impaired platelet aggregation\n",
    "Impaired arachidonic acid-induced platelet aggregation\n",
    "```\n",
    "\n",
    "Επίσης παρατηρούμε ότι κάποια συμπτώματα έχουν συνώνυμα. \n",
    "\n",
    "Φτιάξτε μία συνάρτηση η οποία θα δέχεται δύο διαφορετικά συμπτώματα και θα υπολογίζει την απόστασή τους. Η απόσταση αυτή θα είναι το μήκος της διαδρομής στο συνολικό ιεραρχικό δένδρο μεταξύ των δύο κόμβων που αναπαριστούν τα δύο συμπτώματα. Για παραδειγμα:\n",
    "\n",
    "```\n",
    "f('Abnormal platelet aggregation', 'Impaired platelet aggregation') --> 1\n",
    "f('Abnormal platelet aggregation', 'Abnormal thrombocyte morphology') --> 3\n",
    "f('Oligoclonal elevation of circulating IgG', 'Renotubular dysgenesis') --> 16\n",
    "```\n",
    "\n",
    "Hint: Χρησιμοποιήστε τη βιβλιοθήκη networkx για να βρείτε τις αποστάσεις. [Documentation](https://networkx.github.io/documentation/stable/reference/algorithms/generated/networkx.algorithms.shortest_paths.generic.shortest_path.html#networkx.algorithms.shortest_paths.generic.shortest_path)\n",
    "\n"
   ]
  },
  {
   "cell_type": "markdown",
   "metadata": {},
   "source": [
    "### Άσκηση 15\n",
    "(συνέχεια από τη 14)\n",
    "\n",
    "Ένας άλλος τρόπος να βρούμε πόσο κοινά είναι δύο συμπτώματα, είναι να βρούμε τον κοινό \"πρόγονό\" τους στο ιεραρχικό δέντρο. Στη συνέχεια μπορούμε να βρούμε πόσο μακριά είναι ο πρόγονος αυτός από τη ρίζα. Όσο πιο μακριά είναι, τόσο κοντά είναι τα συμπτώματα. Για παράδειγμα αν πάρουμε τα παρακάτω συμπτώματα:\n",
    "\n",
    "```\n",
    "Argyrophilic inclusion bodies\n",
    "Unilateral perisylvian polymicrogyria\n",
    "```\n",
    "\n",
    "Τότε η διαδρομές από τη ρίζα του δέντρου για το πρώτο είναι:\n",
    "```\n",
    "HP:0000001\n",
    "HP:0000118\n",
    "HP:0000707\n",
    "HP:0012639\n",
    "HP:0002011\n",
    "HP:0012443\n",
    "HP:0100547\n",
    "HP:0002060\n",
    "HP:0100314 \n",
    "HP:0100317 \n",
    "```\n",
    "\n",
    "Και για το δεύτερο:\n",
    "```\n",
    "HP:0000001\n",
    "HP:0000118\n",
    "HP:0000707\n",
    "HP:0012639\n",
    "HP:0002011\n",
    "HP:0012443\n",
    "HP:0100547\n",
    "HP:0002060\n",
    "HP:0002538\n",
    "HP:0002536\n",
    "HP:0002126\n",
    "HP:0012650\n",
    "HP:0032406\n",
    "```\n",
    "\n",
    "Δηλαδή ο \"γράφος\" που σχηματίζουν οι δύο όροι είναι:\n",
    "```\n",
    "        HP:0000001\n",
    "        HP:0000118\n",
    "        HP:0000707\n",
    "        HP:0012639\n",
    "        HP:0002011\n",
    "        HP:0012443\n",
    "        HP:0100547\n",
    "        HP:0002060\n",
    "HP:0100314       HP:0002538\n",
    "HP:0100317       HP:0002536\n",
    "                 HP:0002126\n",
    "                 HP:0012650\n",
    "                 HP:0032406\n",
    "```\n",
    "\n",
    "Φτιάξτε μία συνάρτηση η οποία να τυπώνει αυτόν τον \"γράφο\" για δύο όρους που υπάρχουν στη Human Phenotypy Ontology. Δίνονται μερικά ακόμα παραδείγματα:\n",
    "\n",
    "```\n",
    "f('Enlarged epiphyses of the 4th toe', 'Long hallux')\n",
    "        HP:0000001\n",
    "        HP:0000118\n",
    "        HP:0040064\n",
    "        HP:0040068\n",
    "        HP:0002813\n",
    "        HP:0011297\n",
    "        HP:0001780\n",
    "HP:0010321       HP:0010511\n",
    "HP:0010335       HP:0001847\n",
    "HP:0100069    \n",
    "```\n",
    "```\n",
    "f('Abnormality of the pharynx', 'Abnormal Sharpey fiber morphology')\n",
    "        HP:0000001\n",
    "        HP:0000118\n",
    "HP:0000152       HP:0003549\n",
    "HP:0000234       HP:0100685\n",
    "HP:0000600 \n",
    "```\n",
    "```\n",
    "f('Visual gaze preference', 'Medium chain dicarboxylic aciduria')\n",
    "        HP:0000001\n",
    "        HP:0000118\n",
    "HP:0000478       HP:0000119\n",
    "HP:0012373       HP:0000079\n",
    "HP:0000496       HP:0011277\n",
    "HP:0025518       HP:0003110\n",
    "                 HP:0012072\n",
    "                 HP:0001992\n",
    "                 HP:0003215\n",
    "                 HP:0008309\n",
    "```"
   ]
  },
  {
   "cell_type": "markdown",
   "metadata": {},
   "source": [
    "### Άσκηση 16\n",
    "Δίνεται ο παρακάτω κώδικας ο οποίος κατεβάζει abstracts από το [europepmc](https://europepmc.org/) ([link στο wikipedia](https://en.wikipedia.org/wiki/Europe_PubMed_Central)). Το europepmc περιέχει \"περίπου\" όσα άρθα έχει και το pubmed. "
   ]
  },
  {
   "cell_type": "code",
   "execution_count": 5,
   "metadata": {},
   "outputs": [],
   "source": [
    "import json\n",
    "import time\n",
    "import codecs\n",
    "import requests\n",
    "\n",
    "def get_data_from_url(url, headers={}):\n",
    "    r = requests.get(url, headers=headers)\n",
    "    if not r.ok:\n",
    "        r.raise_for_status()\n",
    "    \n",
    "    return r.text\n",
    "    #decoded = r.json()\n",
    "    #return decoded\n",
    "\n",
    "def get_abstracts_from_pubmed(count, query, nextCursorMark=None):\n",
    "    url_pattern = 'https://www.ebi.ac.uk/europepmc/webservices/rest/search?query={query}&resulttype=core&format=json&pageSize={count}&cursorMark={nextCursorMark}'\n",
    "\n",
    "    if nextCursorMark is None:\n",
    "        nextCursorMark='*'\n",
    "\n",
    "    url = url_pattern.format(count=count, query=query, nextCursorMark=nextCursorMark)\n",
    "    \n",
    "    print ('URL:')\n",
    "    print (url)\n",
    "    \n",
    "    data = get_data_from_url(url)\n",
    "#    return [{'title': x['title'], 'abstract': x['abstractText']} for x in data['resultList']['result'] \n",
    "#            if 'title'in x and 'abstractText'in x]\n",
    "\n",
    "    return data\n",
    "\n",
    "def save_abstracts(query, hitcount):\n",
    "\n",
    "    to_fetch = min(1000, hitcount)\n",
    "    \n",
    "    data=get_abstracts_from_pubmed(to_fetch, query)\n",
    "    \n",
    "    fetched = to_fetch\n",
    "    output_filename = 'abstracts.json'\n",
    "    output_f = codecs.open(output_filename, 'w', 'utf-8')\n",
    "    while True:\n",
    "        parsed = json.loads(data)\n",
    "        nextCursorMark=parsed['nextCursorMark']\n",
    "        \n",
    "        output_f.write(data + '\\n')\n",
    "        output_f.flush()\n",
    "        print ('Fetched:', fetched)\n",
    "        \n",
    "        if fetched >= hitcount:\n",
    "            break\n",
    "        \n",
    "        time.sleep(3)\n",
    "        data = get_abstracts_from_pubmed(1000, query, nextCursorMark)\n",
    "        fetched += 1000\n",
    "        \n",
    "        \n",
    "        \n",
    "    output_f.close()"
   ]
  },
  {
   "cell_type": "markdown",
   "metadata": {},
   "source": [
    "Για να τρέξετε τον κώδικα απλά δηλώνετε ένα keyword και πόσα άρθρα θέλετε. Τα άρθρα κατεβαίνουν με χρονολογική σειρά δημοσίευσης. Για παράδειγμα, τα τελευταία 100 άρθρα που περιέχουν τη λέξη \"Crete\":"
   ]
  },
  {
   "cell_type": "code",
   "execution_count": 9,
   "metadata": {},
   "outputs": [
    {
     "name": "stdout",
     "output_type": "stream",
     "text": [
      "URL:\n",
      "https://www.ebi.ac.uk/europepmc/webservices/rest/search?query=Crete&resulttype=core&format=json&pageSize=100&cursorMark=*\n",
      "Fetched: 100\n"
     ]
    }
   ],
   "source": [
    "save_abstracts('Crete', 100)"
   ]
  },
  {
   "cell_type": "markdown",
   "metadata": {},
   "source": [
    "Τα άρθρα αποθηκεύονται σε ένα αρχείο με τον όνομα abstracts.json. Δίνεται κώδικας για να παρσάρετε αυτό το αρχείο:"
   ]
  },
  {
   "cell_type": "code",
   "execution_count": 39,
   "metadata": {},
   "outputs": [],
   "source": [
    "data = []\n",
    "with open('abstracts.json') as f:\n",
    "    for l in f:\n",
    "        temp_data = json.loads(l)\n",
    "        if not 'resultList' in temp_data:\n",
    "            continue\n",
    "            \n",
    "        if not 'result' in temp_data['resultList']:\n",
    "            continue\n",
    "            \n",
    "        for result in temp_data['resultList']['result']:\n",
    "            if not 'title' in result:\n",
    "                continue\n",
    "                \n",
    "            title = result['title']\n",
    "            \n",
    "            if not 'abstractText' in result:\n",
    "                continue\n",
    "                \n",
    "            abstract = result['abstractText']\n",
    "            \n",
    "            data.append((title, abstract))\n",
    "            \n"
   ]
  },
  {
   "cell_type": "markdown",
   "metadata": {},
   "source": [
    "Τα άρθρα περιέχονται σε μία λίστα που περιέχει tuples. Το πρώτο στοιχείο του tuple είναι ο τίτλος του paper και το δεύτερο είναι το abstract:"
   ]
  },
  {
   "cell_type": "code",
   "execution_count": 51,
   "metadata": {},
   "outputs": [
    {
     "data": {
      "text/plain": [
       "('Management of Cancer-associated Thrombosis (CAT): Symptomatic or Incidental.',\n",
       " 'BACKGROUND:Cancer-associated thrombosis (CAT), the second leading cause of death in patients with cancer can be treated with low molecular weight heparin (LMWH) according to guidelines. PATIENTS AND METHODS:A multicenter prospective observational study was carried out to record anti-thrombotic treatment practice, assess thrombosis recurrence and bleeding, and identify potential risk factors. Adult patients from 18 Oncology Departments throughout Greece were followed-up for 12 months. RESULTS:A total of 120 patients with CAT receiving anticoagulant treatment were enrolled (35% incidental); 85% were treated for more than 6 months, 95.8% were treated with tinzaparin and smaller percentages with other agents. Thrombosis recurred in three patients and there was minor bleeding in four patients. Bleeding was associated with high body mass index (>35 kg/m2), trauma history, renal insufficiency and bevacizumab use. CONCLUSION:Incidental thrombosis contributes significantly to CAT burden. Long-term use of LMWH seems to be effective and safe. Several risk factors associated with bleeding should be considered during anti-coagulation therapy planning.')"
      ]
     },
     "execution_count": 51,
     "metadata": {},
     "output_type": "execute_result"
    }
   ],
   "source": [
    "data[0]"
   ]
  },
  {
   "cell_type": "markdown",
   "metadata": {},
   "source": [
    "Σε αυτή την άσκηση πρέπει να:\n",
    "\n",
    "* Κατεβάστε 10.000 άρθρα που περιέχουν τη λέξη \"Greece\". \n",
    "* Κατεβάστε από εδώ: https://github.com/IlyaSemenov/wikipedia-word-frequency/blob/master/results/enwiki-20190320-words-frequency.txt μία λίστα με τις συχνότητες των αγγλικών λέξεων.\n",
    "* Από τα abstracts αφαιρέστε κόμμα, τελεία, παύλες, παρενθέσεις και μετατρέψτε το σε μικρά.\n",
    "* Πάρτε όλες τις διαφορετικές λέξεις που υπάρχουν στην obo και μετατρέψτε τες και αυτές στα μικρά.\n",
    "* Για κάθε λέξη (προσοχή! **όχι** για κάθε διαφορετική λέξη) που υπάρχει στα abstracts: Αν υπάρχει η λέξη αυτή στην obo και η συχνότητά της είναι μικρότερη από 10.000 σώστε τη σε ένα αρχείο (π.χ. με όνομα word_cloud.txt).\n",
    "* Χρησιμοποιήστε το εργαλείο https://github.com/amueller/word_cloud για να φτιάξετε ένα word cloud με τις συχνότητες των λέξεων που έχουν μείνει.\n",
    "\n",
    "Για να εγκαταστήσετε το wordcloud τρέξτε:"
   ]
  },
  {
   "cell_type": "code",
   "execution_count": null,
   "metadata": {},
   "outputs": [],
   "source": [
    "!pip install wordcloud"
   ]
  },
  {
   "cell_type": "markdown",
   "metadata": {},
   "source": [
    "Αν υποθέσουμε ότι το όνομα του αρχείου που έχετε σώσει τις λέξεις είναι το word_cloud.txt τότε η εντολή για να φτιάξετε το word cloud είναι:"
   ]
  },
  {
   "cell_type": "code",
   "execution_count": 112,
   "metadata": {},
   "outputs": [],
   "source": [
    "%%bash\n",
    "wordcloud_cli \\\n",
    "   --text word_cloud.txt \\\n",
    "   --imagefile wordclound.png \\\n",
    "   --width 1000 --height 1000 \\\n",
    "   --mask gr.jpg"
   ]
  },
  {
   "cell_type": "markdown",
   "metadata": {},
   "source": [
    "Αν θέλετε μπορείτε να χρησιμοποιήσετε και τον [αυτόν τον χάρτη της Ελλάδας](https://www.dropbox.com/s/ev0bynye4ol52ao/09362260b824e05c02661009b8e8e439.jpg?dl=0) (που δυστυχώς δεν έχει τη Κρήτη..) για mask. Η εντολή είναι:"
   ]
  },
  {
   "cell_type": "code",
   "execution_count": null,
   "metadata": {},
   "outputs": [],
   "source": [
    "%%bash\n",
    "wordcloud_cli \\\n",
    "   --text word_cloud.txt \\\n",
    "   --imagefile wordclound.png \\\n",
    "   --width 1000 --height 1000 \\\n",
    "   --mask gr.jpg"
   ]
  },
  {
   "cell_type": "markdown",
   "metadata": {},
   "source": [
    "[Εδώ είναι το αποτέλεσμα που έβγαλε σε εμένα](https://www.dropbox.com/s/52z9wh521qr2v9b/0d128bda7c89001bcea513a342a18fa0.png?dl=0)"
   ]
  },
  {
   "cell_type": "markdown",
   "metadata": {},
   "source": [
    "### Άσκηση 17\n",
    "Σε μία γενετική έρευνα που έγινε συμμετείχαν 100 άνθρωποι που είχαν μία ασθένεια και 100 που δεν είχαν. Σε αυτήν την έρευνα έγινε γονοτύπιση και στους 200 ανθρώπους, σε 1220 συγκεκριμένες θέσεις του χρωμοσώματος 6. Τα αποτελέσματα από την γονοτύπιση υπάρχουν σε αυτό το αρχείο:\n",
    "\n",
    "https://www.dropbox.com/s/sf5p82me2aov48i/82df86f7ec97cba244f791187e51c7b8.gz?dl=1\n",
    "\n",
    "Ας κατεβάσουμε αυτό το αρχείο:"
   ]
  },
  {
   "cell_type": "code",
   "execution_count": null,
   "metadata": {},
   "outputs": [],
   "source": [
    "!wget -O \"data.tgz\" \"https://www.dropbox.com/s/sf5p82me2aov48i/82df86f7ec97cba244f791187e51c7b8.gz?dl=1\""
   ]
  },
  {
   "cell_type": "markdown",
   "metadata": {},
   "source": [
    "Ας το αποσυμπιέσουμε:"
   ]
  },
  {
   "cell_type": "code",
   "execution_count": 3,
   "metadata": {},
   "outputs": [
    {
     "name": "stdout",
     "output_type": "stream",
     "text": [
      "x chr6.cases.gen\r\n",
      "x chr6.controls.gen\r\n"
     ]
    }
   ],
   "source": [
    "!tar zxvf data.tgz"
   ]
  },
  {
   "cell_type": "markdown",
   "metadata": {},
   "source": [
    "Τα δεδομένα μας βρίσκονται σε δύο αρχεία:\n",
    "* Το αρχείο ```chr6.cases.gen``` περιέχει τους γονότυπους των 100 ανθρώπων που **είχαν** την ασθένεια\n",
    "* Το αρχείο ```chr6.controls.gen``` περιέχει τους γονότυπους των 100 ανθρώπων που **δεν είχαν** την ασθένεια\n",
    "\n",
    "Το κάθε αρχείο έχει 1220 γραμμές:"
   ]
  },
  {
   "cell_type": "code",
   "execution_count": 4,
   "metadata": {},
   "outputs": [
    {
     "name": "stdout",
     "output_type": "stream",
     "text": [
      "    1220 chr6.cases.gen\r\n",
      "    1220 chr6.controls.gen\r\n",
      "    2440 total\r\n"
     ]
    }
   ],
   "source": [
    "!wc -l chr6.*.gen"
   ]
  },
  {
   "cell_type": "markdown",
   "metadata": {},
   "source": [
    "Κάθε γραμμή περιέχει και μία θέση στο γονιδίωμα όπου έγινε γονοτύπιση. Ας πάρουμε τη πρώτη γραμμή του ```chr6.cases.gen```: "
   ]
  },
  {
   "cell_type": "code",
   "execution_count": 5,
   "metadata": {},
   "outputs": [
    {
     "name": "stdout",
     "output_type": "stream",
     "text": [
      "snp_0 rs2747507 15200644 G T 1 0 0 1 0 0 1 0 0 1 0 0 1 0 0 1 0 0 1 0 0 1 0 0 1 0 0 1 0 0 0 1 0 1 0 0 1 0 0 1 0 0 1 0 0 1 0 0 1 0 0 1 0 0 1 0 0 1 0 0 1 0 0 1 0 0 1 0 0 1 0 0 1 0 0 1 0 0 1 0 0 1 0 0 1 0 0 1 0 0 0 1 0 0 1 0 1 0 0 1 0 0 1 0 0 1 0 0 1 0 0 1 0 0 1 0 0 1 0 0 1 0 0 1 0 0 1 0 0 1 0 0 1 0 0 0 1 0 1 0 0 1 0 0 1 0 0 1 0 0 1 0 0 1 0 0 1 0 0 1 0 0 1 0 0 1 0 0 1 0 0 1 0 0 1 0 0 1 0 0 1 0 0 1 0 0 1 0 0 1 0 0 1 0 0 1 0 0 1 0 0 1 0 0 1 0 0 1 0 0 1 0 0 1 0 0 1 0 0 1 0 0 1 0 0 1 0 0 1 0 0 1 0 0 1 0 0 1 0 0 1 0 0 1 0 0 1 0 0 1 0 0 1 0 0 0 1 0 1 0 0 1 0 0 1 0 0 1 0 0 1 0 0 1 0 0 1 0 0 1 0 0 1 0 0 1 0 0 1 0 0 1 0 0 1 0 0 0 1 0\r\n"
     ]
    }
   ],
   "source": [
    "!head -n 1 chr6.cases.gen"
   ]
  },
  {
   "cell_type": "markdown",
   "metadata": {},
   "source": [
    "Η δομή του αρχείου είναι η εξής:\n",
    "* Το πρώτο πεδίο (```snp_0```) είναι ο \"εσωτερικός κωδικός της μετάλλαξης που ελέγχθηκε. Μπορείτε να το αγνοήσετε.\n",
    "* Το δεύτερο πεδίο (```rs2747507```) είναι ο κωδικός κατά [dbsnp](https://www.ncbi.nlm.nih.gov/snp/rs2747507) αυτής της μετάλλαξης.\n",
    "* Το τρίτο πεδίο (```15200644```) είναι η θέση της μετάλλαξης στο χρωμόσωμα 6 (σημείωση, όλες οι μεταλλάξεις βρίσκονται στο χρωμόσωμα 6)\n",
    "* Το τέταρτο και πέμπτο  πεδίο (```G```, ```T```) είναι τα διαφοερετικά αλληλόμορφα (ή αλλιώς alleles) αυτής της θέσεις. Μπορείτε επίσης να αγνοήσετε αυτά τα πεδία. \n",
    "\n",
    "Τα υπόλοιπα πεδία αν τα μετρήσουμε είναι 300 αριθμοί οι οποίοι είναι 0 ή 1:\n"
   ]
  },
  {
   "cell_type": "code",
   "execution_count": 6,
   "metadata": {},
   "outputs": [
    {
     "name": "stdout",
     "output_type": "stream",
     "text": [
      "SNP ID: snp_0\n",
      "DBSNP SNP ID: rs2747507\n",
      "Position:  15200644\n",
      "Alleles: ['G', 'T']\n"
     ]
    },
    {
     "data": {
      "text/plain": [
       "300"
      ]
     },
     "execution_count": 6,
     "metadata": {},
     "output_type": "execute_result"
    }
   ],
   "source": [
    "with open('chr6.cases.gen') as f:\n",
    "    first_line = f.readline()\n",
    "first_line_splitted = first_line.strip().split()\n",
    "print ('SNP ID:', first_line_splitted[0])\n",
    "print ('DBSNP SNP ID:', first_line_splitted[1])\n",
    "print ('Position: ', first_line_splitted[2])\n",
    "print ('Alleles:', first_line_splitted[3:5])\n",
    "\n",
    "len(first_line_splitted[5:])"
   ]
  },
  {
   "cell_type": "markdown",
   "metadata": {},
   "source": [
    "Αυτοί οι 300 αριθμοί κωδικοποιούν τους γονότυπους των 100 ανθρώπων που υπάρχουν στο αρχείο. Ο γονότυπος ενός ανθρώπου κωδικοποιείται με 3 αριθμούς ως εξής:\n",
    "* 1, 0, 0 : Α/Α\n",
    "* 0, 1, 0 : Α/α\n",
    "* 0, 0, 1 : α/α\n",
    "\n",
    "Όπου τα Α και α είναι τα δύο διαφορετικά αλληλόμορφα της μετάλλαξης \n",
    "\n",
    "Δηλαδή αν κοιτάξουμε πάλι τη πρώτη γραμμή του αρχείου:"
   ]
  },
  {
   "cell_type": "code",
   "execution_count": 7,
   "metadata": {},
   "outputs": [
    {
     "name": "stdout",
     "output_type": "stream",
     "text": [
      "snp_0 rs2747507 15200644 G T 1 0 0 1 0 0 1 0 0 1 0 0 1 0 0 1 0 0 1 0 0 1 0 0 1 0 0 1 0 0 0 1 0 1 0 0 1 0 0 1 0 0 1 0 0 1 0 0 1 0 0 1 0 0 1 0 0 1 0 0 1 0 0 1 0 0 1 0 0 1 0 0 1 0 0 1 0 0 1 0 0 1 0 0 1 0 0 1 0 0 0 1 0 0 1 0 1 0 0 1 0 0 1 0 0 1 0 0 1 0 0 1 0 0 1 0 0 1 0 0 1 0 0 1 0 0 1 0 0 1 0 0 1 0 0 0 1 0 1 0 0 1 0 0 1 0 0 1 0 0 1 0 0 1 0 0 1 0 0 1 0 0 1 0 0 1 0 0 1 0 0 1 0 0 1 0 0 1 0 0 1 0 0 1 0 0 1 0 0 1 0 0 1 0 0 1 0 0 1 0 0 1 0 0 1 0 0 1 0 0 1 0 0 1 0 0 1 0 0 1 0 0 1 0 0 1 0 0 1 0 0 1 0 0 1 0 0 1 0 0 1 0 0 1 0 0 1 0 0 1 0 0 1 0 0 0 1 0 1 0 0 1 0 0 1 0 0 1 0 0 1 0 0 1 0 0 1 0 0 1 0 0 1 0 0 1 0 0 1 0 0 1 0 0 1 0 0 0 1 0\r\n"
     ]
    }
   ],
   "source": [
    "!head -n 1 chr6.cases.gen"
   ]
  },
  {
   "cell_type": "markdown",
   "metadata": {},
   "source": [
    "```\n",
    "snp_0 rs2747507 15200644 G T 1 0 0 1 0 0\n",
    "                             ^^^^^\n",
    "                             Ο γονότυπος του 1ου ανρθώπου (1,0,0) -> Α/Α\n",
    "\n",
    "snp_0 rs2747507 15200644 G T 1 0 0 1 0 0\n",
    "                                   ^^^^^\n",
    "                                   Ο γονότυπος του 2ου ανρθώπου (1,0,0) -> Α/Α\n",
    "\n",
    "\n",
    "κτλ..\n",
    "```\n",
    "\n"
   ]
  },
  {
   "cell_type": "markdown",
   "metadata": {},
   "source": [
    "Αν θέσουμε ως όριο σημαντικότητας (significance threshold) το $$α=10^{-4}$$ τότε υπάρχει μία μετάλλαξη σε αυτά τα αρχεία η οποία σχετίζεται με την ασθένεια με p-value < α. Ποια είναι αυτή η μετάλλαξη; Μπορείτε να χρησιμοποιήσετε το chi-square test για να μετρήσετε το p-value κάθε μετάλλαξης. \n",
    "\n",
    "**Προαιρετικό:** Κάντε ένα [Manhattan plot](https://en.wikipedia.org/wiki/Manhattan_plot) με τα p-values όλων των μεταλλάξεων του αρχείου"
   ]
  },
  {
   "cell_type": "markdown",
   "metadata": {},
   "source": [
    "### Άσκηση 18\n",
    "(συνέχεια από την άσκηση 17)\n",
    "\n",
    "Κάντε ένα PCA (Prinicipal Component Analysis) έτσι ώστε να προβάλετε στις 2 διαστάσεις τους γονότυπους των 200 ανθρώπων. Χρησιμοποιήσετε μαύρο χρώμα για τα cases (δεν έχουν την ασθένεια), κόκκινο χρώμα για τα τα controls (έχουν την ασθένεια).\n",
    "\n",
    "Οδηγίες για να κάνετε PCA μπορείτε να βρείτε στη [περιγραφή του project για το 2017-2018](https://gist.github.com/kantale/81d7d728c22fb35d77112c3633e17389)"
   ]
  },
  {
   "cell_type": "markdown",
   "metadata": {},
   "source": [
    "### Άσκηση 19\n",
    "\n",
    "Η [HLA](https://en.wikipedia.org/wiki/Human_leukocyte_antigen) είναι μια περιοχή του γονιδιώματος που περιέχει γονίδια υπέυθυνα για την ιστοσυμβατότητα αλλά και για τη λειτουργία του ανοσοποιητικού συστήματος. Αυτή η περιοχή διακρίνεται για τη τεράστια πολυμορφικότητά της. Το μεγαλύτερο από τα γονίδια της περιοχής αυτής είναι το [HLA-A](https://en.wikipedia.org/wiki/HLA-A). Αυτό το γονίδιο έχει βρεθεί (μέχρι στιγμής) στον άνθρωπο με 2695 διαφορετικές μορφές, ή αλλιώς έχει 2695 αλληλόμορφα. Ως αλληλόμορφο αναφοράς ορίζεται το ```A*01:01:01:01``` όλα τα υπόλοιπα αλληλόμορφα ονομάζονται ανάλογα με το πόσο δομικές είναι διαφορές τους από το αλληλόμορφο αναφοράς. Παραδείγματα ονόματος είναι:\n",
    "\n",
    "```\n",
    "A*01:01:72 \n",
    "A*02:01:01:104\n",
    "A*02:06:05\n",
    "A*02:131:01:01 \n",
    "A*11:341\n",
    "```\n",
    "\n",
    "[Περισσότερα για την ονοματολογία των αλλολομόρφων της HLA](https://en.wikipedia.org/wiki/History_and_naming_of_human_leukocyte_antigens)\n",
    "\n",
    "Σε αυτό το link: https://github.com/ANHIG/IMGTHLA/tree/Latest/alignments υπάρχει το αρχείο ```A_gen.txt``` το οποίο θα πρέπει να κατεβάσετε. Το αρχείο αυτό περιέχει το alignment των 2695 αλληλομόρφων του HLA-A στο αλληλόμορφο αναφοράς. \n",
    "\n",
    "Το αρχείο έχει τη παρακάτω μορφή:\n",
    "```\n",
    " A*01:01:01:01     G | ATGGCCGTC ATGGCGCCCC GAACCCTCCT CCTGCTACTC TCGGGGGCCC TGGCCCT... ...GACCCAG ACCTGGGCG\n",
    " A*74:01:01:02     - | --------- ---------- ---------- ---------- -T-------- -------... ...------- ---A------ \n",
    " A*24:473Q         - | --------- ---------- --------G- ---------- ---------- -------GGC CCT------- --------A-\n",
    "```\n",
    "\n",
    "* Η γραμμή που περιέχει το ```A*01:01:01:01``` περιέχει και το γονιδίωμά της. Σε αυτή τη γραμμή:\n",
    "   * Ο χαρατήρας ```|``` σηματοδοτεί την αρχή κάποιου exon\n",
    "   * Η τελεία ```.``` σηματοδοτεί ότι υπάρχει αλληλόμορφο σε αυτή τη θέση το οποία έχει κάποιο insertion.\n",
    "* Όλες οι υπόλοιπες γραμμές περιέχουν πληροφορία για το alignment του αλληλόμορφου στο ```A*01:01:01:01```\n",
    "   * Η αρχή της γραμμής περιέχει το όνομα του αλληλόμορφου\n",
    "   * Η παύλα ```-``` σημαίνει το αλληλόμορφο έχει το ίδιο νουκλεοτίδιο στην ίδια θέση με το ```A*01:01:01:01```\n",
    "   * Τα γράμματα A,C,G,T σημαίνει ότι σε αυτή τη θέση διαφέρει από το ```A*01:01:01:01```\n",
    "   * Οι τελείες σημαίνει ότι αυτό το αλληλόμορφο ΔΕΝ έχει το insertion. Όπου βλέπουμε τις τελείες καλυμμένες σημαίνει ότι το αλληλόμορφο το έχει. \n",
    "   \n",
    "Σε μερικά σημεία στο alignment βλέπουμε αστεράκια:\n",
    "```\n",
    " A*01:01:01:01     CAGGAGCAGA GGGGTCAGGG CGAAGTCCCA GGGCCCCAGG CGTGGCTCTC\n",
    " A*01:01:01:02N    ********** ********** ********** ********** **********\n",
    "```\n",
    "\n",
    "Αυτό σημαίνει ότι σε αυτή τη θέση το αντίστοιχο νουκλεοτίδιο του αλληλόμορφου είναι άγνωστη. \n",
    "\n",
    "Επίσης, το αλληλόμορφο αναφοράς έχει μέγεθος 3833 νουκλεοτίδια. Για να είναι ευανάγνωστο το αρχείο, έχει σπάσει σε κομμάτια των 100 νουκλεοτιδίων. Οπότε το πρώτο κομμάτι του αρχείου δείχνει το alignment όλων των αλληλόμορφων στις  100 πρώτες θέσεις του ```A*01:01:01:01```. Το δεύτερο κομμάτι του αρχείου δείχνει το alignment στις υπόλοιπες 100, κτλ.\n",
    "\n",
    "[Περισσότερα για αυτό το αρχείο μπορείτε να βρείτε εδώ](https://www.ebi.ac.uk/ipd/imgt/hla/nomenclature/alignments.html)\n",
    "\n",
    "Σε αυτή την άσκηση θα πρέπει να φτιάξετε ένα visualization όλων των αλληλομόρφων του HLA-A. Θα πρέπει να φτιάξετε έναν πίνακα 2695 Χ 3833. \n",
    "\n",
    "Στη θέση i,j του πίνακα αυτού θα πρέπει να υπάρχει το χρώμα:\n",
    "* Άσπρο αν δεν έχουμε πληροφορία για το i-th αλληλόμορφο στη j-th θέση (δηλαδή αν το αρχείο έχει αστεράκι)\n",
    "* Πράσινο αν το i-th αλληλόμορφο έχει το ίδιο νουκλεοτίδιο με το ```A*01:01:01:01``` στη θέση j-th (δηλαδή αν το αρχείο έχει παύλα)\n",
    "* Μπλε αν υπάρχει τελεία σε αυτή τη θέση.\n",
    "* Κόκκινο αν σε αυτή τη θέση υπάρχει κάποιο νουκλεοτίδιο. \n",
    "\n",
    "Δίνεται ο παρακάτω κώδικα για το πώς να  κάνεις plot ένα numpy array ως αρχείο εικόνας:"
   ]
  },
  {
   "cell_type": "code",
   "execution_count": 42,
   "metadata": {},
   "outputs": [
    {
     "data": {
      "text/plain": [
       "<matplotlib.image.AxesImage at 0x137665e80>"
      ]
     },
     "execution_count": 42,
     "metadata": {},
     "output_type": "execute_result"
    },
    {
     "data": {
      "image/png": "[encoded data removed]",
      "text/plain": [
       "<Figure size 1600x1600 with 1 Axes>"
      ]
     },
     "metadata": {
      "needs_background": "light"
     },
     "output_type": "display_data"
    }
   ],
   "source": [
    "import numpy as np\n",
    "\n",
    "from matplotlib.pyplot import imshow, figure\n",
    "figure(num=None, figsize=(10, 10), dpi=160,)\n",
    "\n",
    "#Check: https://matplotlib.org/3.1.1/api/_as_gen/matplotlib.pyplot.imshow.html\n",
    "# The image data. Supported array shapes are:\n",
    "#   * (M, N, 3): an image with RGB values (0-1 float or 0-255 int). \n",
    "\n",
    "# Φτιάχνουμε έναν πίνακα 100Χ120Χ3.\n",
    "# Στη θέση i,j,0 περιέχει το κόκκινο χρώμα του i,j\n",
    "# Στη θέση i,j,1 περιέχει το πράσινο χρώμα του i,j\n",
    "# Στη θέση i,j,2 περιέχει το μπλε χρώμα του i,j\n",
    "image = np.zeros((100, 120, 3), dtype=np.int16) # 0 = μαύρο..\n",
    "\n",
    "# π.χ. Η θέση 10,20 είναι κόκκινη:\n",
    "image[9,19,0] = 255\n",
    "image[9,19,1] = 0\n",
    "image[9,19,2] = 0\n",
    "\n",
    "# Η θέση 20,30 είναι πράσινη:\n",
    "image[19,29,0] = 0\n",
    "image[19,29,1] = 255\n",
    "image[19,29,2] = 0\n",
    "\n",
    "# Η θέση 30,40 είναι μπλε:\n",
    "image[29,39,0] = 0\n",
    "image[29,39,1] = 0\n",
    "image[29,39,2] = 255\n",
    "\n",
    "# Η θέση 40,50 είναι άσπρη:\n",
    "image[39,49,0] = 255\n",
    "image[39,49,1] = 255\n",
    "image[39,49,2] = 255\n",
    "\n",
    "\n",
    "imshow(image)"
   ]
  },
  {
   "cell_type": "markdown",
   "metadata": {},
   "source": [
    "Δίνεται το αποτέλεσμα της δικής μου υλοποίησης. Εννοείται ότι οποιαδίποτε στυλιστική αλλαγή είναι ευπρόσδεκτη!"
   ]
  },
  {
   "cell_type": "code",
   "execution_count": 38,
   "metadata": {},
   "outputs": [
    {
     "data": {
      "text/plain": [
       "<matplotlib.image.AxesImage at 0x1360049e8>"
      ]
     },
     "execution_count": 38,
     "metadata": {},
     "output_type": "execute_result"
    },
    {
     "data": {
      "image/png": "[encoded data removed]",
      "text/plain": [
       "<Figure size 1600x1600 with 1 Axes>"
      ]
     },
     "metadata": {
      "needs_background": "light"
     },
     "output_type": "display_data"
    }
   ],
   "source": []
  },
  {
   "cell_type": "markdown",
   "metadata": {},
   "source": [
    "### Άσκηση 20\n",
    "\n",
    "Όπως έχετε δει και στις [ειδήσεις](https://www.cnn.gr/news/kosmos/story/204832/neos-koronaios-stin-kina-ennea-oi-nekroi-pano-apo-400-ta-kroysmata) υπάρχει μία επιδημία από έναν νέο κοροναϊό στη Κίνα.\n",
    "\n",
    "Το DNA αυτού του ιού έχει αλληλουχιθεί και είναι διαθέσιμο από τη GenBank: https://www.ncbi.nlm.nih.gov/nuccore/MN908947\n",
    "\n",
    "Οι επιστήμονες δεν είναι ακόμα σίγουροι από που έχει προέλθει αλλά [υποψιάζονται](https://en.wikipedia.org/wiki/2019%E2%80%9320_outbreak_of_novel_coronavirus_(2019-nCoV)#Phylogenetics) ότι έχει σχέση με τον [ιό SARS](https://en.wikipedia.org/wiki/Severe_acute_respiratory_syndrome) του οποίο έπίσης το DNA είναι διαθέσιμο από τη GenBank: https://www.ncbi.nlm.nih.gov/nuccore/30271926\n",
    "\n",
    "Ένας γρήγορος τρόπος για να συγκρίνουμε το DNA από δύο οργανισμούς είναι απλά να μετρήσουμε το [ποσοστό των GC νουκλεοτιδίων](https://en.wikipedia.org/wiki/GC-content) που έχει ο ένας και ο άλλος. Δηλαδή μετράμε τον λόγο:\n",
    "\n",
    "$GC=\\cfrac{G+C}{A+T+G+C}$\n",
    "\n",
    "Για τη μία ακολουθία και για την άλλη. Συνήθως αυτό που κάνουμε είναι ότι χρησιμοποιούμε ένα \"παράθυρο\" συγκεκριμένου μήκους στο οποίο μετράμε αυτόν τον λόγο. Στη συνέχεια μεταφέρουμε το παράθυρο προς τα δεξιά και ξαναμετράμε τον λόγο μέχρι το παράθυρο να \"περάσει\" από όλη την ακολουθία. \n",
    "\n",
    "Εσείς θα πρέπει:\n",
    "* Κατεβάστε τη DNA ακολουθία και των δύο ιών (μπορείτε να το κάνετε είτε με.. copy paste είτε από τη biopython)\n",
    "* Θέτουμε σαν μέγεθος παραθύρου το 500 και σαν βήμα το 30\n",
    "* Στην αρχή πάρτε το τμήμα της ακολουθία από 1 μέχρι 500 και για τους δύο ιούς. Υπολογίστε το λόγο GC και αποθηκεύστε τον.\n",
    "* Μεταφέρετε το παράθυρο κατα 30 νουκλεοτίδια δεξιά. Οπότε η θέση του έγινε από 31 μέχρι 530. Πάλι υπολογίστε τον λόγο  GC και αποθηκεύστε τον.\n",
    "* Όταν το τέλος του παραθύρου ξεπεράσει τον μήκος της ακολουθία σταματήστε.\n",
    "* Κάντε ένα πλοτ το οποίο θα έχει δύο υπο-πλοτ. Σε κάθε υπο-πλοτ βάλτε στο Χ άξονα την αρχή του παραθύρου που έγινε η μέτρηση και στον Υ η μέτρηση του GC που κάνατε. Στο \"πάνω\" υπο-πλοτ βάλτε τις μετρήσεις για τον καινούργιο κοροναϊό και στο \"κάτω\" υπο-πλοτ τις μετρήσεις για τον SARS.\n",
    "\n",
    "Η ιδέα για την άσκηση προήλθε από [αυτό το post στο reddit](https://www.reddit.com/r/datasets/comments/esbskf/data_for_the_wuhan_novel_coronavirus)\n",
    "\n",
    "Δίνεται το αποτέλεσμα της δικής μου προσπάθειας:"
   ]
  },
  {
   "cell_type": "code",
   "execution_count": 71,
   "metadata": {},
   "outputs": [
    {
     "data": {
      "image/png": "[encoded data removed]",
      "text/plain": [
       "<Figure size 1120x800 with 2 Axes>"
      ]
     },
     "metadata": {
      "needs_background": "light"
     },
     "output_type": "display_data"
    }
   ],
   "source": []
  }
 ],
 "metadata": {
  "kernelspec": {
   "display_name": "Python 3",
   "language": "python",
   "name": "python3"
  },
  "language_info": {
   "codemirror_mode": {
    "name": "ipython",
    "version": 3
   },
   "file_extension": ".py",
   "mimetype": "text/x-python",
   "name": "python",
   "nbconvert_exporter": "python",
   "pygments_lexer": "ipython3",
   "version": "3.7.4"
  }
 },
 "nbformat": 4,
 "nbformat_minor": 2
}
