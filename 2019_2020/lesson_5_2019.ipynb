{
 "cells": [
  {
   "cell_type": "code",
   "execution_count": 16,
   "metadata": {},
   "outputs": [],
   "source": [
    "students = [\n",
    "    'student 1',\n",
    "    'student 2'\n",
    "]\n",
    "\n",
    "import random\n",
    "def pick():\n",
    "    return random.choice(students)"
   ]
  },
  {
   "cell_type": "code",
   "execution_count": 453,
   "metadata": {},
   "outputs": [],
   "source": [
    "def pick2():\n",
    "    while True:\n",
    "        for student in random.shuffle(students):\n",
    "            yield student"
   ]
  },
  {
   "cell_type": "code",
   "execution_count": 429,
   "metadata": {},
   "outputs": [
    {
     "name": "stdout",
     "output_type": "stream",
     "text": [
      "[3, 1, 4, 2]\n"
     ]
    }
   ],
   "source": [
    "a = [1,2,3,4]\n",
    "random.shuffle(a)\n",
    "print (a)"
   ]
  },
  {
   "cell_type": "code",
   "execution_count": 452,
   "metadata": {},
   "outputs": [
    {
     "name": "stdout",
     "output_type": "stream",
     "text": [
      "2\n"
     ]
    }
   ],
   "source": [
    "a = [1,2,3,4]\n",
    "print (random.choice(a))"
   ]
  },
  {
   "cell_type": "code",
   "execution_count": null,
   "metadata": {},
   "outputs": [],
   "source": []
  },
  {
   "cell_type": "code",
   "execution_count": 390,
   "metadata": {},
   "outputs": [],
   "source": [
    "gen = pick2()"
   ]
  },
  {
   "cell_type": "code",
   "execution_count": 391,
   "metadata": {},
   "outputs": [
    {
     "name": "stdout",
     "output_type": "stream",
     "text": [
      "Πολίνα\n",
      "Ιπποκράτης\n",
      "Αιμίλιος\n",
      "Νίκος\n",
      "Δανάη\n",
      "Αθανασία\n",
      "Έλσα\n",
      "Γιάννης\n",
      "Πολίνα\n",
      "Ιπποκράτης\n",
      "Αιμίλιος\n",
      "Νίκος\n",
      "Δανάη\n",
      "Αθανασία\n",
      "Έλσα\n",
      "Γιάννης\n",
      "Πολίνα\n",
      "Ιπποκράτης\n",
      "Αιμίλιος\n",
      "Νίκος\n",
      "Δανάη\n",
      "Αθανασία\n",
      "Έλσα\n",
      "Γιάννης\n",
      "Πολίνα\n",
      "Ιπποκράτης\n",
      "Αιμίλιος\n",
      "Νίκος\n",
      "Δανάη\n",
      "Αθανασία\n",
      "Έλσα\n",
      "Γιάννης\n",
      "Πολίνα\n",
      "Ιπποκράτης\n",
      "Αιμίλιος\n",
      "Νίκος\n",
      "Δανάη\n",
      "Αθανασία\n",
      "Έλσα\n",
      "Γιάννης\n",
      "Πολίνα\n",
      "Ιπποκράτης\n",
      "Αιμίλιος\n",
      "Νίκος\n",
      "Δανάη\n",
      "Αθανασία\n",
      "Έλσα\n",
      "Γιάννης\n",
      "Πολίνα\n",
      "Ιπποκράτης\n",
      "Αιμίλιος\n",
      "Νίκος\n",
      "Δανάη\n",
      "Αθανασία\n",
      "Έλσα\n",
      "Γιάννης\n",
      "Πολίνα\n",
      "Ιπποκράτης\n",
      "Αιμίλιος\n",
      "Νίκος\n",
      "Δανάη\n",
      "Αθανασία\n",
      "Έλσα\n",
      "Γιάννης\n",
      "Πολίνα\n",
      "Ιπποκράτης\n",
      "Αιμίλιος\n",
      "Νίκος\n",
      "Δανάη\n",
      "Αθανασία\n",
      "Έλσα\n",
      "Γιάννης\n",
      "Πολίνα\n",
      "Ιπποκράτης\n",
      "Αιμίλιος\n",
      "Νίκος\n",
      "Δανάη\n",
      "Αθανασία\n",
      "Έλσα\n",
      "Γιάννης\n",
      "Πολίνα\n",
      "Ιπποκράτης\n",
      "Αιμίλιος\n",
      "Νίκος\n",
      "Δανάη\n",
      "Αθανασία\n",
      "Έλσα\n",
      "Γιάννης\n",
      "Πολίνα\n",
      "Ιπποκράτης\n",
      "Αιμίλιος\n",
      "Νίκος\n",
      "Δανάη\n",
      "Αθανασία\n",
      "Έλσα\n",
      "Γιάννης\n",
      "Πολίνα\n",
      "Ιπποκράτης\n",
      "Αιμίλιος\n",
      "Νίκος\n"
     ]
    }
   ],
   "source": [
    "for i in range(100):\n",
    "    print (next(gen))"
   ]
  },
  {
   "cell_type": "code",
   "execution_count": null,
   "metadata": {},
   "outputs": [],
   "source": []
  },
  {
   "cell_type": "code",
   "execution_count": 380,
   "metadata": {},
   "outputs": [
    {
     "data": {
      "text/plain": [
       "'Πολίνα'"
      ]
     },
     "execution_count": 380,
     "metadata": {},
     "output_type": "execute_result"
    }
   ],
   "source": [
    "next(gen)"
   ]
  },
  {
   "cell_type": "code",
   "execution_count": 381,
   "metadata": {},
   "outputs": [
    {
     "data": {
      "text/plain": [
       "'Ιπποκράτης'"
      ]
     },
     "execution_count": 381,
     "metadata": {},
     "output_type": "execute_result"
    }
   ],
   "source": [
    "next(gen)"
   ]
  },
  {
   "cell_type": "code",
   "execution_count": 382,
   "metadata": {},
   "outputs": [
    {
     "data": {
      "text/plain": [
       "'Αιμίλιος'"
      ]
     },
     "execution_count": 382,
     "metadata": {},
     "output_type": "execute_result"
    }
   ],
   "source": [
    "next(gen)"
   ]
  },
  {
   "cell_type": "code",
   "execution_count": 383,
   "metadata": {},
   "outputs": [
    {
     "data": {
      "text/plain": [
       "'Νίκος'"
      ]
     },
     "execution_count": 383,
     "metadata": {},
     "output_type": "execute_result"
    }
   ],
   "source": [
    "next(gen)"
   ]
  },
  {
   "cell_type": "code",
   "execution_count": 384,
   "metadata": {},
   "outputs": [
    {
     "data": {
      "text/plain": [
       "'Δανάη'"
      ]
     },
     "execution_count": 384,
     "metadata": {},
     "output_type": "execute_result"
    }
   ],
   "source": [
    "next(gen)"
   ]
  },
  {
   "cell_type": "code",
   "execution_count": 385,
   "metadata": {},
   "outputs": [
    {
     "data": {
      "text/plain": [
       "'Αθανασία'"
      ]
     },
     "execution_count": 385,
     "metadata": {},
     "output_type": "execute_result"
    }
   ],
   "source": [
    "next(gen)"
   ]
  },
  {
   "cell_type": "code",
   "execution_count": 386,
   "metadata": {},
   "outputs": [
    {
     "data": {
      "text/plain": [
       "'Έλσα'"
      ]
     },
     "execution_count": 386,
     "metadata": {},
     "output_type": "execute_result"
    }
   ],
   "source": [
    "next(gen)"
   ]
  },
  {
   "cell_type": "code",
   "execution_count": 387,
   "metadata": {},
   "outputs": [
    {
     "data": {
      "text/plain": [
       "'Γιάννης'"
      ]
     },
     "execution_count": 387,
     "metadata": {},
     "output_type": "execute_result"
    }
   ],
   "source": [
    "next(gen)"
   ]
  },
  {
   "cell_type": "code",
   "execution_count": 388,
   "metadata": {},
   "outputs": [
    {
     "ename": "StopIteration",
     "evalue": "",
     "output_type": "error",
     "traceback": [
      "\u001b[0;31m---------------------------------------------------------------------------\u001b[0m",
      "\u001b[0;31mStopIteration\u001b[0m                             Traceback (most recent call last)",
      "\u001b[0;32m<ipython-input-388-6e72e47198db>\u001b[0m in \u001b[0;36m<module>\u001b[0;34m()\u001b[0m\n\u001b[0;32m----> 1\u001b[0;31m \u001b[0mnext\u001b[0m\u001b[0;34m(\u001b[0m\u001b[0mgen\u001b[0m\u001b[0;34m)\u001b[0m\u001b[0;34m\u001b[0m\u001b[0m\n\u001b[0m",
      "\u001b[0;31mStopIteration\u001b[0m: "
     ]
    }
   ],
   "source": [
    "next(gen)"
   ]
  },
  {
   "cell_type": "code",
   "execution_count": null,
   "metadata": {},
   "outputs": [],
   "source": []
  },
  {
   "cell_type": "code",
   "execution_count": 2,
   "metadata": {},
   "outputs": [
    {
     "data": {
      "text/plain": [
       "'Αθανασία'"
      ]
     },
     "execution_count": 2,
     "metadata": {},
     "output_type": "execute_result"
    }
   ],
   "source": [
    "pick()"
   ]
  },
  {
   "cell_type": "code",
   "execution_count": 15,
   "metadata": {},
   "outputs": [],
   "source": [
    "a = [4,1,2]"
   ]
  },
  {
   "cell_type": "code",
   "execution_count": 4,
   "metadata": {},
   "outputs": [
    {
     "data": {
      "text/plain": [
       "[1, 2, 4]"
      ]
     },
     "execution_count": 4,
     "metadata": {},
     "output_type": "execute_result"
    }
   ],
   "source": [
    "sorted(a)"
   ]
  },
  {
   "cell_type": "code",
   "execution_count": 5,
   "metadata": {},
   "outputs": [
    {
     "data": {
      "text/plain": [
       "[4, 1, 2]"
      ]
     },
     "execution_count": 5,
     "metadata": {},
     "output_type": "execute_result"
    }
   ],
   "source": [
    "a"
   ]
  },
  {
   "cell_type": "code",
   "execution_count": 6,
   "metadata": {},
   "outputs": [],
   "source": [
    "a.sort()"
   ]
  },
  {
   "cell_type": "code",
   "execution_count": 7,
   "metadata": {},
   "outputs": [
    {
     "data": {
      "text/plain": [
       "[1, 2, 4]"
      ]
     },
     "execution_count": 7,
     "metadata": {},
     "output_type": "execute_result"
    }
   ],
   "source": [
    "a"
   ]
  },
  {
   "cell_type": "code",
   "execution_count": 8,
   "metadata": {},
   "outputs": [
    {
     "data": {
      "text/plain": [
       "[1, 2, 4]"
      ]
     },
     "execution_count": 8,
     "metadata": {},
     "output_type": "execute_result"
    }
   ],
   "source": [
    "_"
   ]
  },
  {
   "cell_type": "code",
   "execution_count": 9,
   "metadata": {},
   "outputs": [
    {
     "data": {
      "text/plain": [
       "42"
      ]
     },
     "execution_count": 9,
     "metadata": {},
     "output_type": "execute_result"
    }
   ],
   "source": [
    "42"
   ]
  },
  {
   "cell_type": "code",
   "execution_count": 10,
   "metadata": {},
   "outputs": [
    {
     "data": {
      "text/plain": [
       "42"
      ]
     },
     "execution_count": 10,
     "metadata": {},
     "output_type": "execute_result"
    }
   ],
   "source": [
    "_"
   ]
  },
  {
   "cell_type": "code",
   "execution_count": 11,
   "metadata": {},
   "outputs": [
    {
     "data": {
      "text/plain": [
       "[1, 2, 4]"
      ]
     },
     "execution_count": 11,
     "metadata": {},
     "output_type": "execute_result"
    }
   ],
   "source": [
    "sorted(a)"
   ]
  },
  {
   "cell_type": "code",
   "execution_count": 12,
   "metadata": {},
   "outputs": [
    {
     "data": {
      "text/plain": [
       "[1, 2, 4]"
      ]
     },
     "execution_count": 12,
     "metadata": {},
     "output_type": "execute_result"
    }
   ],
   "source": [
    "_"
   ]
  },
  {
   "cell_type": "code",
   "execution_count": 17,
   "metadata": {},
   "outputs": [
    {
     "data": {
      "text/plain": [
       "[1, 2, 4]"
      ]
     },
     "execution_count": 17,
     "metadata": {},
     "output_type": "execute_result"
    }
   ],
   "source": [
    "sorted(a)"
   ]
  },
  {
   "cell_type": "code",
   "execution_count": 18,
   "metadata": {},
   "outputs": [
    {
     "data": {
      "text/plain": [
       "[4, 1, 2]"
      ]
     },
     "execution_count": 18,
     "metadata": {},
     "output_type": "execute_result"
    }
   ],
   "source": [
    "a"
   ]
  },
  {
   "cell_type": "code",
   "execution_count": 20,
   "metadata": {},
   "outputs": [
    {
     "data": {
      "text/plain": [
       "[4, 1, 2]"
      ]
     },
     "execution_count": 20,
     "metadata": {},
     "output_type": "execute_result"
    }
   ],
   "source": [
    "_"
   ]
  },
  {
   "cell_type": "code",
   "execution_count": 21,
   "metadata": {},
   "outputs": [],
   "source": [
    "a = [\n",
    "    ('kosta', 15),\n",
    "    ('manoli', 13),\n",
    "    ('maria', 20),\n",
    "]"
   ]
  },
  {
   "cell_type": "code",
   "execution_count": 22,
   "metadata": {},
   "outputs": [
    {
     "data": {
      "text/plain": [
       "('kosta', 15)"
      ]
     },
     "execution_count": 22,
     "metadata": {},
     "output_type": "execute_result"
    }
   ],
   "source": [
    "min(a)"
   ]
  },
  {
   "cell_type": "code",
   "execution_count": 23,
   "metadata": {},
   "outputs": [
    {
     "data": {
      "text/plain": [
       "'Νίκος'"
      ]
     },
     "execution_count": 23,
     "metadata": {},
     "output_type": "execute_result"
    }
   ],
   "source": [
    "pick()"
   ]
  },
  {
   "cell_type": "code",
   "execution_count": 24,
   "metadata": {},
   "outputs": [
    {
     "data": {
      "text/plain": [
       "[(15, 'kosta'), (13, 'manoli'), (20, 'maria')]"
      ]
     },
     "execution_count": 24,
     "metadata": {},
     "output_type": "execute_result"
    }
   ],
   "source": [
    "[(grade, name) for name, grade in a]"
   ]
  },
  {
   "cell_type": "code",
   "execution_count": 25,
   "metadata": {},
   "outputs": [
    {
     "data": {
      "text/plain": [
       "(13, 'manoli')"
      ]
     },
     "execution_count": 25,
     "metadata": {},
     "output_type": "execute_result"
    }
   ],
   "source": [
    "min([(grade, name) for name, grade in a])"
   ]
  },
  {
   "cell_type": "code",
   "execution_count": 26,
   "metadata": {},
   "outputs": [
    {
     "data": {
      "text/plain": [
       "[('kosta', 15), ('manoli', 13), ('maria', 20)]"
      ]
     },
     "execution_count": 26,
     "metadata": {},
     "output_type": "execute_result"
    }
   ],
   "source": [
    "a"
   ]
  },
  {
   "cell_type": "code",
   "execution_count": 32,
   "metadata": {},
   "outputs": [],
   "source": [
    "def f(item):\n",
    "    return item[1]"
   ]
  },
  {
   "cell_type": "code",
   "execution_count": 31,
   "metadata": {},
   "outputs": [
    {
     "data": {
      "text/plain": [
       "'Αιμίλιος'"
      ]
     },
     "execution_count": 31,
     "metadata": {},
     "output_type": "execute_result"
    }
   ],
   "source": [
    "pick()"
   ]
  },
  {
   "cell_type": "code",
   "execution_count": 30,
   "metadata": {},
   "outputs": [
    {
     "data": {
      "text/plain": [
       "('kosta', 15)"
      ]
     },
     "execution_count": 30,
     "metadata": {},
     "output_type": "execute_result"
    }
   ],
   "source": [
    "a[0]"
   ]
  },
  {
   "cell_type": "code",
   "execution_count": 33,
   "metadata": {},
   "outputs": [
    {
     "data": {
      "text/plain": [
       "15"
      ]
     },
     "execution_count": 33,
     "metadata": {},
     "output_type": "execute_result"
    }
   ],
   "source": [
    "f(a[0])"
   ]
  },
  {
   "cell_type": "code",
   "execution_count": 36,
   "metadata": {},
   "outputs": [
    {
     "data": {
      "text/plain": [
       "('manoli', 13)"
      ]
     },
     "execution_count": 36,
     "metadata": {},
     "output_type": "execute_result"
    }
   ],
   "source": [
    "min(a, key=f)"
   ]
  },
  {
   "cell_type": "code",
   "execution_count": 38,
   "metadata": {},
   "outputs": [
    {
     "data": {
      "text/plain": [
       "'Νίκος'"
      ]
     },
     "execution_count": 38,
     "metadata": {},
     "output_type": "execute_result"
    }
   ],
   "source": [
    "pick()"
   ]
  },
  {
   "cell_type": "code",
   "execution_count": null,
   "metadata": {},
   "outputs": [],
   "source": []
  },
  {
   "cell_type": "code",
   "execution_count": 35,
   "metadata": {},
   "outputs": [
    {
     "data": {
      "text/plain": [
       "[('kosta', 15), ('manoli', 13), ('maria', 20)]"
      ]
     },
     "execution_count": 35,
     "metadata": {},
     "output_type": "execute_result"
    }
   ],
   "source": [
    "a"
   ]
  },
  {
   "cell_type": "code",
   "execution_count": 37,
   "metadata": {},
   "outputs": [
    {
     "data": {
      "text/plain": [
       "[('manoli', 13), ('kosta', 15), ('maria', 20)]"
      ]
     },
     "execution_count": 37,
     "metadata": {},
     "output_type": "execute_result"
    }
   ],
   "source": [
    "sorted(a, key=f)"
   ]
  },
  {
   "cell_type": "code",
   "execution_count": 41,
   "metadata": {},
   "outputs": [
    {
     "data": {
      "text/plain": [
       "('manoli', 13)"
      ]
     },
     "execution_count": 41,
     "metadata": {},
     "output_type": "execute_result"
    }
   ],
   "source": [
    "f(a)"
   ]
  },
  {
   "cell_type": "code",
   "execution_count": 43,
   "metadata": {},
   "outputs": [
    {
     "data": {
      "text/plain": [
       "'Νίκος'"
      ]
     },
     "execution_count": 43,
     "metadata": {},
     "output_type": "execute_result"
    }
   ],
   "source": [
    "pick()"
   ]
  },
  {
   "cell_type": "code",
   "execution_count": null,
   "metadata": {},
   "outputs": [],
   "source": []
  },
  {
   "cell_type": "code",
   "execution_count": 42,
   "metadata": {},
   "outputs": [
    {
     "data": {
      "text/plain": [
       "['Πολίνα',\n",
       " 'Ιπποκράτης',\n",
       " 'Αιμίλιος',\n",
       " 'Νίκος',\n",
       " 'Δανάη',\n",
       " 'Αθανασία',\n",
       " 'Έλσα',\n",
       " 'Γιάννης']"
      ]
     },
     "execution_count": 42,
     "metadata": {},
     "output_type": "execute_result"
    }
   ],
   "source": [
    "students"
   ]
  },
  {
   "cell_type": "code",
   "execution_count": 44,
   "metadata": {},
   "outputs": [
    {
     "data": {
      "text/plain": [
       "['Έλσα',\n",
       " 'Αθανασία',\n",
       " 'Αιμίλιος',\n",
       " 'Γιάννης',\n",
       " 'Δανάη',\n",
       " 'Ιπποκράτης',\n",
       " 'Νίκος',\n",
       " 'Πολίνα']"
      ]
     },
     "execution_count": 44,
     "metadata": {},
     "output_type": "execute_result"
    }
   ],
   "source": [
    "sorted(students)"
   ]
  },
  {
   "cell_type": "code",
   "execution_count": 75,
   "metadata": {},
   "outputs": [
    {
     "data": {
      "text/plain": [
       "'Νίκος'"
      ]
     },
     "execution_count": 75,
     "metadata": {},
     "output_type": "execute_result"
    }
   ],
   "source": [
    "pick()"
   ]
  },
  {
   "cell_type": "code",
   "execution_count": 76,
   "metadata": {},
   "outputs": [
    {
     "data": {
      "text/plain": [
       "['Έλσα',\n",
       " 'Νίκος',\n",
       " 'Δανάη',\n",
       " 'Πολίνα',\n",
       " 'Γιάννης',\n",
       " 'Αιμίλιος',\n",
       " 'Αθανασία',\n",
       " 'Ιπποκράτης']"
      ]
     },
     "execution_count": 76,
     "metadata": {},
     "output_type": "execute_result"
    }
   ],
   "source": [
    "sorted(students, key=len)"
   ]
  },
  {
   "cell_type": "code",
   "execution_count": 78,
   "metadata": {},
   "outputs": [
    {
     "data": {
      "text/plain": [
       "['Ιπποκράτης',\n",
       " 'Αιμίλιος',\n",
       " 'Αθανασία',\n",
       " 'Γιάννης',\n",
       " 'Πολίνα',\n",
       " 'Νίκος',\n",
       " 'Δανάη',\n",
       " 'Έλσα']"
      ]
     },
     "execution_count": 78,
     "metadata": {},
     "output_type": "execute_result"
    }
   ],
   "source": [
    "sorted(students, key=len, reverse=True)"
   ]
  },
  {
   "cell_type": "code",
   "execution_count": 79,
   "metadata": {},
   "outputs": [
    {
     "data": {
      "text/plain": [
       "[('kosta', 15), ('manoli', 13), ('maria', 20)]"
      ]
     },
     "execution_count": 79,
     "metadata": {},
     "output_type": "execute_result"
    }
   ],
   "source": [
    "a"
   ]
  },
  {
   "cell_type": "code",
   "execution_count": 80,
   "metadata": {},
   "outputs": [],
   "source": [
    "def f(item):\n",
    "    return item[1]"
   ]
  },
  {
   "cell_type": "code",
   "execution_count": null,
   "metadata": {},
   "outputs": [],
   "source": [
    "sorted(a, key=f)"
   ]
  },
  {
   "cell_type": "code",
   "execution_count": 81,
   "metadata": {},
   "outputs": [
    {
     "data": {
      "text/plain": [
       "<function __main__.<lambda>(item)>"
      ]
     },
     "execution_count": 81,
     "metadata": {},
     "output_type": "execute_result"
    }
   ],
   "source": [
    "lambda item : item[1]"
   ]
  },
  {
   "cell_type": "code",
   "execution_count": 84,
   "metadata": {},
   "outputs": [
    {
     "data": {
      "text/plain": [
       "3"
      ]
     },
     "execution_count": 84,
     "metadata": {},
     "output_type": "execute_result"
    }
   ],
   "source": [
    "(lambda item : item[1])([2,3])"
   ]
  },
  {
   "cell_type": "code",
   "execution_count": null,
   "metadata": {},
   "outputs": [],
   "source": []
  },
  {
   "cell_type": "code",
   "execution_count": 82,
   "metadata": {},
   "outputs": [
    {
     "data": {
      "text/plain": [
       "'Πολίνα'"
      ]
     },
     "execution_count": 82,
     "metadata": {},
     "output_type": "execute_result"
    }
   ],
   "source": [
    "pick()"
   ]
  },
  {
   "cell_type": "code",
   "execution_count": 83,
   "metadata": {},
   "outputs": [
    {
     "data": {
      "text/plain": [
       "3"
      ]
     },
     "execution_count": 83,
     "metadata": {},
     "output_type": "execute_result"
    }
   ],
   "source": [
    "f([2,3])"
   ]
  },
  {
   "cell_type": "code",
   "execution_count": 85,
   "metadata": {},
   "outputs": [],
   "source": [
    "f = lambda item : item[1]"
   ]
  },
  {
   "cell_type": "code",
   "execution_count": 86,
   "metadata": {},
   "outputs": [
    {
     "data": {
      "text/plain": [
       "('manoli', 13)"
      ]
     },
     "execution_count": 86,
     "metadata": {},
     "output_type": "execute_result"
    }
   ],
   "source": [
    "min(a, key=lambda item : item[1])"
   ]
  },
  {
   "cell_type": "code",
   "execution_count": 93,
   "metadata": {},
   "outputs": [
    {
     "data": {
      "text/plain": [
       "('manoli', 13)"
      ]
     },
     "execution_count": 93,
     "metadata": {},
     "output_type": "execute_result"
    }
   ],
   "source": [
    "min(a, key=lambda item : item[1])"
   ]
  },
  {
   "cell_type": "code",
   "execution_count": null,
   "metadata": {},
   "outputs": [],
   "source": []
  },
  {
   "cell_type": "code",
   "execution_count": null,
   "metadata": {},
   "outputs": [],
   "source": []
  },
  {
   "cell_type": "code",
   "execution_count": null,
   "metadata": {},
   "outputs": [],
   "source": []
  },
  {
   "cell_type": "code",
   "execution_count": 87,
   "metadata": {},
   "outputs": [
    {
     "data": {
      "text/plain": [
       "['Πολίνα',\n",
       " 'Ιπποκράτης',\n",
       " 'Αιμίλιος',\n",
       " 'Νίκος',\n",
       " 'Δανάη',\n",
       " 'Αθανασία',\n",
       " 'Έλσα',\n",
       " 'Γιάννης']"
      ]
     },
     "execution_count": 87,
     "metadata": {},
     "output_type": "execute_result"
    }
   ],
   "source": [
    "students"
   ]
  },
  {
   "cell_type": "code",
   "execution_count": 88,
   "metadata": {},
   "outputs": [
    {
     "data": {
      "text/plain": [
       "'Δανάη'"
      ]
     },
     "execution_count": 88,
     "metadata": {},
     "output_type": "execute_result"
    }
   ],
   "source": [
    "pick()"
   ]
  },
  {
   "cell_type": "code",
   "execution_count": 89,
   "metadata": {},
   "outputs": [
    {
     "data": {
      "text/plain": [
       "['Νίκος',\n",
       " 'Δανάη',\n",
       " 'Αθανασία',\n",
       " 'Αιμίλιος',\n",
       " 'Γιάννης',\n",
       " 'Έλσα',\n",
       " 'Πολίνα',\n",
       " 'Ιπποκράτης']"
      ]
     },
     "execution_count": 89,
     "metadata": {},
     "output_type": "execute_result"
    }
   ],
   "source": [
    "sorted(students, key=lambda item:item[1])"
   ]
  },
  {
   "cell_type": "code",
   "execution_count": 94,
   "metadata": {},
   "outputs": [],
   "source": [
    "a=[4,2,3]"
   ]
  },
  {
   "cell_type": "code",
   "execution_count": 95,
   "metadata": {},
   "outputs": [
    {
     "data": {
      "text/plain": [
       "'Έλσα'"
      ]
     },
     "execution_count": 95,
     "metadata": {},
     "output_type": "execute_result"
    }
   ],
   "source": [
    "pick()"
   ]
  },
  {
   "cell_type": "code",
   "execution_count": 100,
   "metadata": {},
   "outputs": [],
   "source": [
    "new_list = [i*2 for i in a]"
   ]
  },
  {
   "cell_type": "code",
   "execution_count": null,
   "metadata": {},
   "outputs": [],
   "source": []
  },
  {
   "cell_type": "code",
   "execution_count": 97,
   "metadata": {},
   "outputs": [],
   "source": [
    "new_list = []\n",
    "for i in a:\n",
    "    new_list.append(i*2)"
   ]
  },
  {
   "cell_type": "code",
   "execution_count": 98,
   "metadata": {},
   "outputs": [
    {
     "data": {
      "text/plain": [
       "[8, 4, 6]"
      ]
     },
     "execution_count": 98,
     "metadata": {},
     "output_type": "execute_result"
    }
   ],
   "source": [
    "new_list"
   ]
  },
  {
   "cell_type": "code",
   "execution_count": 101,
   "metadata": {},
   "outputs": [],
   "source": [
    "def g(x):\n",
    "    return x*2"
   ]
  },
  {
   "cell_type": "code",
   "execution_count": 102,
   "metadata": {},
   "outputs": [
    {
     "data": {
      "text/plain": [
       "[4, 2, 3]"
      ]
     },
     "execution_count": 102,
     "metadata": {},
     "output_type": "execute_result"
    }
   ],
   "source": [
    "a"
   ]
  },
  {
   "cell_type": "code",
   "execution_count": 105,
   "metadata": {},
   "outputs": [
    {
     "data": {
      "text/plain": [
       "<map at 0x10da55748>"
      ]
     },
     "execution_count": 105,
     "metadata": {},
     "output_type": "execute_result"
    }
   ],
   "source": [
    "map(g, a)"
   ]
  },
  {
   "cell_type": "code",
   "execution_count": 104,
   "metadata": {},
   "outputs": [
    {
     "data": {
      "text/plain": [
       "[8, 4, 6]"
      ]
     },
     "execution_count": 104,
     "metadata": {},
     "output_type": "execute_result"
    }
   ],
   "source": [
    "list(map(g, a))"
   ]
  },
  {
   "cell_type": "code",
   "execution_count": 106,
   "metadata": {},
   "outputs": [
    {
     "data": {
      "text/plain": [
       "[8, 4, 6]"
      ]
     },
     "execution_count": 106,
     "metadata": {},
     "output_type": "execute_result"
    }
   ],
   "source": [
    "list(map(lambda x :x*2 , a))"
   ]
  },
  {
   "cell_type": "code",
   "execution_count": 108,
   "metadata": {},
   "outputs": [],
   "source": [
    "what = lambda x: lambda y:y+x"
   ]
  },
  {
   "cell_type": "code",
   "execution_count": 110,
   "metadata": {},
   "outputs": [
    {
     "data": {
      "text/plain": [
       "7"
      ]
     },
     "execution_count": 110,
     "metadata": {},
     "output_type": "execute_result"
    }
   ],
   "source": [
    "what(3)(4)"
   ]
  },
  {
   "cell_type": "markdown",
   "metadata": {},
   "source": [
    "# Functional programming"
   ]
  },
  {
   "cell_type": "markdown",
   "metadata": {},
   "source": [
    "# Generators"
   ]
  },
  {
   "cell_type": "code",
   "execution_count": 111,
   "metadata": {},
   "outputs": [],
   "source": [
    "def f():\n",
    "    return 4"
   ]
  },
  {
   "cell_type": "code",
   "execution_count": 115,
   "metadata": {},
   "outputs": [
    {
     "data": {
      "text/plain": [
       "'Νίκος'"
      ]
     },
     "execution_count": 115,
     "metadata": {},
     "output_type": "execute_result"
    }
   ],
   "source": [
    "pick()"
   ]
  },
  {
   "cell_type": "code",
   "execution_count": 113,
   "metadata": {},
   "outputs": [
    {
     "data": {
      "text/plain": [
       "4"
      ]
     },
     "execution_count": 113,
     "metadata": {},
     "output_type": "execute_result"
    }
   ],
   "source": [
    "f()"
   ]
  },
  {
   "cell_type": "code",
   "execution_count": 114,
   "metadata": {},
   "outputs": [],
   "source": [
    "def f():\n",
    "    return 4\n",
    "    return 5"
   ]
  },
  {
   "cell_type": "code",
   "execution_count": 116,
   "metadata": {},
   "outputs": [
    {
     "data": {
      "text/plain": [
       "4"
      ]
     },
     "execution_count": 116,
     "metadata": {},
     "output_type": "execute_result"
    }
   ],
   "source": [
    "f()"
   ]
  },
  {
   "cell_type": "code",
   "execution_count": 117,
   "metadata": {},
   "outputs": [
    {
     "data": {
      "text/plain": [
       "4"
      ]
     },
     "execution_count": 117,
     "metadata": {},
     "output_type": "execute_result"
    }
   ],
   "source": [
    "f()"
   ]
  },
  {
   "cell_type": "code",
   "execution_count": 118,
   "metadata": {},
   "outputs": [],
   "source": [
    "def g():\n",
    "    yield 4\n",
    "    yield 5"
   ]
  },
  {
   "cell_type": "code",
   "execution_count": 119,
   "metadata": {},
   "outputs": [],
   "source": [
    "gen = g()"
   ]
  },
  {
   "cell_type": "code",
   "execution_count": 120,
   "metadata": {},
   "outputs": [
    {
     "data": {
      "text/plain": [
       "generator"
      ]
     },
     "execution_count": 120,
     "metadata": {},
     "output_type": "execute_result"
    }
   ],
   "source": [
    "type(gen)"
   ]
  },
  {
   "cell_type": "code",
   "execution_count": 121,
   "metadata": {},
   "outputs": [
    {
     "data": {
      "text/plain": [
       "4"
      ]
     },
     "execution_count": 121,
     "metadata": {},
     "output_type": "execute_result"
    }
   ],
   "source": [
    "next(gen)"
   ]
  },
  {
   "cell_type": "code",
   "execution_count": 122,
   "metadata": {},
   "outputs": [
    {
     "data": {
      "text/plain": [
       "5"
      ]
     },
     "execution_count": 122,
     "metadata": {},
     "output_type": "execute_result"
    }
   ],
   "source": [
    "next(gen)"
   ]
  },
  {
   "cell_type": "code",
   "execution_count": 123,
   "metadata": {},
   "outputs": [
    {
     "ename": "StopIteration",
     "evalue": "",
     "output_type": "error",
     "traceback": [
      "\u001b[0;31m---------------------------------------------------------------------------\u001b[0m",
      "\u001b[0;31mStopIteration\u001b[0m                             Traceback (most recent call last)",
      "\u001b[0;32m<ipython-input-123-6e72e47198db>\u001b[0m in \u001b[0;36m<module>\u001b[0;34m()\u001b[0m\n\u001b[0;32m----> 1\u001b[0;31m \u001b[0mnext\u001b[0m\u001b[0;34m(\u001b[0m\u001b[0mgen\u001b[0m\u001b[0;34m)\u001b[0m\u001b[0;34m\u001b[0m\u001b[0m\n\u001b[0m",
      "\u001b[0;31mStopIteration\u001b[0m: "
     ]
    }
   ],
   "source": [
    "next(gen)"
   ]
  },
  {
   "cell_type": "code",
   "execution_count": 124,
   "metadata": {},
   "outputs": [
    {
     "data": {
      "text/plain": [
       "<generator object g at 0x10d992930>"
      ]
     },
     "execution_count": 124,
     "metadata": {},
     "output_type": "execute_result"
    }
   ],
   "source": [
    "gen"
   ]
  },
  {
   "cell_type": "code",
   "execution_count": 285,
   "metadata": {},
   "outputs": [],
   "source": [
    "import math\n",
    "\n",
    "def is_prime(x):\n",
    "    \n",
    "    if x in [1,2,3]:\n",
    "        return True\n",
    "    \n",
    "    for i in range(2, int(math.sqrt(x))+1):\n",
    "        if not x%i:\n",
    "            return False\n",
    "    return True\n",
    "\n",
    "def prime_generator():\n",
    "    start = 1\n",
    "    #while start<100:\n",
    "    while True:\n",
    "        if is_prime(start):\n",
    "            yield start\n",
    "        start += 1\n",
    "    "
   ]
  },
  {
   "cell_type": "code",
   "execution_count": 135,
   "metadata": {},
   "outputs": [
    {
     "data": {
      "text/plain": [
       "False"
      ]
     },
     "execution_count": 135,
     "metadata": {},
     "output_type": "execute_result"
    }
   ],
   "source": [
    "is_prime(24)"
   ]
  },
  {
   "cell_type": "code",
   "execution_count": 256,
   "metadata": {},
   "outputs": [],
   "source": [
    "gen = prime_generator()"
   ]
  },
  {
   "cell_type": "code",
   "execution_count": 283,
   "metadata": {},
   "outputs": [
    {
     "ename": "StopIteration",
     "evalue": "",
     "output_type": "error",
     "traceback": [
      "\u001b[0;31m---------------------------------------------------------------------------\u001b[0m",
      "\u001b[0;31mStopIteration\u001b[0m                             Traceback (most recent call last)",
      "\u001b[0;32m<ipython-input-283-6e72e47198db>\u001b[0m in \u001b[0;36m<module>\u001b[0;34m()\u001b[0m\n\u001b[0;32m----> 1\u001b[0;31m \u001b[0mnext\u001b[0m\u001b[0;34m(\u001b[0m\u001b[0mgen\u001b[0m\u001b[0;34m)\u001b[0m\u001b[0;34m\u001b[0m\u001b[0m\n\u001b[0m",
      "\u001b[0;31mStopIteration\u001b[0m: "
     ]
    }
   ],
   "source": [
    "next(gen)"
   ]
  },
  {
   "cell_type": "code",
   "execution_count": 181,
   "metadata": {},
   "outputs": [
    {
     "data": {
      "text/plain": [
       "2"
      ]
     },
     "execution_count": 181,
     "metadata": {},
     "output_type": "execute_result"
    }
   ],
   "source": [
    "next(gen)"
   ]
  },
  {
   "cell_type": "code",
   "execution_count": 182,
   "metadata": {},
   "outputs": [
    {
     "data": {
      "text/plain": [
       "3"
      ]
     },
     "execution_count": 182,
     "metadata": {},
     "output_type": "execute_result"
    }
   ],
   "source": [
    "next(gen)"
   ]
  },
  {
   "cell_type": "code",
   "execution_count": 183,
   "metadata": {},
   "outputs": [
    {
     "data": {
      "text/plain": [
       "5"
      ]
     },
     "execution_count": 183,
     "metadata": {},
     "output_type": "execute_result"
    }
   ],
   "source": [
    "next(gen)"
   ]
  },
  {
   "cell_type": "code",
   "execution_count": 184,
   "metadata": {},
   "outputs": [
    {
     "data": {
      "text/plain": [
       "7"
      ]
     },
     "execution_count": 184,
     "metadata": {},
     "output_type": "execute_result"
    }
   ],
   "source": [
    "next(gen)"
   ]
  },
  {
   "cell_type": "code",
   "execution_count": 254,
   "metadata": {},
   "outputs": [
    {
     "data": {
      "text/plain": [
       "373"
      ]
     },
     "execution_count": 254,
     "metadata": {},
     "output_type": "execute_result"
    }
   ],
   "source": [
    "next(gen)"
   ]
  },
  {
   "cell_type": "code",
   "execution_count": 286,
   "metadata": {},
   "outputs": [],
   "source": [
    "gen = prime_generator()\n",
    "first_100_p = [next(gen) for x in range(100)]\n",
    "\n"
   ]
  },
  {
   "cell_type": "code",
   "execution_count": 288,
   "metadata": {},
   "outputs": [],
   "source": [
    "primers_lower_100 = []\n",
    "gen = prime_generator()\n",
    "while True:\n",
    "    p = next(gen)\n",
    "    if p>100:\n",
    "        break\n",
    "        \n",
    "    primers_lower_100.append(p)"
   ]
  },
  {
   "cell_type": "code",
   "execution_count": 289,
   "metadata": {},
   "outputs": [
    {
     "data": {
      "text/plain": [
       "[1,\n",
       " 2,\n",
       " 3,\n",
       " 5,\n",
       " 7,\n",
       " 11,\n",
       " 13,\n",
       " 17,\n",
       " 19,\n",
       " 23,\n",
       " 29,\n",
       " 31,\n",
       " 37,\n",
       " 41,\n",
       " 43,\n",
       " 47,\n",
       " 53,\n",
       " 59,\n",
       " 61,\n",
       " 67,\n",
       " 71,\n",
       " 73,\n",
       " 79,\n",
       " 83,\n",
       " 89,\n",
       " 97]"
      ]
     },
     "execution_count": 289,
     "metadata": {},
     "output_type": "execute_result"
    }
   ],
   "source": [
    "primers_lower_100"
   ]
  },
  {
   "cell_type": "code",
   "execution_count": 296,
   "metadata": {},
   "outputs": [
    {
     "data": {
      "text/plain": [
       "'Γιάννης'"
      ]
     },
     "execution_count": 296,
     "metadata": {},
     "output_type": "execute_result"
    }
   ],
   "source": [
    "pick()"
   ]
  },
  {
   "cell_type": "code",
   "execution_count": 302,
   "metadata": {},
   "outputs": [
    {
     "name": "stdout",
     "output_type": "stream",
     "text": [
      "1\n",
      "2\n",
      "3\n",
      "4\n",
      "5\n",
      "6\n"
     ]
    }
   ],
   "source": [
    "i=0\n",
    "while i<20:\n",
    "    \n",
    "    if i>5:\n",
    "        break\n",
    "    i += 1\n",
    "    print (i)\n"
   ]
  },
  {
   "cell_type": "code",
   "execution_count": 301,
   "metadata": {},
   "outputs": [
    {
     "name": "stdout",
     "output_type": "stream",
     "text": [
      "5\n",
      "6\n",
      "7\n",
      "8\n",
      "9\n",
      "10\n",
      "11\n",
      "12\n",
      "13\n",
      "14\n",
      "15\n",
      "16\n",
      "17\n",
      "18\n",
      "19\n",
      "20\n"
     ]
    }
   ],
   "source": [
    "i=0\n",
    "while i<20:\n",
    "    i += 1\n",
    "    if i<5:\n",
    "        continue\n",
    "\n",
    "    print (i)"
   ]
  },
  {
   "cell_type": "code",
   "execution_count": null,
   "metadata": {},
   "outputs": [],
   "source": []
  },
  {
   "cell_type": "code",
   "execution_count": 299,
   "metadata": {},
   "outputs": [
    {
     "data": {
      "text/plain": [
       "'Νίκος'"
      ]
     },
     "execution_count": 299,
     "metadata": {},
     "output_type": "execute_result"
    }
   ],
   "source": [
    "pick()"
   ]
  },
  {
   "cell_type": "code",
   "execution_count": null,
   "metadata": {},
   "outputs": [],
   "source": []
  },
  {
   "cell_type": "code",
   "execution_count": 294,
   "metadata": {},
   "outputs": [
    {
     "data": {
      "text/plain": [
       "[1, 2, 3, 4, 5, 6, 7, 8, 9, 10, 11, 12, 13, 14, 15, 16, 17, 18, 19, 20]"
      ]
     },
     "execution_count": 294,
     "metadata": {},
     "output_type": "execute_result"
    }
   ],
   "source": [
    "list(range(1,21))"
   ]
  },
  {
   "cell_type": "code",
   "execution_count": 290,
   "metadata": {},
   "outputs": [
    {
     "data": {
      "text/plain": [
       "'Ιπποκράτης'"
      ]
     },
     "execution_count": 290,
     "metadata": {},
     "output_type": "execute_result"
    }
   ],
   "source": [
    "pick()"
   ]
  },
  {
   "cell_type": "code",
   "execution_count": 305,
   "metadata": {},
   "outputs": [
    {
     "name": "stdout",
     "output_type": "stream",
     "text": [
      "1\n",
      "2\n",
      "3\n",
      "4\n",
      "5\n",
      "6\n",
      "7\n",
      "8\n",
      "9\n",
      "10\n",
      "11\n"
     ]
    }
   ],
   "source": [
    "i=0\n",
    "while i<20:\n",
    "    \n",
    "    if i>10:\n",
    "        break\n",
    "    i += 1\n",
    "    print (i)\n",
    "else:\n",
    "    print ('HIT BREAK')"
   ]
  },
  {
   "cell_type": "code",
   "execution_count": 306,
   "metadata": {},
   "outputs": [
    {
     "name": "stdout",
     "output_type": "stream",
     "text": [
      "1\n",
      "2\n",
      "3\n",
      "4\n",
      "5\n",
      "6\n",
      "7\n",
      "8\n",
      "9\n",
      "10\n",
      "11\n",
      "12\n",
      "13\n",
      "14\n",
      "15\n",
      "16\n",
      "17\n",
      "18\n",
      "19\n",
      "20\n",
      "HIT BREAK\n"
     ]
    }
   ],
   "source": [
    "i=0\n",
    "while i<20:\n",
    "    \n",
    "    if i>50:\n",
    "        break\n",
    "    i += 1\n",
    "    print (i)\n",
    "else:\n",
    "    print ('HIT BREAK')"
   ]
  },
  {
   "cell_type": "code",
   "execution_count": 307,
   "metadata": {},
   "outputs": [
    {
     "data": {
      "text/plain": [
       "[1,\n",
       " 2,\n",
       " 3,\n",
       " 5,\n",
       " 7,\n",
       " 11,\n",
       " 13,\n",
       " 17,\n",
       " 19,\n",
       " 23,\n",
       " 29,\n",
       " 31,\n",
       " 37,\n",
       " 41,\n",
       " 43,\n",
       " 47,\n",
       " 53,\n",
       " 59,\n",
       " 61,\n",
       " 67,\n",
       " 71,\n",
       " 73,\n",
       " 79,\n",
       " 83,\n",
       " 89,\n",
       " 97,\n",
       " 101,\n",
       " 103,\n",
       " 107,\n",
       " 109,\n",
       " 113,\n",
       " 127,\n",
       " 131,\n",
       " 137,\n",
       " 139,\n",
       " 149,\n",
       " 151,\n",
       " 157,\n",
       " 163,\n",
       " 167,\n",
       " 173,\n",
       " 179,\n",
       " 181,\n",
       " 191,\n",
       " 193,\n",
       " 197,\n",
       " 199,\n",
       " 211,\n",
       " 223,\n",
       " 227,\n",
       " 229,\n",
       " 233,\n",
       " 239,\n",
       " 241,\n",
       " 251,\n",
       " 257,\n",
       " 263,\n",
       " 269,\n",
       " 271,\n",
       " 277,\n",
       " 281,\n",
       " 283,\n",
       " 293,\n",
       " 307,\n",
       " 311,\n",
       " 313,\n",
       " 317,\n",
       " 331,\n",
       " 337,\n",
       " 347,\n",
       " 349,\n",
       " 353,\n",
       " 359,\n",
       " 367,\n",
       " 373,\n",
       " 379,\n",
       " 383,\n",
       " 389,\n",
       " 397,\n",
       " 401,\n",
       " 409,\n",
       " 419,\n",
       " 421,\n",
       " 431,\n",
       " 433,\n",
       " 439,\n",
       " 443,\n",
       " 449,\n",
       " 457,\n",
       " 461,\n",
       " 463,\n",
       " 467,\n",
       " 479,\n",
       " 487,\n",
       " 491,\n",
       " 499,\n",
       " 503,\n",
       " 509,\n",
       " 521,\n",
       " 523]"
      ]
     },
     "execution_count": 307,
     "metadata": {},
     "output_type": "execute_result"
    }
   ],
   "source": [
    "first_100_p"
   ]
  },
  {
   "cell_type": "code",
   "execution_count": 308,
   "metadata": {},
   "outputs": [
    {
     "data": {
      "text/plain": [
       "3"
      ]
     },
     "execution_count": 308,
     "metadata": {},
     "output_type": "execute_result"
    }
   ],
   "source": [
    "abs(-3)"
   ]
  },
  {
   "cell_type": "code",
   "execution_count": 310,
   "metadata": {},
   "outputs": [
    {
     "data": {
      "text/plain": [
       "1212.1232"
      ]
     },
     "execution_count": 310,
     "metadata": {},
     "output_type": "execute_result"
    }
   ],
   "source": [
    "abs(-1212.1232)"
   ]
  },
  {
   "cell_type": "code",
   "execution_count": 311,
   "metadata": {},
   "outputs": [],
   "source": [
    "age=40\n",
    "if age>=18:\n",
    "    status='adult'\n",
    "else:\n",
    "    status='underage'"
   ]
  },
  {
   "cell_type": "code",
   "execution_count": 313,
   "metadata": {},
   "outputs": [
    {
     "data": {
      "text/plain": [
       "'adult'"
      ]
     },
     "execution_count": 313,
     "metadata": {},
     "output_type": "execute_result"
    }
   ],
   "source": [
    "status"
   ]
  },
  {
   "cell_type": "code",
   "execution_count": 318,
   "metadata": {},
   "outputs": [],
   "source": [
    "status = 'adult' if age>=18 else 'underage'"
   ]
  },
  {
   "cell_type": "code",
   "execution_count": 321,
   "metadata": {},
   "outputs": [
    {
     "data": {
      "text/plain": [
       "'adult'"
      ]
     },
     "execution_count": 321,
     "metadata": {},
     "output_type": "execute_result"
    }
   ],
   "source": [
    "status"
   ]
  },
  {
   "cell_type": "code",
   "execution_count": 315,
   "metadata": {},
   "outputs": [],
   "source": [
    "status = lambda age: 'adult' if age>=18 else 'underage'"
   ]
  },
  {
   "cell_type": "code",
   "execution_count": 317,
   "metadata": {},
   "outputs": [
    {
     "data": {
      "text/plain": [
       "'underage'"
      ]
     },
     "execution_count": 317,
     "metadata": {},
     "output_type": "execute_result"
    }
   ],
   "source": [
    "status(10)"
   ]
  },
  {
   "cell_type": "code",
   "execution_count": 326,
   "metadata": {},
   "outputs": [
    {
     "name": "stdout",
     "output_type": "stream",
     "text": [
      "what is your age?   1231234\n"
     ]
    }
   ],
   "source": [
    "age = input('what is your age?   ')"
   ]
  },
  {
   "cell_type": "code",
   "execution_count": 324,
   "metadata": {},
   "outputs": [
    {
     "data": {
      "text/plain": [
       "1234"
      ]
     },
     "execution_count": 324,
     "metadata": {},
     "output_type": "execute_result"
    }
   ],
   "source": [
    "int(age)"
   ]
  },
  {
   "cell_type": "code",
   "execution_count": 327,
   "metadata": {},
   "outputs": [],
   "source": [
    "a=3"
   ]
  },
  {
   "cell_type": "code",
   "execution_count": 329,
   "metadata": {},
   "outputs": [
    {
     "data": {
      "text/plain": [
       "3"
      ]
     },
     "execution_count": 329,
     "metadata": {},
     "output_type": "execute_result"
    }
   ],
   "source": [
    "a"
   ]
  },
  {
   "cell_type": "code",
   "execution_count": 330,
   "metadata": {},
   "outputs": [],
   "source": [
    "del a"
   ]
  },
  {
   "cell_type": "code",
   "execution_count": 331,
   "metadata": {},
   "outputs": [
    {
     "ename": "NameError",
     "evalue": "name 'a' is not defined",
     "output_type": "error",
     "traceback": [
      "\u001b[0;31m---------------------------------------------------------------------------\u001b[0m",
      "\u001b[0;31mNameError\u001b[0m                                 Traceback (most recent call last)",
      "\u001b[0;32m<ipython-input-331-3f786850e387>\u001b[0m in \u001b[0;36m<module>\u001b[0;34m()\u001b[0m\n\u001b[0;32m----> 1\u001b[0;31m \u001b[0ma\u001b[0m\u001b[0;34m\u001b[0m\u001b[0m\n\u001b[0m",
      "\u001b[0;31mNameError\u001b[0m: name 'a' is not defined"
     ]
    }
   ],
   "source": [
    "a"
   ]
  },
  {
   "cell_type": "code",
   "execution_count": 332,
   "metadata": {},
   "outputs": [],
   "source": [
    "a = [1,2,3,4]"
   ]
  },
  {
   "cell_type": "code",
   "execution_count": 333,
   "metadata": {},
   "outputs": [],
   "source": [
    "del a[-1]"
   ]
  },
  {
   "cell_type": "code",
   "execution_count": 334,
   "metadata": {},
   "outputs": [
    {
     "data": {
      "text/plain": [
       "[1, 2, 3]"
      ]
     },
     "execution_count": 334,
     "metadata": {},
     "output_type": "execute_result"
    }
   ],
   "source": [
    "a"
   ]
  },
  {
   "cell_type": "code",
   "execution_count": 335,
   "metadata": {},
   "outputs": [],
   "source": [
    "a = {\n",
    "    'name': 'mitsos',\n",
    "    'age': 50\n",
    "}"
   ]
  },
  {
   "cell_type": "code",
   "execution_count": 336,
   "metadata": {},
   "outputs": [
    {
     "data": {
      "text/plain": [
       "{'name': 'mitsos', 'age': 50}"
      ]
     },
     "execution_count": 336,
     "metadata": {},
     "output_type": "execute_result"
    }
   ],
   "source": [
    "a"
   ]
  },
  {
   "cell_type": "code",
   "execution_count": 337,
   "metadata": {},
   "outputs": [],
   "source": [
    "del a['name']"
   ]
  },
  {
   "cell_type": "code",
   "execution_count": 338,
   "metadata": {},
   "outputs": [
    {
     "data": {
      "text/plain": [
       "{'age': 50}"
      ]
     },
     "execution_count": 338,
     "metadata": {},
     "output_type": "execute_result"
    }
   ],
   "source": [
    "a"
   ]
  },
  {
   "cell_type": "code",
   "execution_count": 344,
   "metadata": {},
   "outputs": [],
   "source": [
    "def f():\n",
    "    a = list(range(100000000))\n",
    "    return 42"
   ]
  },
  {
   "cell_type": "code",
   "execution_count": 343,
   "metadata": {},
   "outputs": [
    {
     "data": {
      "text/plain": [
       "42"
      ]
     },
     "execution_count": 343,
     "metadata": {},
     "output_type": "execute_result"
    }
   ],
   "source": [
    "f()"
   ]
  },
  {
   "cell_type": "code",
   "execution_count": 358,
   "metadata": {},
   "outputs": [],
   "source": [
    "def f(age):\n",
    "    assert 0<=age<=100 # TI HLIKIA EINAI AUTH RE?\n",
    "    assert type(age) is int # LA8OS TYPO!\n",
    "    return 'adult' if age>=18 else 'underage'"
   ]
  },
  {
   "cell_type": "code",
   "execution_count": 349,
   "metadata": {},
   "outputs": [
    {
     "data": {
      "text/plain": [
       "'adult'"
      ]
     },
     "execution_count": 349,
     "metadata": {},
     "output_type": "execute_result"
    }
   ],
   "source": [
    "f(50)"
   ]
  },
  {
   "cell_type": "code",
   "execution_count": 351,
   "metadata": {},
   "outputs": [
    {
     "data": {
      "text/plain": [
       "'underage'"
      ]
     },
     "execution_count": 351,
     "metadata": {},
     "output_type": "execute_result"
    }
   ],
   "source": [
    "f(14)"
   ]
  },
  {
   "cell_type": "code",
   "execution_count": 356,
   "metadata": {},
   "outputs": [
    {
     "ename": "AssertionError",
     "evalue": "",
     "output_type": "error",
     "traceback": [
      "\u001b[0;31m---------------------------------------------------------------------------\u001b[0m",
      "\u001b[0;31mAssertionError\u001b[0m                            Traceback (most recent call last)",
      "\u001b[0;32m<ipython-input-356-a403249833e6>\u001b[0m in \u001b[0;36m<module>\u001b[0;34m()\u001b[0m\n\u001b[0;32m----> 1\u001b[0;31m \u001b[0mf\u001b[0m\u001b[0;34m(\u001b[0m\u001b[0;36m200\u001b[0m\u001b[0;34m)\u001b[0m\u001b[0;34m\u001b[0m\u001b[0m\n\u001b[0m",
      "\u001b[0;32m<ipython-input-355-93f5b89bce83>\u001b[0m in \u001b[0;36mf\u001b[0;34m(age)\u001b[0m\n\u001b[1;32m      1\u001b[0m \u001b[0;32mdef\u001b[0m \u001b[0mf\u001b[0m\u001b[0;34m(\u001b[0m\u001b[0mage\u001b[0m\u001b[0;34m)\u001b[0m\u001b[0;34m:\u001b[0m\u001b[0;34m\u001b[0m\u001b[0m\n\u001b[0;32m----> 2\u001b[0;31m     \u001b[0;32massert\u001b[0m \u001b[0;36m0\u001b[0m\u001b[0;34m<=\u001b[0m\u001b[0mage\u001b[0m\u001b[0;34m<=\u001b[0m\u001b[0;36m100\u001b[0m \u001b[0;31m# TI HLIKIA EINAI AUTH RE?\u001b[0m\u001b[0;34m\u001b[0m\u001b[0m\n\u001b[0m\u001b[1;32m      3\u001b[0m     \u001b[0;32massert\u001b[0m \u001b[0mtype\u001b[0m\u001b[0;34m(\u001b[0m\u001b[0mage\u001b[0m\u001b[0;34m)\u001b[0m \u001b[0;32mis\u001b[0m \u001b[0mint\u001b[0m\u001b[0;34m\u001b[0m\u001b[0m\n\u001b[1;32m      4\u001b[0m     \u001b[0;32mreturn\u001b[0m \u001b[0;34m'adult'\u001b[0m \u001b[0;32mif\u001b[0m \u001b[0mage\u001b[0m\u001b[0;34m>=\u001b[0m\u001b[0;36m18\u001b[0m \u001b[0;32melse\u001b[0m \u001b[0;34m'underage'\u001b[0m\u001b[0;34m\u001b[0m\u001b[0m\n",
      "\u001b[0;31mAssertionError\u001b[0m: "
     ]
    }
   ],
   "source": [
    "f(200)"
   ]
  },
  {
   "cell_type": "code",
   "execution_count": 359,
   "metadata": {},
   "outputs": [
    {
     "ename": "AssertionError",
     "evalue": "",
     "output_type": "error",
     "traceback": [
      "\u001b[0;31m---------------------------------------------------------------------------\u001b[0m",
      "\u001b[0;31mAssertionError\u001b[0m                            Traceback (most recent call last)",
      "\u001b[0;32m<ipython-input-359-76580c14de57>\u001b[0m in \u001b[0;36m<module>\u001b[0;34m()\u001b[0m\n\u001b[0;32m----> 1\u001b[0;31m \u001b[0mf\u001b[0m\u001b[0;34m(\u001b[0m\u001b[0;36m14.3\u001b[0m\u001b[0;34m)\u001b[0m\u001b[0;34m\u001b[0m\u001b[0m\n\u001b[0m",
      "\u001b[0;32m<ipython-input-358-7f57e1af76ea>\u001b[0m in \u001b[0;36mf\u001b[0;34m(age)\u001b[0m\n\u001b[1;32m      1\u001b[0m \u001b[0;32mdef\u001b[0m \u001b[0mf\u001b[0m\u001b[0;34m(\u001b[0m\u001b[0mage\u001b[0m\u001b[0;34m)\u001b[0m\u001b[0;34m:\u001b[0m\u001b[0;34m\u001b[0m\u001b[0m\n\u001b[1;32m      2\u001b[0m     \u001b[0;32massert\u001b[0m \u001b[0;36m0\u001b[0m\u001b[0;34m<=\u001b[0m\u001b[0mage\u001b[0m\u001b[0;34m<=\u001b[0m\u001b[0;36m100\u001b[0m \u001b[0;31m# TI HLIKIA EINAI AUTH RE?\u001b[0m\u001b[0;34m\u001b[0m\u001b[0m\n\u001b[0;32m----> 3\u001b[0;31m     \u001b[0;32massert\u001b[0m \u001b[0mtype\u001b[0m\u001b[0;34m(\u001b[0m\u001b[0mage\u001b[0m\u001b[0;34m)\u001b[0m \u001b[0;32mis\u001b[0m \u001b[0mint\u001b[0m \u001b[0;31m# LA8OS TYPO!\u001b[0m\u001b[0;34m\u001b[0m\u001b[0m\n\u001b[0m\u001b[1;32m      4\u001b[0m     \u001b[0;32mreturn\u001b[0m \u001b[0;34m'adult'\u001b[0m \u001b[0;32mif\u001b[0m \u001b[0mage\u001b[0m\u001b[0;34m>=\u001b[0m\u001b[0;36m18\u001b[0m \u001b[0;32melse\u001b[0m \u001b[0;34m'underage'\u001b[0m\u001b[0;34m\u001b[0m\u001b[0m\n",
      "\u001b[0;31mAssertionError\u001b[0m: "
     ]
    }
   ],
   "source": [
    "f(14.3)"
   ]
  },
  {
   "cell_type": "code",
   "execution_count": 360,
   "metadata": {},
   "outputs": [],
   "source": [
    "gen = prime_generator()"
   ]
  },
  {
   "cell_type": "code",
   "execution_count": 361,
   "metadata": {},
   "outputs": [
    {
     "data": {
      "text/plain": [
       "1"
      ]
     },
     "execution_count": 361,
     "metadata": {},
     "output_type": "execute_result"
    }
   ],
   "source": [
    "next(gen)"
   ]
  },
  {
   "cell_type": "code",
   "execution_count": 362,
   "metadata": {},
   "outputs": [
    {
     "data": {
      "text/plain": [
       "2"
      ]
     },
     "execution_count": 362,
     "metadata": {},
     "output_type": "execute_result"
    }
   ],
   "source": [
    "next(gen)"
   ]
  },
  {
   "cell_type": "code",
   "execution_count": 363,
   "metadata": {},
   "outputs": [],
   "source": [
    "def f():\n",
    "    for i in range(10):\n",
    "        yield i"
   ]
  },
  {
   "cell_type": "code",
   "execution_count": 364,
   "metadata": {},
   "outputs": [],
   "source": [
    "gen = f()"
   ]
  },
  {
   "cell_type": "code",
   "execution_count": 366,
   "metadata": {},
   "outputs": [
    {
     "data": {
      "text/plain": [
       "0"
      ]
     },
     "execution_count": 366,
     "metadata": {},
     "output_type": "execute_result"
    }
   ],
   "source": [
    "next(gen)"
   ]
  },
  {
   "cell_type": "code",
   "execution_count": 368,
   "metadata": {},
   "outputs": [
    {
     "data": {
      "text/plain": [
       "1"
      ]
     },
     "execution_count": 368,
     "metadata": {},
     "output_type": "execute_result"
    }
   ],
   "source": [
    "next(gen)"
   ]
  },
  {
   "cell_type": "code",
   "execution_count": 369,
   "metadata": {},
   "outputs": [
    {
     "data": {
      "text/plain": [
       "[2, 3, 4, 5, 6, 7, 8, 9]"
      ]
     },
     "execution_count": 369,
     "metadata": {},
     "output_type": "execute_result"
    }
   ],
   "source": [
    "list(gen)"
   ]
  },
  {
   "cell_type": "code",
   "execution_count": 372,
   "metadata": {},
   "outputs": [
    {
     "ename": "StopIteration",
     "evalue": "",
     "output_type": "error",
     "traceback": [
      "\u001b[0;31m---------------------------------------------------------------------------\u001b[0m",
      "\u001b[0;31mStopIteration\u001b[0m                             Traceback (most recent call last)",
      "\u001b[0;32m<ipython-input-372-6e72e47198db>\u001b[0m in \u001b[0;36m<module>\u001b[0;34m()\u001b[0m\n\u001b[0;32m----> 1\u001b[0;31m \u001b[0mnext\u001b[0m\u001b[0;34m(\u001b[0m\u001b[0mgen\u001b[0m\u001b[0;34m)\u001b[0m\u001b[0;34m\u001b[0m\u001b[0m\n\u001b[0m",
      "\u001b[0;31mStopIteration\u001b[0m: "
     ]
    }
   ],
   "source": [
    "next(gen)"
   ]
  },
  {
   "cell_type": "code",
   "execution_count": 373,
   "metadata": {},
   "outputs": [],
   "source": [
    "gen = f()"
   ]
  },
  {
   "cell_type": "code",
   "execution_count": 374,
   "metadata": {},
   "outputs": [
    {
     "data": {
      "text/plain": [
       "0"
      ]
     },
     "execution_count": 374,
     "metadata": {},
     "output_type": "execute_result"
    }
   ],
   "source": [
    "next(gen)"
   ]
  },
  {
   "cell_type": "code",
   "execution_count": 375,
   "metadata": {},
   "outputs": [
    {
     "data": {
      "text/plain": [
       "1"
      ]
     },
     "execution_count": 375,
     "metadata": {},
     "output_type": "execute_result"
    }
   ],
   "source": [
    "next(gen)"
   ]
  },
  {
   "cell_type": "code",
   "execution_count": 376,
   "metadata": {},
   "outputs": [
    {
     "data": {
      "text/plain": [
       "2"
      ]
     },
     "execution_count": 376,
     "metadata": {},
     "output_type": "execute_result"
    }
   ],
   "source": [
    "next(gen)"
   ]
  },
  {
   "cell_type": "code",
   "execution_count": 377,
   "metadata": {},
   "outputs": [
    {
     "data": {
      "text/plain": [
       "[3, 4, 5, 6, 7, 8, 9]"
      ]
     },
     "execution_count": 377,
     "metadata": {},
     "output_type": "execute_result"
    }
   ],
   "source": [
    "list(gen)"
   ]
  },
  {
   "cell_type": "code",
   "execution_count": null,
   "metadata": {},
   "outputs": [],
   "source": []
  },
  {
   "cell_type": "code",
   "execution_count": 465,
   "metadata": {},
   "outputs": [
    {
     "data": {
      "text/plain": [
       "'Έλσα'"
      ]
     },
     "execution_count": 465,
     "metadata": {},
     "output_type": "execute_result"
    }
   ],
   "source": [
    "pick()"
   ]
  },
  {
   "cell_type": "markdown",
   "metadata": {},
   "source": [
    "# Generator comprehension"
   ]
  },
  {
   "cell_type": "code",
   "execution_count": 466,
   "metadata": {},
   "outputs": [],
   "source": [
    "def f():\n",
    "    for i in range(10):\n",
    "        yield i"
   ]
  },
  {
   "cell_type": "code",
   "execution_count": 472,
   "metadata": {},
   "outputs": [],
   "source": [
    "gen = (i for i in range(10))"
   ]
  },
  {
   "cell_type": "code",
   "execution_count": 468,
   "metadata": {},
   "outputs": [
    {
     "data": {
      "text/plain": [
       "0"
      ]
     },
     "execution_count": 468,
     "metadata": {},
     "output_type": "execute_result"
    }
   ],
   "source": [
    "next(gen)"
   ]
  },
  {
   "cell_type": "code",
   "execution_count": 469,
   "metadata": {},
   "outputs": [
    {
     "data": {
      "text/plain": [
       "1"
      ]
     },
     "execution_count": 469,
     "metadata": {},
     "output_type": "execute_result"
    }
   ],
   "source": [
    "next(gen)"
   ]
  },
  {
   "cell_type": "code",
   "execution_count": 470,
   "metadata": {},
   "outputs": [
    {
     "data": {
      "text/plain": [
       "2"
      ]
     },
     "execution_count": 470,
     "metadata": {},
     "output_type": "execute_result"
    }
   ],
   "source": [
    "next(gen)"
   ]
  },
  {
   "cell_type": "code",
   "execution_count": 471,
   "metadata": {},
   "outputs": [
    {
     "data": {
      "text/plain": [
       "[3, 4, 5, 6, 7, 8, 9]"
      ]
     },
     "execution_count": 471,
     "metadata": {},
     "output_type": "execute_result"
    }
   ],
   "source": [
    "list(gen)"
   ]
  },
  {
   "cell_type": "code",
   "execution_count": 480,
   "metadata": {},
   "outputs": [],
   "source": [
    "gen = (i for i in range(10,25,3))"
   ]
  },
  {
   "cell_type": "code",
   "execution_count": 474,
   "metadata": {},
   "outputs": [
    {
     "data": {
      "text/plain": [
       "[10, 13, 16, 19, 22]"
      ]
     },
     "execution_count": 474,
     "metadata": {},
     "output_type": "execute_result"
    }
   ],
   "source": [
    "list(gen)"
   ]
  },
  {
   "cell_type": "code",
   "execution_count": 477,
   "metadata": {},
   "outputs": [
    {
     "data": {
      "text/plain": [
       "[(0, 10), (1, 13), (2, 16), (3, 19), (4, 22)]"
      ]
     },
     "execution_count": 477,
     "metadata": {},
     "output_type": "execute_result"
    }
   ],
   "source": [
    "list(enumerate(gen))"
   ]
  },
  {
   "cell_type": "code",
   "execution_count": 481,
   "metadata": {},
   "outputs": [
    {
     "name": "stdout",
     "output_type": "stream",
     "text": [
      "13\n",
      "19\n"
     ]
    }
   ],
   "source": [
    "for i, item in enumerate(gen):\n",
    "    if i%2==0:\n",
    "        continue\n",
    "        \n",
    "    print (item)"
   ]
  },
  {
   "cell_type": "markdown",
   "metadata": {},
   "source": [
    "# Files"
   ]
  },
  {
   "cell_type": "code",
   "execution_count": 523,
   "metadata": {},
   "outputs": [],
   "source": [
    "with open('test.txt', 'w') as f:\n",
    "    f.write('Mitsos\\n')"
   ]
  },
  {
   "cell_type": "code",
   "execution_count": 524,
   "metadata": {},
   "outputs": [
    {
     "name": "stdout",
     "output_type": "stream",
     "text": [
      "Mitsos\r\n"
     ]
    }
   ],
   "source": [
    "!cat test.txt"
   ]
  },
  {
   "cell_type": "code",
   "execution_count": 525,
   "metadata": {},
   "outputs": [
    {
     "name": "stdout",
     "output_type": "stream",
     "text": [
      "hello\r\n",
      "my name is Alex\r\n"
     ]
    }
   ],
   "source": [
    "!cat t.txt"
   ]
  },
  {
   "cell_type": "code",
   "execution_count": 526,
   "metadata": {},
   "outputs": [
    {
     "data": {
      "text/plain": [
       "'hello\\nmy name is Alex\\n'"
      ]
     },
     "execution_count": 526,
     "metadata": {},
     "output_type": "execute_result"
    }
   ],
   "source": [
    "with open('t.txt', 'r') as f:\n",
    "    content = f.read()\n",
    "content"
   ]
  },
  {
   "cell_type": "code",
   "execution_count": 527,
   "metadata": {},
   "outputs": [
    {
     "name": "stdout",
     "output_type": "stream",
     "text": [
      "hello\n",
      "my name is Alex\n",
      "\n"
     ]
    }
   ],
   "source": [
    "print (content)"
   ]
  },
  {
   "cell_type": "code",
   "execution_count": 538,
   "metadata": {},
   "outputs": [],
   "source": [
    "with open('DMET_14GreekGenomes_chr4.vcf', 'r') as f:\n",
    "    content=f.read()"
   ]
  },
  {
   "cell_type": "code",
   "execution_count": 539,
   "metadata": {},
   "outputs": [
    {
     "data": {
      "text/plain": [
       "str"
      ]
     },
     "execution_count": 539,
     "metadata": {},
     "output_type": "execute_result"
    }
   ],
   "source": [
    "type(content)"
   ]
  },
  {
   "cell_type": "code",
   "execution_count": 532,
   "metadata": {},
   "outputs": [],
   "source": [
    "with open('DMET_14GreekGenomes_chr4.vcf', 'r') as f:\n",
    "    for line in f:\n",
    "        #print (line)\n",
    "        pass"
   ]
  },
  {
   "cell_type": "code",
   "execution_count": 536,
   "metadata": {},
   "outputs": [
    {
     "name": "stdout",
     "output_type": "stream",
     "text": [
      "##fileformat=VCFv4.1\n",
      "#CHROM\tPOS\tID\tREF\tALT\tQUAL\tFILTER\tINFO\tFORMAT\tSAMPLE_1\tSAMPLE_2\tSAMPLE_3\tSAMPLE_4\tSAMPLE_5\tSAMPLE_6\tSAMPLE_7\tSAMPLE_8\tSAMPLE_9\tSAMPLE_10\tSAMPLE_11\tSAMPLE_12\tSAMPLE_13\tSAMPLE_14\n"
     ]
    }
   ],
   "source": [
    "with open('DMET_14GreekGenomes_chr4.vcf', 'r') as f:\n",
    "    print (f.readline().strip())\n",
    "    print (f.readline().strip())\n",
    "    \n"
   ]
  },
  {
   "cell_type": "code",
   "execution_count": 540,
   "metadata": {},
   "outputs": [],
   "source": [
    "with open('DMET_14GreekGenomes_chr4.vcf', 'r') as f:\n",
    "    content = f.readlines()"
   ]
  },
  {
   "cell_type": "code",
   "execution_count": 541,
   "metadata": {},
   "outputs": [
    {
     "data": {
      "text/plain": [
       "list"
      ]
     },
     "execution_count": 541,
     "metadata": {},
     "output_type": "execute_result"
    }
   ],
   "source": [
    "type(content)"
   ]
  },
  {
   "cell_type": "code",
   "execution_count": 542,
   "metadata": {},
   "outputs": [
    {
     "data": {
      "text/plain": [
       "26565"
      ]
     },
     "execution_count": 542,
     "metadata": {},
     "output_type": "execute_result"
    }
   ],
   "source": [
    "len(content)"
   ]
  },
  {
   "cell_type": "code",
   "execution_count": 543,
   "metadata": {},
   "outputs": [
    {
     "data": {
      "text/plain": [
       "'chr4\\t23569326\\tdbsnp.125:rs28867777\\tG\\tA\\t.\\t.\\t.\\tGT\\t1/0\\t0/0\\t0/0\\t1/0\\t0/0\\t0/0\\t0/0\\t0/0\\t0/0\\t0/0\\t0/0\\t0/0\\t0/0\\t0/0\\n'"
      ]
     },
     "execution_count": 543,
     "metadata": {},
     "output_type": "execute_result"
    }
   ],
   "source": [
    "content[999]"
   ]
  },
  {
   "cell_type": "code",
   "execution_count": 545,
   "metadata": {},
   "outputs": [
    {
     "data": {
      "text/plain": [
       "['chr4',\n",
       " '23569326',\n",
       " 'dbsnp.125:rs28867777',\n",
       " 'G',\n",
       " 'A',\n",
       " '.',\n",
       " '.',\n",
       " '.',\n",
       " 'GT',\n",
       " '1/0',\n",
       " '0/0',\n",
       " '0/0',\n",
       " '1/0',\n",
       " '0/0',\n",
       " '0/0',\n",
       " '0/0',\n",
       " '0/0',\n",
       " '0/0',\n",
       " '0/0',\n",
       " '0/0',\n",
       " '0/0',\n",
       " '0/0',\n",
       " '0/0']"
      ]
     },
     "execution_count": 545,
     "metadata": {},
     "output_type": "execute_result"
    }
   ],
   "source": [
    "content[999].strip().split('\\t')"
   ]
  },
  {
   "cell_type": "code",
   "execution_count": 546,
   "metadata": {},
   "outputs": [
    {
     "name": "stdout",
     "output_type": "stream",
     "text": [
      "hello\r\n"
     ]
    }
   ],
   "source": [
    "!python test.py"
   ]
  },
  {
   "cell_type": "code",
   "execution_count": 547,
   "metadata": {},
   "outputs": [
    {
     "name": "stdout",
     "output_type": "stream",
     "text": [
      "hello\r\n"
     ]
    }
   ],
   "source": [
    "!./test.py"
   ]
  },
  {
   "cell_type": "code",
   "execution_count": null,
   "metadata": {},
   "outputs": [],
   "source": []
  },
  {
   "cell_type": "code",
   "execution_count": 576,
   "metadata": {},
   "outputs": [],
   "source": [
    "f = open('DMET_14GreekGenomes_chr4.vcf', 'r')"
   ]
  },
  {
   "cell_type": "code",
   "execution_count": 549,
   "metadata": {},
   "outputs": [],
   "source": [
    "content = f.readlines()"
   ]
  },
  {
   "cell_type": "code",
   "execution_count": 550,
   "metadata": {},
   "outputs": [
    {
     "data": {
      "text/plain": [
       "26565"
      ]
     },
     "execution_count": 550,
     "metadata": {},
     "output_type": "execute_result"
    }
   ],
   "source": [
    "len(content)"
   ]
  },
  {
   "cell_type": "code",
   "execution_count": 551,
   "metadata": {},
   "outputs": [],
   "source": [
    "content = f.readlines()"
   ]
  },
  {
   "cell_type": "code",
   "execution_count": 552,
   "metadata": {},
   "outputs": [
    {
     "data": {
      "text/plain": [
       "0"
      ]
     },
     "execution_count": 552,
     "metadata": {},
     "output_type": "execute_result"
    }
   ],
   "source": [
    "len(content)"
   ]
  },
  {
   "cell_type": "code",
   "execution_count": 553,
   "metadata": {},
   "outputs": [
    {
     "data": {
      "text/plain": [
       "''"
      ]
     },
     "execution_count": 553,
     "metadata": {},
     "output_type": "execute_result"
    }
   ],
   "source": [
    "f.read()"
   ]
  },
  {
   "cell_type": "code",
   "execution_count": 554,
   "metadata": {},
   "outputs": [
    {
     "data": {
      "text/plain": [
       "''"
      ]
     },
     "execution_count": 554,
     "metadata": {},
     "output_type": "execute_result"
    }
   ],
   "source": [
    "f.readline()"
   ]
  },
  {
   "cell_type": "code",
   "execution_count": 555,
   "metadata": {},
   "outputs": [
    {
     "data": {
      "text/plain": [
       "[]"
      ]
     },
     "execution_count": 555,
     "metadata": {},
     "output_type": "execute_result"
    }
   ],
   "source": [
    "f.readlines()"
   ]
  },
  {
   "cell_type": "code",
   "execution_count": 556,
   "metadata": {},
   "outputs": [],
   "source": [
    "f.close()"
   ]
  },
  {
   "cell_type": "code",
   "execution_count": 578,
   "metadata": {},
   "outputs": [],
   "source": [
    "with open('test.txt', 'r') as f1, open('test2.txt', 'w') as f2:\n",
    "    for l in f1:\n",
    "        f2.write(l.strip() + '  asdasD\\n')"
   ]
  },
  {
   "cell_type": "code",
   "execution_count": 579,
   "metadata": {},
   "outputs": [
    {
     "name": "stdout",
     "output_type": "stream",
     "text": [
      "Mitsos  asdasD\r\n"
     ]
    }
   ],
   "source": [
    "!cat test2.txt"
   ]
  },
  {
   "cell_type": "code",
   "execution_count": 580,
   "metadata": {},
   "outputs": [
    {
     "name": "stdout",
     "output_type": "stream",
     "text": [
      "--2019-11-12 11:48:25--  https://pastebin.com/raw/Wq2PpbZy\n",
      "Resolving pastebin.com (pastebin.com)... 104.22.3.84, 104.22.2.84\n",
      "Connecting to pastebin.com (pastebin.com)|104.22.3.84|:443... connected.\n",
      "HTTP request sent, awaiting response... 200 OK\n",
      "Length: unspecified [text/plain]\n",
      "Saving to: 'Wq2PpbZy.txt'\n",
      "\n",
      "Wq2PpbZy.txt            [ <=>                ]   4.91K  --.-KB/s    in 0.001s  \n",
      "\n",
      "2019-11-12 11:48:26 (8.91 MB/s) - 'Wq2PpbZy.txt' saved [5027]\n",
      "\n"
     ]
    }
   ],
   "source": [
    "! wget -O Wq2PpbZy.txt https://pastebin.com/raw/Wq2PpbZy"
   ]
  },
  {
   "cell_type": "code",
   "execution_count": 582,
   "metadata": {},
   "outputs": [],
   "source": [
    "with open('Wq2PpbZy.txt', 'r') as f:\n",
    "    content = f.read()"
   ]
  },
  {
   "cell_type": "code",
   "execution_count": 584,
   "metadata": {},
   "outputs": [
    {
     "name": "stdout",
     "output_type": "stream",
     "text": [
      "Sepal length \tSepal width \tPetal length \tPetal width \tSpecies\n",
      "5.2 \t3.5 \t1.4 \t0.2 \tI. setosa\n",
      "4.9 \t3.0 \t1.4 \t0.2 \tI. setosa\n",
      "4.7 \t3.2 \t1.3 \t0.2 \tI. setosa\n",
      "4.6 \t3.1 \t1.5 \t0.2 \tI. setosa\n",
      "5.0 \t3.6 \t1.4 \t0.3 \tI. setosa\n",
      "5.4 \t3.9 \t1.7 \t0.4 \tI. setosa\n",
      "4.6 \t3.4 \t1.4 \t0.3 \tI. setosa\n",
      "5.0 \t3.4 \t1.5 \t0.2 \tI. setosa\n",
      "4.4 \t2.9 \t1.4 \t0.2 \tI. setosa\n",
      "4.9 \t3.1 \t1.5 \t0.1 \tI. setosa\n",
      "5.4 \t3.7 \t1.5 \t0.2 \tI. setosa\n",
      "4.8 \t3.4 \t1.6 \t0.2 \tI. setosa\n",
      "4.8 \t3.0 \t1.4 \t0.1 \tI. setosa\n",
      "4.3 \t3.0 \t1.1 \t0.1 \tI. setosa\n",
      "5.8 \t4.0 \t1.2 \t0.2 \tI. setosa\n",
      "5.7 \t4.4 \t1.5 \t0.4 \tI. setosa\n",
      "5.4 \t3.9 \t1.3 \t0.4 \tI. setosa\n",
      "5.1 \t3.5 \t1.4 \t0.3 \tI. setosa\n",
      "5.7 \t3.8 \t1.7 \t0.3 \tI. setosa\n",
      "5.1 \t3.8 \t1.5 \t0.3 \tI. setosa\n",
      "5.4 \t3.4 \t1.7 \t0.2 \tI. setosa\n",
      "5.1 \t3.7 \t1.5 \t0.4 \tI. setosa\n",
      "4.6 \t3.6 \t1.0 \t0.2 \tI. setosa\n",
      "5.1 \t3.3 \t1.7 \t0.5 \tI. setosa\n",
      "4.8 \t3.4 \t1.9 \t0.2 \tI. setosa\n",
      "5.0 \t3.0 \t1.6 \t0.2 \tI. setosa\n",
      "5.0 \t3.4 \t1.6 \t0.4 \tI. setosa\n",
      "5.2 \t3.5 \t1.5 \t0.2 \tI. setosa\n",
      "5.2 \t3.4 \t1.4 \t0.2 \tI. setosa\n",
      "4.7 \t3.2 \t1.6 \t0.2 \tI. setosa\n",
      "4.8 \t3.1 \t1.6 \t0.2 \tI. setosa\n",
      "5.4 \t3.4 \t1.5 \t0.4 \tI. setosa\n",
      "5.2 \t4.1 \t1.5 \t0.1 \tI. setosa\n",
      "5.5 \t4.2 \t1.4 \t0.2 \tI. setosa\n",
      "4.9 \t3.1 \t1.5 \t0.2 \tI. setosa\n",
      "5.0 \t3.2 \t1.2 \t0.2 \tI. setosa\n",
      "5.5 \t3.5 \t1.3 \t0.2 \tI. setosa\n",
      "4.9 \t3.6 \t1.4 \t0.1 \tI. setosa\n",
      "4.4 \t3.0 \t1.3 \t0.2 \tI. setosa\n",
      "5.1 \t3.4 \t1.5 \t0.2 \tI. setosa\n",
      "5.0 \t3.5 \t1.3 \t0.3 \tI. setosa\n",
      "4.5 \t2.3 \t1.3 \t0.3 \tI. setosa\n",
      "4.4 \t3.2 \t1.3 \t0.2 \tI. setosa\n",
      "5.0 \t3.5 \t1.6 \t0.6 \tI. setosa\n",
      "5.1 \t3.8 \t1.9 \t0.4 \tI. setosa\n",
      "4.8 \t3.0 \t1.4 \t0.3 \tI. setosa\n",
      "5.1 \t3.8 \t1.6 \t0.2 \tI. setosa\n",
      "4.6 \t3.2 \t1.4 \t0.2 \tI. setosa\n",
      "5.3 \t3.7 \t1.5 \t0.2 \tI. setosa\n",
      "5.0 \t3.3 \t1.4 \t0.2 \tI. setosa\n",
      "7.0 \t3.2 \t4.7 \t1.4 \tI. versicolor\n",
      "6.4 \t3.2 \t4.5 \t1.5 \tI. versicolor\n",
      "6.9 \t3.1 \t4.9 \t1.5 \tI. versicolor\n",
      "5.5 \t2.3 \t4.0 \t1.3 \tI. versicolor\n",
      "6.5 \t2.8 \t4.6 \t1.5 \tI. versicolor\n",
      "5.7 \t2.8 \t4.5 \t1.3 \tI. versicolor\n",
      "6.3 \t3.3 \t4.7 \t1.6 \tI. versicolor\n",
      "4.9 \t2.4 \t3.3 \t1.0 \tI. versicolor\n",
      "6.6 \t2.9 \t4.6 \t1.3 \tI. versicolor\n",
      "5.2 \t2.7 \t3.9 \t1.4 \tI. versicolor\n",
      "5.0 \t2.0 \t3.5 \t1.0 \tI. versicolor\n",
      "5.9 \t3.0 \t4.2 \t1.5 \tI. versicolor\n",
      "6.0 \t2.2 \t4.0 \t1.0 \tI. versicolor\n",
      "6.1 \t2.9 \t4.7 \t1.4 \tI. versicolor\n",
      "5.6 \t2.9 \t3.6 \t1.3 \tI. versicolor\n",
      "6.7 \t3.1 \t4.4 \t1.4 \tI. versicolor\n",
      "5.6 \t3.0 \t4.5 \t1.5 \tI. versicolor\n",
      "5.8 \t2.7 \t4.1 \t1.0 \tI. versicolor\n",
      "6.2 \t2.2 \t4.5 \t1.5 \tI. versicolor\n",
      "5.6 \t2.5 \t3.9 \t1.1 \tI. versicolor\n",
      "5.9 \t3.2 \t4.8 \t1.8 \tI. versicolor\n",
      "6.1 \t2.8 \t4.0 \t1.3 \tI. versicolor\n",
      "6.3 \t2.5 \t4.9 \t1.5 \tI. versicolor\n",
      "6.1 \t2.8 \t4.7 \t1.2 \tI. versicolor\n",
      "6.4 \t2.9 \t4.3 \t1.3 \tI. versicolor\n",
      "6.6 \t3.0 \t4.4 \t1.4 \tI. versicolor\n",
      "6.8 \t2.8 \t4.8 \t1.4 \tI. versicolor\n",
      "6.7 \t3.0 \t5.0 \t1.7 \tI. versicolor\n",
      "6.0 \t2.9 \t4.5 \t1.5 \tI. versicolor\n",
      "5.7 \t2.6 \t3.5 \t1.0 \tI. versicolor\n",
      "5.5 \t2.4 \t3.8 \t1.1 \tI. versicolor\n",
      "5.5 \t2.4 \t3.7 \t1.0 \tI. versicolor\n",
      "5.8 \t2.7 \t3.9 \t1.2 \tI. versicolor\n",
      "6.0 \t2.7 \t5.1 \t1.6 \tI. versicolor\n",
      "5.4 \t3.0 \t4.5 \t1.5 \tI. versicolor\n",
      "6.0 \t3.4 \t4.5 \t1.6 \tI. versicolor\n",
      "6.7 \t3.1 \t4.7 \t1.5 \tI. versicolor\n",
      "6.3 \t2.3 \t4.4 \t1.3 \tI. versicolor\n",
      "5.6 \t3.0 \t4.1 \t1.3 \tI. versicolor\n",
      "5.5 \t2.5 \t4.0 \t1.3 \tI. versicolor\n",
      "5.5 \t2.6 \t4.4 \t1.2 \tI. versicolor\n",
      "6.1 \t3.0 \t4.6 \t1.4 \tI. versicolor\n",
      "5.8 \t2.6 \t4.0 \t1.2 \tI. versicolor\n",
      "5.0 \t2.3 \t3.3 \t1.0 \tI. versicolor\n",
      "5.6 \t2.7 \t4.2 \t1.3 \tI. versicolor\n",
      "5.7 \t3.0 \t4.2 \t1.2 \tI. versicolor\n",
      "5.7 \t2.9 \t4.2 \t1.3 \tI. versicolor\n",
      "6.2 \t2.9 \t4.3 \t1.3 \tI. versicolor\n",
      "5.1 \t2.5 \t3.0 \t1.1 \tI. versicolor\n",
      "5.7 \t2.8 \t4.1 \t1.3 \tI. versicolor\n",
      "6.3 \t3.3 \t6.0 \t2.5 \tI. virginica\n",
      "5.8 \t2.7 \t5.1 \t1.9 \tI. virginica\n",
      "7.1 \t3.0 \t5.9 \t2.1 \tI. virginica\n",
      "6.3 \t2.9 \t5.6 \t1.8 \tI. virginica\n",
      "6.5 \t3.0 \t5.8 \t2.2 \tI. virginica\n",
      "7.6 \t3.0 \t6.6 \t2.1 \tI. virginica\n",
      "4.9 \t2.5 \t4.5 \t1.7 \tI. virginica\n",
      "7.3 \t2.9 \t6.3 \t1.8 \tI. virginica\n",
      "6.7 \t2.5 \t5.8 \t1.8 \tI. virginica\n",
      "7.2 \t3.6 \t6.1 \t2.5 \tI. virginica\n",
      "6.5 \t3.2 \t5.1 \t2.0 \tI. virginica\n",
      "6.4 \t2.7 \t5.3 \t1.9 \tI. virginica\n",
      "6.8 \t3.0 \t5.5 \t2.1 \tI. virginica\n",
      "5.7 \t2.5 \t5.0 \t2.0 \tI. virginica\n",
      "5.8 \t2.8 \t5.1 \t2.4 \tI. virginica\n",
      "6.4 \t3.2 \t5.3 \t2.3 \tI. virginica\n",
      "6.5 \t3.0 \t5.5 \t1.8 \tI. virginica\n",
      "7.7 \t3.8 \t6.7 \t2.2 \tI. virginica\n",
      "7.7 \t2.6 \t6.9 \t2.3 \tI. virginica\n",
      "6.0 \t2.2 \t5.0 \t1.5 \tI. virginica\n",
      "6.9 \t3.2 \t5.7 \t2.3 \tI. virginica\n",
      "5.6 \t2.8 \t4.9 \t2.0 \tI. virginica\n",
      "7.7 \t2.8 \t6.7 \t2.0 \tI. virginica\n",
      "6.3 \t2.7 \t4.9 \t1.8 \tI. virginica\n",
      "6.7 \t3.3 \t5.7 \t2.1 \tI. virginica\n",
      "7.2 \t3.2 \t6.0 \t1.8 \tI. virginica\n",
      "6.2 \t2.8 \t4.8 \t1.8 \tI. virginica\n",
      "6.1 \t3.0 \t4.9 \t1.8 \tI. virginica\n",
      "6.4 \t2.8 \t5.6 \t2.1 \tI. virginica\n",
      "7.2 \t3.0 \t5.8 \t1.6 \tI. virginica\n",
      "7.4 \t2.8 \t6.1 \t1.9 \tI. virginica\n",
      "7.9 \t3.8 \t6.4 \t2.0 \tI. virginica\n",
      "6.4 \t2.8 \t5.6 \t2.2 \tI. virginica\n",
      "6.3 \t2.8 \t5.1 \t1.5 \tI. virginica\n",
      "6.1 \t2.6 \t5.6 \t1.4 \tI. virginica\n",
      "6.3 \t3.4 \t5.6 \t2.4 \tI. virginica\n",
      "6.4 \t3.1 \t5.5 \t1.8 \tI. virginica\n",
      "6.0 \t3.0 \t4.8 \t1.8 \tI. virginica\n",
      "6.9 \t3.1 \t5.4 \t2.1 \tI. virginica\n",
      "6.7 \t3.1 \t5.6 \t2.4 \tI. virginica\n",
      "6.9 \t3.1 \t5.1 \t2.3 \tI. virginica\n",
      "5.8 \t2.7 \t5.1 \t1.9 \tI. virginica\n",
      "6.8 \t3.2 \t5.9 \t2.3 \tI. virginica\n",
      "6.7 \t3.3 \t5.7 \t2.5 \tI. virginica\n",
      "6.7 \t3.0 \t5.2 \t2.3 \tI. virginica\n",
      "6.3 \t2.5 \t5.0 \t1.9 \tI. virginica\n",
      "6.5 \t3.0 \t5.2 \t2.0 \tI. virginica\n",
      "6.2 \t3.4 \t5.4 \t2.3 \tI. virginica\n",
      "5.9 \t3.0 \t5.1 \t1.8 \tI. virginica\n"
     ]
    }
   ],
   "source": [
    "print (content)"
   ]
  },
  {
   "cell_type": "code",
   "execution_count": 585,
   "metadata": {},
   "outputs": [],
   "source": [
    "c = content.split('\\n')"
   ]
  },
  {
   "cell_type": "code",
   "execution_count": 588,
   "metadata": {},
   "outputs": [],
   "source": [
    "c = [line.split('\\t') for line in content.split('\\n')]"
   ]
  },
  {
   "cell_type": "code",
   "execution_count": 589,
   "metadata": {},
   "outputs": [
    {
     "data": {
      "text/plain": [
       "['4.7 ', '3.2 ', '1.6 ', '0.2 ', 'I. setosa']"
      ]
     },
     "execution_count": 589,
     "metadata": {},
     "output_type": "execute_result"
    }
   ],
   "source": [
    "c[30]"
   ]
  },
  {
   "cell_type": "code",
   "execution_count": 591,
   "metadata": {},
   "outputs": [],
   "source": [
    "header = c[0]"
   ]
  },
  {
   "cell_type": "code",
   "execution_count": 593,
   "metadata": {},
   "outputs": [
    {
     "data": {
      "text/plain": [
       "['Sepal length', 'Sepal width', 'Petal length', 'Petal width', 'Species']"
      ]
     },
     "execution_count": 593,
     "metadata": {},
     "output_type": "execute_result"
    }
   ],
   "source": [
    "header = [x.strip() for x in header]\n",
    "header"
   ]
  },
  {
   "cell_type": "code",
   "execution_count": 595,
   "metadata": {},
   "outputs": [],
   "source": [
    "c = c[1:]"
   ]
  },
  {
   "cell_type": "code",
   "execution_count": 597,
   "metadata": {},
   "outputs": [
    {
     "data": {
      "text/plain": [
       "[5.2,\n",
       " 4.9,\n",
       " 4.7,\n",
       " 4.6,\n",
       " 5.0,\n",
       " 5.4,\n",
       " 4.6,\n",
       " 5.0,\n",
       " 4.4,\n",
       " 4.9,\n",
       " 5.4,\n",
       " 4.8,\n",
       " 4.8,\n",
       " 4.3,\n",
       " 5.8,\n",
       " 5.7,\n",
       " 5.4,\n",
       " 5.1,\n",
       " 5.7,\n",
       " 5.1,\n",
       " 5.4,\n",
       " 5.1,\n",
       " 4.6,\n",
       " 5.1,\n",
       " 4.8,\n",
       " 5.0,\n",
       " 5.0,\n",
       " 5.2,\n",
       " 5.2,\n",
       " 4.7,\n",
       " 4.8,\n",
       " 5.4,\n",
       " 5.2,\n",
       " 5.5,\n",
       " 4.9,\n",
       " 5.0,\n",
       " 5.5,\n",
       " 4.9,\n",
       " 4.4,\n",
       " 5.1,\n",
       " 5.0,\n",
       " 4.5,\n",
       " 4.4,\n",
       " 5.0,\n",
       " 5.1,\n",
       " 4.8,\n",
       " 5.1,\n",
       " 4.6,\n",
       " 5.3,\n",
       " 5.0]"
      ]
     },
     "execution_count": 597,
     "metadata": {},
     "output_type": "execute_result"
    }
   ],
   "source": [
    "[float(line[0]) for line in c if line[-1] == 'I. setosa']"
   ]
  },
  {
   "cell_type": "code",
   "execution_count": 598,
   "metadata": {},
   "outputs": [
    {
     "data": {
      "text/plain": [
       "[['5.2 ', '3.5 ', '1.4 ', '0.2 ', 'I. setosa'],\n",
       " ['4.9 ', '3.0 ', '1.4 ', '0.2 ', 'I. setosa'],\n",
       " ['4.7 ', '3.2 ', '1.3 ', '0.2 ', 'I. setosa'],\n",
       " ['4.6 ', '3.1 ', '1.5 ', '0.2 ', 'I. setosa'],\n",
       " ['5.0 ', '3.6 ', '1.4 ', '0.3 ', 'I. setosa'],\n",
       " ['5.4 ', '3.9 ', '1.7 ', '0.4 ', 'I. setosa'],\n",
       " ['4.6 ', '3.4 ', '1.4 ', '0.3 ', 'I. setosa'],\n",
       " ['5.0 ', '3.4 ', '1.5 ', '0.2 ', 'I. setosa'],\n",
       " ['4.4 ', '2.9 ', '1.4 ', '0.2 ', 'I. setosa'],\n",
       " ['4.9 ', '3.1 ', '1.5 ', '0.1 ', 'I. setosa'],\n",
       " ['5.4 ', '3.7 ', '1.5 ', '0.2 ', 'I. setosa'],\n",
       " ['4.8 ', '3.4 ', '1.6 ', '0.2 ', 'I. setosa'],\n",
       " ['4.8 ', '3.0 ', '1.4 ', '0.1 ', 'I. setosa'],\n",
       " ['4.3 ', '3.0 ', '1.1 ', '0.1 ', 'I. setosa'],\n",
       " ['5.8 ', '4.0 ', '1.2 ', '0.2 ', 'I. setosa'],\n",
       " ['5.7 ', '4.4 ', '1.5 ', '0.4 ', 'I. setosa'],\n",
       " ['5.4 ', '3.9 ', '1.3 ', '0.4 ', 'I. setosa'],\n",
       " ['5.1 ', '3.5 ', '1.4 ', '0.3 ', 'I. setosa'],\n",
       " ['5.7 ', '3.8 ', '1.7 ', '0.3 ', 'I. setosa'],\n",
       " ['5.1 ', '3.8 ', '1.5 ', '0.3 ', 'I. setosa'],\n",
       " ['5.4 ', '3.4 ', '1.7 ', '0.2 ', 'I. setosa'],\n",
       " ['5.1 ', '3.7 ', '1.5 ', '0.4 ', 'I. setosa'],\n",
       " ['4.6 ', '3.6 ', '1.0 ', '0.2 ', 'I. setosa'],\n",
       " ['5.1 ', '3.3 ', '1.7 ', '0.5 ', 'I. setosa'],\n",
       " ['4.8 ', '3.4 ', '1.9 ', '0.2 ', 'I. setosa'],\n",
       " ['5.0 ', '3.0 ', '1.6 ', '0.2 ', 'I. setosa'],\n",
       " ['5.0 ', '3.4 ', '1.6 ', '0.4 ', 'I. setosa'],\n",
       " ['5.2 ', '3.5 ', '1.5 ', '0.2 ', 'I. setosa'],\n",
       " ['5.2 ', '3.4 ', '1.4 ', '0.2 ', 'I. setosa'],\n",
       " ['4.7 ', '3.2 ', '1.6 ', '0.2 ', 'I. setosa'],\n",
       " ['4.8 ', '3.1 ', '1.6 ', '0.2 ', 'I. setosa'],\n",
       " ['5.4 ', '3.4 ', '1.5 ', '0.4 ', 'I. setosa'],\n",
       " ['5.2 ', '4.1 ', '1.5 ', '0.1 ', 'I. setosa'],\n",
       " ['5.5 ', '4.2 ', '1.4 ', '0.2 ', 'I. setosa'],\n",
       " ['4.9 ', '3.1 ', '1.5 ', '0.2 ', 'I. setosa'],\n",
       " ['5.0 ', '3.2 ', '1.2 ', '0.2 ', 'I. setosa'],\n",
       " ['5.5 ', '3.5 ', '1.3 ', '0.2 ', 'I. setosa'],\n",
       " ['4.9 ', '3.6 ', '1.4 ', '0.1 ', 'I. setosa'],\n",
       " ['4.4 ', '3.0 ', '1.3 ', '0.2 ', 'I. setosa'],\n",
       " ['5.1 ', '3.4 ', '1.5 ', '0.2 ', 'I. setosa'],\n",
       " ['5.0 ', '3.5 ', '1.3 ', '0.3 ', 'I. setosa'],\n",
       " ['4.5 ', '2.3 ', '1.3 ', '0.3 ', 'I. setosa'],\n",
       " ['4.4 ', '3.2 ', '1.3 ', '0.2 ', 'I. setosa'],\n",
       " ['5.0 ', '3.5 ', '1.6 ', '0.6 ', 'I. setosa'],\n",
       " ['5.1 ', '3.8 ', '1.9 ', '0.4 ', 'I. setosa'],\n",
       " ['4.8 ', '3.0 ', '1.4 ', '0.3 ', 'I. setosa'],\n",
       " ['5.1 ', '3.8 ', '1.6 ', '0.2 ', 'I. setosa'],\n",
       " ['4.6 ', '3.2 ', '1.4 ', '0.2 ', 'I. setosa'],\n",
       " ['5.3 ', '3.7 ', '1.5 ', '0.2 ', 'I. setosa'],\n",
       " ['5.0 ', '3.3 ', '1.4 ', '0.2 ', 'I. setosa'],\n",
       " ['7.0 ', '3.2 ', '4.7 ', '1.4 ', 'I. versicolor'],\n",
       " ['6.4 ', '3.2 ', '4.5 ', '1.5 ', 'I. versicolor'],\n",
       " ['6.9 ', '3.1 ', '4.9 ', '1.5 ', 'I. versicolor'],\n",
       " ['5.5 ', '2.3 ', '4.0 ', '1.3 ', 'I. versicolor'],\n",
       " ['6.5 ', '2.8 ', '4.6 ', '1.5 ', 'I. versicolor'],\n",
       " ['5.7 ', '2.8 ', '4.5 ', '1.3 ', 'I. versicolor'],\n",
       " ['6.3 ', '3.3 ', '4.7 ', '1.6 ', 'I. versicolor'],\n",
       " ['4.9 ', '2.4 ', '3.3 ', '1.0 ', 'I. versicolor'],\n",
       " ['6.6 ', '2.9 ', '4.6 ', '1.3 ', 'I. versicolor'],\n",
       " ['5.2 ', '2.7 ', '3.9 ', '1.4 ', 'I. versicolor'],\n",
       " ['5.0 ', '2.0 ', '3.5 ', '1.0 ', 'I. versicolor'],\n",
       " ['5.9 ', '3.0 ', '4.2 ', '1.5 ', 'I. versicolor'],\n",
       " ['6.0 ', '2.2 ', '4.0 ', '1.0 ', 'I. versicolor'],\n",
       " ['6.1 ', '2.9 ', '4.7 ', '1.4 ', 'I. versicolor'],\n",
       " ['5.6 ', '2.9 ', '3.6 ', '1.3 ', 'I. versicolor'],\n",
       " ['6.7 ', '3.1 ', '4.4 ', '1.4 ', 'I. versicolor'],\n",
       " ['5.6 ', '3.0 ', '4.5 ', '1.5 ', 'I. versicolor'],\n",
       " ['5.8 ', '2.7 ', '4.1 ', '1.0 ', 'I. versicolor'],\n",
       " ['6.2 ', '2.2 ', '4.5 ', '1.5 ', 'I. versicolor'],\n",
       " ['5.6 ', '2.5 ', '3.9 ', '1.1 ', 'I. versicolor'],\n",
       " ['5.9 ', '3.2 ', '4.8 ', '1.8 ', 'I. versicolor'],\n",
       " ['6.1 ', '2.8 ', '4.0 ', '1.3 ', 'I. versicolor'],\n",
       " ['6.3 ', '2.5 ', '4.9 ', '1.5 ', 'I. versicolor'],\n",
       " ['6.1 ', '2.8 ', '4.7 ', '1.2 ', 'I. versicolor'],\n",
       " ['6.4 ', '2.9 ', '4.3 ', '1.3 ', 'I. versicolor'],\n",
       " ['6.6 ', '3.0 ', '4.4 ', '1.4 ', 'I. versicolor'],\n",
       " ['6.8 ', '2.8 ', '4.8 ', '1.4 ', 'I. versicolor'],\n",
       " ['6.7 ', '3.0 ', '5.0 ', '1.7 ', 'I. versicolor'],\n",
       " ['6.0 ', '2.9 ', '4.5 ', '1.5 ', 'I. versicolor'],\n",
       " ['5.7 ', '2.6 ', '3.5 ', '1.0 ', 'I. versicolor'],\n",
       " ['5.5 ', '2.4 ', '3.8 ', '1.1 ', 'I. versicolor'],\n",
       " ['5.5 ', '2.4 ', '3.7 ', '1.0 ', 'I. versicolor'],\n",
       " ['5.8 ', '2.7 ', '3.9 ', '1.2 ', 'I. versicolor'],\n",
       " ['6.0 ', '2.7 ', '5.1 ', '1.6 ', 'I. versicolor'],\n",
       " ['5.4 ', '3.0 ', '4.5 ', '1.5 ', 'I. versicolor'],\n",
       " ['6.0 ', '3.4 ', '4.5 ', '1.6 ', 'I. versicolor'],\n",
       " ['6.7 ', '3.1 ', '4.7 ', '1.5 ', 'I. versicolor'],\n",
       " ['6.3 ', '2.3 ', '4.4 ', '1.3 ', 'I. versicolor'],\n",
       " ['5.6 ', '3.0 ', '4.1 ', '1.3 ', 'I. versicolor'],\n",
       " ['5.5 ', '2.5 ', '4.0 ', '1.3 ', 'I. versicolor'],\n",
       " ['5.5 ', '2.6 ', '4.4 ', '1.2 ', 'I. versicolor'],\n",
       " ['6.1 ', '3.0 ', '4.6 ', '1.4 ', 'I. versicolor'],\n",
       " ['5.8 ', '2.6 ', '4.0 ', '1.2 ', 'I. versicolor'],\n",
       " ['5.0 ', '2.3 ', '3.3 ', '1.0 ', 'I. versicolor'],\n",
       " ['5.6 ', '2.7 ', '4.2 ', '1.3 ', 'I. versicolor'],\n",
       " ['5.7 ', '3.0 ', '4.2 ', '1.2 ', 'I. versicolor'],\n",
       " ['5.7 ', '2.9 ', '4.2 ', '1.3 ', 'I. versicolor'],\n",
       " ['6.2 ', '2.9 ', '4.3 ', '1.3 ', 'I. versicolor'],\n",
       " ['5.1 ', '2.5 ', '3.0 ', '1.1 ', 'I. versicolor'],\n",
       " ['5.7 ', '2.8 ', '4.1 ', '1.3 ', 'I. versicolor'],\n",
       " ['6.3 ', '3.3 ', '6.0 ', '2.5 ', 'I. virginica'],\n",
       " ['5.8 ', '2.7 ', '5.1 ', '1.9 ', 'I. virginica'],\n",
       " ['7.1 ', '3.0 ', '5.9 ', '2.1 ', 'I. virginica'],\n",
       " ['6.3 ', '2.9 ', '5.6 ', '1.8 ', 'I. virginica'],\n",
       " ['6.5 ', '3.0 ', '5.8 ', '2.2 ', 'I. virginica'],\n",
       " ['7.6 ', '3.0 ', '6.6 ', '2.1 ', 'I. virginica'],\n",
       " ['4.9 ', '2.5 ', '4.5 ', '1.7 ', 'I. virginica'],\n",
       " ['7.3 ', '2.9 ', '6.3 ', '1.8 ', 'I. virginica'],\n",
       " ['6.7 ', '2.5 ', '5.8 ', '1.8 ', 'I. virginica'],\n",
       " ['7.2 ', '3.6 ', '6.1 ', '2.5 ', 'I. virginica'],\n",
       " ['6.5 ', '3.2 ', '5.1 ', '2.0 ', 'I. virginica'],\n",
       " ['6.4 ', '2.7 ', '5.3 ', '1.9 ', 'I. virginica'],\n",
       " ['6.8 ', '3.0 ', '5.5 ', '2.1 ', 'I. virginica'],\n",
       " ['5.7 ', '2.5 ', '5.0 ', '2.0 ', 'I. virginica'],\n",
       " ['5.8 ', '2.8 ', '5.1 ', '2.4 ', 'I. virginica'],\n",
       " ['6.4 ', '3.2 ', '5.3 ', '2.3 ', 'I. virginica'],\n",
       " ['6.5 ', '3.0 ', '5.5 ', '1.8 ', 'I. virginica'],\n",
       " ['7.7 ', '3.8 ', '6.7 ', '2.2 ', 'I. virginica'],\n",
       " ['7.7 ', '2.6 ', '6.9 ', '2.3 ', 'I. virginica'],\n",
       " ['6.0 ', '2.2 ', '5.0 ', '1.5 ', 'I. virginica'],\n",
       " ['6.9 ', '3.2 ', '5.7 ', '2.3 ', 'I. virginica'],\n",
       " ['5.6 ', '2.8 ', '4.9 ', '2.0 ', 'I. virginica'],\n",
       " ['7.7 ', '2.8 ', '6.7 ', '2.0 ', 'I. virginica'],\n",
       " ['6.3 ', '2.7 ', '4.9 ', '1.8 ', 'I. virginica'],\n",
       " ['6.7 ', '3.3 ', '5.7 ', '2.1 ', 'I. virginica'],\n",
       " ['7.2 ', '3.2 ', '6.0 ', '1.8 ', 'I. virginica'],\n",
       " ['6.2 ', '2.8 ', '4.8 ', '1.8 ', 'I. virginica'],\n",
       " ['6.1 ', '3.0 ', '4.9 ', '1.8 ', 'I. virginica'],\n",
       " ['6.4 ', '2.8 ', '5.6 ', '2.1 ', 'I. virginica'],\n",
       " ['7.2 ', '3.0 ', '5.8 ', '1.6 ', 'I. virginica'],\n",
       " ['7.4 ', '2.8 ', '6.1 ', '1.9 ', 'I. virginica'],\n",
       " ['7.9 ', '3.8 ', '6.4 ', '2.0 ', 'I. virginica'],\n",
       " ['6.4 ', '2.8 ', '5.6 ', '2.2 ', 'I. virginica'],\n",
       " ['6.3 ', '2.8 ', '5.1 ', '1.5 ', 'I. virginica'],\n",
       " ['6.1 ', '2.6 ', '5.6 ', '1.4 ', 'I. virginica'],\n",
       " ['6.3 ', '3.4 ', '5.6 ', '2.4 ', 'I. virginica'],\n",
       " ['6.4 ', '3.1 ', '5.5 ', '1.8 ', 'I. virginica'],\n",
       " ['6.0 ', '3.0 ', '4.8 ', '1.8 ', 'I. virginica'],\n",
       " ['6.9 ', '3.1 ', '5.4 ', '2.1 ', 'I. virginica'],\n",
       " ['6.7 ', '3.1 ', '5.6 ', '2.4 ', 'I. virginica'],\n",
       " ['6.9 ', '3.1 ', '5.1 ', '2.3 ', 'I. virginica'],\n",
       " ['5.8 ', '2.7 ', '5.1 ', '1.9 ', 'I. virginica'],\n",
       " ['6.8 ', '3.2 ', '5.9 ', '2.3 ', 'I. virginica'],\n",
       " ['6.7 ', '3.3 ', '5.7 ', '2.5 ', 'I. virginica'],\n",
       " ['6.7 ', '3.0 ', '5.2 ', '2.3 ', 'I. virginica'],\n",
       " ['6.3 ', '2.5 ', '5.0 ', '1.9 ', 'I. virginica'],\n",
       " ['6.5 ', '3.0 ', '5.2 ', '2.0 ', 'I. virginica'],\n",
       " ['6.2 ', '3.4 ', '5.4 ', '2.3 ', 'I. virginica'],\n",
       " ['5.9 ', '3.0 ', '5.1 ', '1.8 ', 'I. virginica']]"
      ]
     },
     "execution_count": 598,
     "metadata": {},
     "output_type": "execute_result"
    }
   ],
   "source": [
    "c"
   ]
  },
  {
   "cell_type": "code",
   "execution_count": 601,
   "metadata": {},
   "outputs": [],
   "source": [
    "d = {h: [float(line[i]) for line in c] for i, h in enumerate(header[:-1])}"
   ]
  },
  {
   "cell_type": "code",
   "execution_count": 602,
   "metadata": {},
   "outputs": [
    {
     "data": {
      "text/plain": [
       "dict_keys(['Sepal length', 'Sepal width', 'Petal length', 'Petal width'])"
      ]
     },
     "execution_count": 602,
     "metadata": {},
     "output_type": "execute_result"
    }
   ],
   "source": [
    "d.keys()"
   ]
  },
  {
   "cell_type": "code",
   "execution_count": 603,
   "metadata": {},
   "outputs": [
    {
     "data": {
      "text/plain": [
       "[3.5,\n",
       " 3.0,\n",
       " 3.2,\n",
       " 3.1,\n",
       " 3.6,\n",
       " 3.9,\n",
       " 3.4,\n",
       " 3.4,\n",
       " 2.9,\n",
       " 3.1,\n",
       " 3.7,\n",
       " 3.4,\n",
       " 3.0,\n",
       " 3.0,\n",
       " 4.0,\n",
       " 4.4,\n",
       " 3.9,\n",
       " 3.5,\n",
       " 3.8,\n",
       " 3.8,\n",
       " 3.4,\n",
       " 3.7,\n",
       " 3.6,\n",
       " 3.3,\n",
       " 3.4,\n",
       " 3.0,\n",
       " 3.4,\n",
       " 3.5,\n",
       " 3.4,\n",
       " 3.2,\n",
       " 3.1,\n",
       " 3.4,\n",
       " 4.1,\n",
       " 4.2,\n",
       " 3.1,\n",
       " 3.2,\n",
       " 3.5,\n",
       " 3.6,\n",
       " 3.0,\n",
       " 3.4,\n",
       " 3.5,\n",
       " 2.3,\n",
       " 3.2,\n",
       " 3.5,\n",
       " 3.8,\n",
       " 3.0,\n",
       " 3.8,\n",
       " 3.2,\n",
       " 3.7,\n",
       " 3.3,\n",
       " 3.2,\n",
       " 3.2,\n",
       " 3.1,\n",
       " 2.3,\n",
       " 2.8,\n",
       " 2.8,\n",
       " 3.3,\n",
       " 2.4,\n",
       " 2.9,\n",
       " 2.7,\n",
       " 2.0,\n",
       " 3.0,\n",
       " 2.2,\n",
       " 2.9,\n",
       " 2.9,\n",
       " 3.1,\n",
       " 3.0,\n",
       " 2.7,\n",
       " 2.2,\n",
       " 2.5,\n",
       " 3.2,\n",
       " 2.8,\n",
       " 2.5,\n",
       " 2.8,\n",
       " 2.9,\n",
       " 3.0,\n",
       " 2.8,\n",
       " 3.0,\n",
       " 2.9,\n",
       " 2.6,\n",
       " 2.4,\n",
       " 2.4,\n",
       " 2.7,\n",
       " 2.7,\n",
       " 3.0,\n",
       " 3.4,\n",
       " 3.1,\n",
       " 2.3,\n",
       " 3.0,\n",
       " 2.5,\n",
       " 2.6,\n",
       " 3.0,\n",
       " 2.6,\n",
       " 2.3,\n",
       " 2.7,\n",
       " 3.0,\n",
       " 2.9,\n",
       " 2.9,\n",
       " 2.5,\n",
       " 2.8,\n",
       " 3.3,\n",
       " 2.7,\n",
       " 3.0,\n",
       " 2.9,\n",
       " 3.0,\n",
       " 3.0,\n",
       " 2.5,\n",
       " 2.9,\n",
       " 2.5,\n",
       " 3.6,\n",
       " 3.2,\n",
       " 2.7,\n",
       " 3.0,\n",
       " 2.5,\n",
       " 2.8,\n",
       " 3.2,\n",
       " 3.0,\n",
       " 3.8,\n",
       " 2.6,\n",
       " 2.2,\n",
       " 3.2,\n",
       " 2.8,\n",
       " 2.8,\n",
       " 2.7,\n",
       " 3.3,\n",
       " 3.2,\n",
       " 2.8,\n",
       " 3.0,\n",
       " 2.8,\n",
       " 3.0,\n",
       " 2.8,\n",
       " 3.8,\n",
       " 2.8,\n",
       " 2.8,\n",
       " 2.6,\n",
       " 3.4,\n",
       " 3.1,\n",
       " 3.0,\n",
       " 3.1,\n",
       " 3.1,\n",
       " 3.1,\n",
       " 2.7,\n",
       " 3.2,\n",
       " 3.3,\n",
       " 3.0,\n",
       " 2.5,\n",
       " 3.0,\n",
       " 3.4,\n",
       " 3.0]"
      ]
     },
     "execution_count": 603,
     "metadata": {},
     "output_type": "execute_result"
    }
   ],
   "source": [
    "d['Sepal width']"
   ]
  },
  {
   "cell_type": "code",
   "execution_count": 610,
   "metadata": {},
   "outputs": [
    {
     "name": "stdout",
     "output_type": "stream",
     "text": [
      "+++++\n"
     ]
    }
   ],
   "source": [
    "\n",
    "l = '-+++++++-'\n",
    "\n",
    "while '+-' in l or '-+' in l:\n",
    "    l = l.replace('+-', '')\n",
    "    l = l.replace('-+', '')\n",
    "    \n",
    "print (l)"
   ]
  },
  {
   "cell_type": "code",
   "execution_count": 4,
   "metadata": {},
   "outputs": [],
   "source": [
    "def f(s):\n",
    "    for x in s:\n",
    "        if not x in list('ACGT'):\n",
    "            return False\n",
    "    return len(s) % 3 == 0"
   ]
  },
  {
   "cell_type": "code",
   "execution_count": 6,
   "metadata": {},
   "outputs": [
    {
     "data": {
      "text/plain": [
       "False"
      ]
     },
     "execution_count": 6,
     "metadata": {},
     "output_type": "execute_result"
    }
   ],
   "source": [
    "f('ACGGGE')"
   ]
  },
  {
   "cell_type": "code",
   "execution_count": 15,
   "metadata": {},
   "outputs": [
    {
     "data": {
      "text/plain": [
       "'3.7.0 (default, Jun 28 2018, 07:39:16) \\n[Clang 4.0.1 (tags/RELEASE_401/final)]'"
      ]
     },
     "execution_count": 15,
     "metadata": {},
     "output_type": "execute_result"
    }
   ],
   "source": [
    "import sys\n",
    "sys.version"
   ]
  },
  {
   "cell_type": "code",
   "execution_count": 10,
   "metadata": {},
   "outputs": [
    {
     "data": {
      "text/plain": [
       "['__breakpointhook__',\n",
       " '__displayhook__',\n",
       " '__doc__',\n",
       " '__excepthook__',\n",
       " '__interactivehook__',\n",
       " '__loader__',\n",
       " '__name__',\n",
       " '__package__',\n",
       " '__spec__',\n",
       " '__stderr__',\n",
       " '__stdin__',\n",
       " '__stdout__',\n",
       " '_clear_type_cache',\n",
       " '_current_frames',\n",
       " '_debugmallocstats',\n",
       " '_framework',\n",
       " '_getframe',\n",
       " '_git',\n",
       " '_home',\n",
       " '_xoptions',\n",
       " 'abiflags',\n",
       " 'api_version',\n",
       " 'argv',\n",
       " 'base_exec_prefix',\n",
       " 'base_prefix',\n",
       " 'breakpointhook',\n",
       " 'builtin_module_names',\n",
       " 'byteorder',\n",
       " 'call_tracing',\n",
       " 'callstats',\n",
       " 'copyright',\n",
       " 'displayhook',\n",
       " 'dont_write_bytecode',\n",
       " 'exc_info',\n",
       " 'excepthook',\n",
       " 'exec_prefix',\n",
       " 'executable',\n",
       " 'exit',\n",
       " 'flags',\n",
       " 'float_info',\n",
       " 'float_repr_style',\n",
       " 'get_asyncgen_hooks',\n",
       " 'get_coroutine_origin_tracking_depth',\n",
       " 'get_coroutine_wrapper',\n",
       " 'getallocatedblocks',\n",
       " 'getcheckinterval',\n",
       " 'getdefaultencoding',\n",
       " 'getdlopenflags',\n",
       " 'getfilesystemencodeerrors',\n",
       " 'getfilesystemencoding',\n",
       " 'getprofile',\n",
       " 'getrecursionlimit',\n",
       " 'getrefcount',\n",
       " 'getsizeof',\n",
       " 'getswitchinterval',\n",
       " 'gettrace',\n",
       " 'hash_info',\n",
       " 'hexversion',\n",
       " 'implementation',\n",
       " 'int_info',\n",
       " 'intern',\n",
       " 'is_finalizing',\n",
       " 'last_traceback',\n",
       " 'last_type',\n",
       " 'last_value',\n",
       " 'maxsize',\n",
       " 'maxunicode',\n",
       " 'meta_path',\n",
       " 'modules',\n",
       " 'path',\n",
       " 'path_hooks',\n",
       " 'path_importer_cache',\n",
       " 'platform',\n",
       " 'prefix',\n",
       " 'ps1',\n",
       " 'ps2',\n",
       " 'ps3',\n",
       " 'set_asyncgen_hooks',\n",
       " 'set_coroutine_origin_tracking_depth',\n",
       " 'set_coroutine_wrapper',\n",
       " 'setcheckinterval',\n",
       " 'setdlopenflags',\n",
       " 'setprofile',\n",
       " 'setrecursionlimit',\n",
       " 'setswitchinterval',\n",
       " 'settrace',\n",
       " 'stderr',\n",
       " 'stdin',\n",
       " 'stdout',\n",
       " 'thread_info',\n",
       " 'version',\n",
       " 'version_info',\n",
       " 'warnoptions']"
      ]
     },
     "execution_count": 10,
     "metadata": {},
     "output_type": "execute_result"
    }
   ],
   "source": [
    "dir(sys)"
   ]
  }
 ],
 "metadata": {
  "kernelspec": {
   "display_name": "Python 3",
   "language": "python",
   "name": "python3"
  },
  "language_info": {
   "codemirror_mode": {
    "name": "ipython",
    "version": 3
   },
   "file_extension": ".py",
   "mimetype": "text/x-python",
   "name": "python",
   "nbconvert_exporter": "python",
   "pygments_lexer": "ipython3",
   "version": "3.7.0"
  }
 },
 "nbformat": 4,
 "nbformat_minor": 2
}
