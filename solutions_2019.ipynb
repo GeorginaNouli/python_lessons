{
 "cells": [
  {
   "cell_type": "markdown",
   "metadata": {},
   "source": [
    "# Λύσεις στις ασκήσεις του μαθήματος \"Εισαγωγή στον Προγραμματισμό με τη γλώσσα python\". Χειμερινό εξάμηνο 2019-2020\n",
    "\n",
    "[Αλέξανδρος Καντεράκης](mailto:kantale@ics.forth.gr)\n"
   ]
  },
  {
   "cell_type": "markdown",
   "metadata": {},
   "source": [
    "## Σειρά 1"
   ]
  },
  {
   "cell_type": "markdown",
   "metadata": {},
   "source": [
    "### Άσκηση 1.1\n",
    "Φτιάξτε μία συνάρτηση η οποία θα παίρνει δύο παράμετρους. Θα επιστρέφει το άθροισμά τους. Η συνάρτηση πρέπει να ελέγχει αν η είσοδος είναι int ή float. Αν η είσοδος δεν είναι int ή float θα τυπώνει ένα μήνυμα λάθους."
   ]
  },
  {
   "cell_type": "code",
   "execution_count": 84,
   "metadata": {},
   "outputs": [],
   "source": [
    "def f(a, b):\n",
    "    accepted_types = {float, int}\n",
    "    if not all(type(par) in accepted_types  for par in (a,b)):\n",
    "        print ('Error!')\n",
    "        return\n",
    "        \n",
    "    return a+b"
   ]
  },
  {
   "cell_type": "code",
   "execution_count": 85,
   "metadata": {},
   "outputs": [
    {
     "data": {
      "text/plain": [
       "6"
      ]
     },
     "execution_count": 85,
     "metadata": {},
     "output_type": "execute_result"
    }
   ],
   "source": [
    "f(3, 3)"
   ]
  },
  {
   "cell_type": "code",
   "execution_count": 86,
   "metadata": {},
   "outputs": [
    {
     "name": "stdout",
     "output_type": "stream",
     "text": [
      "Error!\n"
     ]
    }
   ],
   "source": [
    "f(3,'a')"
   ]
  },
  {
   "cell_type": "markdown",
   "metadata": {},
   "source": [
    "### Άσκηση 1.2\n",
    "Φτιάξτε μία συνάρτηση η οποία θα παίρνει τρεις παραμέτρους. Θα επιστρέφει τους αριθμούς αυτούς ταξινομημένους από τον μικρότερο στον μεγαλύτερο. Μην χρησιμοποιήσετε min. Επίσης η συνάρτηση θα ελέγχει αν οι παράμετροι είναι int ή float. Αν κάποια παράμετρος δεν είναι int ή float, θα τυπώνει μήνυμα λάθους"
   ]
  },
  {
   "cell_type": "code",
   "execution_count": 94,
   "metadata": {},
   "outputs": [],
   "source": [
    "def f1_2(a,b,c):\n",
    "    accepted_types = {float, int}\n",
    "    if not all(type(par) in accepted_types for par in (a,b,c)):\n",
    "        print ('Error!')\n",
    "        return\n",
    "    \n",
    "    if a<=b:\n",
    "        if b<=c:\n",
    "            return (a,b,c)\n",
    "        elif a<=c:\n",
    "            return (a,c,b)\n",
    "        else:\n",
    "            return (c,a,b)\n",
    "    else:\n",
    "        if a<=c:\n",
    "            return(b,a,c)\n",
    "        elif b<=c:\n",
    "            return (b,c,a)\n",
    "        else:\n",
    "            return (c,b,a)\n"
   ]
  },
  {
   "cell_type": "code",
   "execution_count": 88,
   "metadata": {},
   "outputs": [
    {
     "data": {
      "text/plain": [
       "(1, 2, 3)"
      ]
     },
     "execution_count": 88,
     "metadata": {},
     "output_type": "execute_result"
    }
   ],
   "source": [
    "f(1,2,3)"
   ]
  },
  {
   "cell_type": "code",
   "execution_count": 89,
   "metadata": {},
   "outputs": [
    {
     "data": {
      "text/plain": [
       "(1, 2, 3)"
      ]
     },
     "execution_count": 89,
     "metadata": {},
     "output_type": "execute_result"
    }
   ],
   "source": [
    "f(1,3,2)"
   ]
  },
  {
   "cell_type": "code",
   "execution_count": 90,
   "metadata": {},
   "outputs": [
    {
     "data": {
      "text/plain": [
       "(1, 2, 3)"
      ]
     },
     "execution_count": 90,
     "metadata": {},
     "output_type": "execute_result"
    }
   ],
   "source": [
    "f(2,1,3)"
   ]
  },
  {
   "cell_type": "code",
   "execution_count": 91,
   "metadata": {},
   "outputs": [
    {
     "data": {
      "text/plain": [
       "(1, 2, 3)"
      ]
     },
     "execution_count": 91,
     "metadata": {},
     "output_type": "execute_result"
    }
   ],
   "source": [
    "f(2,3,1)"
   ]
  },
  {
   "cell_type": "code",
   "execution_count": 92,
   "metadata": {},
   "outputs": [
    {
     "data": {
      "text/plain": [
       "(1, 2, 3)"
      ]
     },
     "execution_count": 92,
     "metadata": {},
     "output_type": "execute_result"
    }
   ],
   "source": [
    "f(3,1,2)"
   ]
  },
  {
   "cell_type": "code",
   "execution_count": 93,
   "metadata": {},
   "outputs": [
    {
     "data": {
      "text/plain": [
       "(1, 2, 3)"
      ]
     },
     "execution_count": 93,
     "metadata": {},
     "output_type": "execute_result"
    }
   ],
   "source": [
    "f(3,2,1)"
   ]
  },
  {
   "cell_type": "markdown",
   "metadata": {},
   "source": [
    "### Άσκηση 1.3\n",
    "Φτιάξτε μία συνάρτηση η οποία θα παίρνει τρεις παραμέτρους. Θα επιστρέφει το ζευγάρι αριθμών που έχει τη μικρότερη απόσταση. Ως απόσταση ορίζεται το απόλυτο της διαφοράς τους. Για παράδειγμα: οι 2 αριθμοί που έχουν την μικρότερη απόσταση από τους 1,7,3 είναι το 1 και το 3. Όπως και στις ασκήσεις 1 και 2 θα πρέπει να ελέγχει ότι οι αριθμοί είναι int ή float."
   ]
  },
  {
   "cell_type": "code",
   "execution_count": 107,
   "metadata": {},
   "outputs": [],
   "source": [
    "\n",
    "\n",
    "def f1_3(a,b,c):\n",
    "    accepted_types = {float, int}\n",
    "    if not all(type(par) in accepted_types for par in (a,b,c)):\n",
    "        print ('Error!')\n",
    "        return\n",
    "    \n",
    "    all_numbers = [a,b,c]\n",
    "    all_distances = []\n",
    "    \n",
    "    for x in range(3):\n",
    "        for y in range(x+1,3):\n",
    "            all_distances.append(\n",
    "                (\n",
    "                    abs(all_numbers[x]-all_numbers[y]), \n",
    "                    all_numbers[x],  \n",
    "                    all_numbers[y],\n",
    "                )\n",
    "            )\n",
    "            \n",
    "    minimum=min(all_distances[0], all_distances[1], all_distances[2])\n",
    "    return minimum[1], minimum[2]\n",
    "            \n",
    "    "
   ]
  },
  {
   "cell_type": "code",
   "execution_count": 110,
   "metadata": {},
   "outputs": [
    {
     "data": {
      "text/plain": [
       "(1, 3)"
      ]
     },
     "execution_count": 110,
     "metadata": {},
     "output_type": "execute_result"
    }
   ],
   "source": [
    "f1_3(1,7,3)"
   ]
  },
  {
   "cell_type": "markdown",
   "metadata": {},
   "source": [
    "### Άσκηση 1.4\n",
    "Φτιάξτε μία συνάρτηση η οποία θα παίρνει ως είσοδο μία ακολουθεία νουκλεοτιδίων. Π.χ. μία είσοδος είναι η 'AAACGTTCGGAA'. Η συνάρτηση θα πρέπει να επιστρέφει True αν η ακολουθεία ΔΕΝ περιέχει άλλο γράμμα πέρα από τα 'A', 'C', 'G', 'T'. Για παράδειγμα αν η είσοδος είναι 'ACCGGFT', τότε επιστρέφει False. Αν η ακολουθεία είναι η 'ACCCAA', τότε επιστρέφει True. Αν η ακολουθεία είναι κενή τότε πρέπει να επιστρέφει False."
   ]
  },
  {
   "cell_type": "code",
   "execution_count": 121,
   "metadata": {},
   "outputs": [],
   "source": [
    "def f1_4(seq):\n",
    "    if not seq:\n",
    "        return False\n",
    "    \n",
    "    return all(k in 'ACGT' for k in seq)"
   ]
  },
  {
   "cell_type": "code",
   "execution_count": 119,
   "metadata": {},
   "outputs": [
    {
     "data": {
      "text/plain": [
       "False"
      ]
     },
     "execution_count": 119,
     "metadata": {},
     "output_type": "execute_result"
    }
   ],
   "source": [
    "f('')"
   ]
  },
  {
   "cell_type": "markdown",
   "metadata": {},
   "source": [
    "### Άσκηση 1.5\n",
    "Το ίδιο με την Άσκηση 4 αλλά θα πρέπει να ελέγχει και αν το μήκος της ακολουθίας διαιρείται με το 3. Για παράδειγμα:\n",
    "```\n",
    "ACCCTA --> True\n",
    "ACCFTT --> False (Δεν είναι όλα τα γράμματα A,C,G,T)\n",
    "ACCCT  --> False (Δεν διαιρείται με το 3 το μήκος της)\n",
    "ACCCF  --> False (Δεν διαιρείται με το 3 το μήκος της και έχει ένα γράμμα που δεν είναι A,C,G,T)\n",
    "```"
   ]
  },
  {
   "cell_type": "code",
   "execution_count": 124,
   "metadata": {},
   "outputs": [],
   "source": [
    "def f1_5(seq):\n",
    "    return f1_4(seq) and len(seq)%3==0"
   ]
  },
  {
   "cell_type": "markdown",
   "metadata": {},
   "source": [
    "### Άσκηση 1.6\n",
    "Από όλα τα ζευγάρια ακέραιων αριθμών α,β όπου 0<=α<=100 και 0<=β<=100 ποιοι είναι αυτοί για τους οποίους ισχύει:\n",
    "```\n",
    "(α+β)^2 = α*10 + β\n",
    "```"
   ]
  },
  {
   "cell_type": "code",
   "execution_count": 129,
   "metadata": {},
   "outputs": [
    {
     "data": {
      "text/plain": [
       "[(0, 0), (0, 1), (8, 1), (10, 0)]"
      ]
     },
     "execution_count": 129,
     "metadata": {},
     "output_type": "execute_result"
    }
   ],
   "source": [
    "[(a,b) for a in range(0,101) for b in range(0,101) if (a+b)**2 == (a*10)+b]"
   ]
  },
  {
   "cell_type": "markdown",
   "metadata": {},
   "source": [
    "### Άσκηση 1.7\n",
    "Γράψτε μία συνάρτηση η οποία θα παίρνει ένα αλφαριθμητικό (string), και θα επιστρέφει έναν ακέραιο που θα αποτελείται από όλα τα ψηφία του αλφαριθμητικού. Για παράδειγμα:\n",
    "```\n",
    "\"καλη2μέ3ρα\" --> 23\n",
    "\"1Ηρά3κλειο9\" --> 139\n",
    "```\n"
   ]
  },
  {
   "cell_type": "code",
   "execution_count": 135,
   "metadata": {},
   "outputs": [],
   "source": [
    "def f(w):\n",
    "    if not w:\n",
    "        return 'Error'\n",
    "    \n",
    "    return int(''.join(x for x in w if x in '0123456789'))"
   ]
  },
  {
   "cell_type": "code",
   "execution_count": null,
   "metadata": {},
   "outputs": [],
   "source": []
  },
  {
   "cell_type": "code",
   "execution_count": 133,
   "metadata": {},
   "outputs": [
    {
     "data": {
      "text/plain": [
       "23"
      ]
     },
     "execution_count": 133,
     "metadata": {},
     "output_type": "execute_result"
    }
   ],
   "source": [
    "f('καλη2μέ3ρα')"
   ]
  },
  {
   "cell_type": "markdown",
   "metadata": {},
   "source": [
    "### Άσκηση 1.8\n",
    "Γράψτε μία συνάρτηση η οποία θα παίρνει 3 αριθμούς από 1 μέχρι το 10. Αρχικά θα ελέγχει αν και οι τρεις είναι διαφορετικοί μεταξύ τους. Αν δεν είναι, θα πετάει ένα μήνυμα λάθους και θα επιστρέφει None. Επίσης θα ελέγχει αν και οι τρεις είναι από το 1 μέχρι το 10 αλλιώς πάλι θα πετάει μήνυμα λάθους. Στη συνέχεια θα επιστρέφει ένα string με μέγεθος 10. Το string αυτό θα έχει τον χαρακτήρα αστεράκι (\\*) σε όλες τις θέσεις εκτός από τις θέσεις με αριθμό κάποιον από τα ορίσματα. Σε αυτή τη θέση θα έχει τον αντίστοιχο αριθμό. Παραδείγματα:\n",
    "```\n",
    "5,1,9 --> '1***5***9*'\n",
    "0,1,9 --> ΛΑΘΟΣ, ΟΛΟΙ ΟΙ ΑΡΙΘΜΟΙ ΠΡΕΠΕΙ ΝΑ ΕΙΝΑΙ ΑΠΟ ΤΟ 1 ΜΕΧΡΙ ΤΟ 10\n",
    "5,1,5 --> ΛΑΘΟΣ, ΟΛΟΙ ΟΙ ΑΡΙΘΜΟΙ ΠΡΕΠΕΙ ΝΑ ΕΙΝΑΙ ΔΙΑΦΟΡΕΤΙΚΟΙ ΜΕΤΑΞΥ ΤΟΥΣ\n",
    "5,6,8 --> '****56*8**'\n",
    "```"
   ]
  },
  {
   "cell_type": "code",
   "execution_count": 134,
   "metadata": {},
   "outputs": [],
   "source": [
    "def f(a,b,c):\n",
    "    if len({a,b,c}) != 3:\n",
    "        print ('Not all different')\n",
    "        return\n",
    "    \n",
    "    if not all(1<=x<=10 for x in [a,b,c]):\n",
    "        print ('Not all 1<=x<=10')\n",
    "        return\n",
    "    \n",
    "    ret = ['*'] * 10\n",
    "    ret[a-1]=str(a)\n",
    "    ret[b-1]=str(b)\n",
    "    ret[c-1]=str(c)\n",
    "    \n",
    "    return ''.join(ret)\n"
   ]
  },
  {
   "cell_type": "code",
   "execution_count": 135,
   "metadata": {},
   "outputs": [
    {
     "data": {
      "text/plain": [
       "'1***5***9*'"
      ]
     },
     "execution_count": 135,
     "metadata": {},
     "output_type": "execute_result"
    }
   ],
   "source": [
    "f(5,1,9)"
   ]
  },
  {
   "cell_type": "code",
   "execution_count": 136,
   "metadata": {},
   "outputs": [
    {
     "name": "stdout",
     "output_type": "stream",
     "text": [
      "Not all 1<=x<=10\n"
     ]
    }
   ],
   "source": [
    "f(0,1,9)"
   ]
  },
  {
   "cell_type": "code",
   "execution_count": 138,
   "metadata": {},
   "outputs": [
    {
     "name": "stdout",
     "output_type": "stream",
     "text": [
      "Not all different\n"
     ]
    }
   ],
   "source": [
    "f(5,1,5)"
   ]
  },
  {
   "cell_type": "markdown",
   "metadata": {},
   "source": [
    "### Άσκηση 1.9\n",
    "Γράψτε μία συνάρτηση η οποία θα παίρνει ένα ακέραιο αριθμό. Αν ο αριθμός είναι μικρότερος από το 100 θα επιστρέφει None και θα τυπώνει ένα μήνυμα λάθους. Διαφορετικά θα επιστρέφει True αν το άθροισμα των δύο πρώτων ψηφίων του είναι άρτιος (ζυγός) ή False αν δεν είναι. Παραδείγματα:\n",
    "```\n",
    "48973 --> True (4+8=12, άρτιος)\n",
    "381 --> False (3+8=11, μονός)\n",
    "3 --> ΛΑΘΟΣ, Ο ΑΡΙΘΜΟΣ ΠΡΕΠΕΙ ΝΑ ΕΙΝΑΙ ΜΕΓΑΛΥΤΕΡΟΣ ΑΠΟ ΤΟ 100\n",
    "```"
   ]
  },
  {
   "cell_type": "code",
   "execution_count": 148,
   "metadata": {},
   "outputs": [],
   "source": [
    "\n",
    "def f(x):\n",
    "    if x<100:\n",
    "        print ('ERROR')\n",
    "        return\n",
    "    \n",
    "    a,b = str(x)[:2]\n",
    "    \n",
    "    return (int(a)+int(b)) % 2 == 0"
   ]
  },
  {
   "cell_type": "code",
   "execution_count": 149,
   "metadata": {},
   "outputs": [
    {
     "data": {
      "text/plain": [
       "True"
      ]
     },
     "execution_count": 149,
     "metadata": {},
     "output_type": "execute_result"
    }
   ],
   "source": [
    "f(48973)"
   ]
  },
  {
   "cell_type": "markdown",
   "metadata": {},
   "source": [
    "f(381)"
   ]
  },
  {
   "cell_type": "markdown",
   "metadata": {},
   "source": [
    "### Άσκηση 1.10\n",
    "\n",
    "Μία μέρα έχει 24 ώρες. Μία ώρα έχει 60 λεπτά. Άρα μία μέρα έχει 24\\*60=1440 λεπτά. Φτιάξτε μία συνάρτηση που να παίρνει σαν είσοδο έναν αριθμό από το 0 μέχρι και το 1440. Θα πρέπει να επιστρέφει δύο αριθμούς. Ο πρώτος θα είναι η γωνία του ωροδείκτη και ο δεύτερος η γωνία του λεπτοδείκτη, όταν έχουν περάσει τόσα λεπτά από τις 00:00 αυτής της μέρας, όσα η παράμετρος της συνάρτησης. Κάθε γωνία πρέπει να είναι ένας αριθμός από το 0 μέχρι το 360. 0 μοίρες είναι όταν ένας δείκτης είναι στο \"12\" του ρολογιού, 90 μοίρες είναι όταν είναι στο \"3\", 180 μοίρες είναι όταν ο δείκτης είναι στο \"6\" του ρολογιού, 270 μοίρες είναι όταν είναι στο 9. Μερικά παραδείγματα:\n",
    "```\n",
    "ΛΕΠΤΑ --> ΩΡΟΔΕΙΚΤΗΣ, ΛΕΠΤΟΔΕΙΚΤΗΣ\n",
    "0 --> 0.0, 0.0\n",
    "5 --> 2.5, 30.0\n",
    "180 --> 90.0, 0.0\n",
    "681 --> 340.5, 126.0\n",
    "1000 --> 140.0, 240.0\n",
    "```"
   ]
  },
  {
   "cell_type": "code",
   "execution_count": 167,
   "metadata": {},
   "outputs": [],
   "source": [
    " def f(x):\n",
    "        hours = 360 * (x / 60) / 12\n",
    "        minutes = 360 * (x % 60) / 60\n",
    "        \n",
    "        if hours > 360:\n",
    "            hours -= 360\n",
    "        \n",
    "        return hours, minutes\n",
    "        \n",
    "        "
   ]
  },
  {
   "cell_type": "code",
   "execution_count": 168,
   "metadata": {},
   "outputs": [
    {
     "data": {
      "text/plain": [
       "(140.0, 240.0)"
      ]
     },
     "execution_count": 168,
     "metadata": {},
     "output_type": "execute_result"
    }
   ],
   "source": [
    "f(1000)"
   ]
  },
  {
   "cell_type": "markdown",
   "metadata": {},
   "source": [
    "### Άσκηση 1.11\n",
    "Αν μία μπάλα χάνει το 7% του ύψους της κάθε φορά που αναπηδάει και την αφήσουμε να πέσει από το 1 μέτρο, μετά από πόσες αναπηδήσεις θα έχει φτάσει σε ύψος κάτω από το μισό μέτρο; Φτάξτε κώδικα python που απαντάει σε αυτό το ερώτημα με επαναληπτικό τρόπο (αν θέλετε κάντε το και με αναλυτικό). "
   ]
  },
  {
   "cell_type": "code",
   "execution_count": 171,
   "metadata": {},
   "outputs": [
    {
     "data": {
      "text/plain": [
       "10"
      ]
     },
     "execution_count": 171,
     "metadata": {},
     "output_type": "execute_result"
    }
   ],
   "source": [
    "height = 1\n",
    "count = 0\n",
    "while height > 0.5:\n",
    "    height -= 0.07*height\n",
    "    count += 1\n",
    "count"
   ]
  },
  {
   "cell_type": "markdown",
   "metadata": {},
   "source": [
    "### Άσκηση 1.12\n",
    "Βρείτε όλες τις λύσεις της εξίσωσης: ``` x^2 = y! + 1 ``` για 1<=x<=100 και 1<=y<=100. Όπου x και y είναι ακέραιοι."
   ]
  },
  {
   "cell_type": "code",
   "execution_count": 175,
   "metadata": {},
   "outputs": [
    {
     "data": {
      "text/plain": [
       "[(5, 4), (11, 5), (71, 7)]"
      ]
     },
     "execution_count": 175,
     "metadata": {},
     "output_type": "execute_result"
    }
   ],
   "source": [
    "from functools import reduce\n",
    "\n",
    "def fact(x):\n",
    "    return reduce(lambda x,y: x*y, range(1,x+1))\n",
    "\n",
    "[(x,y) for x in range(1,101) for y in range(1,101) if x**2 == fact(y)+1]"
   ]
  },
  {
   "cell_type": "markdown",
   "metadata": {},
   "source": [
    "### Άσκηση 1.13\n",
    "Υπάρχουν μερικοί αριθμοί που μπορούν να γραφούν σαν άθροισμα δύο κύβων. Για παράδειγμα το 468 μπορεί να γραφεί σαν 5^3 + 7^3. Υπάρχει όμως μόνο δύο αριθμοί μικρότεροι από το 10.000, οι οποίοι μπορούν να γραφτούν με δύο τρόπους σαν άθροισμα δύο κύβων! Ο ένας από αυτούς είναι το 1729 επειδή: ``` 1729 = 1^3 + 12^3 και 1729 = 9^3 + 10^3 ```. Ποιος είναι ο δεύτερος αριθμός που έχει αυτή την ιδιότητα; Σημείωση: ψάχνουμε μόνο αριθμούς < 10.000 ."
   ]
  },
  {
   "cell_type": "code",
   "execution_count": 120,
   "metadata": {},
   "outputs": [
    {
     "name": "stdout",
     "output_type": "stream",
     "text": [
      "1729\n",
      "4104\n"
     ]
    }
   ],
   "source": [
    "all_s = []\n",
    "for x in range(1,100):\n",
    "    for y in range(x, 100):\n",
    "        s = x**3+y**3\n",
    "\n",
    "        if s>10000:\n",
    "            continue\n",
    "            \n",
    "        if s in all_s:\n",
    "            print (s)\n",
    "        else:\n",
    "            all_s.append(s)"
   ]
  },
  {
   "cell_type": "code",
   "execution_count": 119,
   "metadata": {},
   "outputs": [
    {
     "data": {
      "text/plain": [
       "[1729, 4104]"
      ]
     },
     "execution_count": 119,
     "metadata": {},
     "output_type": "execute_result"
    }
   ],
   "source": [
    "from collections import Counter\n",
    "c = Counter(x**3+y**3 for x in range(1,100) for y in range(x, 100))\n",
    "[k for k,l in c.items() if k<10000 and l>1]"
   ]
  },
  {
   "cell_type": "markdown",
   "metadata": {},
   "source": [
    "### Άσκηση 1.14\n",
    "Ας υποθέσουμε ότι έχουμε ένα string (αλφαριθμητικό) το οποίο αποτελείται μόνο από '+' και '-'. Για παράδειγμα ```+----+++--```. Υποθέτουμε ότι το '+' αναπαριστά ένα πρωτόνιο και το '-' ένα αντι-πρωτόνιο! Όταν ένα πρωτόνιο ('+') και ένα αντι-πρωτόνιο ('-') είναι δίπλα-δίπλα τότε αυτά εξαφανίζονται! Για παράδειγμα παρακάτω έχω σημείωσει τις θέσεις όπου υπάρχουν '+' και '-' δίπλα-δίπλα (τις σημείωνω με ^).\n",
    "```\n",
    "+----+++--\n",
    "^^  ^^ ^^\n",
    "``` \n",
    "\n",
    "Αν εξαφανίσουμε λοιπόν τις θέσεις που τα + και - είναι δίπλα-δίπλα, το string θα γίνει:\n",
    "```\n",
    "--+-\n",
    "```\n",
    "\n",
    "Και πάλι όμως βλέπουμε ότι το νέο string έχει '+' και '-' δίπλα-δίπλα. Οπότε αυτές οι θέσεις θα εξαφανιστούν και θα γίνει:\n",
    "```\n",
    "--\n",
    "```\n",
    "\n",
    "Τώρα παρατηρούμε ότι αφού έχει μόνο '-', το string δεν μπορεί να μικρύνει άλλο.\n",
    "\n",
    "Φτιάξτε μία συνάρτηση που να παίρνει ένα string και θα ελέγχει αν έχει μόνο + και -. Στη συνέχεια πρέπει να επιστρέφει το string το οποίο ΔΕΝ μπορεί να μικρύνει άλλο. Δίνονται μερικά παραδείγματα:\n",
    "\n",
    "```\n",
    "+++---++-++--+--++-----++++-++-+++++--++-+---+----++++-+-++----+--+++-++--+-+-+++--+++--+++++++-+-++    ==>   ++++++++++++\n",
    "+-+---++------+++-++++-+-+--+--+++--------++++--++---+----+---+++---++--++-++-+-++--+-+-++--++-+++--    ==>   --------\n",
    "+--+--+++---+----+++--+-+--+--+-+----+++-++--+--+--+++++-+--+-+----++--+++-----+++-+++-++-+-++-++-+-    ==>   ----\n",
    "```"
   ]
  },
  {
   "cell_type": "code",
   "execution_count": 201,
   "metadata": {},
   "outputs": [],
   "source": [
    "def f(x):\n",
    "    ret = x\n",
    "    while len(set(ret))>1:\n",
    "        ret = ret.replace('-+', '')\n",
    "        ret = ret.replace('+-', '')\n",
    "    return ret\n",
    "        "
   ]
  },
  {
   "cell_type": "code",
   "execution_count": 202,
   "metadata": {},
   "outputs": [
    {
     "data": {
      "text/plain": [
       "'++++++++++++'"
      ]
     },
     "execution_count": 202,
     "metadata": {},
     "output_type": "execute_result"
    }
   ],
   "source": [
    "f('+++---++-++--+--++-----++++-++-+++++--++-+---+----++++-+-++----+--+++-++--+-+-+++--+++--+++++++-+-++')"
   ]
  },
  {
   "cell_type": "code",
   "execution_count": 203,
   "metadata": {},
   "outputs": [
    {
     "data": {
      "text/plain": [
       "'-----'"
      ]
     },
     "execution_count": 203,
     "metadata": {},
     "output_type": "execute_result"
    }
   ],
   "source": [
    "f('+-+-------------+++++++++++++++++++------------+-')"
   ]
  },
  {
   "cell_type": "markdown",
   "metadata": {},
   "source": [
    "### Άσκηση 1.15\n",
    "Γράψτε μία συνάρτηση η οποία θα παίρνει δύο ακέραιους ως παράμετρους. Ο πρώτος μπορεί να πάρει τιμές από το 1 μέχρι το 31 και αναπαριστά τη μέρα του μήνα. Ο δεύτερος μπορεί να πάρει τιμές από 1 μέχρι το 12 και αναπαριστά τον μήνα του χρόνου (1=Ιανουάριος, 2=Φεβρουάριους, ... 12=Δεκέμβριους). Η συνάρτηση θα πρέπει να επιστρέφει True, αν είναι δυνατός αυτός ο συνδοιασμός (μέρα, μήνα), διαφορετικά θα επιστρέφει False. Σημείωση: υποθέτουμε ότι το έτος ΔΕΝ είναι δίσεκτο. Παραδείγματα:\n",
    "```\n",
    "31,1 --> True (31 December)\n",
    "29,2 --> False (29 February)\n",
    "32,3 --> Error, invalid range! (32 March)\n",
    "31,4 --> False (31 April)\n",
    "31,5 --> True (31 May)\n",
    "```"
   ]
  },
  {
   "cell_type": "code",
   "execution_count": 206,
   "metadata": {},
   "outputs": [],
   "source": [
    "def f(d,m):\n",
    "    if m<1 or m>12 or d<1 or d>31:\n",
    "        print ('error')\n",
    "        return \n",
    "\n",
    "    if m == 2:\n",
    "        max_day = 28\n",
    "    elif m in {1,3,5,7,8,10,12}:\n",
    "        max_day = 31\n",
    "    else:\n",
    "        max_day = 30\n",
    "        \n",
    "    return 1<=d<=max_day\n",
    "        \n",
    "    "
   ]
  },
  {
   "cell_type": "code",
   "execution_count": 213,
   "metadata": {},
   "outputs": [
    {
     "data": {
      "text/plain": [
       "False"
      ]
     },
     "execution_count": 213,
     "metadata": {},
     "output_type": "execute_result"
    }
   ],
   "source": [
    "f(31,4)"
   ]
  },
  {
   "cell_type": "markdown",
   "metadata": {},
   "source": [
    "### Άσκηση 1.16\n",
    "Γράψτε μία συνάρτηση η οποία θα παίρνει σαν παράμετρους τρία strings. Στη συνέχεια θα πρέπει να τα τυπώνει justified. Δηλαδή το κάθε string θα τυπώνεται σε μία ξεχωριστή γραμμή. Όλες οι γραμμές θα έχουν το ίδιο κέντρο. Μπορείτε να υπάρχει διαφορά στην αντιστοίχιση +/- ένα space όπου δεν είναι δυνατό το τέλεια \"κεντράρισμα\". Για παράδειγμα:\n",
    "```\n",
    "python, is, great -->\n",
    "\n",
    "python\n",
    "  is\n",
    " great\n",
    "```\n",
    "\n",
    "```\n",
    "Μία, ξεχωριστή, μέρα -->\n",
    "\n",
    "   Μία   \n",
    "ξεχωριστή\n",
    "  μέρα\n",
    "```"
   ]
  },
  {
   "cell_type": "code",
   "execution_count": 1,
   "metadata": {},
   "outputs": [],
   "source": [
    "def f(a,b,c):\n",
    "    all_strings = [a,b,c]\n",
    "    max_string = max(all_strings, key=len)\n",
    "    max_len = len(max_string)\n",
    "    \n",
    "    for s in all_strings:\n",
    "        print (' ' * ((max_len-len(s))//2) + s)"
   ]
  },
  {
   "cell_type": "code",
   "execution_count": 219,
   "metadata": {},
   "outputs": [
    {
     "name": "stdout",
     "output_type": "stream",
     "text": [
      "python\n",
      "  is\n",
      "great\n"
     ]
    }
   ],
   "source": [
    "f('python', 'is', 'great')"
   ]
  },
  {
   "cell_type": "code",
   "execution_count": 2,
   "metadata": {},
   "outputs": [
    {
     "name": "stdout",
     "output_type": "stream",
     "text": [
      "   Μία\n",
      "ξεχωριστή\n",
      "  μέρα\n"
     ]
    }
   ],
   "source": [
    "f('Μία', 'ξεχωριστή', 'μέρα')"
   ]
  },
  {
   "cell_type": "markdown",
   "metadata": {},
   "source": [
    "### Άσκηση 1.17\n",
    "Γράψτε ένα πρόγραμμα το οποία θα παίρνει δύο αριθμούς. Το πρόγραμμα θα επιστρέφει σε πιο τεταρτημόριο του καρτεσιανού διδιάστατου χώρου βρίσκεται το σημείο που ορίζεται από αυτούς τους δύο αριθμούς. Θεωρούμε ότι το κέντρο του χώρου είναι το 0,0. Για παράδειγμα:\n",
    "```\n",
    "3,4 --> Πρώτο τεταρτημόριο\n",
    "-2,7 --> Δεύτερο τερτημόριο\n",
    "-5,-2 --> Τρίτο τεταρτημόριο\n",
    "4,-3 --> Τέταρτο τεταρτημόριο\n",
    "0,0 --> κέντρο\n",
    "0,1 --> πάνω στον άξονα Υ\n",
    "3,0 --> πάνω στον άξονά Χ\n",
    "```"
   ]
  },
  {
   "cell_type": "code",
   "execution_count": 3,
   "metadata": {},
   "outputs": [],
   "source": [
    "def f(x,y):\n",
    "    \n",
    "    if x == 0 and y == 0:\n",
    "        return 'κέντρο'\n",
    "    \n",
    "    if x == 0:\n",
    "        return 'πάνω στον άξονα Υ'\n",
    "    \n",
    "    if y == 0:\n",
    "        return 'πάνω στον άξονα Χ'\n",
    "    \n",
    "    if y > 0:\n",
    "        if x > 0:\n",
    "            return 'Πρώτο'\n",
    "        return 'Δεύτερο'\n",
    "        \n",
    "    if x>0:\n",
    "        return 'Τέταρτο'\n",
    "    \n",
    "    return 'Τρίτο'\n",
    "    "
   ]
  },
  {
   "cell_type": "code",
   "execution_count": 4,
   "metadata": {},
   "outputs": [
    {
     "data": {
      "text/plain": [
       "'Πρώτο'"
      ]
     },
     "execution_count": 4,
     "metadata": {},
     "output_type": "execute_result"
    }
   ],
   "source": [
    "f(3,4)"
   ]
  },
  {
   "cell_type": "code",
   "execution_count": 5,
   "metadata": {},
   "outputs": [
    {
     "data": {
      "text/plain": [
       "'Δεύτερο'"
      ]
     },
     "execution_count": 5,
     "metadata": {},
     "output_type": "execute_result"
    }
   ],
   "source": [
    "f(-2,7)"
   ]
  },
  {
   "cell_type": "code",
   "execution_count": 6,
   "metadata": {},
   "outputs": [
    {
     "data": {
      "text/plain": [
       "'Τρίτο'"
      ]
     },
     "execution_count": 6,
     "metadata": {},
     "output_type": "execute_result"
    }
   ],
   "source": [
    "f(-5,-2)"
   ]
  },
  {
   "cell_type": "code",
   "execution_count": 7,
   "metadata": {},
   "outputs": [
    {
     "data": {
      "text/plain": [
       "'Τέταρτο'"
      ]
     },
     "execution_count": 7,
     "metadata": {},
     "output_type": "execute_result"
    }
   ],
   "source": [
    "f(4,-3)"
   ]
  },
  {
   "cell_type": "markdown",
   "metadata": {},
   "source": [
    "### Άσκηση 1.18\n",
    "Ας θεωρήσουμε ένα παράλληλόγραμμα πάτωμα το οποίο είναι στρωμένο με Α x B πλακάκια. Ένα ποντίκι ξεκινάει από το πλακάκι που είναι στην αριστερή κάτω γωνία (π.χ. στη θέση 1,1) και συνεχίζει να περπατάει διαγώνια. Δηλαδή η επόμενή του θέση είναι η (2,2) , μετά (3,3) κτλ. Όταν φτάσει στην άκρη του παραλληλεπίπεδου, τότε συνεχίζει να πηγαίνει διαγώνια όπως ακριβώς μία μπάλα αναπηδάει (ή η μπάλα στο παιχνίδι arkanoid, για όσους το ξέρουν). Το ποντίκι σταματάει όταν φτάσει σε μία από τις τέσσερις γωνίες. Φτιάξτε μία συνάρτηση η οποία θα παίρνει δύο θετικούς ακέραιους Α και Β. Στη συνέχεια θα τυπώνει τη πορεία του ποντικιού στο παραλληλελεπίπεδο μέχρι να φτάσει σε μία γωνία. Για παράδειγμα, έστω ότι Α=3 και Β=4. Σημειώνουμε με Χ τη θέση του ποντικιού:\n",
    "```\n",
    "Ξεκινάμε πάντα από τη Θέση: 1,1\n",
    "\n",
    "X** \n",
    "***\n",
    "***\n",
    "***\n",
    "``` \n",
    "\n",
    "```\n",
    "επόμενη Θέση: 2,2\n",
    "***\n",
    "*Χ*\n",
    "***\n",
    "***\n",
    "``` \n",
    "\n",
    "```\n",
    "επόμενη Θέση: 3,3\n",
    "***\n",
    "***\n",
    "**Χ\n",
    "***\n",
    "```\n",
    "\n",
    "```\n",
    "επόμενη Θέση: 4,2\n",
    "***\n",
    "***\n",
    "***\n",
    "*Χ*\n",
    "``` \n",
    "\n",
    "```\n",
    "επόμενη Θέση: 3,1\n",
    "***\n",
    "***\n",
    "Χ**\n",
    "***\n",
    "``` \n",
    "\n",
    "```\n",
    "επόμενη Θέση: 2,2\n",
    "***\n",
    "*Χ*\n",
    "***\n",
    "***\n",
    "``` \n",
    "\n",
    "```\n",
    "επόμενη Θέση: 1,3\n",
    "**Χ\n",
    "***\n",
    "***\n",
    "***\n",
    "``` \n",
    "\n",
    "Οπότε θα πρέπει να τυπώσει:\n",
    "```\n",
    "1,1\n",
    "2,2\n",
    "3,3\n",
    "4,2\n",
    "3,1\n",
    "2,2\n",
    "1,3\n",
    "```"
   ]
  },
  {
   "cell_type": "code",
   "execution_count": 131,
   "metadata": {},
   "outputs": [],
   "source": [
    "def f(A,B):\n",
    "    \n",
    "    def is_in_corner(x,y):\n",
    "        if x==1 and y==1:\n",
    "            return True\n",
    "        \n",
    "        if x==1 and y==B:\n",
    "            return True\n",
    "        \n",
    "        if x==A and y==1:\n",
    "            return True\n",
    "        \n",
    "        if x==A and y==B:\n",
    "            return True\n",
    "        \n",
    "        return False\n",
    "    \n",
    "    x=1\n",
    "    y=1\n",
    "    print (x,y)\n",
    "    \n",
    "    x_step = 1\n",
    "    y_step = 1\n",
    "    \n",
    "    while True:\n",
    "        \n",
    "        x += x_step\n",
    "        y += y_step\n",
    "        print (x,y)\n",
    "        \n",
    "        if is_in_corner(x,y):\n",
    "            break\n",
    "        \n",
    "        if x==1:\n",
    "            x_step = 1\n",
    "        elif x==A:\n",
    "            x_step = -1\n",
    "            \n",
    "        if y == 1:\n",
    "            y_step = 1\n",
    "        elif y==B:\n",
    "            y_step = -1\n",
    "            \n"
   ]
  },
  {
   "cell_type": "code",
   "execution_count": 132,
   "metadata": {},
   "outputs": [
    {
     "name": "stdout",
     "output_type": "stream",
     "text": [
      "1 1\n",
      "2 2\n",
      "3 3\n",
      "4 4\n",
      "5 5\n",
      "6 6\n",
      "7 7\n",
      "8 8\n",
      "9 9\n",
      "10 10\n",
      "11 11\n",
      "12 12\n",
      "13 13\n",
      "14 14\n",
      "15 15\n",
      "16 16\n",
      "17 17\n",
      "16 18\n",
      "15 19\n",
      "14 20\n",
      "13 21\n",
      "12 22\n",
      "11 23\n",
      "10 24\n",
      "9 25\n",
      "8 26\n",
      "7 27\n",
      "6 28\n",
      "5 29\n",
      "4 28\n",
      "3 27\n",
      "2 26\n",
      "1 25\n",
      "2 24\n",
      "3 23\n",
      "4 22\n",
      "5 21\n",
      "6 20\n",
      "7 19\n",
      "8 18\n",
      "9 17\n",
      "10 16\n",
      "11 15\n",
      "12 14\n",
      "13 13\n",
      "14 12\n",
      "15 11\n",
      "16 10\n",
      "17 9\n",
      "16 8\n",
      "15 7\n",
      "14 6\n",
      "13 5\n",
      "12 4\n",
      "11 3\n",
      "10 2\n",
      "9 1\n",
      "8 2\n",
      "7 3\n",
      "6 4\n",
      "5 5\n",
      "4 6\n",
      "3 7\n",
      "2 8\n",
      "1 9\n",
      "2 10\n",
      "3 11\n",
      "4 12\n",
      "5 13\n",
      "6 14\n",
      "7 15\n",
      "8 16\n",
      "9 17\n",
      "10 18\n",
      "11 19\n",
      "12 20\n",
      "13 21\n",
      "14 22\n",
      "15 23\n",
      "16 24\n",
      "17 25\n",
      "16 26\n",
      "15 27\n",
      "14 28\n",
      "13 29\n",
      "12 28\n",
      "11 27\n",
      "10 26\n",
      "9 25\n",
      "8 24\n",
      "7 23\n",
      "6 22\n",
      "5 21\n",
      "4 20\n",
      "3 19\n",
      "2 18\n",
      "1 17\n",
      "2 16\n",
      "3 15\n",
      "4 14\n",
      "5 13\n",
      "6 12\n",
      "7 11\n",
      "8 10\n",
      "9 9\n",
      "10 8\n",
      "11 7\n",
      "12 6\n",
      "13 5\n",
      "14 4\n",
      "15 3\n",
      "16 2\n",
      "17 1\n"
     ]
    }
   ],
   "source": [
    "f(17,29)"
   ]
  },
  {
   "cell_type": "markdown",
   "metadata": {},
   "source": [
    "### Άσκηση 1.19\n",
    "Εδώ βλέπετε μία μαθηματική φόρμουλα για τον υπολογισμό του π. \n",
    "![img](https://pbs.twimg.com/media/D_Hq5UlWwAQ7CfL?format=jpg&name=large) \n",
    "\n",
    "Φτιάξτε μία συνάρτηση η οποία να παίρνει έναν ακέραιο αριθμό μεγαλύτερο ή ίσο με το 1. Στη συνέχεια θα επιστρέφει την προσέγγιση του π μέσω της παραπάνω φόρμουλας χρησιμοποιώντας τόσους παράγοντες όσους και η τιμή της παραμέτρου της συνάρτησης. Για παράδειγμα:\n",
    "```\n",
    "1 --> 2 \n",
    "2 --> 2.82842712474619  (2 *  2/sqrt(2) )\n",
    "3 --> 3.061467458920718 (2 *  2/sqrt(2) * 2/(sqrt(2+sqrt(2))) )\n",
    "```\n",
    "\n",
    "Υπολογισμός της τετραγωνικής ρίζας:\n",
    "```python\n",
    "import math\n",
    "\n",
    "math.sqrt(16) # Τυπώνει 4\n",
    "```\n",
    "\n",
    "Σημείωση: Η φόρμουλα ανακαλύφτηκε από τον François Viète τον 16ο αιώνα."
   ]
  },
  {
   "cell_type": "code",
   "execution_count": 33,
   "metadata": {},
   "outputs": [],
   "source": [
    "import math\n",
    "def f(n):\n",
    "    \n",
    "    ret = 2\n",
    "    for k in range(n-1):\n",
    "        ret_2 = math.sqrt(2)\n",
    "        for i in range(k):\n",
    "            ret_2 = math.sqrt(2 + ret_2)\n",
    "        ret *= 2/ret_2\n",
    "        \n",
    "    return ret\n",
    "    \n",
    "    \n",
    "    "
   ]
  },
  {
   "cell_type": "code",
   "execution_count": 34,
   "metadata": {},
   "outputs": [
    {
     "data": {
      "text/plain": [
       "2"
      ]
     },
     "execution_count": 34,
     "metadata": {},
     "output_type": "execute_result"
    }
   ],
   "source": [
    "f(1)"
   ]
  },
  {
   "cell_type": "code",
   "execution_count": 35,
   "metadata": {},
   "outputs": [
    {
     "data": {
      "text/plain": [
       "2.82842712474619"
      ]
     },
     "execution_count": 35,
     "metadata": {},
     "output_type": "execute_result"
    }
   ],
   "source": [
    "f(2)"
   ]
  },
  {
   "cell_type": "code",
   "execution_count": 36,
   "metadata": {},
   "outputs": [
    {
     "data": {
      "text/plain": [
       "3.0614674589207183"
      ]
     },
     "execution_count": 36,
     "metadata": {},
     "output_type": "execute_result"
    }
   ],
   "source": [
    "f(3)"
   ]
  },
  {
   "cell_type": "code",
   "execution_count": 38,
   "metadata": {},
   "outputs": [
    {
     "data": {
      "text/plain": [
       "3.141592653589797"
      ]
     },
     "execution_count": 38,
     "metadata": {},
     "output_type": "execute_result"
    }
   ],
   "source": [
    "f(100)"
   ]
  },
  {
   "cell_type": "code",
   "execution_count": 128,
   "metadata": {},
   "outputs": [],
   "source": [
    "from operator import mul\n",
    "from functools import reduce\n",
    "\n",
    "g = lambda n: math.sqrt(2) if n==1 else 2/math.sqrt(2 + (1/(0.5 * g(n-1))))\n",
    "f = lambda n: reduce(mul, [2] + list(map(g, range(1,n))))\n"
   ]
  },
  {
   "cell_type": "code",
   "execution_count": 129,
   "metadata": {},
   "outputs": [
    {
     "data": {
      "text/plain": [
       "3.141592653589863"
      ]
     },
     "execution_count": 129,
     "metadata": {},
     "output_type": "execute_result"
    }
   ],
   "source": [
    "f(100)"
   ]
  },
  {
   "cell_type": "code",
   "execution_count": 125,
   "metadata": {},
   "outputs": [
    {
     "data": {
      "text/plain": [
       "3.141592653589863"
      ]
     },
     "execution_count": 125,
     "metadata": {},
     "output_type": "execute_result"
    }
   ],
   "source": [
    "f(100)"
   ]
  },
  {
   "cell_type": "code",
   "execution_count": null,
   "metadata": {},
   "outputs": [],
   "source": []
  },
  {
   "cell_type": "markdown",
   "metadata": {},
   "source": [
    "### Άσκηση 1.20 (εξαιρετικά δύσκολη..)\n",
    "Ένας αριθμός είναι πρώτος όταν διαρείται μόνο με το 1 και με τον εαυτό του. Υπάρχει μόνο ένας πρώτος αριθμός ο οποίος να είναι από το 10.000.000 μέχρι το 100.000.000 ο οποίος να έχει τη παρακάτω περίεργη ιδιότητα: Αν του \"κόψεις\" έναν οποιοδήποτε αριθμό από ψηφία από τα τέλος, αυτό που μένει να είναι πάντα πρώτος! Ποιος αριθμός είναι αυτός; Για παράδειγμα έστω ότι ο αριθμός που ψάχνουμε είναι ο 12.345.678 (spoiler alert, δεν είναι αυτός). Τότε θα πρέπει όλοι οι παρακάτω αριθμοί να είναι επίσης πρώτοι:\n",
    "```\n",
    "12345678\n",
    "1234567\n",
    "123456\n",
    "12345\n",
    "1234\n",
    "123\n",
    "12\n",
    "1\n",
    "```"
   ]
  },
  {
   "cell_type": "code",
   "execution_count": 117,
   "metadata": {},
   "outputs": [],
   "source": [
    "# Απίστευτα αργός, χαζός τρόπος\n",
    "\n",
    "'''\n",
    "Λύσεις:\n",
    "13999133\n",
    "19793393\n",
    "19993319\n",
    "37337999\n",
    "59393339\n",
    "73939133\n",
    "'''\n",
    "\n",
    "\n",
    "import math\n",
    "def is_prime(n):\n",
    "    if n % 2 == 0:\n",
    "        return False\n",
    "    \n",
    "    for x in range(3, int(math.sqrt(n))+1, 2):\n",
    "        if n%x == 0:\n",
    "            return False\n",
    "        \n",
    "    return True\n",
    "\n",
    "def f():\n",
    "    for x in range(10_000_000, 100_000_000):\n",
    "#-----------------   ^   ^        ^   ^       Ναι μπορείς να το κάνεις αυτό στη python!\n",
    "        if is_prime(x):\n",
    "            x_str = str(x)\n",
    "            ok = all(map(lambda y: is_prime(int(y)), (x_str[0:-i] for i in range(1,len(x_str)))))\n",
    "            if ok:\n",
    "                print (x)\n",
    "                #break\n",
    "                "
   ]
  },
  {
   "cell_type": "code",
   "execution_count": 114,
   "metadata": {},
   "outputs": [
    {
     "name": "stdout",
     "output_type": "stream",
     "text": [
      "13999133\n",
      "19793393\n",
      "19993319\n",
      "37337999\n",
      "59393339\n",
      "73939133\n"
     ]
    }
   ],
   "source": [
    "f()"
   ]
  },
  {
   "cell_type": "code",
   "execution_count": 133,
   "metadata": {},
   "outputs": [
    {
     "name": "stdout",
     "output_type": "stream",
     "text": [
      "13999133\n",
      "19793393\n",
      "19993319\n",
      "23399339\n",
      "29399999\n",
      "37337999\n",
      "59393339\n",
      "73939133\n"
     ]
    }
   ],
   "source": [
    "# Υπερ-γρήγορος, γαμάτος τρόπος\n",
    "\n",
    "import math\n",
    "def is_prime(n):\n",
    "    \n",
    "    if n == 2:\n",
    "        return True\n",
    "    \n",
    "    if n % 2 == 0:\n",
    "        return False\n",
    "    \n",
    "    for x in range(3, int(math.sqrt(n))+1, 2):\n",
    "        if n%x == 0:\n",
    "            return False\n",
    "        \n",
    "    return True\n",
    "\n",
    "d = [1,2,3,5,7,9]\n",
    "def f(n):\n",
    "    if is_prime(n):\n",
    "        if n>10_000_000:\n",
    "#              ^   ^      Ναι, στη python μπορείς να το κάνεις αυτό!\n",
    "            print (n)\n",
    "        else:\n",
    "            for x in d:\n",
    "                new_n = n*10 + x\n",
    "                f(new_n)\n",
    "                \n",
    "            \n",
    "for x in d:\n",
    "    f(x)"
   ]
  },
  {
   "cell_type": "markdown",
   "metadata": {},
   "source": [
    "## Σειρά 2"
   ]
  },
  {
   "cell_type": "markdown",
   "metadata": {},
   "source": [
    "### Άσκηση 2.1"
   ]
  },
  {
   "cell_type": "markdown",
   "metadata": {},
   "source": [
    "**Η χρήση list comprehension είναι υποχρεωτική**\n",
    "\n",
    "Ποιο είναι το άθροισμα της τετραγωνικής ρίζας όλων των αριθμών από το 1 μέχρι το 3000 που διαιρούνται με το 3 αλλά όχι με το 6;\n",
    "\n",
    "Η τετραγωνική ρίζα υπολογίζεται ως εξής:\n",
    "```\n",
    "import math\n",
    "math.sqrt(16)\n",
    "```"
   ]
  },
  {
   "cell_type": "code",
   "execution_count": 4,
   "metadata": {},
   "outputs": [
    {
     "data": {
      "text/plain": [
       "18257.565447000314"
      ]
     },
     "execution_count": 4,
     "metadata": {},
     "output_type": "execute_result"
    }
   ],
   "source": [
    "import math\n",
    "sum(math.sqrt(x) for x in range(1, 3001) if x%3==0 and x%6)\n"
   ]
  },
  {
   "cell_type": "markdown",
   "metadata": {},
   "source": [
    "### Άσκηση 2.2\n",
    "**Η χρήση list comprehension είναι προτεινόμενη**\n",
    "\n",
    "Όλα τα ζευγάρια κ,λ θετικών ακεραίων που είναι μικρότεροι ή ίσοι με το 10 όπου το λ διαιρεί ακριβώς το κ είναι:\n",
    "```\n",
    "(4, 2), (6, 2), (6, 3), (8, 2), (8, 4), (9, 3), (10, 2), (10, 5)\n",
    "```\n",
    "\n",
    "Το άθροισμα των διαφορών αυτώ των ζευγαριών είναι:\n",
    "```\n",
    "(4 - 2) + (6 - 2) + (6 - 3) + (8 - 2) + (8 - 4) + (9 - 3) + (10 - 2) + (10 - 5) = 38\n",
    "```\n",
    "\n",
    "Ποιο είναι το αντίστοιχο άθροισμα διαφορών αν πάρουμε όλα τα ζευγάρια κ,λ που είναι μικρότεροι η ίσοι με το 1000;"
   ]
  },
  {
   "cell_type": "code",
   "execution_count": 5,
   "metadata": {},
   "outputs": [
    {
     "data": {
      "text/plain": [
       "2465073"
      ]
     },
     "execution_count": 5,
     "metadata": {},
     "output_type": "execute_result"
    }
   ],
   "source": [
    "sum([k-l for k in range(1,1001) for l in range(2,k) if k%l==0])"
   ]
  },
  {
   "cell_type": "markdown",
   "metadata": {},
   "source": [
    "### Άσκηση 2.3\n",
    "Φτιάξτε μία συνάρτηση με το όνομα f η οποία να επιστρέφει μία συνάρτηση η οποία να επιτρέφει μία συνάρτηση η οποία να επιστρέφει μία λίστα της οποίας το 2ο στοιχείο να είναι μία συνάρτηση η οποία να επιστρέφει το string 'mitsos'. Θα πρέπει δηλαδή να μπορώ να κάνω:\n",
    "\n",
    "```python\n",
    "f()()()[1]()\n",
    "\n",
    "#Αυτό πρέπει να Τυπώνει: 'Μήτσος'\n",
    "```"
   ]
  },
  {
   "cell_type": "code",
   "execution_count": 8,
   "metadata": {},
   "outputs": [
    {
     "data": {
      "text/plain": [
       "'Mitsos'"
      ]
     },
     "execution_count": 8,
     "metadata": {},
     "output_type": "execute_result"
    }
   ],
   "source": [
    "def f():\n",
    "    def g():\n",
    "        def h():\n",
    "            def k():\n",
    "                return 'Mitsos'\n",
    "            return [0,k]\n",
    "        return h\n",
    "    return g\n",
    "f()()()[1]()"
   ]
  },
  {
   "cell_type": "markdown",
   "metadata": {},
   "source": [
    "### Άσκηση 2.4\n",
    "Φτιάξτε μία συνάρτηση με τον όνομα f η οποία να επιστρέφει μία λίστα με 10 στοιχεία. \n",
    "\n",
    "Το πρώτο στοιχείο της λίστας θα είναι μία συνάρτηση η οποία θα παίρνει σαν όρισμα έναν αριθμό και θα επιστρέφει το άθροισμά του με το 1. \n",
    "\n",
    "Το δεύτερο στοιχείο της λίστας θα είναι μία συνάρτηση η οποία θα παίρνει σαν όρισμα έναν αριθμό και θα επιστρέφει το άθροισμά του με το 2\n",
    "\n",
    "κ.ο.κ.\n",
    "\n",
    "Το 10ο στοιχείο της λίστας θα είναι μία συνάρτηση η οποία θα παίρνει σαν όρισμα έναν αριθμό και θα επιστρέφει το άθροισμά του με το 10.\n",
    "\n",
    "Θα πρέπει δηλαδή να μπορώ να γράψω:\n",
    "\n",
    "```\n",
    "f()[5](4) --> Τυπώνει 4+6 = 10\n",
    "f()[0](2) --> Τυπώνει 1+2 = 3\n",
    "```"
   ]
  },
  {
   "cell_type": "code",
   "execution_count": 9,
   "metadata": {},
   "outputs": [
    {
     "data": {
      "text/plain": [
       "10"
      ]
     },
     "execution_count": 9,
     "metadata": {},
     "output_type": "execute_result"
    }
   ],
   "source": [
    "def f():\n",
    "    \n",
    "    def f2(y):\n",
    "        def f3(x):\n",
    "            return x+y\n",
    "        return f3\n",
    "    \n",
    "    return [f2(i+1) for i in range(10)]\n",
    "f()[5](4)"
   ]
  },
  {
   "cell_type": "markdown",
   "metadata": {},
   "source": [
    "### Άσκηση 2.5\n",
    "Έστω το παρακάτω string:\n",
    "```python\n",
    "'++-+--+-+++++++++++++-+-+++++-++--++-++++-+---++-++-+--++---++-+-++-------+-+++---+---++-+-+++-+-+++'\n",
    "```\n",
    "\n",
    "Φτιάξτε μια συνάρτηση που θα παίρνει μία παράμετρο ένα string. Στη συνέχεια θα επιστρέφει τη θέση στο string που βρίσκεται η μεγαλύτερη ακολουθία από συνεχόμενα '+'. Αν η μεγαλύτερη ακολουθία υπάρχει παραπάνω από μία φορά, επιστρέφει τη πιο μικρή θέση.\n",
    "Για παράδειγμα:\n",
    "\n",
    "```text\n",
    "'+--+-+-----+-+--+----+--+---+++-+-+---+-----++----+-++--++++++-+-----++---+--+-+-+-+++++--++-------+' --> 56\n",
    "'+-+-++--+----+-+---+-+-+---+----+-++-+-+--++++-++++-+++--++++--+----+----+-+++--+-++-+---++-+-------' --> 42\n",
    "```"
   ]
  },
  {
   "cell_type": "code",
   "execution_count": 10,
   "metadata": {},
   "outputs": [],
   "source": [
    "def f(x):\n",
    "    m = max(x.split('-'),key=len)\n",
    "    return x.index(m)"
   ]
  },
  {
   "cell_type": "code",
   "execution_count": 11,
   "metadata": {},
   "outputs": [
    {
     "data": {
      "text/plain": [
       "56"
      ]
     },
     "execution_count": 11,
     "metadata": {},
     "output_type": "execute_result"
    }
   ],
   "source": [
    "f('+--+-+-----+-+--+----+--+---+++-+-+---+-----++----+-++--++++++-+-----++---+--+-+-+-+++++--++-------+')"
   ]
  },
  {
   "cell_type": "code",
   "execution_count": 12,
   "metadata": {},
   "outputs": [
    {
     "data": {
      "text/plain": [
       "42"
      ]
     },
     "execution_count": 12,
     "metadata": {},
     "output_type": "execute_result"
    }
   ],
   "source": [
    "f('+-+-++--+----+-+---+-+-+---+----+-++-+-+--++++-++++-+++--++++--+----+----+-+++--+-++-+---++-+-------')"
   ]
  },
  {
   "cell_type": "markdown",
   "metadata": {},
   "source": [
    "### Άσκηση 2.6\n",
    "Έστω το παρακάτω string:\n",
    "```python\n",
    "'++-+--+-+++++++++++++-+-+++++-++--++-++++-+---++-++-+--++---++-+-++-------+-+++---+---++-+-+++-+-+++'\n",
    "```\n",
    "Και έστω η παρακάτω λέξη:\n",
    "```python\n",
    "ZABARAKTRANEMIA\n",
    "```\n",
    " \n",
    "Φτιάξτε μία συνάρτηση η οποία θα παίρνει δύο παραμέτρους. Ένα string μόνο με '+' και '-' και ένα άλλο string με οποιουσδίποτε χαρακτήρες. Η συνάρτησή σας θα πρέπει να αντιστοιχείσει το 2ο string στο 1ο. Με τον εξής τρόπο: Όπου υπάρχει το πρώτο '-' αντιστοιχεί το 1ο γράμμα του 2ου string. Όπου υπάρχει το δεύτερο '-' αντιστοιχεί το 2ο γράμμα του 2ου string κτλ. Αν υπάρχει '+' τότε θα πρέπει να βάζει κενό.  Δεν χρειάζεται να βάζετε κενά μόλις τελειώσει το 2o string. Για παράδειγμα:\n",
    "\n",
    "```text\n",
    "ΕΙΣΟΔΟΣ:\n",
    "'++-+--+-+++++++++++++-+-+++++-++--++-++++-+---++-++-+--++---++-+-++-------+-+++---+---++-+-+++-+-+++'\n",
    "'ZABARAKATRANEMIA'\n",
    "\n",
    "ΕΞΟΔΟΣ\n",
    "   Z AB A             R A     K  AT  R    A NEM  I  A\n",
    "\n",
    "ΕΞΗΓΗΣΗ\n",
    "'++-+--+-+++++++++++++-+-+++++-++--++-++++-+---++-++-+--++---++-+-++-------+-+++---+---++-+-+++-+-+++'\n",
    "   Z AB A             R A     K  AT  R    A NEM  I  A\n",
    "```\n"
   ]
  },
  {
   "cell_type": "code",
   "execution_count": 55,
   "metadata": {},
   "outputs": [],
   "source": [
    "def f(x,y):\n",
    "    g1 = (c for c in x)\n",
    "    g2 = (c for c in y)\n",
    "    ret = ''\n",
    "    while True:\n",
    "        try:\n",
    "            n1 = next(g1)\n",
    "        except StopIteration:\n",
    "            break\n",
    "            \n",
    "        if n1 == '+':\n",
    "            ret += ' '\n",
    "        if n1 == '-':\n",
    "            try:\n",
    "                n2 = next(g2)\n",
    "            except StopIteration:\n",
    "                break\n",
    "            ret += n2\n",
    "    return ret"
   ]
  },
  {
   "cell_type": "code",
   "execution_count": 56,
   "metadata": {},
   "outputs": [
    {
     "data": {
      "text/plain": [
       "'  Z AB A             R A     K  AT  R    A NEM  I  A '"
      ]
     },
     "execution_count": 56,
     "metadata": {},
     "output_type": "execute_result"
    }
   ],
   "source": [
    "f('++-+--+-+++++++++++++-+-+++++-++--++-++++-+---++-++-+--++---++-+-++-------+-+++---+---++-+-+++-+-+++','ZABARAKATRANEMIA')"
   ]
  },
  {
   "cell_type": "code",
   "execution_count": 50,
   "metadata": {},
   "outputs": [
    {
     "data": {
      "text/plain": [
       "'  Z AB A             R A     K  AT  R    A NEM  I  A'"
      ]
     },
     "execution_count": 50,
     "metadata": {},
     "output_type": "execute_result"
    }
   ],
   "source": [
    "def f(x,y):\n",
    "    return ''.join(' '*k + l for k,l in zip(map(len, x.split('-')), y))\n",
    "\n",
    "a = '++-+--+-+++++++++++++-+-+++++-++--++-++++-+---++-++-+--++---++-+-++-------+-+++---+---++-+-+++-+-+++'\n",
    "b = 'ZABARAKATRANEMIA'\n",
    "f(a,b)"
   ]
  },
  {
   "cell_type": "markdown",
   "metadata": {},
   "source": [
    "### Άσκηση 2.7\n",
    "Δίνεται η παρακάτω λίστα:\n",
    "```python\n",
    "[\n",
    "   'Alekos',\n",
    "   'Aleksandra',\n",
    "   'Aleksandros'\n",
    "]\n",
    "```\n",
    "Φτιάξτε μία συνάρτηση η οποία θα παίρνει μία λίστα από strings. Θα επιστρέφει το μεγαλύτερο δυνατό υπο-string με το οποία ξεκινάν όλες οι λέξεις της λίστας. Παράδειγμα:\n",
    "\n",
    "```text\n",
    "[\n",
    "   'Alekos',\n",
    "   'Aleksandra',\n",
    "   'Aleksandros'\n",
    "]\n",
    "\n",
    "--> 'Alek'\n",
    "```\n",
    "\n",
    "```text\n",
    "[\n",
    "   'Panionios',\n",
    "   'Panathaikos',\n",
    "   'Panaitolikos',\n",
    "]\n",
    "\n",
    "--> 'Pan'\n",
    "```\n",
    "\n",
    "```text\n",
    "[\n",
    "\t'python',\n",
    "\t'java',\n",
    "\t'assembly',\n",
    "\n",
    "]\n",
    "\n",
    "--> ''\n",
    "```"
   ]
  },
  {
   "cell_type": "code",
   "execution_count": 60,
   "metadata": {},
   "outputs": [],
   "source": [
    "def common_start(x,y):\n",
    "    return ''.join(k for k,l in zip(x,y) if k==l)\n",
    "\n",
    "def f(l):\n",
    "    ret = l[0]\n",
    "    for item in l[1:]:\n",
    "        ret = common_start(ret, item)\n",
    "    return ret"
   ]
  },
  {
   "cell_type": "code",
   "execution_count": 16,
   "metadata": {},
   "outputs": [
    {
     "data": {
      "text/plain": [
       "'Pan'"
      ]
     },
     "execution_count": 16,
     "metadata": {},
     "output_type": "execute_result"
    }
   ],
   "source": [
    "f(['Panionios','Panathaikos','Panaitolikos'])"
   ]
  },
  {
   "cell_type": "code",
   "execution_count": 17,
   "metadata": {},
   "outputs": [
    {
     "data": {
      "text/plain": [
       "'Alek'"
      ]
     },
     "execution_count": 17,
     "metadata": {},
     "output_type": "execute_result"
    }
   ],
   "source": [
    "f(['Alekos','Aleksandra','Aleksandros'])"
   ]
  },
  {
   "cell_type": "code",
   "execution_count": 18,
   "metadata": {},
   "outputs": [
    {
     "data": {
      "text/plain": [
       "''"
      ]
     },
     "execution_count": 18,
     "metadata": {},
     "output_type": "execute_result"
    }
   ],
   "source": [
    "f(['python','java','assembly',])"
   ]
  },
  {
   "cell_type": "code",
   "execution_count": 61,
   "metadata": {},
   "outputs": [],
   "source": [
    "# 2os tropos\n",
    "from functools import reduce\n",
    "f = lambda x : reduce(common_start, x)"
   ]
  },
  {
   "cell_type": "code",
   "execution_count": 62,
   "metadata": {},
   "outputs": [
    {
     "data": {
      "text/plain": [
       "'Pan'"
      ]
     },
     "execution_count": 62,
     "metadata": {},
     "output_type": "execute_result"
    }
   ],
   "source": [
    "f(['Panionios','Panathaikos','Panaitolikos'])"
   ]
  },
  {
   "cell_type": "code",
   "execution_count": 63,
   "metadata": {},
   "outputs": [
    {
     "data": {
      "text/plain": [
       "'Alek'"
      ]
     },
     "execution_count": 63,
     "metadata": {},
     "output_type": "execute_result"
    }
   ],
   "source": [
    "f(['Alekos','Aleksandra','Aleksandros'])"
   ]
  },
  {
   "cell_type": "code",
   "execution_count": 64,
   "metadata": {},
   "outputs": [
    {
     "data": {
      "text/plain": [
       "''"
      ]
     },
     "execution_count": 64,
     "metadata": {},
     "output_type": "execute_result"
    }
   ],
   "source": [
    "f(['python','java','assembly',])"
   ]
  },
  {
   "cell_type": "code",
   "execution_count": 65,
   "metadata": {},
   "outputs": [],
   "source": [
    "\n",
    "from functools import reduce\n",
    "f = lambda x : reduce(lambda xx,yy: ''.join(k for k,l in zip(xx,yy) if k==l), x)"
   ]
  },
  {
   "cell_type": "code",
   "execution_count": 66,
   "metadata": {},
   "outputs": [
    {
     "data": {
      "text/plain": [
       "'Pan'"
      ]
     },
     "execution_count": 66,
     "metadata": {},
     "output_type": "execute_result"
    }
   ],
   "source": [
    "f(['Panionios','Panathaikos','Panaitolikos'])"
   ]
  },
  {
   "cell_type": "code",
   "execution_count": 67,
   "metadata": {},
   "outputs": [
    {
     "data": {
      "text/plain": [
       "'Alek'"
      ]
     },
     "execution_count": 67,
     "metadata": {},
     "output_type": "execute_result"
    }
   ],
   "source": [
    "f(['Alekos','Aleksandra','Aleksandros'])"
   ]
  },
  {
   "cell_type": "code",
   "execution_count": 68,
   "metadata": {},
   "outputs": [
    {
     "data": {
      "text/plain": [
       "''"
      ]
     },
     "execution_count": 68,
     "metadata": {},
     "output_type": "execute_result"
    }
   ],
   "source": [
    "f(['python','java','assembly',])"
   ]
  },
  {
   "cell_type": "markdown",
   "metadata": {},
   "source": [
    "### Άσκηση 2.8\n",
    "Φτιάξτε μία συνάρτηση η οποία θα παίρνει 1 παραμέτρo, ν ακέραιoς. Η συνάρτηση θα πρέπει να επιστρέφει ένα string το οποίο θα είναι το ανάπτυγμα της έκφρασης (α+β)^ν. Παραδείγματα:\n",
    "\n",
    "```\n",
    "n=10  Δηλαδή (α+β)^10\n",
    "\n",
    "--> a^10 + 10a^9b + 45a^8b^2 + 120a^7b^3 + 210a^6b^4 + 252a^5b^5 + 210a^4b^6 + 120a^3b^7 + 45a^2b^8 + 10ab^9 + b^10\n",
    "```\n",
    "\n",
    "Χρησιμοποιείστε τη φόρμουλα που περιγράφεται εδώ: https://en.wikipedia.org/wiki/Binomial_theorem για να βρείτε τους παράγοντες του κάθε γινομένου.\n"
   ]
  },
  {
   "cell_type": "code",
   "execution_count": 70,
   "metadata": {},
   "outputs": [
    {
     "name": "stdout",
     "output_type": "stream",
     "text": [
      "1a^10 + 10a^9b + 45a^8b^2 + 120a^7b^3 + 210a^6b^4 + 252a^5b^5 + 210a^4b^6 + 120a^3b^7 + 45a^2b^8 + 10ab^9 + 1b^10\n"
     ]
    }
   ],
   "source": [
    "# Αυτή η υλοποίηση είναι από τη Πωλίνα Γκούμπλια\n",
    "import math \n",
    "\n",
    "def synarthsh1(c, a1):\n",
    "    if a1 == 0:\n",
    "        return ''\n",
    "    elif a1 == 1:\n",
    "        return c\n",
    "    else: \n",
    "        return '{0}^{1}'.format(c, a1)\n",
    "\n",
    "def synarthsh2(n):\n",
    "    L = []\n",
    "    for k in range(n+1):\n",
    "        ct = math.factorial(n)//(math.factorial(n-k)*math.factorial(k))\n",
    "        L.append('{}{}{}'.format(ct, synarthsh1('a', n-k), synarthsh1('b', k)))\n",
    "\n",
    "    return ' + '.join(L)\n",
    "\n",
    "print(synarthsh2(10))"
   ]
  },
  {
   "cell_type": "markdown",
   "metadata": {},
   "source": [
    "### Άσκηση 2.9\n",
    "Έστω το παρακάτω string:\n",
    "```python\n",
    "'aahtoootoootttuuuu-----------o'\n",
    "```\n",
    "\n",
    "Υπάρχει ενας τρόπος να \"συμπιέσουμε\" αυτό το string, γράφοντας κάθε γράμμα που επαναλαμβάνετε σκολουθούμενο με το πόσες φορές επαναλμβάνεται. Αν το υλοποιήσουμε τότε το string αυτό μπορει να γραφεί ως εξής:\n",
    "```python\n",
    "'a2h1t1o3t1o3t2u4-11o1'\n",
    "```\n",
    "\n",
    "Φτιάξτε μία συνάρτηση με τον όνομα compress η οποία θα παίρνει ως παράμετρο ένα string s. Η συνάρτηση θα επιστρέφει ένα άλλο string το οποίο θα είναι η συμπίεση του s σύμφωνα με τον τρόπο που παρουσιάστηκε. Υποθέστε ότι το s δεν θα έχει αριθμούς μέσα.\n",
    "\n",
    "Φτιάξτε μία συνάρτηση με τον όνομα decompress η οποία θα παίρνει ένα συμπιεσμένο string και θα επιστρέφει το αρχικό, αποσυμπιεσμένο string."
   ]
  },
  {
   "cell_type": "code",
   "execution_count": 32,
   "metadata": {},
   "outputs": [],
   "source": [
    "def compress(x):\n",
    "    previous = x[0]\n",
    "    counter = 1\n",
    "    ret = ''\n",
    "    for letter in x[1:]:\n",
    "        if previous == letter:\n",
    "            counter += 1\n",
    "        else:\n",
    "            ret += previous + str(counter)\n",
    "            counter = 1\n",
    "            previous = letter\n",
    "    return ret + previous + str(counter)\n",
    "\n",
    "def decompress(x):\n",
    "    numbers = {str(i) for i in range(10)}\n",
    "    current_number = 0\n",
    "    current_letter = ''\n",
    "    ret = ''\n",
    "    for l in x:\n",
    "        if l in numbers:\n",
    "            current_number = current_number*10 + int(l)\n",
    "        else:\n",
    "            if current_letter:\n",
    "                ret += current_letter*current_number\n",
    "            current_letter = l\n",
    "            current_number = 0\n",
    "            \n",
    "    return ret + current_letter*current_number"
   ]
  },
  {
   "cell_type": "code",
   "execution_count": 28,
   "metadata": {},
   "outputs": [
    {
     "data": {
      "text/plain": [
       "'a2h1t1o3t1o3t3u4-11o1'"
      ]
     },
     "execution_count": 28,
     "metadata": {},
     "output_type": "execute_result"
    }
   ],
   "source": [
    "compress('aahtoootoootttuuuu-----------o')"
   ]
  },
  {
   "cell_type": "code",
   "execution_count": 33,
   "metadata": {},
   "outputs": [
    {
     "data": {
      "text/plain": [
       "'aahtoootooottuuuu-----------o'"
      ]
     },
     "execution_count": 33,
     "metadata": {},
     "output_type": "execute_result"
    }
   ],
   "source": [
    "decompress('a2h1t1o3t1o3t2u4-11o1')"
   ]
  },
  {
   "cell_type": "markdown",
   "metadata": {},
   "source": [
    "### Άσκηση 2.10\n",
    "Ένας παίκτης παίζει 100 παρτίδες πόκερ. Σε κάθε παρτίδα σημειώνει πόσα λεφτά κέρδισε ή έχασε. Τα ποσά αυτά τα σημειώνει σε μία λίστα. π.χ.:\n",
    "```python\n",
    "[31, -28, 14, -12, -4, 44, 47, 2, -48, -5, -43, 32, 0, -4, 24, -46, -12, 38, -38, -27, -23, -26, 10, 42, 26, -20, -43, -50, \n",
    "2, 42, 32, 17, -33, 5, 42, 28, 2, 12, 9, -33, 22, 10, 3, 34, 12, 17, 21, 17, 24, 22, 21, -35, 33, 12, -43, 49, -17, 3, -2, \n",
    "-25, -29, -35, -26, -25, -22, -33, 10, 26, -41, 29, 6, -10, 15, -28, -23, -35, -1, -16, 24, -45, -50, -17, 20, 12, -32, 48, \n",
    "-48, 2, -41, 4, 5, 29, -36, -46, -6, -17, -18, 16, 42, 42]\n",
    "\n",
    "```\n",
    "\n",
    "Σε ποια παρτίδα ο παίκτης είχε τα περισσότερα χρήματα; \n",
    "Δηλαδή στη πρώτη παρτίδα ο παίκτης είχε 31. Στη δεύτερη είχε 31-28=3. Στη τρίτη είχε 31-28+14=17. κτλ. Όπως βλέπετε υπάρχουν παρτίδες που ο παίκτης έχασε χρήματα.\n",
    "\n",
    "Φτιάξτε μία συνάρτηση η οποία θα παίρνει ως παράμετρο μία λίστα από ακέραιους. Θα επιστρέφει τη θέση στην οποία το άθροισμα όλων των αριθμών από την αρχή μέχρι εκείνη τη θέση είναι ο μεγαλύτερος.\n",
    "Για παράδειγμα η απάντηση στη λίστα που δόθηκε είναι 55 (ξεκινώντας από το 0). "
   ]
  },
  {
   "cell_type": "code",
   "execution_count": 34,
   "metadata": {},
   "outputs": [],
   "source": [
    "def f(x):\n",
    "    return max((sum(x[0:i]), i) for i in range(len(x)))[1]"
   ]
  },
  {
   "cell_type": "code",
   "execution_count": 37,
   "metadata": {},
   "outputs": [
    {
     "data": {
      "text/plain": [
       "56"
      ]
     },
     "execution_count": 37,
     "metadata": {},
     "output_type": "execute_result"
    }
   ],
   "source": [
    "l = [31, -28, 14, -12, -4, 44, 47, 2, -48, -5, -43, 32, 0, -4, 24, -46, -12, 38, -38, -27, -23, -26, 10, 42, 26, -20, -43, -50, \n",
    "2, 42, 32, 17, -33, 5, 42, 28, 2, 12, 9, -33, 22, 10, 3, 34, 12, 17, 21, 17, 24, 22, 21, -35, 33, 12, -43, 49, -17, 3, -2, \n",
    "-25, -29, -35, -26, -25, -22, -33, 10, 26, -41, 29, 6, -10, 15, -28, -23, -35, -1, -16, 24, -45, -50, -17, 20, 12, -32, 48, \n",
    "-48, 2, -41, 4, 5, 29, -36, -46, -6, -17, -18, 16, 42, 42]\n",
    "f(l)"
   ]
  },
  {
   "cell_type": "markdown",
   "metadata": {},
   "source": [
    "### Άσκηση 2.11\n",
    "Θεωρήστε τον ίδιο παίκτη πόκερ. Ποιες είναι οι συνεχόμενες παρτίδες που είχε το μεγαλύτερο κέρδος; \n",
    "Φτιάξτε μία συνάρτηση η οποία θα παίρνει σαν παράμετρο μία λίστα με ακέραιους. Η συνάρτηση θα επιστρέφει το υποσύνολο της λίστας από συνεχόμενες τιμές που έχει το μεγαλύτερο άθροισμα. Η απάντηση στη λίστα του παραδείγματος είναι: (28,56). Δηλαδή το άθροισμα όλων των στοιχείων της λίστα απο το 28 μέχρι το 56 είναι και το μεγαλύτερο δυνατό. \n"
   ]
  },
  {
   "cell_type": "code",
   "execution_count": 40,
   "metadata": {},
   "outputs": [],
   "source": [
    "def f(x):\n",
    "    return max((sum(x[i:j]), (i,j)) for i in range(len(x)) for j in range(i, len(x)))[1]"
   ]
  },
  {
   "cell_type": "code",
   "execution_count": 42,
   "metadata": {},
   "outputs": [
    {
     "data": {
      "text/plain": [
       "(28, 56)"
      ]
     },
     "execution_count": 42,
     "metadata": {},
     "output_type": "execute_result"
    }
   ],
   "source": [
    "f(l)"
   ]
  },
  {
   "cell_type": "markdown",
   "metadata": {},
   "source": [
    "### Άσκηση 2.12\n",
    "Για να γίνει ένα κέικ κάποιος μπορεί να επιλέξει μία από 6 διαφορετικές μάρκες βούτηρο. Οι τιμές τους είναι:\n",
    "```python\n",
    "[82, 88, 88, 71, 79, 74]\n",
    "```\n",
    "\n",
    "Πρέπει επίσης να επιλέξει μία από 8 μάρκες αυγά. Οι τιμές τους είναι:\n",
    "```python\n",
    "[73, 91, 82, 98, 95, 90, 70, 73]\n",
    "```\n",
    "\n",
    "Πρέπει επίσης να επιλέξει μία από 5 μάρκες γάλα. Οι τιμές τους είναι:\n",
    "```python\n",
    "[97, 90, 89, 81, 99]\n",
    "```\n",
    "\n",
    "Ποιος είναι ο μέσος όρος όλων των δυνατών τιμών που μπορεί να κοστίσει ένα κέικ;"
   ]
  },
  {
   "cell_type": "markdown",
   "metadata": {},
   "source": [
    "In order to make a cake you have to choose between 6 different brands of butter. Their prices are:\n",
    "\n",
    "```python\n",
    "[82, 88, 88, 71, 79, 74]\n",
    "```\n",
    "\n",
    "You also have to choose between 8 different brands of eggs. Their prices are:\n",
    "```python\n",
    "[73, 91, 82, 98, 95, 90, 70, 73]\n",
    "```\n",
    "\n",
    "Finally, you have to choose between 5 different brands of milk. Their prices are:\n",
    "```python\n",
    "[97, 90, 89, 81, 99]\n",
    "```\n",
    "\n",
    "If you take all possible combinations of different brands (1 brand for each ingredient), what is the average cost of the cake?\n"
   ]
  },
  {
   "cell_type": "code",
   "execution_count": 44,
   "metadata": {},
   "outputs": [
    {
     "data": {
      "text/plain": [
       "255.53333333333333"
      ]
     },
     "execution_count": 44,
     "metadata": {},
     "output_type": "execute_result"
    }
   ],
   "source": [
    "s = 0\n",
    "c = 0\n",
    "for x in [82, 88, 88, 71, 79, 74]:\n",
    "    for y in [73, 91, 82, 98, 95, 90, 70, 73]:\n",
    "        for z in [97, 90, 89, 81, 99]:\n",
    "            price = x+y+z\n",
    "            s += price\n",
    "            c += 1\n",
    "s/c"
   ]
  },
  {
   "cell_type": "code",
   "execution_count": 71,
   "metadata": {},
   "outputs": [
    {
     "data": {
      "text/plain": [
       "255.53333333333333"
      ]
     },
     "execution_count": 71,
     "metadata": {},
     "output_type": "execute_result"
    }
   ],
   "source": [
    "from itertools import product\n",
    "\n",
    "a = [82, 88, 88, 71, 79, 74]\n",
    "b = [73, 91, 82, 98, 95, 90, 70, 73]\n",
    "c = [97, 90, 89, 81, 99]\n",
    "\n",
    "sum(sum(x) for x in product(a,b,c)) / (len(a)*len(b)*len(c))"
   ]
  },
  {
   "cell_type": "markdown",
   "metadata": {},
   "source": [
    "### Άσκηση 2.13\n",
    "Ας υποθέσουμε ότι έχουμε ένα γονίδιο το οποίο έχει μέγεθος 100 νουκλεοτίδια.\n",
    "Από το γονίδιο αυτό παίρνουμε 20 ακολουθίες. Η κάθε μία ξεκινάει και τελειώνει στις θέσεις που φαίνονται παρακάτω: \n",
    " \n",
    "```python\n",
    "[(22, 34), (66, 75), (35, 46), (45, 59), (77, 87), (38, 58), (51, 58), (81, 90), (52, 70), (53, 65), \n",
    "(53, 72), (50, 63), (80, 100), (0, 12), (68, 81), (35, 51), (27, 34), (69, 87), (39, 47), (0, 8)]\n",
    "\n",
    "```\n",
    "\n",
    "Ποιες θέση του γονιδίου έχουν τη μεγαλύτερη \"κάλυψη\". Δηλαδή η ακολουθία τους έχει διαβαστεί τις περισσότερες φορές;\n",
    "Φτιάξτε μία συνάρτηση η οποία θα παίρνει μία λίστα από ζευγάρια από αριθμούς. Η συνάρτηση θα επιστρέφει μία λίστα με τις θέσεις που έχουν τη μεγαλύτερη κάλυψη. Για το παράδειγμα που έχει δοθεί η απάντηση είναι:\n",
    "\n",
    "```python\n",
    "[53, 54, 55, 56, 57]\n",
    "```"
   ]
  },
  {
   "cell_type": "code",
   "execution_count": 52,
   "metadata": {},
   "outputs": [],
   "source": [
    "from collections import Counter\n",
    "\n",
    "def f(s):\n",
    "    c = Counter(y for x in s for y in range(x[0], x[1]+1))\n",
    "    m = max(c.items(), key=lambda x : x[1])[1]\n",
    "    return [k for k,v in c.items() if v==m]"
   ]
  },
  {
   "cell_type": "code",
   "execution_count": 53,
   "metadata": {},
   "outputs": [
    {
     "data": {
      "text/plain": [
       "[53, 54, 55, 56, 57, 58]"
      ]
     },
     "execution_count": 53,
     "metadata": {},
     "output_type": "execute_result"
    }
   ],
   "source": [
    "l = [(22, 34), (66, 75), (35, 46), (45, 59), (77, 87), (38, 58), (51, 58), (81, 90), (52, 70), (53, 65), \n",
    "(53, 72), (50, 63), (80, 100), (0, 12), (68, 81), (35, 51), (27, 34), (69, 87), (39, 47), (0, 8)]\n",
    "f(l)"
   ]
  },
  {
   "cell_type": "markdown",
   "metadata": {},
   "source": [
    "### Άσκηση 2.14\n",
    "Έστω η λίστα με τα παρακάτω strings:\n",
    "```python\n",
    "b = [\n",
    "    'zabarakatranemia',\n",
    "    'askardamikth',\n",
    "    'mpampesika',\n",
    "]\n",
    "```\n",
    "\n",
    "Ποια είναι τα γράμματα που υπάρχουν σε όλα τα strings της λίστας;\n",
    "Φτιάξτε μία συνάρτηση που θα παίρνει σαν παράμετρο μία λίστα με strings. Θα επιστρέφει μία λίστα με όλα τα γράμματα που υπάρχουν σε όλα τα strings της παραμέτρου. Για παράδειγμα για τη λίστα που δόθηκε, τα γράμματα που υπάρχουν σε όλα strings είναι: ['m', 'k', 'i', 'a']. Προσοχή η λίστα μπορεί να περιέχει και γράμματα πέρα του λατινικού αλφάβητου (ελληνικα, κινέζικα, αραβικά, ...)"
   ]
  },
  {
   "cell_type": "code",
   "execution_count": 63,
   "metadata": {},
   "outputs": [],
   "source": [
    "# 1os tropos\n",
    "def f1(x):\n",
    "    r = set(x[0])\n",
    "    for item in x[1:]:\n",
    "        r = r & set(item)\n",
    "    return r\n",
    "\n",
    "# 2os tropos\n",
    "from functools import reduce\n",
    "\n",
    "def f2(l):\n",
    "    return list(reduce(lambda x,y:set(x)&set(y), l))"
   ]
  },
  {
   "cell_type": "code",
   "execution_count": 64,
   "metadata": {},
   "outputs": [
    {
     "data": {
      "text/plain": [
       "{'a', 'i', 'k', 'm'}"
      ]
     },
     "execution_count": 64,
     "metadata": {},
     "output_type": "execute_result"
    }
   ],
   "source": [
    "b = [\n",
    "    'zabarakatranemia',\n",
    "    'askardamikth',\n",
    "    'mpampesika',\n",
    "]\n",
    "f1(b)"
   ]
  },
  {
   "cell_type": "code",
   "execution_count": 66,
   "metadata": {},
   "outputs": [
    {
     "data": {
      "text/plain": [
       "['a', 'i', 'm', 'k']"
      ]
     },
     "execution_count": 66,
     "metadata": {},
     "output_type": "execute_result"
    }
   ],
   "source": [
    "f2(b)"
   ]
  },
  {
   "cell_type": "markdown",
   "metadata": {},
   "source": [
    "### Άσκηση 2.15\n",
    "Έστω ο παρακάτω αριθμός:\n",
    "```\n",
    "a = 25629456287456291\n",
    "```\n",
    "\n",
    "Ποις είναι ο μεγαλύτερος αριθμός ο οποίος υπάρχει μέσα στον a και αποτελείται από ψηφία τα οποία είναι συνεχόμενα;\n",
    "Για παράδειγμα ο 456 είναι ο μεγαλύτερος αριθμός ο οποίος αποτελείται από συνεχόμενα ψηφία (4,5,6) ο οποίος υπάρχει μέσα στον a.\n",
    "Φτιάξτε μία συνάρτηση που θα παίρνει σαν παράμετρο τον a και θα επιστρέφει τον ζητούμενο αριθμό. "
   ]
  },
  {
   "cell_type": "code",
   "execution_count": 67,
   "metadata": {},
   "outputs": [],
   "source": [
    "def f(x):\n",
    "    sx = str(x)\n",
    "    n = int(sx[0])\n",
    "    c = n\n",
    "    r = 0\n",
    "    for l in sx[1:]:\n",
    "        li = int(l)\n",
    "        if li==n+1:\n",
    "            c = c*10+li\n",
    "            if c > r:\n",
    "                r = c\n",
    "        else:\n",
    "            c = li\n",
    "        n = li\n",
    "    return r"
   ]
  },
  {
   "cell_type": "code",
   "execution_count": 68,
   "metadata": {},
   "outputs": [
    {
     "data": {
      "text/plain": [
       "456"
      ]
     },
     "execution_count": 68,
     "metadata": {},
     "output_type": "execute_result"
    }
   ],
   "source": [
    "f(25629456287456291)"
   ]
  },
  {
   "cell_type": "code",
   "execution_count": 70,
   "metadata": {},
   "outputs": [
    {
     "data": {
      "text/plain": [
       "789"
      ]
     },
     "execution_count": 70,
     "metadata": {},
     "output_type": "execute_result"
    }
   ],
   "source": [
    "f(25789629456287456291)"
   ]
  },
  {
   "cell_type": "markdown",
   "metadata": {},
   "source": [
    "### Άσκηση 2.16\n",
    "Μία εταιρία φορτηγών κάνει διαδρομές μεταξύ διάφορων πόλεων. Οι πόλεις είναι κωδικοποιημένες από το 0 μέχρι το Ν-1, όπου Ν είναι το πλήθος των πόλεων.\n",
    "Η εταιρία έχει μία λίστα η οποία λέει αν ένα φορτηγό βρίσκεται σε μια πόλη, τότε ποια πρέπει να είναι η επόμενη. \n",
    "Αν υποθέσουμε ότι έχουμε μία λίστα με 10 πόλεις, η λίστα αυτή έχει την εξής μορφή:\n",
    "```python\n",
    "[5, 0, 6, 6, 9, 3, 4, 0, 4, 3]\n",
    "``` \n",
    "Ένα φορτηγό πάντα ξεκινάει από τη πόλη 0.\n",
    "\n",
    "Σύμφωνα με το πίνακα η επόμενη πόλη είναι αυτή που βρίσκεται στη θέση 0, οπότε είναι η 5.\n",
    "\n",
    "Η επόμενη πόλη είναι αυτή που βρίσκεται στη θέση 5 οπότε είναι η 3.\n",
    "\n",
    "Η επόμενη πόλη είναι αυτή που βρίσκεται στη θέση 3 οπότε είναι η 6.\n",
    "\n",
    "Η επόμενη πολη είναι αυτή που βρίσκεται στη θέση 6 οπότε είναι η 4.\n",
    "\n",
    "Η επόμενη πόλη είναι αυτή που βρίσκεται στη θέση 4 οπότε είναι η 9.\n",
    "\n",
    "Η επόμενη πόλη είναι αυτή που βρίσκεται στη θέση 9 οπότε είναι η 3.\n",
    "\n",
    "\n",
    "Παρατηρούμε ότι στη 3 έχει ξαναπάει. Αν το φορτηγό πάει στη 3 τότε θα κάνει \"κύκλους\". Δηλαδή θα πηγαίνει 3,6,4,9,3,6,4,9,3,6,4,9,3, ....\n",
    "\n",
    "Δηλαδή ένα φορτηγό το οποίο ξεκινάει από τη θέση 0 της λίστας θα καταλήγει να κάνει κύκλους μεταξύ 4 πόλεων (3,6,4,9). \n",
    "\n",
    "Φτιάξτε μία συνάρτηση η οποία θα παίρνει σαν παράμετρο μία λίστα από ακέραιους. \n",
    "Η συνάρτηση θα επιστρέφει το μέγεθος του κύκλου (δηλαδή το πλήθος των πόλεων) που θα κάνει ένα φορτηγό, αν ξεκινήσει από τη θέση 0.\n",
    "Θεωρούμε ότι πάντα υπάρχει κύκλος. Επίσης θα πρέπει η υλοποίησή σας να δουλεύει για αυθαίρετα μεγάλες λίστες.\n",
    "\n",
    "Μερικά επιπλέον παραδείγματα:\n",
    "\n",
    "```text\n",
    "[6, 2, 9, 5, 9, 2, 0, 0, 0, 3] --> 2\n",
    "[0, 3, 3, 5, 5, 5, 1, 1, 8, 6] --> 1\n",
    "\n",
    "```"
   ]
  },
  {
   "cell_type": "code",
   "execution_count": 93,
   "metadata": {},
   "outputs": [],
   "source": [
    "def f(a):\n",
    "    start = 0\n",
    "    locations = [0]\n",
    "    while True:\n",
    "        n = a[start]\n",
    "        if n in locations:\n",
    "            locations.append(n)\n",
    "            break\n",
    "        locations.append(n)\n",
    "        start = n\n",
    "    start_index = locations.index(n)\n",
    "    circle = locations[start_index:-1]\n",
    "\n",
    "    return len(circle)"
   ]
  },
  {
   "cell_type": "code",
   "execution_count": 94,
   "metadata": {},
   "outputs": [
    {
     "data": {
      "text/plain": [
       "4"
      ]
     },
     "execution_count": 94,
     "metadata": {},
     "output_type": "execute_result"
    }
   ],
   "source": [
    "f([5, 0, 6, 6, 9, 3, 4, 0, 4, 3])"
   ]
  },
  {
   "cell_type": "code",
   "execution_count": 95,
   "metadata": {},
   "outputs": [
    {
     "data": {
      "text/plain": [
       "2"
      ]
     },
     "execution_count": 95,
     "metadata": {},
     "output_type": "execute_result"
    }
   ],
   "source": [
    "f([6, 2, 9, 5, 9, 2, 0, 0, 0, 3])"
   ]
  },
  {
   "cell_type": "code",
   "execution_count": 96,
   "metadata": {},
   "outputs": [
    {
     "data": {
      "text/plain": [
       "1"
      ]
     },
     "execution_count": 96,
     "metadata": {},
     "output_type": "execute_result"
    }
   ],
   "source": [
    "f([0, 3, 3, 5, 5, 5, 1, 1, 8, 6])"
   ]
  },
  {
   "cell_type": "markdown",
   "metadata": {},
   "source": [
    "### Άσκηση 2.17\n",
    "Ένα ρομποτάκι κινείται σε έναν διδιάστατο χώρο ξεκινώντας από το σημείο 0,0.\n",
    "Το ρομποτάκι δέχεται σαν είσοδο ένα string το οποιο περιγράφει τα βήματά του. Το string αυτό έχει τα παρακάτω γράμματα:\n",
    "\n",
    "* \">\": πήγαινε δεξιά (π.χ. από το 1,3 --> 2,3)\n",
    "* \"<\": πήγαινε αριστερά (π.χ. από το 1,3 --> 0,3)\n",
    "* \"v\": πήγαινε κάτω (π.χ. από το 1,3 --> 1,2)\n",
    "* \"^\": πήγαινε πάνω (π.χ. από το 1,3 --> 1,4)\n",
    "\n",
    "Για παράδειγμα μία ακολουθία μπορεί να είναι:\n",
    "```\n",
    "^>v<\n",
    "```\n",
    "Δηλαδή πήγαινε πάνω, μετά δεξιά, μετά κάτω μετά αριστερά.\n",
    "\n",
    "Φτιάξτε μία συνάρτηση η οποία θα δέχεται ένα string το οποίο θα έχει μόνο τους χαρακτήρες: \"<\", \">\", \"^\", \"v\". Θα επιστρέφει το πλήθος από τις θέσεις τις οποίες το ρομποτάκι έχει επισκεφθεί μία και μόνο φορά. Θεωρείστε ότι το 0,0 είναι η θέση που ξεκινάει οπότε πριν ακόμα αρχίσει να κινείται, έχει επισκεφθεί αυτή τη θέση 1 φορά (μπορεί όμως στο μέλλον να τη ξαναεπισκεφθεί).\n",
    "\n",
    "Παραδείγματα:\n",
    "```text\n",
    "'v>v<vvv<<vv^v<v>vv>v<<<^^^^^<<^<vv>^>v^>^>^>^>^><vvvv<^>^<<^><<<^vvvv>^>^><^v^><^<>^^>^vvv^<vv>>^>^^<>><>^>vvv>>^vv>^<><>^<v^>^>^><vv^vv^>><<^><<v>><>^<^>>vvv>v>>>v<<^<>'\n",
    "--> 53\n",
    "\n",
    "'<^<v<>v>^^v^^^<^v^^>>><^>^>v<>^<>>^>^^v^><v<v>>><>v<v^v>^v<>>^><v>^<>v^>^<>^v^^^v^^>>vv<<^^><^<vvv>^>^^<^>>^^^^^v^<v>vv<>>v^v<^v^^<><^<^vv^><>><><>v>vvv^vv^^<<><<vvv><<^v^>'\n",
    "--> 33\n",
    "```"
   ]
  },
  {
   "cell_type": "code",
   "execution_count": 102,
   "metadata": {},
   "outputs": [],
   "source": [
    "from collections import Counter\n",
    "\n",
    "def f(x):\n",
    "    d = {\n",
    "        '>': lambda x: (x[0]+1, x[1]),\n",
    "        '<': lambda x: (x[0]-1, x[1]),\n",
    "        '^': lambda x: (x[0], x[1]+1),\n",
    "        'v': lambda x: (x[0], x[1]-1),\n",
    "    }\n",
    "    \n",
    "    start = (0,0)\n",
    "    positions = [start]\n",
    "    for loc in x:\n",
    "        positions.append(d[loc](positions[-1]))\n",
    "    \n",
    "    c = Counter(positions)\n",
    "    return sum(1 for k,v in c.items() if v==1)"
   ]
  },
  {
   "cell_type": "code",
   "execution_count": 103,
   "metadata": {},
   "outputs": [
    {
     "data": {
      "text/plain": [
       "53"
      ]
     },
     "execution_count": 103,
     "metadata": {},
     "output_type": "execute_result"
    }
   ],
   "source": [
    "f('v>v<vvv<<vv^v<v>vv>v<<<^^^^^<<^<vv>^>v^>^>^>^>^><vvvv<^>^<<^><<<^vvvv>^>^><^v^><^<>^^>^vvv^<vv>>^>^^<>><>^>vvv>>^vv>^<><>^<v^>^>^><vv^vv^>><<^><<v>><>^<^>>vvv>v>>>v<<^<>')"
   ]
  },
  {
   "cell_type": "code",
   "execution_count": 104,
   "metadata": {},
   "outputs": [
    {
     "data": {
      "text/plain": [
       "33"
      ]
     },
     "execution_count": 104,
     "metadata": {},
     "output_type": "execute_result"
    }
   ],
   "source": [
    "f('<^<v<>v>^^v^^^<^v^^>>><^>^>v<>^<>>^>^^v^><v<v>>><>v<v^v>^v<>>^><v>^<>v^>^<>^v^^^v^^>>vv<<^^><^<vvv>^>^^<^>>^^^^^v^<v>vv<>>v^v<^v^^<><^<^vv^><>><><>v>vvv^vv^^<<><<vvv><<^v^>')"
   ]
  },
  {
   "cell_type": "markdown",
   "metadata": {},
   "source": [
    "### Άσκηση 2.18\n",
    "Θεωρείστε το ίδιο ρομποτάκι με τη προηγούμενη άσκηση. Αλλάξτε τη συνάρτηση έτσι ώστε να επιστρέφει το πλήθος από θέσεις που ΔΕΝ έχει επισκεφτεί. \n",
    "Για να το κάνετε αυτό υπολογίστε το εξής:\n",
    "* Ποια είναι η πιο δεξιά θέση που έχει επισκεφθεί; Έστω η 4\n",
    "* Ποια είναι η πιο αριστερή θέση που έχει επισκεφθεί; Έστω η -3\n",
    "* Ποια είναι η πιο πάνω θέση που έχει επισκεφθεί; Έστω η 2\n",
    "* Ποια είναι η πιο κάτω θέση που έχει επισκεφθεί; Έστω η -1\n",
    "\n",
    "Πάρτα όλα τις θέσεις που υπάρχουν στο παραλληλόγραμμο που ορίζονται από αυτές τις \"ακραίες\" θέσεις. Για παράδειγμα.\n",
    "```\n",
    "(-3, 2)  (-2, 2)  (-1, 2)  (0, 2)  (1, 2)  (2, 2)  (3, 2)  (4, 2)\n",
    "(-3, 1)  (-2, 1)  (-1, 1)  (0, 1)  (1, 1)  (2, 1)  (3, 1)  (4, 1)\n",
    "(-3, 0)  (-2, 0)  (-1, 0)  (0, 0)  (1, 0)  (2, 0)  (3, 0)  (4, 0)\n",
    "(-3, -1) (-2, -1) (-1, -1) (0, -1) (1, -1) (2, -1) (3, -1) (4, -1)\n",
    "```\n",
    "\n",
    "Υπολογίστε το πλήθος από αυτές τις θέσεις που το ρομποτάκι ΔΕΝ έχει επισκεφτεί.\n",
    "Για παράδειγμα:\n",
    "```text\n",
    "a = 'v>v<vvv<<vv^v<v>vv>v<<<^^^^^<<^<vv>^>v^>^>^>^>^><vvvv<^>^<<^><<<^vvvv>^>^><^v^><^<>^^>^vvv^<vv>>^>^^<>><>^>vvv>>^vv>^<><>^<v^>^>^><vv^vv^>><<^><<v>><>^<^>>vvv>v>>>v<<^<>'\n",
    "--> 168\n",
    "\n",
    "'<^<v<>v>^^v^^^<^v^^>>><^>^>v<>^<>>^>^^v^><v<v>>><>v<v^v>^v<>>^><v>^<>v^>^<>^v^^^v^^>>vv<<^^><^<vvv>^>^^<^>>^^^^^v^<v>vv<>>v^v<^v^^<><^<^vv^><>><><>v>vvv^vv^^<<><<vvv><<^v^>'\n",
    "--> 257\n",
    "\n",
    "\n",
    "```\n"
   ]
  },
  {
   "cell_type": "code",
   "execution_count": 117,
   "metadata": {},
   "outputs": [],
   "source": [
    "from collections import Counter\n",
    "\n",
    "\n",
    "def f(x):\n",
    "    d = {\n",
    "        '>': lambda x: (x[0]+1, x[1]),\n",
    "        '<': lambda x: (x[0]-1, x[1]),\n",
    "        '^': lambda x: (x[0], x[1]+1),\n",
    "        'v': lambda x: (x[0], x[1]-1),\n",
    "    }\n",
    "    \n",
    "    start = (0,0)\n",
    "    positions = [start]\n",
    "    for loc in x:\n",
    "        positions.append(d[loc](positions[-1]))\n",
    "    \n",
    "    max_x = max(positions, key=lambda x: x[0])[0]\n",
    "    max_y = max(positions, key=lambda x: x[1])[1]\n",
    "    min_x = min(positions, key=lambda x: x[0])[0]\n",
    "    min_y = min(positions, key=lambda x: x[1])[1]\n",
    "    \n",
    "    #print (max_x, max_y, min_x, min_y)\n",
    "    all_positions = {(x,y) for x in range(min_x, max_x+1) for y in range(min_y, max_y+1)}\n",
    "    \n",
    "    not_visited = all_positions - set(positions)\n",
    "    return len(not_visited)\n",
    "    "
   ]
  },
  {
   "cell_type": "code",
   "execution_count": 118,
   "metadata": {},
   "outputs": [
    {
     "data": {
      "text/plain": [
       "168"
      ]
     },
     "execution_count": 118,
     "metadata": {},
     "output_type": "execute_result"
    }
   ],
   "source": [
    "f('v>v<vvv<<vv^v<v>vv>v<<<^^^^^<<^<vv>^>v^>^>^>^>^><vvvv<^>^<<^><<<^vvvv>^>^><^v^><^<>^^>^vvv^<vv>>^>^^<>><>^>vvv>>^vv>^<><>^<v^>^>^><vv^vv^>><<^><<v>><>^<^>>vvv>v>>>v<<^<>')"
   ]
  },
  {
   "cell_type": "code",
   "execution_count": 120,
   "metadata": {},
   "outputs": [
    {
     "data": {
      "text/plain": [
       "257"
      ]
     },
     "execution_count": 120,
     "metadata": {},
     "output_type": "execute_result"
    }
   ],
   "source": [
    "f('<^<v<>v>^^v^^^<^v^^>>><^>^>v<>^<>>^>^^v^><v<v>>><>v<v^v>^v<>>^><v>^<>v^>^<>^v^^^v^^>>vv<<^^><^<vvv>^>^^<^>>^^^^^v^<v>vv<>>v^v<^v^^<><^<^vv^><>><><>v>vvv^vv^^<<><<vvv><<^v^>')"
   ]
  },
  {
   "cell_type": "markdown",
   "metadata": {},
   "source": [
    "### Άσκηση 2.19\n",
    "Έστω ότι έχουμε τις παραπάνω θέσεις σε ένα διδιάστατο χώρο\n",
    "```\n",
    "[(-34, 7),\n",
    " (-66, -36),\n",
    " (-50, 33),\n",
    " (95, 0),\n",
    " (-86, 48),\n",
    " (46, -27),\n",
    " (-39, -46),\n",
    " (53, -87),\n",
    " (-26, 37),\n",
    " (13, -37)]\n",
    "```\n",
    "\n",
    "Έχουμε δηλαδή 10 σημεία. Ο πρώτος αριθμός είναι η συντεταγμένη του στο x και ο δεύτερος στο y. Δηλαδή ο πρώτος αριθμός είναι στο -34,7 του διδιάστατου χώρου. Ορίζεται η ευκλίδεια απόσταση μεταξώ δύο σημείων a,b:\n",
    "```python\n",
    "import math\n",
    "def euclidean(a,b):\n",
    "\treturn math.sqrt((a[0]-b[0])**2 + (a[1]-b[1])**2)\n",
    "```\n",
    "\n",
    "Ορίζουμε επίσης τη μέση θέση δύο σημείων ως το μέσο της ευθείας που τα συνδέει:\n",
    "```python\n",
    "def mesh_thesh(a,b):\n",
    "\t# This function returns 2 numbers! \n",
    "\treturn (a[0]+b[0])/2, (a[1]+b[1])/2\n",
    "```\n",
    "\n",
    "Στη συνέχεια εφαρμόζουμε τον παρακάτω αλγόριθμο: Βρίσκουμε τα δύο σημεία τα οποία είναι πιο κοντά με βάση την ευκλίδεια απόσταση. Αφού τα βρούμε, διαγράφουμε το ένα από τη λίστα και το άλλο το αντικαθιστούμε με τη μέση θέση των δύο σημείων αυτών. Άρα στο τέλος θα μείνουμε με μία λίστα με 9 σημεία. Επαναλαμβάνουμε αυτή τη διαδικασία μέχρι να μείνει ένα σημείο στη λίστα. Στη συνέχεια βρίσκουμε ποιο σημείο από την αρχική λίστα είναι πιο κοντά στο ένα στοιχείο που έμεινε. Φτιάχτε μία συνάρτηση που θα δέχεται σαν όρισμα μία λίστα με σημεία στον διδιάστατο χώρο και να επιστρέφει το σημείο της λίστας το οποίο είναι πιο κοντά στο ένα σημείο που υπολογίστηκε όπως περιγράφηκε παραπάνω. \n",
    "\n",
    "Παράδειγμα\n",
    "```text\n",
    "[(-34, 7),\n",
    " (-66, -36),\n",
    " (-50, 33),\n",
    " (95, 0),\n",
    " (-86, 48),\n",
    " (46, -27),\n",
    " (-39, -46),\n",
    " (53, -87),\n",
    " (-26, 37),\n",
    " (13, -37)]\n",
    "\n",
    "--> 9\n",
    "```\n",
    "\n",
    "```text\n",
    "[(58, -50),\n",
    " (-67, 34),\n",
    " (-77, 40),\n",
    " (-19, -23),\n",
    " (-53, -66),\n",
    " (39, 15),\n",
    " (-85, -14),\n",
    " (42, 81),\n",
    " (-4, -59),\n",
    " (71, 15)]\n",
    "\n",
    "--> 3\n",
    "```\n",
    "\n",
    "```text\n",
    "[(44, 29),\n",
    " (31, 1),\n",
    " (-14, 79),\n",
    " (98, -78),\n",
    " (-2, 34),\n",
    " (-80, -27),\n",
    " (98, -21),\n",
    " (25, -23),\n",
    " (33, 45),\n",
    " (-85, -40),\n",
    " (53, 81),\n",
    " (50, -53),\n",
    " (42, 56),\n",
    " (-30, 100),\n",
    " (74, 20),\n",
    " (-78, -80),\n",
    " (-39, 42),\n",
    " (87, 19),\n",
    " (15, 98),\n",
    " (85, -27)]\n",
    " \n",
    " --> 7\n",
    " ```\n"
   ]
  },
  {
   "cell_type": "code",
   "execution_count": 1,
   "metadata": {},
   "outputs": [],
   "source": [
    "import math\n",
    "def euclidean(a,b):\n",
    "    return math.sqrt((a[0]-b[0])**2 + (a[1]-b[1])**2)\n",
    "\n",
    "def mesh_thesh(a,b):\n",
    "    # This function returns 2 numbers! \n",
    "    return (a[0]+b[0])/2, (a[1]+b[1])/2\n",
    "\n",
    "from itertools import combinations\n",
    "import copy\n",
    "\n",
    "def f(l):\n",
    "    \n",
    "    current_list = copy.copy(l)\n",
    "    while len(current_list)>1:\n",
    "        \n",
    "        # Get two closer elements \n",
    "        m = min(combinations(enumerate(current_list), 2), key=lambda x: euclidean(x[0][1], x[1][1]))\n",
    "        \n",
    "        # Create the new element\n",
    "        new_element = mesh_thesh(current_list[m[0][0]], current_list[m[1][0]])\n",
    "        \n",
    "        # Delete two elements\n",
    "        current_list = [x for i,x in enumerate(current_list) if not i in [m[0][0], m[1][0]]]\n",
    "        \n",
    "        # Add the new\n",
    "        current_list.append(new_element)\n",
    "        \n",
    "    \n",
    "    #Get the element closer to the remaining\n",
    "    m = min((euclidean(current_list[0], x), i) for i,x in enumerate(l))\n",
    "    \n",
    "    # Get the index of the closer to the remaining\n",
    "    return m[1]"
   ]
  },
  {
   "cell_type": "code",
   "execution_count": 144,
   "metadata": {},
   "outputs": [
    {
     "data": {
      "text/plain": [
       "9"
      ]
     },
     "execution_count": 144,
     "metadata": {},
     "output_type": "execute_result"
    }
   ],
   "source": [
    "a = [(-34, 7),\n",
    " (-66, -36),\n",
    " (-50, 33),\n",
    " (95, 0),\n",
    " (-86, 48),\n",
    " (46, -27),\n",
    " (-39, -46),\n",
    " (53, -87),\n",
    " (-26, 37),\n",
    " (13, -37)]\n",
    "f(a)"
   ]
  },
  {
   "cell_type": "code",
   "execution_count": 146,
   "metadata": {},
   "outputs": [
    {
     "data": {
      "text/plain": [
       "3"
      ]
     },
     "execution_count": 146,
     "metadata": {},
     "output_type": "execute_result"
    }
   ],
   "source": [
    "a = [(58, -50),\n",
    " (-67, 34),\n",
    " (-77, 40),\n",
    " (-19, -23),\n",
    " (-53, -66),\n",
    " (39, 15),\n",
    " (-85, -14),\n",
    " (42, 81),\n",
    " (-4, -59),\n",
    " (71, 15)]\n",
    "f(a)"
   ]
  },
  {
   "cell_type": "code",
   "execution_count": 2,
   "metadata": {},
   "outputs": [
    {
     "data": {
      "text/plain": [
       "7"
      ]
     },
     "execution_count": 2,
     "metadata": {},
     "output_type": "execute_result"
    }
   ],
   "source": [
    "a = [(44, 29),\n",
    " (31, 1),\n",
    " (-14, 79),\n",
    " (98, -78),\n",
    " (-2, 34),\n",
    " (-80, -27),\n",
    " (98, -21),\n",
    " (25, -23),\n",
    " (33, 45),\n",
    " (-85, -40),\n",
    " (53, 81),\n",
    " (50, -53),\n",
    " (42, 56),\n",
    " (-30, 100),\n",
    " (74, 20),\n",
    " (-78, -80),\n",
    " (-39, 42),\n",
    " (87, 19),\n",
    " (15, 98),\n",
    " (85, -27)]\n",
    "\n",
    "f(a)"
   ]
  },
  {
   "cell_type": "markdown",
   "metadata": {},
   "source": [
    "### Άσκηση 2.20 (Εξαιρετικά δύσκολη)\n",
    "Δίνεται η παρακάτω λίστα:\n",
    "```\n",
    "[[673, 517, 674, 834, 991, 458, 558, 538, 990],\n",
    " [758, 469, 850, 940, 889, 937, 978, 703],\n",
    " [925, 838, 595, 880, 767, 685, 659],\n",
    " [589, 455, 858, 808, 748, 837],\n",
    " [586, 994, 875, 779, 945],\n",
    " [979, 685, 661, 817],\n",
    " [498, 814, 940],\n",
    " [597, 687],\n",
    " [844]]\n",
    "```\n",
    "\n",
    "Η λίστα αυτή περιέχει τις αποστάσεις μεταξύ 10 πόλεων. \n",
    "Η 1η πόλη απέχει από τη 2η 673.\n",
    "\n",
    "Η 1η πόλη απέχει από τη 3η 517.\n",
    "\n",
    "Η 1η πόλη απέχει από τη 4η 674.\n",
    "\n",
    "Η 1η πόλη απέχει από τη 10η 990.\n",
    "\n",
    "Η 2η πόλη απέχει από τη 3η 758.\n",
    "\n",
    "Η 2η πόλη απέχει από τη 4η 469.\n",
    "\n",
    "Η 2η πόλη απέχει από τη 10η 703.\n",
    "\n",
    "Η 8η πόλη απέχει από τη 9η 597.\n",
    "\n",
    "Η 8η πόλη απέχει από τη 10η 687.\n",
    "\n",
    "Η 9η πόλη απέχει απο τη 10η πόλη 844.\n",
    "\n",
    "Εννοείται επίσης ότι η απόσταση μεταξύ της πόλης Α και Β είναι ίδια με την απόσταση της Β με την Α..\n",
    "\n",
    "Ένα φορτηγό θέλει να ξεκινήσει από τη 1η πόλη και να καταλήξει πάλι στη 1η πόλη έχοντας επισκεφτεί όλες τις υπόλοιπες πόλεις ακριβώς 1 φορά τη κάθε μία. \n",
    "Με ποια σειρά πρέπει να τις επισκεφτεί ώστε να κάνει τη μικρότερη δυνατή απόσταση;\n",
    "\n",
    "Φτιάξτε μία συνάρτηση η οποία θα παίρνει ως παράμετρο μία λίστα σαν αυτή του παραδείγματος.\n",
    "Η συνάρτηση θα επιτρέφει μία λίστα με τη σειρά των πόλεων που ελαχιστοποιούν την απόσταση. Για παράδειγμα:\n",
    "\n",
    "```text\n",
    "Για το παράδειγμα που δόθηκε: --> [0, 6, 7, 8, 2, 9, 1, 3, 5, 4, 0]\n",
    "```\n",
    "\n",
    "```text\n",
    "# Ένα άλλο παράδειγμα\n",
    "\n",
    "[[518, 711, 908, 526, 431, 731, 898, 661, 487],\n",
    " [586, 634, 850, 668, 441, 624, 699, 728],\n",
    " [910, 895, 928, 536, 875, 747, 477],\n",
    " [679, 909, 572, 543, 728, 734],\n",
    " [871, 599, 615, 836, 715],\n",
    " [739, 874, 994, 544],\n",
    " [859, 624, 742],\n",
    " [886, 528],\n",
    " [740]]\n",
    "\n",
    "--> [0, 5, 9, 2, 1, 6, 4, 7, 3, 8, 0]\n",
    "```\n",
    "\n",
    "Στις λύσεις που έχω βάλει εδώ, 0 είναι η 1η πόλη .... 9 είναι η 10η πόλη.\n",
    "\n",
    "Αυτό το πρόβλημα είναι γνωστό σαν [Travelling Salesman Problem](https://en.wikipedia.org/wiki/Travelling_salesman_problem).\n",
    "Το πρόβλημα ανοίκει σε μία ιδιαίτερη κατηγορία προβλημάτων: Αυτή που δεν υπάρχει καλύτερη λύση (ή μάλλον δεν έχει βρεθεί ακόμα..) πέρα της εξαντλητικής. Δηλαδή το να πάρεις όλες τις πιθανές διαδρομές και να βρεις τη πιο σύντομη, είναι αυτή τη στιγμή ο καλύτερος αλγόριθμος που υπάρχει!\n",
    "\n",
    "Μην σας ανησυχεί όμως αυτό. Για τα μεγέθη που βάζουμε σε αυτή την άσκηση, ο υπολογιστής σας μπορεί να βρει τη λύση σε μερικά δευτερόλεπτα!\n",
    "\n"
   ]
  },
  {
   "cell_type": "code",
   "execution_count": 152,
   "metadata": {},
   "outputs": [],
   "source": [
    "\n",
    "from itertools import permutations    \n",
    "\n",
    "l = [[518, 711, 908, 526, 431, 731, 898, 661, 487],\n",
    " [586, 634, 850, 668, 441, 624, 699, 728],\n",
    " [910, 895, 928, 536, 875, 747, 477],\n",
    " [679, 909, 572, 543, 728, 734],\n",
    " [871, 599, 615, 836, 715],\n",
    " [739, 874, 994, 544],\n",
    " [859, 624, 742],\n",
    " [886, 528],\n",
    " [740]]\n",
    "\n",
    "def d1(fr, to):\n",
    "    if fr<to:\n",
    "        return l[fr][to-fr-1]\n",
    "    else:\n",
    "        return l[to][fr-to-1]\n",
    "    \n",
    "def d2(s):\n",
    "    return sum(d1(s[x], s[x+1]) for x in range(9))\n",
    "\n",
    "def f(): \n",
    "    a = [1,2,3,4,5,6,7,8,9]\n",
    "    gen_1 = ((0,) + x + (0,) for x in permutations(a))\n",
    "    gen_2 = ((d2(x), x) for x in gen_1)\n",
    "    return min(gen_2)\n"
   ]
  },
  {
   "cell_type": "code",
   "execution_count": 153,
   "metadata": {},
   "outputs": [
    {
     "data": {
      "text/plain": [
       "(4964, (0, 5, 9, 2, 1, 6, 4, 7, 3, 8, 0))"
      ]
     },
     "execution_count": 153,
     "metadata": {},
     "output_type": "execute_result"
    }
   ],
   "source": [
    "f()"
   ]
  },
  {
   "cell_type": "markdown",
   "metadata": {},
   "source": [
    "## Σειρά 3"
   ]
  },
  {
   "cell_type": "code",
   "execution_count": 1,
   "metadata": {},
   "outputs": [
    {
     "name": "stdout",
     "output_type": "stream",
     "text": [
      "--2019-11-16 17:07:54--  https://raw.githubusercontent.com/washingtonpost/data-game-of-thrones-deaths/master/game-of-thrones-deaths-data.csv\n",
      "Resolving raw.githubusercontent.com (raw.githubusercontent.com)... 151.101.16.133\n",
      "Connecting to raw.githubusercontent.com (raw.githubusercontent.com)|151.101.16.133|:443... connected.\n",
      "HTTP request sent, awaiting response... 200 OK\n",
      "Length: 928822 (907K) [text/plain]\n",
      "Saving to: 'game-of-thrones-deaths-data.csv'\n",
      "\n",
      "game-of-thrones-dea 100%[===================>] 907.05K   225KB/s    in 4.0s    \n",
      "\n",
      "2019-11-16 17:08:00 (225 KB/s) - 'game-of-thrones-deaths-data.csv' saved [928822/928822]\n",
      "\n"
     ]
    }
   ],
   "source": [
    "!wget https://raw.githubusercontent.com/washingtonpost/data-game-of-thrones-deaths/master/game-of-thrones-deaths-data.csv"
   ]
  },
  {
   "cell_type": "code",
   "execution_count": 42,
   "metadata": {},
   "outputs": [],
   "source": [
    "import csv\n",
    "\n",
    "order_index = 0\n",
    "season_index = 1\n",
    "episode_index = 2\n",
    "character_killed_index = 3\n",
    "killer_index = 4\n",
    "method_index = 5\n",
    "method_cat_index = 6\n",
    "reason_index = 7\n",
    "location_index = 8\n",
    "allegiance_index = 9\n",
    "importance_index = 10\n",
    "\n",
    "data = []\n",
    "with open('game-of-thrones-deaths-data.csv', newline='') as f:\n",
    "    reader = csv.reader(f, delimiter=',', quotechar='\"')\n",
    "    header = f.readline().strip().split(',')\n",
    "    for ls in reader:\n",
    "        d = {\n",
    "            'order': int(ls[order_index]),\n",
    "            'season': int(ls[season_index]),\n",
    "            'episode': int(ls[episode_index]),\n",
    "            'character_killed': ls[character_killed_index],\n",
    "            'killer': ls[killer_index],\n",
    "            'method': ls[method_index],\n",
    "            'method_cat': ls[method_cat_index],\n",
    "            'reason': ls[reason_index],\n",
    "            'location': ls[location_index],\n",
    "            'allegiance': ls[allegiance_index],\n",
    "            'importance': int(ls[importance_index]) if ls[importance_index] else 1,\n",
    "        }\n",
    "        data.append(d)"
   ]
  },
  {
   "cell_type": "markdown",
   "metadata": {},
   "source": [
    "### Άσκηση 3.1\n",
    "Πόσοι θάνατοι έχουν importance μεγαλύτερο από 1;"
   ]
  },
  {
   "cell_type": "code",
   "execution_count": 4,
   "metadata": {},
   "outputs": [
    {
     "data": {
      "text/plain": [
       "204"
      ]
     },
     "execution_count": 4,
     "metadata": {},
     "output_type": "execute_result"
    }
   ],
   "source": [
    "sum(1 for x in data if x['importance']>1)"
   ]
  },
  {
   "cell_type": "markdown",
   "metadata": {},
   "source": [
    "### Άσκηση 3.2\n",
    "Από όσους έχουν importance μεγαλύτερο από 1, πόσοι έχουν σκοτωθεί από την Arya Stark;"
   ]
  },
  {
   "cell_type": "code",
   "execution_count": 6,
   "metadata": {},
   "outputs": [
    {
     "data": {
      "text/plain": [
       "11"
      ]
     },
     "execution_count": 6,
     "metadata": {},
     "output_type": "execute_result"
    }
   ],
   "source": [
    "sum(1 for x in data if x['importance']>1 and x['killer'] == 'Arya Stark')"
   ]
  },
  {
   "cell_type": "markdown",
   "metadata": {},
   "source": [
    "### Άσκηση 3.3\n",
    "Σε ποια σεζόν έχει σκοτώσει περισσότερους ο Jon Snow; Πάρτε μόνο όσους έχουν importance μεγαλύτερο από 1."
   ]
  },
  {
   "cell_type": "code",
   "execution_count": 10,
   "metadata": {},
   "outputs": [
    {
     "data": {
      "text/plain": [
       "6"
      ]
     },
     "execution_count": 10,
     "metadata": {},
     "output_type": "execute_result"
    }
   ],
   "source": [
    "from collections import Counter \n",
    "\n",
    "c = Counter([x['season'] for x in data if x['importance']> 1 and x['killer'] == 'Jon Snow'])\n",
    "max(c.items(), key=lambda x:x[1])[0]"
   ]
  },
  {
   "cell_type": "markdown",
   "metadata": {},
   "source": [
    "### Άσκηση 3.4\n",
    "Πόσες διαφορετικές κατηγορίες θανάτου (method_cat) υπάρχουν;"
   ]
  },
  {
   "cell_type": "code",
   "execution_count": 12,
   "metadata": {},
   "outputs": [
    {
     "data": {
      "text/plain": [
       "16"
      ]
     },
     "execution_count": 12,
     "metadata": {},
     "output_type": "execute_result"
    }
   ],
   "source": [
    "len({x['method_cat'] for x in data})"
   ]
  },
  {
   "cell_type": "markdown",
   "metadata": {},
   "source": [
    "### Άσκηση 3.5\n",
    "\n",
    "Για κάθε διαφορετική κατηγορία θανάτου, σε ποιά φατρία/οικογένεια/φυλή ανοίκουν τα μέλη που έχουν σκοτωθεί τις περισσότερες φορές από αυτή τη κατηγορία; Πάρτε μόνο θανάτους με importance>1"
   ]
  },
  {
   "cell_type": "code",
   "execution_count": 26,
   "metadata": {},
   "outputs": [
    {
     "name": "stdout",
     "output_type": "stream",
     "text": [
      "Blade --> House Stark\n",
      "Poison --> House Baratheon of King’s Landing, House Lannister\n",
      "Unknown --> Dothraki, House Targaryen\n",
      "Polearm --> None\n",
      "Arrow --> Free Folk\n",
      "Fire/Burning --> Dothraki\n",
      "Animal --> Smallfolk\n",
      "Hands --> House Lannister\n",
      "Magic --> Dothraki\n",
      "Household item --> Dothraki\n",
      "Other --> Night’s Watch\n",
      "Axe --> Brotherhood Without Banners\n",
      "Falling --> House Arryn, House Baelish\n",
      "Bludgeon --> Thenn, Free Folk\n",
      "Crushing --> House Lannister\n"
     ]
    }
   ],
   "source": [
    "from collections import defaultdict, Counter\n",
    "\n",
    "d = defaultdict(Counter)\n",
    "for x in data:\n",
    "    if x['importance'] <=1:\n",
    "        continue\n",
    "    \n",
    "    d[x['method_cat']] += Counter([x['allegiance']])\n",
    "    \n",
    "for k, v in d.items():\n",
    "    print ('{} --> {}'.format(k, max(v.items(), key=lambda x:x[1])[0]))"
   ]
  },
  {
   "cell_type": "markdown",
   "metadata": {},
   "source": [
    "### Άσκηση 3.6\n",
    "\n",
    "Ποιος έχει κάνει τους 2ους περισσότερους φόνους με importance>1;"
   ]
  },
  {
   "cell_type": "code",
   "execution_count": 29,
   "metadata": {},
   "outputs": [
    {
     "data": {
      "text/plain": [
       "'Arya Stark'"
      ]
     },
     "execution_count": 29,
     "metadata": {},
     "output_type": "execute_result"
    }
   ],
   "source": [
    "c = Counter(x['killer'] for x in data if x['importance']>1)\n",
    "c = sorted(c.items(), key=lambda x:x[1], reverse=True)\n",
    "c[1][0]"
   ]
  },
  {
   "cell_type": "markdown",
   "metadata": {},
   "source": [
    "### Άσκηση 3.7\n",
    "\n",
    "Ποιος είναι ο λόγος (reason) που προκάλεσε τους περισσότερους θανάτους με importance>2;"
   ]
  },
  {
   "cell_type": "code",
   "execution_count": 35,
   "metadata": {},
   "outputs": [
    {
     "data": {
      "text/plain": [
       "[('Killed in a coup by Cersei to remove all of her enemies', 6)]"
      ]
     },
     "execution_count": 35,
     "metadata": {},
     "output_type": "execute_result"
    }
   ],
   "source": [
    "Counter(x['reason'] for x in data if x['importance']>2).most_common(1)"
   ]
  },
  {
   "cell_type": "markdown",
   "metadata": {},
   "source": [
    "### Άσκηση 3.8\n",
    "\n",
    "Σε ποια επεισόδια δεν έγινε κανένας θάνατος; (τυπώστε και τη σεζόν του κάθε επεισοδίου)"
   ]
  },
  {
   "cell_type": "code",
   "execution_count": 42,
   "metadata": {},
   "outputs": [
    {
     "name": "stdout",
     "output_type": "stream",
     "text": [
      "Season:1  Episode:3\n",
      "Season:2  Episode:8\n",
      "Season:3  Episode:7\n",
      "Season:8  Episode:2\n"
     ]
    }
   ],
   "source": [
    "d = defaultdict(set)\n",
    "\n",
    "for x in data:\n",
    "    d[x['season']].add(x['episode'])\n",
    "\n",
    "s = {k: set(range(min(v), max(v)+1))-v for k,v in d.items()}\n",
    "for season, episodes in s.items():\n",
    "    for episode in episodes:\n",
    "        print ('Season:{}  Episode:{}'.format(season, episode))"
   ]
  },
  {
   "cell_type": "markdown",
   "metadata": {},
   "source": [
    "### Άσκηση 3.9\n",
    "\n",
    "Αν πάρουμε όλα τα διαφορετικά ζευγάρια (θύτης,θύμα) και όλα τα διαφορετικά ζευγάρια (θύμα,θήτης), πόσα κοινά στοιχεία υπάρχουν μεταξύ τους;"
   ]
  },
  {
   "cell_type": "code",
   "execution_count": 3,
   "metadata": {},
   "outputs": [
    {
     "data": {
      "text/plain": [
       "57"
      ]
     },
     "execution_count": 3,
     "metadata": {},
     "output_type": "execute_result"
    }
   ],
   "source": [
    "set_1 = {(x['character_killed'], x['killer']) for x in data}\n",
    "set_2 = {(x['killer'], x['character_killed']) for x in data}\n",
    "\n",
    "len(set_1 & set_2)"
   ]
  },
  {
   "cell_type": "markdown",
   "metadata": {},
   "source": [
    "### Άσκηση 3.10\n",
    "\n",
    "Πόσος είναι ο μέσος όρος θανάτων ανά επεισόδια για κάθε σεζόν; Δηλαδή για κάθε σεζόν (8 συνολικά), τυπώστε τον μέσο όρο από θανάτους που είχε το κάθε επεισόδιο αυτής της σεζόν."
   ]
  },
  {
   "cell_type": "code",
   "execution_count": 44,
   "metadata": {},
   "outputs": [
    {
     "name": "stdout",
     "output_type": "stream",
     "text": [
      "Season: 1   Average deaths per episode: 5.9\n",
      "Season: 2   Average deaths per episode: 13.0\n",
      "Season: 3   Average deaths per episode: 8.7\n",
      "Season: 4   Average deaths per episode: 18.1\n",
      "Season: 5   Average deaths per episode: 24.6\n",
      "Season: 6   Average deaths per episode: 54.0\n",
      "Season: 7   Average deaths per episode: 156.57142857142858\n",
      "Season: 8   Average deaths per episode: 758.0\n"
     ]
    }
   ],
   "source": [
    "from collections import Counter \n",
    "\n",
    "number_of_episodes = defaultdict(set)\n",
    "\n",
    "for x in data:\n",
    "    number_of_episodes[x['season']].add(x['episode'])\n",
    "number_of_episodes = {k:max(v) for k,v in number_of_episodes.items()}\n",
    "\n",
    "d = defaultdict(Counter)\n",
    "for x in data:\n",
    "    d[x['season']] += Counter([x['episode']])\n",
    "    \n",
    "for k,v in d.items():\n",
    "    average = sum(v.values())/number_of_episodes[k]\n",
    "    print ('Season: {}   Average deaths per episode: {}'.format(k, average))"
   ]
  },
  {
   "cell_type": "markdown",
   "metadata": {},
   "source": [
    "### Άσκηση 3.11\n",
    "\n",
    "Πόσοι είναι αυτοί που έχουν σκοτώσει αλλά δεν έχουν σκοτωθεί;"
   ]
  },
  {
   "cell_type": "code",
   "execution_count": 57,
   "metadata": {},
   "outputs": [
    {
     "data": {
      "text/plain": [
       "41"
      ]
     },
     "execution_count": 57,
     "metadata": {},
     "output_type": "execute_result"
    }
   ],
   "source": [
    "len(set(x['killer'] for x in data) - set(x['character_killed'] for x in data))"
   ]
  },
  {
   "cell_type": "markdown",
   "metadata": {},
   "source": [
    "### Άσκηση 3.12 (εξαιρετικά δύσκολη)\n",
    "\n",
    "Ας υποθέσουμε ότι έχουμε μία σειρά από φόνους: ο Α σκοτώνεται από τον Β, ο Β σκοτώνεται από τον Γ και τέλος ο Γ σκοτώνεται από τον Δ. Έχουμε δηλαδή μία σειρά από 4 φόνους όπου ο ν-οστός σκοτώνεται από το (ν+1)-στο. Ποια είναι η μεγαλύτερη αλυσίδα από φόνους που βλέπουμε στο games of thrones;\n",
    "\n",
    "Πάρτε μόνο τους θάνατους με importance > 2\n",
    "\n",
    "Hint: Στην ουσία ζητάμε να βρούμε τη μεγαλύτερη διαδρομή σε έναν γράφο όπου κόμβοι είναι ήρωες και ακμές είναι.. φόνοι. Μπορείτε να προσαρμόσετε τον κώδικα που υπάρχει εδώ: https://stackoverflow.com/questions/29320556/finding-longest-path-in-a-graph ."
   ]
  },
  {
   "cell_type": "code",
   "execution_count": 61,
   "metadata": {},
   "outputs": [
    {
     "name": "stdout",
     "output_type": "stream",
     "text": [
      "Longest Paths:\n",
      "   ('Pypar', 'Ygritte', 'Olly', 'Jon Snow', 'Night’s Watch brothers (final blow: Olly)')\n",
      "   ('Trystane Martell', 'Obara Sand', 'Euron Greyjoy', 'Jaime Lannister', 'Drogon')\n",
      "   ('Viserys Targaryen', 'Khal Drogo', 'Daenerys Targaryen', 'Jon Snow', 'Night’s Watch brothers (final blow: Olly)')\n",
      "   ('Ros', 'Joffrey Baratheon', 'Olenna Tyrell', 'Jaime Lannister', 'Drogon')\n",
      "   ('Rickard Karstark', 'Robb Stark', 'Roose Bolton', 'Ramsay Bolton', 'Sansa Stark')\n",
      "   ('The Spice King', 'Pyat Pree', 'Daenerys Targaryen', 'Jon Snow', 'Night’s Watch brothers (final blow: Olly)')\n",
      "Longest Path Length:\n",
      "5\n"
     ]
    }
   ],
   "source": [
    "from collections import defaultdict\n",
    "\n",
    "def DFS(G,v,seen=None,path=None):\n",
    "    if seen is None: seen = []\n",
    "    if path is None: path = [v]\n",
    "\n",
    "    seen.append(v)\n",
    "\n",
    "    paths = []\n",
    "    for t in G[v]:\n",
    "        if t not in seen:\n",
    "            t_path = path + [t]\n",
    "            paths.append(tuple(t_path))\n",
    "            paths.extend(DFS(G, t, seen[:], t_path))\n",
    "    return paths\n",
    "\n",
    "\n",
    "# Define graph by edges\n",
    "edges = list(set((x['character_killed'], x['killer']) for x in data if x['importance']>2))\n",
    "\n",
    "# Build graph dictionary\n",
    "G = defaultdict(list)\n",
    "for (s,t) in edges:\n",
    "    G[s].append(t)\n",
    "\n",
    "    \n",
    "# Run DFS, compute metrics\n",
    "if True:\n",
    "    all_paths = [p for ps in [DFS(G, n) for n in set(G)] for p in ps] # = DFS(G, xx)\n",
    "    try:\n",
    "        max_len = max(len(p) for p in all_paths)\n",
    "    except:\n",
    "        #continue\n",
    "        pass\n",
    "    max_paths = [p for p in all_paths if len(p) == max_len]\n",
    "\n",
    "    print(\"Longest Paths:\")\n",
    "    for p in max_paths: print(\"  \", p)\n",
    "    print(\"Longest Path Length:\")\n",
    "    print(max_len)"
   ]
  },
  {
   "cell_type": "markdown",
   "metadata": {},
   "source": [
    "## Σειρά 3, Μέρος Β\n",
    "\n",
    "Και επειδή πολύ μελαγχολικό ήταν το θέμα των ασκήσεων μέχρι στιγμής, θα ασχοληθούμε με κάτι πολύ πιο ευχάριστο όπως... η eurovision!\n",
    "Συγκεκριμένα θα ασχοληθούμε με τη [eurovision του 2016](https://en.wikipedia.org/wiki/Eurovision_Song_Contest_2016).\n",
    "\n",
    "Για όσους δεν το ξέρουν, κάθε χώρα βαθμολογεί μία άλλη χωρά με 1,2,3,4,5,6,7,8,10 ή 12 βαθμούς. \n",
    "Επίσης υπάρχουν δύο βαθμολογίες, αυτή του κοινού (televoting) και αυτή μιας ομάδας κριτών (jury).\n",
    "\n",
    "Για αρχή λοιπόν θα πρέπει να κατεβάσουμε τα επίσημα αποτελέσματα του τελικού:\n",
    "\n",
    "* Πηγαίνετε εδώ: https://eurovision.wetransfer.com/downloads/a1da4b5eb0395e58b71016dce076564a20170409152448/6754ae\n",
    "* Πατήστε \"I agree\" (αν φυσικά συμφωνείτε)\n",
    "* Επιλέξτε και κατεβάστε το αρχείο \"ESC-2016-grand_final-full_results.xls\", το οποίο περιέχει τις ψήφους για τον τελικό του 2016\n",
    "\n",
    "Στη συνέχεια μπορούμε να ανοίξουμε το αρχείο αυτό από python και να το επεξεργαστούμε ως εξής:\n",
    "\n",
    "```python\n",
    "import pandas as pd\n",
    "\n",
    "df = pd.read_excel('ESC-2016-grand_final-full_results.xls') # Αγνοήστε τα warnings..\n",
    "\n",
    "data = []\n",
    "\n",
    "for k,v in df.to_dict('index').items():\n",
    "    if k==0:\n",
    "        continue\n",
    "    \n",
    "    d = {\n",
    "        'from_country': v['Eurovision Song Contest 2016 Grand Final'],\n",
    "        'to_country': v['Unnamed: 1'],\n",
    "        'jury_points': 0 if v['Unnamed: 9']=='\\n' else int(v['Unnamed: 9']),\n",
    "        'televote_points': 0 if v['Unnamed: 10']=='\\n' else int(v['Unnamed: 10']),\n",
    "    }\n",
    "    \n",
    "    data.append(d)\n",
    "\n",
    "```\n",
    "\n",
    "Σημείωση: αν δεν έχετε pandas, μπορείτε να την εγκαταστήσετε με:\n",
    "```\n",
    "!pip install pandas \n",
    "```\n",
    "\n",
    "Αφού τρέξει λοιπόν αυτό, θα έχετε μία λίστα από dictionaries. Κάθε dictionary περιέχει πόσους πόντους έδωσε κάθε χώρα (from_country) σε κάθε χώρα (to_country). Κάθε χώρα έδωσε δύο ειδών βαθμούς: (1) από τους κριτές  (jury_points) και από το \"κοινό\" (televote_points).  Για παράδειγμα:\n",
    "\n",
    "```python\n",
    "data[1000]\n",
    "\n",
    "{'from_country': 'The Netherlands',\n",
    " 'to_country': 'France',\n",
    " 'jury_points': 5,\n",
    " 'televote_points': 4}\n",
    "```\n",
    "\n",
    "Η Ολλανδία έδωσε στη Γαλλία 5 πόντους σύμφωνα με τους κριτές και 4 πόντους σύμφωνα με το κοινό. \n",
    "\n",
    "Τώρα είμαστε έτοιμοι να απαντήσουμε σε μερικά καίρια ερωτήματα:\n"
   ]
  },
  {
   "cell_type": "code",
   "execution_count": 8,
   "metadata": {},
   "outputs": [
    {
     "name": "stdout",
     "output_type": "stream",
     "text": [
      "WARNING *** OLE2 inconsistency: SSCS size is 0 but SSAT size is non-zero\n"
     ]
    }
   ],
   "source": [
    "import pandas as pd\n",
    "\n",
    "df = pd.read_excel('ESC-2016-grand_final-full_results.xls') # Αγνοήστε τα warnings..\n",
    "\n",
    "data = []\n",
    "\n",
    "for k,v in df.to_dict('index').items():\n",
    "    if k==0:\n",
    "        continue\n",
    "    \n",
    "    d = {\n",
    "        'from_country': v['Eurovision Song Contest 2016 Grand Final'],\n",
    "        'to_country': v['Unnamed: 1'],\n",
    "        'jury_points': 0 if v['Unnamed: 9']=='\\n' else int(v['Unnamed: 9']),\n",
    "        'televote_points': 0 if v['Unnamed: 10']=='\\n' else int(v['Unnamed: 10']),\n",
    "    }\n",
    "    \n",
    "    data.append(d)"
   ]
  },
  {
   "cell_type": "markdown",
   "metadata": {},
   "source": [
    "### Άσκηση 3.13\n",
    "Εντοπίστε τα σκάνδαλα! Ποιες είναι οι 10 μεγαλύτερες διαφωνίες μεταξύ των ψήφων του κοινού και των ψήφων των κριτών; Πάρτε την απόλυτη διαφορά τους. "
   ]
  },
  {
   "cell_type": "code",
   "execution_count": 67,
   "metadata": {},
   "outputs": [
    {
     "data": {
      "text/plain": [
       "[(12,\n",
       "  {'from_country': 'Austria',\n",
       "   'to_country': 'Poland',\n",
       "   'jury_points': 0,\n",
       "   'televote_points': 12}),\n",
       " (12,\n",
       "  {'from_country': 'Belgium',\n",
       "   'to_country': 'Poland',\n",
       "   'jury_points': 0,\n",
       "   'televote_points': 12}),\n",
       " (12,\n",
       "  {'from_country': 'Cyprus',\n",
       "   'to_country': 'Bulgaria',\n",
       "   'jury_points': 0,\n",
       "   'televote_points': 12}),\n",
       " (12,\n",
       "  {'from_country': 'Czech Republic',\n",
       "   'to_country': 'Ukraine',\n",
       "   'jury_points': 0,\n",
       "   'televote_points': 12}),\n",
       " (12,\n",
       "  {'from_country': 'Estonia',\n",
       "   'to_country': 'Russia',\n",
       "   'jury_points': 0,\n",
       "   'televote_points': 12}),\n",
       " (12,\n",
       "  {'from_country': 'Finland',\n",
       "   'to_country': 'Ukraine',\n",
       "   'jury_points': 0,\n",
       "   'televote_points': 12}),\n",
       " (12,\n",
       "  {'from_country': 'France',\n",
       "   'to_country': 'Italy',\n",
       "   'jury_points': 12,\n",
       "   'televote_points': 0}),\n",
       " (12,\n",
       "  {'from_country': 'Georgia',\n",
       "   'to_country': 'Armenia',\n",
       "   'jury_points': 0,\n",
       "   'televote_points': 12}),\n",
       " (12,\n",
       "  {'from_country': 'Germany',\n",
       "   'to_country': 'Israel',\n",
       "   'jury_points': 12,\n",
       "   'televote_points': 0}),\n",
       " (12,\n",
       "  {'from_country': 'Germany',\n",
       "   'to_country': 'Russia',\n",
       "   'jury_points': 0,\n",
       "   'televote_points': 12})]"
      ]
     },
     "execution_count": 67,
     "metadata": {},
     "output_type": "execute_result"
    }
   ],
   "source": [
    "sorted([(abs(x['jury_points']-x['televote_points']), x) for x in data], key=lambda x:x[0], reverse=True)[:10]"
   ]
  },
  {
   "cell_type": "markdown",
   "metadata": {},
   "source": [
    "### Άσκηση 3.14\n",
    "Ποια χώρα είναι η πιο.. αδικημένη; Δηλαδή έχει τη μεγαλύτερη διαφορά μεταξύ των ψήφων του κοινού και των ψήφων των κριτών;"
   ]
  },
  {
   "cell_type": "code",
   "execution_count": 37,
   "metadata": {},
   "outputs": [
    {
     "data": {
      "text/plain": [
       "'Russia'"
      ]
     },
     "execution_count": 37,
     "metadata": {},
     "output_type": "execute_result"
    }
   ],
   "source": [
    "\n",
    "d = defaultdict(int)\n",
    "for x in data:\n",
    "    d[x['to_country']] += x['televote_points'] - x['jury_points']\n",
    "max(d, key=d.get)"
   ]
  },
  {
   "cell_type": "markdown",
   "metadata": {},
   "source": [
    "### Άσκηση 3.15\n",
    "Καθως έχουμε ψύχωση με τις αδικίες στη eurovision, θα προσπαθήσουμε να βρούμε τη πιο αδικημένη χώρα με έναν άλλο τρόπο:\n",
    "Έστω Α η κατάταξη μίας χώρας αν πάρουμε μόνο τις ψήφους του κοινού (δηλαδή αν Α=1 τότε είναι πρώτη). Έστω Β η κατάταξή της αν πάρουμε όλους τους ψήφους. Για ποια χώρα η διαφορά Β-Α είναι η μεγαλύτερη;"
   ]
  },
  {
   "cell_type": "code",
   "execution_count": 25,
   "metadata": {},
   "outputs": [
    {
     "data": {
      "text/plain": [
       "(7, 'Serbia')"
      ]
     },
     "execution_count": 25,
     "metadata": {},
     "output_type": "execute_result"
    }
   ],
   "source": [
    "from collections import defaultdict\n",
    "\n",
    "votes_a = defaultdict(int)\n",
    "votes_b = defaultdict(int)\n",
    "for x in data:\n",
    "    votes_a[x['to_country']] += x['televote_points']\n",
    "    votes_b[x['to_country']] += x['televote_points'] + x['jury_points']\n",
    "\n",
    "sorted_a = sorted(votes_a, key=lambda x:votes_a[x], reverse=True)\n",
    "sorted_b = sorted(votes_b, key=lambda x:votes_b[x], reverse=True)\n",
    "\n",
    "max((sorted_b.index(country)-sorted_a.index(country), country) for country in sorted_a)"
   ]
  },
  {
   "cell_type": "code",
   "execution_count": null,
   "metadata": {},
   "outputs": [],
   "source": []
  },
  {
   "cell_type": "markdown",
   "metadata": {},
   "source": [
    "### Άσκηση 3.16\n",
    "Φτιάξτε ένα dictionary: Τα keys είναι οι χώρες και τα values είναι λίστα με τις χώρες που ψήφισαν το key με φθίνουσα σειρά βαθμών (κριτές + κοινό) που έδωσαν. Για παράδειγμα αν d είναι το dictionary τότε θα πρέπει:\n",
    "\n",
    "```python\n",
    "print (d['Australia'])\n",
    "\n",
    "['Sweden',\n",
    " 'Albania',\n",
    " 'Denmark',\n",
    " 'Norway',\n",
    " 'Iceland',\n",
    " 'The Netherlands',\n",
    " 'Poland',\n",
    " 'Lithuania',\n",
    " 'Croatia',\n",
    " 'Belgium',\n",
    " 'Moldova',\n",
    " 'Malta',\n",
    " 'Israel',\n",
    " 'Hungary',\n",
    " 'Finland',\n",
    " 'Cyprus',\n",
    " 'Austria',\n",
    " 'United Kingdom',\n",
    " 'Estonia',\n",
    " 'Switzerland',\n",
    " 'Bulgaria',\n",
    " 'Bosnia & Herzegovina',\n",
    " 'Spain',\n",
    " 'Serbia',\n",
    " 'Greece',\n",
    " 'Latvia',\n",
    " 'Germany',\n",
    " 'F.Y.R. Macedonia',\n",
    " 'Ukraine',\n",
    " 'Slovenia',\n",
    " 'Georgia',\n",
    " 'Azerbaijan',\n",
    " 'Belarus',\n",
    " 'Russia',\n",
    " 'Italy',\n",
    " 'Ireland',\n",
    " 'France',\n",
    " 'San Marino',\n",
    " 'Armenia',\n",
    " 'Montenegro',\n",
    " 'Czech Republic']\n",
    "```\n"
   ]
  },
  {
   "cell_type": "code",
   "execution_count": 101,
   "metadata": {},
   "outputs": [],
   "source": [
    "d = defaultdict(list)\n",
    "\n",
    "for x in data:\n",
    "    d[x['to_country']].append((x['from_country'], x['televote_points'] + x['jury_points']))\n",
    "    \n",
    "d = {k: sorted(v, key=lambda x:x[1], reverse=True) for k,v in d.items()}\n",
    "d = {k: [x[0] for x in v] for k,v in d.items()}\n"
   ]
  },
  {
   "cell_type": "markdown",
   "metadata": {},
   "source": [
    "### Άσκηση 3.17\n",
    "Φτιάξτε ένα αρχείο \"votes.txt\". Το αρχείο θα πρέπει να έχει γραμμές τόσες όσες οι χώρες που πήραν μέρος στον τελικό, συν 1. Θα πρέπει να έχει στήλες τόσες όσες οι χώρες που ψήφισαν, συν 1.\n",
    "H πρώτη γραμμή θα έχει τη λίστα με όλες τις χώρες που ψήφισαν (με όποια σειρά θέλετε).\n",
    "Η πρώτη στήλη θα έχει τη λίστα με όλες τις χώρες που πήραν μέρος στον τελικό. \n",
    "Στη σημείο x,y (γραμμή x,y) θα έχει τους πόντους που έδωσε η χώρα y στη χώρα x. \n",
    "Χρησημοποιήστε το ',' για να διαχωρίσετε τα πεδία. Για παράδειγμα το αρχείο που θα φτιάξετε μπορεί να έχει αυτή τη μορφή:\n",
    "\n",
    "```text\n",
    "COUNTRY,Armenia,Australia,Austria,Azerbaijan,Belgium,Bulgaria,Croatia,Cyprus,Czech Republic,France,Georgia,Germany,Hungary,Israel,Italy,Latvia,Lithuania,Malta,Poland,Russia,Serbia,Spain,Sweden,The Netherlands,Ukraine,United Kingdom\n",
    "Armenia,0,0,2,0,7,20,4,16,8,14,12,2,1,8,1,6,4,7,2,24,5,18,4,10,7,0\n",
    "Australia,5,0,15,9,16,13,17,15,1,6,9,11,15,15,6,11,17,15,17,6,12,12,24,17,9,14\n",
    "Austria,4,3,0,0,8,4,6,0,4,16,0,7,6,3,0,4,1,0,4,8,0,2,5,14,0,0\n",
    "Azerbaijan,0,0,0,0,0,1,0,2,6,0,7,0,7,2,0,3,0,6,0,16,0,2,10,1,17,0\n",
    "Belgium,4,24,5,0,0,10,0,0,2,4,10,5,0,7,0,0,5,0,0,0,5,0,0,16,10,0\n",
    "Bulgaria,7,18,5,16,11,0,1,12,5,15,3,4,4,14,7,2,2,18,6,0,12,12,4,1,3,13\n",
    "Croatia,0,1,6,0,0,0,0,1,8,0,2,0,0,3,0,0,0,0,0,0,4,0,0,0,0,1\n",
    "Cyprus,12,0,0,0,0,7,1,0,0,0,0,0,5,0,7,0,0,5,1,11,3,0,0,0,0,9\n",
    "Czech Republic,1,0,4,0,1,0,10,0,0,0,0,0,2,0,0,0,0,0,4,0,0,0,3,0,0,0\n",
    "France,19,13,8,4,16,0,10,13,5,0,4,0,1,20,12,0,4,8,1,10,0,17,11,9,0,6\n",
    "Georgia,18,0,0,1,7,3,0,0,0,0,0,8,0,0,6,2,14,0,8,5,0,0,0,0,9,12\n",
    "Germany,0,0,2,0,0,0,0,0,0,0,1,0,0,0,0,0,0,0,0,0,0,0,0,0,0,0\n",
    "Hungary,3,0,0,11,0,0,8,8,13,0,2,0,0,0,0,0,2,5,6,1,10,10,0,0,2,0\n",
    "Israel,0,10,0,9,2,2,7,5,0,3,3,12,0,0,8,2,6,1,7,0,7,1,0,7,6,3\n",
    "Italy,0,0,0,0,10,0,3,3,0,12,0,4,0,0,0,0,0,15,0,0,0,8,0,6,0,0\n",
    "Latvia,0,0,0,0,0,0,0,0,1,0,13,2,8,5,0,0,19,0,11,4,0,0,0,0,13,3\n",
    "Lithuania,0,8,1,5,0,1,0,3,3,0,10,1,3,1,2,18,0,0,2,0,8,0,8,0,15,16\n",
    "Malta,13,6,10,11,0,7,0,6,6,4,0,0,10,0,5,4,0,0,0,8,10,6,7,0,0,0\n",
    "Poland,1,0,12,5,12,6,4,2,7,7,4,10,8,4,10,5,9,0,0,5,0,5,10,10,8,10\n",
    "Russia,14,5,11,24,6,18,14,22,10,7,8,12,10,10,8,19,8,14,8,0,13,12,14,3,12,7\n",
    "Serbia,0,0,4,0,0,5,14,0,0,0,0,0,0,0,4,0,0,0,0,0,0,0,0,0,0,2\n",
    "Spain,3,7,0,1,0,4,0,0,0,4,0,0,5,4,12,0,0,2,5,0,0,0,2,0,0,4\n",
    "Sweden,2,0,15,0,1,3,7,1,14,7,6,18,11,0,2,15,7,0,10,2,1,1,0,12,5,1\n",
    "The Netherlands,0,3,6,0,14,2,0,0,7,7,0,7,8,0,4,3,0,3,0,0,5,3,7,0,0,0\n",
    "Ukraine,10,10,10,20,5,10,10,7,12,10,22,13,12,20,22,22,18,4,24,10,19,7,7,10,0,15\n",
    "United Kingdom,0,8,0,0,0,0,0,0,4,0,0,0,0,0,0,0,0,13,0,6,2,0,0,0,0,0\n",
    "```"
   ]
  },
  {
   "cell_type": "code",
   "execution_count": null,
   "metadata": {},
   "outputs": [],
   "source": []
  },
  {
   "cell_type": "code",
   "execution_count": 35,
   "metadata": {},
   "outputs": [
    {
     "name": "stdout",
     "output_type": "stream",
     "text": [
      "Created votes.txt\n"
     ]
    }
   ],
   "source": [
    "def gen():\n",
    "    to_countries = sorted(list(set(x['to_country'] for x in data)))\n",
    "    from_countries = sorted(list(set(x['from_country'] for x in data)))\n",
    "\n",
    "    first_line = ['COUNTRY'] + from_countries\n",
    "    yield first_line\n",
    "    \n",
    "    for tc in to_countries:\n",
    "        line = [tc]\n",
    "        #print (tc)\n",
    "        for fc in from_countries:\n",
    "            if tc==fc:\n",
    "                line.append('0')\n",
    "            for x in data:\n",
    "                if x['to_country'] == tc and x['from_country'] ==fc:\n",
    "                    points = x['jury_points'] + x['televote_points']\n",
    "                    line.append(str(points))\n",
    "                    #if points ==15:\n",
    "                    #    print (x)\n",
    "                    #    a=1/0\n",
    "                    \n",
    "                    \n",
    "        yield line\n",
    "\n",
    "with open('votes.txt', 'w') as f:\n",
    "    for x in gen():\n",
    "        f.write(','.join(x) + '\\n')\n",
    "print ('Created votes.txt')"
   ]
  },
  {
   "cell_type": "code",
   "execution_count": 36,
   "metadata": {},
   "outputs": [
    {
     "name": "stdout",
     "output_type": "stream",
     "text": [
      "COUNTRY,Albania,Armenia,Australia,Austria,Azerbaijan,Belarus,Belgium,Bosnia & Herzegovina,Bulgaria,Croatia,Cyprus,Czech Republic,Denmark,Estonia,F.Y.R. Macedonia,Finland,France,Georgia,Germany,Greece,Hungary,Iceland,Ireland,Israel,Italy,Latvia,Lithuania,Malta,Moldova,Montenegro,Norway,Poland,Russia,San Marino,Serbia,Slovenia,Spain,Sweden,Switzerland,The Netherlands,Ukraine,United Kingdom\r\n",
      "Armenia,2,0,0,2,0,10,7,2,20,4,16,8,0,0,7,0,14,12,2,18,1,0,0,8,1,6,4,7,12,10,0,2,24,2,5,4,18,4,0,10,7,0\r\n",
      "Australia,24,5,0,15,9,7,16,13,13,17,15,1,20,14,11,15,6,9,11,12,15,18,6,15,6,11,17,15,15,4,18,17,6,5,12,9,12,24,13,17,9,14\r\n",
      "Austria,0,4,3,0,0,0,8,5,4,6,0,4,1,6,0,10,16,0,7,1,6,3,1,3,0,4,1,0,4,0,0,4,8,1,0,6,2,5,14,14,0,0\r\n",
      "Azerbaijan,0,0,0,0,0,10,0,9,1,0,2,6,0,0,1,0,0,7,0,1,7,1,0,2,0,3,0,6,8,7,0,0,16,0,0,0,2,10,0,1,17,0\r\n",
      "Belgium,0,4,24,5,0,4,0,0,10,0,0,2,16,0,8,0,4,10,5,0,0,6,12,7,0,0,5,0,0,3,7,0,0,0,5,8,0,0,10,16,10,0\r\n",
      "Bulgaria,12,7,18,5,16,5,11,5,0,1,12,5,6,0,20,4,15,3,4,7,4,0,15,14,7,2,2,18,2,7,13,6,0,3,12,12,12,4,1,1,3,13\r\n",
      "Croatia,0,0,1,6,0,0,0,14,0,0,1,8,0,0,11,0,0,2,0,0,0,7,0,3,0,0,0,0,1,6,0,0,0,0,4,8,0,0,0,0,0,1\r\n",
      "Cyprus,0,12,0,0,0,0,0,0,7,1,0,0,0,7,0,1,0,0,0,20,5,0,0,0,7,0,0,5,2,0,0,1,11,5,3,0,0,0,0,0,0,9\r\n",
      "Czech Republic,0,1,0,4,0,0,1,6,0,10,0,0,0,0,0,3,0,0,0,0,2,5,2,0,0,0,0,0,0,0,0,4,0,0,0,0,0,3,0,0,0,0\r\n",
      "France,10,19,13,8,4,0,16,11,0,10,13,5,2,3,0,4,0,4,0,10,1,7,3,20,12,0,4,8,6,6,1,1,10,0,0,0,17,11,3,9,0,6\r\n",
      "Georgia,0,18,0,0,1,0,7,0,3,0,0,0,0,0,0,0,0,0,8,5,0,0,0,0,6,2,14,0,0,0,0,8,5,6,0,0,0,0,0,0,9,12\r\n",
      "Germany,0,0,0,2,0,0,0,0,0,0,0,0,0,0,0,0,0,1,0,0,0,0,0,0,0,0,0,0,0,0,0,0,0,0,0,0,0,0,8,0,0,0\r\n",
      "Hungary,2,3,0,0,11,3,0,1,0,8,8,13,0,0,0,0,0,2,0,5,0,0,0,0,0,0,2,5,0,10,0,6,1,3,10,3,10,0,0,0,2,0\r\n",
      "Israel,3,0,10,0,9,0,2,0,2,7,5,0,2,0,5,7,3,3,12,0,0,0,4,0,8,2,6,1,0,0,3,7,0,0,7,2,1,0,8,7,6,3\r\n",
      "Italy,18,0,0,0,0,0,10,0,0,3,3,0,0,0,1,2,12,0,4,0,0,0,6,0,0,0,0,15,0,4,12,0,0,10,0,1,8,0,9,6,0,0\r\n",
      "Latvia,0,0,0,0,0,5,0,0,0,0,0,1,0,15,3,2,0,13,2,0,8,0,8,5,0,0,19,0,1,0,3,11,4,6,0,7,0,0,3,0,13,3\r\n",
      "Lithuania,4,0,8,1,5,10,0,0,1,0,3,3,11,10,0,6,0,10,1,0,3,4,12,1,2,18,0,0,7,2,14,2,0,8,8,0,0,8,7,0,15,16\r\n",
      "Malta,2,13,6,10,11,5,0,0,7,0,6,6,0,2,0,5,4,0,0,4,10,4,0,0,5,4,0,0,3,12,0,0,8,3,10,0,6,7,0,0,0,0\r\n",
      "Poland,5,1,0,12,5,6,12,0,6,4,2,7,5,1,2,5,7,4,10,3,8,10,10,4,10,5,9,0,0,1,11,0,5,7,0,4,5,10,5,10,8,10\r\n",
      "Russia,14,14,5,11,24,24,6,11,18,14,22,10,4,12,8,8,7,8,12,22,10,15,8,10,8,19,8,14,19,18,6,8,0,17,13,10,12,14,6,3,12,7\r\n",
      "Serbia,0,0,0,4,0,0,0,20,5,14,0,0,0,0,19,0,0,0,0,0,0,0,0,0,4,0,0,0,0,18,0,0,0,0,0,17,0,0,12,0,0,2\r\n",
      "Spain,6,3,7,0,1,0,0,0,4,0,0,0,1,0,0,0,4,0,0,0,5,0,0,4,12,0,0,2,8,0,7,5,0,0,0,0,0,2,2,0,0,4\r\n",
      "Sweden,3,2,0,15,0,10,1,0,3,7,1,14,16,22,0,22,7,6,18,0,11,18,7,0,2,15,7,0,6,0,7,10,2,4,1,5,1,0,0,12,5,1\r\n",
      "The Netherlands,0,0,3,6,0,0,14,0,2,0,0,7,14,6,2,10,7,0,7,0,8,18,8,0,4,3,0,3,0,0,6,0,0,4,5,1,3,7,5,0,0,0\r\n",
      "Ukraine,6,10,10,10,20,17,5,19,10,10,7,12,15,15,18,12,10,22,13,8,12,0,4,20,22,22,18,4,22,8,8,24,10,24,19,19,7,7,10,10,0,15\r\n",
      "United Kingdom,5,0,8,0,0,0,0,0,0,0,0,4,3,3,0,0,0,0,0,0,0,0,10,0,0,0,0,13,0,0,0,0,6,8,2,0,0,0,0,0,0,0\r\n"
     ]
    }
   ],
   "source": [
    "!cat votes.txt"
   ]
  },
  {
   "cell_type": "code",
   "execution_count": null,
   "metadata": {},
   "outputs": [],
   "source": []
  },
  {
   "cell_type": "markdown",
   "metadata": {},
   "source": [
    "### Άσκηση 3.18\n",
    "Φτιάξτε έναν generator ο οποίος θα κάνει generate [composite numbers](https://en.wikipedia.org/wiki/Composite_number). \n",
    "Ένας composite number είναι ένας αριθμός που ΔΕΝ είναι πρώτος.\n",
    "Για παράδειγμα, αν gen είναι ο generator που έχετε φτιάξει, θα πρέπει να μπορώ να γράψω:\n",
    "\n",
    "```python\n",
    "g = gen()     \n",
    "for i in range(10):\n",
    "    print (next(g))\n",
    "\n",
    "Τυπώνει:\n",
    "\n",
    "4\n",
    "6\n",
    "8\n",
    "9\n",
    "10\n",
    "12\n",
    "14\n",
    "15\n",
    "16\n",
    "18\n",
    "\n",
    "```"
   ]
  },
  {
   "cell_type": "markdown",
   "metadata": {},
   "source": [
    "### Άσκηση 3.19\n",
    "Χρησιμοποιώντας τον generator της άσκησης 18, γράψτε έναν άλλο generator ο οποίος τυπώνει το [τρέχων άθροισμα](https://en.wikipedia.org/wiki/Running_total) όλων των composite number. Δηλαδή τη πρώτη φορά τυπώνει 4, τη δεύτερη 4+6, τη τρίτη 4+6+8. Κτλ. Αν η μέθοδός σας υπολογίζει κάθε φορά ξανά όλους του composite numbers, θα είναι λάθος!\n",
    "\n",
    "Αν running_total είναι ο generator που έχετε φτιάξει, Θα πρέπει να μπορώ να γράφω:\n",
    "\n",
    "```python\n",
    "g = running_total()\n",
    "for i in range(10):\n",
    "    print (next(g))\n",
    "\n",
    "Τυπώνει:\n",
    "\n",
    "4\n",
    "10\n",
    "18\n",
    "27\n",
    "37\n",
    "49\n",
    "63\n",
    "78\n",
    "94\n",
    "112\n",
    "```"
   ]
  },
  {
   "cell_type": "code",
   "execution_count": 18,
   "metadata": {},
   "outputs": [
    {
     "name": "stdout",
     "output_type": "stream",
     "text": [
      "4\n",
      "10\n",
      "18\n",
      "27\n",
      "37\n",
      "49\n",
      "63\n",
      "78\n",
      "94\n",
      "112\n"
     ]
    }
   ],
   "source": [
    "def gen():\n",
    "    c = 3\n",
    "    while True:\n",
    "        for i in range(2, c):\n",
    "            if c%i==0:\n",
    "                yield c\n",
    "                break\n",
    "        c += 1\n",
    "        \n",
    "def r():\n",
    "    g = gen()\n",
    "    s = next(g)\n",
    "    while True:\n",
    "        yield s\n",
    "        s += next(g)\n",
    "        \n",
    "#g = gen()     \n",
    "g = r()\n",
    "for i in range(10):\n",
    "    print (next(g))"
   ]
  },
  {
   "cell_type": "markdown",
   "metadata": {},
   "source": [
    "Β' τρόπος:"
   ]
  },
  {
   "cell_type": "code",
   "execution_count": 19,
   "metadata": {},
   "outputs": [
    {
     "name": "stdout",
     "output_type": "stream",
     "text": [
      "4\n",
      "10\n",
      "18\n",
      "27\n",
      "37\n",
      "49\n",
      "63\n",
      "78\n",
      "94\n",
      "112\n"
     ]
    }
   ],
   "source": [
    "from itertools import accumulate\n",
    "\n",
    "g=accumulate(gen())\n",
    "\n",
    "for i in range(10):\n",
    "    print (next(g))"
   ]
  },
  {
   "cell_type": "code",
   "execution_count": null,
   "metadata": {},
   "outputs": [],
   "source": []
  },
  {
   "cell_type": "markdown",
   "metadata": {},
   "source": [
    "### Άσκηση 3.20 (Εξαιρετικά δύσκολη)\n",
    "Ο αριθμός 41 είναι πρώτος. Ο αριθμός 41 έχει και μια άλλη ιδιότητα. Μπορεί να γραφεί σαν άθροισμα από συνεχόμενους πρώτους:\n",
    "\n",
    "```text\n",
    "41 = 2 + 3 + 5 + 7 + 11 + 13\n",
    "```\n",
    "\n",
    "Επίσης παρατηρούμε ότι το πλήθος από συνεχόμενους πρώτους είναι: 6\n",
    "\n",
    "Αυτό είναι και το μεγαλύτερο πλήθος από συνεχόμενους πρώτους, που αν τους προσθέσεις θα βγεί πρώτος μικρότερος του 100. \n",
    "\n",
    "Ομοίως το μεγαλύτερο πλήθος από συνεχόμενους πρώτους που αν τους προσθέσεις θα βγει πρώτος μικρότερος του 1000, είναι 21, ενώ το άθροισμά τους είναι 953:\n",
    "\n",
    "```text\n",
    "953 = 7 + 11 + 13 + 17 + 19 + 23 + 29 + 31 + 37 + 41 + 43 + 47 + 53 + 59 + 61 + 67 + 71 + 73 + 79 + 83 + 89\n",
    "```\n",
    "\n",
    "\n",
    "Ποιος είναι ο πρώτος αριθμός, μικρότερος από το 1.000.000, που μπορεί να γραφεί σαν το μεγαλύτερο άθροισμα συνεχόμενων πρώτων αριθμών;\n",
    "\n",
    "Κάποια hints βρίσκονται εδώ: https://stackoverflow.com/questions/25696076/consecutive-prime-sum \n",
    "\n",
    "[πηγή](https://projecteuler.net/problem=50)"
   ]
  },
  {
   "cell_type": "code",
   "execution_count": 21,
   "metadata": {},
   "outputs": [],
   "source": [
    "import math\n",
    "\n",
    "def is_prime(n):\n",
    "    if n==1:\n",
    "        return True\n",
    "    \n",
    "    if n==2:\n",
    "        return True\n",
    "    \n",
    "    if n%2==0:\n",
    "        return False\n",
    "    \n",
    "    for i in range(3, int(math.sqrt(n))+1, 2):\n",
    "        if n%i==0:\n",
    "            return False\n",
    "        \n",
    "    return True\n",
    "\n",
    "def next_prime():\n",
    "    yield 2\n",
    "    start = 3\n",
    "    while True:\n",
    "        if is_prime(start):\n",
    "            yield start\n",
    "        start += 2\n",
    "\n",
    "\n",
    "def compute():\n",
    "    prime_generator = next_prime()\n",
    "    pl = [next(prime_generator) for i in range(100000)]\n",
    "    \n",
    "    start = 0\n",
    "    current_max = -1\n",
    "    \n",
    "    while True:\n",
    "        for i in range(start, len(pl)):\n",
    "            part = pl[start:i]\n",
    "            if len(part)<2:\n",
    "                continue\n",
    "            s = sum(part)\n",
    "            if s>1000000:\n",
    "                break\n",
    "                \n",
    "            if is_prime(s):\n",
    "                this_max = len(part)\n",
    "                if this_max > current_max:\n",
    "                    current_max = this_max\n",
    "                    #print (s, ' --> ', part)\n",
    "                    solution = (s, part)\n",
    "        \n",
    "        start += 1\n",
    "        if start == len(pl):\n",
    "            break\n",
    "\n",
    "    print (solution)"
   ]
  },
  {
   "cell_type": "code",
   "execution_count": 22,
   "metadata": {},
   "outputs": [
    {
     "name": "stdout",
     "output_type": "stream",
     "text": [
      "(997651, [7, 11, 13, 17, 19, 23, 29, 31, 37, 41, 43, 47, 53, 59, 61, 67, 71, 73, 79, 83, 89, 97, 101, 103, 107, 109, 113, 127, 131, 137, 139, 149, 151, 157, 163, 167, 173, 179, 181, 191, 193, 197, 199, 211, 223, 227, 229, 233, 239, 241, 251, 257, 263, 269, 271, 277, 281, 283, 293, 307, 311, 313, 317, 331, 337, 347, 349, 353, 359, 367, 373, 379, 383, 389, 397, 401, 409, 419, 421, 431, 433, 439, 443, 449, 457, 461, 463, 467, 479, 487, 491, 499, 503, 509, 521, 523, 541, 547, 557, 563, 569, 571, 577, 587, 593, 599, 601, 607, 613, 617, 619, 631, 641, 643, 647, 653, 659, 661, 673, 677, 683, 691, 701, 709, 719, 727, 733, 739, 743, 751, 757, 761, 769, 773, 787, 797, 809, 811, 821, 823, 827, 829, 839, 853, 857, 859, 863, 877, 881, 883, 887, 907, 911, 919, 929, 937, 941, 947, 953, 967, 971, 977, 983, 991, 997, 1009, 1013, 1019, 1021, 1031, 1033, 1039, 1049, 1051, 1061, 1063, 1069, 1087, 1091, 1093, 1097, 1103, 1109, 1117, 1123, 1129, 1151, 1153, 1163, 1171, 1181, 1187, 1193, 1201, 1213, 1217, 1223, 1229, 1231, 1237, 1249, 1259, 1277, 1279, 1283, 1289, 1291, 1297, 1301, 1303, 1307, 1319, 1321, 1327, 1361, 1367, 1373, 1381, 1399, 1409, 1423, 1427, 1429, 1433, 1439, 1447, 1451, 1453, 1459, 1471, 1481, 1483, 1487, 1489, 1493, 1499, 1511, 1523, 1531, 1543, 1549, 1553, 1559, 1567, 1571, 1579, 1583, 1597, 1601, 1607, 1609, 1613, 1619, 1621, 1627, 1637, 1657, 1663, 1667, 1669, 1693, 1697, 1699, 1709, 1721, 1723, 1733, 1741, 1747, 1753, 1759, 1777, 1783, 1787, 1789, 1801, 1811, 1823, 1831, 1847, 1861, 1867, 1871, 1873, 1877, 1879, 1889, 1901, 1907, 1913, 1931, 1933, 1949, 1951, 1973, 1979, 1987, 1993, 1997, 1999, 2003, 2011, 2017, 2027, 2029, 2039, 2053, 2063, 2069, 2081, 2083, 2087, 2089, 2099, 2111, 2113, 2129, 2131, 2137, 2141, 2143, 2153, 2161, 2179, 2203, 2207, 2213, 2221, 2237, 2239, 2243, 2251, 2267, 2269, 2273, 2281, 2287, 2293, 2297, 2309, 2311, 2333, 2339, 2341, 2347, 2351, 2357, 2371, 2377, 2381, 2383, 2389, 2393, 2399, 2411, 2417, 2423, 2437, 2441, 2447, 2459, 2467, 2473, 2477, 2503, 2521, 2531, 2539, 2543, 2549, 2551, 2557, 2579, 2591, 2593, 2609, 2617, 2621, 2633, 2647, 2657, 2659, 2663, 2671, 2677, 2683, 2687, 2689, 2693, 2699, 2707, 2711, 2713, 2719, 2729, 2731, 2741, 2749, 2753, 2767, 2777, 2789, 2791, 2797, 2801, 2803, 2819, 2833, 2837, 2843, 2851, 2857, 2861, 2879, 2887, 2897, 2903, 2909, 2917, 2927, 2939, 2953, 2957, 2963, 2969, 2971, 2999, 3001, 3011, 3019, 3023, 3037, 3041, 3049, 3061, 3067, 3079, 3083, 3089, 3109, 3119, 3121, 3137, 3163, 3167, 3169, 3181, 3187, 3191, 3203, 3209, 3217, 3221, 3229, 3251, 3253, 3257, 3259, 3271, 3299, 3301, 3307, 3313, 3319, 3323, 3329, 3331, 3343, 3347, 3359, 3361, 3371, 3373, 3389, 3391, 3407, 3413, 3433, 3449, 3457, 3461, 3463, 3467, 3469, 3491, 3499, 3511, 3517, 3527, 3529, 3533, 3539, 3541, 3547, 3557, 3559, 3571, 3581, 3583, 3593, 3607, 3613, 3617, 3623, 3631, 3637, 3643, 3659, 3671, 3673, 3677, 3691, 3697, 3701, 3709, 3719, 3727, 3733, 3739, 3761, 3767, 3769, 3779, 3793, 3797, 3803, 3821, 3823, 3833, 3847, 3851, 3853, 3863, 3877, 3881, 3889, 3907, 3911, 3917, 3919, 3923, 3929, 3931])\n"
     ]
    }
   ],
   "source": [
    "compute()"
   ]
  },
  {
   "cell_type": "markdown",
   "metadata": {},
   "source": [
    "## Σειρά 4"
   ]
  },
  {
   "cell_type": "markdown",
   "metadata": {},
   "source": [
    "### Άσκηση 4.1\n",
    "Γράψτε ένα regular expression το οποίο θα εξάγει όλα τα κομμάτια του κειμένου τα οποία βρίσκονται μεταξύ δύο αριθμών.\n",
    "Για παράδειγμα:\n",
    "    \n",
    "```\n",
    "228djj21  --> ['djj']\n",
    "421   a  d dd8 --> ['   a  d dd']\n",
    "abcdefg --> []\n",
    "fdsd2342dfdf --> []\n",
    "abcd123defg456kkk777 --> [defg, kkk]\n",
    "```"
   ]
  },
  {
   "cell_type": "code",
   "execution_count": null,
   "metadata": {},
   "outputs": [],
   "source": []
  },
  {
   "cell_type": "code",
   "execution_count": 5,
   "metadata": {},
   "outputs": [
    {
     "data": {
      "text/plain": [
       "[]"
      ]
     },
     "execution_count": 5,
     "metadata": {},
     "output_type": "execute_result"
    }
   ],
   "source": [
    "import re\n",
    "re.findall(r'[\\d]([^\\d]+?)[\\d]', 'abcdefg') # "
   ]
  },
  {
   "cell_type": "markdown",
   "metadata": {},
   "source": [
    "### Άσκηση 4.2\n",
    "Γράψτε ένα regular expression το οποίο θα μπορεί να εντοπίζει ελληνικά κινητά τηλέφωνα. Θα πρέπει να εντοπίζει μέσα σε ένα κείμενο τηλέφωνα όπως:\n",
    "\n",
    "```\n",
    "6912345678\n",
    "00306912345678\n",
    "+306912345678\n",
    "```\n",
    "\n",
    "ΔΕΝ θα πρέπει να εντοπίζει τηλέφωνα όπως:\n",
    "\n",
    "```\n",
    "691234567 # Δεν έχει 10 ψηφία\n",
    "7912345678 # Δεν αρχίζει από 69\n",
    "+316912345678 # Ο διεθνής κωδικός της Ελλάδας δεν είναι το +31 (είναι το +30)\n",
    "00316912345678 # Ο διεθνής κωδικός της Ελλάδας δεν είναι το +31 (είναι το +30)\n",
    "```\n"
   ]
  },
  {
   "cell_type": "code",
   "execution_count": 68,
   "metadata": {},
   "outputs": [
    {
     "data": {
      "text/plain": [
       "[('+306932323104', '+30')]"
      ]
     },
     "execution_count": 68,
     "metadata": {},
     "output_type": "execute_result"
    }
   ],
   "source": [
    "re.findall(r'[^\\d\\+]?((\\+30|0030)?69\\d{8})\\b', '+306932323104 jjj')"
   ]
  },
  {
   "cell_type": "code",
   "execution_count": 94,
   "metadata": {},
   "outputs": [
    {
     "data": {
      "text/plain": [
       "[('6932323104', '')]"
      ]
     },
     "execution_count": 94,
     "metadata": {},
     "output_type": "execute_result"
    }
   ],
   "source": [
    "re.findall(r'((\\+30|0030)?69\\d{8})\\b', '9996932323104 jjj')"
   ]
  },
  {
   "cell_type": "code",
   "execution_count": null,
   "metadata": {},
   "outputs": [],
   "source": []
  },
  {
   "cell_type": "code",
   "execution_count": null,
   "metadata": {},
   "outputs": [],
   "source": []
  },
  {
   "cell_type": "code",
   "execution_count": 3,
   "metadata": {},
   "outputs": [],
   "source": [
    "a = '''\n",
    "We try to quantitatively capture these characteristics by defining a set of indexes, which can be computed using the mosaic image and the corresponding ground truth:\n",
    "\\begin{itemize}\n",
    "    \\item $\\mu_{A_T}$ and $\\sigma_{A_T}$, the mean and standard deviation of the tiles area $A_T$, respectively;\n",
    "    \\item $\\rho_\\text{filler}$, the ratio between the filler area and the overall mosaic are, computed as $\\rho_\\text{filler}=\\frac{\\sum_{T \\in \\mathcal{T} A_T}}{A}$, being $A$ the area of the mosaic;\n",
    "    \\item \\todo{does it worth?};\n",
    "    \\item \\todo{does it worth?};\n",
    "    \\item $\\mu_{C_T}$, the mean of the tiles \\emph{color dispersion} $C_T$, being $C_T = \\sigma_R+\\sigma_G+\\sigma_B$, where $\\sigma_R$, $\\sigma_G$ and $\\sigma_B$ are the standard deviation of the red, green and blue channel values of the pixels within the tile $T$.\n",
    "After applying a method to an image, we compare the segmented image (i.e., the result) against the ground truth and assess the performance according to the following three metrics:\n",
    "\\begin{itemize}\n",
    "    \\item average tile precision $P$\n",
    "    \\item average tile recall $R$\n",
    "    \\item tile count error $C$\n",
    "\\end{itemize}\n",
    "Let $T$ be a tile on the ground truth $\\mathcal{T}$ with area $A_T$.\n",
    "Let $T'$ be the tile in the segmented image which mostly overlaps $T$ and let $A_{T'}$ be the area of $T$; let $A_{T \\cap T'}$ be the overlapping area between $T$ and $T'$.\n",
    "Let $n$ and $n'$ the number of tiles respectively in the ground truth and in the segmented image.\n",
    "Metrics are defined as:\n",
    "\\begin{align}\n",
    "    P &amp;= \\frac{1}{n} \\sum_{T \\in \\mathcal{T}} \\frac{A_{T \\cap T'}}{A_{T'}} \\\\\n",
    "    R &amp;= \\frac{1}{n} \\sum_{T \\in \\mathcal{T}} \\frac{A_{T \\cap T'}}{A_T} \\\\\n",
    "    C &amp;= \\frac{|n-n'|}{n}\n",
    "\\end{align}\n",
    "We try to quantitatively capture these characteristics by defining a set of indexes, which can be computed using the mosaic image and the corresponding ground truth:\n",
    "\\begin{itemize}\n",
    "    \\item $\\mu_{A_T}$ and $\\sigma_{A_T}$, the mean and standard deviation of the tiles area $A_T$, respectively;\n",
    "    \\item $\\rho_\\text{filler}$, the ratio between the filler area and the overall mosaic are, computed as $\\rho_\\text{filler}=\\frac{\\sum_{T \\in \\mathcal{T} A_T}}{A}$, being $A$ the area of the mosaic;\n",
    "    \\item \\todo{does it worth?};\n",
    "    \\item \\todo{does it worth?};\n",
    "    \\item $\\mu_{C_T}$, the mean of the tiles \\emph{color dispersion} $C_T$, being $C_T = \\sigma_R+\\sigma_G+\\sigma_B$, where $\\sigma_R$, $\\sigma_G$ and $\\sigma_B$ are the standard deviation of the red, green and blue channel values of the pixels within the tile $T$.\n",
    "After applying a method to an image, we compare the segmented image (i.e., the result) against the ground truth and assess the performance according to the following three metrics:\n",
    "\\begin{itemize}\n",
    "    \\item average tile precision $P$\n",
    "    \\item average tile recall $R$\n",
    "    \\item tile count error $C$\n",
    "\\end{itemize}\n",
    "Let $T$ be a tile on the ground truth $\\mathcal{T}$ with area $A_T$.\n",
    "Let $T'$ be the tile in the segmented image which mostly overlaps $T$ and let $A_{T'}$ be the area of $T$; let $A_{T \\cap T'}$ be the overlapping area between $T$ and $T'$.\n",
    "Let $n$ and $n'$ the number of tiles respectively in the ground truth and in the segmented image.\n",
    "Metrics are defined as:\n",
    "\\begin{align}\n",
    "    P &amp;= \\frac{1}{n} \\sum_{T \\in \\mathcal{T}} \\frac{A_{T \\cap T'}}{A_{T'}} \\\\\n",
    "    R &amp;= \\frac{1}{n} \\sum_{T \\in \\mathcal{T}} \\frac{A_{T \\cap T'}}{A_T} \\\\\n",
    "    C &amp;= \\frac{|n-n'|}{n}\n",
    "\\end{align}\n",
    "'''"
   ]
  },
  {
   "cell_type": "code",
   "execution_count": 6,
   "metadata": {},
   "outputs": [
    {
     "data": {
      "text/plain": [
       "['$\\\\mu_{A_T}$',\n",
       " '$\\\\sigma_{A_T}$',\n",
       " '$A_T$',\n",
       " '$\\rho_\\text{filler}$',\n",
       " '$\\rho_\\text{filler}=\\x0crac{\\\\sum_{T \\\\in \\\\mathcal{T} A_T}}{A}$',\n",
       " '$A$',\n",
       " '$\\\\mu_{C_T}$',\n",
       " '$C_T$',\n",
       " '$C_T = \\\\sigma_R+\\\\sigma_G+\\\\sigma_B$',\n",
       " '$\\\\sigma_R$',\n",
       " '$\\\\sigma_G$',\n",
       " '$\\\\sigma_B$',\n",
       " '$T$',\n",
       " '$P$',\n",
       " '$R$',\n",
       " '$C$',\n",
       " '$T$',\n",
       " '$\\\\mathcal{T}$',\n",
       " '$A_T$',\n",
       " \"$T'$\",\n",
       " '$T$',\n",
       " \"$A_{T'}$\",\n",
       " '$T$',\n",
       " \"$A_{T \\\\cap T'}$\",\n",
       " '$T$',\n",
       " \"$T'$\",\n",
       " '$n$',\n",
       " \"$n'$\",\n",
       " '$\\\\mu_{A_T}$',\n",
       " '$\\\\sigma_{A_T}$',\n",
       " '$A_T$',\n",
       " '$\\rho_\\text{filler}$',\n",
       " '$\\rho_\\text{filler}=\\x0crac{\\\\sum_{T \\\\in \\\\mathcal{T} A_T}}{A}$',\n",
       " '$A$',\n",
       " '$\\\\mu_{C_T}$',\n",
       " '$C_T$',\n",
       " '$C_T = \\\\sigma_R+\\\\sigma_G+\\\\sigma_B$',\n",
       " '$\\\\sigma_R$',\n",
       " '$\\\\sigma_G$',\n",
       " '$\\\\sigma_B$',\n",
       " '$T$',\n",
       " '$P$',\n",
       " '$R$',\n",
       " '$C$',\n",
       " '$T$',\n",
       " '$\\\\mathcal{T}$',\n",
       " '$A_T$',\n",
       " \"$T'$\",\n",
       " '$T$',\n",
       " \"$A_{T'}$\",\n",
       " '$T$',\n",
       " \"$A_{T \\\\cap T'}$\",\n",
       " '$T$',\n",
       " \"$T'$\",\n",
       " '$n$',\n",
       " \"$n'$\"]"
      ]
     },
     "execution_count": 6,
     "metadata": {},
     "output_type": "execute_result"
    }
   ],
   "source": [
    "import re\n",
    "re.findall(r'\\$.+?\\$', a)"
   ]
  },
  {
   "cell_type": "code",
   "execution_count": 7,
   "metadata": {},
   "outputs": [],
   "source": [
    "import random"
   ]
  },
  {
   "cell_type": "code",
   "execution_count": 9,
   "metadata": {},
   "outputs": [
    {
     "data": {
      "text/plain": [
       "'C'"
      ]
     },
     "execution_count": 9,
     "metadata": {},
     "output_type": "execute_result"
    }
   ],
   "source": [
    "random.choice('ACGT')"
   ]
  },
  {
   "cell_type": "code",
   "execution_count": 10,
   "metadata": {},
   "outputs": [],
   "source": [
    "random_reference = random.choice('ACGT')\n",
    "random_alternatve = random.choice('ACGT'.replace(random_reference, ''))"
   ]
  },
  {
   "cell_type": "code",
   "execution_count": 11,
   "metadata": {},
   "outputs": [
    {
     "data": {
      "text/plain": [
       "'C'"
      ]
     },
     "execution_count": 11,
     "metadata": {},
     "output_type": "execute_result"
    }
   ],
   "source": [
    "random_alternatve"
   ]
  },
  {
   "cell_type": "code",
   "execution_count": 12,
   "metadata": {},
   "outputs": [
    {
     "data": {
      "text/plain": [
       "'T'"
      ]
     },
     "execution_count": 12,
     "metadata": {},
     "output_type": "execute_result"
    }
   ],
   "source": [
    "random_reference"
   ]
  },
  {
   "cell_type": "code",
   "execution_count": 48,
   "metadata": {},
   "outputs": [
    {
     "data": {
      "text/plain": [
       "37"
      ]
     },
     "execution_count": 48,
     "metadata": {},
     "output_type": "execute_result"
    }
   ],
   "source": [
    "random.randint(1,70)"
   ]
  },
  {
   "cell_type": "code",
   "execution_count": 2,
   "metadata": {},
   "outputs": [],
   "source": [
    "import numpy as np\n",
    "np.set_printoptions(formatter={'float': lambda x: \"{0:0.3f}\".format(x)})"
   ]
  },
  {
   "cell_type": "code",
   "execution_count": null,
   "metadata": {},
   "outputs": [],
   "source": []
  },
  {
   "cell_type": "code",
   "execution_count": 22,
   "metadata": {},
   "outputs": [
    {
     "data": {
      "text/plain": [
       "array([[68.607, 57.794, 6.860, 42.121, 45.463, 11.623],\n",
       "       [78.102, 28.651, 59.486, 35.991, 49.990, 37.521],\n",
       "       [15.808, 86.282, 21.508, 57.628, 1.724, 43.339],\n",
       "       [46.475, 53.633, 31.491, 31.092, 4.151, 7.854],\n",
       "       [26.191, 1.303, 93.160, 4.478, 68.564, 10.005],\n",
       "       [52.135, 92.761, 86.838, 33.388, 19.144, 2.963],\n",
       "       [71.242, 70.332, 54.851, 34.600, 14.858, 47.796],\n",
       "       [25.934, 38.484, 37.016, 45.066, 98.750, 63.453],\n",
       "       [71.319, 0.634, 73.701, 34.180, 54.613, 15.191],\n",
       "       [70.551, 96.383, 57.531, 90.918, 87.184, 90.065]])"
      ]
     },
     "execution_count": 22,
     "metadata": {},
     "output_type": "execute_result"
    }
   ],
   "source": [
    "np.random.random((10,6))*100"
   ]
  },
  {
   "cell_type": "code",
   "execution_count": 24,
   "metadata": {},
   "outputs": [],
   "source": [
    "a = np.array([[8.017, 65.088, 87.134, 30.050, 58.340, 40.148],\n",
    "       [67.919, 43.463, 79.004, 91.098, 22.282, 92.925],\n",
    "       [35.850, 8.067, 55.315, 35.333, 84.915, 42.682],\n",
    "       [90.585, 91.515, 39.380, 8.990, 58.726, 23.867],\n",
    "       [56.745, 96.424, 50.007, 46.955, 72.845, 18.849],\n",
    "       [16.405, 38.923, 22.694, 96.561, 32.377, 77.826],\n",
    "       [42.870, 96.114, 89.887, 39.800, 68.252, 70.092],\n",
    "       [52.975, 40.269, 74.661, 54.489, 5.173, 98.359],\n",
    "       [75.736, 38.505, 87.102, 45.873, 38.369, 81.094],\n",
    "       [22.243, 3.135, 0.230, 39.588, 28.393, 62.661]])"
   ]
  },
  {
   "cell_type": "code",
   "execution_count": 29,
   "metadata": {},
   "outputs": [
    {
     "data": {
      "text/plain": [
       "array([17.316, 78.656, 86.415, 56.105, 91.859, 91.101])"
      ]
     },
     "execution_count": 29,
     "metadata": {},
     "output_type": "execute_result"
    }
   ],
   "source": [
    "np.random.random(6)*100"
   ]
  },
  {
   "cell_type": "markdown",
   "metadata": {},
   "source": [
    "### Άσκηση 4.13"
   ]
  },
  {
   "cell_type": "code",
   "execution_count": 43,
   "metadata": {},
   "outputs": [],
   "source": [
    "\n",
    "a = np.array([[8.017, 65.088, 87.134, 30.050, 58.340, 40.148],\n",
    "       [67.919, 43.463, 79.004, 91.098, 22.282, 92.925],\n",
    "       [35.850, 8.067, 55.315, 35.333, 84.915, 42.682],\n",
    "       [90.585, 91.515, 39.380, 8.990, 58.726, 23.867],\n",
    "       [56.745, 96.424, 50.007, 46.955, 72.845, 18.849],\n",
    "       [16.405, 38.923, 22.694, 96.561, 32.377, 77.826],\n",
    "       [42.870, 96.114, 89.887, 39.800, 68.252, 70.092],\n",
    "       [52.975, 40.269, 74.661, 54.489, 5.173, 98.359],\n",
    "       [75.736, 38.505, 87.102, 45.873, 38.369, 81.094],\n",
    "       [22.243, 3.135, 0.230, 39.588, 28.393, 62.661]])\n",
    "\n",
    "b = np.array([37.206, 43.282, 72.423, 85.898, 8.480, 9.290])"
   ]
  },
  {
   "cell_type": "code",
   "execution_count": 49,
   "metadata": {},
   "outputs": [
    {
     "data": {
      "text/plain": [
       "0"
      ]
     },
     "execution_count": 49,
     "metadata": {},
     "output_type": "execute_result"
    }
   ],
   "source": [
    "np.linalg.norm(a-b, axis=1).argmin()"
   ]
  },
  {
   "cell_type": "markdown",
   "metadata": {},
   "source": [
    "### Άσκηση 4.14\n",
    "Φτιάξτε μία συνάρτηση η οποία θα δέχεται μία παράμετρο ν. Η συνάρτηση θα πρέπει να επιστρέφει έναν πίνακα όπως φαίνεται από τα παρακάτω παραδείγματα:\n",
    "\n",
    "```\n",
    "ν=1\n",
    "1\n",
    "\n",
    "ν=2\n",
    "2 2 2\n",
    "2 1 2 \n",
    "2 2 2\n",
    "\n",
    "ν=3\n",
    "3 3 3 3 3 \n",
    "3 2 2 2 3\n",
    "3 2 1 2 3\n",
    "3 2 2 2 3\n",
    "3 3 3 3 3\n",
    "```\n",
    "\n",
    "κτλ..\n"
   ]
  },
  {
   "cell_type": "code",
   "execution_count": 70,
   "metadata": {},
   "outputs": [],
   "source": [
    "def f(n):\n",
    "    '''\n",
    "    Recursive function\n",
    "    '''\n",
    "    if n==1:\n",
    "        return np.array([[1]], dtype=np.int)\n",
    "    \n",
    "    a = np.ones((n*2-1, n*2-1), dtype=np.int)*n\n",
    "    b = f(n-1)\n",
    "    a[1:-1, 1:-1]=b\n",
    "    return a"
   ]
  },
  {
   "cell_type": "code",
   "execution_count": 71,
   "metadata": {},
   "outputs": [
    {
     "data": {
      "text/plain": [
       "array([[3, 3, 3, 3, 3],\n",
       "       [3, 2, 2, 2, 3],\n",
       "       [3, 2, 1, 2, 3],\n",
       "       [3, 2, 2, 2, 3],\n",
       "       [3, 3, 3, 3, 3]])"
      ]
     },
     "execution_count": 71,
     "metadata": {},
     "output_type": "execute_result"
    }
   ],
   "source": [
    "f(3)"
   ]
  },
  {
   "cell_type": "code",
   "execution_count": null,
   "metadata": {},
   "outputs": [],
   "source": []
  },
  {
   "cell_type": "markdown",
   "metadata": {},
   "source": [
    "### Άσκηση 4.15\n",
    "Σε ποιο λουλούδι ανήκει το μεγαλύτερο sepal_width;"
   ]
  },
  {
   "cell_type": "code",
   "execution_count": 7,
   "metadata": {},
   "outputs": [],
   "source": [
    "import numpy as np\n",
    "\n",
    "url = 'https://archive.ics.uci.edu/ml/machine-learning-databases/iris/iris.data'\n",
    "iris = np.genfromtxt(url, delimiter=',', dtype='object')\n",
    "sepal_length = np.array([float(row[0]) for row in iris])\n",
    "sepal_width = np.array([float(row[1]) for row in iris])\n",
    "petal_length = np.array([float(row[2]) for row in iris])\n",
    "petal_width = np.array([float(row[3]) for row in iris])\n",
    "flower = [{b'Iris-setosa': 0, b'Iris-versicolor': 1, b'Iris-virginica': 2}[row[4]] for row in iris]"
   ]
  },
  {
   "cell_type": "code",
   "execution_count": null,
   "metadata": {},
   "outputs": [],
   "source": []
  },
  {
   "cell_type": "code",
   "execution_count": 11,
   "metadata": {},
   "outputs": [
    {
     "data": {
      "text/plain": [
       "0"
      ]
     },
     "execution_count": 11,
     "metadata": {},
     "output_type": "execute_result"
    }
   ],
   "source": [
    "flower[np.argmax(sepal_width)]"
   ]
  },
  {
   "cell_type": "markdown",
   "metadata": {},
   "source": [
    "### Άσκηση 4.16\n",
    "Ποιος είναι ο μέσος όρος του petal_width ανά διαφορετικό είδος λουλουδιού (δλδ θέλουμε 3 νούμερα);"
   ]
  },
  {
   "cell_type": "code",
   "execution_count": 15,
   "metadata": {},
   "outputs": [
    {
     "data": {
      "text/plain": [
       "0.244"
      ]
     },
     "execution_count": 15,
     "metadata": {},
     "output_type": "execute_result"
    }
   ],
   "source": [
    "petal_width[np.array(flower)==0].mean()"
   ]
  },
  {
   "cell_type": "code",
   "execution_count": 16,
   "metadata": {},
   "outputs": [
    {
     "data": {
      "text/plain": [
       "1.3259999999999998"
      ]
     },
     "execution_count": 16,
     "metadata": {},
     "output_type": "execute_result"
    }
   ],
   "source": [
    "petal_width[np.array(flower)==1].mean()"
   ]
  },
  {
   "cell_type": "code",
   "execution_count": 17,
   "metadata": {},
   "outputs": [
    {
     "data": {
      "text/plain": [
       "2.0260000000000002"
      ]
     },
     "execution_count": 17,
     "metadata": {},
     "output_type": "execute_result"
    }
   ],
   "source": [
    "petal_width[np.array(flower)==2].mean()"
   ]
  },
  {
   "cell_type": "markdown",
   "metadata": {},
   "source": [
    "### Άσκηση 4.17\n",
    "Πόσα Iris-setosa, πόσα Iris-versicolor και πόσα Iris-virginica λουλούδια υπάρχουν που το petal_length είναι μεγαλύτερο από το sepal_width;"
   ]
  },
  {
   "cell_type": "code",
   "execution_count": 21,
   "metadata": {},
   "outputs": [
    {
     "data": {
      "text/plain": [
       "0"
      ]
     },
     "execution_count": 21,
     "metadata": {},
     "output_type": "execute_result"
    }
   ],
   "source": [
    "(petal_length[np.array(flower)==0] > sepal_width[np.array(flower)==0]).sum()"
   ]
  },
  {
   "cell_type": "code",
   "execution_count": 22,
   "metadata": {},
   "outputs": [
    {
     "data": {
      "text/plain": [
       "50"
      ]
     },
     "execution_count": 22,
     "metadata": {},
     "output_type": "execute_result"
    }
   ],
   "source": [
    "(petal_length[np.array(flower)==1] > sepal_width[np.array(flower)==1]).sum()"
   ]
  },
  {
   "cell_type": "code",
   "execution_count": 23,
   "metadata": {},
   "outputs": [
    {
     "data": {
      "text/plain": [
       "50"
      ]
     },
     "execution_count": 23,
     "metadata": {},
     "output_type": "execute_result"
    }
   ],
   "source": [
    "(petal_length[np.array(flower)==2] > sepal_width[np.array(flower)==2]).sum()"
   ]
  },
  {
   "cell_type": "markdown",
   "metadata": {},
   "source": [
    "### Άσκηση 4.18\n",
    "Ας υποθέσουμε ότι πετάμε 100,000 βελάκια σε μία επιφάνεια 1 χ 1 μέτρο. Υποθέτουμε ότι είμαστε.. άμπαλοι και ότι ένα βελάκι μπορεί να πάει σε οποιοδίποτε σημείο της επιφάνειας με ίδια πιθανότητα. Ποιο είναι το ποσοστό των βελακίων τα οποία έχουν απόσταση μικρότερη ή ίση με 1 μέτρο από το κέντρο της επιφάνειας;\n",
    "\n",
    "Πόσο κάνει αυτό το ποσοστό αν το πολλαπλασιάσουμε επί 4;"
   ]
  },
  {
   "cell_type": "code",
   "execution_count": 42,
   "metadata": {},
   "outputs": [
    {
     "data": {
      "text/plain": [
       "3.1402"
      ]
     },
     "execution_count": 42,
     "metadata": {},
     "output_type": "execute_result"
    }
   ],
   "source": [
    "N=100000\n",
    "4*(np.linalg.norm(  np.random.random((N, 2))  , axis=1)<1).sum()/N"
   ]
  },
  {
   "cell_type": "code",
   "execution_count": null,
   "metadata": {},
   "outputs": [],
   "source": []
  },
  {
   "cell_type": "code",
   "execution_count": 67,
   "metadata": {},
   "outputs": [
    {
     "data": {
      "text/plain": [
       "785728"
      ]
     },
     "execution_count": 67,
     "metadata": {},
     "output_type": "execute_result"
    }
   ],
   "source": [
    "import math\n",
    "sum(1 for x in range(1000000) if math.sqrt(random.random()**2 + random.random()**2) <= 1)"
   ]
  },
  {
   "cell_type": "code",
   "execution_count": 59,
   "metadata": {},
   "outputs": [
    {
     "data": {
      "text/plain": [
       "0.785"
      ]
     },
     "execution_count": 59,
     "metadata": {},
     "output_type": "execute_result"
    }
   ],
   "source": [
    "3.14*0.5*0.5"
   ]
  },
  {
   "cell_type": "code",
   "execution_count": 69,
   "metadata": {},
   "outputs": [
    {
     "data": {
      "text/plain": [
       "3.142912"
      ]
     },
     "execution_count": 69,
     "metadata": {},
     "output_type": "execute_result"
    }
   ],
   "source": [
    "(785728/1000000)*4"
   ]
  },
  {
   "cell_type": "markdown",
   "metadata": {},
   "source": [
    "### Άσκηση 4.19 + 4.20\n",
    "Δίνεται η παρακάτω συνάρτηση:\n",
    "\n",
    "```python\n",
    "import hashlib \n",
    "def unique_8x8(s):\n",
    "      \n",
    "    result = hashlib.md5(s.encode()) \n",
    "    h = result.hexdigest()[-16:]\n",
    "    l = ['{a:0>8b}'.format(a=bytearray.fromhex(h[i:i+2])[0]) for i in range(0, len(h), 2)]\n",
    "    \n",
    "    k = np.array([[int(y) for y in x] for x in l])\n",
    "    return k\n",
    "```\n",
    "\n",
    "Αυτή η συνάρτηση παίρνει ένα string και επιστρέφει έναν numpy array 8x8 μοναδικό για αυτό το string ο οποίος αποτελείται από 0 και 1. Για παράδειγμα:\n",
    "\n",
    "```python\n",
    "unique_8x8('mitsos')\n",
    "\n",
    "array([[1, 1, 1, 1, 1, 0, 0, 1],\n",
    "       [0, 1, 1, 1, 1, 1, 1, 1],\n",
    "       [0, 1, 1, 0, 0, 0, 0, 1],\n",
    "       [1, 0, 1, 0, 1, 1, 1, 1],\n",
    "       [1, 1, 0, 0, 1, 0, 0, 1],\n",
    "       [1, 0, 0, 1, 1, 0, 1, 0],\n",
    "       [1, 0, 0, 0, 0, 1, 1, 0],\n",
    "       [0, 0, 0, 0, 1, 1, 0, 0]])\n",
    "```\n",
    "\n",
    "Ας φανταστούμε ότι έχουμε ένα τετραγωνικό κομμάτι χαρτί (το πλάτος είναι ίδιο με το μήκος). Στο χαρτί ζωγραφίζουμε ένα grid 256 Χ 256. Χωρίζουμε την επιφάνεια δηλαδή σε 256 Χ 256 μικρά τετραγωνάκια. \n",
    "\n",
    "Τώρα διπλώνουμε το χαρτί στα δύο, φέρνοντας την αριστερή πλευρά του πάνω στη δεξιά. Τώρα το grid έγινε 256 Χ 128\n",
    "\n",
    "Τώρα διπλώνουμε το χαρτί στα δύο ξανά φέρνοντας την πάνω πλευρά του πάνω στη κάτω. Τώρα το grid έγινε 128 Χ 128\n",
    "\n",
    "Αν επαναλάβουμε τις παραπάνω δύο ενέργειες, τότε το grid θα γίνει 64 Χ 64\n",
    "\n",
    "Αν το επαναλάβουμε ακόμα μία φορά το grid θα γίνει 32 Χ 32\n",
    "\n",
    "Αν το επαναλάβουμε ακόμα μία φορά το grid θα γίνει 16 Χ 16\n",
    "\n",
    "Τέλος, αν το επαναλάβουμε μία τελευταία φορά θα γίνει 8 Χ 8\n",
    "\n",
    "Στη συνέχεια χρησιμοποιήστε τη συνάρτηση unique_8x8 με το όνομά σας για να φτιάξετε έναν μοναδικό για εσάς 8 Χ 8 πίνακα.\n",
    "\n",
    "Τώρα στο 8 Χ 8 grid που έχει μείνει στο διπλωμένο χαρτί, αντιγράφουμε τον πίνακα αυτό.\n",
    "\n",
    "Με ένα ψαλίδι αφαιρούμε τα τετραγωνάκια που έχουν 0. Τα τετραγωνάκια που έχουν 1 τα αφήνουμε. \n",
    "\n",
    "Ξεδιπλώστε τη σελίδα ώστε να πάρει τα αρχικό της μέγεθος (256 Χ 256)\n",
    "\n",
    "Αν τα τετραγωνάκια που τρυπήσαμε τα αναπαραστήσουμε με μαύρο και αυτά που δεν τρυπήσαμε τα αναπαραστήσουμε με άσπρο, πως θα φαίνεται η σελίδα σας;\n",
    "\n",
    "Χρησιμοποιήστε τη ```plt.imshow(a)``` για να δείξετε τον τελικό πίνακα που περιέχει τη σελίδα σας. \n",
    "\n",
    "Hint: https://docs.scipy.org/doc/numpy/reference/generated/numpy.flip.html \n",
    "\n",
    "Για το φανταστικό όνομά μου (Αλέξανδρος Καντεράκης), αυτό που παρήγαγε αυτή η μέθοδος είναι (εδώ έχω χρησιμοποιείσει το default colormap, για να το δείξετε άσπρο μαύρο κάντε: ```plt.imshow(a, cmap='gray')``` ):\n",
    "\n",
    "![img](alex.png)"
   ]
  },
  {
   "cell_type": "code",
   "execution_count": 1,
   "metadata": {},
   "outputs": [],
   "source": [
    "import numpy as np\n",
    "import matplotlib.pyplot as plt\n",
    "\n",
    "def f_4_19(a, action):\n",
    "    \n",
    "    d = a.shape\n",
    "    if action=='l':\n",
    "        r = np.zeros((d[0], d[1]*2))\n",
    "        r[:,:d[1]] = np.flip(a, 1)\n",
    "        r[:,d[1]:] = a\n",
    "    elif action=='r':\n",
    "        r = np.zeros((d[0], d[1]*2))\n",
    "        r[:,:d[1]] = a\n",
    "        r[:,d[1]:] = np.flip(a, 1)\n",
    "    elif action == 'u':\n",
    "        r = np.zeros((d[0]*2, d[1]))\n",
    "        r[:d[0], :] = np.flip(a,0)\n",
    "        r[d[0]:, :] = a\n",
    "    elif action == 'd':\n",
    "        r = np.zeros((d[0]*2, d[1]))\n",
    "        r[:d[0], :] = a\n",
    "        r[d[0]:, :] = np.flip(a,0)\n",
    "    \n",
    "    return r\n",
    "\n",
    "import hashlib \n",
    "def unique_8x8(s):\n",
    "      \n",
    "    result = hashlib.md5(s.encode()) \n",
    "    h = result.hexdigest()[-16:]\n",
    "    l = ['{a:0>8b}'.format(a=bytearray.fromhex(h[i:i+2])[0]) for i in range(0, len(h), 2)]\n",
    "    \n",
    "    k = np.array([[int(y) for y in x] for x in l])\n",
    "    return k\n",
    "    \n",
    "def f_4_19_2(s):\n",
    "    \n",
    "    \n",
    "    a = unique_8x8(s)\n",
    "    #a = np.zeros((8,8))\n",
    "    #a = np.random.randint(0,2, (8,8))\n",
    "    #a = np.random.random((16,16))\n",
    "    #print (a)\n",
    "\n",
    "    a = f_4_19(a, 'l')\n",
    "    a = f_4_19(a, 'u')\n",
    "\n",
    "    a = f_4_19(a, 'l')\n",
    "    a = f_4_19(a, 'u')\n",
    "    \n",
    "    a = f_4_19(a, 'l')\n",
    "    a = f_4_19(a, 'u')\n",
    "\n",
    "    a = f_4_19(a, 'l')\n",
    "    a = f_4_19(a, 'u')\n",
    "\n",
    "    a = f_4_19(a, 'l')\n",
    "    a = f_4_19(a, 'u')\n",
    "\n",
    "    #plt.figure(figsize = (20,20))\n",
    "    plt.imshow(a, cmap='gray')\n",
    "    \n",
    "    "
   ]
  },
  {
   "cell_type": "code",
   "execution_count": 171,
   "metadata": {},
   "outputs": [
    {
     "data": {
      "text/plain": [
       "array([[1, 1, 1, 1, 1, 0, 0, 1],\n",
       "       [0, 1, 1, 1, 1, 1, 1, 1],\n",
       "       [0, 1, 1, 0, 0, 0, 0, 1],\n",
       "       [1, 0, 1, 0, 1, 1, 1, 1],\n",
       "       [1, 1, 0, 0, 1, 0, 0, 1],\n",
       "       [1, 0, 0, 1, 1, 0, 1, 0],\n",
       "       [1, 0, 0, 0, 0, 1, 1, 0],\n",
       "       [0, 0, 0, 0, 1, 1, 0, 0]])"
      ]
     },
     "execution_count": 171,
     "metadata": {},
     "output_type": "execute_result"
    }
   ],
   "source": [
    "unique_8x8('mitsos')"
   ]
  },
  {
   "cell_type": "code",
   "execution_count": null,
   "metadata": {},
   "outputs": [],
   "source": []
  },
  {
   "cell_type": "code",
   "execution_count": 101,
   "metadata": {},
   "outputs": [
    {
     "data": {
      "image/png": "[encoded data removed]",
      "text/plain": [
       "<Figure size 432x288 with 1 Axes>"
      ]
     },
     "metadata": {
      "needs_background": "light"
     },
     "output_type": "display_data"
    }
   ],
   "source": [
    "f_4_19_2('Κλάρα')"
   ]
  },
  {
   "cell_type": "markdown",
   "metadata": {},
   "source": [
    "# Σειρά 5"
   ]
  },
  {
   "cell_type": "markdown",
   "metadata": {},
   "source": [
    "### Άσκηση 5.1"
   ]
  },
  {
   "cell_type": "code",
   "execution_count": 96,
   "metadata": {},
   "outputs": [],
   "source": [
    "import os\n",
    "import matplotlib\n",
    "from matplotlib.patches import Circle, Wedge, Polygon, Rectangle\n",
    "from matplotlib.collections import PatchCollection\n",
    "import matplotlib.pyplot as plt\n",
    "\n",
    "def karyoplot(karyo_filename, metadata={}, part=1):\n",
    "\t'''\n",
    "\tTo create a karyo_filename go to: http://genome.ucsc.edu/cgi-bin/hgTables \n",
    "\tgroup: Mapping and Sequencing\n",
    "\ttrack: Chromosome Band \n",
    "\tAn example of an output (hg19, Human) is here: http://pastebin.com/6nBX6sdE \n",
    "\tThe script will plot dots next to loci defined in metadata as:\n",
    "\tmetadata = {\n",
    "\t\t'1' : [2300000, 125000000, 249250621],\n",
    "\t}\n",
    "\t'''\n",
    "\n",
    "\n",
    "\tkaryo_dict={}\n",
    "\twith open(karyo_filename) as karyo_f:\n",
    "\t\tlines = [x.replace(os.linesep, '').split() for x in karyo_f.readlines()]\n",
    "\n",
    "\t\tfor chromosome in [str(x) for x in range(1,23)] + ['X', 'Y']:\n",
    "\t\t\tkaryo_dict[chromosome] = [[y[0], int(y[1]), int(y[2]), y[3], y[4]] for y in [x for x in lines if x[0] == 'chr' + chromosome]]\n",
    "\n",
    "\tfig, ax = plt.subplots()\n",
    "\n",
    "\tDIM = 1.0\n",
    "\n",
    "\tax.set_xlim([0.0, DIM * (1.3)])\n",
    "\tax.set_ylim([0.0, DIM])\n",
    "\n",
    "\tdef get_chromosome_length(chromosome):\n",
    "\t\tchromosome_start = float(min([x[1] for x in karyo_dict[chromosome]]))\n",
    "\t\tchromosome_end = float(max(x[2] for x in karyo_dict[chromosome]))\n",
    "\t\tchromosome_length = chromosome_end - chromosome_start\n",
    "\n",
    "\t\treturn chromosome_length\n",
    "\n",
    "\tdef plot_chromosome(chromosome, order):\n",
    "\n",
    "\t\tchromosome_length = get_chromosome_length(chromosome)\n",
    "\t\tchromosome_length_1 = get_chromosome_length('1')\n",
    "\n",
    "\t\tx_start = order * DIM * 0.1 \n",
    "\t\tx_end = x_start + (DIM * 0.04)\n",
    "\t\ty_start = DIM * 0.8 * (chromosome_length/chromosome_length_1)\n",
    "\t\ty_end = DIM * 0.1\n",
    "\n",
    "\n",
    "\t\t# We use the same colors as: http://circos.ca/tutorials/lessons/2d_tracks/connectors/configuration \n",
    "\t\tcolors = {\n",
    "\t\t\t'gpos100' : (0/255.0,0/255.0,0/255.0),\n",
    "\t\t\t'gpos'    : (0/255.0,0/255.0,0/255.0),\n",
    "\t\t\t'gpos75'  : (130/255.0,130/255.0,130/255.0),\n",
    "\t\t\t'gpos66'  : (160/255.0,160/255.0,160/255.0),\n",
    "\t\t\t'gpos50'  : (200/255.0,200/255.0,200/255.0),\n",
    "\t\t\t'gpos33'  : (210/255.0,210/255.0,210/255.0),\n",
    "\t\t\t'gpos25'  : (200/255.0,200/255.0,200/255.0),\n",
    "\t\t\t'gvar'    : (220/255.0,220/255.0,220/255.0),\n",
    "\t\t\t'gneg'    : (255/255.0,255/255.0,255/255.0),\n",
    "\t\t\t'acen'    : (217/255.0,47/255.0,39/255.0),\n",
    "\t\t\t'stalk'   : (100/255.0,127/255.0,164/255.0),\n",
    "\t\t}\n",
    "\n",
    "\t\tfor index, piece in enumerate(karyo_dict[chromosome]):\n",
    "\n",
    "\t\t\tcurrent_height = piece[2] - piece[1]\n",
    "\t\t\tcurrent_height_sc = ((y_end - y_start) / chromosome_length) * current_height\n",
    "\t\t\tif index == 0:\n",
    "\t\t\t\ty_previous = y_start\n",
    "\n",
    "\t\t\ty_next = y_previous + current_height_sc\n",
    "\n",
    "\t\t\tcolor = colors[piece[4]]\n",
    "\n",
    "\t\t\t#plot the caryotypes\n",
    "\t\t\tr = Rectangle((x_start, y_previous), x_end-x_start, current_height_sc, color = color)\n",
    "\t\t\tax.add_patch(r)\n",
    "\n",
    "\t\t\ty_previous = y_next\n",
    "\n",
    "\t\t#Plot semicircles at the beginning and end of the chromosomes\n",
    "\t\tcenter_x = x_start + (x_end-x_start)/2.0\n",
    "\t\tradius = (x_end-x_start)/2.0\n",
    "\t\ttheta1 = 0.0\n",
    "\t\ttheta2 = 180.0\n",
    "\t\tw1 = Wedge((center_x, y_start), radius, theta1, theta2, width=0.00001, facecolor='white', edgecolor='black')\n",
    "\t\tw2 = Wedge((center_x, y_end), radius, theta2, theta1, width=0.00001, facecolor='white', edgecolor='black')\n",
    "\t\tax.add_patch(w1)\n",
    "\t\tax.add_patch(w2)\n",
    "\t\tax.plot([x_start, x_start], [y_start, y_end], ls='-', color='black')\n",
    "\t\tax.plot([x_end, x_end], [y_start, y_end], ls='-', color='black')\n",
    "\n",
    "\t\t#Plot metadata\n",
    "\t\tif chromosome in metadata:\n",
    "\t\t\tfor md in metadata[chromosome]:\n",
    "\t\t\t\tax.plot([x_end + (DIM*0.015)], [y_start + (y_end-y_start) * (md/chromosome_length)], '.', color='black')\n",
    "\n",
    "\t\tax.text(center_x, y_end - (DIM * 0.07), chromosome)\n",
    "\n",
    "\tif part==1:\n",
    "\t\tplot_chromosome('1', 1)\n",
    "\t\tplot_chromosome('2', 2)\n",
    "\t\tplot_chromosome('3', 3)\n",
    "\t\tplot_chromosome('4', 4)\n",
    "\t\tplot_chromosome('5', 5)\n",
    "\t\tplot_chromosome('6', 6)\n",
    "\t\tplot_chromosome('7', 7)\n",
    "\t\tplot_chromosome('8', 8)\n",
    "\t\tplot_chromosome('9', 9)\n",
    "\t\tplot_chromosome('10', 10)\n",
    "\t\tplot_chromosome('11', 11)\n",
    "\t\tplot_chromosome('12', 12)\n",
    "\n",
    "\n",
    "\telif part==2:\n",
    "\t\tplot_chromosome('13', 1)\n",
    "\t\tplot_chromosome('14', 2)\n",
    "\t\tplot_chromosome('15', 3)\n",
    "\t\tplot_chromosome('16', 4)\n",
    "\t\tplot_chromosome('17', 5)\n",
    "\t\tplot_chromosome('18', 6)\n",
    "\t\tplot_chromosome('19', 7)\n",
    "\t\tplot_chromosome('20', 8)\n",
    "\t\tplot_chromosome('21', 9)\n",
    "\t\tplot_chromosome('22', 10)\n",
    "\t\tplot_chromosome('X', 11)\n",
    "\t\tplot_chromosome('Y', 12)\n",
    "\n",
    "\telse:\n",
    "\t\traise Exception('plot argument should be either \"1\" or \"2\"')\n",
    "\n",
    "\tplt.axis('off')\n",
    "\tplt.show()\n",
    "\n",
    "def do():\n",
    "\timport urllib\n",
    "\tfn = 'karyotype_hg19.txt'\n",
    "\turl = 'http://pastebin.com/raw.php?i=6nBX6sdE'\n",
    "\tif not os.path.exists(fn):\n",
    "\t\tprint ('Downloading %s to local file: %s' % (url, fn))\n",
    "\t\twith open(fn, 'w') as k_file:\n",
    "\t\t\tf = urllib.urlopen(url)\n",
    "\t\t\tk_file.write(f.read())\n",
    "\n",
    "\tprint ('plotting..')\n",
    "\tkaryoplot(fn, part=1)\n",
    "\tkaryoplot(fn, part=2)"
   ]
  },
  {
   "cell_type": "code",
   "execution_count": 97,
   "metadata": {},
   "outputs": [
    {
     "name": "stdout",
     "output_type": "stream",
     "text": [
      "plotting..\n"
     ]
    },
    {
     "data": {
      "image/png": "[encoded data removed]",
      "text/plain": [
       "<Figure size 432x288 with 1 Axes>"
      ]
     },
     "metadata": {
      "needs_background": "light"
     },
     "output_type": "display_data"
    },
    {
     "data": {
      "image/png": "[encoded data removed]",
      "text/plain": [
       "<Figure size 432x288 with 1 Axes>"
      ]
     },
     "metadata": {
      "needs_background": "light"
     },
     "output_type": "display_data"
    }
   ],
   "source": [
    "do()"
   ]
  },
  {
   "cell_type": "markdown",
   "metadata": {},
   "source": [
    "### Άσκηση 5.3"
   ]
  },
  {
   "cell_type": "code",
   "execution_count": null,
   "metadata": {},
   "outputs": [],
   "source": [
    "import requests\n",
    "\n",
    "def f(chrom, start, end):\n",
    "    server = \"http://myvariant.info/v1/query?\"\n",
    "    ext = \"&fetch_all=TRUE\"\n",
    "    initial_url = server+'q='+chrom+':'+str(start)+'-'+str(end)+ext\n",
    "    headers={ \"Content-Type\" : \"text/plain\"}\n",
    "    scroll_id = None\n",
    "    req_count = 0\n",
    "    all_rs = []\n",
    "    while True:\n",
    "        req_count += 1\n",
    "        print ('Attempting request:', req_count)\n",
    "        if scroll_id:\n",
    "            url='http://myvariant.info/v1/query?scroll_id=' + scroll_id\n",
    "        else:\n",
    "            url=initial_url\n",
    "        r = requests.get(url, headers=headers)\n",
    "        if not r.ok:\n",
    "            r.raise_for_status()\n",
    "        data=r.json()\n",
    "        total = data.get('total', 0)\n",
    "        print ('Total:', total)\n",
    "        \n",
    "        hits = data.get('hits', [])\n",
    "        print ('   Size of hits:', len(hits))\n",
    "\n",
    "        current_rs = [x['dbsnp']['rsid'] for x in hits if 'dbsnp' in x and 'rsid' in x['dbsnp']]\n",
    "        all_rs.extend(current_rs)\n",
    "        print ('   Hits with RS:', len(current_rs))\n",
    "        \n",
    "        scroll_id = data.get('_scroll_id')\n",
    "        print ('   Total found:', len(all_rs))\n",
    "        if not scroll_id:\n",
    "            break\n",
    "            \n",
    "    return all_rs\n",
    "        \n",
    "        \n",
    "f('chr1',69000,70000) "
   ]
  },
  {
   "cell_type": "markdown",
   "metadata": {},
   "source": [
    "### Άσκσηση 5.7"
   ]
  },
  {
   "cell_type": "code",
   "execution_count": 6,
   "metadata": {},
   "outputs": [
    {
     "name": "stdout",
     "output_type": "stream",
     "text": [
      "[0.12  0.255 0.075 0.04  0.08  0.15  0.03  0.06  0.04  0.04  0.01  0.035\n",
      " 0.045 0.015 0.07  0.043 0.038 0.043 0.038 0.075 0.01  0.244 0.032 0.037\n",
      " 0.016 0.022 0.005 0.048 0.027 0.005 0.102 0.032 0.032 0.037 0.016 0.021\n",
      " 0.396 0.126 0.122 0.011 0.347 0.004 0.2   0.271 0.092 0.008 0.004 0.004\n",
      " 0.004 0.008 0.13  0.1   0.045 0.03  0.037 0.033 0.03  0.004 0.004 0.066\n",
      " 0.014 0.004 0.074 0.007 0.051 0.033 0.011 0.019 0.111 0.011 0.037 0.111\n",
      " 0.004 0.022 0.1   0.007 0.019 0.033 0.037 0.011 0.004 0.044 0.037 0.044\n",
      " 0.078]\n"
     ]
    },
    {
     "name": "stderr",
     "output_type": "stream",
     "text": [
      "/Users/alexandroskanterakis/anaconda3/lib/python3.7/site-packages/ipykernel_launcher.py:9: SettingWithCopyWarning: \n",
      "A value is trying to be set on a copy of a slice from a DataFrame.\n",
      "Try using .loc[row_indexer,col_indexer] = value instead\n",
      "\n",
      "See the caveats in the documentation: http://pandas.pydata.org/pandas-docs/stable/indexing.html#indexing-view-versus-copy\n",
      "  if __name__ == '__main__':\n",
      "/Users/alexandroskanterakis/anaconda3/lib/python3.7/site-packages/scipy/stats/stats.py:1713: FutureWarning: Using a non-tuple sequence for multidimensional indexing is deprecated; use `arr[tuple(seq)]` instead of `arr[seq]`. In the future this will be interpreted as an array index, `arr[np.array(seq)]`, which will result either in an error or a different result.\n",
      "  return np.add.reduce(sorted[indexer] * weights, axis=axis) / sumval\n"
     ]
    },
    {
     "data": {
      "image/png": "[encoded data removed]",
      "text/plain": [
       "<Figure size 432x288 with 1 Axes>"
      ]
     },
     "metadata": {
      "needs_background": "light"
     },
     "output_type": "display_data"
    }
   ],
   "source": [
    "import seaborn as sns\n",
    "import pandas as pd\n",
    "\n",
    "dfs = pd.read_html('http://www.allelefrequencies.net/hla6006a_scr.asp?hla_locus=&hla_locus_type=Classical&hla_allele1=&hla_allele2=&hla_selection=&hla_pop_selection=&hla_population=1614&hla_country=&hla_dataset=&hla_region=&hla_ethnic=&hla_study=&hla_sample_size=&hla_sample_size_pattern=equal&hla_sample_year=&hla_sample_year_pattern=equal&hla_level=&hla_level_pattern=equal&hla_show=&hla_order=order_1&standard=a')\n",
    "\n",
    "df = dfs[1]\n",
    "df.columns = dfs[1].iloc[0].values\n",
    "df = df[1:]\n",
    "df['Allele Frequency_2'] = df['Allele Frequency'].astype(float)\n",
    "values = df['Allele Frequency_2'].values\n",
    "\n",
    "print (values)\n",
    "\n",
    "ax = sns.distplot(values)"
   ]
  },
  {
   "cell_type": "markdown",
   "metadata": {},
   "source": [
    "### Άσκηση 5.8"
   ]
  },
  {
   "cell_type": "code",
   "execution_count": 2,
   "metadata": {},
   "outputs": [],
   "source": [
    "import pandas as pd\n",
    "\n",
    "def read_input():\n",
    "    df = pd.read_excel('baseis.xls')\n",
    "\n",
    "    line_1 = df.iloc[0].values\n",
    "    line_2 = df.iloc[1].values\n",
    "\n",
    "    columns = [y if pd.isna(x) else x for x,y in zip(line_1, line_2)]\n",
    "\n",
    "    df.columns = columns\n",
    "    df = df[2:-1]\n",
    "    df['ΚΩΔΙΚΟΣ ΣΧΟΛΗΣ'] = df['ΚΩΔΙΚΟΣ ΣΧΟΛΗΣ'].astype(str)\n",
    "    #df = df.set_index(['ΚΩΔΙΚΟΣ ΣΧΟΛΗΣ', 'ΕΙΔΟΣ ΘΕΣΗΣ'])\n",
    "    \n",
    "    return df\n",
    "\n",
    "df=read_input()"
   ]
  },
  {
   "cell_type": "code",
   "execution_count": 4,
   "metadata": {},
   "outputs": [
    {
     "data": {
      "text/html": [
       "<div>\n",
       "<style scoped>\n",
       "    .dataframe tbody tr th:only-of-type {\n",
       "        vertical-align: middle;\n",
       "    }\n",
       "\n",
       "    .dataframe tbody tr th {\n",
       "        vertical-align: top;\n",
       "    }\n",
       "\n",
       "    .dataframe thead th {\n",
       "        text-align: right;\n",
       "    }\n",
       "</style>\n",
       "<table border=\"1\" class=\"dataframe\">\n",
       "  <thead>\n",
       "    <tr style=\"text-align: right;\">\n",
       "      <th></th>\n",
       "      <th>ΚΩΔΙΚΟΣ ΣΧΟΛΗΣ</th>\n",
       "      <th>ΙΔΡΥΜΑ</th>\n",
       "      <th>ΟΝΟΜΑ ΣΧΟΛΗΣ</th>\n",
       "      <th>ΕΙΔΟΣ ΘΕΣΗΣ</th>\n",
       "      <th>ΑΡΧΙΚΕΣ ΘΕΣΕΙΣ</th>\n",
       "      <th>ΘΕΣΕΙΣ (Κατόπιν Μεταφοράς)</th>\n",
       "      <th>ΕΠΙΤ/ΤΕΣ</th>\n",
       "      <th>ΒΑΘΜΟΣ ΠΡΩΤΟΥ</th>\n",
       "      <th>ΚΡΙΤΗΡΙΑ ΙΣΟΒΑΘΜΙΑΣ</th>\n",
       "      <th>ΒΑΘΜΟΣ ΤΕΛΕΥΤΑΙΟΥ</th>\n",
       "      <th>ΚΡΙΤΗΡΙΑ ΙΣΟΒΑΘΜΙΑΣ</th>\n",
       "    </tr>\n",
       "  </thead>\n",
       "  <tbody>\n",
       "    <tr>\n",
       "      <th>2</th>\n",
       "      <td>818</td>\n",
       "      <td>Α.Ε.Ν.</td>\n",
       "      <td>ΣΧΟΛΗ ΜΗΧΑΝΙΚΩΝ</td>\n",
       "      <td>ΓΕΛ ΓΕΝIKH ΣΕΙΡΑ ΗΜ.</td>\n",
       "      <td>241</td>\n",
       "      <td>249</td>\n",
       "      <td>249</td>\n",
       "      <td>16809</td>\n",
       "      <td>32,90 136,00</td>\n",
       "      <td>8468</td>\n",
       "      <td>20,20 065,80</td>\n",
       "    </tr>\n",
       "    <tr>\n",
       "      <th>3</th>\n",
       "      <td>818</td>\n",
       "      <td>Α.Ε.Ν.</td>\n",
       "      <td>ΣΧΟΛΗ ΜΗΧΑΝΙΚΩΝ</td>\n",
       "      <td>ΓΕΛ ΑΕΝ ΕΙΔ.ΚΑΤ.ΠΟΛΥΤΕΚΝΟΙ 10%</td>\n",
       "      <td>24</td>\n",
       "      <td>24</td>\n",
       "      <td>24</td>\n",
       "      <td>7927</td>\n",
       "      <td>17,70 061,60</td>\n",
       "      <td>4846</td>\n",
       "      <td>10,00 041,40</td>\n",
       "    </tr>\n",
       "    <tr>\n",
       "      <th>4</th>\n",
       "      <td>818</td>\n",
       "      <td>Α.Ε.Ν.</td>\n",
       "      <td>ΣΧΟΛΗ ΜΗΧΑΝΙΚΩΝ</td>\n",
       "      <td>ΓΕΛ ΑΕΝ ΕΙΔ.ΚΑΤ. ΤΡΙΤΕΚΝΟΙ 3%</td>\n",
       "      <td>7</td>\n",
       "      <td>7</td>\n",
       "      <td>7</td>\n",
       "      <td>8286</td>\n",
       "      <td>16,40 068,80</td>\n",
       "      <td>8089</td>\n",
       "      <td>15,50 066,20</td>\n",
       "    </tr>\n",
       "    <tr>\n",
       "      <th>5</th>\n",
       "      <td>818</td>\n",
       "      <td>Α.Ε.Ν.</td>\n",
       "      <td>ΣΧΟΛΗ ΜΗΧΑΝΙΚΩΝ</td>\n",
       "      <td>ΓΕΛ ΑΕΝ ΕΙΔ.ΚΑΤ. ΚΟΙΝ. ΚΡΙΤΗΡΙΑ</td>\n",
       "      <td>5</td>\n",
       "      <td>5</td>\n",
       "      <td>5</td>\n",
       "      <td>8398</td>\n",
       "      <td>12,00 071,20</td>\n",
       "      <td>6826</td>\n",
       "      <td>12,40 057,00</td>\n",
       "    </tr>\n",
       "    <tr>\n",
       "      <th>6</th>\n",
       "      <td>817</td>\n",
       "      <td>Α.Ε.Ν.</td>\n",
       "      <td>ΣΧΟΛΗ ΠΛΟΙΑΡΧΩΝ</td>\n",
       "      <td>ΓΕΛ ΓΕΝIKH ΣΕΙΡΑ ΗΜ.</td>\n",
       "      <td>332</td>\n",
       "      <td>334</td>\n",
       "      <td>334</td>\n",
       "      <td>17316</td>\n",
       "      <td>34,40 138,40</td>\n",
       "      <td>9827</td>\n",
       "      <td>16,10 085,20</td>\n",
       "    </tr>\n",
       "    <tr>\n",
       "      <th>...</th>\n",
       "      <td>...</td>\n",
       "      <td>...</td>\n",
       "      <td>...</td>\n",
       "      <td>...</td>\n",
       "      <td>...</td>\n",
       "      <td>...</td>\n",
       "      <td>...</td>\n",
       "      <td>...</td>\n",
       "      <td>...</td>\n",
       "      <td>...</td>\n",
       "      <td>...</td>\n",
       "    </tr>\n",
       "    <tr>\n",
       "      <th>503</th>\n",
       "      <td>806</td>\n",
       "      <td>ΣΣΕ</td>\n",
       "      <td>ΕΥΕΛΠΙΔΩΝ (ΣΣΕ) – ΣΩΜΑΤΑ</td>\n",
       "      <td>ΓΕΛ ΣΤΡΑΤΙΩΤΙΚΕΣ ΕΙΔ.ΚΑΤ.3648/α</td>\n",
       "      <td>10</td>\n",
       "      <td>10</td>\n",
       "      <td>10</td>\n",
       "      <td>17038</td>\n",
       "      <td>34,40 135,20 6 18,5</td>\n",
       "      <td>15964</td>\n",
       "      <td>31,20 127,00 3 18,0</td>\n",
       "    </tr>\n",
       "    <tr>\n",
       "      <th>504</th>\n",
       "      <td>356</td>\n",
       "      <td>ΧΑΡΟΚΟΠΕΙΟ</td>\n",
       "      <td>ΓΕΩΓΡΑΦΙΑΣ (ΑΘΗΝΑ)</td>\n",
       "      <td>ΓΕΛ ΓΕΝIKH ΣΕΙΡΑ ΗΜ.</td>\n",
       "      <td>61</td>\n",
       "      <td>61</td>\n",
       "      <td>61</td>\n",
       "      <td>11525</td>\n",
       "      <td>20,90 093,60</td>\n",
       "      <td>8647</td>\n",
       "      <td>13,90 071,40</td>\n",
       "    </tr>\n",
       "    <tr>\n",
       "      <th>505</th>\n",
       "      <td>294</td>\n",
       "      <td>ΧΑΡΟΚΟΠΕΙΟ</td>\n",
       "      <td>ΕΠΙΣΤΗΜΗΣ ΔΙΑΙΤΟΛΟΓΙΑΣ ΚΑΙ ΔΙΑΤΡΟΦΗΣ (ΑΘΗΝΑ)</td>\n",
       "      <td>ΓΕΛ ΓΕΝIKH ΣΕΙΡΑ ΗΜ.</td>\n",
       "      <td>64</td>\n",
       "      <td>64</td>\n",
       "      <td>64</td>\n",
       "      <td>18794</td>\n",
       "      <td>38,20 149,20</td>\n",
       "      <td>16980</td>\n",
       "      <td>31,40 137,80</td>\n",
       "    </tr>\n",
       "    <tr>\n",
       "      <th>506</th>\n",
       "      <td>144</td>\n",
       "      <td>ΧΑΡΟΚΟΠΕΙΟ</td>\n",
       "      <td>ΟΙΚΙΑΚΗΣ ΟΙΚΟΝΟΜΙΑΣ ΚΑΙ ΟΙΚΟΛΟΓΙΑΣ (ΑΘΗΝΑ)</td>\n",
       "      <td>ΓΕΛ ΓΕΝIKH ΣΕΙΡΑ ΗΜ.</td>\n",
       "      <td>74</td>\n",
       "      <td>74</td>\n",
       "      <td>74</td>\n",
       "      <td>14418</td>\n",
       "      <td>28,60 115,40</td>\n",
       "      <td>10379</td>\n",
       "      <td>18,70 086,80</td>\n",
       "    </tr>\n",
       "    <tr>\n",
       "      <th>507</th>\n",
       "      <td>412</td>\n",
       "      <td>ΧΑΡΟΚΟΠΕΙΟ</td>\n",
       "      <td>ΠΛΗΡΟΦΟΡΙΚΗΣ ΚΑΙ ΤΗΛΕΜΑΤΙΚΗΣ (ΑΘΗΝΑ)</td>\n",
       "      <td>ΓΕΛ ΓΕΝIKH ΣΕΙΡΑ ΗΜ.</td>\n",
       "      <td>99</td>\n",
       "      <td>99</td>\n",
       "      <td>99</td>\n",
       "      <td>16997</td>\n",
       "      <td>34,50 135,80</td>\n",
       "      <td>15139</td>\n",
       "      <td>27,90 123,40</td>\n",
       "    </tr>\n",
       "  </tbody>\n",
       "</table>\n",
       "<p>506 rows × 11 columns</p>\n",
       "</div>"
      ],
      "text/plain": [
       "    ΚΩΔΙΚΟΣ ΣΧΟΛΗΣ      ΙΔΡΥΜΑ                                  ΟΝΟΜΑ ΣΧΟΛΗΣ  \\\n",
       "2              818      Α.Ε.Ν.                               ΣΧΟΛΗ ΜΗΧΑΝΙΚΩΝ   \n",
       "3              818      Α.Ε.Ν.                               ΣΧΟΛΗ ΜΗΧΑΝΙΚΩΝ   \n",
       "4              818      Α.Ε.Ν.                               ΣΧΟΛΗ ΜΗΧΑΝΙΚΩΝ   \n",
       "5              818      Α.Ε.Ν.                               ΣΧΟΛΗ ΜΗΧΑΝΙΚΩΝ   \n",
       "6              817      Α.Ε.Ν.                               ΣΧΟΛΗ ΠΛΟΙΑΡΧΩΝ   \n",
       "..             ...         ...                                           ...   \n",
       "503            806         ΣΣΕ                      ΕΥΕΛΠΙΔΩΝ (ΣΣΕ) – ΣΩΜΑΤΑ   \n",
       "504            356  ΧΑΡΟΚΟΠΕΙΟ                            ΓΕΩΓΡΑΦΙΑΣ (ΑΘΗΝΑ)   \n",
       "505            294  ΧΑΡΟΚΟΠΕΙΟ  ΕΠΙΣΤΗΜΗΣ ΔΙΑΙΤΟΛΟΓΙΑΣ ΚΑΙ ΔΙΑΤΡΟΦΗΣ (ΑΘΗΝΑ)   \n",
       "506            144  ΧΑΡΟΚΟΠΕΙΟ    ΟΙΚΙΑΚΗΣ ΟΙΚΟΝΟΜΙΑΣ ΚΑΙ ΟΙΚΟΛΟΓΙΑΣ (ΑΘΗΝΑ)   \n",
       "507            412  ΧΑΡΟΚΟΠΕΙΟ          ΠΛΗΡΟΦΟΡΙΚΗΣ ΚΑΙ ΤΗΛΕΜΑΤΙΚΗΣ (ΑΘΗΝΑ)   \n",
       "\n",
       "                         ΕΙΔΟΣ ΘΕΣΗΣ ΑΡΧΙΚΕΣ ΘΕΣΕΙΣ  \\\n",
       "2               ΓΕΛ ΓΕΝIKH ΣΕΙΡΑ ΗΜ.            241   \n",
       "3     ΓΕΛ ΑΕΝ ΕΙΔ.ΚΑΤ.ΠΟΛΥΤΕΚΝΟΙ 10%             24   \n",
       "4      ΓΕΛ ΑΕΝ ΕΙΔ.ΚΑΤ. ΤΡΙΤΕΚΝΟΙ 3%              7   \n",
       "5    ΓΕΛ ΑΕΝ ΕΙΔ.ΚΑΤ. ΚΟΙΝ. ΚΡΙΤΗΡΙΑ              5   \n",
       "6               ΓΕΛ ΓΕΝIKH ΣΕΙΡΑ ΗΜ.            332   \n",
       "..                               ...            ...   \n",
       "503  ΓΕΛ ΣΤΡΑΤΙΩΤΙΚΕΣ ΕΙΔ.ΚΑΤ.3648/α             10   \n",
       "504             ΓΕΛ ΓΕΝIKH ΣΕΙΡΑ ΗΜ.             61   \n",
       "505             ΓΕΛ ΓΕΝIKH ΣΕΙΡΑ ΗΜ.             64   \n",
       "506             ΓΕΛ ΓΕΝIKH ΣΕΙΡΑ ΗΜ.             74   \n",
       "507             ΓΕΛ ΓΕΝIKH ΣΕΙΡΑ ΗΜ.             99   \n",
       "\n",
       "    ΘΕΣΕΙΣ (Κατόπιν Μεταφοράς) ΕΠΙΤ/ΤΕΣ ΒΑΘΜΟΣ ΠΡΩΤΟΥ  ΚΡΙΤΗΡΙΑ ΙΣΟΒΑΘΜΙΑΣ  \\\n",
       "2                          249      249         16809         32,90 136,00   \n",
       "3                           24       24          7927         17,70 061,60   \n",
       "4                            7        7          8286         16,40 068,80   \n",
       "5                            5        5          8398         12,00 071,20   \n",
       "6                          334      334         17316         34,40 138,40   \n",
       "..                         ...      ...           ...                  ...   \n",
       "503                         10       10         17038  34,40 135,20 6 18,5   \n",
       "504                         61       61         11525         20,90 093,60   \n",
       "505                         64       64         18794         38,20 149,20   \n",
       "506                         74       74         14418         28,60 115,40   \n",
       "507                         99       99         16997         34,50 135,80   \n",
       "\n",
       "    ΒΑΘΜΟΣ ΤΕΛΕΥΤΑΙΟΥ  ΚΡΙΤΗΡΙΑ ΙΣΟΒΑΘΜΙΑΣ  \n",
       "2                8468         20,20 065,80  \n",
       "3                4846         10,00 041,40  \n",
       "4                8089         15,50 066,20  \n",
       "5                6826         12,40 057,00  \n",
       "6                9827         16,10 085,20  \n",
       "..                ...                  ...  \n",
       "503             15964  31,20 127,00 3 18,0  \n",
       "504              8647         13,90 071,40  \n",
       "505             16980         31,40 137,80  \n",
       "506             10379         18,70 086,80  \n",
       "507             15139         27,90 123,40  \n",
       "\n",
       "[506 rows x 11 columns]"
      ]
     },
     "execution_count": 4,
     "metadata": {},
     "output_type": "execute_result"
    }
   ],
   "source": [
    "df"
   ]
  },
  {
   "cell_type": "code",
   "execution_count": 9,
   "metadata": {},
   "outputs": [],
   "source": [
    "# Ποιο είναι το \"ΙΔΡΥΜΑ\" με το μεγαλύτερο μέσο όρο βάσεων των σχολών του;\n",
    "#df[df[\"ΕΙΔΟΣ ΘΕΣΗΣ\"]==\"ΓΕΛ ΓΕΝIKH ΣΕΙΡΑ ΗΜ.\"].\n",
    "#    {'ΒΑΘΜΟΣ ΤΕΛΕΥΤΑΙΟΥ': 'mean'})"
   ]
  },
  {
   "cell_type": "code",
   "execution_count": 18,
   "metadata": {},
   "outputs": [],
   "source": [
    "#df[df[\"ΕΙΔΟΣ ΘΕΣΗΣ\"]==\"ΓΕΛ ΓΕΝIKH ΣΕΙΡΑ ΗΜ.\"].groupby('ΙΔΡΥΜΑ').aggregate({'ΒΑΘΜΟΣ ΤΕΛΕΥΤΑΙΟΥ': 'mean'})"
   ]
  },
  {
   "cell_type": "code",
   "execution_count": 63,
   "metadata": {
    "scrolled": true
   },
   "outputs": [
    {
     "data": {
      "text/plain": [
       "'ΣΣΑΣ'"
      ]
     },
     "execution_count": 63,
     "metadata": {},
     "output_type": "execute_result"
    }
   ],
   "source": [
    "df['ΒΑΘΜΟΣ ΤΕΛΕΥΤΑΙΟΥ'] = df['ΒΑΘΜΟΣ ΤΕΛΕΥΤΑΙΟΥ'].apply(pd.to_numeric)\n",
    "df['ΒΑΘΜΟΣ ΠΡΩΤΟΥ'] = df['ΒΑΘΜΟΣ ΠΡΩΤΟΥ'].apply(pd.to_numeric)\n",
    "df['Difference']=df['ΒΑΘΜΟΣ ΠΡΩΤΟΥ']-df['ΒΑΘΜΟΣ ΤΕΛΕΥΤΑΙΟΥ']\n",
    "\n",
    "df2=df[df[\"ΕΙΔΟΣ ΘΕΣΗΣ\"]==\"ΓΕΛ ΓΕΝIKH ΣΕΙΡΑ ΗΜ.\"]\n",
    "\n",
    "df2.groupby('ΙΔΡΥΜΑ').aggregate({'ΒΑΘΜΟΣ ΤΕΛΕΥΤΑΙΟΥ': 'mean'}).idxmax().to_dict()['ΒΑΘΜΟΣ ΤΕΛΕΥΤΑΙΟΥ']"
   ]
  },
  {
   "cell_type": "code",
   "execution_count": 59,
   "metadata": {},
   "outputs": [
    {
     "data": {
      "text/plain": [
       "'ΑΣΠΑΙΤΕ'"
      ]
     },
     "execution_count": 59,
     "metadata": {},
     "output_type": "execute_result"
    }
   ],
   "source": [
    "#Ποιο είναι το \"ΙΔΡΥΜΑ\" με το μικρότερο μέσο όρο βάσεων των σχολών του;\n",
    "df2.groupby('ΙΔΡΥΜΑ').aggregate({'ΒΑΘΜΟΣ ΤΕΛΕΥΤΑΙΟΥ': 'mean'}).idxmin().to_dict()['ΒΑΘΜΟΣ ΤΕΛΕΥΤΑΙΟΥ']"
   ]
  },
  {
   "cell_type": "code",
   "execution_count": 102,
   "metadata": {},
   "outputs": [
    {
     "data": {
      "text/plain": [
       "'ΙΣΠΑΝΙΚΗΣ ΓΛΩΣΣΑΣ ΚΑΙ ΦΙΛΟΛΟΓΙΑΣ (ΑΘΗΝΑ)'"
      ]
     },
     "execution_count": 102,
     "metadata": {},
     "output_type": "execute_result"
    }
   ],
   "source": [
    "# Σε ποια σχολή υπάρχει η μεγαλύτερη διαφορά μεταξύ \"ΒΑΘΜΟΣ ΠΡΩΤΟΥ\" και \"ΒΑΘΜΟΣ ΤΕΛΕΥΤΑΙΟΥ\";\n",
    "df2.loc[ df2['Difference'].idxmax() ]['ΟΝΟΜΑ ΣΧΟΛΗΣ']"
   ]
  },
  {
   "cell_type": "code",
   "execution_count": 103,
   "metadata": {},
   "outputs": [
    {
     "data": {
      "text/plain": [
       "14934.0"
      ]
     },
     "execution_count": 103,
     "metadata": {},
     "output_type": "execute_result"
    }
   ],
   "source": [
    "df2['Difference'].max()"
   ]
  },
  {
   "cell_type": "code",
   "execution_count": 81,
   "metadata": {},
   "outputs": [
    {
     "data": {
      "text/plain": [
       "24129"
      ]
     },
     "execution_count": 81,
     "metadata": {},
     "output_type": "execute_result"
    }
   ],
   "source": [
    "# Πόσο είναι το άθροισμα των \"ΕΠΙΤ/ΤΕΣ\" για τις σχολές που έχουν βάση <10000 ;\n",
    "df2[df2['ΒΑΘΜΟΣ ΤΕΛΕΥΤΑΙΟΥ'] < 10000]['ΕΠΙΤ/ΤΕΣ'].sum()"
   ]
  },
  {
   "cell_type": "markdown",
   "metadata": {},
   "source": [
    "### Άσκηση 5.9"
   ]
  },
  {
   "cell_type": "code",
   "execution_count": 83,
   "metadata": {},
   "outputs": [
    {
     "data": {
      "text/plain": [
       "<matplotlib.axes._subplots.AxesSubplot at 0x11b2116d0>"
      ]
     },
     "execution_count": 83,
     "metadata": {},
     "output_type": "execute_result"
    },
    {
     "data": {
      "image/png": "[encoded data removed]",
      "text/plain": [
       "<Figure size 432x288 with 1 Axes>"
      ]
     },
     "metadata": {
      "needs_background": "light"
     },
     "output_type": "display_data"
    }
   ],
   "source": [
    "\n",
    "df[df[\"ΕΙΔΟΣ ΘΕΣΗΣ\"]==\"ΓΕΛ ΓΕΝIKH ΣΕΙΡΑ ΗΜ.\"] \\\n",
    "   .groupby('ΙΔΡΥΜΑ') \\\n",
    "   .aggregate({'ΕΠΙΤ/ΤΕΣ':'sum'}) \\\n",
    "   .sort_values('ΕΠΙΤ/ΤΕΣ', ascending=False).plot(kind='bar', use_index=True)\n"
   ]
  },
  {
   "cell_type": "code",
   "execution_count": 98,
   "metadata": {},
   "outputs": [
    {
     "name": "stderr",
     "output_type": "stream",
     "text": [
      "/Users/alexandroskanterakis/anaconda3/envs/python_lesson/lib/python3.7/site-packages/ipykernel_launcher.py:8: UserWarning: DataFrame columns are not unique, some columns will be omitted.\n",
      "  \n"
     ]
    },
    {
     "data": {
      "image/png": "[encoded data removed]",
      "text/plain": [
       "<Figure size 432x288 with 1 Axes>"
      ]
     },
     "metadata": {
      "needs_background": "light"
     },
     "output_type": "display_data"
    }
   ],
   "source": [
    "### Άσκηση 10\n",
    "\n",
    "from matplotlib import pyplot as plt\n",
    "\n",
    "df2 = df[df['ΕΙΔΟΣ ΘΕΣΗΣ']=='ΓΕΛ ΓΕΝIKH ΣΕΙΡΑ ΗΜ.'].sort_values('ΒΑΘΜΟΣ ΤΕΛΕΥΤΑΙΟΥ', ascending=True)\n",
    "\n",
    "max_epit = df2['ΕΠΙΤ/ΤΕΣ'].max()\n",
    "d = df2.to_dict('index')\n",
    "\n",
    "index = 0\n",
    "for k, v in d.items():\n",
    "    if v['ΒΑΘΜΟΣ ΠΡΩΤΟΥ'] > 20000:\n",
    "        continue\n",
    "    #if v['ΕΠΙΤ/ΤΕΣ'] < 50:\n",
    "    #    continue\n",
    "    plt.plot(\n",
    "        [v['ΒΑΘΜΟΣ ΤΕΛΕΥΤΑΙΟΥ']],\n",
    "        [v['ΒΑΘΜΟΣ ΠΡΩΤΟΥ']],\n",
    "        #[v['ΕΠΙΤ/ΤΕΣ']], \n",
    "        '.', \n",
    "             #c=str(v['ΕΠΙΤ/ΤΕΣ']/429), \n",
    "             c= 'red' if 'ΚΡΗΤΗ' in v['ΙΔΡΥΜΑ'] else 'black',\n",
    "             markersize=20*v['ΕΠΙΤ/ΤΕΣ']/429,\n",
    "             #linewidth=1.0*v['ΕΠΙΤ/ΤΕΣ']/429,\n",
    "             #alpha=1.0*v['ΕΠΙΤ/ΤΕΣ']/429,\n",
    "            )\n",
    "    index += 1\n",
    "\n",
    "plt.show()\n"
   ]
  },
  {
   "cell_type": "markdown",
   "metadata": {},
   "source": [
    "### Άσκηση 5.11"
   ]
  },
  {
   "cell_type": "code",
   "execution_count": 87,
   "metadata": {},
   "outputs": [
    {
     "name": "stdout",
     "output_type": "stream",
     "text": [
      "Real perc: 0.4166666666666667\n",
      "Placebo_perc: 0.375\n"
     ]
    },
    {
     "data": {
      "text/plain": [
       "0.02036"
      ]
     },
     "execution_count": 87,
     "metadata": {},
     "output_type": "execute_result"
    }
   ],
   "source": [
    "\n",
    "\n",
    "real_yes = 250\n",
    "real_no = 350\n",
    "placebo_yes = 150\n",
    "placebo_no = 250\n",
    "\n",
    "real = real_yes + real_no\n",
    "placebo = placebo_yes + placebo_no\n",
    "\n",
    "real_perc = real_yes/real\n",
    "placebo_perc = placebo_yes/placebo\n",
    "\n",
    "print ('Real perc:', real_perc)\n",
    "print ('Placebo_perc:', placebo_perc)\n",
    "\n",
    "total = real + placebo\n",
    "\n",
    "import random\n",
    "\n",
    "def t():\n",
    "    test_real = [random.random()<placebo_perc for x in range(real)]\n",
    "    #test_placebo = a[0:placebo]\n",
    "    #test_real = a[placebo:]\n",
    "    \n",
    "    #test_placebo_perc = test_placebo.count(True) / placebo\n",
    "    test_real_perc = test_real.count(True) / real\n",
    "    \n",
    "    #print ('test_placebo_perc:', test_placebo_perc)\n",
    "    #print ('test_real_perc:', test_real_perc)\n",
    "    \n",
    "    return test_real_perc >= real_perc\n",
    "    \n",
    "def f():\n",
    "    tries = 100000\n",
    "    c = sum(1 for x in range(tries) if t())\n",
    "    return c/tries\n",
    "\n",
    "f()\n",
    "\n"
   ]
  },
  {
   "cell_type": "markdown",
   "metadata": {},
   "source": [
    "### Άσκηση 5.12\n"
   ]
  },
  {
   "cell_type": "code",
   "execution_count": 105,
   "metadata": {},
   "outputs": [
    {
     "name": "stdout",
     "output_type": "stream",
     "text": [
      "Current step: 1 bioinformatics\n",
      "Current step: 2 Biochip\n",
      "Current step: 3 Geiger counter\n",
      "Current step: 4 Cloud chamber\n",
      "Current step: 5 Blind spot monitor\n",
      "Current step: 6 Carbon dioxide sensor\n",
      "Current step: 7 Boost gauge\n",
      "Current step: 8 Accelerometer\n",
      "Current step: 9 Acceleration\n",
      "Current step: 10 Equivalence principle\n",
      "Current step: 11 Apollo 15\n",
      "Current step: 12 Astrobotic Technology\n",
      "Current step: 13 Apollo program\n",
      "Current step: 14 Apollo Telescope Mount\n",
      "Current step: 15 BeppoSAX\n",
      "Current step: 16 GALEX\n",
      "Picking new source: Chang'e 4\n",
      "Current step: 17 Chang'e 4\n",
      "Current step: 18 2018 CY2\n",
      "Current step: 19 2018 LA\n",
      "Current step: 20 Earth\n",
      "Current step: 21 Archaea\n",
      "Current step: 22 Bleomycin\n",
      "Current step: 23 DNA replication\n",
      "Current step: 24 Germ cell\n",
      "Current step: 25 Endothelium\n",
      "Current step: 26 Angiogenesis\n",
      "Current step: 27 Heart disease\n",
      "Current step: 28 Wikidata\n",
      "Current step: 29 Dewey Decimal Classification\n",
      "Current step: 30 Computability\n",
      "Current step: 31 Knowledge engineering\n",
      "Current step: 32 The Engine\n",
      "Current step: 33 The Mind Robber\n",
      "Current step: 34 Doctor Who (season 18)\n",
      "Current step: 35 State of Decay\n",
      "Current step: 36 Romana (Doctor Who)\n",
      "Current step: 37 Doctor Who missing episodes\n",
      "Current step: 38 16 mm film\n",
      "Current step: 39 8 mm film\n",
      "Current step: 40 Academy ratio\n",
      "Current step: 41 Fullscreen (filmmaking)\n",
      "Current step: 42 List of film formats\n",
      "Current step: 43 List of motion picture film formats\n",
      "Picking new source: Aspect ratio (image)\n",
      "Current step: 44 Aspect ratio (image)\n",
      "Current step: 45 ABC Family\n",
      "Current step: 46 Freeform (TV channel)\n",
      "Current step: 47 1995 Baltimore Orioles season\n",
      "Current step: 48 1921 St. Louis Browns season\n",
      "Current step: 49 1932 St. Louis Browns season\n",
      "Current step: 50 1956 Baltimore Orioles season\n",
      "Current step: 51 1971 Baltimore Orioles season\n",
      "Current step: 52 1908 Detroit Tigers season\n",
      "Current step: 53 1913 Philadelphia Athletics season\n",
      "Current step: 54 1910 World Series\n",
      "Current step: 55 1923 Philadelphia Athletics season\n",
      "Current step: 56 1909 Philadelphia Athletics season\n",
      "Current step: 57 1923 Philadelphia Athletics season\n",
      "Current step: 58 1936 Philadelphia Athletics season\n",
      "Current step: 59 1936 Pittsburgh Pirates season\n",
      "Current step: 60 1882 Pittsburgh Alleghenys season\n",
      "Current step: 61 1882 in baseball\n",
      "Current step: 62 1871 in baseball\n",
      "Current step: 63 1894 in baseball\n",
      "Current step: 64 1885 in baseball\n",
      "Current step: 65 1919 in baseball\n",
      "Current step: 66 1887 in baseball\n",
      "Current step: 67 1909 in baseball\n",
      "Current step: 68 1909 in music\n",
      "Current step: 69 Americans\n",
      "Current step: 70 African-American studies\n",
      "Current step: 71 Africana Studies\n",
      "Current step: 72 Africana studies\n",
      "Current step: 73 JSTOR\n",
      "Current step: 74 Royal Society\n",
      "Current step: 75 British Science Association\n",
      "Current step: 76 Albert, Prince Consort\n",
      "Current step: 77 Bookplate\n",
      "Current step: 78 Badge\n",
      "Current step: 79 List of literary awards\n",
      "Current step: 80 Aga Khan Prize for Fiction\n",
      "Picking new source: Owen Dodson\n",
      "Current step: 81 Owen Dodson\n",
      "Current step: 82 Joseph Haydn\n",
      "Current step: 83 Dolní Lukavice\n",
      "Current step: 84 Mladý Smolivec\n",
      "Current step: 85 Předenice\n",
      "Current step: 86 Kasejovice\n",
      "Current step: 87 Dnešice\n",
      "Current step: 88 Vlčí\n",
      "Current step: 89 Přestavlky (Plzeň-South District)\n",
      "Current step: 90 Zdemyslice\n",
      "Current step: 91 Nepomuk\n",
      "Current step: 92 Lužany (Plzeň-South District)\n",
      "Current step: 93 Drahkov\n",
      "Current step: 94 Milínov\n",
      "Current step: 95 Řenče\n",
      "Current step: 96 Seč (Plzeň-South District)\n",
      "Current step: 97 Neurazy\n",
      "Current step: 98 Louňová\n",
      "Current step: 99 Únětice (Plzeň-South District)\n",
      "Picking new source: Coat of arms of Únětice (Plzeň-South District)\n",
      "Picking new source: Štěnovice\n",
      "Current step: 100 Štěnovice\n",
      "Nodes: 445\n",
      "Edges: 480\n",
      "Saving..\n",
      "  done\n",
      "Plotting\n"
     ]
    },
    {
     "data": {
      "text/plain": [
       "{'bioinformatics': Text(-0.6677333242285264, -0.25963584466796186, 'Bioinformatics')}"
      ]
     },
     "execution_count": 105,
     "metadata": {},
     "output_type": "execute_result"
    },
    {
     "data": {
      "image/png": "[encoded data removed]",
      "text/plain": [
       "<Figure size 432x288 with 1 Axes>"
      ]
     },
     "metadata": {},
     "output_type": "display_data"
    }
   ],
   "source": [
    "import random\n",
    "import networkx as nx\n",
    "import json\n",
    "import matplotlib.pyplot as plt\n",
    "\n",
    "import requests\n",
    "\n",
    "\n",
    "def links(page):\n",
    "    PARAMS = {\n",
    "        \"action\": \"query\",\n",
    "        \"format\": \"json\",\n",
    "        \"titles\": page,\n",
    "        \"prop\": \"links\",\n",
    "        'pllimit': 100,\n",
    "    }\n",
    "\n",
    "    URL = \"https://en.wikipedia.org/w/api.php\"\n",
    "    S = requests.Session()\n",
    "    R = S.get(url=URL, params=PARAMS)\n",
    "    \n",
    "    DATA = R.json()\n",
    "\n",
    "    PAGES = DATA[\"query\"][\"pages\"]\n",
    "\n",
    "    ret = []\n",
    "    for k, v in PAGES.items():\n",
    "        for l in v.get(\"links\", []):\n",
    "            to_append = l[\"title\"]\n",
    "            \n",
    "            if 'Category' in to_append:\n",
    "                continue\n",
    "                \n",
    "            if 'Wikipedia' in to_append:\n",
    "                continue\n",
    "            \n",
    "            if 'Digital object identifier' in to_append:\n",
    "                continue\n",
    "                \n",
    "            if 'International Standard Book Number' in to_append:\n",
    "                continue\n",
    "                \n",
    "            if 'Template' in to_append:\n",
    "                continue\n",
    "                \n",
    "            ret.append(to_append)\n",
    "    \n",
    "    return ret\n",
    "\n",
    "source = 'bioinformatics'\n",
    "N = 5\n",
    "G = nx.Graph()\n",
    "G.add_node(source)\n",
    "rnd_links = None\n",
    "step = 0\n",
    "steps = 100\n",
    "\n",
    "while True:\n",
    "    step += 1\n",
    "    print ('Current step:', step, source)\n",
    "    \n",
    "    if rnd_links is None:\n",
    "        rnd_links = random.sample(links(source), N)\n",
    "    \n",
    "    for link in rnd_links:\n",
    "        G.add_node(link)\n",
    "        G.add_edge(source, link)\n",
    "\n",
    "    if step >= steps:\n",
    "        break\n",
    "\n",
    "    source = random.choice(rnd_links)\n",
    "    while True:\n",
    "        \n",
    "        current_links = links(source)\n",
    "        rnd_links_tobe = random.sample(current_links, min(N, len(current_links)))\n",
    "        if rnd_links_tobe:\n",
    "            rnd_links = rnd_links_tobe\n",
    "            break\n",
    "        source = random.choice(rnd_links)\n",
    "        print ('Picking new source:', source)\n",
    "    \n",
    "\n",
    "print ('Nodes:', G.number_of_nodes())\n",
    "print ('Edges:', G.number_of_edges()) \n",
    "\n",
    "print ('Saving..')\n",
    "to_save = nx.to_dict_of_dicts(G)\n",
    "with open('graph2.json', 'w') as f:\n",
    "    json.dump(to_save, f)\n",
    "print ('  done')\n",
    "\n",
    "print ('Plotting')\n",
    "nx.draw(G, with_labels=False, node_size= 10)\n",
    "\n",
    "pos=nx.spring_layout(G)\n",
    "\n",
    "nx.draw(G, pos=pos, with_labels=False, node_size= 10)\n",
    "nx.draw_networkx_labels(G, pos=pos, labels={'bioinformatics': 'Bioinformatics'}, font_size=16, font_color='b')"
   ]
  },
  {
   "cell_type": "markdown",
   "metadata": {},
   "source": [
    "### Άσκηση 5.13\n"
   ]
  },
  {
   "cell_type": "code",
   "execution_count": 2,
   "metadata": {},
   "outputs": [
    {
     "data": {
      "text/plain": [
       "0.096502"
      ]
     },
     "execution_count": 2,
     "metadata": {},
     "output_type": "execute_result"
    }
   ],
   "source": [
    "from scipy.stats import norm\n",
    "\n",
    "size= 1000000\n",
    "men = norm.rvs(loc=1.77, scale=0.07, size=size)\n",
    "women = norm.rvs(loc=1.65, scale=0.06, size=size)\n",
    "\n",
    "a = women > men\n",
    "a.sum() / size"
   ]
  },
  {
   "cell_type": "markdown",
   "metadata": {},
   "source": [
    "### Άσκηση 5.14, 5.15"
   ]
  },
  {
   "cell_type": "code",
   "execution_count": 4,
   "metadata": {},
   "outputs": [],
   "source": [
    "import requests\n",
    "\n",
    "url = 'https://raw.githubusercontent.com/obophenotype/human-phenotype-ontology/master/hp.obo'\n",
    "r = requests.get(url)\n",
    "obo = r.text"
   ]
  },
  {
   "cell_type": "code",
   "execution_count": 5,
   "metadata": {},
   "outputs": [],
   "source": [
    "import re\n",
    "import networkx as nx\n",
    "\n",
    "#G = nx.DiGraph()\n",
    "G = nx.Graph()\n",
    "\n",
    "inside_term = False\n",
    "line_counter = 0\n",
    "current_id = None\n",
    "cirrent_isa = None\n",
    "\n",
    "names = {}\n",
    "ids = {}\n",
    "\n",
    "for line in obo.split('\\n'):\n",
    "    l = line.strip()\n",
    "    line_counter += 1\n",
    "    \n",
    "    if not l:\n",
    "        inside_term = False\n",
    "    \n",
    "    if l == '[Term]':\n",
    "        \n",
    "        if current_id and current_isa:\n",
    "            #print ('{} isa {}'.format(current_id, current_isa))\n",
    "            \n",
    "            #if not current_isa in nodes:\n",
    "            G.add_node(current_id)\n",
    "            G.add_node(current_isa)\n",
    "            G.add_edge(current_isa, current_id)\n",
    "        \n",
    "        current_id = None\n",
    "        current_isa = None\n",
    "        inside_term = True\n",
    "        continue\n",
    "    \n",
    "    #print (l)\n",
    "    s = re.search(r'^id: (HP:[\\d]+)', l)\n",
    "    if s:\n",
    "        current_id = s.group(1)\n",
    "        continue\n",
    "        \n",
    "    s = re.search(r'^is_a: (HP:[\\d]+)', l)\n",
    "    if s:\n",
    "        current_isa = s.group(1)\n",
    "        continue\n",
    "        \n",
    "    s = re.search(r'^name: (.+)$', l)\n",
    "    if s:\n",
    "        names[s.group(1)] = current_id\n",
    "        if not current_id in ids:\n",
    "            ids[current_id] = s.group(1)\n",
    "    \n",
    "    #if line_counter > 4000:\n",
    "    #    break\n",
    "G.add_node(current_id)\n",
    "G.add_node(current_isa)\n",
    "G.add_edge(current_isa, current_id)\n",
    "\n",
    "name_list = list(names.keys())"
   ]
  },
  {
   "cell_type": "code",
   "execution_count": 6,
   "metadata": {},
   "outputs": [
    {
     "name": "stdout",
     "output_type": "stream",
     "text": [
      "Hypoplasia of the vagina (HP:0008726) -- Increased mean corpuscular hemoglobin concentration (HP:0025548)\n",
      "12\n",
      "Hypoplasia of the vagina (HP:0008726)\n",
      "Aplasia/Hypoplasia of the vagina (HP:0011026)\n",
      "Abnormal vagina morphology (HP:0000142)\n",
      "Abnormality of female internal genitalia (HP:0000008)\n",
      "Abnormality of the female genitalia (HP:0010460)\n",
      "Abnormal reproductive system morphology (HP:0012243)\n",
      "Abnormality of the genital system (HP:0000078)\n",
      "Abnormality of the genitourinary system (HP:0000119)\n",
      "Phenotypic abnormality (HP:0000118)\n",
      "Abnormality of blood and blood-forming tissues (HP:0001871)\n",
      "Abnormal erythrocyte morphology (HP:0001877)\n",
      "Abnormal mean corpuscular hemoglobin concentration (HP:0025546)\n",
      "Increased mean corpuscular hemoglobin concentration (HP:0025548)\n",
      "{'HP:0000118', 'HP:0000001'}\n",
      "        HP:0000001\n",
      "        HP:0000118\n",
      "HP:0000119       HP:0001871\n",
      "HP:0000078       HP:0001877\n",
      "HP:0012243       HP:0025546\n",
      "HP:0010460       HP:0025548\n",
      "HP:0000008       \n",
      "HP:0000142       \n",
      "HP:0011026       \n",
      "HP:0008726       \n",
      "Common counter 2\n"
     ]
    }
   ],
   "source": [
    "import random\n",
    "name1 = random.choice(name_list)\n",
    "name2 = random.choice(name_list)\n",
    "id1 = names[name1]\n",
    "id2 = names[name2]\n",
    "print ('{} ({}) -- {} ({})'.format(name1, id1, name2, id2))\n",
    "print (nx.shortest_path_length(G, id1, id2))\n",
    "path = nx.shortest_path(G, id1, id2)\n",
    "for x in path:\n",
    "    print ('{} ({})'.format(ids[x], x))\n",
    "    \n",
    "path1 = nx.shortest_path(G, id1, 'HP:0000001')\n",
    "path2 = nx.shortest_path(G, id2, 'HP:0000001')\n",
    "\n",
    "G2 = nx.Graph()\n",
    "for i,p in enumerate(path1[:-1]):\n",
    "    G2.add_node(path1[i])\n",
    "    G2.add_node(path1[i+1])\n",
    "    G2.add_edge(path1[i], path1[i+1])\n",
    "\n",
    "for i,p in enumerate(path2[:-1]):\n",
    "    G2.add_node(path2[i])\n",
    "    G2.add_node(path2[i+1])\n",
    "    G2.add_edge(path2[i], path2[i+1])\n",
    "\n",
    "common = set(path1) & set(path2)\n",
    "print (common)\n",
    "\n",
    "def my_zip(a,b):\n",
    "    \n",
    "    iter_a = iter(a)\n",
    "    iter_b = iter(b)\n",
    "    \n",
    "    a_done = False\n",
    "    b_done = False\n",
    "    while True:\n",
    "        \n",
    "        if a_done:\n",
    "            ret_a = None\n",
    "        else:\n",
    "            try:\n",
    "                ret_a = next(iter_a)\n",
    "            except StopIteration:\n",
    "                a_done = True\n",
    "                ret_a = None\n",
    "        \n",
    "        if b_done:\n",
    "            ret_b = None\n",
    "        else:\n",
    "            try:\n",
    "                ret_b = next(iter_b)\n",
    "            except StopIteration:\n",
    "                b_done = True\n",
    "                ret_b = None\n",
    "\n",
    "        if a_done and b_done:\n",
    "            break\n",
    "\n",
    "        yield ret_a, ret_b\n",
    "        \n",
    "common_counter = 0\n",
    "for p1, p2 in my_zip(path1[::-1], path2[::-1]):\n",
    "    if p1==p2:\n",
    "        common_counter += 1\n",
    "        print (' '*7, p1)\n",
    "    else:\n",
    "        to_p1 = p1 if p1 else '          '\n",
    "        to_p2 = p2 if p2 else ''\n",
    "        print (to_p1, ' '*5, to_p2)\n",
    "\n",
    "print ('Common counter', common_counter)   "
   ]
  },
  {
   "cell_type": "markdown",
   "metadata": {},
   "source": [
    "### Άσκηση 5.16\n"
   ]
  },
  {
   "cell_type": "code",
   "execution_count": null,
   "metadata": {},
   "outputs": [],
   "source": [
    "save_abstracts('Greece', 10000)\n",
    "\n",
    "import requests\n",
    "\n",
    "url = 'https://raw.githubusercontent.com/obophenotype/human-phenotype-ontology/master/hp.obo'\n",
    "r = requests.get(url)\n",
    "obo = r.text\n",
    "\n",
    "import re\n",
    "import networkx as nx\n",
    "\n",
    "#G = nx.DiGraph()\n",
    "G = nx.Graph()\n",
    "\n",
    "inside_term = False\n",
    "line_counter = 0\n",
    "current_id = None\n",
    "cirrent_isa = None\n",
    "\n",
    "names = {}\n",
    "ids = {}\n",
    "\n",
    "for line in obo.split('\\n'):\n",
    "    l = line.strip()\n",
    "    line_counter += 1\n",
    "    \n",
    "    if not l:\n",
    "        inside_term = False\n",
    "    \n",
    "    if l == '[Term]':\n",
    "        \n",
    "        if current_id and current_isa:\n",
    "            #print ('{} isa {}'.format(current_id, current_isa))\n",
    "            \n",
    "            #if not current_isa in nodes:\n",
    "            G.add_node(current_id)\n",
    "            G.add_node(current_isa)\n",
    "            G.add_edge(current_isa, current_id)\n",
    "        \n",
    "        current_id = None\n",
    "        current_isa = None\n",
    "        inside_term = True\n",
    "        continue\n",
    "    \n",
    "    #print (l)\n",
    "    s = re.search(r'^id: (HP:[\\d]+)', l)\n",
    "    if s:\n",
    "        current_id = s.group(1)\n",
    "        continue\n",
    "        \n",
    "    s = re.search(r'^is_a: (HP:[\\d]+)', l)\n",
    "    if s:\n",
    "        current_isa = s.group(1)\n",
    "        continue\n",
    "        \n",
    "    s = re.search(r'^name: (.+)$', l)\n",
    "    if s:\n",
    "        names[s.group(1)] = current_id\n",
    "        if not current_id in ids:\n",
    "            ids[current_id] = s.group(1)\n",
    "    \n",
    "    #if line_counter > 4000:\n",
    "    #    break\n",
    "G.add_node(current_id)\n",
    "G.add_node(current_isa)\n",
    "G.add_edge(current_isa, current_id)\n",
    "\n",
    "name_list = list(names.keys())\n",
    "\n",
    "name_list_set = {y.lower() for x in name_list for y in x.split()}\n",
    "\n",
    "contained = []\n",
    "for item in data:\n",
    "    abstract = item[1].replace('.', ' ').replace(',', ' ').replace('(', ' ').replace(')',' ').lower()\n",
    "    for word in abstract.split():\n",
    "        if word in name_list_set:\n",
    "            contained.append(word)\n",
    "            \n",
    "from collections import Counter\n",
    "contained_c = Counter(contained)\n",
    "\n",
    "print (contained_c['low'])\n",
    "print (contained_c['positive'])\n",
    "print (contained_c['process'])\n",
    "print (contained_c['size'])\n",
    "print (contained_c['natural'])\n",
    "print (contained_c['cellular'])\n",
    "\n",
    "frequencies = {}\n",
    "with open('enwiki-20190320-words-frequency.txt') as f:\n",
    "    for l in f:\n",
    "        ls = l.replace('\\n', '').split()\n",
    "        frequencies[ls[0]] = int(ls[1])\n",
    "\n",
    "with open('word_cloud.txt', 'w') as f:\n",
    "    for x in contained:\n",
    "        #if contained_c[x] > 50:\n",
    "        #    continue\n",
    "        if frequencies.get(x, 10000000000) < 10000:\n",
    "            f.write(x + '\\n')\n",
    "            \n"
   ]
  },
  {
   "cell_type": "code",
   "execution_count": 88,
   "metadata": {},
   "outputs": [],
   "source": [
    "%%bash\n",
    "wordcloud_cli \\\n",
    "   --text word_cloud.txt \\\n",
    "   --imagefile wordclound.png \\\n",
    "   --width 1000 --height 1000 \\\n",
    "   --mask gr.jpg"
   ]
  },
  {
   "cell_type": "markdown",
   "metadata": {},
   "source": [
    "### Άσκηση 5.17"
   ]
  },
  {
   "cell_type": "code",
   "execution_count": 99,
   "metadata": {},
   "outputs": [
    {
     "name": "stderr",
     "output_type": "stream",
     "text": [
      "/Users/alexandroskanterakis/anaconda3/envs/python_lesson/lib/python3.7/site-packages/ipykernel_launcher.py:74: RuntimeWarning: invalid value encountered in double_scalars\n"
     ]
    },
    {
     "name": "stdout",
     "output_type": "stream",
     "text": [
      "Found significant position: rs7744733 / 16199621  . pvalue: 1.3782121962357915e-05\n"
     ]
    },
    {
     "data": {
      "image/png": "[encoded data removed]",
      "text/plain": [
       "<Figure size 432x288 with 1 Axes>"
      ]
     },
     "metadata": {
      "needs_background": "light"
     },
     "output_type": "display_data"
    }
   ],
   "source": [
    "import matplotlib.pyplot as plt\n",
    "import numpy as np\n",
    "from scipy.stats.distributions import chi2\n",
    "\n",
    "def parse(fn):\n",
    "    d = []\n",
    "    positions = []\n",
    "    ids = []\n",
    "    with open(fn) as f:\n",
    "        for l in f:\n",
    "            ls = l.strip().split()\n",
    "            positions.append(int(ls[2]))\n",
    "            ids.append(ls[1])\n",
    "            d.append([ (int(ls[x]), int(ls[x+1]), int(ls[x+2])) for x in range(5, len(ls), 3)])\n",
    "\n",
    "    return d, ids, positions\n",
    "\n",
    "\n",
    "\n",
    "def genotype_p_value(gen1, gen2, index, phenotypes):\n",
    "    obs = create_contingency_table(gen1[index] + gen2[index], phenotypes)\n",
    "    exp = create_expected_contingency_table(obs)\n",
    "    return get_pvalue(obs, exp)\n",
    "\n",
    "import pandas as pd\n",
    "\n",
    "def create_contingency_table(genotypes, phenotypes):\n",
    "    contingency = {'Disease': ['NO', 'YES', 'total']}\n",
    "    for allele in (0, 1):\n",
    "        contingency[allele] = []\n",
    "        total = 0\n",
    "        for phenotype in ('NO', 'YES'):\n",
    "            c = sum(g.count(allele) for g,p in zip(genotypes, phenotypes) if p==phenotype)\n",
    "            contingency[allele].append(c)\n",
    "            total += c\n",
    "        contingency[allele].append(total)\n",
    "\n",
    "    contingency = pd.DataFrame(contingency)\n",
    "    contingency = contingency.set_index('Disease')\n",
    "    contingency['total'] = contingency.apply(sum, axis=1)\n",
    "    \n",
    "    return contingency\n",
    "\n",
    "\n",
    "\n",
    "def create_expected_contingency_table(observed):\n",
    "\n",
    "    contingency_e = {'Disease': ['NO', 'YES', 'total']}\n",
    "    for allele in (0, 1):\n",
    "        contingency_e[allele] = []\n",
    "        total = 0\n",
    "        for phenotype in ('NO', 'YES'):\n",
    "            #c = sum(g.count(allele) for g,p in zip(genotypes, phenotypes) if p==phenotype)\n",
    "\n",
    "            c = observed.loc[phenotype]['total'] * observed.loc['total'][allele]\n",
    "            c = c/observed.loc['total']['total']\n",
    "\n",
    "            contingency_e[allele].append(c)\n",
    "            total += c\n",
    "        contingency_e[allele].append(total)\n",
    "\n",
    "    contingency_e = pd.DataFrame(contingency_e)\n",
    "    contingency_e = contingency_e.set_index('Disease')\n",
    "    contingency_e['total'] = contingency_e.apply(sum, axis=1)\n",
    "    \n",
    "    return contingency_e\n",
    "\n",
    "def get_chi_square(O,E):\n",
    "    ret = 0\n",
    "    for p in ('NO', 'YES'):\n",
    "        for al in (0, 1):\n",
    "            O_p_al = O.loc[p][al]\n",
    "            E_p_al = E.loc[p][al]\n",
    "            ret += (O_p_al-E_p_al)**2 / E_p_al\n",
    "    \n",
    "    return ret\n",
    "\n",
    "def get_pvalue(O, E):\n",
    "    chi_square = get_chi_square(O,E)\n",
    "    p_value = chi2.sf(chi_square, 1) # 1 = degrees of freedom\n",
    "    return p_value\n",
    "\n",
    "def do_everything():\n",
    "    d1, ids, positions = parse('chr6.cases.gen')\n",
    "    d2, ids, positions = parse('chr6.controls.gen')\n",
    "    genotypes_d1 = [[{(0,0,1): (1,1), (0,1,0): (0,1), (1,0,0): (0,0) }[y] for y in x] for x in d1]\n",
    "    genotypes_d2 = [[{(0,0,1): (1,1), (0,1,0): (0,1), (1,0,0): (0,0) }[y] for y in x] for x in d2]\n",
    "    phenotypes = ['YES'] * 100 + ['NO'] * 100\n",
    "    ps = [genotype_p_value(genotypes_d1, genotypes_d2, i, phenotypes) for i in range(len(d1))]\n",
    "    \n",
    "    for p, position, id_ in zip(ps, positions, ids):\n",
    "        if p < 0.0001:\n",
    "            print (f'Found significant position: {id_} / {position}  . pvalue: {p}')\n",
    "    \n",
    "    ps_log = -np.log10(ps)\n",
    "    plt.plot(range(len(d1)), ps_log, '.')\n",
    "    plt.plot()\n",
    "    \n",
    "    \n",
    "do_everything()"
   ]
  },
  {
   "cell_type": "code",
   "execution_count": null,
   "metadata": {},
   "outputs": [],
   "source": []
  },
  {
   "cell_type": "markdown",
   "metadata": {},
   "source": [
    "### Άσκηση 5.19"
   ]
  },
  {
   "cell_type": "code",
   "execution_count": null,
   "metadata": {},
   "outputs": [],
   "source": [
    "import re\n",
    "import numpy as np\n",
    "\n",
    "fn = '/Users/alexandroskanterakis/HLA/A_gen.txt'\n",
    "\n",
    "def get_seq(s):\n",
    "    return ''.join(x for x in s.strip().split())\n",
    "\n",
    "counter = 0\n",
    "alleles = 2695\n",
    "final_length = 3833\n",
    "\n",
    "total_length = 0\n",
    "image = np.zeros((alleles, final_length, 3), dtype=np.int16)\n",
    "\n",
    "with open(fn) as f:\n",
    "    for l in f:\n",
    "        if l[0] == '#':\n",
    "            continue \n",
    "        ls = l.strip()\n",
    "        if 'A*01:01:01:01 ' in ls:\n",
    "            \n",
    "            s = re.search(r'A\\*.+?  (.+)$', ls).group(1)\n",
    "            seq = get_seq(s)\n",
    "            #print (seq)\n",
    "            #print (counter)\n",
    "            counter = 0\n",
    "            current_length = len(seq)\n",
    "            total_length += current_length\n",
    "            #print (current_length)\n",
    "            #a=1/0\n",
    "            continue\n",
    "        \n",
    "        \n",
    "        counter += 1\n",
    "        \n",
    "        s = re.search(r'A\\*.+?  (.+)$', ls)\n",
    "        if s:\n",
    "            #print (s.group(1))\n",
    "            \n",
    "            seq = ''.join(x for x in s.group(1).strip().split())\n",
    "            \n",
    "            for i, letter in enumerate(seq):\n",
    "                if letter == '*':\n",
    "                    color = (255, 255, 255) # white\n",
    "                elif letter == '-':\n",
    "                    color = (0, 255, 0) # green\n",
    "                elif letter == '.':\n",
    "                    color = (0,0,255) # blue\n",
    "                elif letter in ['A', 'C', 'G', 'T']:\n",
    "                    color = (255, 0, 0) # red\n",
    "                elif letter == '|':\n",
    "                    color = (0, 0, 0) # black\n",
    "                else:\n",
    "                    print (letter)\n",
    "                    raise Exception('Unknown letter')\n",
    "                \n",
    "                image[counter, total_length-current_length+i, 0] = color[0]\n",
    "                image[counter, total_length-current_length+i, 1] = color[1]\n",
    "                image[counter, total_length-current_length+i, 2] = color[2]\n",
    "                \n",
    "            \n",
    "            #print (seq)\n",
    "            #a=1/0\n",
    "\n",
    "print ('Total alleles:', counter)\n",
    "print ('Total length:', total_length)\n",
    "\n",
    "from matplotlib.pyplot import imshow\n",
    "from matplotlib.pyplot import figure\n",
    "figure(num=None, figsize=(10, 10), dpi=160,)\n",
    "\n",
    "imshow(image)"
   ]
  },
  {
   "cell_type": "markdown",
   "metadata": {},
   "source": [
    "### Άσκηση 5.20"
   ]
  },
  {
   "cell_type": "code",
   "execution_count": 100,
   "metadata": {},
   "outputs": [],
   "source": [
    "f1 = '''\n",
    "   1 attaaaggtt tataccttcc caggtaacaa accaaccaac tttcgatctc ttgtagatct\n",
    "       61 gttctctaaa cgaactttaa aatctgtgtg gctgtcactc ggctgcatgc ttagtgcact\n",
    "      121 cacgcagtat aattaataac taattactgt cgttgacagg acacgagtaa ctcgtctatc\n",
    "      181 ttctgcaggc tgcttacggt ttcgtccgtg ttgcagccga tcatcagcac atctaggttt\n",
    "      241 cgtccgggtg tgaccgaaag gtaagatgga gagccttgtc cctggtttca acgagaaaac\n",
    "      301 acacgtccaa ctcagtttgc ctgttttaca ggttcgcgac gtgctcgtac gtggctttgg\n",
    "      361 agactccgtg gaggaggtct tatcagaggc acgtcaacat cttaaagatg gcacttgtgg\n",
    "      421 cttagtagaa gttgaaaaag gcgttttgcc tcaacttgaa cagccctatg tgttcatcaa\n",
    "      481 acgttcggat gctcgaactg cacctcatgg tcatgttatg gttgagctgg tagcagaact\n",
    "      541 cgaaggcatt cagtacggtc gtagtggtga gacacttggt gtccttgtcc ctcatgtggg\n",
    "      601 cgaaatacca gtggcttacc gcaaggttct tcttcgtaag aacggtaata aaggagctgg\n",
    "      661 tggccatagt tacggcgccg atctaaagtc atttgactta ggcgacgagc ttggcactga\n",
    "      721 tccttatgaa gattttcaag aaaactggaa cactaaacat agcagtggtg ttacccgtga\n",
    "      781 actcatgcgt gagcttaacg gaggggcata cactcgctat gtcgataaca acttctgtgg\n",
    "      841 ccctgatggc taccctcttg agtgcattaa agaccttcta gcacgtgctg gtaaagcttc\n",
    "      901 atgcactttg tccgaacaac tggactttat tgacactaag aggggtgtat actgctgccg\n",
    "      961 tgaacatgag catgaaattg cttggtacac ggaacgttct gaaaagagct atgaattgca\n",
    "     1021 gacacctttt gaaattaaat tggcaaagaa atttgacacc ttcaatgggg aatgtccaaa\n",
    "     1081 ttttgtattt cccttaaatt ccataatcaa gactattcaa ccaagggttg aaaagaaaaa\n",
    "     1141 gcttgatggc tttatgggta gaattcgatc tgtctatcca gttgcgtcac caaatgaatg\n",
    "     1201 caaccaaatg tgcctttcaa ctctcatgaa gtgtgatcat tgtggtgaaa cttcatggca\n",
    "     1261 gacgggcgat tttgttaaag ccacttgcga attttgtggc actgagaatt tgactaaaga\n",
    "     1321 aggtgccact acttgtggtt acttacccca aaatgctgtt gttaaaattt attgtccagc\n",
    "     1381 atgtcacaat tcagaagtag gacctgagca tagtcttgcc gaataccata atgaatctgg\n",
    "     1441 cttgaaaacc attcttcgta agggtggtcg cactattgcc tttggaggct gtgtgttctc\n",
    "     1501 ttatgttggt tgccataaca agtgtgccta ttgggttcca cgtgctagcg ctaacatagg\n",
    "     1561 ttgtaaccat acaggtgttg ttggagaagg ttccgaaggt cttaatgaca accttcttga\n",
    "     1621 aatactccaa aaagagaaag tcaacatcaa tattgttggt gactttaaac ttaatgaaga\n",
    "     1681 gatcgccatt attttggcat ctttttctgc ttccacaagt gcttttgtgg aaactgtgaa\n",
    "     1741 aggtttggat tataaagcat tcaaacaaat tgttgaatcc tgtggtaatt ttaaagttac\n",
    "     1801 aaaaggaaaa gctaaaaaag gtgcctggaa tattggtgaa cagaaatcaa tactgagtcc\n",
    "     1861 tctttatgca tttgcatcag aggctgctcg tgttgtacga tcaattttct cccgcactct\n",
    "     1921 tgaaactgct caaaattctg tgcgtgtttt acagaaggcc gctataacaa tactagatgg\n",
    "     1981 aatttcacag tattcactga gactcattga tgctatgatg ttcacatctg atttggctac\n",
    "     2041 taacaatcta gttgtaatgg cctacattac aggtggtgtt gttcagttga cttcgcagtg\n",
    "     2101 gctaactaac atctttggca ctgtttatga aaaactcaaa cccgtccttg attggcttga\n",
    "     2161 agagaagttt aaggaaggtg tagagtttct tagagacggt tgggaaattg ttaaatttat\n",
    "     2221 ctcaacctgt gcttgtgaaa ttgtcggtgg acaaattgtc acctgtgcaa aggaaattaa\n",
    "     2281 ggagagtgtt cagacattct ttaagcttgt aaataaattt ttggctttgt gtgctgactc\n",
    "     2341 tatcattatt ggtggagcta aacttaaagc cttgaattta ggtgaaacat ttgtcacgca\n",
    "     2401 ctcaaaggga ttgtacagaa agtgtgttaa atccagagaa gaaactggcc tactcatgcc\n",
    "     2461 tctaaaagcc ccaaaagaaa ttatcttctt agagggagaa acacttccca cagaagtgtt\n",
    "     2521 aacagaggaa gttgtcttga aaactggtga tttacaacca ttagaacaac ctactagtga\n",
    "     2581 agctgttgaa gctccattgg ttggtacacc agtttgtatt aacgggctta tgttgctcga\n",
    "     2641 aatcaaagac acagaaaagt actgtgccct tgcacctaat atgatggtaa caaacaatac\n",
    "     2701 cttcacactc aaaggcggtg caccaacaaa ggttactttt ggtgatgaca ctgtgataga\n",
    "     2761 agtgcaaggt tacaagagtg tgaatatcac ttttgaactt gatgaaagga ttgataaagt\n",
    "     2821 acttaatgag aagtgctctg cctatacagt tgaactcggt acagaagtaa atgagttcgc\n",
    "     2881 ctgtgttgtg gcagatgctg tcataaaaac tttgcaacca gtatctgaat tacttacacc\n",
    "     2941 actgggcatt gatttagatg agtggagtat ggctacatac tacttatttg atgagtctgg\n",
    "     3001 tgagtttaaa ttggcttcac atatgtattg ttctttctac cctccagatg aggatgaaga\n",
    "     3061 agaaggtgat tgtgaagaag aagagtttga gccatcaact caatatgagt atggtactga\n",
    "     3121 agatgattac caaggtaaac ctttggaatt tggtgccact tctgctgctc ttcaacctga\n",
    "     3181 agaagagcaa gaagaagatt ggttagatga tgatagtcaa caaactgttg gtcaacaaga\n",
    "     3241 cggcagtgag gacaatcaga caactactat tcaaacaatt gttgaggttc aacctcaatt\n",
    "     3301 agagatggaa cttacaccag ttgttcagac tattgaagtg aatagtttta gtggttattt\n",
    "     3361 aaaacttact gacaatgtat acattaaaaa tgcagacatt gtggaagaag ctaaaaaggt\n",
    "     3421 aaaaccaaca gtggttgtta atgcagccaa tgtttacctt aaacatggag gaggtgttgc\n",
    "     3481 aggagcctta aataaggcta ctaacaatgc catgcaagtt gaatctgatg attacatagc\n",
    "     3541 tactaatgga ccacttaaag tgggtggtag ttgtgtttta agcggacaca atcttgctaa\n",
    "     3601 acactgtctt catgttgtcg gcccaaatgt taacaaaggt gaagacattc aacttcttaa\n",
    "     3661 gagtgcttat gaaaatttta atcagcacga agttctactt gcaccattat tatcagctgg\n",
    "     3721 tatttttggt gctgacccta tacattcttt aagagtttgt gtagatactg ttcgcacaaa\n",
    "     3781 tgtctactta gctgtctttg ataaaaatct ctatgacaaa cttgtttcaa gctttttgga\n",
    "     3841 aatgaagagt gaaaagcaag ttgaacaaaa gatcgctgag attcctaaag aggaagttaa\n",
    "     3901 gccatttata actgaaagta aaccttcagt tgaacagaga aaacaagatg ataagaaaat\n",
    "     3961 caaagcttgt gttgaagaag ttacaacaac tctggaagaa actaagttcc tcacagaaaa\n",
    "     4021 cttgttactt tatattgaca ttaatggcaa tcttcatcca gattctgcca ctcttgttag\n",
    "     4081 tgacattgac atcactttct taaagaaaga tgctccatat atagtgggtg atgttgttca\n",
    "     4141 agagggtgtt ttaactgctg tggttatacc tactaaaaag gctggtggca ctactgaaat\n",
    "     4201 gctagcgaaa gctttgagaa aagtgccaac agacaattat ataaccactt acccgggtca\n",
    "     4261 gggtttaaat ggttacactg tagaggaggc aaagacagtg cttaaaaagt gtaaaagtgc\n",
    "     4321 cttttacatt ctaccatcta ttatctctaa tgagaagcaa gaaattcttg gaactgtttc\n",
    "     4381 ttggaatttg cgagaaatgc ttgcacatgc agaagaaaca cgcaaattaa tgcctgtctg\n",
    "     4441 tgtggaaact aaagccatag tttcaactat acagcgtaaa tataagggta ttaaaataca\n",
    "     4501 agagggtgtg gttgattatg gtgctagatt ttacttttac accagtaaaa caactgtagc\n",
    "     4561 gtcacttatc aacacactta acgatctaaa tgaaactctt gttacaatgc cacttggcta\n",
    "     4621 tgtaacacat ggcttaaatt tggaagaagc tgctcggtat atgagatctc tcaaagtgcc\n",
    "     4681 agctacagtt tctgtttctt cacctgatgc tgttacagcg tataatggtt atcttacttc\n",
    "     4741 ttcttctaaa acacctgaag aacattttat tgaaaccatc tcacttgctg gttcctataa\n",
    "     4801 agattggtcc tattctggac aatctacaca actaggtata gaatttctta agagaggtga\n",
    "     4861 taaaagtgta tattacacta gtaatcctac cacattccac ctagatggtg aagttatcac\n",
    "     4921 ctttgacaat cttaagacac ttctttcttt gagagaagtg aggactatta aggtgtttac\n",
    "     4981 aacagtagac aacattaacc tccacacgca agttgtggac atgtcaatga catatggaca\n",
    "     5041 acagtttggt ccaacttatt tggatggagc tgatgttact aaaataaaac ctcataattc\n",
    "     5101 acatgaaggt aaaacatttt atgttttacc taatgatgac actctacgtg ttgaggcttt\n",
    "     5161 tgagtactac cacacaactg atcctagttt tctgggtagg tacatgtcag cattaaatca\n",
    "     5221 cactaaaaag tggaaatacc cacaagttaa tggtttaact tctattaaat gggcagataa\n",
    "     5281 caactgttat cttgccactg cattgttaac actccaacaa atagagttga agtttaatcc\n",
    "     5341 acctgctcta caagatgctt attacagagc aagggctggt gaagctgcta acttttgtgc\n",
    "     5401 acttatctta gcctactgta ataagacagt aggtgagtta ggtgatgtta gagaaacaat\n",
    "     5461 gagttacttg tttcaacatg ccaatttaga ttcttgcaaa agagtcttga acgtggtgtg\n",
    "     5521 taaaacttgt ggacaacagc agacaaccct taagggtgta gaagctgtta tgtacatggg\n",
    "     5581 cacactttct tatgaacaat ttaagaaagg tgttcagata ccttgtacgt gtggtaaaca\n",
    "     5641 agctacaaaa tatctagtac aacaggagtc accttttgtt atgatgtcag caccacctgc\n",
    "     5701 tcagtatgaa cttaagcatg gtacatttac ttgtgctagt gagtacactg gtaattacca\n",
    "     5761 gtgtggtcac tataaacata taacttctaa agaaactttg tattgcatag acggtgcttt\n",
    "     5821 acttacaaag tcctcagaat acaaaggtcc tattacggat gttttctaca aagaaaacag\n",
    "     5881 ttacacaaca accataaaac cagttactta taaattggat ggtgttgttt gtacagaaat\n",
    "     5941 tgaccctaag ttggacaatt attataagaa agacaattct tatttcacag agcaaccaat\n",
    "     6001 tgatcttgta ccaaaccaac catatccaaa cgcaagcttc gataatttta agtttgtatg\n",
    "     6061 tgataatatc aaatttgctg atgatttaaa ccagttaact ggttataaga aacctgcttc\n",
    "     6121 aagagagctt aaagttacat ttttccctga cttaaatggt gatgtggtgg ctattgatta\n",
    "     6181 taaacactac acaccctctt ttaagaaagg agctaaattg ttacataaac ctattgtttg\n",
    "     6241 gcatgttaac aatgcaacta ataaagccac gtataaacca aatacctggt gtatacgttg\n",
    "     6301 tctttggagc acaaaaccag ttgaaacatc aaattcgttt gatgtactga agtcagagga\n",
    "     6361 cgcgcaggga atggataatc ttgcctgcga agatctaaaa ccagtctctg aagaagtagt\n",
    "     6421 ggaaaatcct accatacaga aagacgttct tgagtgtaat gtgaaaacta ccgaagttgt\n",
    "     6481 aggagacatt atacttaaac cagcaaataa tagtttaaaa attacagaag aggttggcca\n",
    "     6541 cacagatcta atggctgctt atgtagacaa ttctagtctt actattaaga aacctaatga\n",
    "     6601 attatctaga gtattaggtt tgaaaaccct tgctactcat ggtttagctg ctgttaatag\n",
    "     6661 tgtcccttgg gatactatag ctaattatgc taagcctttt cttaacaaag ttgttagtac\n",
    "     6721 aactactaac atagttacac ggtgtttaaa ccgtgtttgt actaattata tgccttattt\n",
    "     6781 ctttacttta ttgctacaat tgtgtacttt tactagaagt acaaattcta gaattaaagc\n",
    "     6841 atctatgccg actactatag caaagaatac tgttaagagt gtcggtaaat tttgtctaga\n",
    "     6901 ggcttcattt aattatttga agtcacctaa tttttctaaa ctgataaata ttataatttg\n",
    "     6961 gtttttacta ttaagtgttt gcctaggttc tttaatctac tcaaccgctg ctttaggtgt\n",
    "     7021 tttaatgtct aatttaggca tgccttctta ctgtactggt tacagagaag gctatttgaa\n",
    "     7081 ctctactaat gtcactattg caacctactg tactggttct ataccttgta gtgtttgtct\n",
    "     7141 tagtggttta gattctttag acacctatcc ttctttagaa actatacaaa ttaccatttc\n",
    "     7201 atcttttaaa tgggatttaa ctgcttttgg cttagttgca gagtggtttt tggcatatat\n",
    "     7261 tcttttcact aggtttttct atgtacttgg attggctgca atcatgcaat tgtttttcag\n",
    "     7321 ctattttgca gtacatttta ttagtaattc ttggcttatg tggttaataa ttaatcttgt\n",
    "     7381 acaaatggcc ccgatttcag ctatggttag aatgtacatc ttctttgcat cattttatta\n",
    "     7441 tgtatggaaa agttatgtgc atgttgtaga cggttgtaat tcatcaactt gtatgatgtg\n",
    "     7501 ttacaaacgt aatagagcaa caagagtcga atgtacaact attgttaatg gtgttagaag\n",
    "     7561 gtccttttat gtctatgcta atggaggtaa aggcttttgc aaactacaca attggaattg\n",
    "     7621 tgttaattgt gatacattct gtgctggtag tacatttatt agtgatgaag ttgcgagaga\n",
    "     7681 cttgtcacta cagtttaaaa gaccaataaa tcctactgac cagtcttctt acatcgttga\n",
    "     7741 tagtgttaca gtgaagaatg gttccatcca tctttacttt gataaagctg gtcaaaagac\n",
    "     7801 ttatgaaaga cattctctct ctcattttgt taacttagac aacctgagag ctaataacac\n",
    "     7861 taaaggttca ttgcctatta atgttatagt ttttgatggt aaatcaaaat gtgaagaatc\n",
    "     7921 atctgcaaaa tcagcgtctg tttactacag tcagcttatg tgtcaaccta tactgttact\n",
    "     7981 agatcaggca ttagtgtctg atgttggtga tagtgcggaa gttgcagtta aaatgtttga\n",
    "     8041 tgcttacgtt aatacgtttt catcaacttt taacgtacca atggaaaaac tcaaaacact\n",
    "     8101 agttgcaact gcagaagctg aacttgcaaa gaatgtgtcc ttagacaatg tcttatctac\n",
    "     8161 ttttatttca gcagctcggc aagggtttgt tgattcagat gtagaaacta aagatgttgt\n",
    "     8221 tgaatgtctt aaattgtcac atcaatctga catagaagtt actggcgata gttgtaataa\n",
    "     8281 ctatatgctc acctataaca aagttgaaaa catgacaccc cgtgaccttg gtgcttgtat\n",
    "     8341 tgactgtagt gcgcgtcata ttaatgcgca ggtagcaaaa agtcacaaca ttgctttgat\n",
    "     8401 atggaacgtt aaagatttca tgtcattgtc tgaacaacta cgaaaacaaa tacgtagtgc\n",
    "     8461 tgctaaaaag aataacttac cttttaagtt gacatgtgca actactagac aagttgttaa\n",
    "     8521 tgttgtaaca acaaagatag cacttaaggg tggtaaaatt gttaataatt ggttgaagca\n",
    "     8581 gttaattaaa gttacacttg tgttcctttt tgttgctgct attttctatt taataacacc\n",
    "     8641 tgttcatgtc atgtctaaac atactgactt ttcaagtgaa atcataggat acaaggctat\n",
    "     8701 tgatggtggt gtcactcgtg acatagcatc tacagatact tgttttgcta acaaacatgc\n",
    "     8761 tgattttgac acatggttta gccagcgtgg tggtagttat actaatgaca aagcttgccc\n",
    "     8821 attgattgct gcagtcataa caagagaagt gggttttgtc gtgcctggtt tgcctggcac\n",
    "     8881 gatattacgc acaactaatg gtgacttttt gcatttctta cctagagttt ttagtgcagt\n",
    "     8941 tggtaacatc tgttacacac catcaaaact tatagagtac actgactttg caacatcagc\n",
    "     9001 ttgtgttttg gctgctgaat gtacaatttt taaagatgct tctggtaagc cagtaccata\n",
    "     9061 ttgttatgat accaatgtac tagaaggttc tgttgcttat gaaagtttac gccctgacac\n",
    "     9121 acgttatgtg ctcatggatg gctctattat tcaatttcct aacacctacc ttgaaggttc\n",
    "     9181 tgttagagtg gtaacaactt ttgattctga gtactgtagg cacggcactt gtgaaagatc\n",
    "     9241 agaagctggt gtttgtgtat ctactagtgg tagatgggta cttaacaatg attattacag\n",
    "     9301 atctttacca ggagttttct gtggtgtaga tgctgtaaat ttacttacta atatgtttac\n",
    "     9361 accactaatt caacctattg gtgctttgga catatcagca tctatagtag ctggtggtat\n",
    "     9421 tgtagctatc gtagtaacat gccttgccta ctattttatg aggtttagaa gagcttttgg\n",
    "     9481 tgaatacagt catgtagttg cctttaatac tttactattc cttatgtcat tcactgtact\n",
    "     9541 ctgtttaaca ccagtttact cattcttacc tggtgtttat tctgttattt acttgtactt\n",
    "     9601 gacattttat cttactaatg atgtttcttt tttagcacat attcagtgga tggttatgtt\n",
    "     9661 cacaccttta gtacctttct ggataacaat tgcttatatc atttgtattt ccacaaagca\n",
    "     9721 tttctattgg ttctttagta attacctaaa gagacgtgta gtctttaatg gtgtttcctt\n",
    "     9781 tagtactttt gaagaagctg cgctgtgcac ctttttgtta aataaagaaa tgtatctaaa\n",
    "     9841 gttgcgtagt gatgtgctat tacctcttac gcaatataat agatacttag ctctttataa\n",
    "     9901 taagtacaag tattttagtg gagcaatgga tacaactagc tacagagaag ctgcttgttg\n",
    "     9961 tcatctcgca aaggctctca atgacttcag taactcaggt tctgatgttc tttaccaacc\n",
    "    10021 accacaaacc tctatcacct cagctgtttt gcagagtggt tttagaaaaa tggcattccc\n",
    "    10081 atctggtaaa gttgagggtt gtatggtaca agtaacttgt ggtacaacta cacttaacgg\n",
    "    10141 tctttggctt gatgacgtag tttactgtcc aagacatgtg atctgcacct ctgaagacat\n",
    "    10201 gcttaaccct aattatgaag atttactcat tcgtaagtct aatcataatt tcttggtaca\n",
    "    10261 ggctggtaat gttcaactca gggttattgg acattctatg caaaattgtg tacttaagct\n",
    "    10321 taaggttgat acagccaatc ctaagacacc taagtataag tttgttcgca ttcaaccagg\n",
    "    10381 acagactttt tcagtgttag cttgttacaa tggttcacca tctggtgttt accaatgtgc\n",
    "    10441 tatgaggccc aatttcacta ttaagggttc attccttaat ggttcatgtg gtagtgttgg\n",
    "    10501 ttttaacata gattatgact gtgtctcttt ttgttacatg caccatatgg aattaccaac\n",
    "    10561 tggagttcat gctggcacag acttagaagg taacttttat ggaccttttg ttgacaggca\n",
    "    10621 aacagcacaa gcagctggta cggacacaac tattacagtt aatgttttag cttggttgta\n",
    "    10681 cgctgctgtt ataaatggag acaggtggtt tctcaatcga tttaccacaa ctcttaatga\n",
    "    10741 ctttaacctt gtggctatga agtacaatta tgaacctcta acacaagacc atgttgacat\n",
    "    10801 actaggacct ctttctgctc aaactggaat tgccgtttta gatatgtgtg cttcattaaa\n",
    "    10861 agaattactg caaaatggta tgaatggacg taccatattg ggtagtgctt tattagaaga\n",
    "    10921 tgaatttaca ccttttgatg ttgttagaca atgctcaggt gttactttcc aaagtgcagt\n",
    "    10981 gaaaagaaca atcaagggta cacaccactg gttgttactc acaattttga cttcactttt\n",
    "    11041 agttttagtc cagagtactc aatggtcttt gttctttttt ttgtatgaaa atgccttttt\n",
    "    11101 accttttgct atgggtatta ttgctatgtc tgcttttgca atgatgtttg tcaaacataa\n",
    "    11161 gcatgcattt ctctgtttgt ttttgttacc ttctcttgcc actgtagctt attttaatat\n",
    "    11221 ggtctatatg cctgctagtt gggtgatgcg tattatgaca tggttggata tggttgatac\n",
    "    11281 tagtttgtct ggttttaagc taaaagactg tgttatgtat gcatcagctg tagtgttact\n",
    "    11341 aatccttatg acagcaagaa ctgtgtatga tgatggtgct aggagagtgt ggacacttat\n",
    "    11401 gaatgtcttg acactcgttt ataaagttta ttatggtaat gctttagatc aagccatttc\n",
    "    11461 catgtgggct cttataatct ctgttacttc taactactca ggtgtagtta caactgtcat\n",
    "    11521 gtttttggcc agaggtattg tttttatgtg tgttgagtat tgccctattt tcttcataac\n",
    "    11581 tggtaataca cttcagtgta taatgctagt ttattgtttc ttaggctatt tttgtacttg\n",
    "    11641 ttactttggc ctcttttgtt tactcaaccg ctactttaga ctgactcttg gtgtttatga\n",
    "    11701 ttacttagtt tctacacagg agtttagata tatgaattca cagggactac tcccacccaa\n",
    "    11761 gaatagcata gatgccttca aactcaacat taaattgttg ggtgttggtg gcaaaccttg\n",
    "    11821 tatcaaagta gccactgtac agtctaaaat gtcagatgta aagtgcacat cagtagtctt\n",
    "    11881 actctcagtt ttgcaacaac tcagagtaga atcatcatct aaattgtggg ctcaatgtgt\n",
    "    11941 ccagttacac aatgacattc tcttagctaa agatactact gaagcctttg aaaaaatggt\n",
    "    12001 ttcactactt tctgttttgc tttccatgca gggtgctgta gacataaaca agctttgtga\n",
    "    12061 agaaatgctg gacaacaggg caaccttaca agctatagcc tcagagttta gttcccttcc\n",
    "    12121 atcatatgca gcttttgcta ctgctcaaga agcttatgag caggctgttg ctaatggtga\n",
    "    12181 ttctgaagtt gttcttaaaa agttgaagaa gtctttgaat gtggctaaat ctgaatttga\n",
    "    12241 ccgtgatgca gccatgcaac gtaagttgga aaagatggct gatcaagcta tgacccaaat\n",
    "    12301 gtataaacag gctagatctg aggacaagag ggcaaaagtt actagtgcta tgcagacaat\n",
    "    12361 gcttttcact atgcttagaa agttggataa tgatgcactc aacaacatta tcaacaatgc\n",
    "    12421 aagagatggt tgtgttccct tgaacataat acctcttaca acagcagcca aactaatggt\n",
    "    12481 tgtcatacca gactataaca catataaaaa tacgtgtgat ggtacaacat ttacttatgc\n",
    "    12541 atcagcattg tgggaaatcc aacaggttgt agatgcagat agtaaaattg ttcaacttag\n",
    "    12601 tgaaattagt atggacaatt cacctaattt agcatggcct cttattgtaa cagctttaag\n",
    "    12661 ggccaattct gctgtcaaat tacagaataa tgagcttagt cctgttgcac tacgacagat\n",
    "    12721 gtcttgtgct gccggtacta cacaaactgc ttgcactgat gacaatgcgt tagcttacta\n",
    "    12781 caacacaaca aagggaggta ggtttgtact tgcactgtta tccgatttac aggatttgaa\n",
    "    12841 atgggctaga ttccctaaga gtgatggaac tggtactatc tatacagaac tggaaccacc\n",
    "    12901 ttgtaggttt gttacagaca cacctaaagg tcctaaagtg aagtatttat actttattaa\n",
    "    12961 aggattaaac aacctaaata gaggtatggt acttggtagt ttagctgcca cagtacgtct\n",
    "    13021 acaagctggt aatgcaacag aagtgcctgc caattcaact gtattatctt tctgtgcttt\n",
    "    13081 tgctgtagat gctgctaaag cttacaaaga ttatctagct agtgggggac aaccaatcac\n",
    "    13141 taattgtgtt aagatgttgt gtacacacac tggtactggt caggcaataa cagttacacc\n",
    "    13201 ggaagccaat atggatcaag aatcctttgg tggtgcatcg tgttgtctgt actgccgttg\n",
    "    13261 ccacatagat catccaaatc ctaaaggatt ttgtgactta aaaggtaagt atgtacaaat\n",
    "    13321 acctacaact tgtgctaatg accctgtggg ttttacactt aaaaacacag tctgtaccgt\n",
    "    13381 ctgcggtatg tggaaaggtt atggctgtag ttgtgatcaa ctccgcgaac ccatgcttca\n",
    "    13441 gtcagctgat gcacaatcgt ttttaaacgg gtttgcggtg taagtgcagc ccgtcttaca\n",
    "    13501 ccgtgcggca caggcactag tactgatgtc gtatacaggg cttttgacat ctacaatgat\n",
    "    13561 aaagtagctg gttttgctaa attcctaaaa actaattgtt gtcgcttcca agaaaaggac\n",
    "    13621 gaagatgaca atttaattga ttcttacttt gtagttaaga gacacacttt ctctaactac\n",
    "    13681 caacatgaag aaacaattta taatttactt aaggattgtc cagctgttgc taaacatgac\n",
    "    13741 ttctttaagt ttagaataga cggtgacatg gtaccacata tatcacgtca acgtcttact\n",
    "    13801 aaatacacaa tggcagacct cgtctatgct ttaaggcatt ttgatgaagg taattgtgac\n",
    "    13861 acattaaaag aaatacttgt cacatacaat tgttgtgatg atgattattt caataaaaag\n",
    "    13921 gactggtatg attttgtaga aaacccagat atattacgcg tatacgccaa cttaggtgaa\n",
    "    13981 cgtgtacgcc aagctttgtt aaaaacagta caattctgtg atgccatgcg aaatgctggt\n",
    "    14041 attgttggtg tactgacatt agataatcaa gatctcaatg gtaactggta tgatttcggt\n",
    "    14101 gatttcatac aaaccacgcc aggtagtgga gttcctgttg tagattctta ttattcattg\n",
    "    14161 ttaatgccta tattaacctt gaccagggct ttaactgcag agtcacatgt tgacactgac\n",
    "    14221 ttaacaaagc cttacattaa gtgggatttg ttaaaatatg acttcacgga agagaggtta\n",
    "    14281 aaactctttg accgttattt taaatattgg gatcagacat accacccaaa ttgtgttaac\n",
    "    14341 tgtttggatg acagatgcat tctgcattgt gcaaacttta atgttttatt ctctacagtg\n",
    "    14401 ttcccaccta caagttttgg accactagtg agaaaaatat ttgttgatgg tgttccattt\n",
    "    14461 gtagtttcaa ctggatacca cttcagagag ctaggtgttg tacataatca ggatgtaaac\n",
    "    14521 ttacatagct ctagacttag ttttaaggaa ttacttgtgt atgctgctga ccctgctatg\n",
    "    14581 cacgctgctt ctggtaatct attactagat aaacgcacta cgtgcttttc agtagctgca\n",
    "    14641 cttactaaca atgttgcttt tcaaactgtc aaacccggta attttaacaa agacttctat\n",
    "    14701 gactttgctg tgtctaaggg tttctttaag gaaggaagtt ctgttgaatt aaaacacttc\n",
    "    14761 ttctttgctc aggatggtaa tgctgctatc agcgattatg actactatcg ttataatcta\n",
    "    14821 ccaacaatgt gtgatatcag acaactacta tttgtagttg aagttgttga taagtacttt\n",
    "    14881 gattgttacg atggtggctg tattaatgct aaccaagtca tcgtcaacaa cctagacaaa\n",
    "    14941 tcagctggtt ttccatttaa taaatggggt aaggctagac tttattatga ttcaatgagt\n",
    "    15001 tatgaggatc aagatgcact tttcgcatat acaaaacgta atgtcatccc tactataact\n",
    "    15061 caaatgaatc ttaagtatgc cattagtgca aagaatagag ctcgcaccgt agctggtgtc\n",
    "    15121 tctatctgta gtactatgac caatagacag tttcatcaaa aattattgaa atcaatagcc\n",
    "    15181 gccactagag gagctactgt agtaattgga acaagcaaat tctatggtgg ttggcacaac\n",
    "    15241 atgttaaaaa ctgtttatag tgatgtagaa aaccctcacc ttatgggttg ggattatcct\n",
    "    15301 aaatgtgata gagccatgcc taacatgctt agaattatgg cctcacttgt tcttgctcgc\n",
    "    15361 aaacatacaa cgtgttgtag cttgtcacac cgtttctata gattagctaa tgagtgtgct\n",
    "    15421 caagtattga gtgaaatggt catgtgtggc ggttcactat atgttaaacc aggtggaacc\n",
    "    15481 tcatcaggag atgccacaac tgcttatgct aatagtgttt ttaacatttg tcaagctgtc\n",
    "    15541 acggccaatg ttaatgcact tttatctact gatggtaaca aaattgccga taagtatgtc\n",
    "    15601 cgcaatttac aacacagact ttatgagtgt ctctatagaa atagagatgt tgacacagac\n",
    "    15661 tttgtgaatg agttttacgc atatttgcgt aaacatttct caatgatgat actctctgac\n",
    "    15721 gatgctgttg tgtgtttcaa tagcacttat gcatctcaag gtctagtggc tagcataaag\n",
    "    15781 aactttaagt cagttcttta ttatcaaaac aatgttttta tgtctgaagc aaaatgttgg\n",
    "    15841 actgagactg accttactaa aggacctcat gaattttgct ctcaacatac aatgctagtt\n",
    "    15901 aaacagggtg atgattatgt gtaccttcct tacccagatc catcaagaat cctaggggcc\n",
    "    15961 ggctgttttg tagatgatat cgtaaaaaca gatggtacac ttatgattga acggttcgtg\n",
    "    16021 tctttagcta tagatgctta cccacttact aaacatccta atcaggagta tgctgatgtc\n",
    "    16081 tttcatttgt acttacaata cataagaaag ctacatgatg agttaacagg acacatgtta\n",
    "    16141 gacatgtatt ctgttatgct tactaatgat aacacttcaa ggtattggga acctgagttt\n",
    "    16201 tatgaggcta tgtacacacc gcatacagtc ttacaggctg ttggggcttg tgttctttgc\n",
    "    16261 aattcacaga cttcattaag atgtggtgct tgcatacgta gaccattctt atgttgtaaa\n",
    "    16321 tgctgttacg accatgtcat atcaacatca cataaattag tcttgtctgt taatccgtat\n",
    "    16381 gtttgcaatg ctccaggttg tgatgtcaca gatgtgactc aactttactt aggaggtatg\n",
    "    16441 agctattatt gtaaatcaca taaaccaccc attagttttc cattgtgtgc taatggacaa\n",
    "    16501 gtttttggtt tatataaaaa tacatgtgtt ggtagcgata atgttactga ctttaatgca\n",
    "    16561 attgcaacat gtgactggac aaatgctggt gattacattt tagctaacac ctgtactgaa\n",
    "    16621 agactcaagc tttttgcagc agaaacgctc aaagctactg aggagacatt taaactgtct\n",
    "    16681 tatggtattg ctactgtacg tgaagtgctg tctgacagag aattacatct ttcatgggaa\n",
    "    16741 gttggtaaac ctagaccacc acttaaccga aattatgtct ttactggtta tcgtgtaact\n",
    "    16801 aaaaacagta aagtacaaat aggagagtac acctttgaaa aaggtgacta tggtgatgct\n",
    "    16861 gttgtttacc gaggtacaac aacttacaaa ttaaatgttg gtgattattt tgtgctgaca\n",
    "    16921 tcacatacag taatgccatt aagtgcacct acactagtgc cacaagagca ctatgttaga\n",
    "    16981 attactggct tatacccaac actcaatatc tcagatgagt tttctagcaa tgttgcaaat\n",
    "    17041 tatcaaaagg ttggtatgca aaagtattct acactccagg gaccacctgg tactggtaag\n",
    "    17101 agtcattttg ctattggcct agctctctac tacccttctg ctcgcatagt gtatacagct\n",
    "    17161 tgctctcatg ccgctgttga tgcactatgt gagaaggcat taaaatattt gcctatagat\n",
    "    17221 aaatgtagta gaattatacc tgcacgtgct cgtgtagagt gttttgataa attcaaagtg\n",
    "    17281 aattcaacat tagaacagta tgtcttttgt actgtaaatg cattgcctga gacgacagca\n",
    "    17341 gatatagttg tctttgatga aatttcaatg gccacaaatt atgatttgag tgttgtcaat\n",
    "    17401 gccagattac gtgctaagca ctatgtgtac attggcgacc ctgctcaatt acctgcacca\n",
    "    17461 cgcacattgc taactaaggg cacactagaa ccagaatatt tcaattcagt gtgtagactt\n",
    "    17521 atgaaaacta taggtccaga catgttcctc ggaacttgtc ggcgttgtcc tgctgaaatt\n",
    "    17581 gttgacactg tgagtgcttt ggtttatgat aataagctta aagcacataa agacaaatca\n",
    "    17641 gctcaatgct ttaaaatgtt ttataagggt gttatcacgc atgatgtttc atctgcaatt\n",
    "    17701 aacaggccac aaataggcgt ggtaagagaa ttccttacac gtaaccctgc ttggagaaaa\n",
    "    17761 gctgtcttta tttcacctta taattcacag aatgctgtag cctcaaagat tttgggacta\n",
    "    17821 ccaactcaaa ctgttgattc atcacagggc tcagaatatg actatgtcat attcactcaa\n",
    "    17881 accactgaaa cagctcactc ttgtaatgta aacagattta atgttgctat taccagagca\n",
    "    17941 aaagtaggca tactttgcat aatgtctgat agagaccttt atgacaagtt gcaatttaca\n",
    "    18001 agtcttgaaa ttccacgtag gaatgtggca actttacaag ctgaaaatgt aacaggactc\n",
    "    18061 tttaaagatt gtagtaaggt aatcactggg ttacatccta cacaggcacc tacacacctc\n",
    "    18121 agtgttgaca ctaaattcaa aactgaaggt ttatgtgttg acatacctgg catacctaag\n",
    "    18181 gacatgacct atagaagact catctctatg atgggtttta aaatgaatta tcaagttaat\n",
    "    18241 ggttacccta acatgtttat cacccgcgaa gaagctataa gacatgtacg tgcatggatt\n",
    "    18301 ggcttcgatg tcgaggggtg tcatgctact agagaagctg ttggtaccaa tttaccttta\n",
    "    18361 cagctaggtt tttctacagg tgttaaccta gttgctgtac ctacaggtta tgttgataca\n",
    "    18421 cctaataata cagatttttc cagagttagt gctaaaccac cgcctggaga tcaatttaaa\n",
    "    18481 cacctcatac cacttatgta caaaggactt ccttggaatg tagtgcgtat aaagattgta\n",
    "    18541 caaatgttaa gtgacacact taaaaatctc tctgacagag tcgtatttgt cttatgggca\n",
    "    18601 catggctttg agttgacatc tatgaagtat tttgtgaaaa taggacctga gcgcacctgt\n",
    "    18661 tgtctatgtg atagacgtgc cacatgcttt tccactgctt cagacactta tgcctgttgg\n",
    "    18721 catcattcta ttggatttga ttacgtctat aatccgttta tgattgatgt tcaacaatgg\n",
    "    18781 ggttttacag gtaacctaca aagcaaccat gatctgtatt gtcaagtcca tggtaatgca\n",
    "    18841 catgtagcta gttgtgatgc aatcatgact aggtgtctag ctgtccacga gtgctttgtt\n",
    "    18901 aagcgtgttg actggactat tgaatatcct ataattggtg atgaactgaa gattaatgcg\n",
    "    18961 gcttgtagaa aggttcaaca catggttgtt aaagctgcat tattagcaga caaattccca\n",
    "    19021 gttcttcacg acattggtaa ccctaaagct attaagtgtg tacctcaagc tgatgtagaa\n",
    "    19081 tggaagttct atgatgcaca gccttgtagt gacaaagctt ataaaataga agaattattc\n",
    "    19141 tattcttatg ccacacattc tgacaaattc acagatggtg tatgcctatt ttggaattgc\n",
    "    19201 aatgtcgata gatatcctgc taattccatt gtttgtagat ttgacactag agtgctatct\n",
    "    19261 aaccttaact tgcctggttg tgatggtggc agtttgtatg taaataaaca tgcattccac\n",
    "    19321 acaccagctt ttgataaaag tgcttttgtt aatttaaaac aattaccatt tttctattac\n",
    "    19381 tctgacagtc catgtgagtc tcatggaaaa caagtagtgt cagatataga ttatgtacca\n",
    "    19441 ctaaagtctg ctacgtgtat aacacgttgc aatttaggtg gtgctgtctg tagacatcat\n",
    "    19501 gctaatgagt acagattgta tctcgatgct tataacatga tgatctcagc tggctttagc\n",
    "    19561 ttgtgggttt acaaacaatt tgatacttat aacctctgga acacttttac aagacttcag\n",
    "    19621 agtttagaaa atgtggcttt taatgttgta aataagggac actttgatgg acaacagggt\n",
    "    19681 gaagtaccag tttctatcat taataacact gtttacacaa aagttgatgg tgttgatgta\n",
    "    19741 gaattgtttg aaaataaaac aacattacct gttaatgtag catttgagct ttgggctaag\n",
    "    19801 cgcaacatta aaccagtacc agaggtgaaa atactcaata atttgggtgt ggacattgct\n",
    "    19861 gctaatactg tgatctggga ctacaaaaga gatgctccag cacatatatc tactattggt\n",
    "    19921 gtttgttcta tgactgacat agccaagaaa ccaactgaaa cgatttgtgc accactcact\n",
    "    19981 gtcttttttg atggtagagt tgatggtcaa gtagacttat ttagaaatgc ccgtaatggt\n",
    "    20041 gttcttatta cagaaggtag tgttaaaggt ttacaaccat ctgtaggtcc caaacaagct\n",
    "    20101 agtcttaatg gagtcacatt aattggagaa gccgtaaaaa cacagttcaa ttattataag\n",
    "    20161 aaagttgatg gtgttgtcca acaattacct gaaacttact ttactcagag tagaaattta\n",
    "    20221 caagaattta aacccaggag tcaaatggaa attgatttct tagaattagc tatggatgaa\n",
    "    20281 ttcattgaac ggtataaatt agaaggctat gccttcgaac atatcgttta tggagatttt\n",
    "    20341 agtcatagtc agttaggtgg tttacatcta ctgattggac tagctaaacg ttttaaggaa\n",
    "    20401 tcaccttttg aattagaaga ttttattcct atggacagta cagttaaaaa ctatttcata\n",
    "    20461 acagatgcgc aaacaggttc atctaagtgt gtgtgttctg ttattgattt attacttgat\n",
    "    20521 gattttgttg aaataataaa atcccaagat ttatctgtag tttctaaggt tgtcaaagtg\n",
    "    20581 actattgact atacagaaat ttcatttatg ctttggtgta aagatggcca tgtagaaaca\n",
    "    20641 ttttacccaa aattacaatc tagtcaagcg tggcaaccgg gtgttgctat gcctaatctt\n",
    "    20701 tacaaaatgc aaagaatgct attagaaaag tgtgaccttc aaaattatgg tgatagtgca\n",
    "    20761 acattaccta aaggcataat gatgaatgtc gcaaaatata ctcaactgtg tcaatattta\n",
    "    20821 aacacattaa cattagctgt accctataat atgagagtta tacattttgg tgctggttct\n",
    "    20881 gataaaggag ttgcaccagg tacagctgtt ttaagacagt ggttgcctac gggtacgctg\n",
    "    20941 cttgtcgatt cagatcttaa tgactttgtc tctgatgcag attcaacttt gattggtgat\n",
    "    21001 tgtgcaactg tacatacagc taataaatgg gatctcatta ttagtgatat gtacgaccct\n",
    "    21061 aagactaaaa atgttacaaa agaaaatgac tctaaagagg gttttttcac ttacatttgt\n",
    "    21121 gggtttatac aacaaaagct agctcttgga ggttccgtgg ctataaagat aacagaacat\n",
    "    21181 tcttggaatg ctgatcttta taagctcatg ggacacttcg catggtggac agcctttgtt\n",
    "    21241 actaatgtga atgcgtcatc atctgaagca tttttaattg gatgtaatta tcttggcaaa\n",
    "    21301 ccacgcgaac aaatagatgg ttatgtcatg catgcaaatt acatattttg gaggaataca\n",
    "    21361 aatccaattc agttgtcttc ctattcttta tttgacatga gtaaatttcc ccttaaatta\n",
    "    21421 aggggtactg ctgttatgtc tttaaaagaa ggtcaaatca atgatatgat tttatctctt\n",
    "    21481 cttagtaaag gtagacttat aattagagaa aacaacagag ttgttatttc tagtgatgtt\n",
    "    21541 cttgttaaca actaaacgaa caatgtttgt ttttcttgtt ttattgccac tagtctctag\n",
    "    21601 tcagtgtgtt aatcttacaa ccagaactca attaccccct gcatacacta attctttcac\n",
    "    21661 acgtggtgtt tattaccctg acaaagtttt cagatcctca gttttacatt caactcagga\n",
    "    21721 cttgttctta cctttctttt ccaatgttac ttggttccat gctatacatg tctctgggac\n",
    "    21781 caatggtact aagaggtttg ataaccctgt cctaccattt aatgatggtg tttattttgc\n",
    "    21841 ttccactgag aagtctaaca taataagagg ctggattttt ggtactactt tagattcgaa\n",
    "    21901 gacccagtcc ctacttattg ttaataacgc tactaatgtt gttattaaag tctgtgaatt\n",
    "    21961 tcaattttgt aatgatccat ttttgggtgt ttattaccac aaaaacaaca aaagttggat\n",
    "    22021 ggaaagtgag ttcagagttt attctagtgc gaataattgc acttttgaat atgtctctca\n",
    "    22081 gccttttctt atggaccttg aaggaaaaca gggtaatttc aaaaatctta gggaatttgt\n",
    "    22141 gtttaagaat attgatggtt attttaaaat atattctaag cacacgccta ttaatttagt\n",
    "    22201 gcgtgatctc cctcagggtt tttcggcttt agaaccattg gtagatttgc caataggtat\n",
    "    22261 taacatcact aggtttcaaa ctttacttgc tttacataga agttatttga ctcctggtga\n",
    "    22321 ttcttcttca ggttggacag ctggtgctgc agcttattat gtgggttatc ttcaacctag\n",
    "    22381 gacttttcta ttaaaatata atgaaaatgg aaccattaca gatgctgtag actgtgcact\n",
    "    22441 tgaccctctc tcagaaacaa agtgtacgtt gaaatccttc actgtagaaa aaggaatcta\n",
    "    22501 tcaaacttct aactttagag tccaaccaac agaatctatt gttagatttc ctaatattac\n",
    "    22561 aaacttgtgc ccttttggtg aagtttttaa cgccaccaga tttgcatctg tttatgcttg\n",
    "    22621 gaacaggaag agaatcagca actgtgttgc tgattattct gtcctatata attccgcatc\n",
    "    22681 attttccact tttaagtgtt atggagtgtc tcctactaaa ttaaatgatc tctgctttac\n",
    "    22741 taatgtctat gcagattcat ttgtaattag aggtgatgaa gtcagacaaa tcgctccagg\n",
    "    22801 gcaaactgga aagattgctg attataatta taaattacca gatgatttta caggctgcgt\n",
    "    22861 tatagcttgg aattctaaca atcttgattc taaggttggt ggtaattata attacctgta\n",
    "    22921 tagattgttt aggaagtcta atctcaaacc ttttgagaga gatatttcaa ctgaaatcta\n",
    "    22981 tcaggccggt agcacacctt gtaatggtgt tgaaggtttt aattgttact ttcctttaca\n",
    "    23041 atcatatggt ttccaaccca ctaatggtgt tggttaccaa ccatacagag tagtagtact\n",
    "    23101 ttcttttgaa cttctacatg caccagcaac tgtttgtgga cctaaaaagt ctactaattt\n",
    "    23161 ggttaaaaac aaatgtgtca atttcaactt caatggttta acaggcacag gtgttcttac\n",
    "    23221 tgagtctaac aaaaagtttc tgcctttcca acaatttggc agagacattg ctgacactac\n",
    "    23281 tgatgctgtc cgtgatccac agacacttga gattcttgac attacaccat gttcttttgg\n",
    "    23341 tggtgtcagt gttataacac caggaacaaa tacttctaac caggttgctg ttctttatca\n",
    "    23401 ggatgttaac tgcacagaag tccctgttgc tattcatgca gatcaactta ctcctacttg\n",
    "    23461 gcgtgtttat tctacaggtt ctaatgtttt tcaaacacgt gcaggctgtt taataggggc\n",
    "    23521 tgaacatgtc aacaactcat atgagtgtga catacccatt ggtgcaggta tatgcgctag\n",
    "    23581 ttatcagact cagactaatt ctcctcggcg ggcacgtagt gtagctagtc aatccatcat\n",
    "    23641 tgcctacact atgtcacttg gtgcagaaaa ttcagttgct tactctaata actctattgc\n",
    "    23701 catacccaca aattttacta ttagtgttac cacagaaatt ctaccagtgt ctatgaccaa\n",
    "    23761 gacatcagta gattgtacaa tgtacatttg tggtgattca actgaatgca gcaatctttt\n",
    "    23821 gttgcaatat ggcagttttt gtacacaatt aaaccgtgct ttaactggaa tagctgttga\n",
    "    23881 acaagacaaa aacacccaag aagtttttgc acaagtcaaa caaatttaca aaacaccacc\n",
    "    23941 aattaaagat tttggtggtt ttaatttttc acaaatatta ccagatccat caaaaccaag\n",
    "    24001 caagaggtca tttattgaag atctactttt caacaaagtg acacttgcag atgctggctt\n",
    "    24061 catcaaacaa tatggtgatt gccttggtga tattgctgct agagacctca tttgtgcaca\n",
    "    24121 aaagtttaac ggccttactg ttttgccacc tttgctcaca gatgaaatga ttgctcaata\n",
    "    24181 cacttctgca ctgttagcgg gtacaatcac ttctggttgg acctttggtg caggtgctgc\n",
    "    24241 attacaaata ccatttgcta tgcaaatggc ttataggttt aatggtattg gagttacaca\n",
    "    24301 gaatgttctc tatgagaacc aaaaattgat tgccaaccaa tttaatagtg ctattggcaa\n",
    "    24361 aattcaagac tcactttctt ccacagcaag tgcacttgga aaacttcaag atgtggtcaa\n",
    "    24421 ccaaaatgca caagctttaa acacgcttgt taaacaactt agctccaatt ttggtgcaat\n",
    "    24481 ttcaagtgtt ttaaatgata tcctttcacg tcttgacaaa gttgaggctg aagtgcaaat\n",
    "    24541 tgataggttg atcacaggca gacttcaaag tttgcagaca tatgtgactc aacaattaat\n",
    "    24601 tagagctgca gaaatcagag cttctgctaa tcttgctgct actaaaatgt cagagtgtgt\n",
    "    24661 acttggacaa tcaaaaagag ttgatttttg tggaaagggc tatcatctta tgtccttccc\n",
    "    24721 tcagtcagca cctcatggtg tagtcttctt gcatgtgact tatgtccctg cacaagaaaa\n",
    "    24781 gaacttcaca actgctcctg ccatttgtca tgatggaaaa gcacactttc ctcgtgaagg\n",
    "    24841 tgtctttgtt tcaaatggca cacactggtt tgtaacacaa aggaattttt atgaaccaca\n",
    "    24901 aatcattact acagacaaca catttgtgtc tggtaactgt gatgttgtaa taggaattgt\n",
    "    24961 caacaacaca gtttatgatc ctttgcaacc tgaattagac tcattcaagg aggagttaga\n",
    "    25021 taaatatttt aagaatcata catcaccaga tgttgattta ggtgacatct ctggcattaa\n",
    "    25081 tgcttcagtt gtaaacattc aaaaagaaat tgaccgcctc aatgaggttg ccaagaattt\n",
    "    25141 aaatgaatct ctcatcgatc tccaagaact tggaaagtat gagcagtata taaaatggcc\n",
    "    25201 atggtacatt tggctaggtt ttatagctgg cttgattgcc atagtaatgg tgacaattat\n",
    "    25261 gctttgctgt atgaccagtt gctgtagttg tctcaagggc tgttgttctt gtggatcctg\n",
    "    25321 ctgcaaattt gatgaagacg actctgagcc agtgctcaaa ggagtcaaat tacattacac\n",
    "    25381 ataaacgaac ttatggattt gtttatgaga atcttcacaa ttggaactgt aactttgaag\n",
    "    25441 caaggtgaaa tcaaggatgc tactccttca gattttgttc gcgctactgc aacgataccg\n",
    "    25501 atacaagcct cactcccttt cggatggctt attgttggcg ttgcacttct tgctgttttt\n",
    "    25561 cagagcgctt ccaaaatcat aaccctcaaa aagagatggc aactagcact ctccaagggt\n",
    "    25621 gttcactttg tttgcaactt gctgttgttg tttgtaacag tttactcaca ccttttgctc\n",
    "    25681 gttgctgctg gccttgaagc cccttttctc tatctttatg ctttagtcta cttcttgcag\n",
    "    25741 agtataaact ttgtaagaat aataatgagg ctttggcttt gctggaaatg ccgttccaaa\n",
    "    25801 aacccattac tttatgatgc caactatttt ctttgctggc atactaattg ttacgactat\n",
    "    25861 tgtatacctt acaatagtgt aacttcttca attgtcatta cttcaggtga tggcacaaca\n",
    "    25921 agtcctattt ctgaacatga ctaccagatt ggtggttata ctgaaaaatg ggaatctgga\n",
    "    25981 gtaaaagact gtgttgtatt acacagttac ttcacttcag actattacca gctgtactca\n",
    "    26041 actcaattga gtacagacac tggtgttgaa catgttacct tcttcatcta caataaaatt\n",
    "    26101 gttgatgagc ctgaagaaca tgtccaaatt cacacaatcg acggttcatc cggagttgtt\n",
    "    26161 aatccagtaa tggaaccaat ttatgatgaa ccgacgacga ctactagcgt gcctttgtaa\n",
    "    26221 gcacaagctg atgagtacga acttatgtac tcattcgttt cggaagagac aggtacgtta\n",
    "    26281 atagttaata gcgtacttct ttttcttgct ttcgtggtat tcttgctagt tacactagcc\n",
    "    26341 atccttactg cgcttcgatt gtgtgcgtac tgctgcaata ttgttaacgt gagtcttgta\n",
    "    26401 aaaccttctt tttacgttta ctctcgtgtt aaaaatctga attcttctag agttcctgat\n",
    "    26461 cttctggtct aaacgaacta aatattatat tagtttttct gtttggaact ttaattttag\n",
    "    26521 ccatggcaga ttccaacggt actattaccg ttgaagagct taaaaagctc cttgaacaat\n",
    "    26581 ggaacctagt aataggtttc ctattcctta catggatttg tcttctacaa tttgcctatg\n",
    "    26641 ccaacaggaa taggtttttg tatataatta agttaatttt cctctggctg ttatggccag\n",
    "    26701 taactttagc ttgttttgtg cttgctgctg tttacagaat aaattggatc accggtggaa\n",
    "    26761 ttgctatcgc aatggcttgt cttgtaggct tgatgtggct cagctacttc attgcttctt\n",
    "    26821 tcagactgtt tgcgcgtacg cgttccatgt ggtcattcaa tccagaaact aacattcttc\n",
    "    26881 tcaacgtgcc actccatggc actattctga ccagaccgct tctagaaagt gaactcgtaa\n",
    "    26941 tcggagctgt gatccttcgt ggacatcttc gtattgctgg acaccatcta ggacgctgtg\n",
    "    27001 acatcaagga cctgcctaaa gaaatcactg ttgctacatc acgaacgctt tcttattaca\n",
    "    27061 aattgggagc ttcgcagcgt gtagcaggtg actcaggttt tgctgcatac agtcgctaca\n",
    "    27121 ggattggcaa ctataaatta aacacagacc attccagtag cagtgacaat attgctttgc\n",
    "    27181 ttgtacagta agtgacaaca gatgtttcat ctcgttgact ttcaggttac tatagcagag\n",
    "    27241 atattactaa ttattatgag gacttttaaa gtttccattt ggaatcttga ttacatcata\n",
    "    27301 aacctcataa ttaaaaattt atctaagtca ctaactgaga ataaatattc tcaattagat\n",
    "    27361 gaagagcaac caatggagat tgattaaacg aacatgaaaa ttattctttt cttggcactg\n",
    "    27421 ataacactcg ctacttgtga gctttatcac taccaagagt gtgttagagg tacaacagta\n",
    "    27481 cttttaaaag aaccttgctc ttctggaaca tacgagggca attcaccatt tcatcctcta\n",
    "    27541 gctgataaca aatttgcact gacttgcttt agcactcaat ttgcttttgc ttgtcctgac\n",
    "    27601 ggcgtaaaac acgtctatca gttacgtgcc agatcagttt cacctaaact gttcatcaga\n",
    "    27661 caagaggaag ttcaagaact ttactctcca atttttctta ttgttgcggc aatagtgttt\n",
    "    27721 ataacacttt gcttcacact caaaagaaag acagaatgat tgaactttca ttaattgact\n",
    "    27781 tctatttgtg ctttttagcc tttctgctat tccttgtttt aattatgctt attatctttt\n",
    "    27841 ggttctcact tgaactgcaa gatcataatg aaacttgtca cgcctaaacg aacatgaaat\n",
    "    27901 ttcttgtttt cttaggaatc atcacaactg tagctgcatt tcaccaagaa tgtagtttac\n",
    "    27961 agtcatgtac tcaacatcaa ccatatgtag ttgatgaccc gtgtcctatt cacttctatt\n",
    "    28021 ctaaatggta tattagagta ggagctagaa aatcagcacc tttaattgaa ttgtgcgtgg\n",
    "    28081 atgaggctgg ttctaaatca cccattcagt acatcgatat cggtaattat acagtttcct\n",
    "    28141 gtttaccttt tacaattaat tgccaggaac ctaaattggg tagtcttgta gtgcgttgtt\n",
    "    28201 cgttctatga agacttttta gagtatcatg acgttcgtgt tgttttagat ttcatctaaa\n",
    "    28261 cgaacaaact aaaatgtctg ataatggacc ccaaaatcag cgaaatgcac cccgcattac\n",
    "    28321 gtttggtgga ccctcagatt caactggcag taaccagaat ggagaacgca gtggggcgcg\n",
    "    28381 atcaaaacaa cgtcggcccc aaggtttacc caataatact gcgtcttggt tcaccgctct\n",
    "    28441 cactcaacat ggcaaggaag accttaaatt ccctcgagga caaggcgttc caattaacac\n",
    "    28501 caatagcagt ccagatgacc aaattggcta ctaccgaaga gctaccagac gaattcgtgg\n",
    "    28561 tggtgacggt aaaatgaaag atctcagtcc aagatggtat ttctactacc taggaactgg\n",
    "    28621 gccagaagct ggacttccct atggtgctaa caaagacggc atcatatggg ttgcaactga\n",
    "    28681 gggagccttg aatacaccaa aagatcacat tggcacccgc aatcctgcta acaatgctgc\n",
    "    28741 aatcgtgcta caacttcctc aaggaacaac attgccaaaa ggcttctacg cagaagggag\n",
    "    28801 cagaggcggc agtcaagcct cttctcgttc ctcatcacgt agtcgcaaca gttcaagaaa\n",
    "    28861 ttcaactcca ggcagcagta ggggaacttc tcctgctaga atggctggca atggcggtga\n",
    "    28921 tgctgctctt gctttgctgc tgcttgacag attgaaccag cttgagagca aaatgtctgg\n",
    "    28981 taaaggccaa caacaacaag gccaaactgt cactaagaaa tctgctgctg aggcttctaa\n",
    "    29041 gaagcctcgg caaaaacgta ctgccactaa agcatacaat gtaacacaag ctttcggcag\n",
    "    29101 acgtggtcca gaacaaaccc aaggaaattt tggggaccag gaactaatca gacaaggaac\n",
    "    29161 tgattacaaa cattggccgc aaattgcaca atttgccccc agcgcttcag cgttcttcgg\n",
    "    29221 aatgtcgcgc attggcatgg aagtcacacc ttcgggaacg tggttgacct acacaggtgc\n",
    "    29281 catcaaattg gatgacaaag atccaaattt caaagatcaa gtcattttgc tgaataagca\n",
    "    29341 tattgacgca tacaaaacat tcccaccaac agagcctaaa aaggacaaaa agaagaaggc\n",
    "    29401 tgatgaaact caagccttac cgcagagaca gaagaaacag caaactgtga ctcttcttcc\n",
    "    29461 tgctgcagat ttggatgatt tctccaaaca attgcaacaa tccatgagca gtgctgactc\n",
    "    29521 aactcaggcc taaactcatg cagaccacac aaggcagatg ggctatataa acgttttcgc\n",
    "    29581 ttttccgttt acgatatata gtctactctt gtgcagaatg aattctcgta actacatagc\n",
    "    29641 acaagtagat gtagttaact ttaatctcac atagcaatct ttaatcagtg tgtaacatta\n",
    "    29701 gggaggactt gaaagagcca ccacattttc accgaggcca cgcggagtac gatcgagtgt\n",
    "    29761 acagtgaaca atgctaggga gagctgccta tatggaagag ccctaatgtg taaaattaat\n",
    "    29821 tttagtagtg ctatccccat gtgattttaa tagcttctta ggagaatgac aaaaaaaaaa\n",
    "    29881 aaaaaaaaaa aaaaaaaaaa aaa\n",
    "'''\n",
    "\n",
    "f2 = '''\n",
    "        1 atattaggtt tttacctacc caggaaaagc caaccaacct cgatctcttg tagatctgtt\n",
    "       61 ctctaaacga actttaaaat ctgtgtagct gtcgctcggc tgcatgccta gtgcacctac\n",
    "      121 gcagtataaa caataataaa ttttactgtc gttgacaaga aacgagtaac tcgtccctct\n",
    "      181 tctgcagact gcttacggtt tcgtccgtgt tgcagtcgat catcagcata cctaggtttc\n",
    "      241 gtccgggtgt gaccgaaagg taagatggag agccttgttc ttggtgtcaa cgagaaaaca\n",
    "      301 cacgtccaac tcagtttgcc tgtccttcag gttagagacg tgctagtgcg tggcttcggg\n",
    "      361 gactctgtgg aagaggccct atcggaggca cgtgaacacc tcaaaaatgg cacttgtggt\n",
    "      421 ctagtagagc tggaaaaagg cgtactgccc cagcttgaac agccctatgt gttcattaaa\n",
    "      481 cgttctgatg ccttaagcac caatcacggc cacaaggtcg ttgagctggt tgcagaaatg\n",
    "      541 gacggcattc agtacggtcg tagcggtata acactgggag tactcgtgcc acatgtgggc\n",
    "      601 gaaaccccaa ttgcataccg caatgttctt cttcgtaaga acggtaataa gggagccggt\n",
    "      661 ggtcatagct atggcatcga tctaaagtct tatgacttag gtgacgagct tggcactgat\n",
    "      721 cccattgaag attatgaaca aaactggaac actaagcatg gcagtggtgc actccgtgaa\n",
    "      781 ctcactcgtg agctcaatgg aggtgcagtc actcgctatg tcgacaacaa tttctgtggc\n",
    "      841 ccagatgggt accctcttga ttgcatcaaa gattttctcg cacgcgcggg caagtcaatg\n",
    "      901 tgcactcttt ccgaacaact tgattacatc gagtcgaaga gaggtgtcta ctgctgccgt\n",
    "      961 gaccatgagc atgaaattgc ctggttcact gagcgctctg ataagagcta cgagcaccag\n",
    "     1021 acacccttcg aaattaagag tgccaagaaa tttgacactt tcaaagggga atgcccaaag\n",
    "     1081 tttgtgtttc ctcttaactc aaaagtcaaa gtcattcaac cacgtgttga aaagaaaaag\n",
    "     1141 actgagggtt tcatggggcg tatacgctct gtgtaccctg ttgcatctcc acaggagtgt\n",
    "     1201 aacaatatgc acttgtctac cttgatgaaa tgtaatcatt gcgatgaagt ttcatggcag\n",
    "     1261 acgtgcgact ttctgaaagc cacttgtgaa cattgtggca ctgaaaattt agttattgaa\n",
    "     1321 ggacctacta catgtgggta cctacctact aatgctgtag tgaaaatgcc atgtcctgcc\n",
    "     1381 tgtcaagacc cagagattgg acctgagcat agtgttgcag attatcacaa ccactcaaac\n",
    "     1441 attgaaactc gactccgcaa gggaggtagg actagatgtt ttggaggctg tgtgtttgcc\n",
    "     1501 tatgttggct gctataataa gcgtgcctac tgggttcctc gtgctagtgc tgatattggc\n",
    "     1561 tcaggccata ctggcattac tggtgacaat gtggagacct tgaatgagga tctccttgag\n",
    "     1621 atactgagtc gtgaacgtgt taacattaac attgttggcg attttcattt gaatgaagag\n",
    "     1681 gttgccatca ttttggcatc tttctctgct tctacaagtg cctttattga cactataaag\n",
    "     1741 agtcttgatt acaagtcttt caaaaccatt gttgagtcct gcggtaacta taaagttacc\n",
    "     1801 aagggaaagc ccgtaaaagg tgcttggaac attggacaac agagatcagt tttaacacca\n",
    "     1861 ctgtgtggtt ttccctcaca ggctgctggt gttatcagat caatttttgc gcgcacactt\n",
    "     1921 gatgcagcaa accactcaat tcctgatttg caaagagcag ctgtcaccat acttgatggt\n",
    "     1981 atttctgaac agtcattacg tcttgtcgac gccatggttt atacttcaga cctgctcacc\n",
    "     2041 aacagtgtca ttattatggc atatgtaact ggtggtcttg tacaacagac ttctcagtgg\n",
    "     2101 ttgtctaatc ttttgggcac tactgttgaa aaactcaggc ctatctttga atggattgag\n",
    "     2161 gcgaaactta gtgcaggagt tgaatttctc aaggatgctt gggagattct caaatttctc\n",
    "     2221 attacaggtg tttttgacat cgtcaagggt caaatacagg ttgcttcaga taacatcaag\n",
    "     2281 gattgtgtaa aatgcttcat tgatgttgtt aacaaggcac tcgaaatgtg cattgatcaa\n",
    "     2341 gtcactatcg ctggcgcaaa gttgcgatca ctcaacttag gtgaagtctt catcgctcaa\n",
    "     2401 agcaagggac tttaccgtca gtgtatacgt ggcaaggagc agctgcaact actcatgcct\n",
    "     2461 cttaaggcac caaaagaagt aacctttctt gaaggtgatt cacatgacac agtacttacc\n",
    "     2521 tctgaggagg ttgttctcaa gaacggtgaa ctcgaagcac tcgagacgcc cgttgatagc\n",
    "     2581 ttcacaaatg gagctatcgt tggcacacca gtctgtgtaa atggcctcat gctcttagag\n",
    "     2641 attaaggaca aagaacaata ctgcgcattg tctcctggtt tactggctac aaacaatgtc\n",
    "     2701 tttcgcttaa aagggggtgc accaattaaa ggtgtaacct ttggagaaga tactgtttgg\n",
    "     2761 gaagttcaag gttacaagaa tgtgagaatc acatttgagc ttgatgaacg tgttgacaaa\n",
    "     2821 gtgcttaatg aaaagtgctc tgtctacact gttgaatccg gtaccgaagt tactgagttt\n",
    "     2881 gcatgtgttg tagcagaggc tgttgtgaag actttacaac cagtttctga tctccttacc\n",
    "     2941 aacatgggta ttgatcttga tgagtggagt gtagctacat tctacttatt tgatgatgct\n",
    "     3001 ggtgaagaaa acttttcatc acgtatgtat tgttcctttt accctccaga tgaggaagaa\n",
    "     3061 gaggacgatg cagagtgtga ggaagaagaa attgatgaaa cctgtgaaca tgagtacggt\n",
    "     3121 acagaggatg attatcaagg tctccctctg gaatttggtg cctcagctga aacagttcga\n",
    "     3181 gttgaggaag aagaagagga agactggctg gatgatacta ctgagcaatc agagattgag\n",
    "     3241 ccagaaccag aacctacacc tgaagaacca gttaatcagt ttactggtta tttaaaactt\n",
    "     3301 actgacaatg ttgccattaa atgtgttgac atcgttaagg aggcacaaag tgctaatcct\n",
    "     3361 atggtgattg taaatgctgc taacatacac ctgaaacatg gtggtggtgt agcaggtgca\n",
    "     3421 ctcaacaagg caaccaatgg tgccatgcaa aaggagagtg atgattacat taagctaaat\n",
    "     3481 ggccctctta cagtaggagg gtcttgtttg ctttctggac ataatcttgc taagaagtgt\n",
    "     3541 ctgcatgttg ttggacctaa cctaaatgca ggtgaggaca tccagcttct taaggcagca\n",
    "     3601 tatgaaaatt tcaattcaca ggacatctta cttgcaccat tgttgtcagc aggcatattt\n",
    "     3661 ggtgctaaac cacttcagtc tttacaagtg tgcgtgcaga cggttcgtac acaggtttat\n",
    "     3721 attgcagtca atgacaaagc tctttatgag caggttgtca tggattatct tgataacctg\n",
    "     3781 aagcctagag tggaagcacc taaacaagag gagccaccaa acacagaaga ttccaaaact\n",
    "     3841 gaggagaaat ctgtcgtaca gaagcctgtc gatgtgaagc caaaaattaa ggcctgcatt\n",
    "     3901 gatgaggtta ccacaacact ggaagaaact aagtttctta ccaataagtt actcttgttt\n",
    "     3961 gctgatatca atggtaagct ttaccatgat tctcagaaca tgcttagagg tgaagatatg\n",
    "     4021 tctttccttg agaaggatgc accttacatg gtaggtgatg ttatcactag tggtgatatc\n",
    "     4081 acttgtgttg taataccctc caaaaaggct ggtggcacta ctgagatgct ctcaagagct\n",
    "     4141 ttgaagaaag tgccagttga tgagtatata accacgtacc ctggacaagg atgtgctggt\n",
    "     4201 tatacacttg aggaagctaa gactgctctt aagaaatgca aatctgcatt ttatgtacta\n",
    "     4261 ccttcagaag cacctaatgc taaggaagag attctaggaa ctgtatcctg gaatttgaga\n",
    "     4321 gaaatgcttg ctcatgctga agagacaaga aaattaatgc ctatatgcat ggatgttaga\n",
    "     4381 gccataatgg caaccatcca acgtaagtat aaaggaatta aaattcaaga gggcatcgtt\n",
    "     4441 gactatggtg tccgattctt cttttatact agtaaagagc ctgtagcttc tattattacg\n",
    "     4501 aagctgaact ctctaaatga gccgcttgtc acaatgccaa ttggttatgt gacacatggt\n",
    "     4561 tttaatcttg aagaggctgc gcgctgtatg cgttctctta aagctcctgc cgtagtgtca\n",
    "     4621 gtatcatcac cagatgctgt tactacatat aatggatacc tcacttcgtc atcaaagaca\n",
    "     4681 tctgaggagc actttgtaga aacagtttct ttggctggct cttacagaga ttggtcctat\n",
    "     4741 tcaggacagc gtacagagtt aggtgttgaa tttcttaagc gtggtgacaa aattgtgtac\n",
    "     4801 cacactctgg agagccccgt cgagtttcat cttgacggtg aggttctttc acttgacaaa\n",
    "     4861 ctaaagagtc tcttatccct gcgggaggtt aagactataa aagtgttcac aactgtggac\n",
    "     4921 aacactaatc tccacacaca gcttgtggat atgtctatga catatggaca gcagtttggt\n",
    "     4981 ccaacatact tggatggtgc tgatgttaca aaaattaaac ctcatgtaaa tcatgagggt\n",
    "     5041 aagactttct ttgtactacc tagtgatgac acactacgta gtgaagcttt cgagtactac\n",
    "     5101 catactcttg atgagagttt tcttggtagg tacatgtctg ctttaaacca cacaaagaaa\n",
    "     5161 tggaaatttc ctcaagttgg tggtttaact tcaattaaat gggctgataa caattgttat\n",
    "     5221 ttgtctagtg ttttattagc acttcaacag cttgaagtca aattcaatgc accagcactt\n",
    "     5281 caagaggctt attatagagc ccgtgctggt gatgctgcta acttttgtgc actcatactc\n",
    "     5341 gcttacagta ataaaactgt tggcgagctt ggtgatgtca gagaaactat gacccatctt\n",
    "     5401 ctacagcatg ctaatttgga atctgcaaag cgagttctta atgtggtgtg taaacattgt\n",
    "     5461 ggtcagaaaa ctactacctt aacgggtgta gaagctgtga tgtatatggg tactctatct\n",
    "     5521 tatgataatc ttaagacagg tgtttccatt ccatgtgtgt gtggtcgtga tgctacacaa\n",
    "     5581 tatctagtac aacaagagtc ttcttttgtt atgatgtctg caccacctgc tgagtataaa\n",
    "     5641 ttacagcaag gtacattctt atgtgcgaat gagtacactg gtaactatca gtgtggtcat\n",
    "     5701 tacactcata taactgctaa ggagaccctc tatcgtattg acggagctca ccttacaaag\n",
    "     5761 atgtcagagt acaaaggacc agtgactgat gttttctaca aggaaacatc ttacactaca\n",
    "     5821 accatcaagc ctgtgtcgta taaactcgat ggagttactt acacagagat tgaaccaaaa\n",
    "     5881 ttggatgggt attataaaaa ggataatgct tactatacag agcagcctat agaccttgta\n",
    "     5941 ccaactcaac cattaccaaa tgcgagtttt gataatttca aactcacatg ttctaacaca\n",
    "     6001 aaatttgctg atgatttaaa tcaaatgaca ggcttcacaa agccagcttc acgagagcta\n",
    "     6061 tctgtcacat tcttcccaga cttgaatggc gatgtagtgg ctattgacta tagacactat\n",
    "     6121 tcagcgagtt tcaagaaagg tgctaaatta ctgcataagc caattgtttg gcacattaac\n",
    "     6181 caggctacaa ccaagacaac gttcaaacca aacacttggt gtttacgttg tctttggagt\n",
    "     6241 acaaagccag tagatacttc aaattcattt gaagttctgg cagtagaaga cacacaagga\n",
    "     6301 atggacaatc ttgcttgtga aagtcaacaa cccacctctg aagaagtagt ggaaaatcct\n",
    "     6361 accatacaga aggaagtcat agagtgtgac gtgaaaacta ccgaagttgt aggcaatgtc\n",
    "     6421 atacttaaac catcagatga aggtgttaaa gtaacacaag agttaggtca tgaggatctt\n",
    "     6481 atggctgctt atgtggaaaa cacaagcatt accattaaga aacctaatga gctttcacta\n",
    "     6541 gccttaggtt taaaaacaat tgccactcat ggtattgctg caattaatag tgttccttgg\n",
    "     6601 agtaaaattt tggcttatgt caaaccattc ttaggacaag cagcaattac aacatcaaat\n",
    "     6661 tgcgctaaga gattagcaca acgtgtgttt aacaattata tgccttatgt gtttacatta\n",
    "     6721 ttgttccaat tgtgtacttt tactaaaagt accaattcta gaattagagc ttcactacct\n",
    "     6781 acaactattg ctaaaaatag tgttaagagt gttgctaaat tatgtttgga tgccggcatt\n",
    "     6841 aattatgtga agtcacccaa attttctaaa ttgttcacaa tcgctatgtg gctattgttg\n",
    "     6901 ttaagtattt gcttaggttc tctaatctgt gtaactgctg cttttggtgt actcttatct\n",
    "     6961 aattttggtg ctccttctta ttgtaatggc gttagagaat tgtatcttaa ttcgtctaac\n",
    "     7021 gttactacta tggatttctg tgaaggttct tttccttgca gcatttgttt aagtggatta\n",
    "     7081 gactcccttg attcttatcc agctcttgaa accattcagg tgacgatttc atcgtacaag\n",
    "     7141 ctagacttga caattttagg tctggccgct gagtgggttt tggcatatat gttgttcaca\n",
    "     7201 aaattctttt atttattagg tctttcagct ataatgcagg tgttctttgg ctattttgct\n",
    "     7261 agtcatttca tcagcaattc ttggctcatg tggtttatca ttagtattgt acaaatggca\n",
    "     7321 cccgtttctg caatggttag gatgtacatc ttctttgctt ctttctacta catatggaag\n",
    "     7381 agctatgttc atatcatgga tggttgcacc tcttcgactt gcatgatgtg ctataagcgc\n",
    "     7441 aatcgtgcca cacgcgttga gtgtacaact attgttaatg gcatgaagag atctttctat\n",
    "     7501 gtctatgcaa atggaggccg tggcttctgc aagactcaca attggaattg tctcaattgt\n",
    "     7561 gacacatttt gcactggtag tacattcatt agtgatgaag ttgctcgtga tttgtcactc\n",
    "     7621 cagtttaaaa gaccaatcaa ccctactgac cagtcatcgt atattgttga tagtgttgct\n",
    "     7681 gtgaaaaatg gcgcgcttca cctctacttt gacaaggctg gtcaaaagac ctatgagaga\n",
    "     7741 catccgctct cccattttgt caatttagac aatttgagag ctaacaacac taaaggttca\n",
    "     7801 ctgcctatta atgtcatagt ttttgatggc aagtccaaat gcgacgagtc tgcttctaag\n",
    "     7861 tctgcttctg tgtactacag tcagctgatg tgccaaccta ttctgttgct tgaccaagct\n",
    "     7921 cttgtatcag acgttggaga tagtactgaa gtttccgtta agatgtttga tgcttatgtc\n",
    "     7981 gacacctttt cagcaacttt tagtgttcct atggaaaaac ttaaggcact tgttgctaca\n",
    "     8041 gctcacagcg agttagcaaa gggtgtagct ttagatggtg tcctttctac attcgtgtca\n",
    "     8101 gctgcccgac aaggtgttgt tgataccgat gttgacacaa aggatgttat tgaatgtctc\n",
    "     8161 aaactttcac atcactctga cttagaagtg acaggtgaca gttgtaacaa tttcatgctc\n",
    "     8221 acctataata aggttgaaaa catgacgccc agagatcttg gcgcatgtat tgactgtaat\n",
    "     8281 gcaaggcata tcaatgccca agtagcaaaa agtcacaatg tttcactcat ctggaatgta\n",
    "     8341 aaagactaca tgtctttatc tgaacagctg cgtaaacaaa ttcgtagtgc tgccaagaag\n",
    "     8401 aacaacatac cttttagact aacttgtgct acaactagac aggttgtcaa tgtcataact\n",
    "     8461 actaaaatct cactcaaggg tggtaagatt gttagtactt gttttaaact tatgcttaag\n",
    "     8521 gccacattat tgtgcgttct tgctgcattg gtttgttata tcgttatgcc agtacataca\n",
    "     8581 ttgtcaatcc atgatggtta cacaaatgaa atcattggtt acaaagccat tcaggatggt\n",
    "     8641 gtcactcgtg acatcatttc tactgatgat tgttttgcaa ataaacatgc tggttttgac\n",
    "     8701 gcatggttta gccagcgtgg tggttcatac aaaaatgaca aaagctgccc tgtagtagct\n",
    "     8761 gctatcatta caagagagat tggtttcata gtgcctggct taccgggtac tgtgctgaga\n",
    "     8821 gcaatcaatg gtgacttctt gcattttcta cctcgtgttt ttagtgctgt tggcaacatt\n",
    "     8881 tgctacacac cttccaaact cattgagtat agtgattttg ctacctctgc ttgcgttctt\n",
    "     8941 gctgctgagt gtacaatttt taaggatgct atgggcaaac ctgtgccata ttgttatgac\n",
    "     9001 actaatttgc tagagggttc tatttcttat agtgagcttc gtccagacac tcgttatgtg\n",
    "     9061 cttatggatg gttccatcat acagtttcct aacacttacc tggagggttc tgttagagta\n",
    "     9121 gtaacaactt ttgatgctga gtactgtaga catggtacat gcgaaaggtc agaagtaggt\n",
    "     9181 atttgcctat ctaccagtgg tagatgggtt cttaataatg agcattacag agctctatca\n",
    "     9241 ggagttttct gtggtgttga tgcgatgaat ctcatagcta acatctttac tcctcttgtg\n",
    "     9301 caacctgtgg gtgctttaga tgtgtctgct tcagtagtgg ctggtggtat tattgccata\n",
    "     9361 ttggtgactt gtgctgccta ctactttatg aaattcagac gtgtttttgg tgagtacaac\n",
    "     9421 catgttgttg ctgctaatgc acttttgttt ttgatgtctt tcactatact ctgtctggta\n",
    "     9481 ccagcttaca gctttctgcc gggagtctac tcagtctttt acttgtactt gacattctat\n",
    "     9541 ttcaccaatg atgtttcatt cttggctcac cttcaatggt ttgccatgtt ttctcctatt\n",
    "     9601 gtgccttttt ggataacagc aatctatgta ttctgtattt ctctgaagca ctgccattgg\n",
    "     9661 ttctttaaca actatcttag gaaaagagtc atgtttaatg gagttacatt tagtaccttc\n",
    "     9721 gaggaggctg ctttgtgtac ctttttgctc aacaaggaaa tgtacctaaa attgcgtagc\n",
    "     9781 gagacactgt tgccacttac acagtataac aggtatcttg ctctatataa caagtacaag\n",
    "     9841 tatttcagtg gagccttaga tactaccagc tatcgtgaag cagcttgctg ccacttagca\n",
    "     9901 aaggctctaa atgactttag caactcaggt gctgatgttc tctaccaacc accacagaca\n",
    "     9961 tcaatcactt ctgctgttct gcagagtggt tttaggaaaa tggcattccc gtcaggcaaa\n",
    "    10021 gttgaagggt gcatggtaca agtaacctgt ggaactacaa ctcttaatgg attgtggttg\n",
    "    10081 gatgacacag tatactgtcc aagacatgtc atttgcacag cagaagacat gcttaatcct\n",
    "    10141 aactatgaag atctgctcat tcgcaaatcc aaccatagct ttcttgttca ggctggcaat\n",
    "    10201 gttcaacttc gtgttattgg ccattctatg caaaattgtc tgcttaggct taaagttgat\n",
    "    10261 acttctaacc ctaagacacc caagtataaa tttgtccgta tccaacctgg tcaaacattt\n",
    "    10321 tcagttctag catgctacaa tggttcacca tctggtgttt atcagtgtgc catgagacct\n",
    "    10381 aatcatacca ttaaaggttc tttccttaat ggatcatgtg gtagtgttgg ttttaacatt\n",
    "    10441 gattatgatt gcgtgtcttt ctgctatatg catcatatgg agcttccaac aggagtacac\n",
    "    10501 gctggtactg acttagaagg taaattctat ggtccatttg ttgacagaca aactgcacag\n",
    "    10561 gctgcaggta cagacacaac cataacatta aatgttttgg catggctgta tgctgctgtt\n",
    "    10621 atcaatggtg ataggtggtt tcttaataga ttcaccacta ctttgaatga ctttaacctt\n",
    "    10681 gtggcaatga agtacaacta tgaacctttg acacaagatc atgttgacat attgggacct\n",
    "    10741 ctttctgctc aaacaggaat tgccgtctta gatatgtgtg ctgctttgaa agagctgctg\n",
    "    10801 cagaatggta tgaatggtcg tactatcctt ggtagcacta ttttagaaga tgagtttaca\n",
    "    10861 ccatttgatg ttgttagaca atgctctggt gttaccttcc aaggtaagtt caagaaaatt\n",
    "    10921 gttaagggca ctcatcattg gatgctttta actttcttga catcactatt gattcttgtt\n",
    "    10981 caaagtacac agtggtcact gtttttcttt gtttacgaga atgctttctt gccatttact\n",
    "    11041 cttggtatta tggcaattgc tgcatgtgct atgctgcttg ttaagcataa gcacgcattc\n",
    "    11101 ttgtgcttgt ttctgttacc ttctcttgca acagttgctt actttaatat ggtctacatg\n",
    "    11161 cctgctagct gggtgatgcg tatcatgaca tggcttgaat tggctgacac tagcttgtct\n",
    "    11221 ggttataggc ttaaggattg tgttatgtat gcttcagctt tagttttgct tattctcatg\n",
    "    11281 acagctcgca ctgtttatga tgatgctgct agacgtgttt ggacactgat gaatgtcatt\n",
    "    11341 acacttgttt acaaagtcta ctatggtaat gctttagatc aagctatttc catgtgggcc\n",
    "    11401 ttagttattt ctgtaacctc taactattct ggtgtcgtta cgactatcat gtttttagct\n",
    "    11461 agagctatag tgtttgtgtg tgttgagtat tacccattgt tatttattac tggcaacacc\n",
    "    11521 ttacagtgta tcatgcttgt ttattgtttc ttaggctatt gttgctgctg ctactttggc\n",
    "    11581 cttttctgtt tactcaaccg ttacttcagg cttactcttg gtgtttatga ctacttggtc\n",
    "    11641 tctacacaag aatttaggta tatgaactcc caggggcttt tgcctcctaa gagtagtatt\n",
    "    11701 gatgctttca agcttaacat taagttgttg ggtattggag gtaaaccatg tatcaaggtt\n",
    "    11761 gctactgtac agtctaaaat gtctgacgta aagtgcacat ctgtggtact gctctcggtt\n",
    "    11821 cttcaacaac ttagagtaga gtcatcttct aaattgtggg cacaatgtgt acaactccac\n",
    "    11881 aatgatattc ttcttgcaaa agacacaact gaagctttcg agaagatggt ttctcttttg\n",
    "    11941 tctgttttgc tatccatgca gggtgctgta gacattaata ggttgtgcga ggaaatgctc\n",
    "    12001 gataaccgtg ctactcttca ggctattgct tcagaattta gttctttacc atcatatgcc\n",
    "    12061 gcttatgcca ctgcccagga ggcctatgag caggctgtag ctaatggtga ttctgaagtc\n",
    "    12121 gttctcaaaa agttaaagaa atctttgaat gtggctaaat ctgagtttga ccgtgatgct\n",
    "    12181 gccatgcaac gcaagttgga aaagatggca gatcaggcta tgacccaaat gtacaaacag\n",
    "    12241 gcaagatctg aggacaagag ggcaaaagta actagtgcta tgcaaacaat gctcttcact\n",
    "    12301 atgcttagga agcttgataa tgatgcactt aacaacatta tcaacaatgc gcgtgatggt\n",
    "    12361 tgtgttccac tcaacatcat accattgact acagcagcca aactcatggt tgttgtccct\n",
    "    12421 gattatggta cctacaagaa cacttgtgat ggtaacacct ttacatatgc atctgcactc\n",
    "    12481 tgggaaatcc agcaagttgt tgatgcggat agcaagattg ttcaacttag tgaaattaac\n",
    "    12541 atggacaatt caccaaattt ggcttggcct cttattgtta cagctctaag agccaactca\n",
    "    12601 gctgttaaac tacagaataa tgaactgagt ccagtagcac tacgacagat gtcctgtgcg\n",
    "    12661 gctggtacca cacaaacagc ttgtactgat gacaatgcac ttgcctacta taacaattcg\n",
    "    12721 aagggaggta ggtttgtgct ggcattacta tcagaccacc aagatctcaa atgggctaga\n",
    "    12781 ttccctaaga gtgatggtac aggtacaatt tacacagaac tggaaccacc ttgtaggttt\n",
    "    12841 gttacagaca caccaaaagg gcctaaagtg aaatacttgt acttcatcaa aggcttaaac\n",
    "    12901 aacctaaata gaggtatggt gctgggcagt ttagctgcta cagtacgtct tcaggctgga\n",
    "    12961 aatgctacag aagtacctgc caattcaact gtgctttcct tctgtgcttt tgcagtagac\n",
    "    13021 cctgctaaag catataagga ttacctagca agtggaggac aaccaatcac caactgtgtg\n",
    "    13081 aagatgttgt gtacacacac tggtacagga caggcaatta ctgtaacacc agaagctaac\n",
    "    13141 atggaccaag agtcctttgg tggtgcttca tgttgtctgt attgtagatg ccacattgac\n",
    "    13201 catccaaatc ctaaaggatt ctgtgacttg aaaggtaagt acgtccaaat acctaccact\n",
    "    13261 tgtgctaatg acccagtggg ttttacactt agaaacacag tctgtaccgt ctgcggaatg\n",
    "    13321 tggaaaggtt atggctgtag ttgtgaccaa ctccgcgaac ccttgatgca gtctgcggat\n",
    "    13381 gcatcaacgt ttttaaacgg gtttgcggtg taagtgcagc ccgtcttaca ccgtgcggca\n",
    "    13441 caggcactag tactgatgtc gtctacaggg cttttgatat ttacaacgaa aaagttgctg\n",
    "    13501 gttttgcaaa gttcctaaaa actaattgct gtcgcttcca ggagaaggat gaggaaggca\n",
    "    13561 atttattaga ctcttacttt gtagttaaga ggcatactat gtctaactac caacatgaag\n",
    "    13621 agactattta taacttggtt aaagattgtc cagcggttgc tgtccatgac tttttcaagt\n",
    "    13681 ttagagtaga tggtgacatg gtaccacata tatcacgtca gcgtctaact aaatacacaa\n",
    "    13741 tggctgattt agtctatgct ctacgtcatt ttgatgaggg taattgtgat acattaaaag\n",
    "    13801 aaatactcgt cacatacaat tgctgtgatg atgattattt caataagaag gattggtatg\n",
    "    13861 acttcgtaga gaatcctgac atcttacgcg tatatgctaa cttaggtgag cgtgtacgcc\n",
    "    13921 aatcattatt aaagactgta caattctgcg atgctatgcg tgatgcaggc attgtaggcg\n",
    "    13981 tactgacatt agataatcag gatcttaatg ggaactggta cgatttcggt gatttcgtac\n",
    "    14041 aagtagcacc aggctgcgga gttcctattg tggattcata ttactcattg ctgatgccca\n",
    "    14101 tcctcacttt gactagggca ttggctgctg agtcccatat ggatgctgat ctcgcaaaac\n",
    "    14161 cacttattaa gtgggatttg ctgaaatatg attttacgga agagagactt tgtctcttcg\n",
    "    14221 accgttattt taaatattgg gaccagacat accatcccaa ttgtattaac tgtttggatg\n",
    "    14281 ataggtgtat ccttcattgt gcaaacttta atgtgttatt ttctactgtg tttccaccta\n",
    "    14341 caagttttgg accactagta agaaaaatat ttgtagatgg tgttcctttt gttgtttcaa\n",
    "    14401 ctggatacca ttttcgtgag ttaggagtcg tacataatca ggatgtaaac ttacatagct\n",
    "    14461 cgcgtctcag tttcaaggaa cttttagtgt atgctgctga tccagctatg catgcagctt\n",
    "    14521 ctggcaattt attgctagat aaacgcacta catgcttttc agtagctgca ctaacaaaca\n",
    "    14581 atgttgcttt tcaaactgtc aaacccggta attttaataa agacttttat gactttgctg\n",
    "    14641 tgtctaaagg tttctttaag gaaggaagtt ctgttgaact aaaacacttc ttctttgctc\n",
    "    14701 aggatggcaa cgctgctatc agtgattatg actattatcg ttataatctg ccaacaatgt\n",
    "    14761 gtgatatcag acaactccta ttcgtagttg aagttgttga taaatacttt gattgttacg\n",
    "    14821 atggtggctg tattaatgcc aaccaagtaa tcgttaacaa tctggataaa tcagctggtt\n",
    "    14881 tcccatttaa taaatggggt aaggctagac tttattatga ctcaatgagt tatgaggatc\n",
    "    14941 aagatgcact tttcgcgtat actaagcgta atgtcatccc tactataact caaatgaatc\n",
    "    15001 ttaagtatgc cattagtgca aagaatagag ctcgcaccgt agctggtgtc tctatctgta\n",
    "    15061 gtactatgac aaatagacag tttcatcaga aattattgaa gtcaatagcc gccactagag\n",
    "    15121 gagctactgt ggtaattgga acaagcaagt tttacggtgg ctggcataat atgttaaaaa\n",
    "    15181 ctgtttacag tgatgtagaa actccacacc ttatgggttg ggattatcca aaatgtgaca\n",
    "    15241 gagccatgcc taacatgctt aggataatgg cctctcttgt tcttgctcgc aaacataaca\n",
    "    15301 cttgctgtaa cttatcacac cgtttctaca ggttagctaa cgagtgtgcg caagtattaa\n",
    "    15361 gtgagatggt catgtgtggc ggctcactat atgttaaacc aggtggaaca tcatccggtg\n",
    "    15421 atgctacaac tgcttatgct aatagtgtct ttaacatttg tcaagctgtt acagccaatg\n",
    "    15481 taaatgcact tctttcaact gatggtaata agatagctga caagtatgtc cgcaatctac\n",
    "    15541 aacacaggct ctatgagtgt ctctatagaa atagggatgt tgatcatgaa ttcgtggatg\n",
    "    15601 agttttacgc ttacctgcgt aaacatttct ccatgatgat tctttctgat gatgccgttg\n",
    "    15661 tgtgctataa cagtaactat gcggctcaag gtttagtagc tagcattaag aactttaagg\n",
    "    15721 cagttcttta ttatcaaaat aatgtgttca tgtctgaggc aaaatgttgg actgagactg\n",
    "    15781 accttactaa aggacctcac gaattttgct cacagcatac aatgctagtt aaacaaggag\n",
    "    15841 atgattacgt gtacctgcct tacccagatc catcaagaat attaggcgca ggctgttttg\n",
    "    15901 tcgatgatat tgtcaaaaca gatggtacac ttatgattga aaggttcgtg tcactggcta\n",
    "    15961 ttgatgctta cccacttaca aaacatccta atcaggagta tgctgatgtc tttcacttgt\n",
    "    16021 atttacaata cattagaaag ttacatgatg agcttactgg ccacatgttg gacatgtatt\n",
    "    16081 ccgtaatgct aactaatgat aacacctcac ggtactggga acctgagttt tatgaggcta\n",
    "    16141 tgtacacacc acatacagtc ttgcaggctg taggtgcttg tgtattgtgc aattcacaga\n",
    "    16201 cttcacttcg ttgcggtgcc tgtattagga gaccattcct atgttgcaag tgctgctatg\n",
    "    16261 accatgtcat ttcaacatca cacaaattag tgttgtctgt taatccctat gtttgcaatg\n",
    "    16321 ccccaggttg tgatgtcact gatgtgacac aactgtatct aggaggtatg agctattatt\n",
    "    16381 gcaagtcaca taagcctccc attagttttc cattatgtgc taatggtcag gtttttggtt\n",
    "    16441 tatacaaaaa cacatgtgta ggcagtgaca atgtcactga cttcaatgcg atagcaacat\n",
    "    16501 gtgattggac taatgctggc gattacatac ttgccaacac ttgtactgag agactcaagc\n",
    "    16561 ttttcgcagc agaaacgctc aaagccactg aggaaacatt taagctgtca tatggtattg\n",
    "    16621 ccactgtacg cgaagtactc tctgacagag aattgcatct ttcatgggag gttggaaaac\n",
    "    16681 ctagaccacc attgaacaga aactatgtct ttactggtta ccgtgtaact aaaaatagta\n",
    "    16741 aagtacagat tggagagtac acctttgaaa aaggtgacta tggtgatgct gttgtgtaca\n",
    "    16801 gaggtactac gacatacaag ttgaatgttg gtgattactt tgtgttgaca tctcacactg\n",
    "    16861 taatgccact tagtgcacct actctagtgc cacaagagca ctatgtgaga attactggct\n",
    "    16921 tgtacccaac actcaacatc tcagatgagt tttctagcaa tgttgcaaat tatcaaaagg\n",
    "    16981 tcggcatgca aaagtactct acactccaag gaccacctgg tactggtaag agtcattttg\n",
    "    17041 ccatcggact tgctctctat tacccatctg ctcgcatagt gtatacggca tgctctcatg\n",
    "    17101 cagctgttga tgccctatgt gaaaaggcat taaaatattt gcccatagat aaatgtagta\n",
    "    17161 gaatcatacc tgcgcgtgcg cgcgtagagt gttttgataa attcaaagtg aattcaacac\n",
    "    17221 tagaacagta tgttttctgc actgtaaatg cattgccaga aacaactgct gacattgtag\n",
    "    17281 tctttgatga aatctctatg gctactaatt atgacttgag tgttgtcaat gctagacttc\n",
    "    17341 gtgcaaaaca ctacgtctat attggcgatc ctgctcaatt accagccccc cgcacattgc\n",
    "    17401 tgactaaagg cacactagaa ccagaatatt ttaattcagt gtgcagactt atgaaaacaa\n",
    "    17461 taggtccaga catgttcctt ggaacttgtc gccgttgtcc tgctgaaatt gttgacactg\n",
    "    17521 tgagtgcttt agtttatgac aataagctaa aagcacacaa ggataagtca gctcaatgct\n",
    "    17581 tcaaaatgtt ctacaaaggt gttattacac atgatgtttc atctgcaatc aacagacctc\n",
    "    17641 aaataggcgt tgtaagagaa tttcttacac gcaatcctgc ttggagaaaa gctgttttta\n",
    "    17701 tctcacctta taattcacag aacgctgtag cttcaaaaat cttaggattg cctacgcaga\n",
    "    17761 ctgttgattc atcacagggt tctgaatatg actatgtcat attcacacaa actactgaaa\n",
    "    17821 cagcacactc ttgtaatgtc aaccgcttca atgtggctat cacaagggca aaaattggca\n",
    "    17881 ttttgtgcat aatgtctgat agagatcttt atgacaaact gcaatttaca agtctagaaa\n",
    "    17941 taccacgtcg caatgtggct acattacaag cagaaaatgt aactggactt tttaaggact\n",
    "    18001 gtagtaagat cattactggt cttcatccta cacaggcacc tacacacctc agcgttgata\n",
    "    18061 taaagttcaa gactgaagga ttatgtgttg acataccagg cataccaaag gacatgacct\n",
    "    18121 accgtagact catctctatg atgggtttca aaatgaatta ccaagtcaat ggttacccta\n",
    "    18181 atatgtttat cacccgcgaa gaagctattc gtcacgttcg tgcgtggatt ggctttgatg\n",
    "    18241 tagagggctg tcatgcaact agagatgctg tgggtactaa cctacctctc cagctaggat\n",
    "    18301 tttctacagg tgttaactta gtagctgtac cgactggtta tgttgacact gaaaataaca\n",
    "    18361 cagaattcac cagagttaat gcaaaacctc caccaggtga ccagtttaaa catcttatac\n",
    "    18421 cactcatgta taaaggcttg ccctggaatg tagtgcgtat taagatagta caaatgctca\n",
    "    18481 gtgatacact gaaaggattg tcagacagag tcgtgttcgt cctttgggcg catggctttg\n",
    "    18541 agcttacatc aatgaagtac tttgtcaaga ttggacctga aagaacgtgt tgtctgtgtg\n",
    "    18601 acaaacgtgc aacttgcttt tctacttcat cagatactta tgcctgctgg aatcattctg\n",
    "    18661 tgggttttga ctatgtctat aacccattta tgattgatgt tcagcagtgg ggctttacgg\n",
    "    18721 gtaaccttca gagtaaccat gaccaacatt gccaggtaca tggaaatgca catgtggcta\n",
    "    18781 gttgtgatgc tatcatgact agatgtttag cagtccatga gtgctttgtt aagcgcgttg\n",
    "    18841 attggtctgt tgaataccct attataggag atgaactgag ggttaattct gcttgcagaa\n",
    "    18901 aagtacaaca catggttgtg aagtctgcat tgcttgctga taagtttcca gttcttcatg\n",
    "    18961 acattggaaa tccaaaggct atcaagtgtg tgcctcaggc tgaagtagaa tggaagttct\n",
    "    19021 acgatgctca gccatgtagt gacaaagctt acaaaataga ggaactcttc tattcttatg\n",
    "    19081 ctacacatca cgataaattc actgatggtg tttgtttgtt ttggaattgt aacgttgatc\n",
    "    19141 gttacccagc caatgcaatt gtgtgtaggt ttgacacaag agtcttgtca aacttgaact\n",
    "    19201 taccaggctg tgatggtggt agtttgtatg tgaataagca tgcattccac actccagctt\n",
    "    19261 tcgataaaag tgcatttact aatttaaagc aattgccttt cttttactat tctgatagtc\n",
    "    19321 cttgtgagtc tcatggcaaa caagtagtgt cggatattga ttatgttcca ctcaaatctg\n",
    "    19381 ctacgtgtat tacacgatgc aatttaggtg gtgctgtttg cagacaccat gcaaatgagt\n",
    "    19441 accgacagta cttggatgca tataatatga tgatttctgc tggatttagc ctatggattt\n",
    "    19501 acaaacaatt tgatacttat aacctgtgga atacatttac caggttacag agtttagaaa\n",
    "    19561 atgtggctta taatgttgtt aataaaggac actttgatgg acacgccggc gaagcacctg\n",
    "    19621 tttccatcat taataatgct gtttacacaa aggtagatgg tattgatgtg gagatctttg\n",
    "    19681 aaaataagac aacacttcct gttaatgttg catttgagct ttgggctaag cgtaacatta\n",
    "    19741 aaccagtgcc agagattaag atactcaata atttgggtgt tgatatcgct gctaatactg\n",
    "    19801 taatctggga ctacaaaaga gaagccccag cacatgtatc tacaataggt gtctgcacaa\n",
    "    19861 tgactgacat tgccaagaaa cctactgaga gtgcttgttc ttcacttact gtcttgtttg\n",
    "    19921 atggtagagt ggaaggacag gtagaccttt ttagaaacgc ccgtaatggt gttttaataa\n",
    "    19981 cagaaggttc agtcaaaggt ctaacacctt caaagggacc agcacaagct agcgtcaatg\n",
    "    20041 gagtcacatt aattggagaa tcagtaaaaa cacagtttaa ctactttaag aaagtagacg\n",
    "    20101 gcattattca acagttgcct gaaacctact ttactcagag cagagactta gaggatttta\n",
    "    20161 agcccagatc acaaatggaa actgactttc tcgagctcgc tatggatgaa ttcatacagc\n",
    "    20221 gatataagct cgagggctat gccttcgaac acatcgttta tggagatttc agtcatggac\n",
    "    20281 aacttggcgg tcttcattta atgataggct tagccaagcg ctcacaagat tcaccactta\n",
    "    20341 aattagagga ttttatccct atggacagca cagtgaaaaa ttacttcata acagatgcgc\n",
    "    20401 aaacaggttc atcaaaatgt gtgtgttctg tgattgatct tttacttgat gactttgtcg\n",
    "    20461 agataataaa gtcacaagat ttgtcagtga tttcaaaagt ggtcaaggtt acaattgact\n",
    "    20521 atgctgaaat ttcattcatg ctttggtgta aggatggaca tgttgaaacc ttctacccaa\n",
    "    20581 aactacaagc aagtcaagcg tggcaaccag gtgttgcgat gcctaacttg tacaagatgc\n",
    "    20641 aaagaatgct tcttgaaaag tgtgaccttc agaattatgg tgaaaatgct gttataccaa\n",
    "    20701 aaggaataat gatgaatgtc gcaaagtata ctcaactgtg tcaatactta aatacactta\n",
    "    20761 ctttagctgt accctacaac atgagagtta ttcactttgg tgctggctct gataaaggag\n",
    "    20821 ttgcaccagg tacagctgtg ctcagacaat ggttgccaac tggcacacta cttgtcgatt\n",
    "    20881 cagatcttaa tgacttcgtc tccgacgcag attctacttt aattggagac tgtgcaacag\n",
    "    20941 tacatacggc taataaatgg gaccttatta ttagcgatat gtatgaccct aggaccaaac\n",
    "    21001 atgtgacaaa agagaatgac tctaaagaag ggtttttcac ttatctgtgt ggatttataa\n",
    "    21061 agcaaaaact agccctgggt ggttctatag ctgtaaagat aacagagcat tcttggaatg\n",
    "    21121 ctgaccttta caagcttatg ggccatttct catggtggac agcttttgtt acaaatgtaa\n",
    "    21181 atgcatcatc atcggaagca tttttaattg gggctaacta tcttggcaag ccgaaggaac\n",
    "    21241 aaattgatgg ctataccatg catgctaact acattttctg gaggaacaca aatcctatcc\n",
    "    21301 agttgtcttc ctattcactc tttgacatga gcaaatttcc tcttaaatta agaggaactg\n",
    "    21361 ctgtaatgtc tcttaaggag aatcaaatca atgatatgat ttattctctt ctggaaaaag\n",
    "    21421 gtaggcttat cattagagaa aacaacagag ttgtggtttc aagtgatatt cttgttaaca\n",
    "    21481 actaaacgaa catgtttatt ttcttattat ttcttactct cactagtggt agtgaccttg\n",
    "    21541 accggtgcac cacttttgat gatgttcaag ctcctaatta cactcaacat acttcatcta\n",
    "    21601 tgaggggggt ttactatcct gatgaaattt ttagatcaga cactctttat ttaactcagg\n",
    "    21661 atttatttct tccattttat tctaatgtta cagggtttca tactattaat catacgtttg\n",
    "    21721 gcaaccctgt catacctttt aaggatggta tttattttgc tgccacagag aaatcaaatg\n",
    "    21781 ttgtccgtgg ttgggttttt ggttctacca tgaacaacaa gtcacagtcg gtgattatta\n",
    "    21841 ttaacaattc tactaatgtt gttatacgag catgtaactt tgaattgtgt gacaaccctt\n",
    "    21901 tctttgctgt ttctaaaccc atgggtacac agacacatac tatgatattc gataatgcat\n",
    "    21961 ttaattgcac tttcgagtac atatctgatg ccttttcgct tgatgtttca gaaaagtcag\n",
    "    22021 gtaattttaa acacttacga gagtttgtgt ttaaaaataa agatgggttt ctctatgttt\n",
    "    22081 ataagggcta tcaacctata gatgtagttc gtgatctacc ttctggtttt aacactttga\n",
    "    22141 aacctatttt taagttgcct cttggtatta acattacaaa ttttagagcc attcttacag\n",
    "    22201 ccttttcacc tgctcaagac atttggggca cgtcagctgc agcctatttt gttggctatt\n",
    "    22261 taaagccaac tacatttatg ctcaagtatg atgaaaatgg tacaatcaca gatgctgttg\n",
    "    22321 attgttctca aaatccactt gctgaactca aatgctctgt taagagcttt gagattgaca\n",
    "    22381 aaggaattta ccagacctct aatttcaggg ttgttccctc aggagatgtt gtgagattcc\n",
    "    22441 ctaatattac aaacttgtgt ccttttggag aggtttttaa tgctactaaa ttcccttctg\n",
    "    22501 tctatgcatg ggagagaaaa aaaatttcta attgtgttgc tgattactct gtgctctaca\n",
    "    22561 actcaacatt tttttcaacc tttaagtgct atggcgtttc tgccactaag ttgaatgatc\n",
    "    22621 tttgcttctc caatgtctat gcagattctt ttgtagtcaa gggagatgat gtaagacaaa\n",
    "    22681 tagcgccagg acaaactggt gttattgctg attataatta taaattgcca gatgatttca\n",
    "    22741 tgggttgtgt ccttgcttgg aatactagga acattgatgc tacttcaact ggtaattata\n",
    "    22801 attataaata taggtatctt agacatggca agcttaggcc ctttgagaga gacatatcta\n",
    "    22861 atgtgccttt ctcccctgat ggcaaacctt gcaccccacc tgctcttaat tgttattggc\n",
    "    22921 cattaaatga ttatggtttt tacaccacta ctggcattgg ctaccaacct tacagagttg\n",
    "    22981 tagtactttc ttttgaactt ttaaatgcac cggccacggt ttgtggacca aaattatcca\n",
    "    23041 ctgaccttat taagaaccag tgtgtcaatt ttaattttaa tggactcact ggtactggtg\n",
    "    23101 tgttaactcc ttcttcaaag agatttcaac catttcaaca atttggccgt gatgtttctg\n",
    "    23161 atttcactga ttccgttcga gatcctaaaa catctgaaat attagacatt tcaccttgcg\n",
    "    23221 cttttggggg tgtaagtgta attacacctg gaacaaatgc ttcatctgaa gttgctgttc\n",
    "    23281 tatatcaaga tgttaactgc actgatgttt ctacagcaat tcatgcagat caactcacac\n",
    "    23341 cagcttggcg catatattct actggaaaca atgtattcca gactcaagca ggctgtctta\n",
    "    23401 taggagctga gcatgtcgac acttcttatg agtgcgacat tcctattgga gctggcattt\n",
    "    23461 gtgctagtta ccatacagtt tctttattac gtagtactag ccaaaaatct attgtggctt\n",
    "    23521 atactatgtc tttaggtgct gatagttcaa ttgcttactc taataacacc attgctatac\n",
    "    23581 ctactaactt ttcaattagc attactacag aagtaatgcc tgtttctatg gctaaaacct\n",
    "    23641 ccgtagattg taatatgtac atctgcggag attctactga atgtgctaat ttgcttctcc\n",
    "    23701 aatatggtag cttttgcaca caactaaatc gtgcactctc aggtattgct gctgaacagg\n",
    "    23761 atcgcaacac acgtgaagtg ttcgctcaag tcaaacaaat gtacaaaacc ccaactttga\n",
    "    23821 aatattttgg tggttttaat ttttcacaaa tattacctga ccctctaaag ccaactaaga\n",
    "    23881 ggtcttttat tgaggacttg ctctttaata aggtgacact cgctgatgct ggcttcatga\n",
    "    23941 agcaatatgg cgaatgccta ggtgatatta atgctagaga tctcatttgt gcgcagaagt\n",
    "    24001 tcaatggact tacagtgttg ccacctctgc tcactgatga tatgattgct gcctacactg\n",
    "    24061 ctgctctagt tagtggtact gccactgctg gatggacatt tggtgctggc gctgctcttc\n",
    "    24121 aaataccttt tgctatgcaa atggcatata ggttcaatgg cattggagtt acccaaaatg\n",
    "    24181 ttctctatga gaaccaaaaa caaatcgcca accaatttaa caaggcgatt agtcaaattc\n",
    "    24241 aagaatcact tacaacaaca tcaactgcat tgggcaagct gcaagacgtt gttaaccaga\n",
    "    24301 atgctcaagc attaaacaca cttgttaaac aacttagctc taattttggt gcaatttcaa\n",
    "    24361 gtgtgctaaa tgatatcctt tcgcgacttg ataaagtcga ggcggaggta caaattgaca\n",
    "    24421 ggttaattac aggcagactt caaagccttc aaacctatgt aacacaacaa ctaatcaggg\n",
    "    24481 ctgctgaaat cagggcttct gctaatcttg ctgctactaa aatgtctgag tgtgttcttg\n",
    "    24541 gacaatcaaa aagagttgac ttttgtggaa agggctacca ccttatgtcc ttcccacaag\n",
    "    24601 cagccccgca tggtgttgtc ttcctacatg tcacgtatgt gccatcccag gagaggaact\n",
    "    24661 tcaccacagc gccagcaatt tgtcatgaag gcaaagcata cttccctcgt gaaggtgttt\n",
    "    24721 ttgtgtttaa tggcacttct tggtttatta cacagaggaa cttcttttct ccacaaataa\n",
    "    24781 ttactacaga caatacattt gtctcaggaa attgtgatgt cgttattggc atcattaaca\n",
    "    24841 acacagttta tgatcctctg caacctgagc ttgactcatt caaagaagag ctggacaagt\n",
    "    24901 acttcaaaaa tcatacatca ccagatgttg atcttggcga catttcaggc attaacgctt\n",
    "    24961 ctgtcgtcaa cattcaaaaa gaaattgacc gcctcaatga ggtcgctaaa aatttaaatg\n",
    "    25021 aatcactcat tgaccttcaa gaattgggaa aatatgagca atatattaaa tggccttggt\n",
    "    25081 atgtttggct cggcttcatt gctggactaa ttgccatcgt catggttaca atcttgcttt\n",
    "    25141 gttgcatgac tagttgttgc agttgcctca agggtgcatg ctcttgtggt tcttgctgca\n",
    "    25201 agtttgatga ggatgactct gagccagttc tcaagggtgt caaattacat tacacataaa\n",
    "    25261 cgaacttatg gatttgttta tgagattttt tactcttaga tcaattactg cacagccagt\n",
    "    25321 aaaaattgac aatgcttctc ctgcaagtac tgttcatgct acagcaacga taccgctaca\n",
    "    25381 agcctcactc cctttcggat ggcttgttat tggcgttgca tttcttgctg tttttcagag\n",
    "    25441 cgctaccaaa ataattgcgc tcaataaaag atggcagcta gccctttata agggcttcca\n",
    "    25501 gttcatttgc aatttactgc tgctatttgt taccatctat tcacatcttt tgcttgtcgc\n",
    "    25561 tgcaggtatg gaggcgcaat ttttgtacct ctatgccttg atatattttc tacaatgcat\n",
    "    25621 caacgcatgt agaattatta tgagatgttg gctttgttgg aagtgcaaat ccaagaaccc\n",
    "    25681 attactttat gatgccaact actttgtttg ctggcacaca cataactatg actactgtat\n",
    "    25741 accatataac agtgtcacag atacaattgt cgttactgaa ggtgacggca tttcaacacc\n",
    "    25801 aaaactcaaa gaagactacc aaattggtgg ttattctgag gataggcact caggtgttaa\n",
    "    25861 agactatgtc gttgtacatg gctatttcac cgaagtttac taccagcttg agtctacaca\n",
    "    25921 aattactaca gacactggta ttgaaaatgc tacattcttc atctttaaca agcttgttaa\n",
    "    25981 agacccaccg aatgtgcaaa tacacacaat cgacggctct tcaggagttg ctaatccagc\n",
    "    26041 aatggatcca atttatgatg agccgacgac gactactagc gtgcctttgt aagcacaaga\n",
    "    26101 aagtgagtac gaacttatgt actcattcgt ttcggaagaa acaggtacgt taatagttaa\n",
    "    26161 tagcgtactt ctttttcttg ctttcgtggt attcttgcta gtcacactag ccatccttac\n",
    "    26221 tgcgcttcga ttgtgtgcgt actgctgcaa tattgttaac gtgagtttag taaaaccaac\n",
    "    26281 ggtttacgtc tactcgcgtg ttaaaaatct gaactcttct gaaggagttc ctgatcttct\n",
    "    26341 ggtctaaacg aactaactat tattattatt ctgtttggaa ctttaacatt gcttatcatg\n",
    "    26401 gcagacaacg gtactattac cgttgaggag cttaaacaac tcctggaaca atggaaccta\n",
    "    26461 gtaataggtt tcctattcct agcctggatt atgttactac aatttgccta ttctaatcgg\n",
    "    26521 aacaggtttt tgtacataat aaagcttgtt ttcctctggc tcttgtggcc agtaacactt\n",
    "    26581 gcttgttttg tgcttgctgc tgtctacaga attaattggg tgactggcgg gattgcgatt\n",
    "    26641 gcaatggctt gtattgtagg cttgatgtgg cttagctact tcgttgcttc cttcaggctg\n",
    "    26701 tttgctcgta cccgctcaat gtggtcattc aacccagaaa caaacattct tctcaatgtg\n",
    "    26761 cctctccggg ggacaattgt gaccagaccg ctcatggaaa gtgaacttgt cattggtgct\n",
    "    26821 gtgatcattc gtggtcactt gcgaatggcc ggacactccc tagggcgctg tgacattaag\n",
    "    26881 gacctgccaa aagagatcac tgtggctaca tcacgaacgc tttcttatta caaattagga\n",
    "    26941 gcgtcgcagc gtgtaggcac tgattcaggt tttgctgcat acaaccgcta ccgtattgga\n",
    "    27001 aactataaat taaatacaga ccacgccggt agcaacgaca atattgcttt gctagtacag\n",
    "    27061 taagtgacaa cagatgtttc atcttgttga cttccaggtt acaatagcag agatattgat\n",
    "    27121 tatcattatg aggactttca ggattgctat ttggaatctt gacgttataa taagttcaat\n",
    "    27181 agtgagacaa ttatttaagc ctctaactaa gaagaattat tcggagttag atgatgaaga\n",
    "    27241 acctatggag ttagattatc cataaaacga acatgaaaat tattctcttc ctgacattga\n",
    "    27301 ttgtatttac atcttgcgag ctatatcact atcaggagtg tgttagaggt acgactgtac\n",
    "    27361 tactaaaaga accttgccca tcaggaacat acgagggcaa ttcaccattt caccctcttg\n",
    "    27421 ctgacaataa atttgcacta acttgcacta gcacacactt tgcttttgct tgtgctgacg\n",
    "    27481 gtactcgaca tacctatcag ctgcgtgcaa gatcagtttc accaaaactt ttcatcagac\n",
    "    27541 aagaggaggt tcaacaagag ctctactcgc cactttttct cattgttgct gctctagtat\n",
    "    27601 ttttaatact ttgcttcacc attaagagaa agacagaatg aatgagctca ctttaattga\n",
    "    27661 cttctatttg tgctttttag cctttctgct attccttgtt ttaataatgc ttattatatt\n",
    "    27721 ttggttttca ctcgaaatcc aggatctaga agaaccttgt accaaagtct aaacgaacat\n",
    "    27781 gaaacttctc attgttttga cttgtatttc tctatgcagt tgcatatgca ctgtagtaca\n",
    "    27841 gcgctgtgca tctaataaac ctcatgtgct tgaagatcct tgtaaggtac aacactaggg\n",
    "    27901 gtaatactta tagcactgct tggctttgtg ctctaggaaa ggttttacct tttcatagat\n",
    "    27961 ggcacactat ggttcaaaca tgcacaccta atgttactat caactgtcaa gatccagctg\n",
    "    28021 gtggtgcgct tatagctagg tgttggtacc ttcatgaagg tcaccaaact gctgcattta\n",
    "    28081 gagacgtact tgttgtttta aataaacgaa caaattaaaa tgtctgataa tggaccccaa\n",
    "    28141 tcaaaccaac gtagtgcccc ccgcattaca tttggtggac ccacagattc aactgacaat\n",
    "    28201 aaccagaatg gaggacgcaa tggggcaagg ccaaaacagc gccgacccca aggtttaccc\n",
    "    28261 aataatactg cgtcttggtt cacagctctc actcagcatg gcaaggagga acttagattc\n",
    "    28321 cctcgaggcc agggcgttcc aatcaacacc aatagtggtc cagatgacca aattggctac\n",
    "    28381 taccgaagag ctacccgacg agttcgtggt ggtgacggca aaatgaaaga gctcagcccc\n",
    "    28441 agatggtact tctattacct aggaactggc ccagaagctt cacttcccta cggcgctaac\n",
    "    28501 aaagaaggca tcgtatgggt tgcaactgag ggagccttga atacacccaa agaccacatt\n",
    "    28561 ggcacccgca atcctaataa caatgctgcc accgtgctac aacttcctca aggaacaaca\n",
    "    28621 ttgccaaaag gcttctacgc agagggaagc agaggcggca gtcaagcctc ttctcgctcc\n",
    "    28681 tcatcacgta gtcgcggtaa ttcaagaaat tcaactcctg gcagcagtag gggaaattct\n",
    "    28741 cctgctcgaa tggctagcgg aggtggtgaa actgccctcg cgctattgct gctagacaga\n",
    "    28801 ttgaaccagc ttgagagcaa agtttctggt aaaggccaac aacaacaagg ccaaactgtc\n",
    "    28861 actaagaaat ctgctgctga ggcatctaaa aagcctcgcc aaaaacgtac tgccacaaaa\n",
    "    28921 cagtacaacg tcactcaagc atttgggaga cgtggtccag aacaaaccca aggaaatttc\n",
    "    28981 ggggaccaag acctaatcag acaaggaact gattacaaac attggccgca aattgcacaa\n",
    "    29041 tttgctccaa gtgcctctgc attctttgga atgtcacgca ttggcatgga agtcacacct\n",
    "    29101 tcgggaacat ggctgactta tcatggagcc attaaattgg atgacaaaga tccacaattc\n",
    "    29161 aaagacaacg tcatactgct gaacaagcac attgacgcat acaaaacatt cccaccaaca\n",
    "    29221 gagcctaaaa aggacaaaaa gaaaaagact gatgaagctc agcctttgcc gcagagacaa\n",
    "    29281 aagaagcagc ccactgtgac tcttcttcct gcggctgaca tggatgattt ctccagacaa\n",
    "    29341 cttcaaaatt ccatgagtgg agcttctgct gattcaactc aggcataaac actcatgatg\n",
    "    29401 accacacaag gcagatgggc tatgtaaacg ttttcgcaat tccgtttacg atacatagtc\n",
    "    29461 tactcttgtg cagaatgaat tctcgtaact aaacagcaca agtaggttta gttaacttta\n",
    "    29521 atctcacata gcaatcttta atcaatgtgt aacattaggg aggacttgaa agagccacca\n",
    "    29581 cattttcatc gaggccacgc ggagtacgat cgagggtaca gtgaataatg ctagggagag\n",
    "    29641 ctgcctatat ggaagagccc taatgtgtaa aattaatttt agtagtgcta tccccatgtg\n",
    "    29701 attttaatag cttcttagga gaatgacaaa aaaaaaaaaa aaaaaaaaaa a\n",
    "'''"
   ]
  },
  {
   "cell_type": "code",
   "execution_count": 101,
   "metadata": {},
   "outputs": [
    {
     "data": {
      "image/png": "[encoded data removed]",
      "text/plain": [
       "<Figure size 1120x800 with 2 Axes>"
      ]
     },
     "metadata": {
      "needs_background": "light"
     },
     "output_type": "display_data"
    }
   ],
   "source": [
    "def to_fasta(s):\n",
    "    return ''.join([x for x in s if x in 'acgt'])\n",
    "\n",
    "who = to_fasta(f1)\n",
    "sars = to_fasta(f2)\n",
    "\n",
    "import matplotlib.pyplot as plt\n",
    "fig = plt.figure(figsize=(7, 5), dpi=160,)\n",
    "\n",
    "#figure(num=None, )\n",
    "\n",
    "from collections import Counter\n",
    "window = 500\n",
    "step=30\n",
    "\n",
    "def get_data(species):\n",
    "    \n",
    "    to_plot = []\n",
    "\n",
    "    for x in range(0, len(species)-window, step):\n",
    "        start = x\n",
    "        end = x + window\n",
    "\n",
    "        seq = species[start:end]\n",
    "        counts = Counter(seq)\n",
    "        gc_count = (counts['c'] + counts['g'])/len(seq)\n",
    "        to_plot.append((start, gc_count))\n",
    "        \n",
    "    return to_plot\n",
    "\n",
    "data_1 = get_data(who)\n",
    "data_2 = get_data(sars)\n",
    "\n",
    "# https://stackoverflow.com/questions/31726643/how-do-i-get-multiple-subplots-in-matplotlib\n",
    "\n",
    "plt.subplot(2, 1, 1)\n",
    "legend, = plt.plot([x[0] for x in data_1], [x[1] for x in data_1])\n",
    "plt.legend([legend], ['Wuhan-Hu-1'])\n",
    "\n",
    "plt.subplot(2, 1, 2)\n",
    "legend, = plt.plot([x[0] for x in data_2], [x[1] for x in data_2], color='red')\n",
    "plt.legend([legend], ['SARS'])\n",
    "\n",
    "plt.show()"
   ]
  },
  {
   "cell_type": "code",
   "execution_count": null,
   "metadata": {},
   "outputs": [],
   "source": []
  }
 ],
 "metadata": {
  "kernelspec": {
   "display_name": "Python 3",
   "language": "python",
   "name": "python3"
  },
  "language_info": {
   "codemirror_mode": {
    "name": "ipython",
    "version": 3
   },
   "file_extension": ".py",
   "mimetype": "text/x-python",
   "name": "python",
   "nbconvert_exporter": "python",
   "pygments_lexer": "ipython3",
   "version": "3.7.0"
  }
 },
 "nbformat": 4,
 "nbformat_minor": 2
}
