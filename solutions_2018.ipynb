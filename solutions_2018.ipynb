{
 "cells": [
  {
   "cell_type": "markdown",
   "metadata": {},
   "source": [
    "# Λύσεις ασκήσεων σειρά 1, 2018"
   ]
  },
  {
   "cell_type": "markdown",
   "metadata": {},
   "source": [
    "### 1η άσκηση\n",
    "έστω οι μεταβλητές:\n",
    "```python\n",
    "name = \"Mitsos\"\n",
    "age = 45\n",
    "```\n",
    "Ανάλογα με τις τιμές της μεταβλητής, να τυπώνει:\n",
    "```\n",
    "to onoma mou einai <name> kai h hlikia mou einai <age>\n",
    "π.χ.:\n",
    "to onoma mou einai Mitsos kai h hlikia mou einai 45\n",
    "```\n"
   ]
  },
  {
   "cell_type": "code",
   "execution_count": 1,
   "metadata": {},
   "outputs": [
    {
     "name": "stdout",
     "output_type": "stream",
     "text": [
      "to onoma mou einai: mitsos kai h hlikia mou einai 45\n"
     ]
    }
   ],
   "source": [
    "def f(name, age):\n",
    "    print ('to onoma mou einai:', name, 'kai h hlikia mou einai', age)\n",
    "f('mitsos', 45)"
   ]
  },
  {
   "cell_type": "markdown",
   "metadata": {},
   "source": [
    "### 2η άσκηση\n",
    "Γράψτε κώδικα ο οποίος θα ελέγχει αν ο αριθμός ```a``` διαιρεί τέλεια τον αριθμό ```b```\n"
   ]
  },
  {
   "cell_type": "code",
   "execution_count": 2,
   "metadata": {},
   "outputs": [],
   "source": [
    "def f(a,b):\n",
    "    return a%b==0"
   ]
  },
  {
   "cell_type": "code",
   "execution_count": 3,
   "metadata": {},
   "outputs": [
    {
     "data": {
      "text/plain": [
       "False"
      ]
     },
     "execution_count": 3,
     "metadata": {},
     "output_type": "execute_result"
    }
   ],
   "source": [
    "f(10,3)"
   ]
  },
  {
   "cell_type": "code",
   "execution_count": 4,
   "metadata": {},
   "outputs": [
    {
     "data": {
      "text/plain": [
       "True"
      ]
     },
     "execution_count": 4,
     "metadata": {},
     "output_type": "execute_result"
    }
   ],
   "source": [
    "f(10,2)"
   ]
  },
  {
   "cell_type": "markdown",
   "metadata": {},
   "source": [
    "### 3η άσκηση\n",
    "Γράψτε κώδικα ο οποίος θα βρίσκει τον μικρότερο από 3 αριθμούς. Μη χρησιμοποιήσετε τη ```min```. "
   ]
  },
  {
   "cell_type": "code",
   "execution_count": 5,
   "metadata": {},
   "outputs": [],
   "source": [
    "def f(a,b,c):\n",
    "    if a<=b:\n",
    "        if a<=c:\n",
    "            return a\n",
    "        return c\n",
    "    if b<=c:\n",
    "        return b\n",
    "    return c"
   ]
  },
  {
   "cell_type": "code",
   "execution_count": 6,
   "metadata": {},
   "outputs": [
    {
     "data": {
      "text/plain": [
       "1"
      ]
     },
     "execution_count": 6,
     "metadata": {},
     "output_type": "execute_result"
    }
   ],
   "source": [
    "f(1,2,3)"
   ]
  },
  {
   "cell_type": "code",
   "execution_count": 7,
   "metadata": {},
   "outputs": [
    {
     "data": {
      "text/plain": [
       "1"
      ]
     },
     "execution_count": 7,
     "metadata": {},
     "output_type": "execute_result"
    }
   ],
   "source": [
    "f(1,3,2)"
   ]
  },
  {
   "cell_type": "code",
   "execution_count": 8,
   "metadata": {},
   "outputs": [
    {
     "data": {
      "text/plain": [
       "1"
      ]
     },
     "execution_count": 8,
     "metadata": {},
     "output_type": "execute_result"
    }
   ],
   "source": [
    "f(2,1,3)"
   ]
  },
  {
   "cell_type": "code",
   "execution_count": 9,
   "metadata": {},
   "outputs": [
    {
     "data": {
      "text/plain": [
       "1"
      ]
     },
     "execution_count": 9,
     "metadata": {},
     "output_type": "execute_result"
    }
   ],
   "source": [
    "f(3,1,2)"
   ]
  },
  {
   "cell_type": "code",
   "execution_count": 10,
   "metadata": {},
   "outputs": [
    {
     "data": {
      "text/plain": [
       "1"
      ]
     },
     "execution_count": 10,
     "metadata": {},
     "output_type": "execute_result"
    }
   ],
   "source": [
    "f(2,3,1)"
   ]
  },
  {
   "cell_type": "code",
   "execution_count": 11,
   "metadata": {},
   "outputs": [
    {
     "data": {
      "text/plain": [
       "1"
      ]
     },
     "execution_count": 11,
     "metadata": {},
     "output_type": "execute_result"
    }
   ],
   "source": [
    "f(3,2,1)"
   ]
  },
  {
   "cell_type": "markdown",
   "metadata": {},
   "source": [
    "## 4η άσκηση\n",
    "Γράψτε κώδικα ο οποίος θα βρίσκει τον μεσαίο από 3 αριθμούς. δηλαδή αν οι αριθμοί είναι 5,3,8. Θα τυπώνει: 5 . Μη κάνετε import κάποια βιβλιοθήκη. Μην χρησιμοποιήσετε min, max ή sort."
   ]
  },
  {
   "cell_type": "code",
   "execution_count": 12,
   "metadata": {},
   "outputs": [],
   "source": [
    "def f(a,b,c):\n",
    "    if a<=b:\n",
    "        if b<=c:\n",
    "            return b\n",
    "        if a<=c:\n",
    "            return c\n",
    "        return a\n",
    "    if c<=b:\n",
    "        return b\n",
    "    if c<=a:\n",
    "        return c\n",
    "    return a"
   ]
  },
  {
   "cell_type": "code",
   "execution_count": 13,
   "metadata": {},
   "outputs": [
    {
     "data": {
      "text/plain": [
       "2"
      ]
     },
     "execution_count": 13,
     "metadata": {},
     "output_type": "execute_result"
    }
   ],
   "source": [
    "f(1,2,3)"
   ]
  },
  {
   "cell_type": "code",
   "execution_count": 14,
   "metadata": {},
   "outputs": [
    {
     "data": {
      "text/plain": [
       "2"
      ]
     },
     "execution_count": 14,
     "metadata": {},
     "output_type": "execute_result"
    }
   ],
   "source": [
    "f(1,3,2)"
   ]
  },
  {
   "cell_type": "code",
   "execution_count": 15,
   "metadata": {},
   "outputs": [
    {
     "data": {
      "text/plain": [
       "2"
      ]
     },
     "execution_count": 15,
     "metadata": {},
     "output_type": "execute_result"
    }
   ],
   "source": [
    "f(2,1,3)"
   ]
  },
  {
   "cell_type": "code",
   "execution_count": 16,
   "metadata": {},
   "outputs": [
    {
     "data": {
      "text/plain": [
       "2"
      ]
     },
     "execution_count": 16,
     "metadata": {},
     "output_type": "execute_result"
    }
   ],
   "source": [
    "f(3,1,2)"
   ]
  },
  {
   "cell_type": "code",
   "execution_count": 17,
   "metadata": {},
   "outputs": [
    {
     "data": {
      "text/plain": [
       "2"
      ]
     },
     "execution_count": 17,
     "metadata": {},
     "output_type": "execute_result"
    }
   ],
   "source": [
    "f(3,2,1)"
   ]
  },
  {
   "cell_type": "code",
   "execution_count": 18,
   "metadata": {},
   "outputs": [
    {
     "data": {
      "text/plain": [
       "2"
      ]
     },
     "execution_count": 18,
     "metadata": {},
     "output_type": "execute_result"
    }
   ],
   "source": [
    "f(2,3,1)"
   ]
  },
  {
   "cell_type": "markdown",
   "metadata": {},
   "source": [
    "Ένας άλλος τρόπος:"
   ]
  },
  {
   "cell_type": "code",
   "execution_count": 19,
   "metadata": {},
   "outputs": [],
   "source": [
    "def f(a,b,c):\n",
    "    if b<=a<=c:\n",
    "        return a\n",
    "    if c<=a<=b:\n",
    "        return a\n",
    "    if a<=b<=c:\n",
    "        return b\n",
    "    if c<=b<=a:\n",
    "        return b\n",
    "    if a<=c<=b:\n",
    "        return c\n",
    "    if b<=c<=a:\n",
    "        return c"
   ]
  },
  {
   "cell_type": "markdown",
   "metadata": {},
   "source": [
    "### 6η άσκηση\n",
    "Γράψτε κώδικα που θα βρίσκει τον μέσο όρο από ενα list με αριθμούς. Μη κάνετε import κάποια βιβλιοθήκη.\n"
   ]
  },
  {
   "cell_type": "code",
   "execution_count": 20,
   "metadata": {},
   "outputs": [],
   "source": [
    "def f(l):\n",
    "    return sum(l)/len(l)"
   ]
  },
  {
   "cell_type": "code",
   "execution_count": 21,
   "metadata": {},
   "outputs": [
    {
     "data": {
      "text/plain": [
       "2.5"
      ]
     },
     "execution_count": 21,
     "metadata": {},
     "output_type": "execute_result"
    }
   ],
   "source": [
    "f([1,2,3,4])"
   ]
  },
  {
   "cell_type": "markdown",
   "metadata": {},
   "source": [
    "### 7η άσκηση\n",
    "Γράψτε κώδικα που θα βρίσκει τον μέσο όρο από το πλήθος από γράμματα που έχει μία λίστα από strings.\n",
    "δηλαδη αν η λίστα είναι\n",
    "```python\n",
    "a = ['mitsos', 'anna', 'epameinonas']\n",
    "```\n",
    "Θα πρέπει να τυπώσει:7.0 (Δηλαδή: (6+4+11)/3 )"
   ]
  },
  {
   "cell_type": "code",
   "execution_count": 22,
   "metadata": {},
   "outputs": [],
   "source": [
    "def f(l):\n",
    "    counts = [len(x) for x in l]\n",
    "    return sum(counts)/len(counts)\n"
   ]
  },
  {
   "cell_type": "code",
   "execution_count": 23,
   "metadata": {},
   "outputs": [
    {
     "data": {
      "text/plain": [
       "7.0"
      ]
     },
     "execution_count": 23,
     "metadata": {},
     "output_type": "execute_result"
    }
   ],
   "source": [
    "f(['mitsos', 'anna', 'epameinonas'])"
   ]
  },
  {
   "cell_type": "markdown",
   "metadata": {},
   "source": [
    "### 8η άσκηση\n",
    "Έστω η λίστα με τα παρακάτω ελληνικά νησιά:\n",
    "```python\n",
    "islands = [\n",
    "    \"Astypalaia\",\n",
    "    \"Kalymnos\",\n",
    "    \"Karpathos\",\n",
    "    \"Kasos\",\n",
    "    \"Kastellorizo\",\n",
    "    \"Kos\",\n",
    "    \"Leros\",\n",
    "    \"Nisyros\",\n",
    "    \"Patmos\",\n",
    "    \"Rhodos\",\n",
    "    \"Symi\",\n",
    "    \"Tilos\",]\n",
    "```\n",
    "\n",
    "Πόσα νησιά το όνομά τους αρχίζει από φωνήεν; Μπορείτε να ορίσετε εσείς όποια λίστα με φωνήεντα θέλετε. "
   ]
  },
  {
   "cell_type": "code",
   "execution_count": 24,
   "metadata": {},
   "outputs": [
    {
     "data": {
      "text/plain": [
       "['Astypalaia']"
      ]
     },
     "execution_count": 24,
     "metadata": {},
     "output_type": "execute_result"
    }
   ],
   "source": [
    "islands = [\n",
    "    \"Astypalaia\",\n",
    "    \"Kalymnos\",\n",
    "    \"Karpathos\",\n",
    "    \"Kasos\",\n",
    "    \"Kastellorizo\",\n",
    "    \"Kos\",\n",
    "    \"Leros\",\n",
    "    \"Nisyros\",\n",
    "    \"Patmos\",\n",
    "    \"Rhodos\",\n",
    "    \"Symi\",\n",
    "    \"Tilos\",]\n",
    "\n",
    "fon = ['a', 'e', 'o', 'i', 'y', 'u', 'w']\n",
    "def f(l):\n",
    "    return [x for x in l if x[0].lower() in fon]\n",
    "\n",
    "f(islands)"
   ]
  },
  {
   "cell_type": "markdown",
   "metadata": {},
   "source": [
    "### 9η άσκηση\n",
    "Έστω η ίδια λίστα με την άσκηση 8. Ποια νησιά έχουν μόνο ένα φωνήεν; Μη κάνετε import κάποια βιβλιοθήκη. Π.χ.: ```re```"
   ]
  },
  {
   "cell_type": "code",
   "execution_count": 25,
   "metadata": {},
   "outputs": [],
   "source": [
    "def f(l):\n",
    "     return [island for island in islands if sum([island.count(f) for f in fon])==1]"
   ]
  },
  {
   "cell_type": "code",
   "execution_count": 26,
   "metadata": {},
   "outputs": [
    {
     "data": {
      "text/plain": [
       "['Kos']"
      ]
     },
     "execution_count": 26,
     "metadata": {},
     "output_type": "execute_result"
    }
   ],
   "source": [
    "f(islands)"
   ]
  },
  {
   "cell_type": "markdown",
   "metadata": {},
   "source": [
    "### 10η άσκηση\n",
    "Έστω η ίδια λίστα με την άσκηση 8.\n",
    "Ποια νησιά έχουν 5 γράμματα;"
   ]
  },
  {
   "cell_type": "code",
   "execution_count": 27,
   "metadata": {},
   "outputs": [],
   "source": [
    "def f(l):\n",
    "    return [island for island in islands if len(island)==5]"
   ]
  },
  {
   "cell_type": "code",
   "execution_count": 28,
   "metadata": {},
   "outputs": [
    {
     "data": {
      "text/plain": [
       "['Kasos', 'Leros', 'Tilos']"
      ]
     },
     "execution_count": 28,
     "metadata": {},
     "output_type": "execute_result"
    }
   ],
   "source": [
    "f(islands)"
   ]
  },
  {
   "cell_type": "markdown",
   "metadata": {},
   "source": [
    "### 11η άσκηση\n",
    "Έστω ένας αριθμός (π.χ. a=542).\n",
    "Ποιο είναι το άθροισμα των ψηφίων του; (δλδ 5+4+2=11 για το παράδειγμα)"
   ]
  },
  {
   "cell_type": "code",
   "execution_count": 29,
   "metadata": {},
   "outputs": [],
   "source": [
    "def f(n):\n",
    "    return sum([int(x) for x in str(n)])"
   ]
  },
  {
   "cell_type": "code",
   "execution_count": 30,
   "metadata": {},
   "outputs": [
    {
     "data": {
      "text/plain": [
       "11"
      ]
     },
     "execution_count": 30,
     "metadata": {},
     "output_type": "execute_result"
    }
   ],
   "source": [
    "f(542)"
   ]
  },
  {
   "cell_type": "markdown",
   "metadata": {},
   "source": [
    "### 12 άσκηση \n",
    "Έστω 2 strings. Ελέγξτε αν όλα τα γράμματα του πρώτου υπάρχουν στο δεύτερο.\n",
    "\n",
    "π.χ.: \n",
    "* \"mpanana\", \"mpania\" --> True\n",
    "* \"mpanana\", \"pania\" --> False\n"
   ]
  },
  {
   "cell_type": "code",
   "execution_count": 31,
   "metadata": {},
   "outputs": [],
   "source": [
    "def f(a,b):\n",
    "    return all([x in b for x in a])"
   ]
  },
  {
   "cell_type": "code",
   "execution_count": 32,
   "metadata": {},
   "outputs": [
    {
     "data": {
      "text/plain": [
       "True"
      ]
     },
     "execution_count": 32,
     "metadata": {},
     "output_type": "execute_result"
    }
   ],
   "source": [
    "f(\"mpanana\", \"mpania\")"
   ]
  },
  {
   "cell_type": "code",
   "execution_count": 33,
   "metadata": {},
   "outputs": [
    {
     "data": {
      "text/plain": [
       "False"
      ]
     },
     "execution_count": 33,
     "metadata": {},
     "output_type": "execute_result"
    }
   ],
   "source": [
    "f(\"mpanana\", \"pania\")"
   ]
  },
  {
   "cell_type": "markdown",
   "metadata": {},
   "source": [
    "### 13 άσκηση\n",
    "Βρείτε την ευκλίδεια απόσταση μεταξύ δύο σημείων στο 2-διάστατο χώρο. Κάθε σημείο είναι μία λίστα από δύο αριθμούς. Π.χ:\n",
    "```python\n",
    "p_1 = [4,5]\n",
    "p_2 = [-2,7]\n",
    "```\n",
    "Προσπαθήστε χωρίς να κάνετε import κάτι άλλο εκτός από τη math."
   ]
  },
  {
   "cell_type": "code",
   "execution_count": 34,
   "metadata": {},
   "outputs": [],
   "source": [
    "import math\n",
    "\n",
    "def f(a,b):\n",
    "    return math.sqrt((a[0]-b[0])**2 + (a[1]-b[1])**2)"
   ]
  },
  {
   "cell_type": "code",
   "execution_count": 35,
   "metadata": {},
   "outputs": [],
   "source": [
    "p_1 = [4,5]\n",
    "p_2 = [-2,7]"
   ]
  },
  {
   "cell_type": "code",
   "execution_count": 36,
   "metadata": {},
   "outputs": [
    {
     "data": {
      "text/plain": [
       "6.324555320336759"
      ]
     },
     "execution_count": 36,
     "metadata": {},
     "output_type": "execute_result"
    }
   ],
   "source": [
    "f(p_1, p_2)"
   ]
  },
  {
   "cell_type": "markdown",
   "metadata": {},
   "source": [
    "### 14η άσκηση\n",
    "Βρείτε το παραγοντικό (factorial) ενός ακεραίου"
   ]
  },
  {
   "cell_type": "code",
   "execution_count": 37,
   "metadata": {},
   "outputs": [],
   "source": [
    "# 1os tropos\n",
    "def f1(n):\n",
    "    ret = 1\n",
    "    for x in range(1, n+1):\n",
    "        ret *= x\n",
    "    return ret\n",
    "\n",
    "# 2os tropos\n",
    "def f2(n):\n",
    "    if n==1:\n",
    "        return 1\n",
    "    return n*f2(n-1)"
   ]
  },
  {
   "cell_type": "code",
   "execution_count": 38,
   "metadata": {},
   "outputs": [
    {
     "data": {
      "text/plain": [
       "3628800"
      ]
     },
     "execution_count": 38,
     "metadata": {},
     "output_type": "execute_result"
    }
   ],
   "source": [
    "f1(10)"
   ]
  },
  {
   "cell_type": "code",
   "execution_count": 39,
   "metadata": {},
   "outputs": [
    {
     "data": {
      "text/plain": [
       "3628800"
      ]
     },
     "execution_count": 39,
     "metadata": {},
     "output_type": "execute_result"
    }
   ],
   "source": [
    "f2(10)"
   ]
  },
  {
   "cell_type": "code",
   "execution_count": 40,
   "metadata": {},
   "outputs": [
    {
     "data": {
      "text/plain": [
       "3628800"
      ]
     },
     "execution_count": 40,
     "metadata": {},
     "output_type": "execute_result"
    }
   ],
   "source": [
    "1*2*3*4*5*6*7*8*9*10"
   ]
  },
  {
   "cell_type": "markdown",
   "metadata": {},
   "source": [
    "### 15η άσκηση \n",
    "Βρείτε το χ% ενός αριθμού. Π.χ. το 25% του 400 είναι 100. "
   ]
  },
  {
   "cell_type": "code",
   "execution_count": 41,
   "metadata": {},
   "outputs": [],
   "source": [
    "def f(percentage, N):\n",
    "    return percentage/100 * N"
   ]
  },
  {
   "cell_type": "code",
   "execution_count": 42,
   "metadata": {},
   "outputs": [
    {
     "data": {
      "text/plain": [
       "100.0"
      ]
     },
     "execution_count": 42,
     "metadata": {},
     "output_type": "execute_result"
    }
   ],
   "source": [
    "f(25, 400)"
   ]
  },
  {
   "cell_type": "markdown",
   "metadata": {},
   "source": [
    "### 16η άσκηση \n",
    "Βρείτε όλους τους [Munchausen](https://twitter.com/fermatslibrary/status/1039857447618445312) αριθμούς από 1 μέχρι το 1.000.000\n"
   ]
  },
  {
   "cell_type": "code",
   "execution_count": 43,
   "metadata": {},
   "outputs": [],
   "source": [
    "def f():\n",
    "    for x in range(1, 1000001):\n",
    "        digits = [int(digit) for digit in str(x)]\n",
    "        s = sum([digit**digit for digit in digits])\n",
    "        if s == x:\n",
    "            print (x)"
   ]
  },
  {
   "cell_type": "code",
   "execution_count": 44,
   "metadata": {},
   "outputs": [
    {
     "name": "stdout",
     "output_type": "stream",
     "text": [
      "1\n",
      "3435\n"
     ]
    }
   ],
   "source": [
    "f()"
   ]
  },
  {
   "cell_type": "markdown",
   "metadata": {},
   "source": [
    "### 17η άσκηση \n",
    "Βρείτε όλα τα [factorions](https://twitter.com/fermatslibrary/status/1030436593184792578) από το 1 μέχρι το 50.000\n"
   ]
  },
  {
   "cell_type": "code",
   "execution_count": 45,
   "metadata": {},
   "outputs": [],
   "source": [
    "def fact(N):\n",
    "    if N == 0:\n",
    "        return 1\n",
    "    return N*fact(N-1)\n",
    "\n",
    "def f():\n",
    "    for x in range(1, 50001):\n",
    "        digits = [int(digit) for digit in str(x)]\n",
    "        s = sum([fact(digit) for digit in digits])\n",
    "        if s == x:\n",
    "            print (s)\n"
   ]
  },
  {
   "cell_type": "code",
   "execution_count": 46,
   "metadata": {},
   "outputs": [
    {
     "name": "stdout",
     "output_type": "stream",
     "text": [
      "1\n",
      "2\n",
      "145\n",
      "40585\n"
     ]
    }
   ],
   "source": [
    "f()"
   ]
  },
  {
   "cell_type": "markdown",
   "metadata": {},
   "source": [
    "### 18η άσκηση \n",
    "Ένα έτος είναι δίσεκτο αν διαιρείται με το 4. Από αυτόν τον κανόνα εξαιρούνται τα έτη που διαιρούνται με το 100 (το 1900 ΔΕΝ είναι δίσκετο). Από αυτόν τον κανόνα εξαιρούνται τα έτη που διαιρούνται με το 400 (το 2000 ΗΤΑΝ δίσεκτο). Γράφτε κώδικα που θα υπολογίζει αν ένα έτος είναι δίσεκτο ή όχι"
   ]
  },
  {
   "cell_type": "code",
   "execution_count": 47,
   "metadata": {},
   "outputs": [],
   "source": [
    "def f(year):\n",
    "    if year%4:\n",
    "        return False\n",
    "    if year%400:\n",
    "        return True\n",
    "    if year%100:\n",
    "        return True\n",
    "    return False"
   ]
  },
  {
   "cell_type": "code",
   "execution_count": 48,
   "metadata": {},
   "outputs": [
    {
     "data": {
      "text/plain": [
       "False"
      ]
     },
     "execution_count": 48,
     "metadata": {},
     "output_type": "execute_result"
    }
   ],
   "source": [
    "f(1999)"
   ]
  },
  {
   "cell_type": "code",
   "execution_count": 49,
   "metadata": {},
   "outputs": [
    {
     "data": {
      "text/plain": [
       "True"
      ]
     },
     "execution_count": 49,
     "metadata": {},
     "output_type": "execute_result"
    }
   ],
   "source": [
    "f(2004)"
   ]
  },
  {
   "cell_type": "code",
   "execution_count": 50,
   "metadata": {},
   "outputs": [
    {
     "data": {
      "text/plain": [
       "False"
      ]
     },
     "execution_count": 50,
     "metadata": {},
     "output_type": "execute_result"
    }
   ],
   "source": [
    "f(2000)"
   ]
  },
  {
   "cell_type": "code",
   "execution_count": 51,
   "metadata": {},
   "outputs": [
    {
     "data": {
      "text/plain": [
       "True"
      ]
     },
     "execution_count": 51,
     "metadata": {},
     "output_type": "execute_result"
    }
   ],
   "source": [
    "f(1900)"
   ]
  },
  {
   "cell_type": "markdown",
   "metadata": {},
   "source": [
    "### 19η άσκηση\n",
    "Βρείτε όλους του [Kaprekar](https://twitter.com/fermatslibrary/status/1010174733235687424) από το 1 μέχρι το 10.000"
   ]
  },
  {
   "cell_type": "code",
   "execution_count": 52,
   "metadata": {},
   "outputs": [],
   "source": [
    "def f():\n",
    "    \n",
    "    def digits_to_number(digits):\n",
    "        return int(''.join([str(digit) for digit in digits]))\n",
    "    \n",
    "    for x in range(1, 10001):\n",
    "        digits = [int(digit) for digit in str(x**2)]\n",
    "        l = len(digits)\n",
    "        if l%2:\n",
    "            continue\n",
    "        \n",
    "        part_1 = digits[0:l//2]\n",
    "        part_2 = digits[l//2:]\n",
    "        \n",
    "        if digits_to_number(part_1) + digits_to_number(part_2) == x:\n",
    "            print (x)\n",
    "        \n",
    "        \n",
    "        "
   ]
  },
  {
   "cell_type": "code",
   "execution_count": 53,
   "metadata": {},
   "outputs": [
    {
     "name": "stdout",
     "output_type": "stream",
     "text": [
      "9\n",
      "45\n",
      "55\n",
      "99\n",
      "703\n",
      "999\n",
      "4950\n",
      "5050\n",
      "7272\n",
      "7777\n",
      "9999\n"
     ]
    }
   ],
   "source": [
    "f()"
   ]
  },
  {
   "cell_type": "markdown",
   "metadata": {},
   "source": [
    "### 20η άσκηση\n",
    "Βρείτε όλους τους [Happy numbers](https://twitter.com/fermatslibrary/status/950366488245960707) από το 1 μέχρι το 10.000"
   ]
  },
  {
   "cell_type": "code",
   "execution_count": 54,
   "metadata": {},
   "outputs": [],
   "source": [
    "def f():\n",
    "    for x in range(1,10001):\n",
    "\n",
    "        found_numbers = []\n",
    "        current_number = x\n",
    "        while current_number != 1:\n",
    "            \n",
    "            digits = [int(digit) for digit in str(current_number)]\n",
    "            current_number = sum([digit**2 for digit in digits])\n",
    "        \n",
    "            if current_number in found_numbers:\n",
    "                # Cycle detected...\n",
    "                break\n",
    "            found_numbers.append(current_number)\n",
    "            \n",
    "            if current_number == 1:\n",
    "                print (x)\n",
    "                break\n"
   ]
  },
  {
   "cell_type": "code",
   "execution_count": 55,
   "metadata": {},
   "outputs": [],
   "source": [
    "#f()"
   ]
  },
  {
   "cell_type": "markdown",
   "metadata": {},
   "source": [
    "# Λύσεις ασκήσεων σειρά 2, 2018"
   ]
  },
  {
   "cell_type": "markdown",
   "metadata": {},
   "source": [
    "## Άσκηση 1\n",
    "Φτιάξτε μία συνάρτηση που να παίρνει έναν αριθμό και να επιστρέφει αν είναι πρώτος ή όχι (True/False)"
   ]
  },
  {
   "cell_type": "code",
   "execution_count": 56,
   "metadata": {},
   "outputs": [],
   "source": [
    "import math\n",
    "\n",
    "def is_prime(N):\n",
    "    for k in range(2, int(math.sqrt(N))+1):\n",
    "        if not N%k:\n",
    "            return False\n",
    "    return True\n",
    "\n"
   ]
  },
  {
   "cell_type": "code",
   "execution_count": 57,
   "metadata": {},
   "outputs": [
    {
     "data": {
      "text/plain": [
       "False"
      ]
     },
     "execution_count": 57,
     "metadata": {},
     "output_type": "execute_result"
    }
   ],
   "source": [
    "is_prime(25)"
   ]
  },
  {
   "cell_type": "code",
   "execution_count": 58,
   "metadata": {},
   "outputs": [
    {
     "data": {
      "text/plain": [
       "True"
      ]
     },
     "execution_count": 58,
     "metadata": {},
     "output_type": "execute_result"
    }
   ],
   "source": [
    "is_prime(23)"
   ]
  },
  {
   "cell_type": "markdown",
   "metadata": {},
   "source": [
    "## Άσκηση 2\n",
    "Φτιάξτe μία λίστα με όλους του 1000 πρώτους αριθμούς. (προσοχή: όχι όλους τους πρώτους αριθμούς από το 1 μέχρι το 1000)"
   ]
  },
  {
   "cell_type": "code",
   "execution_count": 59,
   "metadata": {},
   "outputs": [],
   "source": [
    "def f2(limit):\n",
    "    # finds all prime numbers from 1 up to limit\n",
    "    l = []\n",
    "    current_number = 1\n",
    "    while len(l)<limit:\n",
    "        if is_prime(current_number):\n",
    "            l.append(current_number)\n",
    "        current_number += 1\n",
    "        \n",
    "    return l"
   ]
  },
  {
   "cell_type": "code",
   "execution_count": 60,
   "metadata": {},
   "outputs": [],
   "source": [
    "# f(1000)"
   ]
  },
  {
   "cell_type": "markdown",
   "metadata": {},
   "source": [
    "## Άσκηση 3\n",
    "Ποιο είναι το άθροισμα όλων των 1000 πρώτων αριθμών που τελειώνουν σε 3;"
   ]
  },
  {
   "cell_type": "code",
   "execution_count": 61,
   "metadata": {},
   "outputs": [
    {
     "data": {
      "text/plain": [
       "927269"
      ]
     },
     "execution_count": 61,
     "metadata": {},
     "output_type": "execute_result"
    }
   ],
   "source": [
    "sum([x for x in f2(1000) if str(x)[-1]=='3'])"
   ]
  },
  {
   "cell_type": "markdown",
   "metadata": {},
   "source": [
    "## Άσκηση 4\n",
    "Πάρτε τους πρώτους 10.000 πρώτους αριθμούς. Πόσοι τελειώνουν σε \"1\", πόσοι σε \"3\", πόσοι σε \"7\" και πόσοι σε \"9\";"
   ]
  },
  {
   "cell_type": "code",
   "execution_count": 62,
   "metadata": {},
   "outputs": [],
   "source": [
    "def f4():\n",
    "    \n",
    "    last_digits = ['1', '3', '7', '9']    \n",
    "    counts = {x: 0for x in last_digits}\n",
    "\n",
    "    for x in f2(10000):\n",
    "        last_digit = str(x)[-1]\n",
    "        if not last_digit in last_digits:\n",
    "            continue\n",
    "            \n",
    "        counts[last_digit] += 1\n",
    "    return counts\n"
   ]
  },
  {
   "cell_type": "code",
   "execution_count": 63,
   "metadata": {},
   "outputs": [
    {
     "data": {
      "text/plain": [
       "{'1': 2485, '3': 2515, '7': 2508, '9': 2490}"
      ]
     },
     "execution_count": 63,
     "metadata": {},
     "output_type": "execute_result"
    }
   ],
   "source": [
    "f4()"
   ]
  },
  {
   "cell_type": "markdown",
   "metadata": {},
   "source": [
    "## Άσκηση 5\n",
    "Πάρτε τους πρώτους 10.000 πρώτους αριθμούς. Πόσοι τελειώνουν σε \"01\", \"02\", \"03\", \"07\", \"09\", \"11\", \"13\", \"17\", \"19\", \"21\", .. \"99\"; Δηλαδή πάρτε όλα τα πιθανά τελευταία 2 ψηφία ενός πρώτου. Θεωρήστε ότι ο 1,2,5 και 7 τελειώνουν σε \"01\", \"02\", \"05\" και \"07\" αντίστοιχα.  Φτιάξτε ένα dictionary.  π.χ:\n",
    "\n",
    "```python\n",
    "solution = {\n",
    "  '01': 132,\n",
    "  '03' : 76,\n",
    "  ...\n",
    "  '99': 91,\n",
    "}\n",
    "```"
   ]
  },
  {
   "cell_type": "code",
   "execution_count": 64,
   "metadata": {},
   "outputs": [],
   "source": [
    "def f5():\n",
    "\n",
    "    counts = {}\n",
    "    \n",
    "    last_2_digits = []\n",
    "    for x in f2(10000):\n",
    "        str_x = str(x)\n",
    "        last_digit = str_x[-1]\n",
    "\n",
    "        if len(str_x) == 1:\n",
    "            one_before_last = '0'\n",
    "        else:\n",
    "            one_before_last = str_x[-2]\n",
    "        \n",
    "        last_two_digits = one_before_last + last_digit\n",
    "        if not last_two_digits in counts:\n",
    "            counts[last_two_digits] = 0\n",
    "            \n",
    "        counts[last_two_digits] += 1\n",
    "    return counts"
   ]
  },
  {
   "cell_type": "code",
   "execution_count": 65,
   "metadata": {},
   "outputs": [
    {
     "data": {
      "text/plain": [
       "{'01': 255,\n",
       " '02': 1,\n",
       " '03': 250,\n",
       " '05': 1,\n",
       " '07': 250,\n",
       " '11': 257,\n",
       " '13': 256,\n",
       " '17': 253,\n",
       " '19': 248,\n",
       " '23': 259,\n",
       " '29': 254,\n",
       " '31': 251,\n",
       " '37': 254,\n",
       " '41': 237,\n",
       " '43': 246,\n",
       " '47': 248,\n",
       " '53': 250,\n",
       " '59': 254,\n",
       " '61': 239,\n",
       " '67': 250,\n",
       " '71': 245,\n",
       " '73': 244,\n",
       " '79': 253,\n",
       " '83': 256,\n",
       " '89': 247,\n",
       " '97': 260,\n",
       " '09': 245,\n",
       " '27': 250,\n",
       " '39': 254,\n",
       " '49': 245,\n",
       " '51': 253,\n",
       " '57': 246,\n",
       " '63': 246,\n",
       " '81': 251,\n",
       " '91': 247,\n",
       " '93': 261,\n",
       " '99': 243,\n",
       " '33': 247,\n",
       " '69': 247,\n",
       " '77': 242,\n",
       " '21': 250,\n",
       " '87': 255}"
      ]
     },
     "execution_count": 65,
     "metadata": {},
     "output_type": "execute_result"
    }
   ],
   "source": [
    "f5()"
   ]
  },
  {
   "cell_type": "markdown",
   "metadata": {},
   "source": [
    "## Άσκηση 6\n",
    "Ποιός είναι ο μέσος όρος των τιμών του dictionary της άσκησης 5;"
   ]
  },
  {
   "cell_type": "code",
   "execution_count": 66,
   "metadata": {},
   "outputs": [],
   "source": [
    "def f6():\n",
    "    values = f5().values()\n",
    "    return sum(values)/len(values)"
   ]
  },
  {
   "cell_type": "code",
   "execution_count": 67,
   "metadata": {},
   "outputs": [
    {
     "data": {
      "text/plain": [
       "238.0952380952381"
      ]
     },
     "execution_count": 67,
     "metadata": {},
     "output_type": "execute_result"
    }
   ],
   "source": [
    "f6()"
   ]
  },
  {
   "cell_type": "markdown",
   "metadata": {},
   "source": [
    "## Άσκηση 7\n",
    "Από όλα τα counts της άσκησης 5, Ποιά κατάληξη έχει τους περισσότερους πρώτους αριθμούς;"
   ]
  },
  {
   "cell_type": "code",
   "execution_count": 68,
   "metadata": {},
   "outputs": [],
   "source": [
    "def f7():\n",
    "    counts = f5()\n",
    "    return max([(v,k) for k,v in counts.items()])"
   ]
  },
  {
   "cell_type": "code",
   "execution_count": 69,
   "metadata": {},
   "outputs": [
    {
     "data": {
      "text/plain": [
       "(261, '93')"
      ]
     },
     "execution_count": 69,
     "metadata": {},
     "output_type": "execute_result"
    }
   ],
   "source": [
    "f7()"
   ]
  },
  {
   "cell_type": "markdown",
   "metadata": {},
   "source": [
    "## Άσκηση 8\n",
    "Αν αρχίσουμε να αθροίζουμε όλους τους πρώτους αριθμούς ξεκινώντας από το 1, μετά από ποιον πρώτο αριθμό το άθροισμα θα ξεπεράσει το 1.000.000; "
   ]
  },
  {
   "cell_type": "code",
   "execution_count": 70,
   "metadata": {},
   "outputs": [],
   "source": [
    "def f8():\n",
    "    s = 0\n",
    "    current_number = 1\n",
    "    while s<=1000000:\n",
    "        if is_prime(current_number):\n",
    "            s += current_number\n",
    "            \n",
    "        current_number += 2\n",
    "        \n",
    "    return current_number"
   ]
  },
  {
   "cell_type": "code",
   "execution_count": 71,
   "metadata": {},
   "outputs": [
    {
     "data": {
      "text/plain": [
       "3945"
      ]
     },
     "execution_count": 71,
     "metadata": {},
     "output_type": "execute_result"
    }
   ],
   "source": [
    "f8()"
   ]
  },
  {
   "cell_type": "markdown",
   "metadata": {},
   "source": [
    "## Άσκηση 9\n",
    "Δίνεται πως να φτιάξετε μία λίστα με 1000 τυχαίους αιρθμούς από το 0.0 μέχρι το 1.0:\n",
    "\n",
    "```python\n",
    "import random\n",
    "l = [random.random() for x in range(1000)]\n",
    "```\n",
    "\n",
    "Ποιος είναι ο δεύτερος μεγαλύτερος αριθμός της λίστας; Μη χρησιμοποιήσετε ```sort``` ή ```max```. Πρέπει να χρησιμοποιήσετε ένα και μόνο 1 ```for```. Επίσης αν οι 2 (ή παραπάνω) μεγαλύτεροι αριθμοί είναι ίσοι θα πρέπει να επιστρέφει έναν από αυτούς. Δηλαδή ο δεύτερος μεγαλύτερος αριθμός της λίστας: ```[3,6,5,6]``` είναι το 6 και όχι το 5.\n"
   ]
  },
  {
   "cell_type": "code",
   "execution_count": 72,
   "metadata": {},
   "outputs": [],
   "source": [
    "def f9(my_list):\n",
    "    \n",
    "    first_max = my_list[0]\n",
    "    second_max = my_list[0]\n",
    "    \n",
    "    for x in my_list:\n",
    "        if x >= first_max:\n",
    "            second_max = first_max\n",
    "            first_max = x\n",
    "            continue\n",
    "        if x >= second_max:\n",
    "            second_max = x\n",
    "            \n",
    "            \n",
    "    return second_max"
   ]
  },
  {
   "cell_type": "code",
   "execution_count": 73,
   "metadata": {},
   "outputs": [],
   "source": [
    "import random\n",
    "l = [random.random() for x in range(1000)]"
   ]
  },
  {
   "cell_type": "code",
   "execution_count": 74,
   "metadata": {},
   "outputs": [
    {
     "data": {
      "text/plain": [
       "0.9972017606218616"
      ]
     },
     "execution_count": 74,
     "metadata": {},
     "output_type": "execute_result"
    }
   ],
   "source": [
    "f9(l)"
   ]
  },
  {
   "cell_type": "code",
   "execution_count": 75,
   "metadata": {},
   "outputs": [
    {
     "data": {
      "text/plain": [
       "0.9979808298962436"
      ]
     },
     "execution_count": 75,
     "metadata": {},
     "output_type": "execute_result"
    }
   ],
   "source": [
    "max(l)"
   ]
  },
  {
   "cell_type": "code",
   "execution_count": 76,
   "metadata": {},
   "outputs": [
    {
     "data": {
      "text/plain": [
       "6"
      ]
     },
     "execution_count": 76,
     "metadata": {},
     "output_type": "execute_result"
    }
   ],
   "source": [
    "f9([3,6,5,6])"
   ]
  },
  {
   "cell_type": "markdown",
   "metadata": {},
   "source": [
    "## Άσκηση 10\n",
    "\n",
    "Δίνεται το παρακάτω string:\n",
    "\n",
    "```python\n",
    "a = '''\n",
    "#CHROM  POS     ID      REF     ALT     QUAL\n",
    "chr19   617614  .       G       A       39.2648\n",
    "chr19   617804  .       G       A       0.309945\n",
    "chr19   617959  .       A       C       0.0608339\n",
    "chr19   618159  .       A       G       193.704\n",
    "chr19   618428  .       T       G       1.87498E-5\n",
    "chr19   618851  .       T       C       74.4613\n",
    "chr19   618854  .       G       A       74.4613\n",
    "chr19   618911  .       T       G       2.88308E-4\n",
    "chr19   619021  .       G       C       352.245\n",
    "chr19   619139  .       G       A       137.482\n",
    "chr19   619408  .       A       G       207.722\n",
    "chr19   619574  .       T       G       594.095\n",
    "chr19   619772  .       G       C       612.352\n",
    "chr19   619913  .       T       C       276.649\n",
    "chr19   620004  .       T       C       0.00524165\n",
    "chr19   620045  .       A       T       15.5734\n",
    "chr19   620201  .       A       C       5.61107E-5\n",
    "chr19   620210  .       A       C       1.63995E-5\n",
    "chr19   620214  .       T       C       3.42253E-5\n",
    "chr19   620228  .       A       C       8.62681E-4\n",
    "chr19   620299  .       C       A       6.06919\n",
    "chr19   620315  .       A       C       3.3417E-4\n",
    "chr19   620381  .       T       G       5.01393E-4\n",
    "chr19   620414  .       A       C       6.37073E-6\n",
    "chr19   620429  .       T       C       2.46975E-5\n",
    "chr19   620454  .       A       C       4.25049E-5\n",
    "chr19   620459  .       T       C       4.96425E-5\n",
    "chr19   620728  .       A       G       0.0198511\n",
    "chr19   620807  .       G       A       41.4442 \n",
    "'''\n",
    "\n",
    "```\n",
    "\n",
    "Όπως βλέπετε περιέχει πληροφορίες για διάφορες θέσεις στο χρωμόσωμα 19.\n",
    "\n",
    "Πόσες γραμμές περιέχει;\n"
   ]
  },
  {
   "cell_type": "code",
   "execution_count": 77,
   "metadata": {},
   "outputs": [],
   "source": [
    "def f10(s):\n",
    "    return s.strip().count('\\n')"
   ]
  },
  {
   "cell_type": "code",
   "execution_count": 78,
   "metadata": {},
   "outputs": [
    {
     "data": {
      "text/plain": [
       "29"
      ]
     },
     "execution_count": 78,
     "metadata": {},
     "output_type": "execute_result"
    }
   ],
   "source": [
    "a = '''\n",
    "#CHROM  POS     ID      REF     ALT     QUAL\n",
    "chr19   617614  .       G       A       39.2648\n",
    "chr19   617804  .       G       A       0.309945\n",
    "chr19   617959  .       A       C       0.0608339\n",
    "chr19   618159  .       A       G       193.704\n",
    "chr19   618428  .       T       G       1.87498E-5\n",
    "chr19   618851  .       T       C       74.4613\n",
    "chr19   618854  .       G       A       74.4613\n",
    "chr19   618911  .       T       G       2.88308E-4\n",
    "chr19   619021  .       G       C       352.245\n",
    "chr19   619139  .       G       A       137.482\n",
    "chr19   619408  .       A       G       207.722\n",
    "chr19   619574  .       T       G       594.095\n",
    "chr19   619772  .       G       C       612.352\n",
    "chr19   619913  .       T       C       276.649\n",
    "chr19   620004  .       T       C       0.00524165\n",
    "chr19   620045  .       A       T       15.5734\n",
    "chr19   620201  .       A       C       5.61107E-5\n",
    "chr19   620210  .       A       C       1.63995E-5\n",
    "chr19   620214  .       T       C       3.42253E-5\n",
    "chr19   620228  .       A       C       8.62681E-4\n",
    "chr19   620299  .       C       A       6.06919\n",
    "chr19   620315  .       A       C       3.3417E-4\n",
    "chr19   620381  .       T       G       5.01393E-4\n",
    "chr19   620414  .       A       C       6.37073E-6\n",
    "chr19   620429  .       T       C       2.46975E-5\n",
    "chr19   620454  .       A       C       4.25049E-5\n",
    "chr19   620459  .       T       C       4.96425E-5\n",
    "chr19   620728  .       A       G       0.0198511\n",
    "chr19   620807  .       G       A       41.4442 \n",
    "'''\n",
    "\n",
    "\n",
    "f10(a)"
   ]
  },
  {
   "cell_type": "markdown",
   "metadata": {},
   "source": [
    "## Άσκηση 11\n",
    "Έστω το string της άσκηση 10. Φτιάξτε ένα dictionary του οποίου το key να είναι το POS και το value να είναι το QUAL. Δηλαδή:\n",
    "\n",
    "```python\n",
    "q = {\n",
    "  617614 : 39.2648,\n",
    "  617804 : 0.309945,\n",
    "  ...\n",
    "}\n",
    "```\n",
    "\n",
    "* hint 1: Έστω το string: \n",
    "```python\n",
    "a = ''' \n",
    "mitsos 452\n",
    "kwstas 999\n",
    "'''\n",
    "```\n",
    "\n",
    "Τότε:\n",
    "```python\n",
    "b = a.split('\\n')\n",
    "print (b)\n",
    "```\n",
    "```text\n",
    "[' ', 'mitsos 452', 'kwstas 999', '']\n",
    "```\n",
    "\n",
    "* hint 2: Έστω η λίστα: \n",
    "```python\n",
    "b = [' ', 'mitsos 452', 'kwstas 999', '']\n",
    "```\n",
    "Τότε:\n",
    "```python\n",
    "c = [x.strip() for x in b]\n",
    "print (c)\n",
    "```\n",
    "```text\n",
    "['', 'mitsos 452', 'kwstas 999', '']\n",
    "```\n",
    "\n",
    "* hint 3. Έστω η λίστα:\n",
    "```python\n",
    "c = ['', 'mitsos 452', 'kwstas 999', '']\n",
    "```\n",
    "Τότε:\n",
    "```python\n",
    "d = [x for x in c if x] # Θυμηθείτε ότι το '' είναι False\n",
    "print (d)\n",
    "```\n",
    "```text\n",
    "['mitsos 452', 'kwstas 999']\n",
    "```\n",
    "\n",
    "* Hint 4. Έστω η λίστα:\n",
    "```python\n",
    "d = ['mitsos 452', 'kwstas 999']\n",
    "```\n",
    "Τότε:\n",
    "```python\n",
    "e = [x.split() for x in d]\n",
    "print (e)\n",
    "```\n",
    "```text\n",
    "[['mitsos', '452'], ['kwstas', '999']]\n",
    "```\n",
    "\n",
    "* Hint 5. Έστω η λίστα:\n",
    "```python\n",
    "e = [['mitsos', '452'], ['kwstas', '999']]\n",
    "```\n",
    "Τότε:\n",
    "```python\n",
    "f = {x[0] : int(x[1]) for x in e}\n",
    "print (f)\n",
    "```\n",
    "```text\n",
    "{'mitsos': 452, 'kwstas': 999}\n",
    "```\n",
    "* Hint 6. (Όλο μαζί). Έστω το string:\n",
    "```python\n",
    "a = ''' \n",
    "mitsos 452\n",
    "kwstas 999\n",
    "'''\n",
    "```\n",
    "Τότε:\n",
    "```python\n",
    "b = {y[0]:int(y[1]) for y in [x.split() for x in a.split('\\n') if x.strip()]}\n",
    "print (b)\n",
    "```\n",
    "```text\n",
    "{'mitsos': 452, 'kwstas': 999}\n",
    "```"
   ]
  },
  {
   "cell_type": "code",
   "execution_count": 79,
   "metadata": {},
   "outputs": [],
   "source": [
    "def f11(s):\n",
    "    splitted = [x.split() for x in s.strip().split('\\n')[1:]]\n",
    "    return {int(x[1]) : float(x[5]) for x in splitted}"
   ]
  },
  {
   "cell_type": "code",
   "execution_count": 80,
   "metadata": {},
   "outputs": [
    {
     "data": {
      "text/plain": [
       "{617614: 39.2648,\n",
       " 617804: 0.309945,\n",
       " 617959: 0.0608339,\n",
       " 618159: 193.704,\n",
       " 618428: 1.87498e-05,\n",
       " 618851: 74.4613,\n",
       " 618854: 74.4613,\n",
       " 618911: 0.000288308,\n",
       " 619021: 352.245,\n",
       " 619139: 137.482,\n",
       " 619408: 207.722,\n",
       " 619574: 594.095,\n",
       " 619772: 612.352,\n",
       " 619913: 276.649,\n",
       " 620004: 0.00524165,\n",
       " 620045: 15.5734,\n",
       " 620201: 5.61107e-05,\n",
       " 620210: 1.63995e-05,\n",
       " 620214: 3.42253e-05,\n",
       " 620228: 0.000862681,\n",
       " 620299: 6.06919,\n",
       " 620315: 0.00033417,\n",
       " 620381: 0.000501393,\n",
       " 620414: 6.37073e-06,\n",
       " 620429: 2.46975e-05,\n",
       " 620454: 4.25049e-05,\n",
       " 620459: 4.96425e-05,\n",
       " 620728: 0.0198511,\n",
       " 620807: 41.4442}"
      ]
     },
     "execution_count": 80,
     "metadata": {},
     "output_type": "execute_result"
    }
   ],
   "source": [
    "f11(a)"
   ]
  },
  {
   "cell_type": "markdown",
   "metadata": {},
   "source": [
    "## Άσκηση 12\n",
    "Έστω το string της άσκηση 10. Φτιάχτε ένα dictionay όπου το key θα είναι το POS και το value θα είναι ένα dictionary που θα περιέχει τα REF και ALT. Δηλαδή:\n",
    "\n",
    "```python\n",
    "q = {\n",
    "  617614 : {'REF': 'G', 'ALT': 'A'},\n",
    "  617804 : {'REF': 'G', 'ALT': 'A'},\n",
    "  617959 : {'REF': 'A', 'ALT': 'C'},\n",
    "  ...\n",
    "}\n",
    "```"
   ]
  },
  {
   "cell_type": "code",
   "execution_count": 81,
   "metadata": {},
   "outputs": [],
   "source": [
    "def f12(s):\n",
    "    splitted = [x.split() for x in s.strip().split('\\n')[1:]]\n",
    "    return {int(x[1]): {'REF': x[3], 'ALT': x[4]} for x in splitted}\n",
    "    "
   ]
  },
  {
   "cell_type": "code",
   "execution_count": 82,
   "metadata": {},
   "outputs": [
    {
     "data": {
      "text/plain": [
       "{617614: {'REF': 'G', 'ALT': 'A'},\n",
       " 617804: {'REF': 'G', 'ALT': 'A'},\n",
       " 617959: {'REF': 'A', 'ALT': 'C'},\n",
       " 618159: {'REF': 'A', 'ALT': 'G'},\n",
       " 618428: {'REF': 'T', 'ALT': 'G'},\n",
       " 618851: {'REF': 'T', 'ALT': 'C'},\n",
       " 618854: {'REF': 'G', 'ALT': 'A'},\n",
       " 618911: {'REF': 'T', 'ALT': 'G'},\n",
       " 619021: {'REF': 'G', 'ALT': 'C'},\n",
       " 619139: {'REF': 'G', 'ALT': 'A'},\n",
       " 619408: {'REF': 'A', 'ALT': 'G'},\n",
       " 619574: {'REF': 'T', 'ALT': 'G'},\n",
       " 619772: {'REF': 'G', 'ALT': 'C'},\n",
       " 619913: {'REF': 'T', 'ALT': 'C'},\n",
       " 620004: {'REF': 'T', 'ALT': 'C'},\n",
       " 620045: {'REF': 'A', 'ALT': 'T'},\n",
       " 620201: {'REF': 'A', 'ALT': 'C'},\n",
       " 620210: {'REF': 'A', 'ALT': 'C'},\n",
       " 620214: {'REF': 'T', 'ALT': 'C'},\n",
       " 620228: {'REF': 'A', 'ALT': 'C'},\n",
       " 620299: {'REF': 'C', 'ALT': 'A'},\n",
       " 620315: {'REF': 'A', 'ALT': 'C'},\n",
       " 620381: {'REF': 'T', 'ALT': 'G'},\n",
       " 620414: {'REF': 'A', 'ALT': 'C'},\n",
       " 620429: {'REF': 'T', 'ALT': 'C'},\n",
       " 620454: {'REF': 'A', 'ALT': 'C'},\n",
       " 620459: {'REF': 'T', 'ALT': 'C'},\n",
       " 620728: {'REF': 'A', 'ALT': 'G'},\n",
       " 620807: {'REF': 'G', 'ALT': 'A'}}"
      ]
     },
     "execution_count": 82,
     "metadata": {},
     "output_type": "execute_result"
    }
   ],
   "source": [
    "f12(a)"
   ]
  },
  {
   "cell_type": "markdown",
   "metadata": {},
   "source": [
    "## Άσκηση 13\n",
    "Έστω το dictionary της άσκησης 12. Πόσες φορές βλέπουμε να έχουμε 'REF' = G και 'ALT' = A ;"
   ]
  },
  {
   "cell_type": "code",
   "execution_count": 83,
   "metadata": {},
   "outputs": [],
   "source": [
    "def f13(s):\n",
    "    d = f12(s)\n",
    "    return sum([x=={'REF':'G', 'ALT': 'A'} for x in d.values()])"
   ]
  },
  {
   "cell_type": "code",
   "execution_count": 84,
   "metadata": {},
   "outputs": [
    {
     "data": {
      "text/plain": [
       "5"
      ]
     },
     "execution_count": 84,
     "metadata": {},
     "output_type": "execute_result"
    }
   ],
   "source": [
    "f13(a)"
   ]
  },
  {
   "cell_type": "markdown",
   "metadata": {},
   "source": [
    "## Άσκηση 14\n",
    "Έστω το dictionary της άσκησης 12. Πόσες φορές εμφανίζονται όλοι οι διαφορετικoί συνδοιασμοί για REF = 'A', 'C', 'G', 'T' και ALT = 'A', 'C', 'G', 'T' (όπου το REF είναι διαφορετικό από το ALT); Δηλαδή φτιάξτε ένα dictionary όπως αυτό:\n",
    "\n",
    "```python\n",
    "d = {\n",
    " ('A', 'C') : 4,\n",
    " ('A', 'G') : 2,\n",
    " ('A', 'T') : 0,\n",
    " ('C', 'A') : 1,\n",
    " ('C', 'G') : 2,\n",
    " ('C', 'T') : 3, \n",
    " ...\n",
    "}\n",
    "```\n",
    "\n",
    "* Το πρώτο value του key είναι το REF και το δεύτερο το ALT\n",
    "* Τα νούμερα που έχω βάλει εδώ είναι τυχαία.\n"
   ]
  },
  {
   "cell_type": "code",
   "execution_count": 85,
   "metadata": {},
   "outputs": [],
   "source": [
    "# 1os tropos\n",
    "def f14_1(s):\n",
    "    ref_alt_dict = f12(s)\n",
    "    result = {}\n",
    "    for ref in ['A', 'C', 'G', 'T']:\n",
    "        for alt in ['A', 'C', 'G', 'T']:\n",
    "            if ref==alt:\n",
    "                continue\n",
    "                \n",
    "            key = (ref,alt)\n",
    "            result[key] = sum([x['REF']==ref and x['ALT']==alt for x in ref_alt_dict.values()])\n",
    "            \n",
    "    return result"
   ]
  },
  {
   "cell_type": "code",
   "execution_count": 86,
   "metadata": {},
   "outputs": [
    {
     "data": {
      "text/plain": [
       "{('A', 'C'): 7,\n",
       " ('A', 'G'): 3,\n",
       " ('A', 'T'): 1,\n",
       " ('C', 'A'): 1,\n",
       " ('C', 'G'): 0,\n",
       " ('C', 'T'): 0,\n",
       " ('G', 'A'): 5,\n",
       " ('G', 'C'): 2,\n",
       " ('G', 'T'): 0,\n",
       " ('T', 'A'): 0,\n",
       " ('T', 'C'): 6,\n",
       " ('T', 'G'): 4}"
      ]
     },
     "execution_count": 86,
     "metadata": {},
     "output_type": "execute_result"
    }
   ],
   "source": [
    "f14_1(a)"
   ]
  },
  {
   "cell_type": "code",
   "execution_count": 87,
   "metadata": {},
   "outputs": [],
   "source": [
    "# 2os tropos. WARNING! UNREADABLE!\n",
    "def f14_2(s):\n",
    "    ref_alt_dict = f12(s)\n",
    "\n",
    "    return {(ref,alt): sum([x['REF']==ref and x['ALT']==alt for x in ref_alt_dict.values()]) for ref in ['A', 'C', 'G', 'T'] for alt in ['A', 'C', 'G', 'T'] if ref!=alt}\n"
   ]
  },
  {
   "cell_type": "code",
   "execution_count": 88,
   "metadata": {},
   "outputs": [
    {
     "data": {
      "text/plain": [
       "{('A', 'C'): 7,\n",
       " ('A', 'G'): 3,\n",
       " ('A', 'T'): 1,\n",
       " ('C', 'A'): 1,\n",
       " ('C', 'G'): 0,\n",
       " ('C', 'T'): 0,\n",
       " ('G', 'A'): 5,\n",
       " ('G', 'C'): 2,\n",
       " ('G', 'T'): 0,\n",
       " ('T', 'A'): 0,\n",
       " ('T', 'C'): 6,\n",
       " ('T', 'G'): 4}"
      ]
     },
     "execution_count": 88,
     "metadata": {},
     "output_type": "execute_result"
    }
   ],
   "source": [
    "f14_2(a)"
   ]
  },
  {
   "cell_type": "code",
   "execution_count": 89,
   "metadata": {},
   "outputs": [],
   "source": [
    "# 3os tropos. DEN EPISTREFEI OMWS OSA EXOUN 0 counts\n",
    "\n",
    "from collections import Counter\n",
    "\n",
    "def f14_3(s):\n",
    "    ref_alt_dict = f12(s)\n",
    "\n",
    "    return Counter([(v['REF'], v['ALT']) for v in ref_alt_dict.values()])"
   ]
  },
  {
   "cell_type": "code",
   "execution_count": 90,
   "metadata": {},
   "outputs": [
    {
     "data": {
      "text/plain": [
       "Counter({('G', 'A'): 5,\n",
       "         ('A', 'C'): 7,\n",
       "         ('A', 'G'): 3,\n",
       "         ('T', 'G'): 4,\n",
       "         ('T', 'C'): 6,\n",
       "         ('G', 'C'): 2,\n",
       "         ('A', 'T'): 1,\n",
       "         ('C', 'A'): 1})"
      ]
     },
     "execution_count": 90,
     "metadata": {},
     "output_type": "execute_result"
    }
   ],
   "source": [
    "f14_3(a)"
   ]
  },
  {
   "cell_type": "markdown",
   "metadata": {},
   "source": [
    "## Άσκηση 15\n",
    "Φτιάξτε το ίδιο dictionary με αυτό της άσκησης 12 αλλά τα keys είναι οι 4 διαφορετικές τιμές για το REF και τα values θα πρέπει να είναι και αυτά dictionaries όπου τα keys του θα είναι οι 4 διαφορετικές τιμές του ALT και τα values θα είναι τα counts. Δηλαδή:\n",
    "\n",
    "```python\n",
    "d = {\n",
    "'A' : {'C': 4, 'G': 2, 'T': 0},\n",
    "'C' : {'A': 1, 'G': 2, 'T': 3}, \n",
    "...\n",
    "}\n",
    "```\n",
    "\n",
    "Δηλαδή το REF=A και το ALT=C εμφανίζεται 4 φορές. Το REF=A και το ALT=G εμφανίζεται 2 φορές, κτλ..\n",
    "* Hint 1\n",
    "```python\n",
    "a = {}\n",
    "if a:\n",
    "   print ('Not Empty')\n",
    "else:\n",
    "   print ('Empty')\n",
    "```\n",
    "```python\n",
    "Empty\n",
    "```\n",
    "* Hint 2\n",
    "```python\n",
    "a = {'A': {'C': 5}}\n",
    "a['A']['T'] = 7\n",
    "print (a)\n",
    "```\n",
    "```python\n",
    "{'A': {'C': 5, 'T': 7}}\n",
    "```\n"
   ]
  },
  {
   "cell_type": "code",
   "execution_count": 91,
   "metadata": {},
   "outputs": [],
   "source": [
    "def f15(s):\n",
    "    ref_alt_dict = f12(s)\n",
    "    \n",
    "    result = {}\n",
    "    for v in ref_alt_dict.values():\n",
    "        ref = v['REF']\n",
    "        alt = v['ALT']\n",
    "        \n",
    "        if not ref in result:\n",
    "            result[ref] = {}\n",
    "            \n",
    "        if not alt in result[ref]:\n",
    "            result[ref][alt] = 0\n",
    "        \n",
    "        result[ref][alt] += 1\n",
    "        \n",
    "    return result\n",
    "\n",
    "\n",
    "            "
   ]
  },
  {
   "cell_type": "code",
   "execution_count": 92,
   "metadata": {},
   "outputs": [
    {
     "data": {
      "text/plain": [
       "{'G': {'A': 5, 'C': 2},\n",
       " 'A': {'C': 7, 'G': 3, 'T': 1},\n",
       " 'T': {'G': 4, 'C': 6},\n",
       " 'C': {'A': 1}}"
      ]
     },
     "execution_count": 92,
     "metadata": {},
     "output_type": "execute_result"
    }
   ],
   "source": [
    "f15(a)"
   ]
  },
  {
   "cell_type": "markdown",
   "metadata": {},
   "source": [
    "## Άσκηση 16\n",
    "Έστω το string της άσκησης 10, ποια μεταλλαγή (δηλαδή ζευγάρι REF,ALT) εμφανίζεται τις περισσότερες φορές;"
   ]
  },
  {
   "cell_type": "code",
   "execution_count": 93,
   "metadata": {},
   "outputs": [],
   "source": [
    "def f16(s):\n",
    "    ref_alt_counts = f14_1(s)\n",
    "    return max([(v,k) for k,v in ref_alt_counts.items()])"
   ]
  },
  {
   "cell_type": "code",
   "execution_count": 94,
   "metadata": {},
   "outputs": [
    {
     "data": {
      "text/plain": [
       "(7, ('A', 'C'))"
      ]
     },
     "execution_count": 94,
     "metadata": {},
     "output_type": "execute_result"
    }
   ],
   "source": [
    "f16(a)"
   ]
  },
  {
   "cell_type": "markdown",
   "metadata": {},
   "source": [
    "## Άσκηση 17\n",
    "Έστω το string της άσκησης 10. Κάντε sort των ζευγαριών REF,ALT με βάση το πόσες φορές εμφανίζονται (sort επιτρέπεται εννοείται) "
   ]
  },
  {
   "cell_type": "code",
   "execution_count": 95,
   "metadata": {},
   "outputs": [],
   "source": [
    "def f17(s):\n",
    "    \n",
    "    ref_alt_counts = f14_1(s)\n",
    "    return sorted(ref_alt_counts.items(), key=lambda x:x[1])"
   ]
  },
  {
   "cell_type": "code",
   "execution_count": 96,
   "metadata": {},
   "outputs": [
    {
     "data": {
      "text/plain": [
       "[(('C', 'G'), 0),\n",
       " (('C', 'T'), 0),\n",
       " (('G', 'T'), 0),\n",
       " (('T', 'A'), 0),\n",
       " (('A', 'T'), 1),\n",
       " (('C', 'A'), 1),\n",
       " (('G', 'C'), 2),\n",
       " (('A', 'G'), 3),\n",
       " (('T', 'G'), 4),\n",
       " (('G', 'A'), 5),\n",
       " (('T', 'C'), 6),\n",
       " (('A', 'C'), 7)]"
      ]
     },
     "execution_count": 96,
     "metadata": {},
     "output_type": "execute_result"
    }
   ],
   "source": [
    "f17(a)"
   ]
  },
  {
   "cell_type": "markdown",
   "metadata": {},
   "source": [
    "## Άσκηση 18\n",
    "Έστω το string της άσκησης 10. Σε ποια θέση (POS) έχουμε το μεγαλύτερο QUAL;\n"
   ]
  },
  {
   "cell_type": "code",
   "execution_count": 97,
   "metadata": {},
   "outputs": [],
   "source": [
    "def f18(s):\n",
    "    qual_dict = f11(s)\n",
    "    return max([(v,k) for k,v in qual_dict.items()])"
   ]
  },
  {
   "cell_type": "code",
   "execution_count": 98,
   "metadata": {},
   "outputs": [
    {
     "data": {
      "text/plain": [
       "(612.352, 619772)"
      ]
     },
     "execution_count": 98,
     "metadata": {},
     "output_type": "execute_result"
    }
   ],
   "source": [
    "f18(a)"
   ]
  },
  {
   "cell_type": "markdown",
   "metadata": {},
   "source": [
    "# Άσκηση 19 \n",
    "Έστω το string της άσκησης 10. Κάντε sort το POS ανάλογα με το QUAL. Η λίστα πρέπει να ξεκινάει από το μεγαλύτερο QUAL και να καταλήγει στο μικρότερο QUAL."
   ]
  },
  {
   "cell_type": "code",
   "execution_count": 99,
   "metadata": {},
   "outputs": [],
   "source": [
    "def f19(s):\n",
    "    qual_dict = f11(s)\n",
    "    return sorted(qual_dict.items(), key=lambda x:x[1], reverse=True)"
   ]
  },
  {
   "cell_type": "code",
   "execution_count": 100,
   "metadata": {},
   "outputs": [
    {
     "data": {
      "text/plain": [
       "[(619772, 612.352),\n",
       " (619574, 594.095),\n",
       " (619021, 352.245),\n",
       " (619913, 276.649),\n",
       " (619408, 207.722),\n",
       " (618159, 193.704),\n",
       " (619139, 137.482),\n",
       " (618851, 74.4613),\n",
       " (618854, 74.4613),\n",
       " (620807, 41.4442),\n",
       " (617614, 39.2648),\n",
       " (620045, 15.5734),\n",
       " (620299, 6.06919),\n",
       " (617804, 0.309945),\n",
       " (617959, 0.0608339),\n",
       " (620728, 0.0198511),\n",
       " (620004, 0.00524165),\n",
       " (620228, 0.000862681),\n",
       " (620381, 0.000501393),\n",
       " (620315, 0.00033417),\n",
       " (618911, 0.000288308),\n",
       " (620201, 5.61107e-05),\n",
       " (620459, 4.96425e-05),\n",
       " (620454, 4.25049e-05),\n",
       " (620214, 3.42253e-05),\n",
       " (620429, 2.46975e-05),\n",
       " (618428, 1.87498e-05),\n",
       " (620210, 1.63995e-05),\n",
       " (620414, 6.37073e-06)]"
      ]
     },
     "execution_count": 100,
     "metadata": {},
     "output_type": "execute_result"
    }
   ],
   "source": [
    "f19(a)"
   ]
  },
  {
   "cell_type": "markdown",
   "metadata": {},
   "source": [
    "## Άσκηση 20\n",
    "Έστω το string της άσκησης 10. Ποιο ζευγάρι από entries, έχει τη μικρότερη απόσταση μεταξύ τους; Απόσταση ορίζεται ως το απόλυτο της  διαφοράς του POS. "
   ]
  },
  {
   "cell_type": "code",
   "execution_count": 101,
   "metadata": {},
   "outputs": [
    {
     "name": "stdout",
     "output_type": "stream",
     "text": [
      "2 Closer entries (dist=3):\n",
      "chr19   618851  .       T       C       74.4613\n",
      "chr19   618854  .       G       A       74.4613\n"
     ]
    }
   ],
   "source": [
    "\n",
    "# 1os tropos\n",
    "def f20_1(s):\n",
    "    \n",
    "    entries = s.strip().split('\\n')[1:]\n",
    "    splitted = [x.split() for x in entries]\n",
    "    positions = [int(x[1]) for x in splitted]\n",
    "\n",
    "    def distance(i,j):\n",
    "        return abs(positions[i]-positions[j])\n",
    "    \n",
    "    #Get the closer positions\n",
    "\n",
    "    all_positions = []\n",
    "    for i in range(len(positions)):\n",
    "        for j in range(i+1, len(positions)):\n",
    "            all_positions.append((distance(i,j), (i,j)))\n",
    "    \n",
    "    closer = min(all_positions)\n",
    "    print ('2 Closer entries (dist={}):'.format(closer[0]))\n",
    "    print (entries[closer[1][0]])\n",
    "    print (entries[closer[1][1]])\n",
    "    \n",
    "f20_1(a)"
   ]
  },
  {
   "cell_type": "code",
   "execution_count": 102,
   "metadata": {},
   "outputs": [
    {
     "name": "stdout",
     "output_type": "stream",
     "text": [
      "2 Closer entries (dist=3):\n",
      "chr19   618851  .       T       C       74.4613\n",
      "chr19   618854  .       G       A       74.4613\n"
     ]
    }
   ],
   "source": [
    "# 2os tropos\n",
    "\n",
    "from itertools import combinations\n",
    "\n",
    "def f20_2(s):\n",
    "    \n",
    "    entries = s.strip().split('\\n')[1:]\n",
    "    splitted = [x.split() for x in entries]\n",
    "    positions = [int(x[1]) for x in splitted]\n",
    "\n",
    "    def distance(i,j):\n",
    "        return abs(positions[i]-positions[j])\n",
    "    \n",
    "    #Get the closer positions\n",
    "    closer = min((distance(i,j), (i,j)) for i,j in combinations(range(len(entries)), 2))\n",
    "\n",
    "    print ('2 Closer entries (dist={}):'.format(closer[0]))\n",
    "    print (entries[closer[1][0]])\n",
    "    print (entries[closer[1][1]])\n",
    "    \n",
    "f20_2(a)"
   ]
  },
  {
   "cell_type": "markdown",
   "metadata": {},
   "source": [
    "# Λύσεις ασκήσεων σειρά 3, 2018"
   ]
  },
  {
   "cell_type": "markdown",
   "metadata": {},
   "source": [
    "Σε αυτό το link: http://people.csail.mit.edu/jasonkb/raw_lexica/greek.raw βρίσκεται μία λίστα με όλες (σχεδόν) τις Eλληνικές λέξεις. Πηγαίνετε σε αυτό το link, περιμένετε να το φορτώσει o browser σας και μετά σώστε το με File --> Save as.. στο αρχείο \"greek.raw\".\n",
    "\n",
    "Εναλλακτικά μπορείτε να τρέξετε από linux την παρακάτω εντολή:\n",
    "\n",
    "```\n",
    "wget http://people.csail.mit.edu/jasonkb/raw_lexica/greek.raw\n",
    "```\n",
    "\n",
    "αν δεν δουλέψει αυτό μπορείτε να κάνετε:\n",
    "\n",
    "```\n",
    "curl http://people.csail.mit.edu/jasonkb/raw_lexica/greek.raw > greek.raw\n",
    "```\n",
    "\n",
    "Οι παρακάτω ασκήσεις υποθέτουν ότι έχετε κάνει ένα από τα παραπάνω και το αρχείο greek.raw βρίσκεται στον υπολογιστή σας. Το αρχείο περιέχει μία ελληνική λέξη σε κάθε γραμμή."
   ]
  },
  {
   "cell_type": "code",
   "execution_count": 1,
   "metadata": {},
   "outputs": [
    {
     "name": "stdout",
     "output_type": "stream",
     "text": [
      "--2019-11-16 10:36:46--  http://people.csail.mit.edu/jasonkb/raw_lexica/greek.raw\n",
      "Resolving people.csail.mit.edu (people.csail.mit.edu)... 128.30.2.133\n",
      "Connecting to people.csail.mit.edu (people.csail.mit.edu)|128.30.2.133|:80... connected.\n",
      "HTTP request sent, awaiting response... 200 OK\n",
      "Length: 7829739 (7.5M)\n",
      "Saving to: 'greek.raw'\n",
      "\n",
      "greek.raw           100%[===================>]   7.47M   973KB/s    in 8.2s    \n",
      "\n",
      "2019-11-16 10:36:58 (931 KB/s) - 'greek.raw' saved [7829739/7829739]\n",
      "\n"
     ]
    }
   ],
   "source": [
    "!wget http://people.csail.mit.edu/jasonkb/raw_lexica/greek.raw"
   ]
  },
  {
   "cell_type": "markdown",
   "metadata": {},
   "source": [
    "### Άσκηση 1\n",
    "Πόσες γραμμές περιέχει το αρχείο;"
   ]
  },
  {
   "cell_type": "code",
   "execution_count": 15,
   "metadata": {},
   "outputs": [
    {
     "data": {
      "text/plain": [
       "359791"
      ]
     },
     "execution_count": 15,
     "metadata": {},
     "output_type": "execute_result"
    }
   ],
   "source": [
    "with open('greek.raw') as f:\n",
    "    lines = f.readlines()\n",
    "len(lines)"
   ]
  },
  {
   "cell_type": "markdown",
   "metadata": {},
   "source": [
    "### Άσκηση 2\n",
    "Ποια είναι η μεγαλύτερη λέξη;"
   ]
  },
  {
   "cell_type": "code",
   "execution_count": 4,
   "metadata": {},
   "outputs": [
    {
     "data": {
      "text/plain": [
       "'ΑΒΑΝΓΚΑΡΝΤΙΣΜΟΣ\\n'"
      ]
     },
     "execution_count": 4,
     "metadata": {},
     "output_type": "execute_result"
    }
   ],
   "source": [
    "max(lines, key=len)"
   ]
  },
  {
   "cell_type": "markdown",
   "metadata": {},
   "source": [
    "### Άσκηση 3\n",
    "Πόσες φορές υπάρχει το \"Π\" σε όλες τις λέξεις;"
   ]
  },
  {
   "cell_type": "code",
   "execution_count": 5,
   "metadata": {},
   "outputs": [
    {
     "data": {
      "text/plain": [
       "127374"
      ]
     },
     "execution_count": 5,
     "metadata": {},
     "output_type": "execute_result"
    }
   ],
   "source": [
    "sum(x.count('Π') for x in lines)"
   ]
  },
  {
   "cell_type": "markdown",
   "metadata": {},
   "source": [
    "### Άσκηση 4\n",
    "Ποιο είναι το γράμμα που εμφανίζεται τις δεύτερες λιγότερες φορές σε όλες τις ελληνικές λέξεις που τελειώνουν σε \"ΕΣ\";"
   ]
  },
  {
   "cell_type": "code",
   "execution_count": 19,
   "metadata": {},
   "outputs": [
    {
     "data": {
      "text/plain": [
       "('Ξ', 1242)"
      ]
     },
     "execution_count": 19,
     "metadata": {},
     "output_type": "execute_result"
    }
   ],
   "source": [
    "from collections import Counter\n",
    "\n",
    "# Remove '\\n'\n",
    "lines = [l.strip() for l in lines]\n",
    "\n",
    "# Μέτρα τα γράμματα όλων των λέξεων που τελειώνουν σε 'ΕΣ'\n",
    "c = Counter(letter for x in lines if x[-2:] == 'ΕΣ' for letter in x)\n",
    "\n",
    "# Ταξινόμησε με βάση το πλήθος τους\n",
    "s = sorted(c.items(), key=lambda x:x[1])\n",
    "\n",
    "# Τύπωσε το δεύτερο λιγότερο:\n",
    "s[1]"
   ]
  },
  {
   "cell_type": "markdown",
   "metadata": {},
   "source": [
    "### Άσκηση 5\n",
    "Φτιάξτε το αρχείο \"greek_len_sorted.txt\" το οποίο θα έχει όλες τις λέξεις ταξινομημένες ανάλογα με το μήκος τους (από τη μικρότερη στη μεγαλύτερη). Κάθε γραμμή του αρχείου θα περιέχει και μία λέξη."
   ]
  },
  {
   "cell_type": "code",
   "execution_count": 20,
   "metadata": {},
   "outputs": [],
   "source": [
    "s = sorted(lines, key=len)\n",
    "\n",
    "with open('greek_len_sorted.txt', 'w') as f:\n",
    "    f.write('\\n'.join(s) + '\\n')"
   ]
  },
  {
   "cell_type": "markdown",
   "metadata": {},
   "source": [
    "### Άσκηση 6\n",
    "Βρείτε πόσες λέξεις υπάρχουν με 1 γράμμα, με 2 γράμματα, κτλ.. Φτιάξτε ένα dictionary (keys=μήκος, values=πλήθος λέξεων που έχουν αυτό το μήκος)."
   ]
  },
  {
   "cell_type": "code",
   "execution_count": 22,
   "metadata": {},
   "outputs": [
    {
     "data": {
      "text/plain": [
       "Counter({3: 524,\n",
       "         6: 14579,\n",
       "         5: 6520,\n",
       "         7: 25024,\n",
       "         10: 51504,\n",
       "         11: 51398,\n",
       "         12: 45816,\n",
       "         13: 36177,\n",
       "         14: 25833,\n",
       "         8: 36755,\n",
       "         4: 2187,\n",
       "         15: 17141,\n",
       "         9: 46206,\n",
       "         2: 103,\n",
       "         1: 24})"
      ]
     },
     "execution_count": 22,
     "metadata": {},
     "output_type": "execute_result"
    }
   ],
   "source": [
    "from collections import Counter\n",
    "\n",
    "Counter(len(x) for x in lines)\n"
   ]
  },
  {
   "cell_type": "markdown",
   "metadata": {},
   "source": [
    "### Άσκηση 7\n",
    "Ποιο είναι το πιο συχνό μήκος των λέξεων (δηλαδή το key με μεγαλύτερο value από την Άσκηση 6)"
   ]
  },
  {
   "cell_type": "code",
   "execution_count": 25,
   "metadata": {},
   "outputs": [
    {
     "data": {
      "text/plain": [
       "10"
      ]
     },
     "execution_count": 25,
     "metadata": {},
     "output_type": "execute_result"
    }
   ],
   "source": [
    "c = Counter(len(x) for x in lines)\n",
    "\n",
    "max(c.items(), key=lambda x : x[1])[0]"
   ]
  },
  {
   "cell_type": "markdown",
   "metadata": {},
   "source": [
    "### Άσκηση 8\n",
    "Φτιάξτε έναν generator ο οποίος θα δέχεται σαν όρισμα μία λέξη και θα παράγει ελληνικές λέξεις που είναι αναγραμματισμός τους. Δίνοναι κάποια παραδείγματα χρήσης (έστω anag o ζητούμενος generator)\n",
    "\n",
    "```python\n",
    "list(anag('ΜΙΚΡΟ'))\n",
    "['ΚΟΡΜΙ', 'ΜΙΚΡΟ']\n",
    "\n",
    "list(anag('ΚΑΝΤΕΡΑΚΗΣ'))\n",
    "['ΑΡΚΕΣΤΗΚΑΝ']\n",
    "\n",
    "g = anag('ΜΙΚΡΟ')\n",
    "\n",
    "print (next(g)) # Τυπώνει 'ΚΟΡΜΙ΄\n",
    "```\n",
    "\n",
    "ΠΡΟΣΟΧΗ! ΜΗΝ παράξετε όλους τους δυνατούς ανασυνδυασμούς των γραμμάτων μίας λέξης. Δεν χρειάζεται πουθενά αυτό."
   ]
  },
  {
   "cell_type": "code",
   "execution_count": 32,
   "metadata": {},
   "outputs": [],
   "source": [
    "def anag(word):\n",
    "    w_s = sorted(word)\n",
    "    for l in lines:\n",
    "        l_s = sorted(l)\n",
    "        if w_s == l_s:\n",
    "            yield l"
   ]
  },
  {
   "cell_type": "code",
   "execution_count": 33,
   "metadata": {},
   "outputs": [],
   "source": [
    "g = anag('ΚΑΝΤΕΡΑΚΗΣ')"
   ]
  },
  {
   "cell_type": "code",
   "execution_count": 34,
   "metadata": {},
   "outputs": [
    {
     "data": {
      "text/plain": [
       "'ΑΡΚΕΣΤΗΚΑΝ'"
      ]
     },
     "execution_count": 34,
     "metadata": {},
     "output_type": "execute_result"
    }
   ],
   "source": [
    "next(g)"
   ]
  },
  {
   "cell_type": "markdown",
   "metadata": {},
   "source": [
    "### Άσκηση 9\n",
    "Υποθέτω ότι θα έχετε ακούσει για την [αριθμοσοφία](https://el.wiktionary.org/wiki/%CE%B1%CF%81%CE%B9%CE%B8%CE%BC%CE%BF%CF%83%CE%BF%CF%86%CE%AF%CE%B1). Σε κάθε γράμμα δίνεται μία αξία. Η αξία μίας λέξης είναι το άθροισμα της αξίας των γραμμάτων. Αφού μάσησα λίγο δυόσμο και επικαλέστηκα τη βοήθεια του Απόλλωνα, μου αποκαλύφθηκε αυτή η αντιστοίχιση σε μορφή python dictionary ([αν και υπάρχουν και στη wikipedia](https://en.wikipedia.org/wiki/Isopsephy))!\n",
    "\n",
    "```python\n",
    " {'Α': 1,\n",
    " 'Β': 2,\n",
    " 'Γ': 3,\n",
    " 'Δ': 4,\n",
    " 'Ε': 5,\n",
    " 'Ζ': 7,\n",
    " 'Η': 8,\n",
    " 'Θ': 9,\n",
    " 'Ι': 10,\n",
    " 'Κ': 20,\n",
    " 'Λ': 30,\n",
    " 'Μ': 40,\n",
    " 'Ν': 50,\n",
    " 'Ξ': 60,\n",
    " 'Ο': 70,\n",
    " 'Π': 80,\n",
    " 'Ρ': 100,\n",
    " 'Σ': 200,\n",
    " 'Τ': 300,\n",
    " 'Υ': 400,\n",
    " 'Φ': 500,\n",
    " 'Χ': 600,\n",
    " 'Ψ': 700,\n",
    " 'Ω': 800}\n",
    "```\n",
    "Φτιάξτε μία συνάρτηση που θα παίρνει μία ελληνική λέξη με κεφαλαία και θα επιστρέφει την \"αξία\" της. Π.χ \"ΚΡΗΤΗ\" = 20+100+8+300+8=436)\n"
   ]
  },
  {
   "cell_type": "code",
   "execution_count": 58,
   "metadata": {},
   "outputs": [],
   "source": [
    "values = {'Α': 1,\n",
    " 'Β': 2,\n",
    " 'Γ': 3,\n",
    " 'Δ': 4,\n",
    " 'Ε': 5,\n",
    " 'Ζ': 7,\n",
    " 'Η': 8,\n",
    " 'Θ': 9,\n",
    " 'Ι': 10,\n",
    " 'Κ': 20,\n",
    " 'Λ': 30,\n",
    " 'Μ': 40,\n",
    " 'Ν': 50,\n",
    " 'Ξ': 60,\n",
    " 'Ο': 70,\n",
    " 'Π': 80,\n",
    " 'Ρ': 100,\n",
    " 'Σ': 200,\n",
    " 'Τ': 300,\n",
    " 'Υ': 400,\n",
    " 'Φ': 500,\n",
    " 'Χ': 600,\n",
    " 'Ψ': 700,\n",
    " 'Ω': 800,\n",
    " ' ': 0,}\n",
    "\n",
    "def word_value(word):\n",
    "    return sum(values[x] for x in word)"
   ]
  },
  {
   "cell_type": "code",
   "execution_count": 37,
   "metadata": {},
   "outputs": [
    {
     "data": {
      "text/plain": [
       "436"
      ]
     },
     "execution_count": 37,
     "metadata": {},
     "output_type": "execute_result"
    }
   ],
   "source": [
    "word_value('ΚΡΗΤΗ')"
   ]
  },
  {
   "cell_type": "markdown",
   "metadata": {},
   "source": [
    "### Άσκηση 10\n",
    "Ποια είναι η λέξη με τη μεγαλύτερη \"αξία\";"
   ]
  },
  {
   "cell_type": "code",
   "execution_count": 39,
   "metadata": {},
   "outputs": [
    {
     "data": {
      "text/plain": [
       "'ΧΡΥΣΟΣΤΕΦΑΝΩΤΩΝ'"
      ]
     },
     "execution_count": 39,
     "metadata": {},
     "output_type": "execute_result"
    }
   ],
   "source": [
    "max(lines, key=word_value)"
   ]
  },
  {
   "cell_type": "markdown",
   "metadata": {},
   "source": [
    "### Άσκηση 11\n",
    "Φτιάξτε έναν generator ο οποίος θα παίρνει μία λέξη και θα κάνει generate λέξεις με την ίδια αξία. Αν υποθέσουμε ότι g είναι ο generator που έχετε φτιάξει τότε θα πρέπει:\n",
    "\n",
    "```python\n",
    "list(g('ΓΛΩΣΣΑΠΡΟΓΡΑΜΜΑΤΙΣΜΟΥ'))\n",
    "```\n",
    "\n",
    "Θα πρέπει να τυπώνει:\n",
    "\n",
    "```\n",
    "['ΕΝΣΤΙΚΤΩΔΩΣ',\n",
    " 'ΠΥΡΕΤΩΔΩΣ',\n",
    " 'ΣΥΝΩΣΤΙΣΘΟΥΝ',\n",
    " 'ΦΩΤΟΓΡΑΦΙΣΕΣ',\n",
    " 'ΨΙΛΟΧΩΜΑΤΙΖΟΜΑΙ',\n",
    " 'ΨΥΧΟΤΑΡΑΖΕΣΤΕ']\n",
    "```\n",
    "\n",
    "```\n",
    "g_comp_lang = g('ΓΛΩΣΣΑΠΡΟΓΡΑΜΜΑΤΙΣΜΟΥ')\n",
    "\n",
    "print (next(g_comp_lang)) # Τυπώνει 'ΕΝΣΤΙΚΤΩΔΩΣ'\n",
    "print (next(g_comp_lang)) # Τυπώνει 'ΠΥΡΕΤΩΔΩΣ'\n",
    "print (next(g_comp_lang)) # Τυπώνει 'ΣΥΝΩΣΤΙΣΘΟΥΝ'\n",
    "```"
   ]
  },
  {
   "cell_type": "code",
   "execution_count": 41,
   "metadata": {},
   "outputs": [],
   "source": [
    "def g(word):\n",
    "    value = word_value(word)\n",
    "    for l in lines:\n",
    "        if word_value(l) == value:\n",
    "            yield l"
   ]
  },
  {
   "cell_type": "code",
   "execution_count": 42,
   "metadata": {},
   "outputs": [
    {
     "data": {
      "text/plain": [
       "['ΕΝΣΤΙΚΤΩΔΩΣ',\n",
       " 'ΠΥΡΕΤΩΔΩΣ',\n",
       " 'ΣΥΝΩΣΤΙΣΘΟΥΝ',\n",
       " 'ΦΩΤΟΓΡΑΦΙΣΕΣ',\n",
       " 'ΨΙΛΟΧΩΜΑΤΙΖΟΜΑΙ',\n",
       " 'ΨΥΧΟΤΑΡΑΖΕΣΤΕ']"
      ]
     },
     "execution_count": 42,
     "metadata": {},
     "output_type": "execute_result"
    }
   ],
   "source": [
    "list(g('ΓΛΩΣΣΑΠΡΟΓΡΑΜΜΑΤΙΣΜΟΥ'))"
   ]
  },
  {
   "cell_type": "markdown",
   "metadata": {},
   "source": [
    "### Άσκηση 12\n",
    "Φτιάξτε ένα dictionary. Τα keys θα είναι αξίες και τα values θα είναι λίστα με τις λέξεις που έχουν αυτές τις αξίες."
   ]
  },
  {
   "cell_type": "code",
   "execution_count": 44,
   "metadata": {},
   "outputs": [],
   "source": [
    "# 1ος τρόπος \n",
    "d = {}\n",
    "for word in lines:\n",
    "    v = word_value(word)\n",
    "    if not v in d:\n",
    "        d[v] = []\n",
    "    d[v].append(word)"
   ]
  },
  {
   "cell_type": "code",
   "execution_count": 56,
   "metadata": {},
   "outputs": [],
   "source": [
    "# 2ος τρόπος \n",
    "from collections import defaultdict\n",
    "\n",
    "d = defaultdict(list)\n",
    "\n",
    "for word in lines:\n",
    "    d[word_value(word)].append(word)\n"
   ]
  },
  {
   "cell_type": "code",
   "execution_count": 48,
   "metadata": {},
   "outputs": [
    {
     "data": {
      "text/plain": [
       "['ΑΓΚΑΘΕΝΙΑ',\n",
       " 'ΑΔΕΙΟΙ',\n",
       " 'ΑΘΗΝΑΙΚΑ',\n",
       " 'ΑΛΓΕΙΝΑ',\n",
       " 'ΑΝΑΒΑΛΕΙ',\n",
       " 'ΑΝΑΚΑΘΙΖΑ',\n",
       " 'ΑΝΑΛΑΒΕΙ',\n",
       " 'ΑΝΗΛΙΑ',\n",
       " 'ΑΠΑΓΕΙ',\n",
       " 'ΒΕΒΑΙΟΙ',\n",
       " 'ΓΑΛΗΝΗ',\n",
       " 'ΓΑΜΑΝΕ',\n",
       " 'ΔΕΚΑΞΙ',\n",
       " 'ΔΙΚΕΛΛΑ',\n",
       " 'ΕΓΚΑΙΝΙΑ',\n",
       " 'ΕΙΠΕ',\n",
       " 'ΕΝΑΘΛΕ',\n",
       " 'ΕΠΑΘΕ',\n",
       " 'ΕΠΕΒΗ',\n",
       " 'ΗΛΙΚΙΑΚΑ',\n",
       " 'ΘΕΛΑΝΕ',\n",
       " 'ΘΕΜΕΛΙΑ',\n",
       " 'ΙΔΑΝΙΚΕ',\n",
       " 'ΚΑΗΚΑΝ',\n",
       " 'ΚΑΘΟ',\n",
       " 'ΚΑΛΑΜΗ',\n",
       " 'ΚΑΜΗΛΑ',\n",
       " 'ΚΛΗΘΗΚΕ',\n",
       " 'ΛΑΓΝΕΙΑ',\n",
       " 'ΛΑΖΑΝΙΑ',\n",
       " 'ΛΕΛΕΚΙ',\n",
       " 'ΜΑΛΑΚΗ',\n",
       " 'ΜΕΘΑΜΕ',\n",
       " 'ΜΕΝΕ',\n",
       " 'ΝΕΜΕ',\n",
       " 'ΟΔΗΓΕΙ',\n",
       " 'ΠΕΔΙΑ',\n",
       " 'ΠΕΖΗ',\n",
       " 'ΠΗΖΕ',\n",
       " 'Ρ']"
      ]
     },
     "execution_count": 48,
     "metadata": {},
     "output_type": "execute_result"
    }
   ],
   "source": [
    "d[100]"
   ]
  },
  {
   "cell_type": "markdown",
   "metadata": {},
   "source": [
    "### Άσκηση 13\n",
    "Σώστε το dictionary της άσκησης 12 σε ένα αρχείο \"greek_world_values.json\" κάνοντας χρήσης του json serialization."
   ]
  },
  {
   "cell_type": "code",
   "execution_count": 50,
   "metadata": {},
   "outputs": [],
   "source": [
    "import json\n",
    "with open('greek_world_values.json', 'w') as f:\n",
    "    json.dump(d, f)"
   ]
  },
  {
   "cell_type": "markdown",
   "metadata": {},
   "source": [
    "### Άσκηση 14\n",
    "Κάντε deserialize το αρχείο \"greek_world_values.json\" της άσκησης 13"
   ]
  },
  {
   "cell_type": "code",
   "execution_count": 51,
   "metadata": {},
   "outputs": [],
   "source": [
    "with open('greek_world_values.json') as f:\n",
    "    d = json.load(f)"
   ]
  },
  {
   "cell_type": "markdown",
   "metadata": {},
   "source": [
    "### Άσκηση 15\n",
    "Ποια είναι η πιο συχνή \"αξία\"; Δηλαδή ποια αξία έχει τις περισσότερες λέξεις;"
   ]
  },
  {
   "cell_type": "code",
   "execution_count": 57,
   "metadata": {},
   "outputs": [
    {
     "data": {
      "text/plain": [
       "1011"
      ]
     },
     "execution_count": 57,
     "metadata": {},
     "output_type": "execute_result"
    }
   ],
   "source": [
    "max(d.items(), key=lambda x:len(x[1]))[0]"
   ]
  },
  {
   "cell_type": "markdown",
   "metadata": {},
   "source": [
    "### Άσκηση 16 + 17\n",
    "Βρείτε συνδοιασμό δύο λέξεων που έχουν την ίδια αξία με το όνομα + επώνυμό σας. Θεωρήστε ότι το κενό έχει 0 αξία. Για παράδειγμα: η αξία του \"ΑΛΕΞΑΝΔΡΟΣ ΚΑΝΤΕΡΑΚΗΣ\" είναι 1226. Την ίδια αξία έχουν: \"ΔΙΑΥΓΗΣ ΒΟΙΔΟΜΥΓΑ\", \"ΠΡΟΗΓΜΕΝΟΣ ΓΛΕΝΤΖΕΣ\" και \"ΓΡΑΝΙΤΕΝΙΟ ΛΕΒΕΝΤΟΠΑΙΔΟ\". Ο σουρεαλισμός των αποτελεσμάτων θα εκτιμηθεί ιδιαίτερα. Δεν χρειάζετε να κάνετε κάποιον ειδικό αλγόριθμο για αυτή την άσκηση. Δηλαδή αν γράψετε απλά 2-3 ζευγάρια λέξεων που έχουν την ίδια αξία με το ονοματεπώνυμό σας, είναι αρκετό.\n",
    "\n",
    "Φτιάξτε έναν generator ο οποίος θα παίρνει το όνομα + επώνυμό σας και θα παράγει συνδυασμούς 2 λέξεων ακριβώς όπως στην άσκηση 16.\n",
    "\n",
    "* Hint 1: Μπορείτε να πάρετε την αξία του ονοματεπώνυμου, έστω Α, και να φτιάξετε δύο τυχαίους αριθμούς Β και Γ τέτοιους ώστε Β+Γ=Α. Στη συνέχεια παίρνετε μία τυχαία λέξη με αξία Β και μία τυχαία λέξη με αξία Γ. Εννώνετε τις δύο λέξεις με κενό και το κάνετε yield.\n",
    "* Hint 2: Πως παίρνω ένα τυχαίο αντικείμενο από μία λίστα:\n",
    "\n",
    "```python\n",
    "import random\n",
    "random.choice(['κιθαρίστας', 'ντράμερ'])\n",
    "```\n",
    "\n",
    "Θα πρέπει να μπορώ να γράφω δηλαδή (τα παραδείγματα εδώ είναι τυχαία):\n",
    "\n",
    "```python\n",
    "f = funny_random_generator('ΑΛΕΞΑΝΔΡΟΣ ΚΑΝΤΕΡΑΚΗΣ')\n",
    "next(f)\n",
    "\"ΔΙΑΥΓΗΣ ΒΟΙΔΟΜΥΓΑ\"\n",
    "\n",
    "next(f)\n",
    "\"ΠΡΟΗΓΜΕΝΟΣ ΓΛΕΝΤΖΕΣ\"\n",
    "```\n"
   ]
  },
  {
   "cell_type": "code",
   "execution_count": 154,
   "metadata": {},
   "outputs": [],
   "source": [
    "import random\n",
    "def funny_random_generator(sentence):\n",
    "    value = word_value(sentence)\n",
    "    \n",
    "    half = value//2\n",
    "    while True:\n",
    "        value_1 = half + int(half*random.randint(-20,+20)/100)\n",
    "        value_2 = value-value_1\n",
    "         \n",
    "        word_1 = random.choice(d[value_1])\n",
    "        word_2 = random.choice(d[value_2])\n",
    "        yield word_1 + ' ' + word_2"
   ]
  },
  {
   "cell_type": "code",
   "execution_count": 155,
   "metadata": {},
   "outputs": [],
   "source": [
    "f = funny_random_generator('ΑΛΕΞΑΝΔΡΟΣ ΚΑΝΤΕΡΑΚΗΣ')"
   ]
  },
  {
   "cell_type": "code",
   "execution_count": 151,
   "metadata": {},
   "outputs": [
    {
     "data": {
      "text/plain": [
       "'ΦΑΡΔΗ ΑΠΑΡΑΛΕΙΠΤΕ'"
      ]
     },
     "execution_count": 151,
     "metadata": {},
     "output_type": "execute_result"
    }
   ],
   "source": [
    "next(f)"
   ]
  },
  {
   "cell_type": "code",
   "execution_count": 152,
   "metadata": {},
   "outputs": [
    {
     "data": {
      "text/plain": [
       "'ΑΦΗΝΟΜΑΙ ΚΑΘΙΣΑΤΕ'"
      ]
     },
     "execution_count": 152,
     "metadata": {},
     "output_type": "execute_result"
    }
   ],
   "source": [
    "next(f)"
   ]
  },
  {
   "cell_type": "code",
   "execution_count": 153,
   "metadata": {},
   "outputs": [
    {
     "data": {
      "text/plain": [
       "'ΟΜΟΓΑΛΑΚΤΕ ΟΝΕΙΡΟΠΟΛΑΣ'"
      ]
     },
     "execution_count": 153,
     "metadata": {},
     "output_type": "execute_result"
    }
   ],
   "source": [
    "next(f)"
   ]
  },
  {
   "cell_type": "markdown",
   "metadata": {},
   "source": [
    "### Άσκηση 18\n",
    "Το [HUGO Gene Nomenclature Committee](https://www.genenames.org/) ή αλλιώς HGNC, είναι μία επιτροπή και κομμάτι του [HUGO](https://en.wikipedia.org/wiki/Human_Genome_Organisation) το οποίο είναι υπεύθυνο στη τήρηση των ονομάτων των γονιδίων και άλλων γενετικών εννοιών έτσι ώστε να διευκολύνεται η συνεργασία των επιστημόνων αυτής της περιοχής.\n",
    "\n",
    "Σε αυτό το site: https://www.genenames.org/download/statistics-and-files/ υπάρχει μία λίστα με όλα τα datasets που διατηρεί και συντηρεί το HGNC. Τα αρχεία αυτά όπως βλέπετε είναι διαθέσιμα σε TSV (Tab Separated Values) αλλά και σε JSON.\n",
    "\n",
    "Στην άσκηση αυτή θα ασχοληθούμε με το πρώτο dataset της σελίδας: \"protein-coding gene\". Θα πρέπει να κατεβάσετε τα data αυτά σε TSV (link: ftp://ftp.ebi.ac.uk/pub/databases/genenames/new/tsv/locus_groups/protein-coding_gene.txt ) και σε JSON (link: ftp://ftp.ebi.ac.uk/pub/databases/genenames/new/json/locus_groups/protein-coding_gene.json ).\n",
    "\n",
    "* Χρησιμοποιώντας το TSV αρχείο απαντήστε στην ερώτηση πόσα γονίδια υπάρχουν στο μεγάλο άκρο του 17 χρωμοσώματος (17q);\n",
    "* Χρησιμοποιώντας το JSON αρχείο απαντήστε στο ίδιο ερώτημα"
   ]
  },
  {
   "cell_type": "code",
   "execution_count": 157,
   "metadata": {},
   "outputs": [
    {
     "name": "stdout",
     "output_type": "stream",
     "text": [
      "--2019-11-16 11:22:45--  ftp://ftp.ebi.ac.uk/pub/databases/genenames/new/tsv/locus_groups/protein-coding_gene.txt\n",
      "           => 'protein-coding_gene.txt'\n",
      "Resolving ftp.ebi.ac.uk (ftp.ebi.ac.uk)... 193.62.197.74\n",
      "Connecting to ftp.ebi.ac.uk (ftp.ebi.ac.uk)|193.62.197.74|:21... connected.\n",
      "Logging in as anonymous ... Logged in!\n",
      "==> SYST ... done.    ==> PWD ... done.\n",
      "==> TYPE I ... done.  ==> CWD (1) /pub/databases/genenames/new/tsv/locus_groups ... done.\n",
      "==> SIZE protein-coding_gene.txt ... 7855766\n",
      "==> PASV ... done.    ==> RETR protein-coding_gene.txt ... done.\n",
      "Length: 7855766 (7.5M) (unauthoritative)\n",
      "\n",
      "protein-coding_gene 100%[===================>]   7.49M   973KB/s    in 8.0s    \n",
      "\n",
      "2019-11-16 11:22:56 (955 KB/s) - 'protein-coding_gene.txt' saved [7855766]\n",
      "\n"
     ]
    }
   ],
   "source": [
    "! wget ftp://ftp.ebi.ac.uk/pub/databases/genenames/new/tsv/locus_groups/protein-coding_gene.txt"
   ]
  },
  {
   "cell_type": "code",
   "execution_count": 158,
   "metadata": {},
   "outputs": [
    {
     "name": "stdout",
     "output_type": "stream",
     "text": [
      "--2019-11-16 11:23:32--  ftp://ftp.ebi.ac.uk/pub/databases/genenames/new/json/locus_groups/protein-coding_gene.json\n",
      "           => 'protein-coding_gene.json'\n",
      "Resolving ftp.ebi.ac.uk (ftp.ebi.ac.uk)... 193.62.197.74\n",
      "Connecting to ftp.ebi.ac.uk (ftp.ebi.ac.uk)|193.62.197.74|:21... connected.\n",
      "Logging in as anonymous ... Logged in!\n",
      "==> SYST ... done.    ==> PWD ... done.\n",
      "==> TYPE I ... done.  ==> CWD (1) /pub/databases/genenames/new/json/locus_groups ... done.\n",
      "==> SIZE protein-coding_gene.json ... 17708603\n",
      "==> PASV ... done.    ==> RETR protein-coding_gene.json ... done.\n",
      "Length: 17708603 (17M) (unauthoritative)\n",
      "\n",
      "protein-coding_gene 100%[===================>]  16.89M   873KB/s    in 20s     \n",
      "\n",
      "2019-11-16 11:23:53 (855 KB/s) - 'protein-coding_gene.json' saved [17708603]\n",
      "\n"
     ]
    }
   ],
   "source": [
    "! wget ftp://ftp.ebi.ac.uk/pub/databases/genenames/new/json/locus_groups/protein-coding_gene.json"
   ]
  },
  {
   "cell_type": "code",
   "execution_count": 163,
   "metadata": {},
   "outputs": [
    {
     "name": "stdout",
     "output_type": "stream",
     "text": [
      "809\n"
     ]
    }
   ],
   "source": [
    "# Μέσω του txt αρχείου\n",
    "count = 0\n",
    "with open('protein-coding_gene.txt') as f:\n",
    "    header = f.readline().strip().split('\\t')\n",
    "    location_index = header.index('location')\n",
    "    \n",
    "    for line in f.readlines():\n",
    "        line_splitted = line.strip().split('\\t')\n",
    "        chromosome_arm = line_splitted[location_index]\n",
    "        if '17q' in chromosome_arm:\n",
    "            count += 1\n",
    "print (count)"
   ]
  },
  {
   "cell_type": "code",
   "execution_count": 177,
   "metadata": {},
   "outputs": [
    {
     "data": {
      "text/plain": [
       "809"
      ]
     },
     "execution_count": 177,
     "metadata": {},
     "output_type": "execute_result"
    }
   ],
   "source": [
    "# Μέσω του json αρχείου\n",
    "with open('protein-coding_gene.json') as f:\n",
    "    data = json.load(f)\n",
    "    \n",
    "sum(1 for x in data['response']['docs'] if '17q' in x.get('location', ''))"
   ]
  },
  {
   "cell_type": "markdown",
   "metadata": {},
   "source": [
    "### Άσκηση 19\n",
    "Χρησιμοποιώντας τα TSV και JSON αρχεία της άσκησης 18. Βρείτε ποιο γονίδιο (το όνομα του γονιδίου είναι στήλη με τίτλο symbol) έχει τα περισσότερα alias_symbol. Οι τιμές του alias_symbol χωρίζονται με \"|\". π.χ: το γονίδιο \"AACS\" έχει 3 alias_symbol: \"FLJ12389|SUR-5|ACSF1\"."
   ]
  },
  {
   "cell_type": "code",
   "execution_count": 181,
   "metadata": {},
   "outputs": [
    {
     "data": {
      "text/plain": [
       "(19, 'EPCAM')"
      ]
     },
     "execution_count": 181,
     "metadata": {},
     "output_type": "execute_result"
    }
   ],
   "source": [
    "# Μέσω του txt αρχείου:\n",
    "\n",
    "genes = []\n",
    "\n",
    "with open('protein-coding_gene.txt') as f:\n",
    "    header = f.readline().strip().split('\\t')\n",
    "    symbol_index = header.index('symbol')\n",
    "    alias_symbol_index = header.index('alias_symbol')\n",
    "    \n",
    "    for line in f.readlines():\n",
    "        line_splitted = line.strip().split('\\t')\n",
    "        symbol = line_splitted[symbol_index]\n",
    "        alias_sumbol = line_splitted[alias_symbol_index]\n",
    "\n",
    "        alias_count = len(alias_sumbol.split('|'))\n",
    "        genes.append((alias_count, symbol))\n",
    "        \n",
    "max(genes)"
   ]
  },
  {
   "cell_type": "code",
   "execution_count": 202,
   "metadata": {},
   "outputs": [
    {
     "data": {
      "text/plain": [
       "'EPCAM'"
      ]
     },
     "execution_count": 202,
     "metadata": {},
     "output_type": "execute_result"
    }
   ],
   "source": [
    "# Μέσω του json αρχείου\n",
    "with open('protein-coding_gene.json') as f:\n",
    "    data = json.load(f)\n",
    "    \n",
    "max(data['response']['docs'], key=lambda x: len(x.get('alias_symbol', [])))['symbol']"
   ]
  },
  {
   "cell_type": "markdown",
   "metadata": {},
   "source": [
    "### Άσκηση 20\n",
    "Χρησιμοποιώντας τα TSV και JSON αρχεία της άσκησης 18. Βρείτε τα ονόματα (στήλη symbol) των γονιδίων που έχουν το ίδιο refseq_accession."
   ]
  },
  {
   "cell_type": "code",
   "execution_count": 201,
   "metadata": {},
   "outputs": [
    {
     "name": "stdout",
     "output_type": "stream",
     "text": [
      "NM_207355 ['POTEB', 'POTEB3']\n",
      "NG_001332 ['TRA', 'TRD']\n"
     ]
    }
   ],
   "source": [
    "# Μέσω του txt αρχείου:\n",
    "genes = {}\n",
    "with open('protein-coding_gene.txt') as f:\n",
    "    header = f.readline().strip().split('\\t')\n",
    "    symbol_index = header.index('symbol')\n",
    "    refseq_accession_index = header.index('refseq_accession')\n",
    "    \n",
    "    for line in f.readlines():\n",
    "        line_splitted = line.strip().split('\\t')\n",
    "        symbol = line_splitted[symbol_index]\n",
    "        alias_sumbol = line_splitted[alias_symbol_index]\n",
    "        try:\n",
    "            refseq_accession = line_splitted[refseq_accession_index]\n",
    "        except:\n",
    "            continue\n",
    "            \n",
    "        refs = (refseq_accession.strip('\"').split('|'))\n",
    "        \n",
    "        for ref in refs:\n",
    "            if not ref.strip():\n",
    "                continue\n",
    "            if not ref in genes:\n",
    "                genes[ref] = []\n",
    "            genes[ref].append(symbol)\n",
    "        \n",
    "for ref, gene_list in genes.items():\n",
    "    if len(gene_list)>1:\n",
    "        print (ref, gene_list)\n",
    "        "
   ]
  },
  {
   "cell_type": "code",
   "execution_count": 209,
   "metadata": {},
   "outputs": [
    {
     "name": "stdout",
     "output_type": "stream",
     "text": [
      "NM_207355 ['POTEB', 'POTEB3']\n",
      "NG_001332 ['TRA', 'TRD']\n"
     ]
    }
   ],
   "source": [
    "# Μέσω του json αρχείου\n",
    "from collections import defaultdict\n",
    "genes = defaultdict(list)\n",
    "\n",
    "with open('protein-coding_gene.json') as f:\n",
    "    data = json.load(f)\n",
    "\n",
    "for item in data['response']['docs']:\n",
    "    symbol = item['symbol']\n",
    "    if not 'refseq_accession' in item:\n",
    "        continue\n",
    "    refseq_acc = item['refseq_accession']\n",
    "    for refseq in refseq_acc:\n",
    "        genes[refseq].append(symbol)\n",
    "\n",
    "for ref, gene_list in genes.items():\n",
    "    if len(gene_list)>1:\n",
    "        print (ref, gene_list)\n"
   ]
  }
 ],
 "metadata": {
  "kernelspec": {
   "display_name": "Python 3",
   "language": "python",
   "name": "python3"
  },
  "language_info": {
   "codemirror_mode": {
    "name": "ipython",
    "version": 3
   },
   "file_extension": ".py",
   "mimetype": "text/x-python",
   "name": "python",
   "nbconvert_exporter": "python",
   "pygments_lexer": "ipython3",
   "version": "3.7.0"
  }
 },
 "nbformat": 4,
 "nbformat_minor": 2
}
