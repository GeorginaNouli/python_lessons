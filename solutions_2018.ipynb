{
 "cells": [
  {
   "cell_type": "markdown",
   "metadata": {},
   "source": [
    "# Λύσεις ασκήσεων σειρά 1, 2018"
   ]
  },
  {
   "cell_type": "markdown",
   "metadata": {},
   "source": [
    "### 1η άσκηση\n",
    "έστω οι μεταβλητές:\n",
    "```python\n",
    "name = \"Mitsos\"\n",
    "age = 45\n",
    "```\n",
    "Ανάλογα με τις τιμές της μεταβλητής, να τυπώνει:\n",
    "```\n",
    "to onoma mou einai <name> kai h hlikia mou einai <age>\n",
    "π.χ.:\n",
    "to onoma mou einai Mitsos kai h hlikia mou einai 45\n",
    "```\n"
   ]
  },
  {
   "cell_type": "code",
   "execution_count": 2,
   "metadata": {},
   "outputs": [
    {
     "name": "stdout",
     "output_type": "stream",
     "text": [
      "to onoma mou einai: mitsos kai h hlikia mou einai 45\n"
     ]
    }
   ],
   "source": [
    "def f(name, age):\n",
    "    print ('to onoma mou einai:', name, 'kai h hlikia mou einai', age)\n",
    "f('mitsos', 45)"
   ]
  },
  {
   "cell_type": "markdown",
   "metadata": {},
   "source": [
    "### 2η άσκηση\n",
    "Γράψτε κώδικα ο οποίος θα ελέγχει αν ο αριθμός ```a``` διαιρεί τέλεια τον αριθμό ```b```\n"
   ]
  },
  {
   "cell_type": "code",
   "execution_count": 5,
   "metadata": {},
   "outputs": [],
   "source": [
    "def f(a,b):\n",
    "    return a%b==0"
   ]
  },
  {
   "cell_type": "code",
   "execution_count": 6,
   "metadata": {},
   "outputs": [
    {
     "data": {
      "text/plain": [
       "False"
      ]
     },
     "execution_count": 6,
     "metadata": {},
     "output_type": "execute_result"
    }
   ],
   "source": [
    "f(10,3)"
   ]
  },
  {
   "cell_type": "code",
   "execution_count": 7,
   "metadata": {},
   "outputs": [
    {
     "data": {
      "text/plain": [
       "True"
      ]
     },
     "execution_count": 7,
     "metadata": {},
     "output_type": "execute_result"
    }
   ],
   "source": [
    "f(10,2)"
   ]
  },
  {
   "cell_type": "markdown",
   "metadata": {},
   "source": [
    "### 3η άσκηση\n",
    "Γράψτε κώδικα ο οποίος θα βρίσκει τον μικρότερο από 3 αριθμούς. Μη χρησιμοποιήσετε τη ```min```. "
   ]
  },
  {
   "cell_type": "code",
   "execution_count": 24,
   "metadata": {},
   "outputs": [],
   "source": [
    "def f(a,b,c):\n",
    "    if a<=b:\n",
    "        if a<=c:\n",
    "            return a\n",
    "        return c\n",
    "    if b<=c:\n",
    "        return b\n",
    "    return c"
   ]
  },
  {
   "cell_type": "code",
   "execution_count": 25,
   "metadata": {},
   "outputs": [
    {
     "data": {
      "text/plain": [
       "1"
      ]
     },
     "execution_count": 25,
     "metadata": {},
     "output_type": "execute_result"
    }
   ],
   "source": [
    "f(1,2,3)"
   ]
  },
  {
   "cell_type": "code",
   "execution_count": 26,
   "metadata": {},
   "outputs": [
    {
     "data": {
      "text/plain": [
       "1"
      ]
     },
     "execution_count": 26,
     "metadata": {},
     "output_type": "execute_result"
    }
   ],
   "source": [
    "f(1,3,2)"
   ]
  },
  {
   "cell_type": "code",
   "execution_count": 27,
   "metadata": {},
   "outputs": [
    {
     "data": {
      "text/plain": [
       "1"
      ]
     },
     "execution_count": 27,
     "metadata": {},
     "output_type": "execute_result"
    }
   ],
   "source": [
    "f(2,1,3)"
   ]
  },
  {
   "cell_type": "code",
   "execution_count": 28,
   "metadata": {},
   "outputs": [
    {
     "data": {
      "text/plain": [
       "1"
      ]
     },
     "execution_count": 28,
     "metadata": {},
     "output_type": "execute_result"
    }
   ],
   "source": [
    "f(3,1,2)"
   ]
  },
  {
   "cell_type": "code",
   "execution_count": 29,
   "metadata": {},
   "outputs": [
    {
     "data": {
      "text/plain": [
       "1"
      ]
     },
     "execution_count": 29,
     "metadata": {},
     "output_type": "execute_result"
    }
   ],
   "source": [
    "f(2,3,1)"
   ]
  },
  {
   "cell_type": "code",
   "execution_count": 30,
   "metadata": {},
   "outputs": [
    {
     "data": {
      "text/plain": [
       "1"
      ]
     },
     "execution_count": 30,
     "metadata": {},
     "output_type": "execute_result"
    }
   ],
   "source": [
    "f(3,2,1)"
   ]
  },
  {
   "cell_type": "markdown",
   "metadata": {},
   "source": [
    "## 4η άσκηση\n",
    "Γράψτε κώδικα ο οποίος θα βρίσκει τον μεσαίο από 3 αριθμούς. δηλαδή αν οι αριθμοί είναι 5,3,8. Θα τυπώνει: 5 . Μη κάνετε import κάποια βιβλιοθήκη. Μην χρησιμοποιήσετε min, max ή sort."
   ]
  },
  {
   "cell_type": "code",
   "execution_count": 105,
   "metadata": {},
   "outputs": [],
   "source": [
    "def f(a,b,c):\n",
    "    if a<=b:\n",
    "        if b<=c:\n",
    "            return b\n",
    "        if a<=c:\n",
    "            return c\n",
    "        return a\n",
    "    if c<=b:\n",
    "        return b\n",
    "    if c<=a:\n",
    "        return c\n",
    "    return a"
   ]
  },
  {
   "cell_type": "code",
   "execution_count": 106,
   "metadata": {},
   "outputs": [
    {
     "data": {
      "text/plain": [
       "2"
      ]
     },
     "execution_count": 106,
     "metadata": {},
     "output_type": "execute_result"
    }
   ],
   "source": [
    "f(1,2,3)"
   ]
  },
  {
   "cell_type": "code",
   "execution_count": 107,
   "metadata": {},
   "outputs": [
    {
     "data": {
      "text/plain": [
       "2"
      ]
     },
     "execution_count": 107,
     "metadata": {},
     "output_type": "execute_result"
    }
   ],
   "source": [
    "f(1,3,2)"
   ]
  },
  {
   "cell_type": "code",
   "execution_count": 108,
   "metadata": {},
   "outputs": [
    {
     "data": {
      "text/plain": [
       "2"
      ]
     },
     "execution_count": 108,
     "metadata": {},
     "output_type": "execute_result"
    }
   ],
   "source": [
    "f(2,1,3)"
   ]
  },
  {
   "cell_type": "code",
   "execution_count": 109,
   "metadata": {},
   "outputs": [
    {
     "data": {
      "text/plain": [
       "2"
      ]
     },
     "execution_count": 109,
     "metadata": {},
     "output_type": "execute_result"
    }
   ],
   "source": [
    "f(3,1,2)"
   ]
  },
  {
   "cell_type": "code",
   "execution_count": 110,
   "metadata": {},
   "outputs": [
    {
     "data": {
      "text/plain": [
       "2"
      ]
     },
     "execution_count": 110,
     "metadata": {},
     "output_type": "execute_result"
    }
   ],
   "source": [
    "f(3,2,1)"
   ]
  },
  {
   "cell_type": "code",
   "execution_count": 111,
   "metadata": {},
   "outputs": [
    {
     "data": {
      "text/plain": [
       "2"
      ]
     },
     "execution_count": 111,
     "metadata": {},
     "output_type": "execute_result"
    }
   ],
   "source": [
    "f(2,3,1)"
   ]
  },
  {
   "cell_type": "markdown",
   "metadata": {},
   "source": [
    "Ένας άλλος τρόπος:"
   ]
  },
  {
   "cell_type": "code",
   "execution_count": 112,
   "metadata": {},
   "outputs": [],
   "source": [
    "def f(a,b,c):\n",
    "    if b<=a<=c:\n",
    "        return a\n",
    "    if c<=a<=b:\n",
    "        return a\n",
    "    if a<=b<=c:\n",
    "        return b\n",
    "    if c<=b<=a:\n",
    "        return b\n",
    "    if a<=c<=b:\n",
    "        return c\n",
    "    if b<=c<=a:\n",
    "        return c"
   ]
  },
  {
   "cell_type": "markdown",
   "metadata": {},
   "source": [
    "### 6η άσκηση\n",
    "Γράψτε κώδικα που θα βρίσκει τον μέσο όρο από ενα list με αριθμούς. Μη κάνετε import κάποια βιβλιοθήκη.\n"
   ]
  },
  {
   "cell_type": "code",
   "execution_count": 113,
   "metadata": {},
   "outputs": [],
   "source": [
    "def f(l):\n",
    "    return sum(l)/len(l)"
   ]
  },
  {
   "cell_type": "code",
   "execution_count": 114,
   "metadata": {},
   "outputs": [
    {
     "data": {
      "text/plain": [
       "2.5"
      ]
     },
     "execution_count": 114,
     "metadata": {},
     "output_type": "execute_result"
    }
   ],
   "source": [
    "f([1,2,3,4])"
   ]
  },
  {
   "cell_type": "markdown",
   "metadata": {},
   "source": [
    "### 7η άσκηση\n",
    "Γράψτε κώδικα που θα βρίσκει τον μέσο όρο από το πλήθος από γράμματα που έχει μία λίστα από strings.\n",
    "δηλαδη αν η λίστα είναι\n",
    "```python\n",
    "a = ['mitsos', 'anna', 'epameinonas']\n",
    "```\n",
    "Θα πρέπει να τυπώσει:7.0 (Δηλαδή: (6+4+11)/3 )"
   ]
  },
  {
   "cell_type": "code",
   "execution_count": 119,
   "metadata": {},
   "outputs": [],
   "source": [
    "def f(l):\n",
    "    counts = [len(x) for x in l]\n",
    "    return sum(counts)/len(counts)\n"
   ]
  },
  {
   "cell_type": "code",
   "execution_count": 120,
   "metadata": {},
   "outputs": [
    {
     "data": {
      "text/plain": [
       "7.0"
      ]
     },
     "execution_count": 120,
     "metadata": {},
     "output_type": "execute_result"
    }
   ],
   "source": [
    "f(['mitsos', 'anna', 'epameinonas'])"
   ]
  },
  {
   "cell_type": "markdown",
   "metadata": {},
   "source": [
    "### 8η άσκηση\n",
    "Έστω η λίστα με τα παρακάτω ελληνικά νησιά:\n",
    "```python\n",
    "islands = [\n",
    "    \"Astypalaia\",\n",
    "    \"Kalymnos\",\n",
    "    \"Karpathos\",\n",
    "    \"Kasos\",\n",
    "    \"Kastellorizo\",\n",
    "    \"Kos\",\n",
    "    \"Leros\",\n",
    "    \"Nisyros\",\n",
    "    \"Patmos\",\n",
    "    \"Rhodos\",\n",
    "    \"Symi\",\n",
    "    \"Tilos\",]\n",
    "```\n",
    "\n",
    "Πόσα νησιά το όνομά τους αρχίζει από φωνήεν; Μπορείτε να ορίσετε εσείς όποια λίστα με φωνήεντα θέλετε. "
   ]
  },
  {
   "cell_type": "code",
   "execution_count": 122,
   "metadata": {},
   "outputs": [
    {
     "data": {
      "text/plain": [
       "['Astypalaia']"
      ]
     },
     "execution_count": 122,
     "metadata": {},
     "output_type": "execute_result"
    }
   ],
   "source": [
    "islands = [\n",
    "    \"Astypalaia\",\n",
    "    \"Kalymnos\",\n",
    "    \"Karpathos\",\n",
    "    \"Kasos\",\n",
    "    \"Kastellorizo\",\n",
    "    \"Kos\",\n",
    "    \"Leros\",\n",
    "    \"Nisyros\",\n",
    "    \"Patmos\",\n",
    "    \"Rhodos\",\n",
    "    \"Symi\",\n",
    "    \"Tilos\",]\n",
    "\n",
    "fon = ['a', 'e', 'o', 'i', 'y', 'u', 'w']\n",
    "def f(l):\n",
    "    return [x for x in l if x[0].lower() in fon]\n",
    "\n",
    "f(islands)"
   ]
  },
  {
   "cell_type": "markdown",
   "metadata": {},
   "source": [
    "### 9η άσκηση\n",
    "Έστω η ίδια λίστα με την άσκηση 8. Ποια νησιά έχουν μόνο ένα φωνήεν; Μη κάνετε import κάποια βιβλιοθήκη. Π.χ.: ```re```"
   ]
  },
  {
   "cell_type": "code",
   "execution_count": 124,
   "metadata": {},
   "outputs": [],
   "source": [
    "def f(l):\n",
    "     return [island for island in islands if sum([island.count(f) for f in fon])==1]"
   ]
  },
  {
   "cell_type": "code",
   "execution_count": 126,
   "metadata": {},
   "outputs": [
    {
     "data": {
      "text/plain": [
       "['Kos']"
      ]
     },
     "execution_count": 126,
     "metadata": {},
     "output_type": "execute_result"
    }
   ],
   "source": [
    "f(islands)"
   ]
  },
  {
   "cell_type": "markdown",
   "metadata": {},
   "source": [
    "### 10η άσκηση\n",
    "Έστω η ίδια λίστα με την άσκηση 8.\n",
    "Ποια νησιά έχουν 5 γράμματα;"
   ]
  },
  {
   "cell_type": "code",
   "execution_count": 127,
   "metadata": {},
   "outputs": [],
   "source": [
    "def f(l):\n",
    "    return [island for island in islands if len(island)==5]"
   ]
  },
  {
   "cell_type": "code",
   "execution_count": 128,
   "metadata": {},
   "outputs": [
    {
     "data": {
      "text/plain": [
       "['Kasos', 'Leros', 'Tilos']"
      ]
     },
     "execution_count": 128,
     "metadata": {},
     "output_type": "execute_result"
    }
   ],
   "source": [
    "f(islands)"
   ]
  },
  {
   "cell_type": "markdown",
   "metadata": {},
   "source": [
    "### 11η άσκηση\n",
    "Έστω ένας αριθμός (π.χ. a=542).\n",
    "Ποιο είναι το άθροισμα των ψηφίων του; (δλδ 5+4+2=11 για το παράδειγμα)"
   ]
  },
  {
   "cell_type": "code",
   "execution_count": 131,
   "metadata": {},
   "outputs": [],
   "source": [
    "def f(n):\n",
    "    return sum([int(x) for x in str(n)])"
   ]
  },
  {
   "cell_type": "code",
   "execution_count": 132,
   "metadata": {},
   "outputs": [
    {
     "data": {
      "text/plain": [
       "11"
      ]
     },
     "execution_count": 132,
     "metadata": {},
     "output_type": "execute_result"
    }
   ],
   "source": [
    "f(542)"
   ]
  },
  {
   "cell_type": "markdown",
   "metadata": {},
   "source": [
    "### 12 άσκηση \n",
    "Έστω 2 strings. Ελέγξτε αν όλα τα γράμματα του πρώτου υπάρχουν στο δεύτερο.\n",
    "\n",
    "π.χ.: \n",
    "* \"mpanana\", \"mpania\" --> True\n",
    "* \"mpanana\", \"pania\" --> False\n"
   ]
  },
  {
   "cell_type": "code",
   "execution_count": 136,
   "metadata": {},
   "outputs": [],
   "source": [
    "def f(a,b):\n",
    "    return all([x in b for x in a])"
   ]
  },
  {
   "cell_type": "code",
   "execution_count": 137,
   "metadata": {},
   "outputs": [
    {
     "data": {
      "text/plain": [
       "True"
      ]
     },
     "execution_count": 137,
     "metadata": {},
     "output_type": "execute_result"
    }
   ],
   "source": [
    "f(\"mpanana\", \"mpania\")"
   ]
  },
  {
   "cell_type": "code",
   "execution_count": 138,
   "metadata": {},
   "outputs": [
    {
     "data": {
      "text/plain": [
       "False"
      ]
     },
     "execution_count": 138,
     "metadata": {},
     "output_type": "execute_result"
    }
   ],
   "source": [
    "f(\"mpanana\", \"pania\")"
   ]
  },
  {
   "cell_type": "markdown",
   "metadata": {},
   "source": [
    "### 13 άσκηση\n",
    "Βρείτε την ευκλίδεια απόσταση μεταξύ δύο σημείων στο 2-διάστατο χώρο. Κάθε σημείο είναι μία λίστα από δύο αριθμούς. Π.χ:\n",
    "```python\n",
    "p_1 = [4,5]\n",
    "p_2 = [-2,7]\n",
    "```\n",
    "Προσπαθήστε χωρίς να κάνετε import κάτι άλλο εκτός από τη math."
   ]
  },
  {
   "cell_type": "code",
   "execution_count": 139,
   "metadata": {},
   "outputs": [],
   "source": [
    "import math\n",
    "\n",
    "def f(a,b):\n",
    "    return math.sqrt((a[0]-b[0])**2 + (a[1]-b[1])**2)"
   ]
  },
  {
   "cell_type": "code",
   "execution_count": 140,
   "metadata": {},
   "outputs": [],
   "source": [
    "p_1 = [4,5]\n",
    "p_2 = [-2,7]"
   ]
  },
  {
   "cell_type": "code",
   "execution_count": 141,
   "metadata": {},
   "outputs": [
    {
     "data": {
      "text/plain": [
       "6.324555320336759"
      ]
     },
     "execution_count": 141,
     "metadata": {},
     "output_type": "execute_result"
    }
   ],
   "source": [
    "f(p_1, p_2)"
   ]
  },
  {
   "cell_type": "markdown",
   "metadata": {},
   "source": [
    "### 14η άσκηση\n",
    "Βρείτε το παραγοντικό (factorial) ενός ακεραίου"
   ]
  },
  {
   "cell_type": "code",
   "execution_count": 145,
   "metadata": {},
   "outputs": [],
   "source": [
    "# 1os tropos\n",
    "def f1(n):\n",
    "    ret = 1\n",
    "    for x in range(1, n+1):\n",
    "        ret *= x\n",
    "    return ret\n",
    "\n",
    "# 2os tropos\n",
    "def f2(n):\n",
    "    if n==1:\n",
    "        return 1\n",
    "    return n*f2(n-1)"
   ]
  },
  {
   "cell_type": "code",
   "execution_count": 146,
   "metadata": {},
   "outputs": [
    {
     "data": {
      "text/plain": [
       "3628800"
      ]
     },
     "execution_count": 146,
     "metadata": {},
     "output_type": "execute_result"
    }
   ],
   "source": [
    "f1(10)"
   ]
  },
  {
   "cell_type": "code",
   "execution_count": 147,
   "metadata": {},
   "outputs": [
    {
     "data": {
      "text/plain": [
       "3628800"
      ]
     },
     "execution_count": 147,
     "metadata": {},
     "output_type": "execute_result"
    }
   ],
   "source": [
    "f2(10)"
   ]
  },
  {
   "cell_type": "code",
   "execution_count": 144,
   "metadata": {},
   "outputs": [
    {
     "data": {
      "text/plain": [
       "3628800"
      ]
     },
     "execution_count": 144,
     "metadata": {},
     "output_type": "execute_result"
    }
   ],
   "source": [
    "1*2*3*4*5*6*7*8*9*10"
   ]
  },
  {
   "cell_type": "markdown",
   "metadata": {},
   "source": [
    "### 15η άσκηση \n",
    "Βρείτε το χ% ενός αριθμού. Π.χ. το 25% του 400 είναι 100. "
   ]
  },
  {
   "cell_type": "code",
   "execution_count": 150,
   "metadata": {},
   "outputs": [],
   "source": [
    "def f(percentage, N):\n",
    "    return percentage/100 * N"
   ]
  },
  {
   "cell_type": "code",
   "execution_count": 151,
   "metadata": {},
   "outputs": [
    {
     "data": {
      "text/plain": [
       "100.0"
      ]
     },
     "execution_count": 151,
     "metadata": {},
     "output_type": "execute_result"
    }
   ],
   "source": [
    "f(25, 400)"
   ]
  },
  {
   "cell_type": "markdown",
   "metadata": {},
   "source": [
    "### 16η άσκηση \n",
    "Βρείτε όλους τους [Munchausen](https://twitter.com/fermatslibrary/status/1039857447618445312) αριθμούς από 1 μέχρι το 1.000.000\n"
   ]
  },
  {
   "cell_type": "code",
   "execution_count": 156,
   "metadata": {},
   "outputs": [],
   "source": [
    "def f():\n",
    "    for x in range(1, 1000001):\n",
    "        digits = [int(digit) for digit in str(x)]\n",
    "        s = sum([digit**digit for digit in digits])\n",
    "        if s == x:\n",
    "            print (x)"
   ]
  },
  {
   "cell_type": "code",
   "execution_count": 158,
   "metadata": {},
   "outputs": [
    {
     "name": "stdout",
     "output_type": "stream",
     "text": [
      "1\n",
      "3435\n"
     ]
    }
   ],
   "source": [
    "f()"
   ]
  },
  {
   "cell_type": "markdown",
   "metadata": {},
   "source": [
    "### 17η άσκηση \n",
    "Βρείτε όλα τα [factorions](https://twitter.com/fermatslibrary/status/1030436593184792578) από το 1 μέχρι το 50.000\n"
   ]
  },
  {
   "cell_type": "code",
   "execution_count": 161,
   "metadata": {},
   "outputs": [],
   "source": [
    "def fact(N):\n",
    "    if N == 0:\n",
    "        return 1\n",
    "    return N*fact(N-1)\n",
    "\n",
    "def f():\n",
    "    for x in range(1, 50001):\n",
    "        digits = [int(digit) for digit in str(x)]\n",
    "        s = sum([fact(digit) for digit in digits])\n",
    "        if s == x:\n",
    "            print (s)\n"
   ]
  },
  {
   "cell_type": "code",
   "execution_count": 163,
   "metadata": {},
   "outputs": [
    {
     "name": "stdout",
     "output_type": "stream",
     "text": [
      "1\n",
      "2\n",
      "145\n",
      "40585\n"
     ]
    }
   ],
   "source": [
    "f()"
   ]
  },
  {
   "cell_type": "markdown",
   "metadata": {},
   "source": [
    "### 18η άσκηση \n",
    "Ένα έτος είναι δίσεκτο αν διαιρείται με το 4. Από αυτόν τον κανόνα εξαιρούνται τα έτη που διαιρούνται με το 100 (το 1900 ΔΕΝ είναι δίσκετο). Από αυτόν τον κανόνα εξαιρούνται τα έτη που διαιρούνται με το 400 (το 2000 ΗΤΑΝ δίσεκτο). Γράφτε κώδικα που θα υπολογίζει αν ένα έτος είναι δίσεκτο ή όχι"
   ]
  },
  {
   "cell_type": "code",
   "execution_count": 164,
   "metadata": {},
   "outputs": [],
   "source": [
    "def f(year):\n",
    "    if year%4:\n",
    "        return False\n",
    "    if year%400:\n",
    "        return True\n",
    "    if year%100:\n",
    "        return True\n",
    "    return False"
   ]
  },
  {
   "cell_type": "code",
   "execution_count": 165,
   "metadata": {},
   "outputs": [
    {
     "data": {
      "text/plain": [
       "False"
      ]
     },
     "execution_count": 165,
     "metadata": {},
     "output_type": "execute_result"
    }
   ],
   "source": [
    "f(1999)"
   ]
  },
  {
   "cell_type": "code",
   "execution_count": 166,
   "metadata": {},
   "outputs": [
    {
     "data": {
      "text/plain": [
       "True"
      ]
     },
     "execution_count": 166,
     "metadata": {},
     "output_type": "execute_result"
    }
   ],
   "source": [
    "f(2004)"
   ]
  },
  {
   "cell_type": "code",
   "execution_count": 167,
   "metadata": {},
   "outputs": [
    {
     "data": {
      "text/plain": [
       "False"
      ]
     },
     "execution_count": 167,
     "metadata": {},
     "output_type": "execute_result"
    }
   ],
   "source": [
    "f(2000)"
   ]
  },
  {
   "cell_type": "code",
   "execution_count": 168,
   "metadata": {},
   "outputs": [
    {
     "data": {
      "text/plain": [
       "True"
      ]
     },
     "execution_count": 168,
     "metadata": {},
     "output_type": "execute_result"
    }
   ],
   "source": [
    "f(1900)"
   ]
  },
  {
   "cell_type": "markdown",
   "metadata": {},
   "source": [
    "### 19η άσκηση\n",
    "Βρείτε όλους του [Kaprekar](https://twitter.com/fermatslibrary/status/1010174733235687424) από το 1 μέχρι το 10.000"
   ]
  },
  {
   "cell_type": "code",
   "execution_count": 178,
   "metadata": {},
   "outputs": [],
   "source": [
    "def f():\n",
    "    \n",
    "    def digits_to_number(digits):\n",
    "        return int(''.join([str(digit) for digit in digits]))\n",
    "    \n",
    "    for x in range(1, 10001):\n",
    "        digits = [int(digit) for digit in str(x**2)]\n",
    "        l = len(digits)\n",
    "        if l%2:\n",
    "            continue\n",
    "        \n",
    "        part_1 = digits[0:l//2]\n",
    "        part_2 = digits[l//2:]\n",
    "        \n",
    "        if digits_to_number(part_1) + digits_to_number(part_2) == x:\n",
    "            print (x)\n",
    "        \n",
    "        \n",
    "        "
   ]
  },
  {
   "cell_type": "code",
   "execution_count": 180,
   "metadata": {},
   "outputs": [
    {
     "name": "stdout",
     "output_type": "stream",
     "text": [
      "9\n",
      "45\n",
      "55\n",
      "99\n",
      "703\n",
      "999\n",
      "4950\n",
      "5050\n",
      "7272\n",
      "7777\n",
      "9999\n"
     ]
    }
   ],
   "source": [
    "f()"
   ]
  },
  {
   "cell_type": "markdown",
   "metadata": {},
   "source": [
    "### 20η άσκηση\n",
    "Βρείτε όλους τους [Happy numbers](https://twitter.com/fermatslibrary/status/950366488245960707) από το 1 μέχρι το 10.000"
   ]
  },
  {
   "cell_type": "code",
   "execution_count": 187,
   "metadata": {},
   "outputs": [],
   "source": [
    "def f():\n",
    "    for x in range(1,10001):\n",
    "\n",
    "        found_numbers = []\n",
    "        current_number = x\n",
    "        while current_number != 1:\n",
    "            \n",
    "            digits = [int(digit) for digit in str(current_number)]\n",
    "            current_number = sum([digit**2 for digit in digits])\n",
    "        \n",
    "            if current_number in found_numbers:\n",
    "                # Cycle detected...\n",
    "                break\n",
    "            found_numbers.append(current_number)\n",
    "            \n",
    "            if current_number == 1:\n",
    "                print (x)\n",
    "                break\n"
   ]
  },
  {
   "cell_type": "code",
   "execution_count": 190,
   "metadata": {},
   "outputs": [
    {
     "name": "stdout",
     "output_type": "stream",
     "text": [
      "7\n",
      "10\n",
      "13\n",
      "19\n",
      "23\n",
      "28\n",
      "31\n",
      "32\n",
      "44\n",
      "49\n",
      "68\n",
      "70\n",
      "79\n",
      "82\n",
      "86\n",
      "91\n",
      "94\n",
      "97\n",
      "100\n",
      "103\n",
      "109\n",
      "129\n",
      "130\n",
      "133\n",
      "139\n",
      "167\n",
      "176\n",
      "188\n",
      "190\n",
      "192\n",
      "193\n",
      "203\n",
      "208\n",
      "219\n",
      "226\n",
      "230\n",
      "236\n",
      "239\n",
      "262\n",
      "263\n",
      "280\n",
      "291\n",
      "293\n",
      "301\n",
      "302\n",
      "310\n",
      "313\n",
      "319\n",
      "320\n",
      "326\n",
      "329\n",
      "331\n",
      "338\n",
      "356\n",
      "362\n",
      "365\n",
      "367\n",
      "368\n",
      "376\n",
      "379\n",
      "383\n",
      "386\n",
      "391\n",
      "392\n",
      "397\n",
      "404\n",
      "409\n",
      "440\n",
      "446\n",
      "464\n",
      "469\n",
      "478\n",
      "487\n",
      "490\n",
      "496\n",
      "536\n",
      "556\n",
      "563\n",
      "565\n",
      "566\n",
      "608\n",
      "617\n",
      "622\n",
      "623\n",
      "632\n",
      "635\n",
      "637\n",
      "638\n",
      "644\n",
      "649\n",
      "653\n",
      "655\n",
      "656\n",
      "665\n",
      "671\n",
      "673\n",
      "680\n",
      "683\n",
      "694\n",
      "700\n",
      "709\n",
      "716\n",
      "736\n",
      "739\n",
      "748\n",
      "761\n",
      "763\n",
      "784\n",
      "790\n",
      "793\n",
      "802\n",
      "806\n",
      "818\n",
      "820\n",
      "833\n",
      "836\n",
      "847\n",
      "860\n",
      "863\n",
      "874\n",
      "881\n",
      "888\n",
      "899\n",
      "901\n",
      "904\n",
      "907\n",
      "910\n",
      "912\n",
      "913\n",
      "921\n",
      "923\n",
      "931\n",
      "932\n",
      "937\n",
      "940\n",
      "946\n",
      "964\n",
      "970\n",
      "973\n",
      "989\n",
      "998\n",
      "1000\n",
      "1003\n",
      "1009\n",
      "1029\n",
      "1030\n",
      "1033\n",
      "1039\n",
      "1067\n",
      "1076\n",
      "1088\n",
      "1090\n",
      "1092\n",
      "1093\n",
      "1112\n",
      "1114\n",
      "1115\n",
      "1121\n",
      "1122\n",
      "1125\n",
      "1128\n",
      "1141\n",
      "1148\n",
      "1151\n",
      "1152\n",
      "1158\n",
      "1177\n",
      "1182\n",
      "1184\n",
      "1185\n",
      "1188\n",
      "1209\n",
      "1211\n",
      "1212\n",
      "1215\n",
      "1218\n",
      "1221\n",
      "1222\n",
      "1233\n",
      "1247\n",
      "1251\n",
      "1257\n",
      "1258\n",
      "1274\n",
      "1275\n",
      "1277\n",
      "1281\n",
      "1285\n",
      "1288\n",
      "1290\n",
      "1299\n",
      "1300\n",
      "1303\n",
      "1309\n",
      "1323\n",
      "1330\n",
      "1332\n",
      "1333\n",
      "1335\n",
      "1337\n",
      "1339\n",
      "1353\n",
      "1366\n",
      "1373\n",
      "1390\n",
      "1393\n",
      "1411\n",
      "1418\n",
      "1427\n",
      "1444\n",
      "1447\n",
      "1448\n",
      "1457\n",
      "1472\n",
      "1474\n",
      "1475\n",
      "1478\n",
      "1481\n",
      "1484\n",
      "1487\n",
      "1511\n",
      "1512\n",
      "1518\n",
      "1521\n",
      "1527\n",
      "1528\n",
      "1533\n",
      "1547\n",
      "1557\n",
      "1572\n",
      "1574\n",
      "1575\n",
      "1578\n",
      "1581\n",
      "1582\n",
      "1587\n",
      "1599\n",
      "1607\n",
      "1636\n",
      "1663\n",
      "1666\n",
      "1670\n",
      "1679\n",
      "1697\n",
      "1706\n",
      "1717\n",
      "1724\n",
      "1725\n",
      "1727\n",
      "1733\n",
      "1742\n",
      "1744\n",
      "1745\n",
      "1748\n",
      "1752\n",
      "1754\n",
      "1755\n",
      "1758\n",
      "1760\n",
      "1769\n",
      "1771\n",
      "1772\n",
      "1784\n",
      "1785\n",
      "1796\n",
      "1808\n",
      "1812\n",
      "1814\n",
      "1815\n",
      "1818\n",
      "1821\n",
      "1825\n",
      "1828\n",
      "1841\n",
      "1844\n",
      "1847\n",
      "1851\n",
      "1852\n",
      "1857\n",
      "1874\n",
      "1875\n",
      "1880\n",
      "1881\n",
      "1882\n",
      "1888\n",
      "1900\n",
      "1902\n",
      "1903\n",
      "1920\n",
      "1929\n",
      "1930\n",
      "1933\n",
      "1959\n",
      "1967\n",
      "1976\n",
      "1992\n",
      "1995\n",
      "2003\n",
      "2008\n",
      "2019\n",
      "2026\n",
      "2030\n",
      "2036\n",
      "2039\n",
      "2062\n",
      "2063\n",
      "2080\n",
      "2091\n",
      "2093\n",
      "2109\n",
      "2111\n",
      "2112\n",
      "2115\n",
      "2118\n",
      "2121\n",
      "2122\n",
      "2133\n",
      "2147\n",
      "2151\n",
      "2157\n",
      "2158\n",
      "2174\n",
      "2175\n",
      "2177\n",
      "2181\n",
      "2185\n",
      "2188\n",
      "2190\n",
      "2199\n",
      "2206\n",
      "2211\n",
      "2212\n",
      "2221\n",
      "2224\n",
      "2242\n",
      "2245\n",
      "2254\n",
      "2257\n",
      "2258\n",
      "2260\n",
      "2275\n",
      "2285\n",
      "2300\n",
      "2306\n",
      "2309\n",
      "2313\n",
      "2331\n",
      "2333\n",
      "2338\n",
      "2339\n",
      "2360\n",
      "2369\n",
      "2383\n",
      "2390\n",
      "2393\n",
      "2396\n",
      "2417\n",
      "2422\n",
      "2425\n",
      "2448\n",
      "2452\n",
      "2455\n",
      "2457\n",
      "2458\n",
      "2471\n",
      "2475\n",
      "2478\n",
      "2484\n",
      "2485\n",
      "2487\n",
      "2511\n",
      "2517\n",
      "2518\n",
      "2524\n",
      "2527\n",
      "2528\n",
      "2542\n",
      "2545\n",
      "2547\n",
      "2548\n",
      "2554\n",
      "2555\n",
      "2557\n",
      "2568\n",
      "2571\n",
      "2572\n",
      "2574\n",
      "2575\n",
      "2581\n",
      "2582\n",
      "2584\n",
      "2586\n",
      "2602\n",
      "2603\n",
      "2620\n",
      "2630\n",
      "2639\n",
      "2658\n",
      "2685\n",
      "2693\n",
      "2714\n",
      "2715\n",
      "2717\n",
      "2725\n",
      "2741\n",
      "2745\n",
      "2748\n",
      "2751\n",
      "2752\n",
      "2754\n",
      "2755\n",
      "2771\n",
      "2784\n",
      "2800\n",
      "2811\n",
      "2815\n",
      "2818\n",
      "2825\n",
      "2833\n",
      "2844\n",
      "2845\n",
      "2847\n",
      "2851\n",
      "2852\n",
      "2854\n",
      "2856\n",
      "2865\n",
      "2874\n",
      "2881\n",
      "2899\n",
      "2901\n",
      "2903\n",
      "2910\n",
      "2919\n",
      "2930\n",
      "2933\n",
      "2936\n",
      "2963\n",
      "2989\n",
      "2991\n",
      "2998\n",
      "3001\n",
      "3002\n",
      "3010\n",
      "3013\n",
      "3019\n",
      "3020\n",
      "3026\n",
      "3029\n",
      "3031\n",
      "3038\n",
      "3056\n",
      "3062\n",
      "3065\n",
      "3067\n",
      "3068\n",
      "3076\n",
      "3079\n",
      "3083\n",
      "3086\n",
      "3091\n",
      "3092\n",
      "3097\n",
      "3100\n",
      "3103\n",
      "3109\n",
      "3123\n",
      "3130\n",
      "3132\n",
      "3133\n",
      "3135\n",
      "3137\n",
      "3139\n",
      "3153\n",
      "3166\n",
      "3173\n",
      "3190\n",
      "3193\n",
      "3200\n",
      "3206\n",
      "3209\n",
      "3213\n",
      "3231\n",
      "3233\n",
      "3238\n",
      "3239\n",
      "3260\n",
      "3269\n",
      "3283\n",
      "3290\n",
      "3293\n",
      "3296\n",
      "3301\n",
      "3308\n",
      "3310\n",
      "3312\n",
      "3313\n",
      "3315\n",
      "3317\n",
      "3319\n",
      "3321\n",
      "3323\n",
      "3328\n",
      "3329\n",
      "3331\n",
      "3332\n",
      "3338\n",
      "3346\n",
      "3351\n",
      "3355\n",
      "3356\n",
      "3364\n",
      "3365\n",
      "3367\n",
      "3371\n",
      "3376\n",
      "3380\n",
      "3382\n",
      "3383\n",
      "3391\n",
      "3392\n",
      "3436\n",
      "3456\n",
      "3463\n",
      "3465\n",
      "3466\n",
      "3506\n",
      "3513\n",
      "3531\n",
      "3535\n",
      "3536\n",
      "3546\n",
      "3553\n",
      "3560\n",
      "3563\n",
      "3564\n",
      "3602\n",
      "3605\n",
      "3607\n",
      "3608\n",
      "3616\n",
      "3620\n",
      "3629\n",
      "3634\n",
      "3635\n",
      "3637\n",
      "3643\n",
      "3645\n",
      "3646\n",
      "3650\n",
      "3653\n",
      "3654\n",
      "3661\n",
      "3664\n",
      "3667\n",
      "3670\n",
      "3673\n",
      "3676\n",
      "3680\n",
      "3689\n",
      "3692\n",
      "3698\n",
      "3706\n",
      "3709\n",
      "3713\n",
      "3731\n",
      "3736\n",
      "3760\n",
      "3763\n",
      "3766\n",
      "3779\n",
      "3789\n",
      "3790\n",
      "3797\n",
      "3798\n",
      "3803\n",
      "3806\n",
      "3823\n",
      "3830\n",
      "3832\n",
      "3833\n",
      "3860\n",
      "3869\n",
      "3879\n",
      "3896\n",
      "3897\n",
      "3901\n",
      "3902\n",
      "3907\n",
      "3910\n",
      "3913\n",
      "3920\n",
      "3923\n",
      "3926\n",
      "3931\n",
      "3932\n",
      "3962\n",
      "3968\n",
      "3970\n",
      "3977\n",
      "3978\n",
      "3986\n",
      "3987\n",
      "4004\n",
      "4009\n",
      "4040\n",
      "4046\n",
      "4064\n",
      "4069\n",
      "4078\n",
      "4087\n",
      "4090\n",
      "4096\n",
      "4111\n",
      "4118\n",
      "4127\n",
      "4144\n",
      "4147\n",
      "4148\n",
      "4157\n",
      "4172\n",
      "4174\n",
      "4175\n",
      "4178\n",
      "4181\n",
      "4184\n",
      "4187\n",
      "4217\n",
      "4222\n",
      "4225\n",
      "4248\n",
      "4252\n",
      "4255\n",
      "4257\n",
      "4258\n",
      "4271\n",
      "4275\n",
      "4278\n",
      "4284\n",
      "4285\n",
      "4287\n",
      "4336\n",
      "4356\n",
      "4363\n",
      "4365\n",
      "4366\n",
      "4400\n",
      "4406\n",
      "4414\n",
      "4417\n",
      "4418\n",
      "4428\n",
      "4441\n",
      "4447\n",
      "4449\n",
      "4455\n",
      "4460\n",
      "4471\n",
      "4474\n",
      "4477\n",
      "4481\n",
      "4482\n",
      "4494\n",
      "4517\n",
      "4522\n",
      "4525\n",
      "4527\n",
      "4528\n",
      "4536\n",
      "4545\n",
      "4552\n",
      "4554\n",
      "4555\n",
      "4558\n",
      "4563\n",
      "4571\n",
      "4572\n",
      "4577\n",
      "4582\n",
      "4585\n",
      "4599\n",
      "4604\n",
      "4609\n",
      "4633\n",
      "4635\n",
      "4636\n",
      "4640\n",
      "4653\n",
      "4663\n",
      "4690\n",
      "4708\n",
      "4712\n",
      "4714\n",
      "4715\n",
      "4718\n",
      "4721\n",
      "4725\n",
      "4728\n",
      "4741\n",
      "4744\n",
      "4747\n",
      "4751\n",
      "4752\n",
      "4757\n",
      "4774\n",
      "4775\n",
      "4780\n",
      "4781\n",
      "4782\n",
      "4788\n",
      "4807\n",
      "4811\n",
      "4814\n",
      "4817\n",
      "4824\n",
      "4825\n",
      "4827\n",
      "4841\n",
      "4842\n",
      "4852\n",
      "4855\n",
      "4870\n",
      "4871\n",
      "4872\n",
      "4878\n",
      "4887\n",
      "4888\n",
      "4900\n",
      "4906\n",
      "4944\n",
      "4959\n",
      "4960\n",
      "4995\n",
      "5036\n",
      "5056\n",
      "5063\n",
      "5065\n",
      "5066\n",
      "5111\n",
      "5112\n",
      "5118\n",
      "5121\n",
      "5127\n",
      "5128\n",
      "5133\n",
      "5147\n",
      "5157\n",
      "5172\n",
      "5174\n",
      "5175\n",
      "5178\n",
      "5181\n",
      "5182\n",
      "5187\n",
      "5199\n",
      "5211\n",
      "5217\n",
      "5218\n",
      "5224\n",
      "5227\n",
      "5228\n",
      "5242\n",
      "5245\n",
      "5247\n",
      "5248\n",
      "5254\n",
      "5255\n",
      "5257\n",
      "5268\n",
      "5271\n",
      "5272\n",
      "5274\n",
      "5275\n",
      "5281\n",
      "5282\n",
      "5284\n",
      "5286\n",
      "5306\n",
      "5313\n",
      "5331\n",
      "5335\n",
      "5336\n",
      "5346\n",
      "5353\n",
      "5360\n",
      "5363\n",
      "5364\n",
      "5417\n",
      "5422\n",
      "5425\n",
      "5427\n",
      "5428\n",
      "5436\n",
      "5445\n",
      "5452\n",
      "5454\n",
      "5455\n",
      "5458\n",
      "5463\n",
      "5471\n",
      "5472\n",
      "5477\n",
      "5482\n",
      "5485\n",
      "5499\n",
      "5506\n",
      "5517\n",
      "5524\n",
      "5525\n",
      "5527\n",
      "5533\n",
      "5542\n",
      "5544\n",
      "5545\n",
      "5548\n",
      "5552\n",
      "5554\n",
      "5555\n",
      "5558\n",
      "5560\n",
      "5569\n",
      "5571\n",
      "5572\n",
      "5584\n",
      "5585\n",
      "5596\n",
      "5603\n",
      "5605\n",
      "5606\n",
      "5628\n",
      "5630\n",
      "5633\n",
      "5634\n",
      "5643\n",
      "5650\n",
      "5659\n",
      "5660\n",
      "5666\n",
      "5682\n",
      "5695\n",
      "5712\n",
      "5714\n",
      "5715\n",
      "5718\n",
      "5721\n",
      "5722\n",
      "5724\n",
      "5725\n",
      "5741\n",
      "5742\n",
      "5747\n",
      "5751\n",
      "5752\n",
      "5774\n",
      "5781\n",
      "5789\n",
      "5798\n",
      "5799\n",
      "5811\n",
      "5812\n",
      "5817\n",
      "5821\n",
      "5822\n",
      "5824\n",
      "5826\n",
      "5842\n",
      "5845\n",
      "5854\n",
      "5855\n",
      "5862\n",
      "5871\n",
      "5879\n",
      "5897\n",
      "5919\n",
      "5949\n",
      "5956\n",
      "5965\n",
      "5978\n",
      "5979\n",
      "5987\n",
      "5991\n",
      "5994\n",
      "5997\n",
      "6008\n",
      "6017\n",
      "6022\n",
      "6023\n",
      "6032\n",
      "6035\n",
      "6037\n",
      "6038\n",
      "6044\n",
      "6049\n",
      "6053\n",
      "6055\n",
      "6056\n",
      "6065\n",
      "6071\n",
      "6073\n",
      "6080\n",
      "6083\n",
      "6094\n",
      "6107\n",
      "6136\n",
      "6163\n",
      "6166\n",
      "6170\n",
      "6179\n",
      "6197\n",
      "6202\n",
      "6203\n",
      "6220\n",
      "6230\n",
      "6239\n",
      "6258\n",
      "6285\n",
      "6293\n",
      "6302\n",
      "6305\n",
      "6307\n",
      "6308\n",
      "6316\n",
      "6320\n",
      "6329\n",
      "6334\n",
      "6335\n",
      "6337\n",
      "6343\n",
      "6345\n",
      "6346\n",
      "6350\n",
      "6353\n",
      "6354\n",
      "6361\n",
      "6364\n",
      "6367\n",
      "6370\n",
      "6373\n",
      "6376\n",
      "6380\n",
      "6389\n",
      "6392\n",
      "6398\n",
      "6404\n",
      "6409\n",
      "6433\n",
      "6435\n",
      "6436\n",
      "6440\n",
      "6453\n",
      "6463\n",
      "6490\n",
      "6503\n",
      "6505\n",
      "6506\n",
      "6528\n",
      "6530\n",
      "6533\n",
      "6534\n",
      "6543\n",
      "6550\n",
      "6559\n",
      "6560\n",
      "6566\n",
      "6582\n",
      "6595\n",
      "6605\n",
      "6613\n",
      "6616\n",
      "6631\n",
      "6634\n",
      "6637\n",
      "6643\n",
      "6650\n",
      "6656\n",
      "6661\n",
      "6665\n",
      "6673\n",
      "6701\n",
      "6703\n",
      "6710\n",
      "6719\n",
      "6730\n",
      "6733\n",
      "6736\n",
      "6763\n",
      "6789\n",
      "6791\n",
      "6798\n",
      "6800\n",
      "6803\n",
      "6825\n",
      "6830\n",
      "6839\n",
      "6852\n",
      "6879\n",
      "6893\n",
      "6897\n",
      "6899\n",
      "6904\n",
      "6917\n",
      "6923\n",
      "6932\n",
      "6938\n",
      "6940\n",
      "6955\n",
      "6971\n",
      "6978\n",
      "6983\n",
      "6987\n",
      "6989\n",
      "6998\n",
      "7000\n",
      "7009\n",
      "7016\n",
      "7036\n",
      "7039\n",
      "7048\n",
      "7061\n",
      "7063\n",
      "7084\n",
      "7090\n",
      "7093\n",
      "7106\n",
      "7117\n",
      "7124\n",
      "7125\n",
      "7127\n",
      "7133\n",
      "7142\n",
      "7144\n",
      "7145\n",
      "7148\n",
      "7152\n",
      "7154\n",
      "7155\n",
      "7158\n",
      "7160\n",
      "7169\n",
      "7171\n",
      "7172\n",
      "7184\n",
      "7185\n",
      "7196\n",
      "7214\n",
      "7215\n",
      "7217\n",
      "7225\n",
      "7241\n",
      "7245\n",
      "7248\n",
      "7251\n",
      "7252\n",
      "7254\n",
      "7255\n",
      "7271\n",
      "7284\n",
      "7306\n",
      "7309\n",
      "7313\n",
      "7331\n",
      "7336\n",
      "7360\n",
      "7363\n",
      "7366\n",
      "7379\n",
      "7389\n",
      "7390\n",
      "7397\n",
      "7398\n",
      "7408\n",
      "7412\n",
      "7414\n",
      "7415\n",
      "7418\n",
      "7421\n",
      "7425\n",
      "7428\n",
      "7441\n",
      "7444\n",
      "7447\n",
      "7451\n",
      "7452\n",
      "7457\n",
      "7474\n",
      "7475\n",
      "7480\n",
      "7481\n",
      "7482\n",
      "7488\n",
      "7512\n",
      "7514\n",
      "7515\n",
      "7518\n",
      "7521\n",
      "7522\n",
      "7524\n",
      "7525\n",
      "7541\n",
      "7542\n",
      "7547\n",
      "7551\n",
      "7552\n",
      "7574\n",
      "7581\n",
      "7589\n",
      "7598\n",
      "7599\n",
      "7601\n",
      "7603\n",
      "7610\n",
      "7619\n",
      "7630\n",
      "7633\n",
      "7636\n",
      "7663\n",
      "7689\n",
      "7691\n",
      "7698\n",
      "7711\n",
      "7712\n",
      "7721\n",
      "7739\n",
      "7744\n",
      "7745\n",
      "7754\n",
      "7788\n",
      "7793\n",
      "7804\n",
      "7814\n",
      "7815\n",
      "7824\n",
      "7839\n",
      "7840\n",
      "7841\n",
      "7842\n",
      "7848\n",
      "7851\n",
      "7859\n",
      "7869\n",
      "7878\n",
      "7884\n",
      "7887\n",
      "7893\n",
      "7895\n",
      "7896\n",
      "7900\n",
      "7903\n",
      "7916\n",
      "7930\n",
      "7937\n",
      "7938\n",
      "7958\n",
      "7959\n",
      "7961\n",
      "7968\n",
      "7973\n",
      "7983\n",
      "7985\n",
      "7986\n",
      "7995\n",
      "8002\n",
      "8006\n",
      "8018\n",
      "8020\n",
      "8033\n",
      "8036\n",
      "8047\n",
      "8060\n",
      "8063\n",
      "8074\n",
      "8081\n",
      "8088\n",
      "8099\n",
      "8108\n",
      "8112\n",
      "8114\n",
      "8115\n",
      "8118\n",
      "8121\n",
      "8125\n",
      "8128\n",
      "8141\n",
      "8144\n",
      "8147\n",
      "8151\n",
      "8152\n",
      "8157\n",
      "8174\n",
      "8175\n",
      "8180\n",
      "8181\n",
      "8182\n",
      "8188\n",
      "8200\n",
      "8211\n",
      "8215\n",
      "8218\n",
      "8225\n",
      "8233\n",
      "8244\n",
      "8245\n",
      "8247\n",
      "8251\n",
      "8252\n",
      "8254\n",
      "8256\n",
      "8265\n",
      "8274\n",
      "8281\n",
      "8299\n",
      "8303\n",
      "8306\n",
      "8323\n",
      "8330\n",
      "8332\n",
      "8333\n",
      "8360\n",
      "8369\n",
      "8379\n",
      "8396\n",
      "8397\n",
      "8407\n",
      "8411\n",
      "8414\n",
      "8417\n",
      "8424\n",
      "8425\n",
      "8427\n",
      "8441\n",
      "8442\n",
      "8452\n",
      "8455\n",
      "8470\n",
      "8471\n",
      "8472\n",
      "8478\n",
      "8487\n",
      "8488\n",
      "8511\n",
      "8512\n",
      "8517\n",
      "8521\n",
      "8522\n",
      "8524\n",
      "8526\n",
      "8542\n",
      "8545\n",
      "8554\n",
      "8555\n",
      "8562\n",
      "8571\n",
      "8579\n",
      "8597\n",
      "8600\n",
      "8603\n",
      "8625\n",
      "8630\n",
      "8639\n",
      "8652\n",
      "8679\n",
      "8693\n",
      "8697\n",
      "8699\n",
      "8704\n",
      "8714\n",
      "8715\n",
      "8724\n",
      "8739\n",
      "8740\n",
      "8741\n",
      "8742\n",
      "8748\n",
      "8751\n",
      "8759\n",
      "8769\n",
      "8778\n",
      "8784\n",
      "8787\n",
      "8793\n",
      "8795\n",
      "8796\n",
      "8801\n",
      "8808\n",
      "8810\n",
      "8811\n",
      "8812\n",
      "8818\n",
      "8821\n",
      "8847\n",
      "8848\n",
      "8874\n",
      "8877\n",
      "8880\n",
      "8881\n",
      "8884\n",
      "8909\n",
      "8929\n",
      "8936\n",
      "8937\n",
      "8957\n",
      "8963\n",
      "8967\n",
      "8969\n",
      "8973\n",
      "8975\n",
      "8976\n",
      "8990\n",
      "8992\n",
      "8996\n",
      "9001\n",
      "9004\n",
      "9007\n",
      "9010\n",
      "9012\n",
      "9013\n",
      "9021\n",
      "9023\n",
      "9031\n",
      "9032\n",
      "9037\n",
      "9040\n",
      "9046\n",
      "9064\n",
      "9070\n",
      "9073\n",
      "9089\n",
      "9098\n",
      "9100\n",
      "9102\n",
      "9103\n",
      "9120\n",
      "9129\n",
      "9130\n",
      "9133\n",
      "9159\n",
      "9167\n",
      "9176\n",
      "9192\n",
      "9195\n",
      "9201\n",
      "9203\n",
      "9210\n",
      "9219\n",
      "9230\n",
      "9233\n",
      "9236\n",
      "9263\n",
      "9289\n",
      "9291\n",
      "9298\n",
      "9301\n",
      "9302\n",
      "9307\n",
      "9310\n",
      "9313\n",
      "9320\n",
      "9323\n",
      "9326\n",
      "9331\n",
      "9332\n",
      "9362\n",
      "9368\n",
      "9370\n",
      "9377\n",
      "9378\n",
      "9386\n",
      "9387\n",
      "9400\n",
      "9406\n",
      "9444\n",
      "9459\n",
      "9460\n",
      "9495\n",
      "9519\n",
      "9549\n",
      "9556\n",
      "9565\n",
      "9578\n",
      "9579\n",
      "9587\n",
      "9591\n",
      "9594\n",
      "9597\n",
      "9604\n",
      "9617\n",
      "9623\n",
      "9632\n",
      "9638\n",
      "9640\n",
      "9655\n",
      "9671\n",
      "9678\n",
      "9683\n",
      "9687\n",
      "9689\n",
      "9698\n",
      "9700\n",
      "9703\n",
      "9716\n",
      "9730\n",
      "9737\n",
      "9738\n",
      "9758\n",
      "9759\n",
      "9761\n",
      "9768\n",
      "9773\n",
      "9783\n",
      "9785\n",
      "9786\n",
      "9795\n",
      "9809\n",
      "9829\n",
      "9836\n",
      "9837\n",
      "9857\n",
      "9863\n",
      "9867\n",
      "9869\n",
      "9873\n",
      "9875\n",
      "9876\n",
      "9890\n",
      "9892\n",
      "9896\n",
      "9908\n",
      "9912\n",
      "9915\n",
      "9921\n",
      "9928\n",
      "9945\n",
      "9951\n",
      "9954\n",
      "9957\n",
      "9968\n",
      "9975\n",
      "9980\n",
      "9982\n",
      "9986\n",
      "10000\n"
     ]
    }
   ],
   "source": [
    "f()"
   ]
  },
  {
   "cell_type": "markdown",
   "metadata": {},
   "source": [
    "# Λύσεις ασκήσεων σειρά 2, 2018"
   ]
  },
  {
   "cell_type": "markdown",
   "metadata": {},
   "source": [
    "## Άσκηση 1\n",
    "Φτιάξτε μία συνάρτηση που να παίρνει έναν αριθμό και να επιστρέφει αν είναι πρώτος ή όχι (True/False)"
   ]
  },
  {
   "cell_type": "code",
   "execution_count": 200,
   "metadata": {},
   "outputs": [],
   "source": [
    "import math\n",
    "\n",
    "def is_prime(N):\n",
    "    for k in range(2, int(math.sqrt(N))+1):\n",
    "        if not N%k:\n",
    "            return False\n",
    "    return True\n",
    "\n"
   ]
  },
  {
   "cell_type": "code",
   "execution_count": 201,
   "metadata": {},
   "outputs": [
    {
     "data": {
      "text/plain": [
       "False"
      ]
     },
     "execution_count": 201,
     "metadata": {},
     "output_type": "execute_result"
    }
   ],
   "source": [
    "is_prime(25)"
   ]
  },
  {
   "cell_type": "code",
   "execution_count": 203,
   "metadata": {},
   "outputs": [
    {
     "data": {
      "text/plain": [
       "True"
      ]
     },
     "execution_count": 203,
     "metadata": {},
     "output_type": "execute_result"
    }
   ],
   "source": [
    "is_prime(23)"
   ]
  },
  {
   "cell_type": "markdown",
   "metadata": {},
   "source": [
    "## Άσκηση 2\n",
    "Φτιάξτe μία λίστα με όλους του 1000 πρώτους αριθμούς. (προσοχή: όχι όλους τους πρώτους αριθμούς από το 1 μέχρι το 1000)"
   ]
  },
  {
   "cell_type": "code",
   "execution_count": 212,
   "metadata": {},
   "outputs": [],
   "source": [
    "def f2(limit):\n",
    "    # finds all prime numbers from 1 up to limit\n",
    "    l = []\n",
    "    current_number = 1\n",
    "    while len(l)<limit:\n",
    "        if is_prime(current_number):\n",
    "            l.append(current_number)\n",
    "        current_number += 1\n",
    "        \n",
    "    return l"
   ]
  },
  {
   "cell_type": "code",
   "execution_count": 210,
   "metadata": {},
   "outputs": [],
   "source": [
    "# f(1000)"
   ]
  },
  {
   "cell_type": "markdown",
   "metadata": {},
   "source": [
    "## Άσκηση 3\n",
    "Ποιο είναι το άθροισμα όλων των 1000 πρώτων αριθμών που τελειώνουν σε 3;"
   ]
  },
  {
   "cell_type": "code",
   "execution_count": 211,
   "metadata": {},
   "outputs": [
    {
     "data": {
      "text/plain": [
       "927269"
      ]
     },
     "execution_count": 211,
     "metadata": {},
     "output_type": "execute_result"
    }
   ],
   "source": [
    "sum([x for x in f2(1000) if str(x)[-1]=='3'])"
   ]
  },
  {
   "cell_type": "markdown",
   "metadata": {},
   "source": [
    "## Άσκηση 4\n",
    "Πάρτε τους πρώτους 10.000 πρώτους αριθμούς. Πόσοι τελειώνουν σε \"1\", πόσοι σε \"3\", πόσοι σε \"7\" και πόσοι σε \"9\";"
   ]
  },
  {
   "cell_type": "code",
   "execution_count": 218,
   "metadata": {},
   "outputs": [],
   "source": [
    "def f4():\n",
    "    \n",
    "    last_digits = ['1', '3', '7', '9']    \n",
    "    counts = {x: 0for x in last_digits}\n",
    "\n",
    "    for x in f2(10000):\n",
    "        last_digit = str(x)[-1]\n",
    "        if not last_digit in last_digits:\n",
    "            continue\n",
    "            \n",
    "        counts[last_digit] += 1\n",
    "    return counts\n"
   ]
  },
  {
   "cell_type": "code",
   "execution_count": 219,
   "metadata": {},
   "outputs": [
    {
     "data": {
      "text/plain": [
       "{'1': 2485, '3': 2515, '7': 2508, '9': 2490}"
      ]
     },
     "execution_count": 219,
     "metadata": {},
     "output_type": "execute_result"
    }
   ],
   "source": [
    "f4()"
   ]
  },
  {
   "cell_type": "markdown",
   "metadata": {},
   "source": [
    "## Άσκηση 5\n",
    "Πάρτε τους πρώτους 10.000 πρώτους αριθμούς. Πόσοι τελειώνουν σε \"01\", \"02\", \"03\", \"07\", \"09\", \"11\", \"13\", \"17\", \"19\", \"21\", .. \"99\"; Δηλαδή πάρτε όλα τα πιθανά τελευταία 2 ψηφία ενός πρώτου. Θεωρήστε ότι ο 1,2,5 και 7 τελειώνουν σε \"01\", \"02\", \"05\" και \"07\" αντίστοιχα.  Φτιάξτε ένα dictionary.  π.χ:\n",
    "\n",
    "```python\n",
    "solution = {\n",
    "  '01': 132,\n",
    "  '03' : 76,\n",
    "  ...\n",
    "  '99': 91,\n",
    "}\n",
    "```"
   ]
  },
  {
   "cell_type": "code",
   "execution_count": 223,
   "metadata": {},
   "outputs": [],
   "source": [
    "def f5():\n",
    "\n",
    "    counts = {}\n",
    "    \n",
    "    last_2_digits = []\n",
    "    for x in f2(10000):\n",
    "        str_x = str(x)\n",
    "        last_digit = str_x[-1]\n",
    "\n",
    "        if len(str_x) == 1:\n",
    "            one_before_last = '0'\n",
    "        else:\n",
    "            one_before_last = str_x[-2]\n",
    "        \n",
    "        last_two_digits = one_before_last + last_digit\n",
    "        if not last_two_digits in counts:\n",
    "            counts[last_two_digits] = 0\n",
    "            \n",
    "        counts[last_two_digits] += 1\n",
    "    return counts"
   ]
  },
  {
   "cell_type": "code",
   "execution_count": 224,
   "metadata": {},
   "outputs": [
    {
     "data": {
      "text/plain": [
       "{'01': 255,\n",
       " '02': 1,\n",
       " '03': 250,\n",
       " '05': 1,\n",
       " '07': 250,\n",
       " '11': 257,\n",
       " '13': 256,\n",
       " '17': 253,\n",
       " '19': 248,\n",
       " '23': 259,\n",
       " '29': 254,\n",
       " '31': 251,\n",
       " '37': 254,\n",
       " '41': 237,\n",
       " '43': 246,\n",
       " '47': 248,\n",
       " '53': 250,\n",
       " '59': 254,\n",
       " '61': 239,\n",
       " '67': 250,\n",
       " '71': 245,\n",
       " '73': 244,\n",
       " '79': 253,\n",
       " '83': 256,\n",
       " '89': 247,\n",
       " '97': 260,\n",
       " '09': 245,\n",
       " '27': 250,\n",
       " '39': 254,\n",
       " '49': 245,\n",
       " '51': 253,\n",
       " '57': 246,\n",
       " '63': 246,\n",
       " '81': 251,\n",
       " '91': 247,\n",
       " '93': 261,\n",
       " '99': 243,\n",
       " '33': 247,\n",
       " '69': 247,\n",
       " '77': 242,\n",
       " '21': 250,\n",
       " '87': 255}"
      ]
     },
     "execution_count": 224,
     "metadata": {},
     "output_type": "execute_result"
    }
   ],
   "source": [
    "f5()"
   ]
  },
  {
   "cell_type": "markdown",
   "metadata": {},
   "source": [
    "## Άσκηση 6\n",
    "Ποιός είναι ο μέσος όρος των τιμών του dictionary της άσκησης 5;"
   ]
  },
  {
   "cell_type": "code",
   "execution_count": 225,
   "metadata": {},
   "outputs": [],
   "source": [
    "def f6():\n",
    "    values = f5().values()\n",
    "    return sum(values)/len(values)"
   ]
  },
  {
   "cell_type": "code",
   "execution_count": 226,
   "metadata": {},
   "outputs": [
    {
     "data": {
      "text/plain": [
       "238.0952380952381"
      ]
     },
     "execution_count": 226,
     "metadata": {},
     "output_type": "execute_result"
    }
   ],
   "source": [
    "f6()"
   ]
  },
  {
   "cell_type": "markdown",
   "metadata": {},
   "source": [
    "## Άσκηση 7\n",
    "Από όλα τα counts της άσκησης 5, Ποιά κατάληξη έχει τους περισσότερους πρώτους αριθμούς;"
   ]
  },
  {
   "cell_type": "code",
   "execution_count": 227,
   "metadata": {},
   "outputs": [],
   "source": [
    "def f7():\n",
    "    counts = f5()\n",
    "    return max([(v,k) for k,v in counts.items()])"
   ]
  },
  {
   "cell_type": "code",
   "execution_count": 228,
   "metadata": {},
   "outputs": [
    {
     "data": {
      "text/plain": [
       "(261, '93')"
      ]
     },
     "execution_count": 228,
     "metadata": {},
     "output_type": "execute_result"
    }
   ],
   "source": [
    "f7()"
   ]
  },
  {
   "cell_type": "markdown",
   "metadata": {},
   "source": [
    "## Άσκηση 8\n",
    "Αν αρχίσουμε να αθροίζουμε όλους τους πρώτους αριθμούς ξεκινώντας από το 1, μετά από ποιον πρώτο αριθμό το άθροισμα θα ξεπεράσει το 1.000.000; "
   ]
  },
  {
   "cell_type": "code",
   "execution_count": 229,
   "metadata": {},
   "outputs": [],
   "source": [
    "def f8():\n",
    "    s = 0\n",
    "    current_number = 1\n",
    "    while s<=1000000:\n",
    "        if is_prime(current_number):\n",
    "            s += current_number\n",
    "            \n",
    "        current_number += 2\n",
    "        \n",
    "    return current_number"
   ]
  },
  {
   "cell_type": "code",
   "execution_count": 230,
   "metadata": {},
   "outputs": [
    {
     "data": {
      "text/plain": [
       "3945"
      ]
     },
     "execution_count": 230,
     "metadata": {},
     "output_type": "execute_result"
    }
   ],
   "source": [
    "f8()"
   ]
  },
  {
   "cell_type": "markdown",
   "metadata": {},
   "source": [
    "## Άσκηση 9\n",
    "Δίνεται πως να φτιάξετε μία λίστα με 1000 τυχαίους αιρθμούς από το 0.0 μέχρι το 1.0:\n",
    "\n",
    "```python\n",
    "import random\n",
    "l = [random.random() for x in range(1000)]\n",
    "```\n",
    "\n",
    "Ποιος είναι ο δεύτερος μεγαλύτερος αριθμός της λίστας; Μη χρησιμοποιήσετε ```sort``` ή ```max```. Πρέπει να χρησιμοποιήσετε ένα και μόνο 1 ```for```. Επίσης αν οι 2 (ή παραπάνω) μεγαλύτεροι αριθμοί είναι ίσοι θα πρέπει να επιστρέφει έναν από αυτούς. Δηλαδή ο δεύτερος μεγαλύτερος αριθμός της λίστας: ```[3,6,5,6]``` είναι το 6 και όχι το 5.\n"
   ]
  },
  {
   "cell_type": "code",
   "execution_count": 239,
   "metadata": {},
   "outputs": [],
   "source": [
    "def f9(my_list):\n",
    "    \n",
    "    first_max = my_list[0]\n",
    "    second_max = my_list[0]\n",
    "    \n",
    "    for x in my_list:\n",
    "        if x >= first_max:\n",
    "            second_max = first_max\n",
    "            first_max = x\n",
    "            continue\n",
    "        if x >= second_max:\n",
    "            second_max = x\n",
    "            \n",
    "            \n",
    "    return second_max"
   ]
  },
  {
   "cell_type": "code",
   "execution_count": 232,
   "metadata": {},
   "outputs": [],
   "source": [
    "import random\n",
    "l = [random.random() for x in range(1000)]"
   ]
  },
  {
   "cell_type": "code",
   "execution_count": 233,
   "metadata": {},
   "outputs": [
    {
     "data": {
      "text/plain": [
       "0.9967750516760786"
      ]
     },
     "execution_count": 233,
     "metadata": {},
     "output_type": "execute_result"
    }
   ],
   "source": [
    "f9(l)"
   ]
  },
  {
   "cell_type": "code",
   "execution_count": 234,
   "metadata": {},
   "outputs": [
    {
     "data": {
      "text/plain": [
       "0.9990063280023024"
      ]
     },
     "execution_count": 234,
     "metadata": {},
     "output_type": "execute_result"
    }
   ],
   "source": [
    "max(l)"
   ]
  },
  {
   "cell_type": "code",
   "execution_count": 240,
   "metadata": {},
   "outputs": [
    {
     "data": {
      "text/plain": [
       "6"
      ]
     },
     "execution_count": 240,
     "metadata": {},
     "output_type": "execute_result"
    }
   ],
   "source": [
    "f9([3,6,5,6])"
   ]
  },
  {
   "cell_type": "markdown",
   "metadata": {},
   "source": [
    "## Άσκηση 10\n",
    "\n",
    "Δίνεται το παρακάτω string:\n",
    "\n",
    "```python\n",
    "a = '''\n",
    "#CHROM  POS     ID      REF     ALT     QUAL\n",
    "chr19   617614  .       G       A       39.2648\n",
    "chr19   617804  .       G       A       0.309945\n",
    "chr19   617959  .       A       C       0.0608339\n",
    "chr19   618159  .       A       G       193.704\n",
    "chr19   618428  .       T       G       1.87498E-5\n",
    "chr19   618851  .       T       C       74.4613\n",
    "chr19   618854  .       G       A       74.4613\n",
    "chr19   618911  .       T       G       2.88308E-4\n",
    "chr19   619021  .       G       C       352.245\n",
    "chr19   619139  .       G       A       137.482\n",
    "chr19   619408  .       A       G       207.722\n",
    "chr19   619574  .       T       G       594.095\n",
    "chr19   619772  .       G       C       612.352\n",
    "chr19   619913  .       T       C       276.649\n",
    "chr19   620004  .       T       C       0.00524165\n",
    "chr19   620045  .       A       T       15.5734\n",
    "chr19   620201  .       A       C       5.61107E-5\n",
    "chr19   620210  .       A       C       1.63995E-5\n",
    "chr19   620214  .       T       C       3.42253E-5\n",
    "chr19   620228  .       A       C       8.62681E-4\n",
    "chr19   620299  .       C       A       6.06919\n",
    "chr19   620315  .       A       C       3.3417E-4\n",
    "chr19   620381  .       T       G       5.01393E-4\n",
    "chr19   620414  .       A       C       6.37073E-6\n",
    "chr19   620429  .       T       C       2.46975E-5\n",
    "chr19   620454  .       A       C       4.25049E-5\n",
    "chr19   620459  .       T       C       4.96425E-5\n",
    "chr19   620728  .       A       G       0.0198511\n",
    "chr19   620807  .       G       A       41.4442 \n",
    "'''\n",
    "\n",
    "```\n",
    "\n",
    "Όπως βλέπετε περιέχει πληροφορίες για διάφορες θέσεις στο χρωμόσωμα 19.\n",
    "\n",
    "Πόσες γραμμές περιέχει;\n"
   ]
  },
  {
   "cell_type": "code",
   "execution_count": 241,
   "metadata": {},
   "outputs": [],
   "source": [
    "def f10(s):\n",
    "    return s.strip().count('\\n')"
   ]
  },
  {
   "cell_type": "code",
   "execution_count": 243,
   "metadata": {},
   "outputs": [
    {
     "data": {
      "text/plain": [
       "29"
      ]
     },
     "execution_count": 243,
     "metadata": {},
     "output_type": "execute_result"
    }
   ],
   "source": [
    "a = '''\n",
    "#CHROM  POS     ID      REF     ALT     QUAL\n",
    "chr19   617614  .       G       A       39.2648\n",
    "chr19   617804  .       G       A       0.309945\n",
    "chr19   617959  .       A       C       0.0608339\n",
    "chr19   618159  .       A       G       193.704\n",
    "chr19   618428  .       T       G       1.87498E-5\n",
    "chr19   618851  .       T       C       74.4613\n",
    "chr19   618854  .       G       A       74.4613\n",
    "chr19   618911  .       T       G       2.88308E-4\n",
    "chr19   619021  .       G       C       352.245\n",
    "chr19   619139  .       G       A       137.482\n",
    "chr19   619408  .       A       G       207.722\n",
    "chr19   619574  .       T       G       594.095\n",
    "chr19   619772  .       G       C       612.352\n",
    "chr19   619913  .       T       C       276.649\n",
    "chr19   620004  .       T       C       0.00524165\n",
    "chr19   620045  .       A       T       15.5734\n",
    "chr19   620201  .       A       C       5.61107E-5\n",
    "chr19   620210  .       A       C       1.63995E-5\n",
    "chr19   620214  .       T       C       3.42253E-5\n",
    "chr19   620228  .       A       C       8.62681E-4\n",
    "chr19   620299  .       C       A       6.06919\n",
    "chr19   620315  .       A       C       3.3417E-4\n",
    "chr19   620381  .       T       G       5.01393E-4\n",
    "chr19   620414  .       A       C       6.37073E-6\n",
    "chr19   620429  .       T       C       2.46975E-5\n",
    "chr19   620454  .       A       C       4.25049E-5\n",
    "chr19   620459  .       T       C       4.96425E-5\n",
    "chr19   620728  .       A       G       0.0198511\n",
    "chr19   620807  .       G       A       41.4442 \n",
    "'''\n",
    "\n",
    "\n",
    "f10(a)"
   ]
  },
  {
   "cell_type": "markdown",
   "metadata": {},
   "source": [
    "## Άσκηση 11\n",
    "Έστω το string της άσκηση 10. Φτιάξτε ένα dictionary του οποίου το key να είναι το POS και το value να είναι το QUAL. Δηλαδή:\n",
    "\n",
    "```python\n",
    "q = {\n",
    "  617614 : 39.2648,\n",
    "  617804 : 0.309945,\n",
    "  ...\n",
    "}\n",
    "```\n",
    "\n",
    "* hint 1: Έστω το string: \n",
    "```python\n",
    "a = ''' \n",
    "mitsos 452\n",
    "kwstas 999\n",
    "'''\n",
    "```\n",
    "\n",
    "Τότε:\n",
    "```python\n",
    "b = a.split('\\n')\n",
    "print (b)\n",
    "```\n",
    "```text\n",
    "[' ', 'mitsos 452', 'kwstas 999', '']\n",
    "```\n",
    "\n",
    "* hint 2: Έστω η λίστα: \n",
    "```python\n",
    "b = [' ', 'mitsos 452', 'kwstas 999', '']\n",
    "```\n",
    "Τότε:\n",
    "```python\n",
    "c = [x.strip() for x in b]\n",
    "print (c)\n",
    "```\n",
    "```text\n",
    "['', 'mitsos 452', 'kwstas 999', '']\n",
    "```\n",
    "\n",
    "* hint 3. Έστω η λίστα:\n",
    "```python\n",
    "c = ['', 'mitsos 452', 'kwstas 999', '']\n",
    "```\n",
    "Τότε:\n",
    "```python\n",
    "d = [x for x in c if x] # Θυμηθείτε ότι το '' είναι False\n",
    "print (d)\n",
    "```\n",
    "```text\n",
    "['mitsos 452', 'kwstas 999']\n",
    "```\n",
    "\n",
    "* Hint 4. Έστω η λίστα:\n",
    "```python\n",
    "d = ['mitsos 452', 'kwstas 999']\n",
    "```\n",
    "Τότε:\n",
    "```python\n",
    "e = [x.split() for x in d]\n",
    "print (e)\n",
    "```\n",
    "```text\n",
    "[['mitsos', '452'], ['kwstas', '999']]\n",
    "```\n",
    "\n",
    "* Hint 5. Έστω η λίστα:\n",
    "```python\n",
    "e = [['mitsos', '452'], ['kwstas', '999']]\n",
    "```\n",
    "Τότε:\n",
    "```python\n",
    "f = {x[0] : int(x[1]) for x in e}\n",
    "print (f)\n",
    "```\n",
    "```text\n",
    "{'mitsos': 452, 'kwstas': 999}\n",
    "```\n",
    "* Hint 6. (Όλο μαζί). Έστω το string:\n",
    "```python\n",
    "a = ''' \n",
    "mitsos 452\n",
    "kwstas 999\n",
    "'''\n",
    "```\n",
    "Τότε:\n",
    "```python\n",
    "b = {y[0]:int(y[1]) for y in [x.split() for x in a.split('\\n') if x.strip()]}\n",
    "print (b)\n",
    "```\n",
    "```text\n",
    "{'mitsos': 452, 'kwstas': 999}\n",
    "```"
   ]
  },
  {
   "cell_type": "code",
   "execution_count": 246,
   "metadata": {},
   "outputs": [],
   "source": [
    "def f11(s):\n",
    "    splitted = [x.split() for x in s.strip().split('\\n')[1:]]\n",
    "    return {int(x[1]) : float(x[5]) for x in splitted}"
   ]
  },
  {
   "cell_type": "code",
   "execution_count": 248,
   "metadata": {},
   "outputs": [
    {
     "data": {
      "text/plain": [
       "{617614: 39.2648,\n",
       " 617804: 0.309945,\n",
       " 617959: 0.0608339,\n",
       " 618159: 193.704,\n",
       " 618428: 1.87498e-05,\n",
       " 618851: 74.4613,\n",
       " 618854: 74.4613,\n",
       " 618911: 0.000288308,\n",
       " 619021: 352.245,\n",
       " 619139: 137.482,\n",
       " 619408: 207.722,\n",
       " 619574: 594.095,\n",
       " 619772: 612.352,\n",
       " 619913: 276.649,\n",
       " 620004: 0.00524165,\n",
       " 620045: 15.5734,\n",
       " 620201: 5.61107e-05,\n",
       " 620210: 1.63995e-05,\n",
       " 620214: 3.42253e-05,\n",
       " 620228: 0.000862681,\n",
       " 620299: 6.06919,\n",
       " 620315: 0.00033417,\n",
       " 620381: 0.000501393,\n",
       " 620414: 6.37073e-06,\n",
       " 620429: 2.46975e-05,\n",
       " 620454: 4.25049e-05,\n",
       " 620459: 4.96425e-05,\n",
       " 620728: 0.0198511,\n",
       " 620807: 41.4442}"
      ]
     },
     "execution_count": 248,
     "metadata": {},
     "output_type": "execute_result"
    }
   ],
   "source": [
    "f11(a)"
   ]
  },
  {
   "cell_type": "markdown",
   "metadata": {},
   "source": [
    "## Άσκηση 12\n",
    "Έστω το string της άσκηση 10. Φτιάχτε ένα dictionay όπου το key θα είναι το POS και το value θα είναι ένα dictionary που θα περιέχει τα REF και ALT. Δηλαδή:\n",
    "\n",
    "```python\n",
    "q = {\n",
    "  617614 : {'REF': 'G', 'ALT': 'A'},\n",
    "  617804 : {'REF': 'G', 'ALT': 'A'},\n",
    "  617959 : {'REF': 'A', 'ALT': 'C'},\n",
    "  ...\n",
    "}\n",
    "```"
   ]
  },
  {
   "cell_type": "code",
   "execution_count": 252,
   "metadata": {},
   "outputs": [],
   "source": [
    "def f12(s):\n",
    "    splitted = [x.split() for x in s.strip().split('\\n')[1:]]\n",
    "    return {int(x[1]): {'REF': x[3], 'ALT': x[4]} for x in splitted}\n",
    "    "
   ]
  },
  {
   "cell_type": "code",
   "execution_count": 253,
   "metadata": {},
   "outputs": [
    {
     "data": {
      "text/plain": [
       "{617614: {'REF': 'G', 'ALT': 'A'},\n",
       " 617804: {'REF': 'G', 'ALT': 'A'},\n",
       " 617959: {'REF': 'A', 'ALT': 'C'},\n",
       " 618159: {'REF': 'A', 'ALT': 'G'},\n",
       " 618428: {'REF': 'T', 'ALT': 'G'},\n",
       " 618851: {'REF': 'T', 'ALT': 'C'},\n",
       " 618854: {'REF': 'G', 'ALT': 'A'},\n",
       " 618911: {'REF': 'T', 'ALT': 'G'},\n",
       " 619021: {'REF': 'G', 'ALT': 'C'},\n",
       " 619139: {'REF': 'G', 'ALT': 'A'},\n",
       " 619408: {'REF': 'A', 'ALT': 'G'},\n",
       " 619574: {'REF': 'T', 'ALT': 'G'},\n",
       " 619772: {'REF': 'G', 'ALT': 'C'},\n",
       " 619913: {'REF': 'T', 'ALT': 'C'},\n",
       " 620004: {'REF': 'T', 'ALT': 'C'},\n",
       " 620045: {'REF': 'A', 'ALT': 'T'},\n",
       " 620201: {'REF': 'A', 'ALT': 'C'},\n",
       " 620210: {'REF': 'A', 'ALT': 'C'},\n",
       " 620214: {'REF': 'T', 'ALT': 'C'},\n",
       " 620228: {'REF': 'A', 'ALT': 'C'},\n",
       " 620299: {'REF': 'C', 'ALT': 'A'},\n",
       " 620315: {'REF': 'A', 'ALT': 'C'},\n",
       " 620381: {'REF': 'T', 'ALT': 'G'},\n",
       " 620414: {'REF': 'A', 'ALT': 'C'},\n",
       " 620429: {'REF': 'T', 'ALT': 'C'},\n",
       " 620454: {'REF': 'A', 'ALT': 'C'},\n",
       " 620459: {'REF': 'T', 'ALT': 'C'},\n",
       " 620728: {'REF': 'A', 'ALT': 'G'},\n",
       " 620807: {'REF': 'G', 'ALT': 'A'}}"
      ]
     },
     "execution_count": 253,
     "metadata": {},
     "output_type": "execute_result"
    }
   ],
   "source": [
    "f12(a)"
   ]
  },
  {
   "cell_type": "markdown",
   "metadata": {},
   "source": [
    "## Άσκηση 13\n",
    "Έστω το dictionary της άσκησης 12. Πόσες φορές βλέπουμε να έχουμε 'REF' = G και 'ALT' = A ;"
   ]
  },
  {
   "cell_type": "code",
   "execution_count": 258,
   "metadata": {},
   "outputs": [],
   "source": [
    "def f13(s):\n",
    "    d = f12(s)\n",
    "    return sum([x=={'REF':'G', 'ALT': 'A'} for x in d.values()])"
   ]
  },
  {
   "cell_type": "code",
   "execution_count": 259,
   "metadata": {},
   "outputs": [
    {
     "data": {
      "text/plain": [
       "5"
      ]
     },
     "execution_count": 259,
     "metadata": {},
     "output_type": "execute_result"
    }
   ],
   "source": [
    "f13(a)"
   ]
  },
  {
   "cell_type": "markdown",
   "metadata": {},
   "source": [
    "## Άσκηση 14\n",
    "Έστω το dictionary της άσκησης 12. Πόσες φορές εμφανίζονται όλοι οι διαφορετικoί συνδοιασμοί για REF = 'A', 'C', 'G', 'T' και ALT = 'A', 'C', 'G', 'T' (όπου το REF είναι διαφορετικό από το ALT); Δηλαδή φτιάξτε ένα dictionary όπως αυτό:\n",
    "\n",
    "```python\n",
    "d = {\n",
    " ('A', 'C') : 4,\n",
    " ('A', 'G') : 2,\n",
    " ('A', 'T') : 0,\n",
    " ('C', 'A') : 1,\n",
    " ('C', 'G') : 2,\n",
    " ('C', 'T') : 3, \n",
    " ...\n",
    "}\n",
    "```\n",
    "\n",
    "* Το πρώτο value του key είναι το REF και το δεύτερο το ALT\n",
    "* Τα νούμερα που έχω βάλει εδώ είναι τυχαία.\n"
   ]
  },
  {
   "cell_type": "code",
   "execution_count": 265,
   "metadata": {},
   "outputs": [],
   "source": [
    "# 1os tropos\n",
    "def f14_1(s):\n",
    "    ref_alt_dict = f12(s)\n",
    "    result = {}\n",
    "    for ref in ['A', 'C', 'G', 'T']:\n",
    "        for alt in ['A', 'C', 'G', 'T']:\n",
    "            if ref==alt:\n",
    "                continue\n",
    "                \n",
    "            key = (ref,alt)\n",
    "            result[key] = sum([x['REF']==ref and x['ALT']==alt for x in ref_alt_dict.values()])\n",
    "            \n",
    "    return result"
   ]
  },
  {
   "cell_type": "code",
   "execution_count": 266,
   "metadata": {},
   "outputs": [
    {
     "data": {
      "text/plain": [
       "{('A', 'C'): 7,\n",
       " ('A', 'G'): 3,\n",
       " ('A', 'T'): 1,\n",
       " ('C', 'A'): 1,\n",
       " ('C', 'G'): 0,\n",
       " ('C', 'T'): 0,\n",
       " ('G', 'A'): 5,\n",
       " ('G', 'C'): 2,\n",
       " ('G', 'T'): 0,\n",
       " ('T', 'A'): 0,\n",
       " ('T', 'C'): 6,\n",
       " ('T', 'G'): 4}"
      ]
     },
     "execution_count": 266,
     "metadata": {},
     "output_type": "execute_result"
    }
   ],
   "source": [
    "f14_1(a)"
   ]
  },
  {
   "cell_type": "code",
   "execution_count": 275,
   "metadata": {},
   "outputs": [],
   "source": [
    "# 2os tropos. WARNING! UNREADABLE!\n",
    "def f14_2(s):\n",
    "    ref_alt_dict = f12(s)\n",
    "\n",
    "    return {(ref,alt): sum([x['REF']==ref and x['ALT']==alt for x in ref_alt_dict.values()]) for ref in ['A', 'C', 'G', 'T'] for alt in ['A', 'C', 'G', 'T'] if ref!=alt}\n"
   ]
  },
  {
   "cell_type": "code",
   "execution_count": 276,
   "metadata": {},
   "outputs": [
    {
     "data": {
      "text/plain": [
       "{('A', 'C'): 7,\n",
       " ('A', 'G'): 3,\n",
       " ('A', 'T'): 1,\n",
       " ('C', 'A'): 1,\n",
       " ('C', 'G'): 0,\n",
       " ('C', 'T'): 0,\n",
       " ('G', 'A'): 5,\n",
       " ('G', 'C'): 2,\n",
       " ('G', 'T'): 0,\n",
       " ('T', 'A'): 0,\n",
       " ('T', 'C'): 6,\n",
       " ('T', 'G'): 4}"
      ]
     },
     "execution_count": 276,
     "metadata": {},
     "output_type": "execute_result"
    }
   ],
   "source": [
    "f14_2(a)"
   ]
  },
  {
   "cell_type": "code",
   "execution_count": 282,
   "metadata": {},
   "outputs": [],
   "source": [
    "# 3os tropos. DEN EPISTREFEI OMWS OSA EXOUN 0 counts\n",
    "\n",
    "from collections import Counter\n",
    "\n",
    "def f14_3(s):\n",
    "    ref_alt_dict = f12(s)\n",
    "\n",
    "    return Counter([(v['REF'], v['ALT']) for v in ref_alt_dict.values()])"
   ]
  },
  {
   "cell_type": "code",
   "execution_count": 281,
   "metadata": {},
   "outputs": [
    {
     "data": {
      "text/plain": [
       "Counter({('G', 'A'): 5,\n",
       "         ('A', 'C'): 7,\n",
       "         ('A', 'G'): 3,\n",
       "         ('T', 'G'): 4,\n",
       "         ('T', 'C'): 6,\n",
       "         ('G', 'C'): 2,\n",
       "         ('A', 'T'): 1,\n",
       "         ('C', 'A'): 1})"
      ]
     },
     "execution_count": 281,
     "metadata": {},
     "output_type": "execute_result"
    }
   ],
   "source": [
    "f14_3(a)"
   ]
  },
  {
   "cell_type": "markdown",
   "metadata": {},
   "source": [
    "## Άσκηση 15\n",
    "Φτιάξτε το ίδιο dictionary με αυτό της άσκησης 12 αλλά τα keys είναι οι 4 διαφορετικές τιμές για το REF και τα values θα πρέπει να είναι και αυτά dictionaries όπου τα keys του θα είναι οι 4 διαφορετικές τιμές του ALT και τα values θα είναι τα counts. Δηλαδή:\n",
    "\n",
    "```python\n",
    "d = {\n",
    "'A' : {'C': 4, 'G': 2, 'T': 0},\n",
    "'C' : {'A': 1, 'G': 2, 'T': 3}, \n",
    "...\n",
    "}\n",
    "```\n",
    "\n",
    "Δηλαδή το REF=A και το ALT=C εμφανίζεται 4 φορές. Το REF=A και το ALT=G εμφανίζεται 2 φορές, κτλ..\n",
    "* Hint 1\n",
    "```python\n",
    "a = {}\n",
    "if a:\n",
    "   print ('Not Empty')\n",
    "else:\n",
    "   print ('Empty')\n",
    "```\n",
    "```python\n",
    "Empty\n",
    "```\n",
    "* Hint 2\n",
    "```python\n",
    "a = {'A': {'C': 5}}\n",
    "a['A']['T'] = 7\n",
    "print (a)\n",
    "```\n",
    "```python\n",
    "{'A': {'C': 5, 'T': 7}}\n",
    "```\n"
   ]
  },
  {
   "cell_type": "code",
   "execution_count": 285,
   "metadata": {},
   "outputs": [],
   "source": [
    "def f15(s):\n",
    "    ref_alt_dict = f12(s)\n",
    "    \n",
    "    result = {}\n",
    "    for v in ref_alt_dict.values():\n",
    "        ref = v['REF']\n",
    "        alt = v['ALT']\n",
    "        \n",
    "        if not ref in result:\n",
    "            result[ref] = {}\n",
    "            \n",
    "        if not alt in result[ref]:\n",
    "            result[ref][alt] = 0\n",
    "        \n",
    "        result[ref][alt] += 1\n",
    "        \n",
    "    return result\n",
    "\n",
    "\n",
    "            "
   ]
  },
  {
   "cell_type": "code",
   "execution_count": 287,
   "metadata": {},
   "outputs": [
    {
     "data": {
      "text/plain": [
       "{'G': {'A': 5, 'C': 2},\n",
       " 'A': {'C': 7, 'G': 3, 'T': 1},\n",
       " 'T': {'G': 4, 'C': 6},\n",
       " 'C': {'A': 1}}"
      ]
     },
     "execution_count": 287,
     "metadata": {},
     "output_type": "execute_result"
    }
   ],
   "source": [
    "f15(a)"
   ]
  },
  {
   "cell_type": "markdown",
   "metadata": {},
   "source": [
    "## Άσκηση 16\n",
    "Έστω το string της άσκησης 10, ποια μεταλλαγή (δηλαδή ζευγάρι REF,ALT) εμφανίζεται τις περισσότερες φορές;"
   ]
  },
  {
   "cell_type": "code",
   "execution_count": 288,
   "metadata": {},
   "outputs": [],
   "source": [
    "def f16(s):\n",
    "    ref_alt_counts = f14_1(s)\n",
    "    return max([(v,k) for k,v in ref_alt_counts.items()])"
   ]
  },
  {
   "cell_type": "code",
   "execution_count": 290,
   "metadata": {},
   "outputs": [
    {
     "data": {
      "text/plain": [
       "(7, ('A', 'C'))"
      ]
     },
     "execution_count": 290,
     "metadata": {},
     "output_type": "execute_result"
    }
   ],
   "source": [
    "f16(a)"
   ]
  },
  {
   "cell_type": "markdown",
   "metadata": {},
   "source": [
    "## Άσκηση 17\n",
    "Έστω το string της άσκησης 10. Κάντε sort των ζευγαριών REF,ALT με βάση το πόσες φορές εμφανίζονται (sort επιτρέπεται εννοείται) "
   ]
  },
  {
   "cell_type": "code",
   "execution_count": 291,
   "metadata": {},
   "outputs": [],
   "source": [
    "def f17(s):\n",
    "    \n",
    "    ref_alt_counts = f14_1(s)\n",
    "    return sorted(ref_alt_counts.items(), key=lambda x:x[1])"
   ]
  },
  {
   "cell_type": "code",
   "execution_count": 292,
   "metadata": {},
   "outputs": [
    {
     "data": {
      "text/plain": [
       "[(('C', 'G'), 0),\n",
       " (('C', 'T'), 0),\n",
       " (('G', 'T'), 0),\n",
       " (('T', 'A'), 0),\n",
       " (('A', 'T'), 1),\n",
       " (('C', 'A'), 1),\n",
       " (('G', 'C'), 2),\n",
       " (('A', 'G'), 3),\n",
       " (('T', 'G'), 4),\n",
       " (('G', 'A'), 5),\n",
       " (('T', 'C'), 6),\n",
       " (('A', 'C'), 7)]"
      ]
     },
     "execution_count": 292,
     "metadata": {},
     "output_type": "execute_result"
    }
   ],
   "source": [
    "f17(a)"
   ]
  },
  {
   "cell_type": "markdown",
   "metadata": {},
   "source": [
    "## Άσκηση 18\n",
    "Έστω το string της άσκησης 10. Σε ποια θέση (POS) έχουμε το μεγαλύτερο QUAL;\n"
   ]
  },
  {
   "cell_type": "code",
   "execution_count": 296,
   "metadata": {},
   "outputs": [],
   "source": [
    "def f18(s):\n",
    "    qual_dict = f11(s)\n",
    "    return max([(v,k) for k,v in qual_dict.items()])"
   ]
  },
  {
   "cell_type": "code",
   "execution_count": 297,
   "metadata": {},
   "outputs": [
    {
     "data": {
      "text/plain": [
       "(612.352, 619772)"
      ]
     },
     "execution_count": 297,
     "metadata": {},
     "output_type": "execute_result"
    }
   ],
   "source": [
    "f18(a)"
   ]
  },
  {
   "cell_type": "markdown",
   "metadata": {},
   "source": [
    "# Άσκηση 19 \n",
    "Έστω το string της άσκησης 10. Κάντε sort το POS ανάλογα με το QUAL. Η λίστα πρέπει να ξεκινάει από το μεγαλύτερο QUAL και να καταλήγει στο μικρότερο QUAL."
   ]
  },
  {
   "cell_type": "code",
   "execution_count": 301,
   "metadata": {},
   "outputs": [],
   "source": [
    "def f19(s):\n",
    "    qual_dict = f11(s)\n",
    "    return sorted(qual_dict.items(), key=lambda x:x[1], reverse=True)"
   ]
  },
  {
   "cell_type": "code",
   "execution_count": 302,
   "metadata": {},
   "outputs": [
    {
     "data": {
      "text/plain": [
       "[(619772, 612.352),\n",
       " (619574, 594.095),\n",
       " (619021, 352.245),\n",
       " (619913, 276.649),\n",
       " (619408, 207.722),\n",
       " (618159, 193.704),\n",
       " (619139, 137.482),\n",
       " (618851, 74.4613),\n",
       " (618854, 74.4613),\n",
       " (620807, 41.4442),\n",
       " (617614, 39.2648),\n",
       " (620045, 15.5734),\n",
       " (620299, 6.06919),\n",
       " (617804, 0.309945),\n",
       " (617959, 0.0608339),\n",
       " (620728, 0.0198511),\n",
       " (620004, 0.00524165),\n",
       " (620228, 0.000862681),\n",
       " (620381, 0.000501393),\n",
       " (620315, 0.00033417),\n",
       " (618911, 0.000288308),\n",
       " (620201, 5.61107e-05),\n",
       " (620459, 4.96425e-05),\n",
       " (620454, 4.25049e-05),\n",
       " (620214, 3.42253e-05),\n",
       " (620429, 2.46975e-05),\n",
       " (618428, 1.87498e-05),\n",
       " (620210, 1.63995e-05),\n",
       " (620414, 6.37073e-06)]"
      ]
     },
     "execution_count": 302,
     "metadata": {},
     "output_type": "execute_result"
    }
   ],
   "source": [
    "f19(a)"
   ]
  },
  {
   "cell_type": "markdown",
   "metadata": {},
   "source": [
    "## Άσκηση 20\n",
    "Έστω το string της άσκησης 10. Ποιο ζευγάρι από entries, έχει τη μικρότερη απόσταση μεταξύ τους; Απόσταση ορίζεται ως το απόλυτο της  διαφοράς του POS. "
   ]
  },
  {
   "cell_type": "code",
   "execution_count": 322,
   "metadata": {},
   "outputs": [
    {
     "name": "stdout",
     "output_type": "stream",
     "text": [
      "2 Closer entries (dist=3):\n",
      "chr19   618851  .       T       C       74.4613\n",
      "chr19   618854  .       G       A       74.4613\n"
     ]
    }
   ],
   "source": [
    "\n",
    "# 1os tropos\n",
    "def f20_1(s):\n",
    "    \n",
    "    entries = s.strip().split('\\n')[1:]\n",
    "    splitted = [x.split() for x in entries]\n",
    "    positions = [int(x[1]) for x in splitted]\n",
    "\n",
    "    def distance(i,j):\n",
    "        return abs(positions[i]-positions[j])\n",
    "    \n",
    "    #Get the closer positions\n",
    "\n",
    "    all_positions = []\n",
    "    for i in range(len(positions)):\n",
    "        for j in range(i+1, len(positions)):\n",
    "            all_positions.append((distance(i,j), (i,j)))\n",
    "    \n",
    "    closer = min(all_positions)\n",
    "    print ('2 Closer entries (dist={}):'.format(closer[0]))\n",
    "    print (entries[closer[1][0]])\n",
    "    print (entries[closer[1][1]])\n",
    "    \n",
    "f20_1(a)"
   ]
  },
  {
   "cell_type": "code",
   "execution_count": 324,
   "metadata": {},
   "outputs": [
    {
     "name": "stdout",
     "output_type": "stream",
     "text": [
      "2 Closer entries (dist=3):\n",
      "chr19   618851  .       T       C       74.4613\n",
      "chr19   618854  .       G       A       74.4613\n"
     ]
    }
   ],
   "source": [
    "# 2os tropos\n",
    "\n",
    "from itertools import combinations\n",
    "\n",
    "def f20_2(s):\n",
    "    \n",
    "    entries = s.strip().split('\\n')[1:]\n",
    "    splitted = [x.split() for x in entries]\n",
    "    positions = [int(x[1]) for x in splitted]\n",
    "\n",
    "    def distance(i,j):\n",
    "        return abs(positions[i]-positions[j])\n",
    "    \n",
    "    #Get the closer positions\n",
    "    closer = min((distance(i,j), (i,j)) for i,j in combinations(range(len(entries)), 2))\n",
    "\n",
    "    print ('2 Closer entries (dist={}):'.format(closer[0]))\n",
    "    print (entries[closer[1][0]])\n",
    "    print (entries[closer[1][1]])\n",
    "    \n",
    "f20_2(a)"
   ]
  }
 ],
 "metadata": {
  "kernelspec": {
   "display_name": "Python 3",
   "language": "python",
   "name": "python3"
  },
  "language_info": {
   "codemirror_mode": {
    "name": "ipython",
    "version": 3
   },
   "file_extension": ".py",
   "mimetype": "text/x-python",
   "name": "python",
   "nbconvert_exporter": "python",
   "pygments_lexer": "ipython3",
   "version": "3.7.0"
  }
 },
 "nbformat": 4,
 "nbformat_minor": 2
}
